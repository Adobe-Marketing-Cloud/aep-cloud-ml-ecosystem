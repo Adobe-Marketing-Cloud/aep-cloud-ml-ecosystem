{
 "cells": [
  {
   "cell_type": "markdown",
   "metadata": {},
   "source": [
    "# Generate Synthetic Data for Cloud ML Ecosystem tutorial\n",
    "\n",
    "This notebook generates sample data that can be used to illustrate the Cloud ML Ecosystem workflow for conecting AEP Data with external ML tools and platforms. We will generate sample data with the following steps:\n",
    "\n",
    "- [Setup](#setup)\n",
    "- [1. Create Experience Event schema and dataset](#1-create-experience-event-schema-and-dataset)\n",
    "- [2. Create Profile schema and dataset](#2-create-profile-schema-and-dataset)\n",
    "- [3. Statistical simulation of Experience Events](#3-statistical-simulation-of-profiles-and-experience-events)\n",
    "- [4. Ingest synthetic data into AEP dataset](#4-ingest-synthetic-data-into-aep-dataset)\n"
   ]
  },
  {
   "cell_type": "markdown",
   "metadata": {},
   "source": [
    "## Setup\n",
    "\n",
    "Before we run anything, make sure to install the following required libraries for this notebook. They are all publicly available libraries and the latest version should work fine."
   ]
  },
  {
   "cell_type": "code",
   "execution_count": null,
   "metadata": {},
   "outputs": [],
   "source": [
    "%pip install mmh3\n",
    "%pip install rstr\n",
    "%pip install aepp\n",
    "%pip install pygresql"
   ]
  },
  {
   "cell_type": "markdown",
   "metadata": {},
   "source": [
    "This notebook requires some configuration parameters to properly authenticate to your Adobe Experience Platform instance. Please follow the instructions in the [**README**](../README.md) to gather the necessary configuration parameters and prepare the [config.ini](../conf/config.ini) file with the specific values for your environment.\n",
    "\n",
    "The next cell will be looking for your configuration file under your **ADOBE_HOME** path to fetch the configuration values that will be used for this notebook. If necessary, modify the `config_path` and/or the `config_file` name to reflect the location of your config file. "
   ]
  },
  {
   "cell_type": "code",
   "execution_count": 1,
   "metadata": {},
   "outputs": [],
   "source": [
    "import os\n",
    "from configparser import ConfigParser\n",
    "import aepp\n",
    "\n",
    "os.environ[\"ADOBE_HOME\"] = os.path.dirname(os.getcwd())\n",
    "\n",
    "if \"ADOBE_HOME\" not in os.environ:\n",
    "    raise Exception(\"ADOBE_HOME environment variable needs to be set.\")\n",
    "\n",
    "config = ConfigParser()\n",
    "config_file = \"config.ini\"\n",
    "config_path = os.path.join(os.environ[\"ADOBE_HOME\"], \"conf\", config_file)\n",
    "\n",
    "if not os.path.exists(config_path):\n",
    "    raise Exception(f\"Looking for configuration under {config_path} but config not found, please verify path\")\n",
    "\n",
    "config.read(config_path)\n",
    "\n",
    "aepp.configure(\n",
    "  org_id=config.get(\"Platform\", \"ims_org_id\"),\n",
    "  tech_id=config.get(\"Authentication\", \"tech_acct_id\"), \n",
    "  secret=config.get(\"Authentication\", \"client_secret\"),\n",
    "  scopes=config.get(\"Authentication\", \"scopes\"),\n",
    "  client_id=config.get(\"Authentication\", \"client_id\"),\n",
    "  environment=config.get(\"Platform\", \"environment\"),\n",
    "  sandbox=config.get(\"Platform\", \"sandbox_name\")\n",
    ")"
   ]
  },
  {
   "cell_type": "markdown",
   "metadata": {},
   "source": [
    "To ensure uniqueness of resources created as part of this notebook, we are using your local username to include in each of the resource titles to avoid conflicts."
   ]
  },
  {
   "cell_type": "code",
   "execution_count": 2,
   "metadata": {},
   "outputs": [],
   "source": [
    "import re\n",
    "username = os.getlogin()\n",
    "unique_id = s = re.sub(\"[^0-9a-zA-Z]+\", \"_\", username)"
   ]
  },
  {
   "cell_type": "markdown",
   "metadata": {},
   "source": [
    "Helper function to generate link to resource in the UI:"
   ]
  },
  {
   "cell_type": "code",
   "execution_count": 3,
   "metadata": {},
   "outputs": [],
   "source": [
    "def get_ui_link(tenant_id, resource_type, resource_id):\n",
    "    environment = config.get(\"Platform\", \"environment\")\n",
    "    sandbox_name = config.get(\"Platform\", \"sandbox_name\")\n",
    "    if environment == \"prod\":\n",
    "        prefix = f\"https://experience.adobe.com\"\n",
    "    else:\n",
    "        prefix = f\"https://experience-{environment}.adobe.com\"\n",
    "    return f\"{prefix}/#/@{tenant_id}/sname:{sandbox_name}/platform/{resource_type}/{resource_id}\""
   ]
  },
  {
   "cell_type": "markdown",
   "metadata": {},
   "source": [
    "# 1. Create Experience Event schema and dataset\n",
    "\n",
    "We will now create the schema to support our synthetic event data. We need a few field groups which will be included in the synthetic event schema:\n",
    "- A custom field group with an identity field which we'll call `cmle_id`\n",
    "- Direct Marketing information\n",
    "- Web details"
   ]
  },
  {
   "cell_type": "markdown",
   "metadata": {},
   "source": [
    "## 1.1 Create connection to XDM Schema Registry\n",
    "\n",
    "We first instantiate a connection to the Schema Registry API, then retrieve the name of the sandbox we're working in and the tenant ID which we'll reference below"
   ]
  },
  {
   "cell_type": "code",
   "execution_count": 4,
   "metadata": {},
   "outputs": [
    {
     "name": "stdout",
     "output_type": "stream",
     "text": [
      "Sandbox: cmle-governance\n",
      "Tenant ID: cloudmlecosystem\n"
     ]
    }
   ],
   "source": [
    "from aepp import schema\n",
    "schema_conn = schema.Schema()\n",
    "print(f\"Sandbox: {schema_conn.sandbox}\")\n",
    "tenant_id = schema_conn.getTenantId()\n",
    "print(f\"Tenant ID: {tenant_id}\")"
   ]
  },
  {
   "cell_type": "markdown",
   "metadata": {},
   "source": [
    "## Create User ID field group for Experience Event Schema\n",
    "\n",
    "We need to create a custom field group with a `cmle_id` field to go in the experience event schema. Other schema fields will come from standard field field groups we will include when creating the schema.\n",
    "\n",
    "First we'll define a helper function to gracefully handle cases where the CMLE User ID field group has already been created:"
   ]
  },
  {
   "cell_type": "code",
   "execution_count": 5,
   "metadata": {},
   "outputs": [],
   "source": [
    "from aepp import utils\n",
    "\n",
    "def createFieldGroupifnotExists(\n",
    "        title: str, \n",
    "        data: dict, \n",
    "        config_path: str,\n",
    "        utils_conn: utils.Utils = utils.Utils(),\n",
    "        schema_conn: schema.Schema = schema.Schema()\n",
    "):\n",
    "    existing = utils_conn.check_if_exists('Synthetic', 'fieldgroup_id', config_path)\n",
    "    if existing:\n",
    "        print(f\"'{title}' already exists, retrieving existing field group\")\n",
    "        return schema_conn.getFieldGroup(existing)\n",
    "    else:\n",
    "        return schema_conn.createFieldGroup(data)"
   ]
  },
  {
   "cell_type": "markdown",
   "metadata": {},
   "source": [
    "Create (or get) the `CMLE User ID` field group, and update the config file with the field group ID"
   ]
  },
  {
   "cell_type": "code",
   "execution_count": 44,
   "metadata": {},
   "outputs": [
    {
     "name": "stdout",
     "output_type": "stream",
     "text": [
      "'[CMLE Synthetic Data] Exp Event User ID (created by jeremypage)' already exists, retrieving existing field group\n",
      "User ID field group ID: https://ns.adobe.com/cloudmlecosystem/mixins/39e2b833cb0d28e4b7bdae568972e44b3c46ca3114fac2aa\n",
      "View field group in UI: https://experience-stage.adobe.com/#/@cloudmlecosystem/sname:cmle-governance/platform/schema/mixin/browse/https%3A%2F%2Fns.adobe.com%2Fcloudmlecosystem%2Fmixins%2F39e2b833cb0d28e4b7bdae568972e44b3c46ca3114fac2aa\n"
     ]
    }
   ],
   "source": [
    "fieldgroup_title = f\"[CMLE Synthetic Data] Exp Event User ID (created by {username})\"\n",
    "fieldgroup_data = {\n",
    "  \"type\": \"object\",\n",
    "\t\"title\": fieldgroup_title,\n",
    "\t\"description\": \"This field group is used to identify the user to whom an experience event belongs.\",\n",
    "\t\"allOf\": [{\n",
    "\t\t\"$ref\": \"#/definitions/customFields\"\n",
    "\t}],\n",
    "\t\"meta:containerId\": \"tenant\",\n",
    "\t\"meta:resourceType\": \"mixins\",\n",
    "\t\"meta:xdmType\": \"object\",\n",
    "\t\"definitions\": {\n",
    "      \"customFields\": {\n",
    "        \"type\": \"object\",\n",
    "        \"properties\": {\n",
    "          f\"_{tenant_id}\": {\n",
    "            \"type\": \"object\",\n",
    "            \"properties\": {\n",
    "              \"cmle_id\": {\n",
    "                \"title\": \"CMLE User ID\",\n",
    "                \"description\": \"Person identifier for CMLE synthetic event data\",\n",
    "                \"type\": \"string\"\n",
    "              }\n",
    "            }\n",
    "          }\n",
    "        }\n",
    "      }\n",
    "\t},\n",
    "\t\"meta:intendedToExtend\": [\"https://ns.adobe.com/xdm/context/experienceevent\"]\n",
    "}\n",
    "\n",
    "fieldgroup_res = createFieldGroupifnotExists(fieldgroup_title, fieldgroup_data, config_path)\n",
    "fieldgroup_id = fieldgroup_res['$id']\n",
    "print(f\"User ID field group ID: {fieldgroup_id}\")\n",
    "\n",
    "# update config file and object\n",
    "utils_conn = utils.Utils()\n",
    "utils_conn.save_field_in_config('Synthetic', 'fieldgroup_id', fieldgroup_id, config_path)\n",
    "config.read(config_path)\n",
    "\n",
    "# Get link to field group in AEP UI\n",
    "import urllib.parse\n",
    "fieldgroup_link = get_ui_link(tenant_id, \"schema/mixin/browse\", urllib.parse.quote(fieldgroup_id, safe=\"a\"))\n",
    "print(f\"View field group in UI: {fieldgroup_link}\")"
   ]
  },
  {
   "cell_type": "markdown",
   "metadata": {},
   "source": [
    "## 1.2 Compose Experience Event schema\n",
    "\n",
    "Now we'll create the experience event schema from our custom field group and the following standard field groups:\n",
    "- Direct Marketing Details\n",
    "- Web Details\n",
    "\n",
    "As with the field group, we'll first define a helper function to gracefully handle cases where the Experience Event schema has already been created:"
   ]
  },
  {
   "cell_type": "code",
   "execution_count": 8,
   "metadata": {},
   "outputs": [],
   "source": [
    "def createSchemaifnotExists(\n",
    "        title: str, \n",
    "        fieldGroups: list[str], \n",
    "        config_field: str,\n",
    "        config_path: str,\n",
    "        description: str = \"\",\n",
    "        utils_conn: utils.Utils = utils.Utils(), \n",
    "        schema_conn: schema.Schema = schema.Schema()\n",
    "):\n",
    "    existing = utils_conn.check_if_exists('Synthetic', config_field, config_path)\n",
    "    if existing:\n",
    "        print(f\"'{title}' already exists, retrieving existing schema\")\n",
    "        return schema_conn.getSchema(existing)\n",
    "    else:\n",
    "        if config_field == \"events_schema\":\n",
    "            return schema_conn.createExperienceEventSchema(\n",
    "                name=title,\n",
    "                fieldGroupIds=fieldGroups,\n",
    "                description=description\n",
    "            )\n",
    "        elif config_field ==\"profile_schema\":\n",
    "            return schema_conn.createProfileSchema(\n",
    "                name=title,\n",
    "                fieldGroupIds=fieldGroups,\n",
    "                description=description\n",
    "            )"
   ]
  },
  {
   "cell_type": "markdown",
   "metadata": {},
   "source": [
    "Create (or get) the Experience Event schema and update the config file with its ID. We'll capture the ID and AltID in variables that we can reference further down, and generate a link to the schema in the AEP UI that you can use to verify that the schema was created."
   ]
  },
  {
   "cell_type": "code",
   "execution_count": 45,
   "metadata": {},
   "outputs": [
    {
     "name": "stdout",
     "output_type": "stream",
     "text": [
      "'[CMLE Synthetic Data] Experience Event schema (created by jeremypage)' already exists, retrieving existing schema\n",
      "EE Schema ID: https://ns.adobe.com/cloudmlecosystem/schemas/341fe0dfac189d3b1f52ed6e4661f5df7d86fbfa400d032b\n",
      "EE Schema Alt ID: _cloudmlecosystem.schemas.341fe0dfac189d3b1f52ed6e4661f5df7d86fbfa400d032b\n",
      "View EE schema in UI: https://experience-stage.adobe.com/#/@cloudmlecosystem/sname:cmle-governance/platform/schema/mixin/browse/https%3A%2F%2Fns.adobe.com%2Fcloudmlecosystem%2Fschemas%2F341fe0dfac189d3b1f52ed6e4661f5df7d86fbfa400d032b\n"
     ]
    }
   ],
   "source": [
    "schema_ee_title = f\"[CMLE Synthetic Data] Experience Event schema (created by {username})\"\n",
    "schema_ee_fgs = [\n",
    "    fieldgroup_id,\n",
    "    \"https://ns.adobe.com/xdm/context/experienceevent-directmarketing\",\n",
    "    \"https://ns.adobe.com/xdm/context/experienceevent-web\"\n",
    "]\n",
    "schema_ee_desc = \"Profile Schema generated by CMLE for synthetic events\"\n",
    "\n",
    "schema_ee_res = createSchemaifnotExists(\n",
    "    title=schema_ee_title,\n",
    "    fieldGroups=schema_ee_fgs,\n",
    "    config_field='events_schema',\n",
    "    config_path=config_path,\n",
    "    description=schema_ee_desc\n",
    ")\n",
    "schema_ee_id = schema_ee_res['$id']\n",
    "schema_ee_altId = schema_ee_res[\"meta:altId\"]\n",
    "print(f\"EE Schema ID: {schema_ee_id}\")\n",
    "print(f\"EE Schema Alt ID: {schema_ee_altId}\")\n",
    "\n",
    "# update config object\n",
    "utils_conn.save_field_in_config('Synthetic', 'events_schema', schema_ee_id, config_path)\n",
    "config.read(config_path)\n",
    "\n",
    "schema_ee_link = get_ui_link(tenant_id, \"schema/mixin/browse\", urllib.parse.quote(schema_ee_id, safe=\"a\"))\n",
    "print(f\"View EE schema in UI: {schema_ee_link}\")"
   ]
  },
  {
   "cell_type": "markdown",
   "metadata": {},
   "source": [
    "We need to set `cmle_id` as the primary ID for the events schema with ECID as the namespace. We do this by creating an identity descriptor in the schema registry:"
   ]
  },
  {
   "cell_type": "code",
   "execution_count": 13,
   "metadata": {},
   "outputs": [
    {
     "data": {
      "text/plain": [
       "{'@id': '1129c171c7496af51333c4693e78150c478bed87578a1303',\n",
       " '@type': 'xdm:descriptorIdentity',\n",
       " 'xdm:sourceSchema': 'https://ns.adobe.com/cloudmlecosystem/schemas/341fe0dfac189d3b1f52ed6e4661f5df7d86fbfa400d032b',\n",
       " 'xdm:sourceVersion': 1,\n",
       " 'xdm:sourceProperty': '/_cloudmlecosystem/cmle_id',\n",
       " 'imsOrg': '3ADF23C463D98F640A494032@AdobeOrg',\n",
       " 'version': '1',\n",
       " 'xdm:namespace': 'ECID',\n",
       " 'xdm:property': 'xdm:id',\n",
       " 'xdm:isPrimary': True,\n",
       " 'meta:containerId': '5465b808-1c2a-4420-a5b8-081c2aa4200c',\n",
       " 'meta:sandboxId': '5465b808-1c2a-4420-a5b8-081c2aa4200c',\n",
       " 'meta:sandboxType': 'production'}"
      ]
     },
     "execution_count": 13,
     "metadata": {},
     "output_type": "execute_result"
    }
   ],
   "source": [
    "identity_type = \"ECID\"\n",
    "identity_data_events = {\n",
    "            \"@type\": \"xdm:descriptorIdentity\",\n",
    "            \"xdm:sourceSchema\": schema_ee_id,\n",
    "            \"xdm:sourceVersion\": 1,\n",
    "            \"xdm:sourceProperty\": f\"/_{tenant_id}/cmle_id\",\n",
    "            \"xdm:namespace\": identity_type,\n",
    "            \"xdm:property\": \"xdm:id\",\n",
    "            \"xdm:isPrimary\": True\n",
    "        }\n",
    "identity_dsc_ee_res = schema_conn.createDescriptor(descriptorObj=identity_data_events)\n",
    "identity_dsc_ee_res"
   ]
  },
  {
   "cell_type": "markdown",
   "metadata": {},
   "source": [
    "With a primary identity set, we can now enable the events schema for the Profile service."
   ]
  },
  {
   "cell_type": "code",
   "execution_count": 14,
   "metadata": {},
   "outputs": [
    {
     "data": {
      "text/plain": [
       "{'$id': 'https://ns.adobe.com/cloudmlecosystem/schemas/341fe0dfac189d3b1f52ed6e4661f5df7d86fbfa400d032b',\n",
       " 'meta:altId': '_cloudmlecosystem.schemas.341fe0dfac189d3b1f52ed6e4661f5df7d86fbfa400d032b',\n",
       " 'meta:resourceType': 'schemas',\n",
       " 'version': '1.1',\n",
       " 'title': '[CMLE Synthetic Data] Experience Event schema (created by jeremypage)',\n",
       " 'type': 'object',\n",
       " 'description': 'Profile Schema generated by CMLE for synthetic events',\n",
       " 'allOf': [{'$ref': 'https://ns.adobe.com/xdm/context/experienceevent',\n",
       "   'type': 'object',\n",
       "   'meta:xdmType': 'object'},\n",
       "  {'$ref': 'https://ns.adobe.com/cloudmlecosystem/mixins/39e2b833cb0d28e4b7bdae568972e44b3c46ca3114fac2aa',\n",
       "   'type': 'object',\n",
       "   'meta:xdmType': 'object'},\n",
       "  {'$ref': 'https://ns.adobe.com/xdm/context/experienceevent-directmarketing',\n",
       "   'type': 'object',\n",
       "   'meta:xdmType': 'object'},\n",
       "  {'$ref': 'https://ns.adobe.com/xdm/context/experienceevent-web',\n",
       "   'type': 'object',\n",
       "   'meta:xdmType': 'object'}],\n",
       " 'refs': ['https://ns.adobe.com/xdm/context/experienceevent-directmarketing',\n",
       "  'https://ns.adobe.com/xdm/context/experienceevent-web',\n",
       "  'https://ns.adobe.com/xdm/context/experienceevent',\n",
       "  'https://ns.adobe.com/cloudmlecosystem/mixins/39e2b833cb0d28e4b7bdae568972e44b3c46ca3114fac2aa'],\n",
       " 'required': ['@id', 'xdm:timestamp'],\n",
       " 'imsOrg': '3ADF23C463D98F640A494032@AdobeOrg',\n",
       " 'additionalInfo': {'numberOfIdentities': 1,\n",
       "  'numberOfRelationShips': 0,\n",
       "  'classTitle': 'XDM ExperienceEvent',\n",
       "  'hasPrimaryIdentity': 'true',\n",
       "  'primaryIdentityNamespace': 'ECID',\n",
       "  'hasRelationShip': False,\n",
       "  'profileEnabled': True},\n",
       " 'meta:extensible': False,\n",
       " 'meta:abstract': False,\n",
       " 'meta:extends': ['https://ns.adobe.com/xdm/data/time-series',\n",
       "  'https://ns.adobe.com/xdm/context/experienceevent-directmarketing',\n",
       "  'https://ns.adobe.com/xdm/context/identitymap',\n",
       "  'https://ns.adobe.com/xdm/context/experienceevent-web',\n",
       "  'https://ns.adobe.com/xdm/context/experienceevent',\n",
       "  'https://ns.adobe.com/cloudmlecosystem/mixins/39e2b833cb0d28e4b7bdae568972e44b3c46ca3114fac2aa'],\n",
       " 'meta:xdmType': 'object',\n",
       " 'meta:registryMetadata': {'repo:createdDate': 1694727653074,\n",
       "  'repo:lastModifiedDate': 1694727675484,\n",
       "  'xdm:createdClientId': '544dec75abe84027aeb1cabfee48a132',\n",
       "  'xdm:lastModifiedClientId': '544dec75abe84027aeb1cabfee48a132',\n",
       "  'xdm:createdUserId': '832577C464ED21A50A49411B@techacct.adobe.com',\n",
       "  'xdm:lastModifiedUserId': '832577C464ED21A50A49411B@techacct.adobe.com',\n",
       "  'eTag': 'b0c51caa2ee250a70b65272cef4ba754555c113a69d37e2c16ea994fd8ddc9ee',\n",
       "  'meta:globalLibVersion': '1.43.3'},\n",
       " 'meta:class': 'https://ns.adobe.com/xdm/context/experienceevent',\n",
       " 'meta:containerId': '5465b808-1c2a-4420-a5b8-081c2aa4200c',\n",
       " 'meta:sandboxId': '5465b808-1c2a-4420-a5b8-081c2aa4200c',\n",
       " 'meta:sandboxType': 'production',\n",
       " 'meta:tenantNamespace': '_cloudmlecosystem',\n",
       " 'meta:immutableTags': ['union'],\n",
       " 'meta:descriptorStatus': {'result': []}}"
      ]
     },
     "execution_count": 14,
     "metadata": {},
     "output_type": "execute_result"
    }
   ],
   "source": [
    "enable_ee_res = schema_conn.enableSchemaForRealTime(schema_ee_altId)\n",
    "enable_ee_res"
   ]
  },
  {
   "cell_type": "markdown",
   "metadata": {},
   "source": [
    "## 1.3 Create Experience Event dataset\n",
    "\n",
    "With a schema defined for our events data, we'll now create a dataset to hold the data. As before, we will first define a helper function that checks whether the Experience Events dataset has already been created (specifically whether the events_dataset field is populated in the config) before attempting to create the new dataset. The function will return the ID of the events dataset if it already exists, otherwise it creates the new dataset and returns its ID."
   ]
  },
  {
   "cell_type": "code",
   "execution_count": 15,
   "metadata": {},
   "outputs": [],
   "source": [
    "from aepp import catalog\n",
    "\n",
    "def createDatasetifNotExists(\n",
    "        name: str, \n",
    "        schemaId: str,\n",
    "        config_field: str,\n",
    "        config_path: str,\n",
    "        profile: bool = False,\n",
    "        utils_conn: utils.Utils = utils.Utils(),\n",
    "        cat_conn: catalog.Catalog = catalog.Catalog()\n",
    "):\n",
    "    \n",
    "    existing = utils_conn.check_if_exists('Synthetic', config_field, config_path)\n",
    "    if existing:\n",
    "        print(f\"'{name}' already exists, retrieving existing dataset\")\n",
    "        return existing\n",
    "    else:\n",
    "        new_dataset = cat_conn.createDataSets(\n",
    "            name=name,\n",
    "            schemaId=schemaId,\n",
    "            profileEnabled=profile,\n",
    "            identityEnabled=profile\n",
    "        )\n",
    "        return new_dataset[0].split(\"/\")[-1]"
   ]
  },
  {
   "cell_type": "markdown",
   "metadata": {},
   "source": [
    "Create the Experience Event dataset and update the config file with the dataset ID"
   ]
  },
  {
   "cell_type": "code",
   "execution_count": 16,
   "metadata": {},
   "outputs": [
    {
     "name": "stdout",
     "output_type": "stream",
     "text": [
      "EE Dataset ID: 65037e059efa72289ee6dca1\n",
      "View EE Dataset in UI: https://experience-stage.adobe.com/#/@cloudmlecosystem/sname:cmle-governance/platform/dataset/browse/65037e059efa72289ee6dca1\n"
     ]
    }
   ],
   "source": [
    "dataset_ee_name = f\"[CMLE Synthetic Data] Experience Event dataset (created by {username})\"\n",
    "dataset_ee_id = createDatasetifNotExists(\n",
    "    name=dataset_ee_name,\n",
    "    schemaId=schema_ee_id,\n",
    "    config_field=\"events_dataset\",\n",
    "    config_path=config_path,\n",
    "    profile=True)\n",
    "print(f\"EE Dataset ID: {dataset_ee_id}\")\n",
    "\n",
    "# update config object\n",
    "utils_conn.save_field_in_config('Synthetic', 'events_dataset', dataset_ee_id, config_path)\n",
    "config.read(config_path)\n",
    "\n",
    "dataset_ee_link = get_ui_link(tenant_id, \"dataset/browse\", dataset_ee_id)\n",
    "print(f\"View EE Dataset in UI: {dataset_ee_link}\")"
   ]
  },
  {
   "cell_type": "markdown",
   "metadata": {},
   "source": [
    "Enable the events dataset for Profile\n",
    "<div class=\"alert alert-block alert-warning\">\n",
    "<b>Note:</b> After you do this step please go in the UI and click on the link above, if the profile toggle is not enabled please manually toggle the profile on\n",
    "</div>"
   ]
  },
  {
   "cell_type": "code",
   "execution_count": 17,
   "metadata": {},
   "outputs": [
    {
     "data": {
      "text/plain": [
       "['@/dataSets/65037e059efa72289ee6dca1']"
      ]
     },
     "execution_count": 17,
     "metadata": {},
     "output_type": "execute_result"
    }
   ],
   "source": [
    "\n",
    "cat_conn = catalog.Catalog()\n",
    "cat_conn.enableDatasetProfile(dataset_ee_id)"
   ]
  },
  {
   "cell_type": "markdown",
   "metadata": {},
   "source": [
    "# 2. Create Profile schema and dataset\n",
    "\n",
    "The Profile schema will include the following field groups:\n",
    "- Loyalty Details\n",
    "- Personal Contact Details\n",
    "- Demographic Details\n",
    "- User Account Details"
   ]
  },
  {
   "cell_type": "markdown",
   "metadata": {},
   "source": [
    "## 2.1 Create Profile schema"
   ]
  },
  {
   "cell_type": "code",
   "execution_count": 18,
   "metadata": {},
   "outputs": [],
   "source": [
    "# Set schema parameters\n",
    "schema_profile_title = f\"[CMLE Synthetic Data] Profile Schema (created by {username})\"\n",
    "schema_profile_fgs = [\n",
    "    'https://ns.adobe.com/xdm/mixins/profile/profile-loyalty-details',\n",
    "    'https://ns.adobe.com/xdm/context/profile-personal-details',\n",
    "    'https://ns.adobe.com/xdm/context/profile-person-details',\n",
    "    'https://ns.adobe.com/xdm/mixins/profile/profile-user-account-details'\n",
    "]\n",
    "schema_profile_desc = \"Profile Schema generated by CMLE\"\n",
    "\n",
    "schema_profile_res = createSchemaifnotExists(\n",
    "    title=schema_profile_title,\n",
    "    fieldGroups=schema_profile_fgs,\n",
    "    config_field=\"profile_schema\",\n",
    "    config_path=config_path,\n",
    "    description=schema_profile_desc\n",
    ")\n",
    "schema_profile_id = schema_profile_res['$id']\n",
    "schema_profile_altId = schema_profile_res[\"meta:altId\"]\n",
    "print(f\"Profile Schema ID: {schema_profile_id}\")\n",
    "print(f\"Profile Schema Alt ID: {schema_profile_altId}\")\n",
    "\n",
    "# update config object\n",
    "utils_conn.save_field_in_config('Synthetic', 'profile_schema', schema_profile_id, config_path)\n",
    "config.read(config_path)\n",
    "\n",
    "schema_profile_link = get_ui_link(tenant_id, \"schema/mixin/browse\", urllib.parse.quote(schema_profile_id, safe=\"a\"))\n",
    "print(f\"View Profile schema in UI: {schema_profile_link}\")"
   ]
  },
  {
   "cell_type": "markdown",
   "metadata": {},
   "source": [
    "Set `personID` as the primary ID for the schema with ECID as the namespace"
   ]
  },
  {
   "cell_type": "code",
   "execution_count": 20,
   "metadata": {},
   "outputs": [
    {
     "data": {
      "text/plain": [
       "{'@id': '4d4bfa8ee2013be1c029dc5f225e466e40633756217e681a',\n",
       " '@type': 'xdm:descriptorIdentity',\n",
       " 'xdm:sourceSchema': 'https://ns.adobe.com/cloudmlecosystem/schemas/b4f58df565776c3c3502390fb08e3c60655013fd9595e149',\n",
       " 'xdm:sourceVersion': 1,\n",
       " 'xdm:sourceProperty': '/personID',\n",
       " 'imsOrg': '3ADF23C463D98F640A494032@AdobeOrg',\n",
       " 'version': '1',\n",
       " 'xdm:namespace': 'ECID',\n",
       " 'xdm:property': 'xdm:id',\n",
       " 'xdm:isPrimary': True,\n",
       " 'meta:containerId': '5465b808-1c2a-4420-a5b8-081c2aa4200c',\n",
       " 'meta:sandboxId': '5465b808-1c2a-4420-a5b8-081c2aa4200c',\n",
       " 'meta:sandboxType': 'production'}"
      ]
     },
     "execution_count": 20,
     "metadata": {},
     "output_type": "execute_result"
    }
   ],
   "source": [
    "identity_property_profile = f\"/personID\"\n",
    "identity_dsc_profile_res = setPrimaryId(schema_profile_id, identity_property_profile, identity_type)\n",
    "identity_dsc_profile_res"
   ]
  },
  {
   "cell_type": "markdown",
   "metadata": {},
   "source": [
    "Enable the profile schema for Profile"
   ]
  },
  {
   "cell_type": "code",
   "execution_count": 21,
   "metadata": {},
   "outputs": [
    {
     "data": {
      "text/plain": [
       "{'$id': 'https://ns.adobe.com/cloudmlecosystem/schemas/b4f58df565776c3c3502390fb08e3c60655013fd9595e149',\n",
       " 'meta:altId': '_cloudmlecosystem.schemas.b4f58df565776c3c3502390fb08e3c60655013fd9595e149',\n",
       " 'meta:resourceType': 'schemas',\n",
       " 'version': '1.1',\n",
       " 'title': '[CMLE Synthetic Data] Profile Schema (created by jeremypage)',\n",
       " 'type': 'object',\n",
       " 'description': 'Profile Schema generated by CMLE',\n",
       " 'allOf': [{'$ref': 'https://ns.adobe.com/xdm/context/profile',\n",
       "   'type': 'object',\n",
       "   'meta:xdmType': 'object'},\n",
       "  {'$ref': 'https://ns.adobe.com/xdm/mixins/profile/profile-loyalty-details',\n",
       "   'type': 'object',\n",
       "   'meta:xdmType': 'object'},\n",
       "  {'$ref': 'https://ns.adobe.com/xdm/context/profile-personal-details',\n",
       "   'type': 'object',\n",
       "   'meta:xdmType': 'object'},\n",
       "  {'$ref': 'https://ns.adobe.com/xdm/context/profile-person-details',\n",
       "   'type': 'object',\n",
       "   'meta:xdmType': 'object'},\n",
       "  {'$ref': 'https://ns.adobe.com/xdm/mixins/profile/profile-user-account-details',\n",
       "   'type': 'object',\n",
       "   'meta:xdmType': 'object'}],\n",
       " 'refs': ['https://ns.adobe.com/xdm/mixins/profile/profile-loyalty-details',\n",
       "  'https://ns.adobe.com/xdm/context/profile-person-details',\n",
       "  'https://ns.adobe.com/xdm/context/profile-personal-details',\n",
       "  'https://ns.adobe.com/xdm/context/profile',\n",
       "  'https://ns.adobe.com/xdm/mixins/profile/profile-user-account-details'],\n",
       " 'imsOrg': '3ADF23C463D98F640A494032@AdobeOrg',\n",
       " 'additionalInfo': {'numberOfIdentities': 1,\n",
       "  'numberOfRelationShips': 0,\n",
       "  'classTitle': 'XDM Individual Profile',\n",
       "  'behavior': 'Record',\n",
       "  'hasPrimaryIdentity': 'true',\n",
       "  'primaryIdentityNamespace': 'ECID',\n",
       "  'hasRelationShip': False,\n",
       "  'profileEnabled': True},\n",
       " 'meta:extensible': False,\n",
       " 'meta:abstract': False,\n",
       " 'meta:extends': ['https://ns.adobe.com/xdm/mixins/profile/profile-loyalty-details',\n",
       "  'https://ns.adobe.com/xdm/context/profile-person-details',\n",
       "  'https://ns.adobe.com/xdm/context/profile-personal-details',\n",
       "  'https://ns.adobe.com/xdm/common/auditable',\n",
       "  'https://ns.adobe.com/xdm/data/record',\n",
       "  'https://ns.adobe.com/xdm/context/profile',\n",
       "  'https://ns.adobe.com/xdm/mixins/profile/profile-user-account-details'],\n",
       " 'meta:xdmType': 'object',\n",
       " 'meta:registryMetadata': {'repo:createdDate': 1694727790314,\n",
       "  'repo:lastModifiedDate': 1694727843651,\n",
       "  'xdm:createdClientId': '544dec75abe84027aeb1cabfee48a132',\n",
       "  'xdm:lastModifiedClientId': '544dec75abe84027aeb1cabfee48a132',\n",
       "  'xdm:createdUserId': '832577C464ED21A50A49411B@techacct.adobe.com',\n",
       "  'xdm:lastModifiedUserId': '832577C464ED21A50A49411B@techacct.adobe.com',\n",
       "  'eTag': 'f46053d80c457871763ff12e74b16d3dd8cdeaf47b8eaeabd3d3cdfb903bf4c8',\n",
       "  'meta:globalLibVersion': '1.43.3'},\n",
       " 'meta:class': 'https://ns.adobe.com/xdm/context/profile',\n",
       " 'meta:containerId': '5465b808-1c2a-4420-a5b8-081c2aa4200c',\n",
       " 'meta:sandboxId': '5465b808-1c2a-4420-a5b8-081c2aa4200c',\n",
       " 'meta:sandboxType': 'production',\n",
       " 'meta:tenantNamespace': '_cloudmlecosystem',\n",
       " 'meta:immutableTags': ['union'],\n",
       " 'meta:descriptorStatus': {'result': []}}"
      ]
     },
     "execution_count": 21,
     "metadata": {},
     "output_type": "execute_result"
    }
   ],
   "source": [
    "enable_profile_res = schema_conn.enableSchemaForRealTime(schema_profile_altId)\n",
    "enable_profile_res"
   ]
  },
  {
   "cell_type": "markdown",
   "metadata": {},
   "source": [
    "## 2.2 Create Profile dataset\n",
    "\n",
    "Create the Profile dataset and update the config file with the dataset ID"
   ]
  },
  {
   "cell_type": "code",
   "execution_count": 23,
   "metadata": {},
   "outputs": [
    {
     "name": "stdout",
     "output_type": "stream",
     "text": [
      "'[CMLE Synthetic Data] Profile dataset (created by jeremypage)' already exists, retrieving existing dataset\n",
      "Profile dataset ID: 65037eaec38564289e9a0f5e\n",
      "View Profile Dataset in UI: https://experience-stage.adobe.com/#/@cloudmlecosystem/sname:cmle-governance/platform/dataset/browse/65037eaec38564289e9a0f5e\n"
     ]
    }
   ],
   "source": [
    "dataset_profile_name = f\"[CMLE Synthetic Data] Profile dataset (created by {username})\"\n",
    "dataset_profile_id = createDatasetifNotExists(\n",
    "    name=dataset_profile_name,\n",
    "    schemaId=schema_profile_id,\n",
    "    config_field=\"profile_dataset\",\n",
    "    config_path=config_path,\n",
    "    profile=True)\n",
    "print(f\"Profile dataset ID: {dataset_profile_id}\")\n",
    "\n",
    "# update config object\n",
    "utils_conn.save_field_in_config('Synthetic', 'profile_dataset', dataset_profile_id, config_path)\n",
    "config.read(config_path)\n",
    "\n",
    "dataset_profile_link = get_ui_link(tenant_id, \"dataset/browse\", dataset_profile_id)\n",
    "print(f\"View Profile Dataset in UI: {dataset_profile_link}\")"
   ]
  },
  {
   "cell_type": "markdown",
   "metadata": {},
   "source": [
    "Enable dataset for Profile\n",
    "<div class=\"alert alert-block alert-warning\">\n",
    "<b>Note:</b> After you do this step please go in the UI and click on the link above, if the profile toggle is not enabled please manually toggle the profile on\n",
    "</div>"
   ]
  },
  {
   "cell_type": "code",
   "execution_count": 27,
   "metadata": {},
   "outputs": [
    {
     "data": {
      "text/plain": [
       "['@/dataSets/65037eaec38564289e9a0f5e']"
      ]
     },
     "execution_count": 27,
     "metadata": {},
     "output_type": "execute_result"
    }
   ],
   "source": [
    "cat_conn.enableDatasetProfile(dataset_profile_id)"
   ]
  },
  {
   "cell_type": "markdown",
   "metadata": {},
   "source": [
    "# 3. Statistical simulation of Profiles and Experience Events\n",
    "\n",
    "We will set up a statistical simulation to generate Experience event data that can be used illustrate the end-to-end flow of creating a propensity model to predict subscriptions to a brand's paid service.\n",
    "\n",
    "We will use the standard `web.formFilledOut` event type to represent the subscription conversions that the brand wants to predict, and generate similulated sequences of various types of experience events along with the target subscription conversions that will be used to train a propensity model."
   ]
  },
  {
   "cell_type": "markdown",
   "metadata": {},
   "source": [
    "## 3.1 Event types and their contribution to propensity\n"
   ]
  },
  {
   "cell_type": "code",
   "execution_count": 28,
   "metadata": {},
   "outputs": [],
   "source": [
    "import random, string\n",
    "import uuid\n",
    "from datetime import timedelta\n",
    "import mmh3\n",
    "from random import randrange"
   ]
  },
  {
   "cell_type": "markdown",
   "metadata": {},
   "source": [
    "First, we'll define some events, their frequencies, and dependencies between the events"
   ]
  },
  {
   "cell_type": "code",
   "execution_count": 29,
   "metadata": {},
   "outputs": [],
   "source": [
    "advertising_events = {\n",
    " \n",
    "    #eventType          : (weeklyAverageOccurrence, propensityDelta, [(field_to_replace, value)], timeInHoursFromDependent)\n",
    "    \"advertising.clicks\": (0.01,                    0.002,            [(\"advertising/clicks/value\", 1.0)], 0.5) , \n",
    "    \"advertising.impressions\": (0.1, 0.001, [(\"advertising/impressions/value\", 1.0)], 0),\n",
    "\n",
    "    \"web.webpagedetails.pageViews\": (0.1, 0.005, [(\"web/webPageDetails/pageViews/value\", 1.0)], 0.1),\n",
    "    \"web.webinteraction.linkClicks\": (0.05, 0.005, [(\"web/webInteraction/linkClicks/value\", 1.0)], 0.1),\n",
    "   \n",
    "    \n",
    "    \"commerce.productViews\": (0.05, 0.005, [(\"commerce/productViews/value\", 1.0)], 0.2),\n",
    "    \"commerce.purchases\": (0.01, 0.1, [(\"commerce/purchases/value\", 1.0)], 1),\n",
    "    \n",
    "    \n",
    "    \"decisioning.propositionDisplay\": (0.05, 0.005, [(\"_experience/decisioning/propositionEventType/display\", 1)], 0.1),\n",
    "    \"decisioning.propositionInteract\": (0.01, 0.1, [(\"_experience/decisioning/propositionEventType/interact\", 1)], 0.05),\n",
    "    \"decisioning.propositionDismiss\": (0.01, -0.2, [(\"_experience/decisioning/propositionEventType/dismiss\", 1)], 0.05),\n",
    "\n",
    "    \n",
    "    \"directMarketing.emailOpened\": (0.2, 0.02, [(\"directMarketing/opens/value\", 1.0)], 24),\n",
    "    \"directMarketing.emailClicked\": (0.05, 0.1, [(\"directMarketing/clicks/value\", 1.0)], 0.5),\n",
    "    \"directMarketing.emailSent\": (0.5, 0.005, [(\"directMarketing/sends/value\", 1.0)], 0),\n",
    "    \n",
    "    \"web.formFilledOut\": (0.0, 0.0, [(\"web/webPageDetails/name\", \"subscriptionForm\")], 0),\n",
    "\n",
    "}\n",
    "\n",
    "event_dependencies = {\n",
    "    \"advertising.impressions\": [\"advertising.clicks\"],\n",
    "    \"directMarketing.emailSent\": [\"directMarketing.emailOpened\"],\n",
    "    \"directMarketing.emailOpened\": [\"directMarketing.emailClicked\"],\n",
    "    \"directMarketing.emailClicked\": [\"web.webpagedetails.pageViews\"],\n",
    "    \"web.webpagedetails.pageViews\": [\"web.webinteraction.linkClicks\", \"commerce.productViews\", \"decisioning.propositionDisplay\"],\n",
    "    \"commerce.productViews\": [\"commerce.purchases\"],\n",
    "    \"decisioning.propositionDisplay\": [\"decisioning.propositionInteract\", \"decisioning.propositionDismiss\"]\n",
    "    \n",
    "}"
   ]
  },
  {
   "cell_type": "markdown",
   "metadata": {},
   "source": [
    "Next, define a helper function for assigning random dates to the event slater in the simulation."
   ]
  },
  {
   "cell_type": "code",
   "execution_count": 30,
   "metadata": {},
   "outputs": [],
   "source": [
    "import numpy as np\n",
    "from datetime import datetime\n",
    "\n",
    "def random_date(start, end):\n",
    "    \"\"\"\n",
    "    This function will return a random datetime between two datetime \n",
    "    objects.\n",
    "    \"\"\"\n",
    "    delta = end - start\n",
    "    int_delta = (delta.days * 24 * 60 * 60) + delta.seconds\n",
    "    random_second = randrange(int_delta)\n",
    "    return start + timedelta(seconds=random_second)"
   ]
  },
  {
   "cell_type": "markdown",
   "metadata": {},
   "source": [
    "## 3.2 Event generation process"
   ]
  },
  {
   "cell_type": "markdown",
   "metadata": {},
   "source": [
    "### 3.2.1 Define the logic for generating raw event data"
   ]
  },
  {
   "cell_type": "code",
   "execution_count": 31,
   "metadata": {},
   "outputs": [],
   "source": [
    "\n",
    "def create_data_for_n_users(n_users, first_user):\n",
    "  \n",
    "  N_USERS = n_users\n",
    "  FIRST_USER = first_user\n",
    "  \n",
    "  N_WEEKS = 10\n",
    "  GLOBAL_START_DATE = datetime.now() - timedelta(weeks=12)\n",
    "  GLOBAL_END_DATE = GLOBAL_START_DATE + timedelta(weeks=N_WEEKS)\n",
    "\n",
    "  events = []\n",
    "\n",
    "  for user in range(N_USERS):\n",
    "        user_id = FIRST_USER + user\n",
    "        user_events = []\n",
    "        base_events = {}\n",
    "        for event_type in [\"advertising.impressions\", \"web.webpagedetails.pageViews\", \"directMarketing.emailSent\"]:\n",
    "            n_events = np.random.poisson(advertising_events[event_type][0] * N_WEEKS)\n",
    "            times = []\n",
    "            for _ in range(n_events):\n",
    "                #times.append(random_date(GLOBAL_START_DATE, GLOBAL_END_DATE)\n",
    "                times.append(random_date(GLOBAL_START_DATE, GLOBAL_END_DATE).isoformat())\n",
    "\n",
    "            base_events[event_type] = times\n",
    "\n",
    "        for event_type, dependent_event_types in event_dependencies.items():\n",
    "\n",
    "            if event_type in base_events:\n",
    "                #for each originating event\n",
    "                for event_time in base_events[event_type]:\n",
    "                    #Look for possible later on events\n",
    "                    for dependent_event in dependent_event_types:\n",
    "                                n_events = np.random.poisson(advertising_events[dependent_event][0] * N_WEEKS)\n",
    "                                times = []\n",
    "                                for _ in range(n_events):\n",
    "                                    #times.append(event_time + timedelta(hours = np.random.exponential(advertising_events[dependent_event][3])))\n",
    "                                    new_time = datetime.fromisoformat(event_time) + timedelta(hours = np.random.exponential(advertising_events[dependent_event][3]))\n",
    "                                    times.append(new_time.isoformat())\n",
    "                                base_events[dependent_event] = times\n",
    "\n",
    "\n",
    "        for event_type, times in base_events.items():\n",
    "            for time in times:\n",
    "                user_events.append({\"cmle_id\": user_id, \"eventType\": event_type, \"timestamp\": time})\n",
    "\n",
    "        user_events = sorted(user_events, key = lambda x: (x[\"cmle_id\"], x[\"timestamp\"]))\n",
    "\n",
    "\n",
    "        cumulative_probability = 0.001\n",
    "        subscribed = False\n",
    "        for event in user_events:\n",
    "            cumulative_probability = min(1.0, max(cumulative_probability + advertising_events[event[\"eventType\"]][1], 0))\n",
    "            event[\"subscriptionPropensity\"] = cumulative_probability\n",
    "            if subscribed == False and \"directMarketing\" not in event[\"eventType\"] and \"advertising\" not in event[\"eventType\"]:\n",
    "                subscribed = np.random.binomial(1, cumulative_probability) > 0\n",
    "                if subscribed:\n",
    "                    subscriptiontime = (datetime.fromisoformat(event[\"timestamp\"]) + timedelta(seconds = 60)).isoformat()\n",
    "                    #subscriptiontime = event[\"timestamp\"] + timedelta(seconds = 60)\n",
    "                    user_events.append({\"cmle_id\": user_id, \"eventType\": \"web.formFilledOut\",  \"timestamp\": subscriptiontime})\n",
    "            event[\"subscribed\"] = subscribed\n",
    "        user_events = sorted(user_events, key = lambda x: (x[\"cmle_id\"], x[\"timestamp\"]))\n",
    "\n",
    "        events = events + user_events\n",
    "  return events"
   ]
  },
  {
   "cell_type": "markdown",
   "metadata": {},
   "source": [
    "### 3.2.1 Define functions to translate raw event data into XDM format that can be ingested into our events dataset\n",
    "\n",
    "First some helper functions to generate ECID values:"
   ]
  },
  {
   "cell_type": "code",
   "execution_count": 32,
   "metadata": {},
   "outputs": [],
   "source": [
    "def normalize_ecid(ecid_part):\n",
    "    ecid_part_str = str(abs(ecid_part))\n",
    "    if len(ecid_part_str) != 19:\n",
    "        ecid_part_str = \"\".join([str(x) for x in range(\n",
    "            0, 19 - len(ecid_part_str))]) + ecid_part_str\n",
    "    return ecid_part_str\n",
    "\n",
    "def get_ecid(user_id):\n",
    "    \"\"\"\n",
    "    The ECID must be two valid 19 digit longs concatenated together\n",
    "    \"\"\"\n",
    "    email = f\"synthetic-user-{user_id}@adobe.com\"\n",
    "    ecidpart1, ecidpart2 = mmh3.hash64(email)\n",
    "    ecid1, ecid2 = (normalize_ecid(ecidpart1), normalize_ecid(ecidpart2))\n",
    "    return ecid1 + ecid2"
   ]
  },
  {
   "cell_type": "markdown",
   "metadata": {},
   "source": [
    "Next, define functions that generate an XDM json-formatted event payload for each raw event. We'll define two functions, one for transforming email-related events and another for transforming web-related events. Then a final function `create_xdm_event` which combines the two with logic to apply the appropriate function."
   ]
  },
  {
   "cell_type": "code",
   "execution_count": 34,
   "metadata": {},
   "outputs": [],
   "source": [
    "# Define the data that goes into an email event payload\n",
    "def create_email_event(user_id, event_type, timestamp):\n",
    "  \"\"\"\n",
    "  Combines previous methods to create various type of email events\n",
    "  \"\"\"\n",
    "  \n",
    "  if event_type == \"directMarketing.emailSent\":\n",
    "    directMarketing = {\"emailDelivered\": {\"value\": 1.0}, \n",
    "                       \"sends\": {\"value\": 1.0}, \n",
    "                       \"emailVisitorID\": user_id,\n",
    "                       \"hashedEmail\": ''.join(random.choices(string.ascii_letters + string.digits, k=10)),\n",
    "                       \"messageID\": str(uuid.uuid4()),\n",
    "                      }\n",
    "  elif event_type == \"directMarketing.emailOpened\":\n",
    "    directMarketing = {\"offerOpens\": {\"value\": 1.0}, \n",
    "                     \"opens\": {\"value\": 1.0}, \n",
    "                     \"emailVisitorID\": user_id,\n",
    "                     \"messageID\": str(uuid.uuid4()),\n",
    "                    }\n",
    "  elif event_type == \"directMarketing.emailClicked\":\n",
    "    directMarketing = {\"clicks\": {\"value\": 1.0}, \n",
    "                     \"offerOpens\": {\"value\": 1.0}, \n",
    "                     \"emailVisitorID\": user_id,\n",
    "                     \"messageID\": str(uuid.uuid4()),\n",
    "                    }\n",
    "  return {\n",
    "    \"directMarketing\": directMarketing,\n",
    "    \"web\": None,\n",
    "    \"_id\": str(uuid.uuid4()),\n",
    "    \"eventMergeId\": None,\n",
    "    \"eventType\": event_type,\n",
    "    f\"_{tenant_id}\": {\"cmle_id\":get_ecid(user_id)},\n",
    "    \"producedBy\": \"databricks-synthetic\",\n",
    "    \"timestamp\": timestamp\n",
    "  }"
   ]
  },
  {
   "cell_type": "code",
   "execution_count": 35,
   "metadata": {},
   "outputs": [],
   "source": [
    "# Define the data that goes into a web event payload \n",
    "def create_web_event(user_id, event_type, timestamp):\n",
    "  \"\"\"\n",
    "  Combines previous methods to creat various type of web events\n",
    "  \"\"\"\n",
    "  url = f\"http://www.{''.join(random.choices(string.ascii_letters + string.digits, k=5))}.com\"\n",
    "  ref_url = f\"http://www.{''.join(random.choices(string.ascii_letters + string.digits, k=5))}.com\"\n",
    "  name = ''.join(random.choices(string.ascii_letters + string.digits, k=5))\n",
    "  isHomePage = random.choice([True, False])\n",
    "  server = ''.join(random.choices(string.ascii_letters + string.digits, k=10))\n",
    "  site_section = ''.join(random.choices(string.ascii_letters, k=2))\n",
    "  view_name = ''.join(random.choices(string.ascii_letters, k=3))\n",
    "  region = ''.join(random.choices(string.ascii_letters + string.digits, k=5))\n",
    "  interaction_type = random.choice([\"download\", \"exit\", \"other\"])\n",
    "  web_referrer = random.choice([\"internal\", \"external\", \"search_engine\", \"email\", \"social\", \"unknown\", \"usenet\", \"typed_bookmarked\"])\n",
    "  base_web = {\"webInteraction\": {\"linkClicks\": {\"value\": 0.0}, \n",
    "                                 \"URL\": url, \n",
    "                                 \"name\": name,\n",
    "                                \"region\": region,\n",
    "                                \"type\": interaction_type},\n",
    "              \"webPageDetails\": {\"pageViews\": {\"value\": 1.0},\n",
    "                                 \"URL\": url,\n",
    "                                 \"isErrorPage\": False,\n",
    "                                 #\"isHomepage\": isHomePage,\n",
    "                                 \"name\": name,\n",
    "                                 \"server\": server,\n",
    "                                 \"siteSection\": site_section,\n",
    "                                 \"viewName\": view_name\n",
    "                                },\n",
    "              \"webReferrer\": {\n",
    "                \"URL\": ref_url,\n",
    "                \"type\": web_referrer\n",
    "              }\n",
    "             }\n",
    "  if event_type in [\"advertising.clicks\", \"commerce.purchases\", \"web.webinteraction.linkClicks\", \"web.formFilledOut\", \n",
    "                   \"decisioning.propositionInteract\", \"decisioning.propositionDismiss\"]:\n",
    "    base_web[\"webInteraction\"][\"linkClicks\"][\"value\"] = 1.0\n",
    "\n",
    "  return {\n",
    "    \"directMarketing\": None,\n",
    "    \"web\": base_web,\n",
    "    \"_id\": str(uuid.uuid4()),\n",
    "    \"eventMergeId\": None,\n",
    "    \"eventType\": event_type,\n",
    "    f\"_{tenant_id}\": {\"cmle_id\":get_ecid(user_id)},\n",
    "    \"producedBy\": \"databricks-synthetic\",\n",
    "    \"timestamp\": timestamp\n",
    "  }"
   ]
  },
  {
   "cell_type": "code",
   "execution_count": 36,
   "metadata": {},
   "outputs": [],
   "source": [
    "    \n",
    "def create_xdm_event(user_id, event_type, timestamp):\n",
    "  \"\"\"\n",
    "  The final 'event factory' method that converts an event into an XDM event\n",
    "  \"\"\"\n",
    "  if \"directMarketing\" in event_type:\n",
    "    return create_email_event(user_id, event_type, timestamp)\n",
    "  else: \n",
    "    return create_web_event(user_id, event_type, timestamp)"
   ]
  },
  {
   "cell_type": "markdown",
   "metadata": {},
   "source": [
    "And finally, we define a function that combines the above functions to generate a batch of events corresponding to *n* users:"
   ]
  },
  {
   "cell_type": "code",
   "execution_count": 37,
   "metadata": {},
   "outputs": [],
   "source": [
    "def createEventsBatch(n_users, first_user):\n",
    "    batch_events = create_data_for_n_users(n_users, first_user)\n",
    "    batch_data = [create_xdm_event(x[\"cmle_id\"], x[\"eventType\"], x[\"timestamp\"]) for x in batch_events]\n",
    "    return batch_data"
   ]
  },
  {
   "cell_type": "markdown",
   "metadata": {},
   "source": [
    "## 3.3 Profile generation\n",
    "\n",
    "We'll define a similar (but much simpler!) function that generates a batch of profiles in XDM json format that we can use to populate the Profile dataset"
   ]
  },
  {
   "cell_type": "code",
   "execution_count": 38,
   "metadata": {},
   "outputs": [],
   "source": [
    "import mimesis\n",
    "import time\n",
    "def createProfilesBatch(n_users, first_user):\n",
    "\n",
    "    N_USERS = n_users\n",
    "    FIRST_USER = first_user\n",
    "    u = 'u' + str(int(time.time()))\n",
    "\n",
    "    field = mimesis.Field(mimesis.Locale.EN)\n",
    "    profile_schema = mimesis.Schema(\n",
    "        schema=lambda: {\n",
    "            \"personID\": get_ecid(FIRST_USER + field(\"increment\", accumulator=u) - 1),\n",
    "            \"person\": {\n",
    "                \"name\": {\n",
    "                    \"firstName\": field(\"first_name\"),\n",
    "                    \"lastName\": field(\"last_name\")\n",
    "                },\n",
    "                \"gender\": field(\"choice\", items=['male', 'female', 'not_specified'])\n",
    "            },\n",
    "            \"personalEmail\": {\n",
    "                \"address\": field(\"email\", domains=[\"emailsim.io\"]),\n",
    "            },\n",
    "            \"mobilePhone\": {\n",
    "                \"number\": field(\"telephone\", mask=\"###-###-####\")\n",
    "            },\n",
    "            \"homeAddress\": {\n",
    "                \"street1\": field(\"address\"),\n",
    "                \"city\": field(\"city\"),\n",
    "                \"state\": field(\"state\", abbr=True),\n",
    "                \"postalCode\": field(\"postal_code\")\n",
    "            },\n",
    "            \"loyalty\": {\n",
    "                \"loyaltyID\": [field(\"integer_number\", start=5000000, end=6000000)],\n",
    "                \"tier\": field(\"choice\", items=[\"diamond\", \"platinum\", \"gold\", \"silver\", \"member\"]),\n",
    "                \"points\": field(\"integer_number\", start=0, end=1000000), \n",
    "                \"joinDate\": field(\"datetime\", start=2000, end=2023).strftime(\"%Y-%m-%dT%H:%M:%SZ\")\n",
    "            }\n",
    "        },\n",
    "        iterations=N_USERS\n",
    "    )\n",
    "    return profile_schema.create()"
   ]
  },
  {
   "cell_type": "markdown",
   "metadata": {},
   "source": [
    "# 4. Ingest synthetic data into AEP dataset\n",
    "\n",
    "We'll now use the functions defined above to simulate sequences of Experience Events and Profile records for a number of users, then ingest the simulated data into the corresponding datasets we create above.\n",
    "\n",
    "For each batch, we will:\n",
    "1. Generate a batch of events using the `createEventsBatch` function, and ingest the batch into the events dataset (using the `ingestBatch` helper function defined below)\n",
    "2. Generate a batch of profiles using the `createProfilesBatch` function, and ingest the batch into the profile dataset\n",
    "\n",
    "First we'll create a connection to the AEP batch ingestion API:"
   ]
  },
  {
   "cell_type": "code",
   "execution_count": 39,
   "metadata": {},
   "outputs": [],
   "source": [
    "from aepp import ingestion\n",
    "ingest_conn = ingestion.DataIngestion()"
   ]
  },
  {
   "cell_type": "markdown",
   "metadata": {},
   "source": [
    "Define a helper function to combine the steps involved in ingesting a batch of data into a dataset:"
   ]
  },
  {
   "cell_type": "code",
   "execution_count": 40,
   "metadata": {},
   "outputs": [],
   "source": [
    "def ingestBatch(\n",
    "        ingest_conn: ingestion.DataIngestion,\n",
    "        dataset_id: str,\n",
    "        data: list[dict]):\n",
    "    # Initialize batch creation\n",
    "    batch_res = ingest_conn.createBatch(\n",
    "        datasetId = dataset_id\n",
    "    )\n",
    "    batch_id = batch_res[\"id\"]\n",
    "    # Upload data\n",
    "    file_path = f\"batch-synthetic-{batch_id}\"\n",
    "    ingest_conn.uploadSmallFile(\n",
    "        batchId = batch_id,\n",
    "        datasetId = dataset_id,\n",
    "        filePath = file_path,\n",
    "        data = data\n",
    "    )\n",
    "    # Complete the batch\n",
    "    ingest_conn.uploadSmallFileFinish(\n",
    "        batchId = batch_id\n",
    "    )\n",
    "    return batch_id"
   ]
  },
  {
   "cell_type": "markdown",
   "metadata": {},
   "source": [
    "Define another function that encapsulates the process we defined above for each batch. If you want to populate data for only the events dataset or only the profile dataset, you can leave the id for the other dataset blank."
   ]
  },
  {
   "cell_type": "code",
   "execution_count": 41,
   "metadata": {},
   "outputs": [],
   "source": [
    "\n",
    "def ingestSyntheticBatches(\n",
    "        ingest_conn: ingestion.DataIngestion,\n",
    "        n_users: int = 10000,\n",
    "        n_batches: int = 10,\n",
    "        event_dataset_id: str = None,\n",
    "        profile_dataset_id: str = None\n",
    "):\n",
    "    if event_dataset_id is None and profile_dataset_id is None:\n",
    "        raise AttributeError('At least one of \"event_dataset_id\" or \"profile_dataset_id\" must be provided')\n",
    "    event_batch_ids = []\n",
    "    profile_batch_ids = []\n",
    "    for b in range(n_batches):\n",
    "        first_user = b * n_users\n",
    "        if event_dataset_id is not None:\n",
    "            event_batch = createEventsBatch(n_users, first_user)\n",
    "            event_batch_id = ingestBatch(ingest_conn, event_dataset_id, event_batch)\n",
    "            print(f\"Processing events batch {b + 1}/{n_batches} with ID {event_batch_id}\")\n",
    "            event_batch_ids.append(event_batch_id)\n",
    "        if profile_dataset_id is not None:\n",
    "            profile_batch = createProfilesBatch(n_users, first_user)\n",
    "            profile_batch_id = ingestBatch(ingest_conn, profile_dataset_id, profile_batch)\n",
    "            print(f\"Processing profiles batch {b + 1}/{n_batches} with ID {profile_batch_id}\")\n",
    "            profile_batch_ids.append(profile_batch_id)\n",
    "    return (event_batch_ids, profile_batch_ids)\n"
   ]
  },
  {
   "cell_type": "markdown",
   "metadata": {},
   "source": [
    "Finally, we'll use the `ingestSyntheticBatches` function to generate and ingest data for the desired number of batches and batch size:"
   ]
  },
  {
   "cell_type": "code",
   "execution_count": 42,
   "metadata": {},
   "outputs": [
    {
     "name": "stdout",
     "output_type": "stream",
     "text": [
      "Processing events batch 1/10 with ID 01HAATT3ZXVDH8NC18PKGBH051\n",
      "Processing profiles batch 1/10 with ID 01HAATTDMECRY9RD7FRFCDYNDK\n",
      "Processing events batch 2/10 with ID 01HAATV3FJ258GGH5799VGH9ED\n",
      "Processing profiles batch 2/10 with ID 01HAATVKZCFHAZZGXBS39WXPTS\n",
      "Processing events batch 3/10 with ID 01HAATW2HSS07TMEN1W9FHP6C7\n",
      "Processing profiles batch 3/10 with ID 01HAATWEFAJT8573NMBCNSPD7N\n",
      "Processing events batch 4/10 with ID 01HAATWXF0ST70WJT8H6WMG776\n",
      "Processing profiles batch 4/10 with ID 01HAATXABMKC1NQ4DBV0AX8SEM\n",
      "Processing events batch 5/10 with ID 01HAATXTF1T8Y572WRGZPK3CRX\n",
      "Processing profiles batch 5/10 with ID 01HAATYFZ1VXBSQK9FG1FEEKKK\n",
      "Processing events batch 6/10 with ID 01HAATZ1XQHJ9RTZBTSHJM23K0\n",
      "Processing profiles batch 6/10 with ID 01HAATZM2RPX0KDFX2SHBBKKN1\n",
      "Processing events batch 7/10 with ID 01HAAV01WM3Y57252DZXTYBBCF\n",
      "Processing profiles batch 7/10 with ID 01HAAV0CAZKVCMN5JM7AJHG3QY\n",
      "Processing events batch 8/10 with ID 01HAAV0T9S07NRKT7FWART0AR2\n",
      "Processing profiles batch 8/10 with ID 01HAAV17YZQ4D86WZSZDJNCW7Y\n",
      "Processing events batch 9/10 with ID 01HAAV1P5JBGY1YB46YJ91X892\n",
      "Processing profiles batch 9/10 with ID 01HAAV27F3ZMJ5TFYR1JC1RMCC\n",
      "Processing events batch 10/10 with ID 01HAAV2TXKGQEXK527MFBZ3PSW\n"
     ]
    },
    {
     "ename": "KeyError",
     "evalue": "'id'",
     "output_type": "error",
     "traceback": [
      "\u001b[0;31m---------------------------------------------------------------------------\u001b[0m",
      "\u001b[0;31mKeyError\u001b[0m                                  Traceback (most recent call last)",
      "Cell \u001b[0;32mIn[42], line 4\u001b[0m\n\u001b[1;32m      1\u001b[0m num_batches \u001b[39m=\u001b[39m \u001b[39m10\u001b[39m\n\u001b[1;32m      2\u001b[0m batch_size \u001b[39m=\u001b[39m \u001b[39m10000\u001b[39m\n\u001b[0;32m----> 4\u001b[0m event_batches, profile_batches \u001b[39m=\u001b[39m ingestSyntheticBatches(\n\u001b[1;32m      5\u001b[0m     ingest_conn\u001b[39m=\u001b[39;49mingest_conn,\n\u001b[1;32m      6\u001b[0m     n_users\u001b[39m=\u001b[39;49mbatch_size,\n\u001b[1;32m      7\u001b[0m     n_batches\u001b[39m=\u001b[39;49mnum_batches,\n\u001b[1;32m      8\u001b[0m     event_dataset_id\u001b[39m=\u001b[39;49mdataset_ee_id,\n\u001b[1;32m      9\u001b[0m     profile_dataset_id\u001b[39m=\u001b[39;49mdataset_profile_id\n\u001b[1;32m     10\u001b[0m )\n\u001b[1;32m     11\u001b[0m \u001b[39mprint\u001b[39m(event_batches)\n\u001b[1;32m     12\u001b[0m \u001b[39mprint\u001b[39m(profile_batches)\n",
      "Cell \u001b[0;32mIn[41], line 21\u001b[0m, in \u001b[0;36mingestSyntheticBatches\u001b[0;34m(ingest_conn, n_users, n_batches, event_dataset_id, profile_dataset_id)\u001b[0m\n\u001b[1;32m     19\u001b[0m \u001b[39mif\u001b[39;00m profile_dataset_id \u001b[39mis\u001b[39;00m \u001b[39mnot\u001b[39;00m \u001b[39mNone\u001b[39;00m:\n\u001b[1;32m     20\u001b[0m     profile_batch \u001b[39m=\u001b[39m createProfilesBatch(n_users, first_user)\n\u001b[0;32m---> 21\u001b[0m     profile_batch_id \u001b[39m=\u001b[39m ingestBatch(ingest_conn, profile_dataset_id, profile_batch)\n\u001b[1;32m     22\u001b[0m     \u001b[39mprint\u001b[39m(\u001b[39mf\u001b[39m\u001b[39m\"\u001b[39m\u001b[39mProcessing profiles batch \u001b[39m\u001b[39m{\u001b[39;00mb\u001b[39m \u001b[39m\u001b[39m+\u001b[39m\u001b[39m \u001b[39m\u001b[39m1\u001b[39m\u001b[39m}\u001b[39;00m\u001b[39m/\u001b[39m\u001b[39m{\u001b[39;00mn_batches\u001b[39m}\u001b[39;00m\u001b[39m with ID \u001b[39m\u001b[39m{\u001b[39;00mprofile_batch_id\u001b[39m}\u001b[39;00m\u001b[39m\"\u001b[39m)\n\u001b[1;32m     23\u001b[0m     profile_batch_ids\u001b[39m.\u001b[39mappend(profile_batch_id)\n",
      "Cell \u001b[0;32mIn[40], line 9\u001b[0m, in \u001b[0;36mingestBatch\u001b[0;34m(ingest_conn, dataset_id, data)\u001b[0m\n\u001b[1;32m      1\u001b[0m \u001b[39mdef\u001b[39;00m \u001b[39mingestBatch\u001b[39m(\n\u001b[1;32m      2\u001b[0m         ingest_conn: ingestion\u001b[39m.\u001b[39mDataIngestion,\n\u001b[1;32m      3\u001b[0m         dataset_id: \u001b[39mstr\u001b[39m,\n\u001b[1;32m      4\u001b[0m         data: \u001b[39mlist\u001b[39m[\u001b[39mdict\u001b[39m]):\n\u001b[1;32m      5\u001b[0m     \u001b[39m# Initialize batch creation\u001b[39;00m\n\u001b[1;32m      6\u001b[0m     batch_res \u001b[39m=\u001b[39m ingest_conn\u001b[39m.\u001b[39mcreateBatch(\n\u001b[1;32m      7\u001b[0m         datasetId \u001b[39m=\u001b[39m dataset_id\n\u001b[1;32m      8\u001b[0m     )\n\u001b[0;32m----> 9\u001b[0m     batch_id \u001b[39m=\u001b[39m batch_res[\u001b[39m\"\u001b[39;49m\u001b[39mid\u001b[39;49m\u001b[39m\"\u001b[39;49m]\n\u001b[1;32m     10\u001b[0m     \u001b[39m# Upload data\u001b[39;00m\n\u001b[1;32m     11\u001b[0m     file_path \u001b[39m=\u001b[39m \u001b[39mf\u001b[39m\u001b[39m\"\u001b[39m\u001b[39mbatch-synthetic-\u001b[39m\u001b[39m{\u001b[39;00mbatch_id\u001b[39m}\u001b[39;00m\u001b[39m\"\u001b[39m\n",
      "\u001b[0;31mKeyError\u001b[0m: 'id'"
     ]
    }
   ],
   "source": [
    "num_batches = 10\n",
    "batch_size = 10000\n",
    "\n",
    "event_batches, profile_batches = ingestSyntheticBatches(\n",
    "    ingest_conn=ingest_conn,\n",
    "    n_users=batch_size,\n",
    "    n_batches=num_batches,\n",
    "    event_dataset_id=dataset_ee_id,\n",
    "    profile_dataset_id=dataset_profile_id\n",
    ")\n",
    "print(event_batches)\n",
    "print(profile_batches)"
   ]
  },
  {
   "cell_type": "markdown",
   "metadata": {},
   "source": [
    "**Note**: Batches are ingested asynchronously in AEP. It may take some time for all the data generated here to be available in your dataset depending on how your AEP organization has been provisioned. You can check ingestion status for all your batches in [the dataset page of your AEP UI](https://experience.adobe.com/#/@TENANT/sname:SANDBOX/platform/dataset/browse/DATASETID)\n",
    "\n",
    "You can also check the ingestion status from the notebook by running the following cell:"
   ]
  },
  {
   "cell_type": "code",
   "execution_count": 43,
   "metadata": {},
   "outputs": [
    {
     "name": "stdout",
     "output_type": "stream",
     "text": [
      "All batches have been ingested\n"
     ]
    }
   ],
   "source": [
    "from aepp import catalog\n",
    "import time\n",
    "cat_conn = catalog.Catalog()\n",
    "\n",
    "all_ingested = False\n",
    "while not all_ingested:\n",
    "  incomplete_batches = cat_conn.getBatches(\n",
    "    limit=min(100, num_batches),\n",
    "    n_results=num_batches,\n",
    "    output=\"dataframe\",\n",
    "    dataSet=dataset_profile_id,\n",
    "    status=\"staging\"\n",
    "  )\n",
    "  \n",
    "  num_incomplete_batches = len(incomplete_batches)\n",
    "  if num_incomplete_batches == 0:\n",
    "    print(\"All batches have been ingested\")\n",
    "    all_ingested = True\n",
    "  else:\n",
    "    print(f\"Remaining batches being ingested: {num_incomplete_batches}\")\n",
    "    time.sleep(30)"
   ]
  }
 ],
 "metadata": {
  "kernelspec": {
   "display_name": "cmle",
   "language": "python",
   "name": "python3"
  },
  "language_info": {
   "codemirror_mode": {
    "name": "ipython",
    "version": 3
   },
   "file_extension": ".py",
   "mimetype": "text/x-python",
   "name": "python",
   "nbconvert_exporter": "python",
   "pygments_lexer": "ipython3",
   "version": "3.11.5"
  },
  "orig_nbformat": 4
 },
 "nbformat": 4,
 "nbformat_minor": 2
}
