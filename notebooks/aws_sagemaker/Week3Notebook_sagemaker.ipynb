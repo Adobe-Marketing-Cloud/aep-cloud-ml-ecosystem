{
 "cells": [
  {
   "cell_type": "markdown",
   "id": "f3d7f4ee-1132-49de-a25c-6c7b7ecde31d",
   "metadata": {},
   "source": [
    "Welcome to the sagemaker integration for cmle, the goal of this notebook is to show you an example of how to featurize data that currently lives in the dlz and bring that data into the sagemaker environment.   The notebook simulates the equivalent of the original Week3 notebook by loading in custom jars that are necessary to launch a spark session and then initiate model training by running mlflow locally within the sagemaker environment.  The goal is to show how to launch mlflow within the sagemaker docker image that is used to run this notebook.  Fundamentally all other parts of the notebook stay the same as the original Week3 notebook."
   ]
  },
  {
   "cell_type": "markdown",
   "id": "a288e8fd-77b7-4013-9179-80236e57a7d2",
   "metadata": {},
   "source": [
    "First lets install some linux dependencies that are needed for java and other dependencies for the spark installation"
   ]
  },
  {
   "cell_type": "code",
   "execution_count": 2,
   "id": "83227133-3b78-4af3-86b6-8141f3ab52c5",
   "metadata": {
    "tags": []
   },
   "outputs": [
    {
     "name": "stdout",
     "output_type": "stream",
     "text": [
      "Hit:1 http://deb.debian.org/debian bullseye InRelease\n",
      "Get:2 http://deb.debian.org/debian bullseye-updates InRelease [44.1 kB]\n",
      "Get:3 http://security.debian.org/debian-security bullseye-security InRelease [48.4 kB]\n",
      "Get:4 http://deb.debian.org/debian bullseye-updates/main amd64 Packages.diff/Index [21.8 kB]\n",
      "Get:5 http://deb.debian.org/debian bullseye-updates/main amd64 Packages T-2023-09-14-2007.09-F-2023-08-26-1408.20.pdiff [1069 B]\n",
      "Get:5 http://deb.debian.org/debian bullseye-updates/main amd64 Packages T-2023-09-14-2007.09-F-2023-08-26-1408.20.pdiff [1069 B]\n",
      "Get:6 http://deb.debian.org/debian bullseye-updates/main amd64 Packages [17.5 kB]\n",
      "Get:7 http://security.debian.org/debian-security bullseye-security/main amd64 Packages [247 kB]\n",
      "Fetched 380 kB in 0s (1080 kB/s)33m0m\u001b[33m\n",
      "Reading package lists... Done\n",
      "Building dependency tree... Done\n",
      "Reading state information... Done\n",
      "154 packages can be upgraded. Run 'apt list --upgradable' to see them.\n",
      "Reading package lists... Done\n",
      "Building dependency tree... Done\n",
      "Reading state information... Done\n",
      "software-properties-common is already the newest version (0.96.20.2-2.1).\n",
      "0 upgraded, 0 newly installed, 0 to remove and 154 not upgraded.\n",
      "Reading package lists... Done\n",
      "Building dependency tree... Done\n",
      "Reading state information... Done\n",
      "default-jdk is already the newest version (2:1.11-72).\n",
      "0 upgraded, 0 newly installed, 0 to remove and 154 not upgraded.\n"
     ]
    }
   ],
   "source": [
    "!apt update -y\n",
    "!apt install software-properties-common -y\n",
    "!apt install default-jdk -y"
   ]
  },
  {
   "cell_type": "code",
   "execution_count": 3,
   "id": "669ded82-745d-4f5c-a6c2-91adcefc0f0b",
   "metadata": {
    "tags": []
   },
   "outputs": [
    {
     "name": "stdout",
     "output_type": "stream",
     "text": [
      "openjdk version \"11.0.18\" 2023-01-17\n",
      "OpenJDK Runtime Environment (build 11.0.18+10-post-Debian-1deb11u1)\n",
      "OpenJDK 64-Bit Server VM (build 11.0.18+10-post-Debian-1deb11u1, mixed mode, sharing)\n"
     ]
    }
   ],
   "source": [
    "!java -version"
   ]
  },
  {
   "cell_type": "markdown",
   "id": "9351bbbe-d855-4c2d-b3e3-4ab6b258c1d5",
   "metadata": {},
   "source": [
    "Now lets explictly point out where JAVA_HOME is installed and install all the necessary python dependencies"
   ]
  },
  {
   "cell_type": "code",
   "execution_count": 4,
   "id": "6e33df8a-01ec-47bb-9bf4-c422dfdfd446",
   "metadata": {
    "tags": []
   },
   "outputs": [],
   "source": [
    "import os\n",
    "os.environ['JAVA_HOME'] = '/usr/lib/jvm/java-11-openjdk-amd64'"
   ]
  },
  {
   "cell_type": "code",
   "execution_count": 46,
   "id": "f1aa073f-c323-40eb-8317-5071452c3e09",
   "metadata": {
    "tags": []
   },
   "outputs": [
    {
     "name": "stdout",
     "output_type": "stream",
     "text": [
      "Requirement already satisfied: pip in /usr/local/lib/python3.8/site-packages (23.2.1)\n",
      "\u001b[33mWARNING: Running pip as the 'root' user can result in broken permissions and conflicting behaviour with the system package manager. It is recommended to use a virtual environment instead: https://pip.pypa.io/warnings/venv\u001b[0m\u001b[33m\n",
      "\u001b[0mRequirement already satisfied: pandas in /usr/local/lib/python3.8/site-packages (2.0.3)\n",
      "Requirement already satisfied: python-dateutil>=2.8.2 in /usr/local/lib/python3.8/site-packages (from pandas) (2.8.2)\n",
      "Requirement already satisfied: pytz>=2020.1 in /usr/local/lib/python3.8/site-packages (from pandas) (2023.3)\n",
      "Requirement already satisfied: tzdata>=2022.1 in /usr/local/lib/python3.8/site-packages (from pandas) (2023.3)\n",
      "Requirement already satisfied: numpy>=1.20.3 in /usr/local/lib/python3.8/site-packages (from pandas) (1.24.4)\n",
      "Requirement already satisfied: six>=1.5 in /usr/local/lib/python3.8/site-packages (from python-dateutil>=2.8.2->pandas) (1.16.0)\n",
      "\u001b[33mWARNING: Running pip as the 'root' user can result in broken permissions and conflicting behaviour with the system package manager. It is recommended to use a virtual environment instead: https://pip.pypa.io/warnings/venv\u001b[0m\u001b[33m\n",
      "\u001b[0mRequirement already satisfied: pydeequ in /usr/local/lib/python3.8/site-packages (1.1.0)\n",
      "Requirement already satisfied: numpy>=1.14.1 in /usr/local/lib/python3.8/site-packages (from pydeequ) (1.24.4)\n",
      "Requirement already satisfied: pandas>=0.23.0 in /usr/local/lib/python3.8/site-packages (from pydeequ) (2.0.3)\n",
      "Requirement already satisfied: python-dateutil>=2.8.2 in /usr/local/lib/python3.8/site-packages (from pandas>=0.23.0->pydeequ) (2.8.2)\n",
      "Requirement already satisfied: pytz>=2020.1 in /usr/local/lib/python3.8/site-packages (from pandas>=0.23.0->pydeequ) (2023.3)\n",
      "Requirement already satisfied: tzdata>=2022.1 in /usr/local/lib/python3.8/site-packages (from pandas>=0.23.0->pydeequ) (2023.3)\n",
      "Requirement already satisfied: six>=1.5 in /usr/local/lib/python3.8/site-packages (from python-dateutil>=2.8.2->pandas>=0.23.0->pydeequ) (1.16.0)\n",
      "\u001b[33mWARNING: Running pip as the 'root' user can result in broken permissions and conflicting behaviour with the system package manager. It is recommended to use a virtual environment instead: https://pip.pypa.io/warnings/venv\u001b[0m\u001b[33m\n",
      "\u001b[0mRequirement already satisfied: pyspark in /usr/local/lib/python3.8/site-packages (3.3.0)\n",
      "Requirement already satisfied: py4j==0.10.9.5 in /usr/local/lib/python3.8/site-packages (from pyspark) (0.10.9.5)\n",
      "\u001b[33mWARNING: Running pip as the 'root' user can result in broken permissions and conflicting behaviour with the system package manager. It is recommended to use a virtual environment instead: https://pip.pypa.io/warnings/venv\u001b[0m\u001b[33m\n",
      "\u001b[0mRequirement already satisfied: sagemaker_pyspark in /usr/local/lib/python3.8/site-packages (1.4.5)\n",
      "Requirement already satisfied: pyspark==3.3.0 in /usr/local/lib/python3.8/site-packages (from sagemaker_pyspark) (3.3.0)\n",
      "Requirement already satisfied: numpy in /usr/local/lib/python3.8/site-packages (from sagemaker_pyspark) (1.24.4)\n",
      "Requirement already satisfied: py4j==0.10.9.5 in /usr/local/lib/python3.8/site-packages (from pyspark==3.3.0->sagemaker_pyspark) (0.10.9.5)\n",
      "\u001b[33mWARNING: Running pip as the 'root' user can result in broken permissions and conflicting behaviour with the system package manager. It is recommended to use a virtual environment instead: https://pip.pypa.io/warnings/venv\u001b[0m\u001b[33m\n",
      "\u001b[0mRequirement already satisfied: mlflow-skinny in /usr/local/lib/python3.8/site-packages (2.5.0)\n",
      "Requirement already satisfied: click<9,>=7.0 in /usr/local/lib/python3.8/site-packages (from mlflow-skinny) (8.1.6)\n",
      "Requirement already satisfied: cloudpickle<3 in /usr/local/lib/python3.8/site-packages (from mlflow-skinny) (2.2.1)\n",
      "Requirement already satisfied: databricks-cli<1,>=0.8.7 in /usr/local/lib/python3.8/site-packages (from mlflow-skinny) (0.17.7)\n",
      "Requirement already satisfied: entrypoints<1 in /usr/local/lib/python3.8/site-packages (from mlflow-skinny) (0.4)\n",
      "Requirement already satisfied: gitpython<4,>=2.1.0 in /usr/local/lib/python3.8/site-packages (from mlflow-skinny) (3.1.32)\n",
      "Requirement already satisfied: pyyaml<7,>=5.1 in /usr/local/lib/python3.8/site-packages (from mlflow-skinny) (6.0.1)\n",
      "Requirement already satisfied: protobuf<5,>=3.12.0 in /usr/local/lib/python3.8/site-packages (from mlflow-skinny) (4.23.4)\n",
      "Requirement already satisfied: pytz<2024 in /usr/local/lib/python3.8/site-packages (from mlflow-skinny) (2023.3)\n",
      "Requirement already satisfied: requests<3,>=2.17.3 in /usr/local/lib/python3.8/site-packages (from mlflow-skinny) (2.31.0)\n",
      "Requirement already satisfied: packaging<24 in /usr/local/lib/python3.8/site-packages (from mlflow-skinny) (21.3)\n",
      "Requirement already satisfied: importlib-metadata!=4.7.0,<7,>=3.7.0 in /usr/local/lib/python3.8/site-packages (from mlflow-skinny) (6.8.0)\n",
      "Requirement already satisfied: sqlparse<1,>=0.4.0 in /usr/local/lib/python3.8/site-packages (from mlflow-skinny) (0.4.4)\n",
      "Requirement already satisfied: pyjwt>=1.7.0 in /usr/local/lib/python3.8/site-packages (from databricks-cli<1,>=0.8.7->mlflow-skinny) (2.8.0)\n",
      "Requirement already satisfied: oauthlib>=3.1.0 in /usr/local/lib/python3.8/site-packages (from databricks-cli<1,>=0.8.7->mlflow-skinny) (3.2.2)\n",
      "Requirement already satisfied: tabulate>=0.7.7 in /usr/local/lib/python3.8/site-packages (from databricks-cli<1,>=0.8.7->mlflow-skinny) (0.9.0)\n",
      "Requirement already satisfied: six>=1.10.0 in /usr/local/lib/python3.8/site-packages (from databricks-cli<1,>=0.8.7->mlflow-skinny) (1.16.0)\n",
      "Requirement already satisfied: urllib3<2.0.0,>=1.26.7 in /usr/local/lib/python3.8/site-packages (from databricks-cli<1,>=0.8.7->mlflow-skinny) (1.26.16)\n",
      "Requirement already satisfied: gitdb<5,>=4.0.1 in /usr/local/lib/python3.8/site-packages (from gitpython<4,>=2.1.0->mlflow-skinny) (4.0.10)\n",
      "Requirement already satisfied: zipp>=0.5 in /usr/local/lib/python3.8/site-packages (from importlib-metadata!=4.7.0,<7,>=3.7.0->mlflow-skinny) (3.16.2)\n",
      "Requirement already satisfied: pyparsing!=3.0.5,>=2.0.2 in /usr/local/lib/python3.8/site-packages (from packaging<24->mlflow-skinny) (3.0.9)\n",
      "Requirement already satisfied: charset-normalizer<4,>=2 in /usr/local/lib/python3.8/site-packages (from requests<3,>=2.17.3->mlflow-skinny) (3.2.0)\n",
      "Requirement already satisfied: idna<4,>=2.5 in /usr/local/lib/python3.8/site-packages (from requests<3,>=2.17.3->mlflow-skinny) (3.4)\n",
      "Requirement already satisfied: certifi>=2017.4.17 in /usr/local/lib/python3.8/site-packages (from requests<3,>=2.17.3->mlflow-skinny) (2023.7.22)\n",
      "Requirement already satisfied: smmap<6,>=3.0.1 in /usr/local/lib/python3.8/site-packages (from gitdb<5,>=4.0.1->gitpython<4,>=2.1.0->mlflow-skinny) (5.0.0)\n",
      "\u001b[33mWARNING: Running pip as the 'root' user can result in broken permissions and conflicting behaviour with the system package manager. It is recommended to use a virtual environment instead: https://pip.pypa.io/warnings/venv\u001b[0m\u001b[33m\n",
      "\u001b[0mRequirement already satisfied: aepp in /usr/local/lib/python3.8/site-packages (0.3.0)\n",
      "Requirement already satisfied: pandas in /usr/local/lib/python3.8/site-packages (from aepp) (2.0.3)\n",
      "Requirement already satisfied: requests in /usr/local/lib/python3.8/site-packages (from aepp) (2.31.0)\n",
      "Requirement already satisfied: PyJWT in /usr/local/lib/python3.8/site-packages (from aepp) (2.8.0)\n",
      "Requirement already satisfied: pathlib2 in /usr/local/lib/python3.8/site-packages (from aepp) (2.3.7.post1)\n",
      "Requirement already satisfied: pathlib in /usr/local/lib/python3.8/site-packages (from aepp) (1.0.1)\n",
      "Requirement already satisfied: python-dateutil>=2.8.2 in /usr/local/lib/python3.8/site-packages (from pandas->aepp) (2.8.2)\n",
      "Requirement already satisfied: pytz>=2020.1 in /usr/local/lib/python3.8/site-packages (from pandas->aepp) (2023.3)\n",
      "Requirement already satisfied: tzdata>=2022.1 in /usr/local/lib/python3.8/site-packages (from pandas->aepp) (2023.3)\n",
      "Requirement already satisfied: numpy>=1.20.3 in /usr/local/lib/python3.8/site-packages (from pandas->aepp) (1.24.4)\n",
      "Requirement already satisfied: six in /usr/local/lib/python3.8/site-packages (from pathlib2->aepp) (1.16.0)\n",
      "Requirement already satisfied: cryptography>=3.4.0 in /usr/local/lib/python3.8/site-packages (from PyJWT->aepp) (41.0.3)\n",
      "Requirement already satisfied: charset-normalizer<4,>=2 in /usr/local/lib/python3.8/site-packages (from requests->aepp) (3.2.0)\n",
      "Requirement already satisfied: idna<4,>=2.5 in /usr/local/lib/python3.8/site-packages (from requests->aepp) (3.4)\n",
      "Requirement already satisfied: urllib3<3,>=1.21.1 in /usr/local/lib/python3.8/site-packages (from requests->aepp) (1.26.16)\n",
      "Requirement already satisfied: certifi>=2017.4.17 in /usr/local/lib/python3.8/site-packages (from requests->aepp) (2023.7.22)\n",
      "Requirement already satisfied: cffi>=1.12 in /usr/local/lib/python3.8/site-packages (from cryptography>=3.4.0->PyJWT->aepp) (1.15.1)\n",
      "Requirement already satisfied: pycparser in /usr/local/lib/python3.8/site-packages (from cffi>=1.12->cryptography>=3.4.0->PyJWT->aepp) (2.21)\n",
      "\u001b[33mWARNING: Running pip as the 'root' user can result in broken permissions and conflicting behaviour with the system package manager. It is recommended to use a virtual environment instead: https://pip.pypa.io/warnings/venv\u001b[0m\u001b[33m\n",
      "\u001b[0mRequirement already satisfied: adlfs in /usr/local/lib/python3.8/site-packages (2023.8.0)\n",
      "Requirement already satisfied: azure-core<2.0.0,>=1.23.1 in /usr/local/lib/python3.8/site-packages (from adlfs) (1.28.0)\n",
      "Requirement already satisfied: azure-datalake-store<0.1,>=0.0.46 in /usr/local/lib/python3.8/site-packages (from adlfs) (0.0.53)\n",
      "Requirement already satisfied: azure-identity in /usr/local/lib/python3.8/site-packages (from adlfs) (1.13.0)\n",
      "Requirement already satisfied: azure-storage-blob>=12.12.0 in /usr/local/lib/python3.8/site-packages (from adlfs) (12.17.0)\n",
      "Requirement already satisfied: fsspec>=2021.10.1 in /usr/local/lib/python3.8/site-packages (from adlfs) (2023.6.0)\n",
      "Requirement already satisfied: aiohttp>=3.7.0 in /usr/local/lib/python3.8/site-packages (from adlfs) (3.8.5)\n",
      "Requirement already satisfied: attrs>=17.3.0 in /usr/local/lib/python3.8/site-packages (from aiohttp>=3.7.0->adlfs) (23.1.0)\n",
      "Requirement already satisfied: charset-normalizer<4.0,>=2.0 in /usr/local/lib/python3.8/site-packages (from aiohttp>=3.7.0->adlfs) (3.2.0)\n",
      "Requirement already satisfied: multidict<7.0,>=4.5 in /usr/local/lib/python3.8/site-packages (from aiohttp>=3.7.0->adlfs) (6.0.4)\n",
      "Requirement already satisfied: async-timeout<5.0,>=4.0.0a3 in /usr/local/lib/python3.8/site-packages (from aiohttp>=3.7.0->adlfs) (4.0.2)\n",
      "Requirement already satisfied: yarl<2.0,>=1.0 in /usr/local/lib/python3.8/site-packages (from aiohttp>=3.7.0->adlfs) (1.9.2)\n",
      "Requirement already satisfied: frozenlist>=1.1.1 in /usr/local/lib/python3.8/site-packages (from aiohttp>=3.7.0->adlfs) (1.4.0)\n",
      "Requirement already satisfied: aiosignal>=1.1.2 in /usr/local/lib/python3.8/site-packages (from aiohttp>=3.7.0->adlfs) (1.3.1)\n",
      "Requirement already satisfied: requests>=2.18.4 in /usr/local/lib/python3.8/site-packages (from azure-core<2.0.0,>=1.23.1->adlfs) (2.31.0)\n",
      "Requirement already satisfied: six>=1.11.0 in /usr/local/lib/python3.8/site-packages (from azure-core<2.0.0,>=1.23.1->adlfs) (1.16.0)\n",
      "Requirement already satisfied: typing-extensions>=4.3.0 in /usr/local/lib/python3.8/site-packages (from azure-core<2.0.0,>=1.23.1->adlfs) (4.7.1)\n",
      "Requirement already satisfied: cffi in /usr/local/lib/python3.8/site-packages (from azure-datalake-store<0.1,>=0.0.46->adlfs) (1.15.1)\n",
      "Requirement already satisfied: msal<2,>=1.16.0 in /usr/local/lib/python3.8/site-packages (from azure-datalake-store<0.1,>=0.0.46->adlfs) (1.23.0)\n",
      "Requirement already satisfied: cryptography>=2.1.4 in /usr/local/lib/python3.8/site-packages (from azure-storage-blob>=12.12.0->adlfs) (41.0.3)\n",
      "Requirement already satisfied: isodate>=0.6.1 in /usr/local/lib/python3.8/site-packages (from azure-storage-blob>=12.12.0->adlfs) (0.6.1)\n",
      "Requirement already satisfied: msal-extensions<2.0.0,>=0.3.0 in /usr/local/lib/python3.8/site-packages (from azure-identity->adlfs) (1.0.0)\n",
      "Requirement already satisfied: pycparser in /usr/local/lib/python3.8/site-packages (from cffi->azure-datalake-store<0.1,>=0.0.46->adlfs) (2.21)\n",
      "Requirement already satisfied: PyJWT[crypto]<3,>=1.0.0 in /usr/local/lib/python3.8/site-packages (from msal<2,>=1.16.0->azure-datalake-store<0.1,>=0.0.46->adlfs) (2.8.0)\n",
      "Requirement already satisfied: portalocker<3,>=1.0 in /usr/local/lib/python3.8/site-packages (from msal-extensions<2.0.0,>=0.3.0->azure-identity->adlfs) (2.7.0)\n",
      "Requirement already satisfied: idna<4,>=2.5 in /usr/local/lib/python3.8/site-packages (from requests>=2.18.4->azure-core<2.0.0,>=1.23.1->adlfs) (3.4)\n",
      "Requirement already satisfied: urllib3<3,>=1.21.1 in /usr/local/lib/python3.8/site-packages (from requests>=2.18.4->azure-core<2.0.0,>=1.23.1->adlfs) (1.26.16)\n",
      "Requirement already satisfied: certifi>=2017.4.17 in /usr/local/lib/python3.8/site-packages (from requests>=2.18.4->azure-core<2.0.0,>=1.23.1->adlfs) (2023.7.22)\n",
      "\u001b[33mWARNING: Running pip as the 'root' user can result in broken permissions and conflicting behaviour with the system package manager. It is recommended to use a virtual environment instead: https://pip.pypa.io/warnings/venv\u001b[0m\u001b[33m\n",
      "\u001b[0mRequirement already satisfied: hyperopt in /usr/local/lib/python3.8/site-packages (0.2.7)\n",
      "Requirement already satisfied: numpy in /usr/local/lib/python3.8/site-packages (from hyperopt) (1.24.4)\n",
      "Requirement already satisfied: scipy in /usr/local/lib/python3.8/site-packages (from hyperopt) (1.10.1)\n",
      "Requirement already satisfied: six in /usr/local/lib/python3.8/site-packages (from hyperopt) (1.16.0)\n",
      "Requirement already satisfied: networkx>=2.2 in /usr/local/lib/python3.8/site-packages (from hyperopt) (3.1)\n",
      "Requirement already satisfied: future in /usr/local/lib/python3.8/site-packages (from hyperopt) (0.18.3)\n",
      "Requirement already satisfied: tqdm in /usr/local/lib/python3.8/site-packages (from hyperopt) (4.65.1)\n",
      "Requirement already satisfied: cloudpickle in /usr/local/lib/python3.8/site-packages (from hyperopt) (2.2.1)\n",
      "Requirement already satisfied: py4j in /usr/local/lib/python3.8/site-packages (from hyperopt) (0.10.9.5)\n",
      "\u001b[33mWARNING: Running pip as the 'root' user can result in broken permissions and conflicting behaviour with the system package manager. It is recommended to use a virtual environment instead: https://pip.pypa.io/warnings/venv\u001b[0m\u001b[33m\n",
      "\u001b[0mRequirement already satisfied: scikit-learn in /usr/local/lib/python3.8/site-packages (1.3.0)\n",
      "Requirement already satisfied: numpy>=1.17.3 in /usr/local/lib/python3.8/site-packages (from scikit-learn) (1.24.4)\n",
      "Requirement already satisfied: scipy>=1.5.0 in /usr/local/lib/python3.8/site-packages (from scikit-learn) (1.10.1)\n",
      "Requirement already satisfied: joblib>=1.1.1 in /usr/local/lib/python3.8/site-packages (from scikit-learn) (1.3.1)\n",
      "Requirement already satisfied: threadpoolctl>=2.0.0 in /usr/local/lib/python3.8/site-packages (from scikit-learn) (3.2.0)\n",
      "\u001b[33mWARNING: Running pip as the 'root' user can result in broken permissions and conflicting behaviour with the system package manager. It is recommended to use a virtual environment instead: https://pip.pypa.io/warnings/venv\u001b[0m\u001b[33m\n",
      "\u001b[0mRequirement already satisfied: plotly in /usr/local/lib/python3.8/site-packages (5.15.0)\n",
      "Requirement already satisfied: tenacity>=6.2.0 in /usr/local/lib/python3.8/site-packages (from plotly) (8.2.2)\n",
      "Requirement already satisfied: packaging in /usr/local/lib/python3.8/site-packages (from plotly) (21.3)\n",
      "Requirement already satisfied: pyparsing!=3.0.5,>=2.0.2 in /usr/local/lib/python3.8/site-packages (from packaging->plotly) (3.0.9)\n",
      "\u001b[33mWARNING: Running pip as the 'root' user can result in broken permissions and conflicting behaviour with the system package manager. It is recommended to use a virtual environment instead: https://pip.pypa.io/warnings/venv\u001b[0m\u001b[33m\n",
      "\u001b[0mRequirement already satisfied: hyperopt in /usr/local/lib/python3.8/site-packages (0.2.7)\n",
      "Requirement already satisfied: numpy in /usr/local/lib/python3.8/site-packages (from hyperopt) (1.24.4)\n",
      "Requirement already satisfied: scipy in /usr/local/lib/python3.8/site-packages (from hyperopt) (1.10.1)\n",
      "Requirement already satisfied: six in /usr/local/lib/python3.8/site-packages (from hyperopt) (1.16.0)\n",
      "Requirement already satisfied: networkx>=2.2 in /usr/local/lib/python3.8/site-packages (from hyperopt) (3.1)\n",
      "Requirement already satisfied: future in /usr/local/lib/python3.8/site-packages (from hyperopt) (0.18.3)\n",
      "Requirement already satisfied: tqdm in /usr/local/lib/python3.8/site-packages (from hyperopt) (4.65.1)\n",
      "Requirement already satisfied: cloudpickle in /usr/local/lib/python3.8/site-packages (from hyperopt) (2.2.1)\n",
      "Requirement already satisfied: py4j in /usr/local/lib/python3.8/site-packages (from hyperopt) (0.10.9.5)\n",
      "\u001b[33mWARNING: Running pip as the 'root' user can result in broken permissions and conflicting behaviour with the system package manager. It is recommended to use a virtual environment instead: https://pip.pypa.io/warnings/venv\u001b[0m\u001b[33m\n",
      "\u001b[0mRequirement already satisfied: nbformat in /usr/local/lib/python3.8/site-packages (5.9.2)\n",
      "Requirement already satisfied: fastjsonschema in /usr/local/lib/python3.8/site-packages (from nbformat) (2.18.0)\n",
      "Requirement already satisfied: jsonschema>=2.6 in /usr/local/lib/python3.8/site-packages (from nbformat) (4.19.0)\n",
      "Requirement already satisfied: jupyter-core in /usr/local/lib/python3.8/site-packages (from nbformat) (5.3.1)\n",
      "Requirement already satisfied: traitlets>=5.1 in /usr/local/lib/python3.8/site-packages (from nbformat) (5.9.0)\n",
      "Requirement already satisfied: attrs>=22.2.0 in /usr/local/lib/python3.8/site-packages (from jsonschema>=2.6->nbformat) (23.1.0)\n",
      "Requirement already satisfied: importlib-resources>=1.4.0 in /usr/local/lib/python3.8/site-packages (from jsonschema>=2.6->nbformat) (6.0.1)\n",
      "Requirement already satisfied: jsonschema-specifications>=2023.03.6 in /usr/local/lib/python3.8/site-packages (from jsonschema>=2.6->nbformat) (2023.7.1)\n",
      "Requirement already satisfied: pkgutil-resolve-name>=1.3.10 in /usr/local/lib/python3.8/site-packages (from jsonschema>=2.6->nbformat) (1.3.10)\n",
      "Requirement already satisfied: referencing>=0.28.4 in /usr/local/lib/python3.8/site-packages (from jsonschema>=2.6->nbformat) (0.30.2)\n",
      "Requirement already satisfied: rpds-py>=0.7.1 in /usr/local/lib/python3.8/site-packages (from jsonschema>=2.6->nbformat) (0.9.2)\n",
      "Requirement already satisfied: platformdirs>=2.5 in /usr/local/lib/python3.8/site-packages (from jupyter-core->nbformat) (3.9.1)\n",
      "Requirement already satisfied: zipp>=3.1.0 in /usr/local/lib/python3.8/site-packages (from importlib-resources>=1.4.0->jsonschema>=2.6->nbformat) (3.16.2)\n",
      "\u001b[33mWARNING: Running pip as the 'root' user can result in broken permissions and conflicting behaviour with the system package manager. It is recommended to use a virtual environment instead: https://pip.pypa.io/warnings/venv\u001b[0m\u001b[33m\n",
      "\u001b[0m"
     ]
    }
   ],
   "source": [
    "!python3 -m pip install --upgrade pip\n",
    "!python3 -m pip install pandas \n",
    "!python3 -m pip install pydeequ \n",
    "!python3 -m pip install pyspark \n",
    "!python3 -m pip install sagemaker_pyspark \n",
    "!python3 -m pip install mlflow-skinny\n",
    "!python3 -m pip install aepp \n",
    "!python3 -m pip install adlfs \n",
    "!python3 -m pip install hyperopt \n",
    "!python3 -m pip install scikit-learn \n",
    "!python3 -m pip install plotly \n",
    "!python3 -m pip install hyperopt\n",
    "!python3 -m pip install --upgrade nbformat"
   ]
  },
  {
   "cell_type": "code",
   "execution_count": 5,
   "id": "75005a7f-9483-472b-ba2c-6cdffeaa8bdb",
   "metadata": {
    "tags": []
   },
   "outputs": [
    {
     "name": "stdout",
     "output_type": "stream",
     "text": [
      "env: SPARK_VERSION='3.3.0'\n"
     ]
    }
   ],
   "source": [
    "%env SPARK_VERSION='3.3.0'"
   ]
  },
  {
   "cell_type": "code",
   "execution_count": 6,
   "id": "4c38c804-1fcd-449a-ba11-517f345143c9",
   "metadata": {
    "tags": []
   },
   "outputs": [
    {
     "name": "stdout",
     "output_type": "stream",
     "text": [
      "['/usr/local/lib/python3.8/site-packages/sagemaker_pyspark/jars/aws-java-sdk-bundle-1.11.901.jar', '/usr/local/lib/python3.8/site-packages/sagemaker_pyspark/jars/aws-java-sdk-core-1.12.262.jar', '/usr/local/lib/python3.8/site-packages/sagemaker_pyspark/jars/aws-java-sdk-kms-1.12.262.jar', '/usr/local/lib/python3.8/site-packages/sagemaker_pyspark/jars/aws-java-sdk-s3-1.12.262.jar', '/usr/local/lib/python3.8/site-packages/sagemaker_pyspark/jars/aws-java-sdk-sagemaker-1.12.262.jar', '/usr/local/lib/python3.8/site-packages/sagemaker_pyspark/jars/aws-java-sdk-sagemakerruntime-1.12.262.jar', '/usr/local/lib/python3.8/site-packages/sagemaker_pyspark/jars/aws-java-sdk-sts-1.12.262.jar', '/usr/local/lib/python3.8/site-packages/sagemaker_pyspark/jars/hadoop-aws-3.3.1.jar', '/usr/local/lib/python3.8/site-packages/sagemaker_pyspark/jars/sagemaker-spark_2.12-spark_3.3.0-1.4.5.jar']\n"
     ]
    },
    {
     "name": "stderr",
     "output_type": "stream",
     "text": [
      "Warning: Ignoring non-Spark config property: fs.s3a.access.key\n",
      "Warning: Ignoring non-Spark config property: fs.s3a.secret.key\n"
     ]
    },
    {
     "name": "stdout",
     "output_type": "stream",
     "text": [
      "23/09/19 15:30:47 WARN NativeCodeLoader: Unable to load native-hadoop library for your platform... using builtin-java classes where applicable\n"
     ]
    },
    {
     "name": "stderr",
     "output_type": "stream",
     "text": [
      "Setting default log level to \"WARN\".\n",
      "To adjust logging level use sc.setLogLevel(newLevel). For SparkR, use setLogLevel(newLevel).\n"
     ]
    },
    {
     "name": "stdout",
     "output_type": "stream",
     "text": [
      "23/09/19 15:30:49 WARN Utils: Service 'SparkUI' could not bind on port 4040. Attempting port 4041.\n",
      "3.3.0\n"
     ]
    }
   ],
   "source": [
    "from pyspark import SparkConf\n",
    "from pyspark.sql import SparkSession\n",
    "import sagemaker_pyspark\n",
    "import botocore.session\n",
    "\n",
    "session = botocore.session.get_session()\n",
    "credentials = session.get_credentials()\n",
    "\n",
    "conf = (SparkConf()\n",
    "        .set(\"spark.driver.extraClassPath\", \":\".join(sagemaker_pyspark.classpath_jars())))\n",
    "\n",
    "print(str(sagemaker_pyspark.classpath_jars()))\n",
    "\n",
    "spark = (\n",
    "    SparkSession\n",
    "    .builder\n",
    "    .config(conf=conf) \\\n",
    "    .config('fs.s3a.access.key', credentials.access_key)\n",
    "    .config('fs.s3a.secret.key', credentials.secret_key)\n",
    "    .config(\"spark.jars\", \"/root/jars/hadoop-aws-3.3.6.jar,/root/jars/hadoop-azure-3.3.6.jar,/root/jars/azsastknprovider-1.0-SNAPSHOT.jar,/root/jars/hadoop-common-3.3.6.jar\")\n",
    "    .appName(\"schema_test\")\n",
    "    .getOrCreate()\n",
    ")\n",
    "print(spark.version)"
   ]
  },
  {
   "cell_type": "code",
   "execution_count": 8,
   "id": "99d795c4-efec-492c-a96b-0d02333a98ad",
   "metadata": {
    "tags": []
   },
   "outputs": [],
   "source": [
    "import re\n",
    "\n",
    "username = \"sagemakeruser_123\"\n",
    "unique_id = s = re.sub(\"[^0-9a-zA-Z]+\", \"_\", username)"
   ]
  },
  {
   "cell_type": "code",
   "execution_count": 9,
   "id": "0281136e-e5df-420c-96ee-69c83a0c34a4",
   "metadata": {
    "tags": []
   },
   "outputs": [],
   "source": [
    "import os\n",
    "from configparser import ConfigParser\n",
    "os.environ['ADOBE_HOME'] = \"../../\"\n",
    "config = ConfigParser()\n",
    "config_path = os.path.join(os.environ[\"ADOBE_HOME\"], \"conf\", \"config.ini\")\n",
    "if not os.path.exists(config_path):\n",
    "  raise Exception(f\"Looking for configuration under {config_path} but config not found, please verify path\")\n",
    "\n",
    "config.read(config_path)\n",
    "ims_org_id = config.get(\"Platform\", \"ims_org_id\")\n",
    "sandbox_name = config.get(\"Platform\", \"sandbox_name\")\n",
    "environment = config.get(\"Platform\", \"environment\")\n",
    "client_id = config.get(\"Authentication\", \"client_id\")\n",
    "client_secret = config.get(\"Authentication\", \"client_secret\")\n",
    "private_key_path = config.get(\"Authentication\", \"private_key_path\")\n",
    "tech_account_id = config.get(\"Authentication\", \"tech_acct_id\")\n",
    "dataset_id = config.get(\"Platform\", \"dataset_id\")\n",
    "featurized_dataset_id = config.get(\"Platform\", \"featurized_dataset_id\")\n",
    "export_path = config.get(\"Cloud\", \"export_path\")\n",
    "import_path = config.get(\"Cloud\", \"import_path\")\n",
    "data_format = config.get(\"Cloud\", \"data_format\")\n",
    "compression_type = config.get(\"Cloud\", \"compression_type\")\n",
    "model_name = config.get(\"Cloud\", \"model_name\")\n",
    "\n",
    "s3_bucket_name=config.get(\"AWS\",\"s3_bucket_name\")\n",
    "s3_prefix=config.get(\"AWS\",\"s3_prefix\")\n",
    "\n",
    "\n",
    "if not os.path.exists(private_key_path):\n",
    "  raise Exception(f\"Looking for private key file under {private_key_path} but key not found, please verify path\")"
   ]
  },
  {
   "cell_type": "code",
   "execution_count": 10,
   "id": "ebaaaec1-dd66-4153-804c-a0cd4530466d",
   "metadata": {
    "tags": []
   },
   "outputs": [],
   "source": [
    "import aepp\n",
    "\n",
    "aepp.configure(\n",
    "  environment=environment,\n",
    "  sandbox=sandbox_name,\n",
    "  org_id=ims_org_id,\n",
    "  tech_id=tech_account_id, \n",
    "  secret=client_secret,\n",
    "  path_to_key=private_key_path,\n",
    "  client_id=client_id\n",
    ")"
   ]
  },
  {
   "cell_type": "markdown",
   "id": "79930d0b-64d5-4844-a3e2-671c75768b69",
   "metadata": {},
   "source": [
    "The cell below outlines one of the most important objectives in this notebook, namely the ability to bring in data from the \n",
    "S3 into the sagemaker environment"
   ]
  },
  {
   "cell_type": "code",
   "execution_count": null,
   "id": "cd13cd8e-c90e-45af-9fde-d118eee05906",
   "metadata": {},
   "outputs": [],
   "source": [
    "import boto3\n",
    "\n",
    "s3 = boto3.resource('s3')\n",
    "bucket = s3.Bucket(s3_bucket_name)\n",
    "objects = bucket.objects.filter(\n",
    "    Prefix=f'{s3_prefix}/{featurized_dataset_id}',\n",
    "    MaxKeys=1\n",
    ")\n",
    "\n",
    "for obj in objects:\n",
    "    obj = obj\n",
    "\n",
    "print(obj.key)\n",
    "\n",
    "parts = obj.key.split('/')\n",
    "for part in parts:\n",
    "    if part.startswith('exportTime'):\n",
    "        export_time = part.split('=')[1]\n",
    "\n",
    "print(f'Using featurized data export time of {export_time}')"
   ]
  },
  {
   "cell_type": "markdown",
   "id": "687fc402-3258-4638-b844-3aca91b8a7ef",
   "metadata": {},
   "source": [
    "The cell below shows the characteristics of the dataframe being brought in from the dlz."
   ]
  },
  {
   "cell_type": "code",
   "execution_count": null,
   "id": "9cb7cba9-12b2-4ffa-8526-de7625af3c86",
   "metadata": {},
   "outputs": [],
   "source": [
    "parquet_s3a_path = f's3a://{s3_bucket_name}/{obj.key}'\n",
    "print(parquet_s3a_path)\n",
    "df = spark.read.parquet(parquet_s3a_path)\n",
    "df.printSchema()"
   ]
  },
  {
   "cell_type": "code",
   "execution_count": 55,
   "id": "62f91669-766a-46c5-9eff-f2ceddb5ae56",
   "metadata": {
    "tags": []
   },
   "outputs": [],
   "source": [
    "sampling_ratio = 0.5\n",
    "df = df.sample(withReplacement=False, fraction=sampling_ratio)"
   ]
  },
  {
   "cell_type": "code",
   "execution_count": 56,
   "id": "fb29ee6f-96cb-42a4-b898-2421f8ceadc0",
   "metadata": {
    "tags": []
   },
   "outputs": [],
   "source": [
    "from sklearn.model_selection import train_test_split\n",
    "from sklearn.metrics import roc_auc_score\n",
    "from pyspark.sql.functions import date_format\n",
    "\n",
    "df_train = df.withColumn(\"timestamp\", date_format(\"timestamp\", \"yyyy-MM-dd HH:mm:ss\")).toPandas()\n",
    "\n",
    "# Feature Selection\n",
    "features = ['emailsReceived', 'emailsOpened', 'emailsClicked', \n",
    "            'productsViewed', \n",
    "            'propositionInteracts', 'propositionDismissed', 'webLinkClicks', \n",
    "            'minutes_since_emailSent', 'minutes_since_emailOpened', 'minutes_since_emailClick', \n",
    "            'minutes_since_productView', 'minutes_since_propositionInteract', \n",
    "            'minutes_since_propositionDismiss', 'minutes_since_linkClick']\n",
    "X, y = df_train[features].fillna(0), df_train[\"subscriptionOccurred\"]\n",
    "\n",
    "# Train test split\n",
    "X_train, X_test, y_train, y_test = train_test_split(X, y, test_size=0.8, random_state=0)"
   ]
  },
  {
   "cell_type": "markdown",
   "id": "1337449d-7c2d-4b9d-8aa1-b6fcaa810cd4",
   "metadata": {},
   "source": [
    "The predict method of sklearn's RandomForestClassifier returns a binary classification (0 or 1). The following code creates a wrapper function, SklearnModelWrapper, that uses the predict_proba method to return the probability that the observation belongs to each class."
   ]
  },
  {
   "cell_type": "code",
   "execution_count": 57,
   "id": "ea708da5-e4d1-4cb0-b8ee-2dcc1cbb8d09",
   "metadata": {
    "tags": []
   },
   "outputs": [],
   "source": [
    "import mlflow\n",
    "import mlflow.pyfunc\n",
    "\n",
    "\n",
    "class SklearnModelWrapper(mlflow.pyfunc.PythonModel):\n",
    "  def __init__(self, model):\n",
    "    self.model = model\n",
    "    \n",
    "  def predict(self, context, model_input):\n",
    "    return self.model.predict_proba(model_input)[:,1]"
   ]
  },
  {
   "cell_type": "markdown",
   "id": "6523f074-3917-49e4-aff2-bf6d68fc177f",
   "metadata": {},
   "source": [
    "This task seems well suited to a random forest classifier, since the output is binary and there may be interactions between multiple variables.\n",
    "\n",
    "The following code builds a simple classifier using scikit-learn. It uses MLflow to keep track of the model accuracy, and to save the model for later us"
   ]
  },
  {
   "cell_type": "code",
   "execution_count": 58,
   "id": "78030492-9f39-49c6-b021-55632dee3529",
   "metadata": {
    "tags": []
   },
   "outputs": [
    {
     "name": "stdout",
     "output_type": "stream",
     "text": [
      "cmle_propensity_model\n"
     ]
    }
   ],
   "source": [
    "print(model_name)"
   ]
  },
  {
   "cell_type": "code",
   "execution_count": 59,
   "id": "73b2d4bd-5ca9-4d93-8a10-c7b6ec349479",
   "metadata": {
    "tags": []
   },
   "outputs": [
    {
     "name": "stdout",
     "output_type": "stream",
     "text": [
      "Random Forest (RF) Accuracy: 0.9047619047619048\n",
      "Random Forest (RF) AUC score: 0.878061224489796\n"
     ]
    },
    {
     "name": "stderr",
     "output_type": "stream",
     "text": [
      "/usr/local/lib/python3.8/site-packages/mlflow/models/signature.py:152: UserWarning:\n",
      "\n",
      "Hint: Inferred schema contains integer column(s). Integer columns in Python cannot represent missing values. If your input data contains missing values at inference time, it will be encoded as floats and will cause a schema enforcement error. The best way to avoid this problem is to infer the model schema based on a realistic data sample (training dataset) that includes missing values. Alternatively, you can declare integer columns as doubles (float64) whenever these columns may have missing values. See `Handling Integers With Missing Values <https://www.mlflow.org/docs/latest/models.html#handling-integers-with-missing-values>`_ for more details.\n",
      "\n"
     ]
    }
   ],
   "source": [
    "from sklearn.ensemble import RandomForestClassifier\n",
    "\n",
    "from mlflow.models.signature import infer_signature\n",
    "from mlflow.utils.environment import _mlflow_conda_env\n",
    "\n",
    "import cloudpickle\n",
    "import sklearn\n",
    "\n",
    "\n",
    "run_name_untuned = f\"{model_name}_untuned\"\n",
    "mlflow.set_tracking_uri(\"file:///mlruns\")\n",
    "# mlflow.start_run creates a new MLflow run to track the performance of this model. \n",
    "# Within the context, you call mlflow.log_param to keep track of the parameters used, and\n",
    "# mlflow.log_metric to record metrics like accuracy.\n",
    "with mlflow.start_run(run_name=run_name_untuned):\n",
    "  n_estimators = 10\n",
    "  rf_clf = RandomForestClassifier(n_estimators=n_estimators)\n",
    "  rf_clf.fit(X_train, y_train)\n",
    "  \n",
    "  mlflow.log_param('n_estimators', n_estimators)\n",
    "  \n",
    "  accuracy = rf_clf.score(X_test, y_test)\n",
    "  # Use the accuracy as a metric in MLFlow\n",
    "  mlflow.log_metric('accuracy', accuracy)\n",
    "  print(\"Random Forest (RF) Accuracy:\", accuracy)\n",
    "  \n",
    "  # predict_proba returns [prob_negative, prob_positive], so slice the output with [:, 1]\n",
    "  predictions_test = rf_clf.predict_proba(X_test)[:,1]\n",
    "  auc_score = roc_auc_score(y_test, predictions_test)\n",
    "  # Use the area under the ROC curve as a metric in MLFlow\n",
    "  mlflow.log_metric('auc', auc_score)\n",
    "  print(\"Random Forest (RF) AUC score:\", auc_score)\n",
    "  \n",
    "  # Wrap the model so it can be registered in MLFlow\n",
    "  rf_wrapped = SklearnModelWrapper(rf_clf)\n",
    "  \n",
    "  # Log the model with a signature that defines the schema of the model's inputs and outputs. \n",
    "  # When the model is deployed, this signature will be used to validate inputs.\n",
    "  signature = infer_signature(X_train, rf_wrapped.predict(None, X_train))\n",
    "  \n",
    "  # MLflow contains utilities to create a conda environment used to serve models.\n",
    "  # The necessary dependencies are added to a conda.yaml file which is logged along with the model.\n",
    "  conda_env =  _mlflow_conda_env(\n",
    "    additional_conda_deps=None,\n",
    "    additional_pip_deps=[\"cloudpickle=={}\".format(cloudpickle.__version__), \"scikit-learn=={}\".format(sklearn.__version__)],\n",
    "    additional_conda_channels=None,\n",
    "  )\n",
    "  mlflow.pyfunc.log_model(\"random_forest_model\", python_model=rf_wrapped, conda_env=conda_env, signature=signature)"
   ]
  },
  {
   "cell_type": "markdown",
   "id": "990ff5ce-30bf-48e2-b2d1-5b4f25471313",
   "metadata": {},
   "source": [
    "**1.2 Registering models in the Model Hub with MLFlow**<BR>\n",
    "Now that we have a couple baseline models, we can already start registering them as full-fledged models in the Model Registry so we can easily fetch them again later to compare with future iterations of the models once we do more tuning. By registering this model in Model Registry, you can easily reference the model from anywhere within Databricks.\n",
    "\n",
    "Let's start with the Random Forest model. First we need to find out the run ID where the experiment using that algorithm was stored. We can use the mlflow library again to find out by looking up our experiment run ID created earlier:"
   ]
  },
  {
   "cell_type": "code",
   "execution_count": 60,
   "id": "e1e8f7c8-007b-4314-9a08-2a84e8a66ea3",
   "metadata": {
    "tags": []
   },
   "outputs": [
    {
     "data": {
      "text/plain": [
       "'bd996de3d09a4d158e2e23365bf21b91'"
      ]
     },
     "execution_count": 60,
     "metadata": {},
     "output_type": "execute_result"
    }
   ],
   "source": [
    "rf_run_id = mlflow.search_runs(filter_string=f'tags.mlflow.runName = \"{run_name_untuned}\"').iloc[0].run_id\n",
    "rf_run_id"
   ]
  },
  {
   "cell_type": "markdown",
   "id": "a17cb68d-4948-4f90-a485-a01735ee0d9e",
   "metadata": {},
   "source": [
    "Now we're ready to register it. To register we need 2 pieces of information:\n",
    "\n",
    "The path under which the model artifacts were stored.\n",
    "The name of the model we'd like to register it under."
   ]
  },
  {
   "cell_type": "code",
   "execution_count": 61,
   "id": "efab3585-d697-4d71-92dd-f931873b533f",
   "metadata": {},
   "outputs": [
    {
     "name": "stderr",
     "output_type": "stream",
     "text": [
      "Registered model 'cmle_propensity_model' already exists. Creating a new version of this model...\n",
      "2023/08/08 21:03:20 INFO mlflow.tracking._model_registry.client: Waiting up to 300 seconds for model version to finish creation. Model name: cmle_propensity_model, version 4\n",
      "Created version '4' of model 'cmle_propensity_model'.\n"
     ]
    }
   ],
   "source": [
    "import time\n",
    "\n",
    "rf_model_name = model_name\n",
    "rf_model_version = mlflow.register_model(f\"runs:/{rf_run_id}/random_forest_model\", rf_model_name)\n",
    " \n",
    "# Registering the model takes a few seconds, so add a small delay\n",
    "time.sleep(15)\n"
   ]
  },
  {
   "cell_type": "markdown",
   "id": "bcf4c7bb-3772-4e6d-9abc-1d78cfc55c41",
   "metadata": {},
   "source": [
    "**1.3 Tuning models at scale and selecting production model**<br>\n",
    "Now that we have our baseline models computed and saved, we need to tune them and find the best performing model out of all of them. Each of these 2 algorithms has a lot of hyper-parameters, and different combinations of those can yield vastly different models with dramatically different performance characteristics. Because it wouldn't be possible to try all these combinations manually, we are leveraging Databricks' large-scale computing capabilities to distribute the hyper-parameter tuning process.\n",
    "\n",
    "The library hyperopt provides a good way to create efficient and scalable hyper-parameter tuning process, and integrates with Apache Spark via the use of SparkTrials to distribute the workload.\n",
    "\n",
    "The first thing we need to figure out is the degree of parallelism to use. There is a trade-off here:\n",
    "\n",
    "Greater parallelism will lead to speedups, but a less optimal hyper-parameter sweep.\n",
    "Lower parallelism will be slower but will do a better job trying the various combinations of hyper-parameters.\n",
    "A rule of thumb is to determine the number of trials you want to run, and then set the degree of parallelism to be the square root of that."
   ]
  },
  {
   "cell_type": "code",
   "execution_count": 62,
   "id": "abd23835-f96a-44f6-ab04-a3df96881aca",
   "metadata": {
    "tags": []
   },
   "outputs": [],
   "source": [
    "import math\n",
    "\n",
    "from hyperopt import SparkTrials\n",
    "\n",
    "# Feel free to change max_evals if you want fewer/more trial runs\n",
    "max_evals = 100\n",
    "parallelism = int(math.sqrt(max_evals))\n",
    "spark_trials = SparkTrials(parallelism=parallelism)"
   ]
  },
  {
   "cell_type": "markdown",
   "id": "0f3c8c79-542b-482a-9d16-f755c97eb3ed",
   "metadata": {},
   "source": [
    "Now we put everything together, and we'll be tracking each hyper-parameter tuning trial into a separate MLFlow experiment so we can easily refer to them later to find out the best-performing ones. Each parameter configuration will be saved in MLFlow, so we do not need to save anything manually.\n",
    "\n",
    "One thing we need to determine is the search space for the various hyper-parameters, which can greatly impact the quality of the distributed tuning. You can refer to the official API pages for Random Forest Classifier to find out the range of acceptable values. We implement distributions following these definitions to define the search space below, and create a single search space that includes the choice of algorithm so we can run trials for both Random Forest in a distributed tuning job."
   ]
  },
  {
   "cell_type": "code",
   "execution_count": 63,
   "id": "c5c48026-5c36-4f5b-8e2f-27e420b30721",
   "metadata": {
    "tags": []
   },
   "outputs": [],
   "source": [
    "from hyperopt import fmin, tpe, hp, Trials, STATUS_OK\n",
    "from hyperopt.pyll import scope\n",
    "\n",
    "rf_space = {\n",
    "  \"model\": \"random_forest\",\n",
    "  \"kwargs\": {\n",
    "    \"n_estimators\": scope.int(hp.quniform(\"rf_n_estimators\", 10, 200, 10)),\n",
    "    \"max_depth\": scope.int(hp.quniform(\"rf_max_depth\", 2, 12, 1)),\n",
    "    \"criterion\": hp.choice(\"rf_criterion\", [\"gini\", \"entropy\"]),\n",
    "    \"min_samples_leaf\": scope.int(hp.uniform(\"rf_min_samples_leaf\", 1, 5)),\n",
    "    \"min_samples_split\": scope.float(hp.uniform(\"rf_min_samples_split\", 0.01, 0.05))\n",
    "  }\n",
    "}\n",
    "\n",
    "search_space = {\n",
    "  \"model_choice\": hp.choice(\"model_choice\", [rf_space])\n",
    "}\n",
    "\n",
    "models = {\n",
    "  \"random_forest\": RandomForestClassifier\n",
    "}"
   ]
  },
  {
   "cell_type": "markdown",
   "id": "b7a09f0a-86d6-4111-94e1-6895ec83fcbd",
   "metadata": {},
   "source": [
    "All that's left is to define the objective function that will be distributed in the cluster. hyperopt will be passing a sample which contains all the hyper-parameters chosen for a given trial (including the choice of algorithm), and we translate from that sample to an initialized model. Because in the search space we used keys matching the parameters for these algorithms, we can directly unpack the dictionary to get a model initialized with the requested hyper-parameters.\n",
    "\n",
    "Depending on your max_evals value earlier and the type of your EC2 instance this could take some time."
   ]
  },
  {
   "cell_type": "code",
   "execution_count": 64,
   "id": "b91d4d7f-b663-4bb0-a2d5-4496231c2ffb",
   "metadata": {
    "tags": []
   },
   "outputs": [
    {
     "name": "stdout",
     "output_type": "stream",
     "text": [
      "  0%|          | 0/100 [00:00<?, ?trial/s, best loss=?]"
     ]
    },
    {
     "name": "stderr",
     "output_type": "stream",
     "text": [
      "/usr/local/lib/python3.8/site-packages/mlflow/models/signature.py:152: UserWarning: Hint: Inferred schema contains integer column(s). Integer columns in Python cannot represent missing values. If your input data contains missing values at inference time, it will be encoded as floats and will cause a schema enforcement error. The best way to avoid this problem is to infer the model schema based on a realistic data sample (training dataset) that includes missing values. Alternatively, you can declare integer columns as doubles (float64) whenever these columns may have missing values. See `Handling Integers With Missing Values <https://www.mlflow.org/docs/latest/models.html#handling-integers-with-missing-values>`_ for more details.\n",
      "  inputs = _infer_schema(model_input)\n",
      "[Stage 105:>  (0 + 1) / 1][Stage 106:>  (0 + 1) / 1][Stage 107:>  (0 + 0) / 1]  \r"
     ]
    },
    {
     "name": "stdout",
     "output_type": "stream",
     "text": [
      "  1%|          | 1/100 [00:05<08:19,  5.04s/trial, best loss: -0.9561224489795919]"
     ]
    },
    {
     "name": "stderr",
     "output_type": "stream",
     "text": [
      "/usr/local/lib/python3.8/site-packages/mlflow/models/signature.py:152: UserWarning: Hint: Inferred schema contains integer column(s). Integer columns in Python cannot represent missing values. If your input data contains missing values at inference time, it will be encoded as floats and will cause a schema enforcement error. The best way to avoid this problem is to infer the model schema based on a realistic data sample (training dataset) that includes missing values. Alternatively, you can declare integer columns as doubles (float64) whenever these columns may have missing values. See `Handling Integers With Missing Values <https://www.mlflow.org/docs/latest/models.html#handling-integers-with-missing-values>`_ for more details.\n",
      "  inputs = _infer_schema(model_input)\n",
      "[Stage 106:>  (0 + 1) / 1][Stage 107:>  (0 + 1) / 1][Stage 108:>  (0 + 0) / 1]  \r"
     ]
    },
    {
     "name": "stdout",
     "output_type": "stream",
     "text": [
      "  3%|▎         | 3/100 [00:07<03:05,  1.91s/trial, best loss: -0.9561224489795919]"
     ]
    },
    {
     "name": "stderr",
     "output_type": "stream",
     "text": [
      "/usr/local/lib/python3.8/site-packages/mlflow/models/signature.py:152: UserWarning: Hint: Inferred schema contains integer column(s). Integer columns in Python cannot represent missing values. If your input data contains missing values at inference time, it will be encoded as floats and will cause a schema enforcement error. The best way to avoid this problem is to infer the model schema based on a realistic data sample (training dataset) that includes missing values. Alternatively, you can declare integer columns as doubles (float64) whenever these columns may have missing values. See `Handling Integers With Missing Values <https://www.mlflow.org/docs/latest/models.html#handling-integers-with-missing-values>`_ for more details.\n",
      "  inputs = _infer_schema(model_input)\n",
      "/usr/local/lib/python3.8/site-packages/mlflow/models/signature.py:152: UserWarning: Hint: Inferred schema contains integer column(s). Integer columns in Python cannot represent missing values. If your input data contains missing values at inference time, it will be encoded as floats and will cause a schema enforcement error. The best way to avoid this problem is to infer the model schema based on a realistic data sample (training dataset) that includes missing values. Alternatively, you can declare integer columns as doubles (float64) whenever these columns may have missing values. See `Handling Integers With Missing Values <https://www.mlflow.org/docs/latest/models.html#handling-integers-with-missing-values>`_ for more details.\n",
      "  inputs = _infer_schema(model_input)\n",
      "[Stage 108:>  (0 + 1) / 1][Stage 109:>  (0 + 1) / 1][Stage 110:>  (0 + 0) / 1]  \r"
     ]
    },
    {
     "name": "stdout",
     "output_type": "stream",
     "text": [
      "  4%|▍         | 4/100 [00:09<03:07,  1.95s/trial, best loss: -0.9561224489795919]"
     ]
    },
    {
     "name": "stderr",
     "output_type": "stream",
     "text": [
      "/usr/local/lib/python3.8/site-packages/mlflow/models/signature.py:152: UserWarning: Hint: Inferred schema contains integer column(s). Integer columns in Python cannot represent missing values. If your input data contains missing values at inference time, it will be encoded as floats and will cause a schema enforcement error. The best way to avoid this problem is to infer the model schema based on a realistic data sample (training dataset) that includes missing values. Alternatively, you can declare integer columns as doubles (float64) whenever these columns may have missing values. See `Handling Integers With Missing Values <https://www.mlflow.org/docs/latest/models.html#handling-integers-with-missing-values>`_ for more details.\n",
      "  inputs = _infer_schema(model_input)\n",
      "                                                                                \r"
     ]
    },
    {
     "name": "stdout",
     "output_type": "stream",
     "text": [
      "  5%|▌         | 5/100 [00:11<03:07,  1.98s/trial, best loss: -0.9591836734693878]"
     ]
    },
    {
     "name": "stderr",
     "output_type": "stream",
     "text": [
      "/usr/local/lib/python3.8/site-packages/mlflow/models/signature.py:152: UserWarning: Hint: Inferred schema contains integer column(s). Integer columns in Python cannot represent missing values. If your input data contains missing values at inference time, it will be encoded as floats and will cause a schema enforcement error. The best way to avoid this problem is to infer the model schema based on a realistic data sample (training dataset) that includes missing values. Alternatively, you can declare integer columns as doubles (float64) whenever these columns may have missing values. See `Handling Integers With Missing Values <https://www.mlflow.org/docs/latest/models.html#handling-integers-with-missing-values>`_ for more details.\n",
      "  inputs = _infer_schema(model_input)\n",
      "[Stage 110:>  (0 + 1) / 1][Stage 111:>  (0 + 1) / 1][Stage 112:>  (0 + 0) / 1]\r"
     ]
    },
    {
     "name": "stdout",
     "output_type": "stream",
     "text": [
      "  6%|▌         | 6/100 [00:12<02:34,  1.65s/trial, best loss: -0.9591836734693878]"
     ]
    },
    {
     "name": "stderr",
     "output_type": "stream",
     "text": [
      "/usr/local/lib/python3.8/site-packages/mlflow/models/signature.py:152: UserWarning: Hint: Inferred schema contains integer column(s). Integer columns in Python cannot represent missing values. If your input data contains missing values at inference time, it will be encoded as floats and will cause a schema enforcement error. The best way to avoid this problem is to infer the model schema based on a realistic data sample (training dataset) that includes missing values. Alternatively, you can declare integer columns as doubles (float64) whenever these columns may have missing values. See `Handling Integers With Missing Values <https://www.mlflow.org/docs/latest/models.html#handling-integers-with-missing-values>`_ for more details.\n",
      "  inputs = _infer_schema(model_input)\n",
      "                                                                                \r"
     ]
    },
    {
     "name": "stdout",
     "output_type": "stream",
     "text": [
      "  7%|▋         | 7/100 [00:14<02:44,  1.77s/trial, best loss: -0.9591836734693878]"
     ]
    },
    {
     "name": "stderr",
     "output_type": "stream",
     "text": [
      "/usr/local/lib/python3.8/site-packages/mlflow/models/signature.py:152: UserWarning: Hint: Inferred schema contains integer column(s). Integer columns in Python cannot represent missing values. If your input data contains missing values at inference time, it will be encoded as floats and will cause a schema enforcement error. The best way to avoid this problem is to infer the model schema based on a realistic data sample (training dataset) that includes missing values. Alternatively, you can declare integer columns as doubles (float64) whenever these columns may have missing values. See `Handling Integers With Missing Values <https://www.mlflow.org/docs/latest/models.html#handling-integers-with-missing-values>`_ for more details.\n",
      "  inputs = _infer_schema(model_input)\n",
      "[Stage 112:>  (0 + 1) / 1][Stage 113:>  (0 + 1) / 1][Stage 114:>  (0 + 0) / 1]\r"
     ]
    },
    {
     "name": "stdout",
     "output_type": "stream",
     "text": [
      "  8%|▊         | 8/100 [00:15<02:20,  1.53s/trial, best loss: -0.9591836734693878]"
     ]
    },
    {
     "name": "stderr",
     "output_type": "stream",
     "text": [
      "/usr/local/lib/python3.8/site-packages/mlflow/models/signature.py:152: UserWarning: Hint: Inferred schema contains integer column(s). Integer columns in Python cannot represent missing values. If your input data contains missing values at inference time, it will be encoded as floats and will cause a schema enforcement error. The best way to avoid this problem is to infer the model schema based on a realistic data sample (training dataset) that includes missing values. Alternatively, you can declare integer columns as doubles (float64) whenever these columns may have missing values. See `Handling Integers With Missing Values <https://www.mlflow.org/docs/latest/models.html#handling-integers-with-missing-values>`_ for more details.\n",
      "  inputs = _infer_schema(model_input)\n",
      "                                                                                \r"
     ]
    },
    {
     "name": "stdout",
     "output_type": "stream",
     "text": [
      "  9%|▉         | 9/100 [00:17<02:33,  1.69s/trial, best loss: -0.9591836734693878]"
     ]
    },
    {
     "name": "stderr",
     "output_type": "stream",
     "text": [
      "/usr/local/lib/python3.8/site-packages/mlflow/models/signature.py:152: UserWarning: Hint: Inferred schema contains integer column(s). Integer columns in Python cannot represent missing values. If your input data contains missing values at inference time, it will be encoded as floats and will cause a schema enforcement error. The best way to avoid this problem is to infer the model schema based on a realistic data sample (training dataset) that includes missing values. Alternatively, you can declare integer columns as doubles (float64) whenever these columns may have missing values. See `Handling Integers With Missing Values <https://www.mlflow.org/docs/latest/models.html#handling-integers-with-missing-values>`_ for more details.\n",
      "  inputs = _infer_schema(model_input)\n"
     ]
    },
    {
     "name": "stdout",
     "output_type": "stream",
     "text": [
      " 10%|█         | 10/100 [00:18<02:12,  1.48s/trial, best loss: -0.9591836734693878]"
     ]
    },
    {
     "name": "stderr",
     "output_type": "stream",
     "text": [
      "/usr/local/lib/python3.8/site-packages/mlflow/models/signature.py:152: UserWarning: Hint: Inferred schema contains integer column(s). Integer columns in Python cannot represent missing values. If your input data contains missing values at inference time, it will be encoded as floats and will cause a schema enforcement error. The best way to avoid this problem is to infer the model schema based on a realistic data sample (training dataset) that includes missing values. Alternatively, you can declare integer columns as doubles (float64) whenever these columns may have missing values. See `Handling Integers With Missing Values <https://www.mlflow.org/docs/latest/models.html#handling-integers-with-missing-values>`_ for more details.\n",
      "  inputs = _infer_schema(model_input)\n",
      "                                                                                \r"
     ]
    },
    {
     "name": "stdout",
     "output_type": "stream",
     "text": [
      " 11%|█         | 11/100 [00:20<02:26,  1.64s/trial, best loss: -0.9591836734693878]"
     ]
    },
    {
     "name": "stderr",
     "output_type": "stream",
     "text": [
      "/usr/local/lib/python3.8/site-packages/mlflow/models/signature.py:152: UserWarning: Hint: Inferred schema contains integer column(s). Integer columns in Python cannot represent missing values. If your input data contains missing values at inference time, it will be encoded as floats and will cause a schema enforcement error. The best way to avoid this problem is to infer the model schema based on a realistic data sample (training dataset) that includes missing values. Alternatively, you can declare integer columns as doubles (float64) whenever these columns may have missing values. See `Handling Integers With Missing Values <https://www.mlflow.org/docs/latest/models.html#handling-integers-with-missing-values>`_ for more details.\n",
      "  inputs = _infer_schema(model_input)\n",
      "[Stage 116:>  (0 + 1) / 1][Stage 117:>  (0 + 1) / 1][Stage 118:>  (0 + 0) / 1]\r"
     ]
    },
    {
     "name": "stdout",
     "output_type": "stream",
     "text": [
      " 12%|█▏        | 12/100 [00:21<02:08,  1.46s/trial, best loss: -0.9591836734693878]"
     ]
    },
    {
     "name": "stderr",
     "output_type": "stream",
     "text": [
      "/usr/local/lib/python3.8/site-packages/mlflow/models/signature.py:152: UserWarning: Hint: Inferred schema contains integer column(s). Integer columns in Python cannot represent missing values. If your input data contains missing values at inference time, it will be encoded as floats and will cause a schema enforcement error. The best way to avoid this problem is to infer the model schema based on a realistic data sample (training dataset) that includes missing values. Alternatively, you can declare integer columns as doubles (float64) whenever these columns may have missing values. See `Handling Integers With Missing Values <https://www.mlflow.org/docs/latest/models.html#handling-integers-with-missing-values>`_ for more details.\n",
      "  inputs = _infer_schema(model_input)\n",
      "/usr/local/lib/python3.8/site-packages/mlflow/models/signature.py:152: UserWarning: Hint: Inferred schema contains integer column(s). Integer columns in Python cannot represent missing values. If your input data contains missing values at inference time, it will be encoded as floats and will cause a schema enforcement error. The best way to avoid this problem is to infer the model schema based on a realistic data sample (training dataset) that includes missing values. Alternatively, you can declare integer columns as doubles (float64) whenever these columns may have missing values. See `Handling Integers With Missing Values <https://www.mlflow.org/docs/latest/models.html#handling-integers-with-missing-values>`_ for more details.\n",
      "  inputs = _infer_schema(model_input)\n"
     ]
    },
    {
     "name": "stdout",
     "output_type": "stream",
     "text": [
      " 14%|█▍        | 14/100 [00:23<01:48,  1.26s/trial, best loss: -0.9591836734693878]"
     ]
    },
    {
     "name": "stderr",
     "output_type": "stream",
     "text": [
      "/usr/local/lib/python3.8/site-packages/mlflow/models/signature.py:152: UserWarning: Hint: Inferred schema contains integer column(s). Integer columns in Python cannot represent missing values. If your input data contains missing values at inference time, it will be encoded as floats and will cause a schema enforcement error. The best way to avoid this problem is to infer the model schema based on a realistic data sample (training dataset) that includes missing values. Alternatively, you can declare integer columns as doubles (float64) whenever these columns may have missing values. See `Handling Integers With Missing Values <https://www.mlflow.org/docs/latest/models.html#handling-integers-with-missing-values>`_ for more details.\n",
      "  inputs = _infer_schema(model_input)\n",
      "/usr/local/lib/python3.8/site-packages/mlflow/models/signature.py:152: UserWarning: Hint: Inferred schema contains integer column(s). Integer columns in Python cannot represent missing values. If your input data contains missing values at inference time, it will be encoded as floats and will cause a schema enforcement error. The best way to avoid this problem is to infer the model schema based on a realistic data sample (training dataset) that includes missing values. Alternatively, you can declare integer columns as doubles (float64) whenever these columns may have missing values. See `Handling Integers With Missing Values <https://www.mlflow.org/docs/latest/models.html#handling-integers-with-missing-values>`_ for more details.\n",
      "  inputs = _infer_schema(model_input)\n"
     ]
    },
    {
     "name": "stdout",
     "output_type": "stream",
     "text": [
      " 16%|█▌        | 16/100 [00:26<01:55,  1.37s/trial, best loss: -0.9591836734693878]"
     ]
    },
    {
     "name": "stderr",
     "output_type": "stream",
     "text": [
      "/usr/local/lib/python3.8/site-packages/mlflow/models/signature.py:152: UserWarning: Hint: Inferred schema contains integer column(s). Integer columns in Python cannot represent missing values. If your input data contains missing values at inference time, it will be encoded as floats and will cause a schema enforcement error. The best way to avoid this problem is to infer the model schema based on a realistic data sample (training dataset) that includes missing values. Alternatively, you can declare integer columns as doubles (float64) whenever these columns may have missing values. See `Handling Integers With Missing Values <https://www.mlflow.org/docs/latest/models.html#handling-integers-with-missing-values>`_ for more details.\n",
      "  inputs = _infer_schema(model_input)\n",
      "/usr/local/lib/python3.8/site-packages/mlflow/models/signature.py:152: UserWarning: Hint: Inferred schema contains integer column(s). Integer columns in Python cannot represent missing values. If your input data contains missing values at inference time, it will be encoded as floats and will cause a schema enforcement error. The best way to avoid this problem is to infer the model schema based on a realistic data sample (training dataset) that includes missing values. Alternatively, you can declare integer columns as doubles (float64) whenever these columns may have missing values. See `Handling Integers With Missing Values <https://www.mlflow.org/docs/latest/models.html#handling-integers-with-missing-values>`_ for more details.\n",
      "  inputs = _infer_schema(model_input)\n"
     ]
    },
    {
     "name": "stdout",
     "output_type": "stream",
     "text": [
      " 18%|█▊        | 18/100 [00:29<01:57,  1.43s/trial, best loss: -0.9591836734693878]"
     ]
    },
    {
     "name": "stderr",
     "output_type": "stream",
     "text": [
      "/usr/local/lib/python3.8/site-packages/mlflow/models/signature.py:152: UserWarning: Hint: Inferred schema contains integer column(s). Integer columns in Python cannot represent missing values. If your input data contains missing values at inference time, it will be encoded as floats and will cause a schema enforcement error. The best way to avoid this problem is to infer the model schema based on a realistic data sample (training dataset) that includes missing values. Alternatively, you can declare integer columns as doubles (float64) whenever these columns may have missing values. See `Handling Integers With Missing Values <https://www.mlflow.org/docs/latest/models.html#handling-integers-with-missing-values>`_ for more details.\n",
      "  inputs = _infer_schema(model_input)\n",
      "/usr/local/lib/python3.8/site-packages/mlflow/models/signature.py:152: UserWarning: Hint: Inferred schema contains integer column(s). Integer columns in Python cannot represent missing values. If your input data contains missing values at inference time, it will be encoded as floats and will cause a schema enforcement error. The best way to avoid this problem is to infer the model schema based on a realistic data sample (training dataset) that includes missing values. Alternatively, you can declare integer columns as doubles (float64) whenever these columns may have missing values. See `Handling Integers With Missing Values <https://www.mlflow.org/docs/latest/models.html#handling-integers-with-missing-values>`_ for more details.\n",
      "  inputs = _infer_schema(model_input)\n",
      "[Stage 124:>  (0 + 1) / 1][Stage 125:>  (0 + 1) / 1][Stage 126:>  (0 + 0) / 1]\r"
     ]
    },
    {
     "name": "stdout",
     "output_type": "stream",
     "text": [
      " 20%|██        | 20/100 [00:32<01:57,  1.47s/trial, best loss: -0.9591836734693878]"
     ]
    },
    {
     "name": "stderr",
     "output_type": "stream",
     "text": [
      "/usr/local/lib/python3.8/site-packages/mlflow/models/signature.py:152: UserWarning: Hint: Inferred schema contains integer column(s). Integer columns in Python cannot represent missing values. If your input data contains missing values at inference time, it will be encoded as floats and will cause a schema enforcement error. The best way to avoid this problem is to infer the model schema based on a realistic data sample (training dataset) that includes missing values. Alternatively, you can declare integer columns as doubles (float64) whenever these columns may have missing values. See `Handling Integers With Missing Values <https://www.mlflow.org/docs/latest/models.html#handling-integers-with-missing-values>`_ for more details.\n",
      "  inputs = _infer_schema(model_input)\n",
      "/usr/local/lib/python3.8/site-packages/mlflow/models/signature.py:152: UserWarning: Hint: Inferred schema contains integer column(s). Integer columns in Python cannot represent missing values. If your input data contains missing values at inference time, it will be encoded as floats and will cause a schema enforcement error. The best way to avoid this problem is to infer the model schema based on a realistic data sample (training dataset) that includes missing values. Alternatively, you can declare integer columns as doubles (float64) whenever these columns may have missing values. See `Handling Integers With Missing Values <https://www.mlflow.org/docs/latest/models.html#handling-integers-with-missing-values>`_ for more details.\n",
      "  inputs = _infer_schema(model_input)\n"
     ]
    },
    {
     "name": "stdout",
     "output_type": "stream",
     "text": [
      " 22%|██▏       | 22/100 [00:35<01:56,  1.49s/trial, best loss: -0.9591836734693878]"
     ]
    },
    {
     "name": "stderr",
     "output_type": "stream",
     "text": [
      "/usr/local/lib/python3.8/site-packages/mlflow/models/signature.py:152: UserWarning: Hint: Inferred schema contains integer column(s). Integer columns in Python cannot represent missing values. If your input data contains missing values at inference time, it will be encoded as floats and will cause a schema enforcement error. The best way to avoid this problem is to infer the model schema based on a realistic data sample (training dataset) that includes missing values. Alternatively, you can declare integer columns as doubles (float64) whenever these columns may have missing values. See `Handling Integers With Missing Values <https://www.mlflow.org/docs/latest/models.html#handling-integers-with-missing-values>`_ for more details.\n",
      "  inputs = _infer_schema(model_input)\n",
      "                                                                                \r"
     ]
    },
    {
     "name": "stdout",
     "output_type": "stream",
     "text": [
      " 23%|██▎       | 23/100 [00:37<02:03,  1.60s/trial, best loss: -0.9591836734693878]"
     ]
    },
    {
     "name": "stderr",
     "output_type": "stream",
     "text": [
      "/usr/local/lib/python3.8/site-packages/mlflow/models/signature.py:152: UserWarning: Hint: Inferred schema contains integer column(s). Integer columns in Python cannot represent missing values. If your input data contains missing values at inference time, it will be encoded as floats and will cause a schema enforcement error. The best way to avoid this problem is to infer the model schema based on a realistic data sample (training dataset) that includes missing values. Alternatively, you can declare integer columns as doubles (float64) whenever these columns may have missing values. See `Handling Integers With Missing Values <https://www.mlflow.org/docs/latest/models.html#handling-integers-with-missing-values>`_ for more details.\n",
      "  inputs = _infer_schema(model_input)\n",
      "[Stage 128:>  (0 + 1) / 1][Stage 129:>  (0 + 1) / 1][Stage 130:>  (0 + 0) / 1]\r"
     ]
    },
    {
     "name": "stdout",
     "output_type": "stream",
     "text": [
      " 24%|██▍       | 24/100 [00:38<01:52,  1.48s/trial, best loss: -0.9591836734693878]"
     ]
    },
    {
     "name": "stderr",
     "output_type": "stream",
     "text": [
      "/usr/local/lib/python3.8/site-packages/mlflow/models/signature.py:152: UserWarning: Hint: Inferred schema contains integer column(s). Integer columns in Python cannot represent missing values. If your input data contains missing values at inference time, it will be encoded as floats and will cause a schema enforcement error. The best way to avoid this problem is to infer the model schema based on a realistic data sample (training dataset) that includes missing values. Alternatively, you can declare integer columns as doubles (float64) whenever these columns may have missing values. See `Handling Integers With Missing Values <https://www.mlflow.org/docs/latest/models.html#handling-integers-with-missing-values>`_ for more details.\n",
      "  inputs = _infer_schema(model_input)\n",
      "                                                                                \r"
     ]
    },
    {
     "name": "stdout",
     "output_type": "stream",
     "text": [
      " 26%|██▌       | 26/100 [00:40<01:36,  1.30s/trial, best loss: -0.9602040816326531]"
     ]
    },
    {
     "name": "stderr",
     "output_type": "stream",
     "text": [
      "/usr/local/lib/python3.8/site-packages/mlflow/models/signature.py:152: UserWarning: Hint: Inferred schema contains integer column(s). Integer columns in Python cannot represent missing values. If your input data contains missing values at inference time, it will be encoded as floats and will cause a schema enforcement error. The best way to avoid this problem is to infer the model schema based on a realistic data sample (training dataset) that includes missing values. Alternatively, you can declare integer columns as doubles (float64) whenever these columns may have missing values. See `Handling Integers With Missing Values <https://www.mlflow.org/docs/latest/models.html#handling-integers-with-missing-values>`_ for more details.\n",
      "  inputs = _infer_schema(model_input)\n",
      "/usr/local/lib/python3.8/site-packages/mlflow/models/signature.py:152: UserWarning: Hint: Inferred schema contains integer column(s). Integer columns in Python cannot represent missing values. If your input data contains missing values at inference time, it will be encoded as floats and will cause a schema enforcement error. The best way to avoid this problem is to infer the model schema based on a realistic data sample (training dataset) that includes missing values. Alternatively, you can declare integer columns as doubles (float64) whenever these columns may have missing values. See `Handling Integers With Missing Values <https://www.mlflow.org/docs/latest/models.html#handling-integers-with-missing-values>`_ for more details.\n",
      "  inputs = _infer_schema(model_input)\n",
      "/usr/local/lib/python3.8/site-packages/mlflow/models/signature.py:152: UserWarning: Hint: Inferred schema contains integer column(s). Integer columns in Python cannot represent missing values. If your input data contains missing values at inference time, it will be encoded as floats and will cause a schema enforcement error. The best way to avoid this problem is to infer the model schema based on a realistic data sample (training dataset) that includes missing values. Alternatively, you can declare integer columns as doubles (float64) whenever these columns may have missing values. See `Handling Integers With Missing Values <https://www.mlflow.org/docs/latest/models.html#handling-integers-with-missing-values>`_ for more details.\n",
      "  inputs = _infer_schema(model_input)\n",
      "                                                                                \r"
     ]
    },
    {
     "name": "stdout",
     "output_type": "stream",
     "text": [
      " 28%|██▊       | 28/100 [00:44<01:45,  1.46s/trial, best loss: -0.9602040816326531]"
     ]
    },
    {
     "name": "stderr",
     "output_type": "stream",
     "text": [
      "/usr/local/lib/python3.8/site-packages/mlflow/models/signature.py:152: UserWarning: Hint: Inferred schema contains integer column(s). Integer columns in Python cannot represent missing values. If your input data contains missing values at inference time, it will be encoded as floats and will cause a schema enforcement error. The best way to avoid this problem is to infer the model schema based on a realistic data sample (training dataset) that includes missing values. Alternatively, you can declare integer columns as doubles (float64) whenever these columns may have missing values. See `Handling Integers With Missing Values <https://www.mlflow.org/docs/latest/models.html#handling-integers-with-missing-values>`_ for more details.\n",
      "  inputs = _infer_schema(model_input)\n",
      "/usr/local/lib/python3.8/site-packages/mlflow/models/signature.py:152: UserWarning: Hint: Inferred schema contains integer column(s). Integer columns in Python cannot represent missing values. If your input data contains missing values at inference time, it will be encoded as floats and will cause a schema enforcement error. The best way to avoid this problem is to infer the model schema based on a realistic data sample (training dataset) that includes missing values. Alternatively, you can declare integer columns as doubles (float64) whenever these columns may have missing values. See `Handling Integers With Missing Values <https://www.mlflow.org/docs/latest/models.html#handling-integers-with-missing-values>`_ for more details.\n",
      "  inputs = _infer_schema(model_input)\n",
      "                                                                                \r"
     ]
    },
    {
     "name": "stdout",
     "output_type": "stream",
     "text": [
      " 30%|███       | 30/100 [00:47<01:44,  1.49s/trial, best loss: -0.9602040816326531]"
     ]
    },
    {
     "name": "stderr",
     "output_type": "stream",
     "text": [
      "/usr/local/lib/python3.8/site-packages/mlflow/models/signature.py:152: UserWarning: Hint: Inferred schema contains integer column(s). Integer columns in Python cannot represent missing values. If your input data contains missing values at inference time, it will be encoded as floats and will cause a schema enforcement error. The best way to avoid this problem is to infer the model schema based on a realistic data sample (training dataset) that includes missing values. Alternatively, you can declare integer columns as doubles (float64) whenever these columns may have missing values. See `Handling Integers With Missing Values <https://www.mlflow.org/docs/latest/models.html#handling-integers-with-missing-values>`_ for more details.\n",
      "  inputs = _infer_schema(model_input)\n",
      "                                                                                \r"
     ]
    },
    {
     "name": "stdout",
     "output_type": "stream",
     "text": [
      " 31%|███       | 31/100 [00:49<01:49,  1.59s/trial, best loss: -0.9602040816326531]"
     ]
    },
    {
     "name": "stderr",
     "output_type": "stream",
     "text": [
      "/usr/local/lib/python3.8/site-packages/mlflow/models/signature.py:152: UserWarning: Hint: Inferred schema contains integer column(s). Integer columns in Python cannot represent missing values. If your input data contains missing values at inference time, it will be encoded as floats and will cause a schema enforcement error. The best way to avoid this problem is to infer the model schema based on a realistic data sample (training dataset) that includes missing values. Alternatively, you can declare integer columns as doubles (float64) whenever these columns may have missing values. See `Handling Integers With Missing Values <https://www.mlflow.org/docs/latest/models.html#handling-integers-with-missing-values>`_ for more details.\n",
      "  inputs = _infer_schema(model_input)\n"
     ]
    },
    {
     "name": "stdout",
     "output_type": "stream",
     "text": [
      " 32%|███▏      | 32/100 [00:50<01:40,  1.47s/trial, best loss: -0.9602040816326531]"
     ]
    },
    {
     "name": "stderr",
     "output_type": "stream",
     "text": [
      "/usr/local/lib/python3.8/site-packages/mlflow/models/signature.py:152: UserWarning: Hint: Inferred schema contains integer column(s). Integer columns in Python cannot represent missing values. If your input data contains missing values at inference time, it will be encoded as floats and will cause a schema enforcement error. The best way to avoid this problem is to infer the model schema based on a realistic data sample (training dataset) that includes missing values. Alternatively, you can declare integer columns as doubles (float64) whenever these columns may have missing values. See `Handling Integers With Missing Values <https://www.mlflow.org/docs/latest/models.html#handling-integers-with-missing-values>`_ for more details.\n",
      "  inputs = _infer_schema(model_input)\n",
      "/usr/local/lib/python3.8/site-packages/mlflow/models/signature.py:152: UserWarning: Hint: Inferred schema contains integer column(s). Integer columns in Python cannot represent missing values. If your input data contains missing values at inference time, it will be encoded as floats and will cause a schema enforcement error. The best way to avoid this problem is to infer the model schema based on a realistic data sample (training dataset) that includes missing values. Alternatively, you can declare integer columns as doubles (float64) whenever these columns may have missing values. See `Handling Integers With Missing Values <https://www.mlflow.org/docs/latest/models.html#handling-integers-with-missing-values>`_ for more details.\n",
      "  inputs = _infer_schema(model_input)\n"
     ]
    },
    {
     "name": "stdout",
     "output_type": "stream",
     "text": [
      " 34%|███▍      | 34/100 [00:52<01:26,  1.31s/trial, best loss: -0.9602040816326531]"
     ]
    },
    {
     "name": "stderr",
     "output_type": "stream",
     "text": [
      "/usr/local/lib/python3.8/site-packages/mlflow/models/signature.py:152: UserWarning: Hint: Inferred schema contains integer column(s). Integer columns in Python cannot represent missing values. If your input data contains missing values at inference time, it will be encoded as floats and will cause a schema enforcement error. The best way to avoid this problem is to infer the model schema based on a realistic data sample (training dataset) that includes missing values. Alternatively, you can declare integer columns as doubles (float64) whenever these columns may have missing values. See `Handling Integers With Missing Values <https://www.mlflow.org/docs/latest/models.html#handling-integers-with-missing-values>`_ for more details.\n",
      "  inputs = _infer_schema(model_input)\n",
      "/usr/local/lib/python3.8/site-packages/mlflow/models/signature.py:152: UserWarning: Hint: Inferred schema contains integer column(s). Integer columns in Python cannot represent missing values. If your input data contains missing values at inference time, it will be encoded as floats and will cause a schema enforcement error. The best way to avoid this problem is to infer the model schema based on a realistic data sample (training dataset) that includes missing values. Alternatively, you can declare integer columns as doubles (float64) whenever these columns may have missing values. See `Handling Integers With Missing Values <https://www.mlflow.org/docs/latest/models.html#handling-integers-with-missing-values>`_ for more details.\n",
      "  inputs = _infer_schema(model_input)\n"
     ]
    },
    {
     "name": "stdout",
     "output_type": "stream",
     "text": [
      " 36%|███▌      | 36/100 [00:55<01:28,  1.39s/trial, best loss: -0.9602040816326531]"
     ]
    },
    {
     "name": "stderr",
     "output_type": "stream",
     "text": [
      "/usr/local/lib/python3.8/site-packages/mlflow/models/signature.py:152: UserWarning: Hint: Inferred schema contains integer column(s). Integer columns in Python cannot represent missing values. If your input data contains missing values at inference time, it will be encoded as floats and will cause a schema enforcement error. The best way to avoid this problem is to infer the model schema based on a realistic data sample (training dataset) that includes missing values. Alternatively, you can declare integer columns as doubles (float64) whenever these columns may have missing values. See `Handling Integers With Missing Values <https://www.mlflow.org/docs/latest/models.html#handling-integers-with-missing-values>`_ for more details.\n",
      "  inputs = _infer_schema(model_input)\n",
      "/usr/local/lib/python3.8/site-packages/mlflow/models/signature.py:152: UserWarning: Hint: Inferred schema contains integer column(s). Integer columns in Python cannot represent missing values. If your input data contains missing values at inference time, it will be encoded as floats and will cause a schema enforcement error. The best way to avoid this problem is to infer the model schema based on a realistic data sample (training dataset) that includes missing values. Alternatively, you can declare integer columns as doubles (float64) whenever these columns may have missing values. See `Handling Integers With Missing Values <https://www.mlflow.org/docs/latest/models.html#handling-integers-with-missing-values>`_ for more details.\n",
      "  inputs = _infer_schema(model_input)\n"
     ]
    },
    {
     "name": "stdout",
     "output_type": "stream",
     "text": [
      " 38%|███▊      | 38/100 [00:58<01:29,  1.44s/trial, best loss: -0.9602040816326531]"
     ]
    },
    {
     "name": "stderr",
     "output_type": "stream",
     "text": [
      "/usr/local/lib/python3.8/site-packages/mlflow/models/signature.py:152: UserWarning: Hint: Inferred schema contains integer column(s). Integer columns in Python cannot represent missing values. If your input data contains missing values at inference time, it will be encoded as floats and will cause a schema enforcement error. The best way to avoid this problem is to infer the model schema based on a realistic data sample (training dataset) that includes missing values. Alternatively, you can declare integer columns as doubles (float64) whenever these columns may have missing values. See `Handling Integers With Missing Values <https://www.mlflow.org/docs/latest/models.html#handling-integers-with-missing-values>`_ for more details.\n",
      "  inputs = _infer_schema(model_input)\n",
      "/usr/local/lib/python3.8/site-packages/mlflow/models/signature.py:152: UserWarning: Hint: Inferred schema contains integer column(s). Integer columns in Python cannot represent missing values. If your input data contains missing values at inference time, it will be encoded as floats and will cause a schema enforcement error. The best way to avoid this problem is to infer the model schema based on a realistic data sample (training dataset) that includes missing values. Alternatively, you can declare integer columns as doubles (float64) whenever these columns may have missing values. See `Handling Integers With Missing Values <https://www.mlflow.org/docs/latest/models.html#handling-integers-with-missing-values>`_ for more details.\n",
      "  inputs = _infer_schema(model_input)\n"
     ]
    },
    {
     "name": "stdout",
     "output_type": "stream",
     "text": [
      " 40%|████      | 40/100 [01:01<01:28,  1.47s/trial, best loss: -0.9602040816326531]"
     ]
    },
    {
     "name": "stderr",
     "output_type": "stream",
     "text": [
      "/usr/local/lib/python3.8/site-packages/mlflow/models/signature.py:152: UserWarning: Hint: Inferred schema contains integer column(s). Integer columns in Python cannot represent missing values. If your input data contains missing values at inference time, it will be encoded as floats and will cause a schema enforcement error. The best way to avoid this problem is to infer the model schema based on a realistic data sample (training dataset) that includes missing values. Alternatively, you can declare integer columns as doubles (float64) whenever these columns may have missing values. See `Handling Integers With Missing Values <https://www.mlflow.org/docs/latest/models.html#handling-integers-with-missing-values>`_ for more details.\n",
      "  inputs = _infer_schema(model_input)\n",
      "/usr/local/lib/python3.8/site-packages/mlflow/models/signature.py:152: UserWarning: Hint: Inferred schema contains integer column(s). Integer columns in Python cannot represent missing values. If your input data contains missing values at inference time, it will be encoded as floats and will cause a schema enforcement error. The best way to avoid this problem is to infer the model schema based on a realistic data sample (training dataset) that includes missing values. Alternatively, you can declare integer columns as doubles (float64) whenever these columns may have missing values. See `Handling Integers With Missing Values <https://www.mlflow.org/docs/latest/models.html#handling-integers-with-missing-values>`_ for more details.\n",
      "  inputs = _infer_schema(model_input)\n"
     ]
    },
    {
     "name": "stdout",
     "output_type": "stream",
     "text": [
      " 42%|████▏     | 42/100 [01:04<01:26,  1.50s/trial, best loss: -0.9602040816326531]"
     ]
    },
    {
     "name": "stderr",
     "output_type": "stream",
     "text": [
      "[Stage 146:>  (0 + 1) / 1][Stage 147:>  (0 + 1) / 1][Stage 148:>  (0 + 0) / 1]\r"
     ]
    },
    {
     "name": "stdout",
     "output_type": "stream",
     "text": [
      " 43%|████▎     | 43/100 [01:06<01:31,  1.60s/trial, best loss: -0.9602040816326531]"
     ]
    },
    {
     "name": "stderr",
     "output_type": "stream",
     "text": [
      "/usr/local/lib/python3.8/site-packages/mlflow/models/signature.py:152: UserWarning: Hint: Inferred schema contains integer column(s). Integer columns in Python cannot represent missing values. If your input data contains missing values at inference time, it will be encoded as floats and will cause a schema enforcement error. The best way to avoid this problem is to infer the model schema based on a realistic data sample (training dataset) that includes missing values. Alternatively, you can declare integer columns as doubles (float64) whenever these columns may have missing values. See `Handling Integers With Missing Values <https://www.mlflow.org/docs/latest/models.html#handling-integers-with-missing-values>`_ for more details.\n",
      "  inputs = _infer_schema(model_input)\n",
      "/usr/local/lib/python3.8/site-packages/mlflow/models/signature.py:152: UserWarning: Hint: Inferred schema contains integer column(s). Integer columns in Python cannot represent missing values. If your input data contains missing values at inference time, it will be encoded as floats and will cause a schema enforcement error. The best way to avoid this problem is to infer the model schema based on a realistic data sample (training dataset) that includes missing values. Alternatively, you can declare integer columns as doubles (float64) whenever these columns may have missing values. See `Handling Integers With Missing Values <https://www.mlflow.org/docs/latest/models.html#handling-integers-with-missing-values>`_ for more details.\n",
      "  inputs = _infer_schema(model_input)\n"
     ]
    },
    {
     "name": "stdout",
     "output_type": "stream",
     "text": [
      " 44%|████▍     | 44/100 [01:07<01:22,  1.48s/trial, best loss: -0.9602040816326531]"
     ]
    },
    {
     "name": "stderr",
     "output_type": "stream",
     "text": [
      "/usr/local/lib/python3.8/site-packages/mlflow/models/signature.py:152: UserWarning: Hint: Inferred schema contains integer column(s). Integer columns in Python cannot represent missing values. If your input data contains missing values at inference time, it will be encoded as floats and will cause a schema enforcement error. The best way to avoid this problem is to infer the model schema based on a realistic data sample (training dataset) that includes missing values. Alternatively, you can declare integer columns as doubles (float64) whenever these columns may have missing values. See `Handling Integers With Missing Values <https://www.mlflow.org/docs/latest/models.html#handling-integers-with-missing-values>`_ for more details.\n",
      "  inputs = _infer_schema(model_input)\n",
      "/usr/local/lib/python3.8/site-packages/mlflow/models/signature.py:152: UserWarning: Hint: Inferred schema contains integer column(s). Integer columns in Python cannot represent missing values. If your input data contains missing values at inference time, it will be encoded as floats and will cause a schema enforcement error. The best way to avoid this problem is to infer the model schema based on a realistic data sample (training dataset) that includes missing values. Alternatively, you can declare integer columns as doubles (float64) whenever these columns may have missing values. See `Handling Integers With Missing Values <https://www.mlflow.org/docs/latest/models.html#handling-integers-with-missing-values>`_ for more details.\n",
      "  inputs = _infer_schema(model_input)\n",
      "                                                                                \r"
     ]
    },
    {
     "name": "stdout",
     "output_type": "stream",
     "text": [
      " 46%|████▌     | 46/100 [01:10<01:21,  1.51s/trial, best loss: -0.9602040816326531]"
     ]
    },
    {
     "name": "stderr",
     "output_type": "stream",
     "text": [
      "/usr/local/lib/python3.8/site-packages/mlflow/models/signature.py:152: UserWarning: Hint: Inferred schema contains integer column(s). Integer columns in Python cannot represent missing values. If your input data contains missing values at inference time, it will be encoded as floats and will cause a schema enforcement error. The best way to avoid this problem is to infer the model schema based on a realistic data sample (training dataset) that includes missing values. Alternatively, you can declare integer columns as doubles (float64) whenever these columns may have missing values. See `Handling Integers With Missing Values <https://www.mlflow.org/docs/latest/models.html#handling-integers-with-missing-values>`_ for more details.\n",
      "  inputs = _infer_schema(model_input)\n",
      "/usr/local/lib/python3.8/site-packages/mlflow/models/signature.py:152: UserWarning: Hint: Inferred schema contains integer column(s). Integer columns in Python cannot represent missing values. If your input data contains missing values at inference time, it will be encoded as floats and will cause a schema enforcement error. The best way to avoid this problem is to infer the model schema based on a realistic data sample (training dataset) that includes missing values. Alternatively, you can declare integer columns as doubles (float64) whenever these columns may have missing values. See `Handling Integers With Missing Values <https://www.mlflow.org/docs/latest/models.html#handling-integers-with-missing-values>`_ for more details.\n",
      "  inputs = _infer_schema(model_input)\n"
     ]
    },
    {
     "name": "stdout",
     "output_type": "stream",
     "text": [
      " 48%|████▊     | 48/100 [01:14<01:18,  1.51s/trial, best loss: -0.9602040816326531]"
     ]
    },
    {
     "name": "stderr",
     "output_type": "stream",
     "text": [
      "/usr/local/lib/python3.8/site-packages/mlflow/models/signature.py:152: UserWarning: Hint: Inferred schema contains integer column(s). Integer columns in Python cannot represent missing values. If your input data contains missing values at inference time, it will be encoded as floats and will cause a schema enforcement error. The best way to avoid this problem is to infer the model schema based on a realistic data sample (training dataset) that includes missing values. Alternatively, you can declare integer columns as doubles (float64) whenever these columns may have missing values. See `Handling Integers With Missing Values <https://www.mlflow.org/docs/latest/models.html#handling-integers-with-missing-values>`_ for more details.\n",
      "  inputs = _infer_schema(model_input)\n",
      "/usr/local/lib/python3.8/site-packages/mlflow/models/signature.py:152: UserWarning: Hint: Inferred schema contains integer column(s). Integer columns in Python cannot represent missing values. If your input data contains missing values at inference time, it will be encoded as floats and will cause a schema enforcement error. The best way to avoid this problem is to infer the model schema based on a realistic data sample (training dataset) that includes missing values. Alternatively, you can declare integer columns as doubles (float64) whenever these columns may have missing values. See `Handling Integers With Missing Values <https://www.mlflow.org/docs/latest/models.html#handling-integers-with-missing-values>`_ for more details.\n",
      "  inputs = _infer_schema(model_input)\n",
      "                                                                                \r"
     ]
    },
    {
     "name": "stdout",
     "output_type": "stream",
     "text": [
      " 50%|█████     | 50/100 [01:17<01:16,  1.52s/trial, best loss: -0.9602040816326531]"
     ]
    },
    {
     "name": "stderr",
     "output_type": "stream",
     "text": [
      "/usr/local/lib/python3.8/site-packages/mlflow/models/signature.py:152: UserWarning: Hint: Inferred schema contains integer column(s). Integer columns in Python cannot represent missing values. If your input data contains missing values at inference time, it will be encoded as floats and will cause a schema enforcement error. The best way to avoid this problem is to infer the model schema based on a realistic data sample (training dataset) that includes missing values. Alternatively, you can declare integer columns as doubles (float64) whenever these columns may have missing values. See `Handling Integers With Missing Values <https://www.mlflow.org/docs/latest/models.html#handling-integers-with-missing-values>`_ for more details.\n",
      "  inputs = _infer_schema(model_input)\n",
      "/usr/local/lib/python3.8/site-packages/mlflow/models/signature.py:152: UserWarning: Hint: Inferred schema contains integer column(s). Integer columns in Python cannot represent missing values. If your input data contains missing values at inference time, it will be encoded as floats and will cause a schema enforcement error. The best way to avoid this problem is to infer the model schema based on a realistic data sample (training dataset) that includes missing values. Alternatively, you can declare integer columns as doubles (float64) whenever these columns may have missing values. See `Handling Integers With Missing Values <https://www.mlflow.org/docs/latest/models.html#handling-integers-with-missing-values>`_ for more details.\n",
      "  inputs = _infer_schema(model_input)\n"
     ]
    },
    {
     "name": "stdout",
     "output_type": "stream",
     "text": [
      " 52%|█████▏    | 52/100 [01:20<01:13,  1.53s/trial, best loss: -0.9602040816326531]"
     ]
    },
    {
     "name": "stderr",
     "output_type": "stream",
     "text": [
      "/usr/local/lib/python3.8/site-packages/mlflow/models/signature.py:152: UserWarning: Hint: Inferred schema contains integer column(s). Integer columns in Python cannot represent missing values. If your input data contains missing values at inference time, it will be encoded as floats and will cause a schema enforcement error. The best way to avoid this problem is to infer the model schema based on a realistic data sample (training dataset) that includes missing values. Alternatively, you can declare integer columns as doubles (float64) whenever these columns may have missing values. See `Handling Integers With Missing Values <https://www.mlflow.org/docs/latest/models.html#handling-integers-with-missing-values>`_ for more details.\n",
      "  inputs = _infer_schema(model_input)\n",
      "/usr/local/lib/python3.8/site-packages/mlflow/models/signature.py:152: UserWarning: Hint: Inferred schema contains integer column(s). Integer columns in Python cannot represent missing values. If your input data contains missing values at inference time, it will be encoded as floats and will cause a schema enforcement error. The best way to avoid this problem is to infer the model schema based on a realistic data sample (training dataset) that includes missing values. Alternatively, you can declare integer columns as doubles (float64) whenever these columns may have missing values. See `Handling Integers With Missing Values <https://www.mlflow.org/docs/latest/models.html#handling-integers-with-missing-values>`_ for more details.\n",
      "  inputs = _infer_schema(model_input)\n"
     ]
    },
    {
     "name": "stdout",
     "output_type": "stream",
     "text": [
      " 54%|█████▍    | 54/100 [01:22<01:03,  1.38s/trial, best loss: -0.9602040816326531]"
     ]
    },
    {
     "name": "stderr",
     "output_type": "stream",
     "text": [
      "/usr/local/lib/python3.8/site-packages/mlflow/models/signature.py:152: UserWarning: Hint: Inferred schema contains integer column(s). Integer columns in Python cannot represent missing values. If your input data contains missing values at inference time, it will be encoded as floats and will cause a schema enforcement error. The best way to avoid this problem is to infer the model schema based on a realistic data sample (training dataset) that includes missing values. Alternatively, you can declare integer columns as doubles (float64) whenever these columns may have missing values. See `Handling Integers With Missing Values <https://www.mlflow.org/docs/latest/models.html#handling-integers-with-missing-values>`_ for more details.\n",
      "  inputs = _infer_schema(model_input)\n",
      "/usr/local/lib/python3.8/site-packages/mlflow/models/signature.py:152: UserWarning: Hint: Inferred schema contains integer column(s). Integer columns in Python cannot represent missing values. If your input data contains missing values at inference time, it will be encoded as floats and will cause a schema enforcement error. The best way to avoid this problem is to infer the model schema based on a realistic data sample (training dataset) that includes missing values. Alternatively, you can declare integer columns as doubles (float64) whenever these columns may have missing values. See `Handling Integers With Missing Values <https://www.mlflow.org/docs/latest/models.html#handling-integers-with-missing-values>`_ for more details.\n",
      "  inputs = _infer_schema(model_input)\n"
     ]
    },
    {
     "name": "stdout",
     "output_type": "stream",
     "text": [
      " 56%|█████▌    | 56/100 [01:25<01:02,  1.43s/trial, best loss: -0.9602040816326531]"
     ]
    },
    {
     "name": "stderr",
     "output_type": "stream",
     "text": [
      "/usr/local/lib/python3.8/site-packages/mlflow/models/signature.py:152: UserWarning: Hint: Inferred schema contains integer column(s). Integer columns in Python cannot represent missing values. If your input data contains missing values at inference time, it will be encoded as floats and will cause a schema enforcement error. The best way to avoid this problem is to infer the model schema based on a realistic data sample (training dataset) that includes missing values. Alternatively, you can declare integer columns as doubles (float64) whenever these columns may have missing values. See `Handling Integers With Missing Values <https://www.mlflow.org/docs/latest/models.html#handling-integers-with-missing-values>`_ for more details.\n",
      "  inputs = _infer_schema(model_input)\n",
      "/usr/local/lib/python3.8/site-packages/mlflow/models/signature.py:152: UserWarning: Hint: Inferred schema contains integer column(s). Integer columns in Python cannot represent missing values. If your input data contains missing values at inference time, it will be encoded as floats and will cause a schema enforcement error. The best way to avoid this problem is to infer the model schema based on a realistic data sample (training dataset) that includes missing values. Alternatively, you can declare integer columns as doubles (float64) whenever these columns may have missing values. See `Handling Integers With Missing Values <https://www.mlflow.org/docs/latest/models.html#handling-integers-with-missing-values>`_ for more details.\n",
      "  inputs = _infer_schema(model_input)\n",
      "                                                                                \r"
     ]
    },
    {
     "name": "stdout",
     "output_type": "stream",
     "text": [
      " 58%|█████▊    | 58/100 [01:28<01:01,  1.46s/trial, best loss: -0.9602040816326531]"
     ]
    },
    {
     "name": "stderr",
     "output_type": "stream",
     "text": [
      "/usr/local/lib/python3.8/site-packages/mlflow/models/signature.py:152: UserWarning: Hint: Inferred schema contains integer column(s). Integer columns in Python cannot represent missing values. If your input data contains missing values at inference time, it will be encoded as floats and will cause a schema enforcement error. The best way to avoid this problem is to infer the model schema based on a realistic data sample (training dataset) that includes missing values. Alternatively, you can declare integer columns as doubles (float64) whenever these columns may have missing values. See `Handling Integers With Missing Values <https://www.mlflow.org/docs/latest/models.html#handling-integers-with-missing-values>`_ for more details.\n",
      "  inputs = _infer_schema(model_input)\n",
      "/usr/local/lib/python3.8/site-packages/mlflow/models/signature.py:152: UserWarning: Hint: Inferred schema contains integer column(s). Integer columns in Python cannot represent missing values. If your input data contains missing values at inference time, it will be encoded as floats and will cause a schema enforcement error. The best way to avoid this problem is to infer the model schema based on a realistic data sample (training dataset) that includes missing values. Alternatively, you can declare integer columns as doubles (float64) whenever these columns may have missing values. See `Handling Integers With Missing Values <https://www.mlflow.org/docs/latest/models.html#handling-integers-with-missing-values>`_ for more details.\n",
      "  inputs = _infer_schema(model_input)\n",
      "                                                                                \r"
     ]
    },
    {
     "name": "stdout",
     "output_type": "stream",
     "text": [
      " 60%|██████    | 60/100 [01:31<00:59,  1.49s/trial, best loss: -0.9602040816326531]"
     ]
    },
    {
     "name": "stderr",
     "output_type": "stream",
     "text": [
      "/usr/local/lib/python3.8/site-packages/mlflow/models/signature.py:152: UserWarning: Hint: Inferred schema contains integer column(s). Integer columns in Python cannot represent missing values. If your input data contains missing values at inference time, it will be encoded as floats and will cause a schema enforcement error. The best way to avoid this problem is to infer the model schema based on a realistic data sample (training dataset) that includes missing values. Alternatively, you can declare integer columns as doubles (float64) whenever these columns may have missing values. See `Handling Integers With Missing Values <https://www.mlflow.org/docs/latest/models.html#handling-integers-with-missing-values>`_ for more details.\n",
      "  inputs = _infer_schema(model_input)\n",
      "/usr/local/lib/python3.8/site-packages/mlflow/models/signature.py:152: UserWarning: Hint: Inferred schema contains integer column(s). Integer columns in Python cannot represent missing values. If your input data contains missing values at inference time, it will be encoded as floats and will cause a schema enforcement error. The best way to avoid this problem is to infer the model schema based on a realistic data sample (training dataset) that includes missing values. Alternatively, you can declare integer columns as doubles (float64) whenever these columns may have missing values. See `Handling Integers With Missing Values <https://www.mlflow.org/docs/latest/models.html#handling-integers-with-missing-values>`_ for more details.\n",
      "  inputs = _infer_schema(model_input)\n",
      "[Stage 166:>  (0 + 1) / 1][Stage 167:>  (0 + 1) / 1][Stage 168:>  (0 + 0) / 1]\r"
     ]
    },
    {
     "name": "stdout",
     "output_type": "stream",
     "text": [
      " 62%|██████▏   | 62/100 [01:34<00:57,  1.50s/trial, best loss: -0.9602040816326531]"
     ]
    },
    {
     "name": "stderr",
     "output_type": "stream",
     "text": [
      "/usr/local/lib/python3.8/site-packages/mlflow/models/signature.py:152: UserWarning: Hint: Inferred schema contains integer column(s). Integer columns in Python cannot represent missing values. If your input data contains missing values at inference time, it will be encoded as floats and will cause a schema enforcement error. The best way to avoid this problem is to infer the model schema based on a realistic data sample (training dataset) that includes missing values. Alternatively, you can declare integer columns as doubles (float64) whenever these columns may have missing values. See `Handling Integers With Missing Values <https://www.mlflow.org/docs/latest/models.html#handling-integers-with-missing-values>`_ for more details.\n",
      "  inputs = _infer_schema(model_input)\n",
      "/usr/local/lib/python3.8/site-packages/mlflow/models/signature.py:152: UserWarning: Hint: Inferred schema contains integer column(s). Integer columns in Python cannot represent missing values. If your input data contains missing values at inference time, it will be encoded as floats and will cause a schema enforcement error. The best way to avoid this problem is to infer the model schema based on a realistic data sample (training dataset) that includes missing values. Alternatively, you can declare integer columns as doubles (float64) whenever these columns may have missing values. See `Handling Integers With Missing Values <https://www.mlflow.org/docs/latest/models.html#handling-integers-with-missing-values>`_ for more details.\n",
      "  inputs = _infer_schema(model_input)\n",
      "[Stage 168:>  (0 + 1) / 1][Stage 169:>  (0 + 1) / 1][Stage 170:>  (0 + 0) / 1]\r"
     ]
    },
    {
     "name": "stdout",
     "output_type": "stream",
     "text": [
      " 65%|██████▌   | 65/100 [01:39<00:56,  1.62s/trial, best loss: -0.9602040816326531]"
     ]
    },
    {
     "name": "stderr",
     "output_type": "stream",
     "text": [
      "/usr/local/lib/python3.8/site-packages/mlflow/models/signature.py:152: UserWarning: Hint: Inferred schema contains integer column(s). Integer columns in Python cannot represent missing values. If your input data contains missing values at inference time, it will be encoded as floats and will cause a schema enforcement error. The best way to avoid this problem is to infer the model schema based on a realistic data sample (training dataset) that includes missing values. Alternatively, you can declare integer columns as doubles (float64) whenever these columns may have missing values. See `Handling Integers With Missing Values <https://www.mlflow.org/docs/latest/models.html#handling-integers-with-missing-values>`_ for more details.\n",
      "  inputs = _infer_schema(model_input)\n",
      "/usr/local/lib/python3.8/site-packages/mlflow/models/signature.py:152: UserWarning: Hint: Inferred schema contains integer column(s). Integer columns in Python cannot represent missing values. If your input data contains missing values at inference time, it will be encoded as floats and will cause a schema enforcement error. The best way to avoid this problem is to infer the model schema based on a realistic data sample (training dataset) that includes missing values. Alternatively, you can declare integer columns as doubles (float64) whenever these columns may have missing values. See `Handling Integers With Missing Values <https://www.mlflow.org/docs/latest/models.html#handling-integers-with-missing-values>`_ for more details.\n",
      "  inputs = _infer_schema(model_input)\n"
     ]
    },
    {
     "name": "stdout",
     "output_type": "stream",
     "text": [
      " 66%|██████▌   | 66/100 [01:40<00:50,  1.50s/trial, best loss: -0.9602040816326531]"
     ]
    },
    {
     "name": "stderr",
     "output_type": "stream",
     "text": [
      "/usr/local/lib/python3.8/site-packages/mlflow/models/signature.py:152: UserWarning: Hint: Inferred schema contains integer column(s). Integer columns in Python cannot represent missing values. If your input data contains missing values at inference time, it will be encoded as floats and will cause a schema enforcement error. The best way to avoid this problem is to infer the model schema based on a realistic data sample (training dataset) that includes missing values. Alternatively, you can declare integer columns as doubles (float64) whenever these columns may have missing values. See `Handling Integers With Missing Values <https://www.mlflow.org/docs/latest/models.html#handling-integers-with-missing-values>`_ for more details.\n",
      "  inputs = _infer_schema(model_input)\n",
      "                                                                                \r"
     ]
    },
    {
     "name": "stdout",
     "output_type": "stream",
     "text": [
      " 67%|██████▋   | 67/100 [01:42<00:53,  1.63s/trial, best loss: -0.9602040816326531]"
     ]
    },
    {
     "name": "stderr",
     "output_type": "stream",
     "text": [
      "/usr/local/lib/python3.8/site-packages/mlflow/models/signature.py:152: UserWarning: Hint: Inferred schema contains integer column(s). Integer columns in Python cannot represent missing values. If your input data contains missing values at inference time, it will be encoded as floats and will cause a schema enforcement error. The best way to avoid this problem is to infer the model schema based on a realistic data sample (training dataset) that includes missing values. Alternatively, you can declare integer columns as doubles (float64) whenever these columns may have missing values. See `Handling Integers With Missing Values <https://www.mlflow.org/docs/latest/models.html#handling-integers-with-missing-values>`_ for more details.\n",
      "  inputs = _infer_schema(model_input)\n"
     ]
    },
    {
     "name": "stdout",
     "output_type": "stream",
     "text": [
      " 68%|██████▊   | 68/100 [01:43<00:47,  1.49s/trial, best loss: -0.9602040816326531]"
     ]
    },
    {
     "name": "stderr",
     "output_type": "stream",
     "text": [
      "/usr/local/lib/python3.8/site-packages/mlflow/models/signature.py:152: UserWarning: Hint: Inferred schema contains integer column(s). Integer columns in Python cannot represent missing values. If your input data contains missing values at inference time, it will be encoded as floats and will cause a schema enforcement error. The best way to avoid this problem is to infer the model schema based on a realistic data sample (training dataset) that includes missing values. Alternatively, you can declare integer columns as doubles (float64) whenever these columns may have missing values. See `Handling Integers With Missing Values <https://www.mlflow.org/docs/latest/models.html#handling-integers-with-missing-values>`_ for more details.\n",
      "  inputs = _infer_schema(model_input)\n",
      "                                                                                \r"
     ]
    },
    {
     "name": "stdout",
     "output_type": "stream",
     "text": [
      " 69%|██████▉   | 69/100 [01:46<00:50,  1.64s/trial, best loss: -0.9602040816326531]"
     ]
    },
    {
     "name": "stderr",
     "output_type": "stream",
     "text": [
      "/usr/local/lib/python3.8/site-packages/mlflow/models/signature.py:152: UserWarning: Hint: Inferred schema contains integer column(s). Integer columns in Python cannot represent missing values. If your input data contains missing values at inference time, it will be encoded as floats and will cause a schema enforcement error. The best way to avoid this problem is to infer the model schema based on a realistic data sample (training dataset) that includes missing values. Alternatively, you can declare integer columns as doubles (float64) whenever these columns may have missing values. See `Handling Integers With Missing Values <https://www.mlflow.org/docs/latest/models.html#handling-integers-with-missing-values>`_ for more details.\n",
      "  inputs = _infer_schema(model_input)\n",
      "[Stage 174:>  (0 + 1) / 1][Stage 175:>  (0 + 1) / 1][Stage 176:>  (0 + 0) / 1]\r"
     ]
    },
    {
     "name": "stdout",
     "output_type": "stream",
     "text": [
      " 70%|███████   | 70/100 [01:47<00:44,  1.48s/trial, best loss: -0.9602040816326531]"
     ]
    },
    {
     "name": "stderr",
     "output_type": "stream",
     "text": [
      "/usr/local/lib/python3.8/site-packages/mlflow/models/signature.py:152: UserWarning: Hint: Inferred schema contains integer column(s). Integer columns in Python cannot represent missing values. If your input data contains missing values at inference time, it will be encoded as floats and will cause a schema enforcement error. The best way to avoid this problem is to infer the model schema based on a realistic data sample (training dataset) that includes missing values. Alternatively, you can declare integer columns as doubles (float64) whenever these columns may have missing values. See `Handling Integers With Missing Values <https://www.mlflow.org/docs/latest/models.html#handling-integers-with-missing-values>`_ for more details.\n",
      "  inputs = _infer_schema(model_input)\n",
      "                                                                                \r"
     ]
    },
    {
     "name": "stdout",
     "output_type": "stream",
     "text": [
      " 72%|███████▏  | 72/100 [01:49<00:35,  1.28s/trial, best loss: -0.9602040816326531]"
     ]
    },
    {
     "name": "stderr",
     "output_type": "stream",
     "text": [
      "/usr/local/lib/python3.8/site-packages/mlflow/models/signature.py:152: UserWarning: Hint: Inferred schema contains integer column(s). Integer columns in Python cannot represent missing values. If your input data contains missing values at inference time, it will be encoded as floats and will cause a schema enforcement error. The best way to avoid this problem is to infer the model schema based on a realistic data sample (training dataset) that includes missing values. Alternatively, you can declare integer columns as doubles (float64) whenever these columns may have missing values. See `Handling Integers With Missing Values <https://www.mlflow.org/docs/latest/models.html#handling-integers-with-missing-values>`_ for more details.\n",
      "  inputs = _infer_schema(model_input)\n",
      "/usr/local/lib/python3.8/site-packages/mlflow/models/signature.py:152: UserWarning: Hint: Inferred schema contains integer column(s). Integer columns in Python cannot represent missing values. If your input data contains missing values at inference time, it will be encoded as floats and will cause a schema enforcement error. The best way to avoid this problem is to infer the model schema based on a realistic data sample (training dataset) that includes missing values. Alternatively, you can declare integer columns as doubles (float64) whenever these columns may have missing values. See `Handling Integers With Missing Values <https://www.mlflow.org/docs/latest/models.html#handling-integers-with-missing-values>`_ for more details.\n",
      "  inputs = _infer_schema(model_input)\n",
      "/usr/local/lib/python3.8/site-packages/mlflow/models/signature.py:152: UserWarning: Hint: Inferred schema contains integer column(s). Integer columns in Python cannot represent missing values. If your input data contains missing values at inference time, it will be encoded as floats and will cause a schema enforcement error. The best way to avoid this problem is to infer the model schema based on a realistic data sample (training dataset) that includes missing values. Alternatively, you can declare integer columns as doubles (float64) whenever these columns may have missing values. See `Handling Integers With Missing Values <https://www.mlflow.org/docs/latest/models.html#handling-integers-with-missing-values>`_ for more details.\n",
      "  inputs = _infer_schema(model_input)\n"
     ]
    },
    {
     "name": "stdout",
     "output_type": "stream",
     "text": [
      " 74%|███████▍  | 74/100 [01:52<00:36,  1.39s/trial, best loss: -0.9602040816326531]"
     ]
    },
    {
     "name": "stderr",
     "output_type": "stream",
     "text": [
      "/usr/local/lib/python3.8/site-packages/mlflow/models/signature.py:152: UserWarning: Hint: Inferred schema contains integer column(s). Integer columns in Python cannot represent missing values. If your input data contains missing values at inference time, it will be encoded as floats and will cause a schema enforcement error. The best way to avoid this problem is to infer the model schema based on a realistic data sample (training dataset) that includes missing values. Alternatively, you can declare integer columns as doubles (float64) whenever these columns may have missing values. See `Handling Integers With Missing Values <https://www.mlflow.org/docs/latest/models.html#handling-integers-with-missing-values>`_ for more details.\n",
      "  inputs = _infer_schema(model_input)\n",
      "/usr/local/lib/python3.8/site-packages/mlflow/models/signature.py:152: UserWarning: Hint: Inferred schema contains integer column(s). Integer columns in Python cannot represent missing values. If your input data contains missing values at inference time, it will be encoded as floats and will cause a schema enforcement error. The best way to avoid this problem is to infer the model schema based on a realistic data sample (training dataset) that includes missing values. Alternatively, you can declare integer columns as doubles (float64) whenever these columns may have missing values. See `Handling Integers With Missing Values <https://www.mlflow.org/docs/latest/models.html#handling-integers-with-missing-values>`_ for more details.\n",
      "  inputs = _infer_schema(model_input)\n"
     ]
    },
    {
     "name": "stdout",
     "output_type": "stream",
     "text": [
      " 76%|███████▌  | 76/100 [01:55<00:34,  1.45s/trial, best loss: -0.9602040816326531]"
     ]
    },
    {
     "name": "stderr",
     "output_type": "stream",
     "text": [
      "[Stage 180:>  (0 + 1) / 1][Stage 181:>  (0 + 1) / 1][Stage 182:>  (0 + 0) / 1]\r"
     ]
    },
    {
     "name": "stdout",
     "output_type": "stream",
     "text": [
      " 77%|███████▋  | 77/100 [01:57<00:36,  1.58s/trial, best loss: -0.9602040816326531]"
     ]
    },
    {
     "name": "stderr",
     "output_type": "stream",
     "text": [
      "/usr/local/lib/python3.8/site-packages/mlflow/models/signature.py:152: UserWarning: Hint: Inferred schema contains integer column(s). Integer columns in Python cannot represent missing values. If your input data contains missing values at inference time, it will be encoded as floats and will cause a schema enforcement error. The best way to avoid this problem is to infer the model schema based on a realistic data sample (training dataset) that includes missing values. Alternatively, you can declare integer columns as doubles (float64) whenever these columns may have missing values. See `Handling Integers With Missing Values <https://www.mlflow.org/docs/latest/models.html#handling-integers-with-missing-values>`_ for more details.\n",
      "  inputs = _infer_schema(model_input)\n",
      "/usr/local/lib/python3.8/site-packages/mlflow/models/signature.py:152: UserWarning: Hint: Inferred schema contains integer column(s). Integer columns in Python cannot represent missing values. If your input data contains missing values at inference time, it will be encoded as floats and will cause a schema enforcement error. The best way to avoid this problem is to infer the model schema based on a realistic data sample (training dataset) that includes missing values. Alternatively, you can declare integer columns as doubles (float64) whenever these columns may have missing values. See `Handling Integers With Missing Values <https://www.mlflow.org/docs/latest/models.html#handling-integers-with-missing-values>`_ for more details.\n",
      "  inputs = _infer_schema(model_input)\n"
     ]
    },
    {
     "name": "stdout",
     "output_type": "stream",
     "text": [
      " 78%|███████▊  | 78/100 [01:58<00:31,  1.45s/trial, best loss: -0.9602040816326531]"
     ]
    },
    {
     "name": "stderr",
     "output_type": "stream",
     "text": [
      "[Stage 182:>  (0 + 1) / 1][Stage 183:>  (0 + 1) / 1][Stage 184:>  (0 + 0) / 1]\r"
     ]
    },
    {
     "name": "stdout",
     "output_type": "stream",
     "text": [
      " 79%|███████▉  | 79/100 [02:00<00:33,  1.61s/trial, best loss: -0.9602040816326531]"
     ]
    },
    {
     "name": "stderr",
     "output_type": "stream",
     "text": [
      "/usr/local/lib/python3.8/site-packages/mlflow/models/signature.py:152: UserWarning: Hint: Inferred schema contains integer column(s). Integer columns in Python cannot represent missing values. If your input data contains missing values at inference time, it will be encoded as floats and will cause a schema enforcement error. The best way to avoid this problem is to infer the model schema based on a realistic data sample (training dataset) that includes missing values. Alternatively, you can declare integer columns as doubles (float64) whenever these columns may have missing values. See `Handling Integers With Missing Values <https://www.mlflow.org/docs/latest/models.html#handling-integers-with-missing-values>`_ for more details.\n",
      "  inputs = _infer_schema(model_input)\n",
      "/usr/local/lib/python3.8/site-packages/mlflow/models/signature.py:152: UserWarning: Hint: Inferred schema contains integer column(s). Integer columns in Python cannot represent missing values. If your input data contains missing values at inference time, it will be encoded as floats and will cause a schema enforcement error. The best way to avoid this problem is to infer the model schema based on a realistic data sample (training dataset) that includes missing values. Alternatively, you can declare integer columns as doubles (float64) whenever these columns may have missing values. See `Handling Integers With Missing Values <https://www.mlflow.org/docs/latest/models.html#handling-integers-with-missing-values>`_ for more details.\n",
      "  inputs = _infer_schema(model_input)\n"
     ]
    },
    {
     "name": "stdout",
     "output_type": "stream",
     "text": [
      " 80%|████████  | 80/100 [02:01<00:29,  1.45s/trial, best loss: -0.9602040816326531]"
     ]
    },
    {
     "name": "stderr",
     "output_type": "stream",
     "text": [
      "/usr/local/lib/python3.8/site-packages/mlflow/models/signature.py:152: UserWarning: Hint: Inferred schema contains integer column(s). Integer columns in Python cannot represent missing values. If your input data contains missing values at inference time, it will be encoded as floats and will cause a schema enforcement error. The best way to avoid this problem is to infer the model schema based on a realistic data sample (training dataset) that includes missing values. Alternatively, you can declare integer columns as doubles (float64) whenever these columns may have missing values. See `Handling Integers With Missing Values <https://www.mlflow.org/docs/latest/models.html#handling-integers-with-missing-values>`_ for more details.\n",
      "  inputs = _infer_schema(model_input)\n",
      "                                                                                \r"
     ]
    },
    {
     "name": "stdout",
     "output_type": "stream",
     "text": [
      " 81%|████████  | 81/100 [02:03<00:30,  1.63s/trial, best loss: -0.9602040816326531]"
     ]
    },
    {
     "name": "stderr",
     "output_type": "stream",
     "text": [
      "/usr/local/lib/python3.8/site-packages/mlflow/models/signature.py:152: UserWarning: Hint: Inferred schema contains integer column(s). Integer columns in Python cannot represent missing values. If your input data contains missing values at inference time, it will be encoded as floats and will cause a schema enforcement error. The best way to avoid this problem is to infer the model schema based on a realistic data sample (training dataset) that includes missing values. Alternatively, you can declare integer columns as doubles (float64) whenever these columns may have missing values. See `Handling Integers With Missing Values <https://www.mlflow.org/docs/latest/models.html#handling-integers-with-missing-values>`_ for more details.\n",
      "  inputs = _infer_schema(model_input)\n",
      "[Stage 186:>  (0 + 1) / 1][Stage 187:>  (0 + 1) / 1][Stage 188:>  (0 + 0) / 1]\r"
     ]
    },
    {
     "name": "stdout",
     "output_type": "stream",
     "text": [
      " 82%|████████▏ | 82/100 [02:04<00:26,  1.46s/trial, best loss: -0.9602040816326531]"
     ]
    },
    {
     "name": "stderr",
     "output_type": "stream",
     "text": [
      "/usr/local/lib/python3.8/site-packages/mlflow/models/signature.py:152: UserWarning: Hint: Inferred schema contains integer column(s). Integer columns in Python cannot represent missing values. If your input data contains missing values at inference time, it will be encoded as floats and will cause a schema enforcement error. The best way to avoid this problem is to infer the model schema based on a realistic data sample (training dataset) that includes missing values. Alternatively, you can declare integer columns as doubles (float64) whenever these columns may have missing values. See `Handling Integers With Missing Values <https://www.mlflow.org/docs/latest/models.html#handling-integers-with-missing-values>`_ for more details.\n",
      "  inputs = _infer_schema(model_input)\n",
      "                                                                                \r"
     ]
    },
    {
     "name": "stdout",
     "output_type": "stream",
     "text": [
      " 84%|████████▍ | 84/100 [02:06<00:20,  1.28s/trial, best loss: -0.9602040816326531]"
     ]
    },
    {
     "name": "stderr",
     "output_type": "stream",
     "text": [
      "/usr/local/lib/python3.8/site-packages/mlflow/models/signature.py:152: UserWarning: Hint: Inferred schema contains integer column(s). Integer columns in Python cannot represent missing values. If your input data contains missing values at inference time, it will be encoded as floats and will cause a schema enforcement error. The best way to avoid this problem is to infer the model schema based on a realistic data sample (training dataset) that includes missing values. Alternatively, you can declare integer columns as doubles (float64) whenever these columns may have missing values. See `Handling Integers With Missing Values <https://www.mlflow.org/docs/latest/models.html#handling-integers-with-missing-values>`_ for more details.\n",
      "  inputs = _infer_schema(model_input)\n",
      "/usr/local/lib/python3.8/site-packages/mlflow/models/signature.py:152: UserWarning: Hint: Inferred schema contains integer column(s). Integer columns in Python cannot represent missing values. If your input data contains missing values at inference time, it will be encoded as floats and will cause a schema enforcement error. The best way to avoid this problem is to infer the model schema based on a realistic data sample (training dataset) that includes missing values. Alternatively, you can declare integer columns as doubles (float64) whenever these columns may have missing values. See `Handling Integers With Missing Values <https://www.mlflow.org/docs/latest/models.html#handling-integers-with-missing-values>`_ for more details.\n",
      "  inputs = _infer_schema(model_input)\n",
      "/usr/local/lib/python3.8/site-packages/mlflow/models/signature.py:152: UserWarning: Hint: Inferred schema contains integer column(s). Integer columns in Python cannot represent missing values. If your input data contains missing values at inference time, it will be encoded as floats and will cause a schema enforcement error. The best way to avoid this problem is to infer the model schema based on a realistic data sample (training dataset) that includes missing values. Alternatively, you can declare integer columns as doubles (float64) whenever these columns may have missing values. See `Handling Integers With Missing Values <https://www.mlflow.org/docs/latest/models.html#handling-integers-with-missing-values>`_ for more details.\n",
      "  inputs = _infer_schema(model_input)\n"
     ]
    },
    {
     "name": "stdout",
     "output_type": "stream",
     "text": [
      " 86%|████████▌ | 86/100 [02:09<00:19,  1.38s/trial, best loss: -0.9602040816326531]"
     ]
    },
    {
     "name": "stderr",
     "output_type": "stream",
     "text": [
      "/usr/local/lib/python3.8/site-packages/mlflow/models/signature.py:152: UserWarning: Hint: Inferred schema contains integer column(s). Integer columns in Python cannot represent missing values. If your input data contains missing values at inference time, it will be encoded as floats and will cause a schema enforcement error. The best way to avoid this problem is to infer the model schema based on a realistic data sample (training dataset) that includes missing values. Alternatively, you can declare integer columns as doubles (float64) whenever these columns may have missing values. See `Handling Integers With Missing Values <https://www.mlflow.org/docs/latest/models.html#handling-integers-with-missing-values>`_ for more details.\n",
      "  inputs = _infer_schema(model_input)\n",
      "/usr/local/lib/python3.8/site-packages/mlflow/models/signature.py:152: UserWarning: Hint: Inferred schema contains integer column(s). Integer columns in Python cannot represent missing values. If your input data contains missing values at inference time, it will be encoded as floats and will cause a schema enforcement error. The best way to avoid this problem is to infer the model schema based on a realistic data sample (training dataset) that includes missing values. Alternatively, you can declare integer columns as doubles (float64) whenever these columns may have missing values. See `Handling Integers With Missing Values <https://www.mlflow.org/docs/latest/models.html#handling-integers-with-missing-values>`_ for more details.\n",
      "  inputs = _infer_schema(model_input)\n"
     ]
    },
    {
     "name": "stdout",
     "output_type": "stream",
     "text": [
      " 88%|████████▊ | 88/100 [02:12<00:17,  1.44s/trial, best loss: -0.9602040816326531]"
     ]
    },
    {
     "name": "stderr",
     "output_type": "stream",
     "text": [
      "/usr/local/lib/python3.8/site-packages/mlflow/models/signature.py:152: UserWarning: Hint: Inferred schema contains integer column(s). Integer columns in Python cannot represent missing values. If your input data contains missing values at inference time, it will be encoded as floats and will cause a schema enforcement error. The best way to avoid this problem is to infer the model schema based on a realistic data sample (training dataset) that includes missing values. Alternatively, you can declare integer columns as doubles (float64) whenever these columns may have missing values. See `Handling Integers With Missing Values <https://www.mlflow.org/docs/latest/models.html#handling-integers-with-missing-values>`_ for more details.\n",
      "  inputs = _infer_schema(model_input)\n",
      "/usr/local/lib/python3.8/site-packages/mlflow/models/signature.py:152: UserWarning: Hint: Inferred schema contains integer column(s). Integer columns in Python cannot represent missing values. If your input data contains missing values at inference time, it will be encoded as floats and will cause a schema enforcement error. The best way to avoid this problem is to infer the model schema based on a realistic data sample (training dataset) that includes missing values. Alternatively, you can declare integer columns as doubles (float64) whenever these columns may have missing values. See `Handling Integers With Missing Values <https://www.mlflow.org/docs/latest/models.html#handling-integers-with-missing-values>`_ for more details.\n",
      "  inputs = _infer_schema(model_input)\n"
     ]
    },
    {
     "name": "stdout",
     "output_type": "stream",
     "text": [
      " 90%|█████████ | 90/100 [02:16<00:14,  1.47s/trial, best loss: -0.9602040816326531]"
     ]
    },
    {
     "name": "stderr",
     "output_type": "stream",
     "text": [
      "/usr/local/lib/python3.8/site-packages/mlflow/models/signature.py:152: UserWarning: Hint: Inferred schema contains integer column(s). Integer columns in Python cannot represent missing values. If your input data contains missing values at inference time, it will be encoded as floats and will cause a schema enforcement error. The best way to avoid this problem is to infer the model schema based on a realistic data sample (training dataset) that includes missing values. Alternatively, you can declare integer columns as doubles (float64) whenever these columns may have missing values. See `Handling Integers With Missing Values <https://www.mlflow.org/docs/latest/models.html#handling-integers-with-missing-values>`_ for more details.\n",
      "  inputs = _infer_schema(model_input)\n",
      "/usr/local/lib/python3.8/site-packages/mlflow/models/signature.py:152: UserWarning: Hint: Inferred schema contains integer column(s). Integer columns in Python cannot represent missing values. If your input data contains missing values at inference time, it will be encoded as floats and will cause a schema enforcement error. The best way to avoid this problem is to infer the model schema based on a realistic data sample (training dataset) that includes missing values. Alternatively, you can declare integer columns as doubles (float64) whenever these columns may have missing values. See `Handling Integers With Missing Values <https://www.mlflow.org/docs/latest/models.html#handling-integers-with-missing-values>`_ for more details.\n",
      "  inputs = _infer_schema(model_input)\n",
      "                                                                                \r"
     ]
    },
    {
     "name": "stdout",
     "output_type": "stream",
     "text": [
      " 92%|█████████▏| 92/100 [02:19<00:11,  1.50s/trial, best loss: -0.9602040816326531]"
     ]
    },
    {
     "name": "stderr",
     "output_type": "stream",
     "text": [
      "/usr/local/lib/python3.8/site-packages/mlflow/models/signature.py:152: UserWarning: Hint: Inferred schema contains integer column(s). Integer columns in Python cannot represent missing values. If your input data contains missing values at inference time, it will be encoded as floats and will cause a schema enforcement error. The best way to avoid this problem is to infer the model schema based on a realistic data sample (training dataset) that includes missing values. Alternatively, you can declare integer columns as doubles (float64) whenever these columns may have missing values. See `Handling Integers With Missing Values <https://www.mlflow.org/docs/latest/models.html#handling-integers-with-missing-values>`_ for more details.\n",
      "  inputs = _infer_schema(model_input)\n",
      "[Stage 197:>  (0 + 1) / 1][Stage 198:>  (0 + 1) / 1][Stage 199:>  (0 + 0) / 1]  \r"
     ]
    },
    {
     "name": "stdout",
     "output_type": "stream",
     "text": [
      " 94%|█████████▍| 94/100 [02:22<00:08,  1.50s/trial, best loss: -0.9602040816326531]"
     ]
    },
    {
     "name": "stderr",
     "output_type": "stream",
     "text": [
      "/usr/local/lib/python3.8/site-packages/mlflow/models/signature.py:152: UserWarning: Hint: Inferred schema contains integer column(s). Integer columns in Python cannot represent missing values. If your input data contains missing values at inference time, it will be encoded as floats and will cause a schema enforcement error. The best way to avoid this problem is to infer the model schema based on a realistic data sample (training dataset) that includes missing values. Alternatively, you can declare integer columns as doubles (float64) whenever these columns may have missing values. See `Handling Integers With Missing Values <https://www.mlflow.org/docs/latest/models.html#handling-integers-with-missing-values>`_ for more details.\n",
      "  inputs = _infer_schema(model_input)\n",
      "/usr/local/lib/python3.8/site-packages/mlflow/models/signature.py:152: UserWarning: Hint: Inferred schema contains integer column(s). Integer columns in Python cannot represent missing values. If your input data contains missing values at inference time, it will be encoded as floats and will cause a schema enforcement error. The best way to avoid this problem is to infer the model schema based on a realistic data sample (training dataset) that includes missing values. Alternatively, you can declare integer columns as doubles (float64) whenever these columns may have missing values. See `Handling Integers With Missing Values <https://www.mlflow.org/docs/latest/models.html#handling-integers-with-missing-values>`_ for more details.\n",
      "  inputs = _infer_schema(model_input)\n",
      "/usr/local/lib/python3.8/site-packages/mlflow/models/signature.py:152: UserWarning: Hint: Inferred schema contains integer column(s). Integer columns in Python cannot represent missing values. If your input data contains missing values at inference time, it will be encoded as floats and will cause a schema enforcement error. The best way to avoid this problem is to infer the model schema based on a realistic data sample (training dataset) that includes missing values. Alternatively, you can declare integer columns as doubles (float64) whenever these columns may have missing values. See `Handling Integers With Missing Values <https://www.mlflow.org/docs/latest/models.html#handling-integers-with-missing-values>`_ for more details.\n",
      "  inputs = _infer_schema(model_input)\n"
     ]
    },
    {
     "name": "stdout",
     "output_type": "stream",
     "text": [
      " 96%|█████████▌| 96/100 [02:25<00:05,  1.50s/trial, best loss: -0.9602040816326531]"
     ]
    },
    {
     "name": "stderr",
     "output_type": "stream",
     "text": [
      "/usr/local/lib/python3.8/site-packages/mlflow/models/signature.py:152: UserWarning: Hint: Inferred schema contains integer column(s). Integer columns in Python cannot represent missing values. If your input data contains missing values at inference time, it will be encoded as floats and will cause a schema enforcement error. The best way to avoid this problem is to infer the model schema based on a realistic data sample (training dataset) that includes missing values. Alternatively, you can declare integer columns as doubles (float64) whenever these columns may have missing values. See `Handling Integers With Missing Values <https://www.mlflow.org/docs/latest/models.html#handling-integers-with-missing-values>`_ for more details.\n",
      "  inputs = _infer_schema(model_input)\n",
      "/usr/local/lib/python3.8/site-packages/mlflow/models/signature.py:152: UserWarning: Hint: Inferred schema contains integer column(s). Integer columns in Python cannot represent missing values. If your input data contains missing values at inference time, it will be encoded as floats and will cause a schema enforcement error. The best way to avoid this problem is to infer the model schema based on a realistic data sample (training dataset) that includes missing values. Alternatively, you can declare integer columns as doubles (float64) whenever these columns may have missing values. See `Handling Integers With Missing Values <https://www.mlflow.org/docs/latest/models.html#handling-integers-with-missing-values>`_ for more details.\n",
      "  inputs = _infer_schema(model_input)\n"
     ]
    },
    {
     "name": "stdout",
     "output_type": "stream",
     "text": [
      " 98%|█████████▊| 98/100 [02:28<00:03,  1.50s/trial, best loss: -0.9602040816326531]"
     ]
    },
    {
     "name": "stderr",
     "output_type": "stream",
     "text": [
      "/usr/local/lib/python3.8/site-packages/mlflow/models/signature.py:152: UserWarning: Hint: Inferred schema contains integer column(s). Integer columns in Python cannot represent missing values. If your input data contains missing values at inference time, it will be encoded as floats and will cause a schema enforcement error. The best way to avoid this problem is to infer the model schema based on a realistic data sample (training dataset) that includes missing values. Alternatively, you can declare integer columns as doubles (float64) whenever these columns may have missing values. See `Handling Integers With Missing Values <https://www.mlflow.org/docs/latest/models.html#handling-integers-with-missing-values>`_ for more details.\n",
      "  inputs = _infer_schema(model_input)\n",
      "                                                                                \r"
     ]
    },
    {
     "name": "stdout",
     "output_type": "stream",
     "text": [
      "100%|██████████| 100/100 [02:30<00:00,  1.50s/trial, best loss: -0.9602040816326531]"
     ]
    },
    {
     "name": "stderr",
     "output_type": "stream",
     "text": [
      "/usr/local/lib/python3.8/site-packages/mlflow/models/signature.py:152: UserWarning: Hint: Inferred schema contains integer column(s). Integer columns in Python cannot represent missing values. If your input data contains missing values at inference time, it will be encoded as floats and will cause a schema enforcement error. The best way to avoid this problem is to infer the model schema based on a realistic data sample (training dataset) that includes missing values. Alternatively, you can declare integer columns as doubles (float64) whenever these columns may have missing values. See `Handling Integers With Missing Values <https://www.mlflow.org/docs/latest/models.html#handling-integers-with-missing-values>`_ for more details.\n",
      "  inputs = _infer_schema(model_input)\n"
     ]
    },
    {
     "name": "stdout",
     "output_type": "stream",
     "text": [
      "\n"
     ]
    },
    {
     "name": "stderr",
     "output_type": "stream",
     "text": [
      "Total Trials: 100: 100 succeeded, 0 failed, 0 cancelled.\n",
      "INFO:hyperopt-spark:Total Trials: 100: 100 succeeded, 0 failed, 0 cancelled.\n"
     ]
    },
    {
     "name": "stdout",
     "output_type": "stream",
     "text": [
      "{'model_choice': 0, 'rf_criterion': 1, 'rf_max_depth': 9.0, 'rf_min_samples_leaf': 1.3654956415175974, 'rf_min_samples_split': 0.04954776531139989, 'rf_n_estimators': 150.0}\n"
     ]
    }
   ],
   "source": [
    "def sample_to_model(sample):\n",
    "    kwargs = sample[\"model_choice\"][\"kwargs\"]\n",
    "    return models[sample[\"model_choice\"][\"model\"]](**kwargs)\n",
    "\n",
    "\n",
    "def objective_fn(sample):  \n",
    "  mlflow.set_tracking_uri(\"file://root//mlruns\")\n",
    "  with mlflow.start_run(nested=True):\n",
    "    model_name = sample[\"model_choice\"][\"model\"]\n",
    "    mlflow.set_tag(\"model_choice\", model_name)\n",
    "    \n",
    "    model = sample_to_model(sample)\n",
    "    model.fit(X_train, y_train)\n",
    "        \n",
    "    predictions_test = model.predict_proba(X_test)[:,1]\n",
    "    auc_score = roc_auc_score(y_test, predictions_test)\n",
    "    mlflow.log_metric(\"auc\", auc_score)\n",
    "    \n",
    "    model_wrap = SklearnModelWrapper(model)\n",
    "    signature = infer_signature(X_train, model_wrap.predict(None, X_train))\n",
    "  \n",
    "    conda_env =  _mlflow_conda_env(\n",
    "      additional_conda_deps=None,\n",
    "      additional_pip_deps=[\"cloudpickle=={}\".format(cloudpickle.__version__), \"scikit-learn=={}\".format(sklearn.__version__)],\n",
    "      additional_conda_channels=None,\n",
    "    )\n",
    "    mlflow.pyfunc.log_model(\"hyperopt_model\", python_model=model_wrap, conda_env=conda_env, signature=signature)\n",
    "    \n",
    "    # Set the loss to -1*auc_score so fmin maximizes the auc_score\n",
    "    return {'status': STATUS_OK, 'loss': -1*auc_score}\n",
    "\n",
    "#with mlflow.start_run(run_name=f'{model_name}_hyperopt_tuning',experiment_id = experiment_id):\n",
    "with mlflow.start_run(run_name=f'{model_name}_hyperopt_tuning'):\n",
    "  best_params = fmin(\n",
    "    fn=objective_fn, \n",
    "    space=search_space, \n",
    "    algo=tpe.suggest, \n",
    "    max_evals=max_evals,\n",
    "    trials=spark_trials,\n",
    "  )\n",
    "  print(best_params)"
   ]
  },
  {
   "cell_type": "markdown",
   "id": "200f0d67-c5a3-418f-8e2f-1e28367d2144",
   "metadata": {},
   "source": [
    "A lot of this information can be found in MLFlow by going into the Experiments and querying through the UI, selecting the experiment group (typically the name of this notebook), and then expanding the experiment container that we started with hyperopt and selecting the individual trials here. After clicking on Compare you will see a few visualizations to understand the results of the tuning better.\n",
    "\n",
    "To complete our understanding of the tuning, we'll do a scatter plot to represent the AUC (or loss) for each of the trials. This can help identify whether there are some outliers, and if there is a general trend emerging that could be caught by visual inspection. We use plotly to draw the graph, and also add additional hover data to each scatter point representing the hyper-parameters used for that trial."
   ]
  },
  {
   "cell_type": "code",
   "execution_count": 65,
   "id": "eff3cf04-973a-4c38-8eb1-08388dd977e7",
   "metadata": {
    "tags": []
   },
   "outputs": [
    {
     "data": {
      "application/vnd.plotly.v1+json": {
       "config": {
        "plotlyServerURL": "https://plot.ly"
       },
       "data": [
        {
         "customdata": [
          [
           "random_forest",
           0,
           7,
           1.5059238181352694,
           0.011346027147003786,
           190,
           -0.9561224489795919,
           0
          ],
          [
           "random_forest",
           0,
           11,
           1.2543325997426455,
           0.023616481805998096,
           30,
           -0.936734693877551,
           1
          ],
          [
           "random_forest",
           0,
           3,
           3.7064903760816827,
           0.03321483448085118,
           80,
           -0.9061224489795918,
           2
          ],
          [
           "random_forest",
           0,
           3,
           2.6381093939421483,
           0.03007112050211544,
           20,
           -0.9285714285714285,
           3
          ],
          [
           "random_forest",
           1,
           6,
           1.8741826659442515,
           0.04410051224276953,
           190,
           -0.9591836734693878,
           4
          ],
          [
           "random_forest",
           0,
           8,
           3.1667708776061936,
           0.037694099212704855,
           160,
           -0.9071428571428571,
           5
          ],
          [
           "random_forest",
           0,
           3,
           4.609749510294121,
           0.017299161915483162,
           180,
           -0.8316326530612246,
           6
          ],
          [
           "random_forest",
           0,
           11,
           1.0010726943412758,
           0.03557676373044235,
           140,
           -0.9500000000000001,
           7
          ],
          [
           "random_forest",
           0,
           6,
           2.3620637182796194,
           0.023990133129258386,
           200,
           -0.9214285714285714,
           8
          ],
          [
           "random_forest",
           0,
           9,
           2.5000241138964836,
           0.04715579726349117,
           140,
           -0.9173469387755101,
           9
          ],
          [
           "random_forest",
           1,
           3,
           3.7620039091675848,
           0.034360318193500605,
           130,
           -0.9153061224489796,
           10
          ],
          [
           "random_forest",
           1,
           11,
           4.234851688855519,
           0.028944378101193678,
           170,
           -0.8357142857142857,
           11
          ],
          [
           "random_forest",
           1,
           12,
           3.883040224451361,
           0.024970309931747977,
           90,
           -0.9051020408163265,
           12
          ],
          [
           "random_forest",
           0,
           12,
           3.766021032214968,
           0.023172023358883687,
           70,
           -0.9255102040816326,
           13
          ],
          [
           "random_forest",
           0,
           6,
           4.225454169602787,
           0.0365485256183608,
           40,
           -0.7566326530612245,
           14
          ],
          [
           "random_forest",
           0,
           3,
           2.532490602196591,
           0.03795358383081578,
           170,
           -0.9183673469387755,
           15
          ],
          [
           "random_forest",
           1,
           11,
           4.050430541044896,
           0.023722871152764894,
           130,
           -0.8306122448979593,
           16
          ],
          [
           "random_forest",
           0,
           2,
           2.484051177287417,
           0.027652860572098474,
           130,
           -0.923469387755102,
           17
          ],
          [
           "random_forest",
           0,
           4,
           3.423835805602143,
           0.047310377672684985,
           200,
           -0.9040816326530612,
           18
          ],
          [
           "random_forest",
           0,
           6,
           3.5379613786532604,
           0.029114269892235894,
           100,
           -0.9173469387755101,
           19
          ],
          [
           "random_forest",
           1,
           8,
           1.7101314592044219,
           0.013063708060965119,
           190,
           -0.9591836734693878,
           20
          ],
          [
           "random_forest",
           1,
           5,
           1.7394415055835064,
           0.04263760885338869,
           160,
           -0.9576530612244898,
           21
          ],
          [
           "random_forest",
           1,
           8,
           1.697800462033612,
           0.042275224791694765,
           200,
           -0.9556122448979593,
           22
          ],
          [
           "random_forest",
           1,
           7,
           2.0303984505344044,
           0.018017698680011657,
           60,
           -0.9418367346938776,
           23
          ],
          [
           "random_forest",
           1,
           9,
           1.3654956415175974,
           0.04954776531139989,
           150,
           -0.9602040816326531,
           24
          ],
          [
           "random_forest",
           1,
           5,
           1.076640512684849,
           0.012174129088104786,
           110,
           -0.9566326530612246,
           25
          ],
          [
           "random_forest",
           1,
           7,
           2.145250497639921,
           0.04189423237694727,
           180,
           -0.9438775510204082,
           26
          ],
          [
           "random_forest",
           1,
           5,
           1.4358181491668458,
           0.01841554213406754,
           110,
           -0.9566326530612246,
           27
          ],
          [
           "random_forest",
           1,
           9,
           2.930053175349229,
           0.010221655147048467,
           190,
           -0.9448979591836735,
           28
          ],
          [
           "random_forest",
           1,
           10,
           2.8694478618889243,
           0.04447652558956582,
           180,
           -0.9438775510204082,
           29
          ],
          [
           "random_forest",
           0,
           7,
           2.059410130858313,
           0.03240029302250734,
           40,
           -0.9193877551020407,
           30
          ],
          [
           "random_forest",
           1,
           8,
           1.7135193688176342,
           0.015088606656527158,
           190,
           -0.9591836734693878,
           31
          ],
          [
           "random_forest",
           1,
           10,
           1.8466992266509936,
           0.020658650015828818,
           160,
           -0.9576530612244898,
           32
          ],
          [
           "random_forest",
           1,
           8,
           1.166689422558477,
           0.01277040013519872,
           10,
           -0.9423469387755102,
           33
          ],
          [
           "random_forest",
           1,
           6,
           2.2387527809777863,
           0.040142326753676856,
           170,
           -0.9418367346938775,
           34
          ],
          [
           "random_forest",
           1,
           10,
           1.3930392629568435,
           0.045402563254437096,
           150,
           -0.9602040816326531,
           35
          ],
          [
           "random_forest",
           1,
           9,
           3.1722777965011772,
           0.04995851968751035,
           120,
           -0.9071428571428571,
           36
          ],
          [
           "random_forest",
           1,
           9,
           1.3549974122821953,
           0.03146463346954255,
           140,
           -0.9566326530612245,
           37
          ],
          [
           "random_forest",
           1,
           10,
           1.5594747461258025,
           0.015131130423582722,
           150,
           -0.9602040816326531,
           38
          ],
          [
           "random_forest",
           1,
           8,
           1.0079285264371194,
           0.020874315643195307,
           150,
           -0.9602040816326531,
           39
          ],
          [
           "random_forest",
           1,
           11,
           4.696656705496846,
           0.04958995726658989,
           120,
           -0.8102040816326531,
           40
          ],
          [
           "random_forest",
           1,
           9,
           2.7418137018801936,
           0.02639664103583185,
           90,
           -0.9469387755102041,
           41
          ],
          [
           "random_forest",
           1,
           12,
           1.1878804720070542,
           0.03969407721896684,
           180,
           -0.9556122448979593,
           42
          ],
          [
           "random_forest",
           1,
           8,
           1.9592711927079476,
           0.015058391226267667,
           160,
           -0.9576530612244898,
           43
          ],
          [
           "random_forest",
           1,
           10,
           2.304098773679213,
           0.03394728284977391,
           200,
           -0.9418367346938775,
           44
          ],
          [
           "random_forest",
           1,
           10,
           4.865220865750156,
           0.047334106553718135,
           150,
           -0.8357142857142857,
           45
          ],
          [
           "random_forest",
           1,
           11,
           1.3449721737498603,
           0.04474945941117523,
           70,
           -0.9566326530612246,
           46
          ],
          [
           "random_forest",
           1,
           12,
           3.147050601187302,
           0.04883093065644641,
           140,
           -0.9142857142857143,
           47
          ],
          [
           "random_forest",
           0,
           9,
           1.552639798317442,
           0.046063144188107544,
           120,
           -0.9510204081632653,
           48
          ],
          [
           "random_forest",
           1,
           7,
           1.1484664743388702,
           0.02069048738472488,
           90,
           -0.9576530612244898,
           49
          ],
          [
           "random_forest",
           0,
           4,
           1.03738577467459,
           0.020815286614148887,
           130,
           -0.951530612244898,
           50
          ],
          [
           "random_forest",
           1,
           6,
           1.5831729558327239,
           0.016009267910339593,
           100,
           -0.9571428571428572,
           51
          ],
          [
           "random_forest",
           0,
           8,
           2.630142175652252,
           0.026197876755595782,
           140,
           -0.9173469387755101,
           52
          ],
          [
           "random_forest",
           1,
           11,
           2.409733216959822,
           0.03654064757967959,
           60,
           -0.9418367346938776,
           53
          ],
          [
           "random_forest",
           1,
           12,
           3.357991293391158,
           0.03972254983977246,
           80,
           -0.9091836734693877,
           54
          ],
          [
           "random_forest",
           0,
           10,
           4.195753938310402,
           0.011248779956861037,
           170,
           -0.8357142857142857,
           55
          ],
          [
           "random_forest",
           1,
           2,
           1.8830050549638564,
           0.022906018084499758,
           150,
           -0.9479591836734694,
           56
          ],
          [
           "random_forest",
           1,
           4,
           1.0058736678260618,
           0.029936075657265804,
           110,
           -0.9561224489795919,
           57
          ],
          [
           "random_forest",
           1,
           5,
           2.152984764589827,
           0.01927619200597706,
           160,
           -0.9408163265306122,
           58
          ],
          [
           "random_forest",
           0,
           7,
           1.2697744740544512,
           0.022064223978617008,
           130,
           -0.9510204081632654,
           59
          ],
          [
           "random_forest",
           1,
           9,
           2.7887164699224902,
           0.027949817126041086,
           170,
           -0.9418367346938775,
           60
          ],
          [
           "random_forest",
           1,
           11,
           4.4293830872118924,
           0.04861215799843645,
           100,
           -0.8377551020408163,
           61
          ],
          [
           "random_forest",
           0,
           11,
           1.4480772694672328,
           0.04307717172016232,
           120,
           -0.9510204081632653,
           62
          ],
          [
           "random_forest",
           1,
           8,
           3.5888139269544403,
           0.016794298868813725,
           180,
           -0.9061224489795918,
           63
          ],
          [
           "random_forest",
           1,
           7,
           3.882988888587464,
           0.01402588752020988,
           140,
           -0.9142857142857143,
           64
          ],
          [
           "random_forest",
           1,
           10,
           1.5696702863369776,
           0.01014538620761822,
           150,
           -0.9602040816326531,
           65
          ],
          [
           "random_forest",
           1,
           10,
           1.838576216798077,
           0.024971761245442044,
           150,
           -0.9602040816326531,
           66
          ],
          [
           "random_forest",
           1,
           9,
           1.0050277879987544,
           0.046130694251307655,
           130,
           -0.9571428571428571,
           67
          ],
          [
           "random_forest",
           1,
           8,
           1.2909616508414068,
           0.03549691412808764,
           170,
           -0.9586734693877551,
           68
          ],
          [
           "random_forest",
           1,
           9,
           1.6700607524868292,
           0.031813267094890886,
           160,
           -0.9576530612244898,
           69
          ],
          [
           "random_forest",
           1,
           6,
           1.4380085355639298,
           0.037357353070466906,
           190,
           -0.9591836734693878,
           70
          ],
          [
           "random_forest",
           1,
           8,
           1.193606208362693,
           0.04105850876067728,
           180,
           -0.9556122448979593,
           71
          ],
          [
           "random_forest",
           1,
           9,
           2.0393632630640663,
           0.043673551477217014,
           110,
           -0.9428571428571428,
           72
          ],
          [
           "random_forest",
           1,
           12,
           2.1563748791979434,
           0.01863325357223333,
           160,
           -0.9408163265306122,
           73
          ],
          [
           "random_forest",
           1,
           10,
           1.8407422050826332,
           0.011795968439973928,
           140,
           -0.9566326530612245,
           74
          ],
          [
           "random_forest",
           1,
           7,
           1.1029291614087886,
           0.019660038781928898,
           120,
           -0.9561224489795919,
           75
          ],
          [
           "random_forest",
           1,
           11,
           2.577373071916697,
           0.010801028365663339,
           200,
           -0.9418367346938775,
           76
          ],
          [
           "random_forest",
           1,
           10,
           3.0597702284559283,
           0.03873653841808167,
           150,
           -0.9132653061224489,
           77
          ],
          [
           "random_forest",
           1,
           11,
           2.366008784580037,
           0.024728861431542515,
           190,
           -0.9448979591836735,
           78
          ],
          [
           "random_forest",
           0,
           6,
           1.9466244546124727,
           0.02211005287753846,
           80,
           -0.951530612244898,
           79
          ],
          [
           "random_forest",
           1,
           8,
           1.78341193424528,
           0.025520920740017182,
           30,
           -0.951530612244898,
           80
          ],
          [
           "random_forest",
           1,
           10,
           1.6189990316033966,
           0.013861949769204004,
           180,
           -0.9556122448979593,
           81
          ],
          [
           "random_forest",
           1,
           12,
           2.2572029489566243,
           0.027878028495479185,
           170,
           -0.9418367346938775,
           82
          ],
          [
           "random_forest",
           0,
           9,
           1.4957866014468642,
           0.01732251817880656,
           120,
           -0.9510204081632653,
           83
          ],
          [
           "random_forest",
           1,
           11,
           1.2494866146120023,
           0.015487015937850374,
           130,
           -0.9571428571428571,
           84
          ],
          [
           "random_forest",
           1,
           9,
           2.4318353689233234,
           0.04537506699989942,
           90,
           -0.9469387755102041,
           85
          ],
          [
           "random_forest",
           1,
           10,
           1.3829984899996537,
           0.04770124618000888,
           100,
           -0.9571428571428572,
           86
          ],
          [
           "random_forest",
           1,
           10,
           2.733636428342079,
           0.0354488953200546,
           160,
           -0.9408163265306122,
           87
          ],
          [
           "random_forest",
           0,
           11,
           1.9536995587863881,
           0.029181954465284238,
           150,
           -0.9566326530612246,
           88
          ],
          [
           "random_forest",
           1,
           8,
           1.0124558406178408,
           0.03317589649780811,
           140,
           -0.9566326530612245,
           89
          ],
          [
           "random_forest",
           1,
           7,
           3.2676611161857245,
           0.013761541415526369,
           130,
           -0.9153061224489796,
           90
          ],
          [
           "random_forest",
           1,
           12,
           2.93913571879679,
           0.0489713851835325,
           200,
           -0.9418367346938775,
           91
          ],
          [
           "random_forest",
           0,
           12,
           2.110991199986255,
           0.030984845716704575,
           50,
           -0.9285714285714286,
           92
          ],
          [
           "random_forest",
           1,
           10,
           2.4811872614338113,
           0.024015737608574204,
           110,
           -0.9428571428571428,
           93
          ],
          [
           "random_forest",
           1,
           9,
           2.2634381021489034,
           0.033707595749369657,
           190,
           -0.9448979591836735,
           94
          ],
          [
           "random_forest",
           1,
           8,
           1.6419776026801496,
           0.02151388471786953,
           140,
           -0.9566326530612245,
           95
          ],
          [
           "random_forest",
           1,
           5,
           1.7660107163510068,
           0.027028085255219443,
           160,
           -0.9576530612244898,
           96
          ],
          [
           "random_forest",
           0,
           7,
           4.913802918189786,
           0.049785223257299546,
           170,
           -0.8357142857142857,
           97
          ],
          [
           "random_forest",
           1,
           9,
           1.1232775116891287,
           0.04372692263503313,
           110,
           -0.9566326530612246,
           98
          ],
          [
           "random_forest",
           1,
           10,
           1.5281592323463862,
           0.046624384439108824,
           10,
           -0.9423469387755102,
           99
          ]
         ],
         "hovertemplate": "rf_criterion: %{customdata[1]}<br>rf_max_depth: %{customdata[2]}<br>rf_min_samples_leaf: %{customdata[3]}<br>rf_min_samples_split: %{customdata[4]}<br>rf_n_estimators: %{customdata[5]}",
         "legendgroup": "random_forest",
         "marker": {
          "color": "#636efa",
          "symbol": "circle"
         },
         "mode": "markers",
         "name": "random_forest",
         "orientation": "v",
         "showlegend": true,
         "type": "scatter",
         "x": [
          0,
          1,
          2,
          3,
          4,
          5,
          6,
          7,
          8,
          9,
          10,
          11,
          12,
          13,
          14,
          15,
          16,
          17,
          18,
          19,
          20,
          21,
          22,
          23,
          24,
          25,
          26,
          27,
          28,
          29,
          30,
          31,
          32,
          33,
          34,
          35,
          36,
          37,
          38,
          39,
          40,
          41,
          42,
          43,
          44,
          45,
          46,
          47,
          48,
          49,
          50,
          51,
          52,
          53,
          54,
          55,
          56,
          57,
          58,
          59,
          60,
          61,
          62,
          63,
          64,
          65,
          66,
          67,
          68,
          69,
          70,
          71,
          72,
          73,
          74,
          75,
          76,
          77,
          78,
          79,
          80,
          81,
          82,
          83,
          84,
          85,
          86,
          87,
          88,
          89,
          90,
          91,
          92,
          93,
          94,
          95,
          96,
          97,
          98,
          99
         ],
         "xaxis": "x",
         "y": [
          -0.9561224489795919,
          -0.936734693877551,
          -0.9061224489795918,
          -0.9285714285714285,
          -0.9591836734693878,
          -0.9071428571428571,
          -0.8316326530612246,
          -0.9500000000000001,
          -0.9214285714285714,
          -0.9173469387755101,
          -0.9153061224489796,
          -0.8357142857142857,
          -0.9051020408163265,
          -0.9255102040816326,
          -0.7566326530612245,
          -0.9183673469387755,
          -0.8306122448979593,
          -0.923469387755102,
          -0.9040816326530612,
          -0.9173469387755101,
          -0.9591836734693878,
          -0.9576530612244898,
          -0.9556122448979593,
          -0.9418367346938776,
          -0.9602040816326531,
          -0.9566326530612246,
          -0.9438775510204082,
          -0.9566326530612246,
          -0.9448979591836735,
          -0.9438775510204082,
          -0.9193877551020407,
          -0.9591836734693878,
          -0.9576530612244898,
          -0.9423469387755102,
          -0.9418367346938775,
          -0.9602040816326531,
          -0.9071428571428571,
          -0.9566326530612245,
          -0.9602040816326531,
          -0.9602040816326531,
          -0.8102040816326531,
          -0.9469387755102041,
          -0.9556122448979593,
          -0.9576530612244898,
          -0.9418367346938775,
          -0.8357142857142857,
          -0.9566326530612246,
          -0.9142857142857143,
          -0.9510204081632653,
          -0.9576530612244898,
          -0.951530612244898,
          -0.9571428571428572,
          -0.9173469387755101,
          -0.9418367346938776,
          -0.9091836734693877,
          -0.8357142857142857,
          -0.9479591836734694,
          -0.9561224489795919,
          -0.9408163265306122,
          -0.9510204081632654,
          -0.9418367346938775,
          -0.8377551020408163,
          -0.9510204081632653,
          -0.9061224489795918,
          -0.9142857142857143,
          -0.9602040816326531,
          -0.9602040816326531,
          -0.9571428571428571,
          -0.9586734693877551,
          -0.9576530612244898,
          -0.9591836734693878,
          -0.9556122448979593,
          -0.9428571428571428,
          -0.9408163265306122,
          -0.9566326530612245,
          -0.9561224489795919,
          -0.9418367346938775,
          -0.9132653061224489,
          -0.9448979591836735,
          -0.951530612244898,
          -0.951530612244898,
          -0.9556122448979593,
          -0.9418367346938775,
          -0.9510204081632653,
          -0.9571428571428571,
          -0.9469387755102041,
          -0.9571428571428572,
          -0.9408163265306122,
          -0.9566326530612246,
          -0.9566326530612245,
          -0.9153061224489796,
          -0.9418367346938775,
          -0.9285714285714286,
          -0.9428571428571428,
          -0.9448979591836735,
          -0.9566326530612245,
          -0.9576530612244898,
          -0.8357142857142857,
          -0.9566326530612246,
          -0.9423469387755102
         ],
         "yaxis": "y"
        }
       ],
       "layout": {
        "autosize": true,
        "legend": {
         "title": {
          "text": "model_choice"
         },
         "tracegroupgap": 0
        },
        "margin": {
         "t": 60
        },
        "template": {
         "data": {
          "bar": [
           {
            "error_x": {
             "color": "#2a3f5f"
            },
            "error_y": {
             "color": "#2a3f5f"
            },
            "marker": {
             "line": {
              "color": "#E5ECF6",
              "width": 0.5
             },
             "pattern": {
              "fillmode": "overlay",
              "size": 10,
              "solidity": 0.2
             }
            },
            "type": "bar"
           }
          ],
          "barpolar": [
           {
            "marker": {
             "line": {
              "color": "#E5ECF6",
              "width": 0.5
             },
             "pattern": {
              "fillmode": "overlay",
              "size": 10,
              "solidity": 0.2
             }
            },
            "type": "barpolar"
           }
          ],
          "carpet": [
           {
            "aaxis": {
             "endlinecolor": "#2a3f5f",
             "gridcolor": "white",
             "linecolor": "white",
             "minorgridcolor": "white",
             "startlinecolor": "#2a3f5f"
            },
            "baxis": {
             "endlinecolor": "#2a3f5f",
             "gridcolor": "white",
             "linecolor": "white",
             "minorgridcolor": "white",
             "startlinecolor": "#2a3f5f"
            },
            "type": "carpet"
           }
          ],
          "choropleth": [
           {
            "colorbar": {
             "outlinewidth": 0,
             "ticks": ""
            },
            "type": "choropleth"
           }
          ],
          "contour": [
           {
            "colorbar": {
             "outlinewidth": 0,
             "ticks": ""
            },
            "colorscale": [
             [
              0,
              "#0d0887"
             ],
             [
              0.1111111111111111,
              "#46039f"
             ],
             [
              0.2222222222222222,
              "#7201a8"
             ],
             [
              0.3333333333333333,
              "#9c179e"
             ],
             [
              0.4444444444444444,
              "#bd3786"
             ],
             [
              0.5555555555555556,
              "#d8576b"
             ],
             [
              0.6666666666666666,
              "#ed7953"
             ],
             [
              0.7777777777777778,
              "#fb9f3a"
             ],
             [
              0.8888888888888888,
              "#fdca26"
             ],
             [
              1,
              "#f0f921"
             ]
            ],
            "type": "contour"
           }
          ],
          "contourcarpet": [
           {
            "colorbar": {
             "outlinewidth": 0,
             "ticks": ""
            },
            "type": "contourcarpet"
           }
          ],
          "heatmap": [
           {
            "colorbar": {
             "outlinewidth": 0,
             "ticks": ""
            },
            "colorscale": [
             [
              0,
              "#0d0887"
             ],
             [
              0.1111111111111111,
              "#46039f"
             ],
             [
              0.2222222222222222,
              "#7201a8"
             ],
             [
              0.3333333333333333,
              "#9c179e"
             ],
             [
              0.4444444444444444,
              "#bd3786"
             ],
             [
              0.5555555555555556,
              "#d8576b"
             ],
             [
              0.6666666666666666,
              "#ed7953"
             ],
             [
              0.7777777777777778,
              "#fb9f3a"
             ],
             [
              0.8888888888888888,
              "#fdca26"
             ],
             [
              1,
              "#f0f921"
             ]
            ],
            "type": "heatmap"
           }
          ],
          "heatmapgl": [
           {
            "colorbar": {
             "outlinewidth": 0,
             "ticks": ""
            },
            "colorscale": [
             [
              0,
              "#0d0887"
             ],
             [
              0.1111111111111111,
              "#46039f"
             ],
             [
              0.2222222222222222,
              "#7201a8"
             ],
             [
              0.3333333333333333,
              "#9c179e"
             ],
             [
              0.4444444444444444,
              "#bd3786"
             ],
             [
              0.5555555555555556,
              "#d8576b"
             ],
             [
              0.6666666666666666,
              "#ed7953"
             ],
             [
              0.7777777777777778,
              "#fb9f3a"
             ],
             [
              0.8888888888888888,
              "#fdca26"
             ],
             [
              1,
              "#f0f921"
             ]
            ],
            "type": "heatmapgl"
           }
          ],
          "histogram": [
           {
            "marker": {
             "pattern": {
              "fillmode": "overlay",
              "size": 10,
              "solidity": 0.2
             }
            },
            "type": "histogram"
           }
          ],
          "histogram2d": [
           {
            "colorbar": {
             "outlinewidth": 0,
             "ticks": ""
            },
            "colorscale": [
             [
              0,
              "#0d0887"
             ],
             [
              0.1111111111111111,
              "#46039f"
             ],
             [
              0.2222222222222222,
              "#7201a8"
             ],
             [
              0.3333333333333333,
              "#9c179e"
             ],
             [
              0.4444444444444444,
              "#bd3786"
             ],
             [
              0.5555555555555556,
              "#d8576b"
             ],
             [
              0.6666666666666666,
              "#ed7953"
             ],
             [
              0.7777777777777778,
              "#fb9f3a"
             ],
             [
              0.8888888888888888,
              "#fdca26"
             ],
             [
              1,
              "#f0f921"
             ]
            ],
            "type": "histogram2d"
           }
          ],
          "histogram2dcontour": [
           {
            "colorbar": {
             "outlinewidth": 0,
             "ticks": ""
            },
            "colorscale": [
             [
              0,
              "#0d0887"
             ],
             [
              0.1111111111111111,
              "#46039f"
             ],
             [
              0.2222222222222222,
              "#7201a8"
             ],
             [
              0.3333333333333333,
              "#9c179e"
             ],
             [
              0.4444444444444444,
              "#bd3786"
             ],
             [
              0.5555555555555556,
              "#d8576b"
             ],
             [
              0.6666666666666666,
              "#ed7953"
             ],
             [
              0.7777777777777778,
              "#fb9f3a"
             ],
             [
              0.8888888888888888,
              "#fdca26"
             ],
             [
              1,
              "#f0f921"
             ]
            ],
            "type": "histogram2dcontour"
           }
          ],
          "mesh3d": [
           {
            "colorbar": {
             "outlinewidth": 0,
             "ticks": ""
            },
            "type": "mesh3d"
           }
          ],
          "parcoords": [
           {
            "line": {
             "colorbar": {
              "outlinewidth": 0,
              "ticks": ""
             }
            },
            "type": "parcoords"
           }
          ],
          "pie": [
           {
            "automargin": true,
            "type": "pie"
           }
          ],
          "scatter": [
           {
            "fillpattern": {
             "fillmode": "overlay",
             "size": 10,
             "solidity": 0.2
            },
            "type": "scatter"
           }
          ],
          "scatter3d": [
           {
            "line": {
             "colorbar": {
              "outlinewidth": 0,
              "ticks": ""
             }
            },
            "marker": {
             "colorbar": {
              "outlinewidth": 0,
              "ticks": ""
             }
            },
            "type": "scatter3d"
           }
          ],
          "scattercarpet": [
           {
            "marker": {
             "colorbar": {
              "outlinewidth": 0,
              "ticks": ""
             }
            },
            "type": "scattercarpet"
           }
          ],
          "scattergeo": [
           {
            "marker": {
             "colorbar": {
              "outlinewidth": 0,
              "ticks": ""
             }
            },
            "type": "scattergeo"
           }
          ],
          "scattergl": [
           {
            "marker": {
             "colorbar": {
              "outlinewidth": 0,
              "ticks": ""
             }
            },
            "type": "scattergl"
           }
          ],
          "scattermapbox": [
           {
            "marker": {
             "colorbar": {
              "outlinewidth": 0,
              "ticks": ""
             }
            },
            "type": "scattermapbox"
           }
          ],
          "scatterpolar": [
           {
            "marker": {
             "colorbar": {
              "outlinewidth": 0,
              "ticks": ""
             }
            },
            "type": "scatterpolar"
           }
          ],
          "scatterpolargl": [
           {
            "marker": {
             "colorbar": {
              "outlinewidth": 0,
              "ticks": ""
             }
            },
            "type": "scatterpolargl"
           }
          ],
          "scatterternary": [
           {
            "marker": {
             "colorbar": {
              "outlinewidth": 0,
              "ticks": ""
             }
            },
            "type": "scatterternary"
           }
          ],
          "surface": [
           {
            "colorbar": {
             "outlinewidth": 0,
             "ticks": ""
            },
            "colorscale": [
             [
              0,
              "#0d0887"
             ],
             [
              0.1111111111111111,
              "#46039f"
             ],
             [
              0.2222222222222222,
              "#7201a8"
             ],
             [
              0.3333333333333333,
              "#9c179e"
             ],
             [
              0.4444444444444444,
              "#bd3786"
             ],
             [
              0.5555555555555556,
              "#d8576b"
             ],
             [
              0.6666666666666666,
              "#ed7953"
             ],
             [
              0.7777777777777778,
              "#fb9f3a"
             ],
             [
              0.8888888888888888,
              "#fdca26"
             ],
             [
              1,
              "#f0f921"
             ]
            ],
            "type": "surface"
           }
          ],
          "table": [
           {
            "cells": {
             "fill": {
              "color": "#EBF0F8"
             },
             "line": {
              "color": "white"
             }
            },
            "header": {
             "fill": {
              "color": "#C8D4E3"
             },
             "line": {
              "color": "white"
             }
            },
            "type": "table"
           }
          ]
         },
         "layout": {
          "annotationdefaults": {
           "arrowcolor": "#2a3f5f",
           "arrowhead": 0,
           "arrowwidth": 1
          },
          "autotypenumbers": "strict",
          "coloraxis": {
           "colorbar": {
            "outlinewidth": 0,
            "ticks": ""
           }
          },
          "colorscale": {
           "diverging": [
            [
             0,
             "#8e0152"
            ],
            [
             0.1,
             "#c51b7d"
            ],
            [
             0.2,
             "#de77ae"
            ],
            [
             0.3,
             "#f1b6da"
            ],
            [
             0.4,
             "#fde0ef"
            ],
            [
             0.5,
             "#f7f7f7"
            ],
            [
             0.6,
             "#e6f5d0"
            ],
            [
             0.7,
             "#b8e186"
            ],
            [
             0.8,
             "#7fbc41"
            ],
            [
             0.9,
             "#4d9221"
            ],
            [
             1,
             "#276419"
            ]
           ],
           "sequential": [
            [
             0,
             "#0d0887"
            ],
            [
             0.1111111111111111,
             "#46039f"
            ],
            [
             0.2222222222222222,
             "#7201a8"
            ],
            [
             0.3333333333333333,
             "#9c179e"
            ],
            [
             0.4444444444444444,
             "#bd3786"
            ],
            [
             0.5555555555555556,
             "#d8576b"
            ],
            [
             0.6666666666666666,
             "#ed7953"
            ],
            [
             0.7777777777777778,
             "#fb9f3a"
            ],
            [
             0.8888888888888888,
             "#fdca26"
            ],
            [
             1,
             "#f0f921"
            ]
           ],
           "sequentialminus": [
            [
             0,
             "#0d0887"
            ],
            [
             0.1111111111111111,
             "#46039f"
            ],
            [
             0.2222222222222222,
             "#7201a8"
            ],
            [
             0.3333333333333333,
             "#9c179e"
            ],
            [
             0.4444444444444444,
             "#bd3786"
            ],
            [
             0.5555555555555556,
             "#d8576b"
            ],
            [
             0.6666666666666666,
             "#ed7953"
            ],
            [
             0.7777777777777778,
             "#fb9f3a"
            ],
            [
             0.8888888888888888,
             "#fdca26"
            ],
            [
             1,
             "#f0f921"
            ]
           ]
          },
          "colorway": [
           "#636efa",
           "#EF553B",
           "#00cc96",
           "#ab63fa",
           "#FFA15A",
           "#19d3f3",
           "#FF6692",
           "#B6E880",
           "#FF97FF",
           "#FECB52"
          ],
          "font": {
           "color": "#2a3f5f"
          },
          "geo": {
           "bgcolor": "white",
           "lakecolor": "white",
           "landcolor": "#E5ECF6",
           "showlakes": true,
           "showland": true,
           "subunitcolor": "white"
          },
          "hoverlabel": {
           "align": "left"
          },
          "hovermode": "closest",
          "mapbox": {
           "style": "light"
          },
          "paper_bgcolor": "white",
          "plot_bgcolor": "#E5ECF6",
          "polar": {
           "angularaxis": {
            "gridcolor": "white",
            "linecolor": "white",
            "ticks": ""
           },
           "bgcolor": "#E5ECF6",
           "radialaxis": {
            "gridcolor": "white",
            "linecolor": "white",
            "ticks": ""
           }
          },
          "scene": {
           "xaxis": {
            "backgroundcolor": "#E5ECF6",
            "gridcolor": "white",
            "gridwidth": 2,
            "linecolor": "white",
            "showbackground": true,
            "ticks": "",
            "zerolinecolor": "white"
           },
           "yaxis": {
            "backgroundcolor": "#E5ECF6",
            "gridcolor": "white",
            "gridwidth": 2,
            "linecolor": "white",
            "showbackground": true,
            "ticks": "",
            "zerolinecolor": "white"
           },
           "zaxis": {
            "backgroundcolor": "#E5ECF6",
            "gridcolor": "white",
            "gridwidth": 2,
            "linecolor": "white",
            "showbackground": true,
            "ticks": "",
            "zerolinecolor": "white"
           }
          },
          "shapedefaults": {
           "line": {
            "color": "#2a3f5f"
           }
          },
          "ternary": {
           "aaxis": {
            "gridcolor": "white",
            "linecolor": "white",
            "ticks": ""
           },
           "baxis": {
            "gridcolor": "white",
            "linecolor": "white",
            "ticks": ""
           },
           "bgcolor": "#E5ECF6",
           "caxis": {
            "gridcolor": "white",
            "linecolor": "white",
            "ticks": ""
           }
          },
          "title": {
           "x": 0.05
          },
          "xaxis": {
           "automargin": true,
           "gridcolor": "white",
           "linecolor": "white",
           "ticks": "",
           "title": {
            "standoff": 15
           },
           "zerolinecolor": "white",
           "zerolinewidth": 2
          },
          "yaxis": {
           "automargin": true,
           "gridcolor": "white",
           "linecolor": "white",
           "ticks": "",
           "title": {
            "standoff": 15
           },
           "zerolinecolor": "white",
           "zerolinewidth": 2
          }
         }
        },
        "xaxis": {
         "anchor": "y",
         "autorange": true,
         "domain": [
          0,
          1
         ],
         "range": [
          -5.916414294367051,
          104.91641429436706
         ],
         "title": {
          "text": "trial_number"
         },
         "type": "linear"
        },
        "yaxis": {
         "anchor": "x",
         "autorange": true,
         "domain": [
          0,
          1
         ],
         "range": [
          -0.9759661738711234,
          -0.7408705608227544
         ],
         "title": {
          "text": "loss"
         },
         "type": "linear"
        }
       }
      },
      "image/png": "[encoded data removed]",
      "text/html": [
       "<div>                            <div id=\"1f7bc523-dc52-4993-88f1-cca86852c62d\" class=\"plotly-graph-div\" style=\"height:525px; width:100%;\"></div>            <script type=\"text/javascript\">                require([\"plotly\"], function(Plotly) {                    window.PLOTLYENV=window.PLOTLYENV || {};                                    if (document.getElementById(\"1f7bc523-dc52-4993-88f1-cca86852c62d\")) {                    Plotly.newPlot(                        \"1f7bc523-dc52-4993-88f1-cca86852c62d\",                        [{\"hovertemplate\":\"rf_criterion: %{customdata[1]}\\u003cbr\\u003erf_max_depth: %{customdata[2]}\\u003cbr\\u003erf_min_samples_leaf: %{customdata[3]}\\u003cbr\\u003erf_min_samples_split: %{customdata[4]}\\u003cbr\\u003erf_n_estimators: %{customdata[5]}\",\"legendgroup\":\"random_forest\",\"marker\":{\"color\":\"#636efa\",\"symbol\":\"circle\"},\"mode\":\"markers\",\"name\":\"random_forest\",\"orientation\":\"v\",\"showlegend\":true,\"x\":[0,1,2,3,4,5,6,7,8,9,10,11,12,13,14,15,16,17,18,19,20,21,22,23,24,25,26,27,28,29,30,31,32,33,34,35,36,37,38,39,40,41,42,43,44,45,46,47,48,49,50,51,52,53,54,55,56,57,58,59,60,61,62,63,64,65,66,67,68,69,70,71,72,73,74,75,76,77,78,79,80,81,82,83,84,85,86,87,88,89,90,91,92,93,94,95,96,97,98,99],\"xaxis\":\"x\",\"y\":[-0.9561224489795919,-0.936734693877551,-0.9061224489795918,-0.9285714285714285,-0.9591836734693878,-0.9071428571428571,-0.8316326530612246,-0.9500000000000001,-0.9214285714285714,-0.9173469387755101,-0.9153061224489796,-0.8357142857142857,-0.9051020408163265,-0.9255102040816326,-0.7566326530612245,-0.9183673469387755,-0.8306122448979593,-0.923469387755102,-0.9040816326530612,-0.9173469387755101,-0.9591836734693878,-0.9576530612244898,-0.9556122448979593,-0.9418367346938776,-0.9602040816326531,-0.9566326530612246,-0.9438775510204082,-0.9566326530612246,-0.9448979591836735,-0.9438775510204082,-0.9193877551020407,-0.9591836734693878,-0.9576530612244898,-0.9423469387755102,-0.9418367346938775,-0.9602040816326531,-0.9071428571428571,-0.9566326530612245,-0.9602040816326531,-0.9602040816326531,-0.8102040816326531,-0.9469387755102041,-0.9556122448979593,-0.9576530612244898,-0.9418367346938775,-0.8357142857142857,-0.9566326530612246,-0.9142857142857143,-0.9510204081632653,-0.9576530612244898,-0.951530612244898,-0.9571428571428572,-0.9173469387755101,-0.9418367346938776,-0.9091836734693877,-0.8357142857142857,-0.9479591836734694,-0.9561224489795919,-0.9408163265306122,-0.9510204081632654,-0.9418367346938775,-0.8377551020408163,-0.9510204081632653,-0.9061224489795918,-0.9142857142857143,-0.9602040816326531,-0.9602040816326531,-0.9571428571428571,-0.9586734693877551,-0.9576530612244898,-0.9591836734693878,-0.9556122448979593,-0.9428571428571428,-0.9408163265306122,-0.9566326530612245,-0.9561224489795919,-0.9418367346938775,-0.9132653061224489,-0.9448979591836735,-0.951530612244898,-0.951530612244898,-0.9556122448979593,-0.9418367346938775,-0.9510204081632653,-0.9571428571428571,-0.9469387755102041,-0.9571428571428572,-0.9408163265306122,-0.9566326530612246,-0.9566326530612245,-0.9153061224489796,-0.9418367346938775,-0.9285714285714286,-0.9428571428571428,-0.9448979591836735,-0.9566326530612245,-0.9576530612244898,-0.8357142857142857,-0.9566326530612246,-0.9423469387755102],\"yaxis\":\"y\",\"type\":\"scatter\",\"customdata\":[[\"random_forest\",0.0,7.0,1.5059238181352694,0.011346027147003786,190.0,-0.9561224489795919,0],[\"random_forest\",0.0,11.0,1.2543325997426455,0.023616481805998096,30.0,-0.936734693877551,1],[\"random_forest\",0.0,3.0,3.7064903760816827,0.03321483448085118,80.0,-0.9061224489795918,2],[\"random_forest\",0.0,3.0,2.6381093939421483,0.03007112050211544,20.0,-0.9285714285714285,3],[\"random_forest\",1.0,6.0,1.8741826659442515,0.04410051224276953,190.0,-0.9591836734693878,4],[\"random_forest\",0.0,8.0,3.1667708776061936,0.037694099212704855,160.0,-0.9071428571428571,5],[\"random_forest\",0.0,3.0,4.609749510294121,0.017299161915483162,180.0,-0.8316326530612246,6],[\"random_forest\",0.0,11.0,1.0010726943412758,0.03557676373044235,140.0,-0.9500000000000001,7],[\"random_forest\",0.0,6.0,2.3620637182796194,0.023990133129258386,200.0,-0.9214285714285714,8],[\"random_forest\",0.0,9.0,2.5000241138964836,0.04715579726349117,140.0,-0.9173469387755101,9],[\"random_forest\",1.0,3.0,3.7620039091675848,0.034360318193500605,130.0,-0.9153061224489796,10],[\"random_forest\",1.0,11.0,4.234851688855519,0.028944378101193678,170.0,-0.8357142857142857,11],[\"random_forest\",1.0,12.0,3.883040224451361,0.024970309931747977,90.0,-0.9051020408163265,12],[\"random_forest\",0.0,12.0,3.766021032214968,0.023172023358883687,70.0,-0.9255102040816326,13],[\"random_forest\",0.0,6.0,4.225454169602787,0.0365485256183608,40.0,-0.7566326530612245,14],[\"random_forest\",0.0,3.0,2.532490602196591,0.03795358383081578,170.0,-0.9183673469387755,15],[\"random_forest\",1.0,11.0,4.050430541044896,0.023722871152764894,130.0,-0.8306122448979593,16],[\"random_forest\",0.0,2.0,2.484051177287417,0.027652860572098474,130.0,-0.923469387755102,17],[\"random_forest\",0.0,4.0,3.423835805602143,0.047310377672684985,200.0,-0.9040816326530612,18],[\"random_forest\",0.0,6.0,3.5379613786532604,0.029114269892235894,100.0,-0.9173469387755101,19],[\"random_forest\",1.0,8.0,1.7101314592044219,0.013063708060965119,190.0,-0.9591836734693878,20],[\"random_forest\",1.0,5.0,1.7394415055835064,0.04263760885338869,160.0,-0.9576530612244898,21],[\"random_forest\",1.0,8.0,1.697800462033612,0.042275224791694765,200.0,-0.9556122448979593,22],[\"random_forest\",1.0,7.0,2.0303984505344044,0.018017698680011657,60.0,-0.9418367346938776,23],[\"random_forest\",1.0,9.0,1.3654956415175974,0.04954776531139989,150.0,-0.9602040816326531,24],[\"random_forest\",1.0,5.0,1.076640512684849,0.012174129088104786,110.0,-0.9566326530612246,25],[\"random_forest\",1.0,7.0,2.145250497639921,0.04189423237694727,180.0,-0.9438775510204082,26],[\"random_forest\",1.0,5.0,1.4358181491668458,0.01841554213406754,110.0,-0.9566326530612246,27],[\"random_forest\",1.0,9.0,2.930053175349229,0.010221655147048467,190.0,-0.9448979591836735,28],[\"random_forest\",1.0,10.0,2.8694478618889243,0.04447652558956582,180.0,-0.9438775510204082,29],[\"random_forest\",0.0,7.0,2.059410130858313,0.03240029302250734,40.0,-0.9193877551020407,30],[\"random_forest\",1.0,8.0,1.7135193688176342,0.015088606656527158,190.0,-0.9591836734693878,31],[\"random_forest\",1.0,10.0,1.8466992266509936,0.020658650015828818,160.0,-0.9576530612244898,32],[\"random_forest\",1.0,8.0,1.166689422558477,0.01277040013519872,10.0,-0.9423469387755102,33],[\"random_forest\",1.0,6.0,2.2387527809777863,0.040142326753676856,170.0,-0.9418367346938775,34],[\"random_forest\",1.0,10.0,1.3930392629568435,0.045402563254437096,150.0,-0.9602040816326531,35],[\"random_forest\",1.0,9.0,3.1722777965011772,0.04995851968751035,120.0,-0.9071428571428571,36],[\"random_forest\",1.0,9.0,1.3549974122821953,0.03146463346954255,140.0,-0.9566326530612245,37],[\"random_forest\",1.0,10.0,1.5594747461258025,0.015131130423582722,150.0,-0.9602040816326531,38],[\"random_forest\",1.0,8.0,1.0079285264371194,0.020874315643195307,150.0,-0.9602040816326531,39],[\"random_forest\",1.0,11.0,4.696656705496846,0.04958995726658989,120.0,-0.8102040816326531,40],[\"random_forest\",1.0,9.0,2.7418137018801936,0.02639664103583185,90.0,-0.9469387755102041,41],[\"random_forest\",1.0,12.0,1.1878804720070542,0.03969407721896684,180.0,-0.9556122448979593,42],[\"random_forest\",1.0,8.0,1.9592711927079476,0.015058391226267667,160.0,-0.9576530612244898,43],[\"random_forest\",1.0,10.0,2.304098773679213,0.03394728284977391,200.0,-0.9418367346938775,44],[\"random_forest\",1.0,10.0,4.865220865750156,0.047334106553718135,150.0,-0.8357142857142857,45],[\"random_forest\",1.0,11.0,1.3449721737498603,0.04474945941117523,70.0,-0.9566326530612246,46],[\"random_forest\",1.0,12.0,3.147050601187302,0.04883093065644641,140.0,-0.9142857142857143,47],[\"random_forest\",0.0,9.0,1.552639798317442,0.046063144188107544,120.0,-0.9510204081632653,48],[\"random_forest\",1.0,7.0,1.1484664743388702,0.02069048738472488,90.0,-0.9576530612244898,49],[\"random_forest\",0.0,4.0,1.03738577467459,0.020815286614148887,130.0,-0.951530612244898,50],[\"random_forest\",1.0,6.0,1.5831729558327239,0.016009267910339593,100.0,-0.9571428571428572,51],[\"random_forest\",0.0,8.0,2.630142175652252,0.026197876755595782,140.0,-0.9173469387755101,52],[\"random_forest\",1.0,11.0,2.409733216959822,0.03654064757967959,60.0,-0.9418367346938776,53],[\"random_forest\",1.0,12.0,3.357991293391158,0.03972254983977246,80.0,-0.9091836734693877,54],[\"random_forest\",0.0,10.0,4.195753938310402,0.011248779956861037,170.0,-0.8357142857142857,55],[\"random_forest\",1.0,2.0,1.8830050549638564,0.022906018084499758,150.0,-0.9479591836734694,56],[\"random_forest\",1.0,4.0,1.0058736678260618,0.029936075657265804,110.0,-0.9561224489795919,57],[\"random_forest\",1.0,5.0,2.152984764589827,0.01927619200597706,160.0,-0.9408163265306122,58],[\"random_forest\",0.0,7.0,1.2697744740544512,0.022064223978617008,130.0,-0.9510204081632654,59],[\"random_forest\",1.0,9.0,2.7887164699224902,0.027949817126041086,170.0,-0.9418367346938775,60],[\"random_forest\",1.0,11.0,4.4293830872118924,0.04861215799843645,100.0,-0.8377551020408163,61],[\"random_forest\",0.0,11.0,1.4480772694672328,0.04307717172016232,120.0,-0.9510204081632653,62],[\"random_forest\",1.0,8.0,3.5888139269544403,0.016794298868813725,180.0,-0.9061224489795918,63],[\"random_forest\",1.0,7.0,3.882988888587464,0.01402588752020988,140.0,-0.9142857142857143,64],[\"random_forest\",1.0,10.0,1.5696702863369776,0.01014538620761822,150.0,-0.9602040816326531,65],[\"random_forest\",1.0,10.0,1.838576216798077,0.024971761245442044,150.0,-0.9602040816326531,66],[\"random_forest\",1.0,9.0,1.0050277879987544,0.046130694251307655,130.0,-0.9571428571428571,67],[\"random_forest\",1.0,8.0,1.2909616508414068,0.03549691412808764,170.0,-0.9586734693877551,68],[\"random_forest\",1.0,9.0,1.6700607524868292,0.031813267094890886,160.0,-0.9576530612244898,69],[\"random_forest\",1.0,6.0,1.4380085355639298,0.037357353070466906,190.0,-0.9591836734693878,70],[\"random_forest\",1.0,8.0,1.193606208362693,0.04105850876067728,180.0,-0.9556122448979593,71],[\"random_forest\",1.0,9.0,2.0393632630640663,0.043673551477217014,110.0,-0.9428571428571428,72],[\"random_forest\",1.0,12.0,2.1563748791979434,0.01863325357223333,160.0,-0.9408163265306122,73],[\"random_forest\",1.0,10.0,1.8407422050826332,0.011795968439973928,140.0,-0.9566326530612245,74],[\"random_forest\",1.0,7.0,1.1029291614087886,0.019660038781928898,120.0,-0.9561224489795919,75],[\"random_forest\",1.0,11.0,2.577373071916697,0.010801028365663339,200.0,-0.9418367346938775,76],[\"random_forest\",1.0,10.0,3.0597702284559283,0.03873653841808167,150.0,-0.9132653061224489,77],[\"random_forest\",1.0,11.0,2.366008784580037,0.024728861431542515,190.0,-0.9448979591836735,78],[\"random_forest\",0.0,6.0,1.9466244546124727,0.02211005287753846,80.0,-0.951530612244898,79],[\"random_forest\",1.0,8.0,1.78341193424528,0.025520920740017182,30.0,-0.951530612244898,80],[\"random_forest\",1.0,10.0,1.6189990316033966,0.013861949769204004,180.0,-0.9556122448979593,81],[\"random_forest\",1.0,12.0,2.2572029489566243,0.027878028495479185,170.0,-0.9418367346938775,82],[\"random_forest\",0.0,9.0,1.4957866014468642,0.01732251817880656,120.0,-0.9510204081632653,83],[\"random_forest\",1.0,11.0,1.2494866146120023,0.015487015937850374,130.0,-0.9571428571428571,84],[\"random_forest\",1.0,9.0,2.4318353689233234,0.04537506699989942,90.0,-0.9469387755102041,85],[\"random_forest\",1.0,10.0,1.3829984899996537,0.04770124618000888,100.0,-0.9571428571428572,86],[\"random_forest\",1.0,10.0,2.733636428342079,0.0354488953200546,160.0,-0.9408163265306122,87],[\"random_forest\",0.0,11.0,1.9536995587863881,0.029181954465284238,150.0,-0.9566326530612246,88],[\"random_forest\",1.0,8.0,1.0124558406178408,0.03317589649780811,140.0,-0.9566326530612245,89],[\"random_forest\",1.0,7.0,3.2676611161857245,0.013761541415526369,130.0,-0.9153061224489796,90],[\"random_forest\",1.0,12.0,2.93913571879679,0.0489713851835325,200.0,-0.9418367346938775,91],[\"random_forest\",0.0,12.0,2.110991199986255,0.030984845716704575,50.0,-0.9285714285714286,92],[\"random_forest\",1.0,10.0,2.4811872614338113,0.024015737608574204,110.0,-0.9428571428571428,93],[\"random_forest\",1.0,9.0,2.2634381021489034,0.033707595749369657,190.0,-0.9448979591836735,94],[\"random_forest\",1.0,8.0,1.6419776026801496,0.02151388471786953,140.0,-0.9566326530612245,95],[\"random_forest\",1.0,5.0,1.7660107163510068,0.027028085255219443,160.0,-0.9576530612244898,96],[\"random_forest\",0.0,7.0,4.913802918189786,0.049785223257299546,170.0,-0.8357142857142857,97],[\"random_forest\",1.0,9.0,1.1232775116891287,0.04372692263503313,110.0,-0.9566326530612246,98],[\"random_forest\",1.0,10.0,1.5281592323463862,0.046624384439108824,10.0,-0.9423469387755102,99]]}],                        {\"template\":{\"data\":{\"histogram2dcontour\":[{\"type\":\"histogram2dcontour\",\"colorbar\":{\"outlinewidth\":0,\"ticks\":\"\"},\"colorscale\":[[0.0,\"#0d0887\"],[0.1111111111111111,\"#46039f\"],[0.2222222222222222,\"#7201a8\"],[0.3333333333333333,\"#9c179e\"],[0.4444444444444444,\"#bd3786\"],[0.5555555555555556,\"#d8576b\"],[0.6666666666666666,\"#ed7953\"],[0.7777777777777778,\"#fb9f3a\"],[0.8888888888888888,\"#fdca26\"],[1.0,\"#f0f921\"]]}],\"choropleth\":[{\"type\":\"choropleth\",\"colorbar\":{\"outlinewidth\":0,\"ticks\":\"\"}}],\"histogram2d\":[{\"type\":\"histogram2d\",\"colorbar\":{\"outlinewidth\":0,\"ticks\":\"\"},\"colorscale\":[[0.0,\"#0d0887\"],[0.1111111111111111,\"#46039f\"],[0.2222222222222222,\"#7201a8\"],[0.3333333333333333,\"#9c179e\"],[0.4444444444444444,\"#bd3786\"],[0.5555555555555556,\"#d8576b\"],[0.6666666666666666,\"#ed7953\"],[0.7777777777777778,\"#fb9f3a\"],[0.8888888888888888,\"#fdca26\"],[1.0,\"#f0f921\"]]}],\"heatmap\":[{\"type\":\"heatmap\",\"colorbar\":{\"outlinewidth\":0,\"ticks\":\"\"},\"colorscale\":[[0.0,\"#0d0887\"],[0.1111111111111111,\"#46039f\"],[0.2222222222222222,\"#7201a8\"],[0.3333333333333333,\"#9c179e\"],[0.4444444444444444,\"#bd3786\"],[0.5555555555555556,\"#d8576b\"],[0.6666666666666666,\"#ed7953\"],[0.7777777777777778,\"#fb9f3a\"],[0.8888888888888888,\"#fdca26\"],[1.0,\"#f0f921\"]]}],\"heatmapgl\":[{\"type\":\"heatmapgl\",\"colorbar\":{\"outlinewidth\":0,\"ticks\":\"\"},\"colorscale\":[[0.0,\"#0d0887\"],[0.1111111111111111,\"#46039f\"],[0.2222222222222222,\"#7201a8\"],[0.3333333333333333,\"#9c179e\"],[0.4444444444444444,\"#bd3786\"],[0.5555555555555556,\"#d8576b\"],[0.6666666666666666,\"#ed7953\"],[0.7777777777777778,\"#fb9f3a\"],[0.8888888888888888,\"#fdca26\"],[1.0,\"#f0f921\"]]}],\"contourcarpet\":[{\"type\":\"contourcarpet\",\"colorbar\":{\"outlinewidth\":0,\"ticks\":\"\"}}],\"contour\":[{\"type\":\"contour\",\"colorbar\":{\"outlinewidth\":0,\"ticks\":\"\"},\"colorscale\":[[0.0,\"#0d0887\"],[0.1111111111111111,\"#46039f\"],[0.2222222222222222,\"#7201a8\"],[0.3333333333333333,\"#9c179e\"],[0.4444444444444444,\"#bd3786\"],[0.5555555555555556,\"#d8576b\"],[0.6666666666666666,\"#ed7953\"],[0.7777777777777778,\"#fb9f3a\"],[0.8888888888888888,\"#fdca26\"],[1.0,\"#f0f921\"]]}],\"surface\":[{\"type\":\"surface\",\"colorbar\":{\"outlinewidth\":0,\"ticks\":\"\"},\"colorscale\":[[0.0,\"#0d0887\"],[0.1111111111111111,\"#46039f\"],[0.2222222222222222,\"#7201a8\"],[0.3333333333333333,\"#9c179e\"],[0.4444444444444444,\"#bd3786\"],[0.5555555555555556,\"#d8576b\"],[0.6666666666666666,\"#ed7953\"],[0.7777777777777778,\"#fb9f3a\"],[0.8888888888888888,\"#fdca26\"],[1.0,\"#f0f921\"]]}],\"mesh3d\":[{\"type\":\"mesh3d\",\"colorbar\":{\"outlinewidth\":0,\"ticks\":\"\"}}],\"scatter\":[{\"fillpattern\":{\"fillmode\":\"overlay\",\"size\":10,\"solidity\":0.2},\"type\":\"scatter\"}],\"parcoords\":[{\"type\":\"parcoords\",\"line\":{\"colorbar\":{\"outlinewidth\":0,\"ticks\":\"\"}}}],\"scatterpolargl\":[{\"type\":\"scatterpolargl\",\"marker\":{\"colorbar\":{\"outlinewidth\":0,\"ticks\":\"\"}}}],\"bar\":[{\"error_x\":{\"color\":\"#2a3f5f\"},\"error_y\":{\"color\":\"#2a3f5f\"},\"marker\":{\"line\":{\"color\":\"#E5ECF6\",\"width\":0.5},\"pattern\":{\"fillmode\":\"overlay\",\"size\":10,\"solidity\":0.2}},\"type\":\"bar\"}],\"scattergeo\":[{\"type\":\"scattergeo\",\"marker\":{\"colorbar\":{\"outlinewidth\":0,\"ticks\":\"\"}}}],\"scatterpolar\":[{\"type\":\"scatterpolar\",\"marker\":{\"colorbar\":{\"outlinewidth\":0,\"ticks\":\"\"}}}],\"histogram\":[{\"marker\":{\"pattern\":{\"fillmode\":\"overlay\",\"size\":10,\"solidity\":0.2}},\"type\":\"histogram\"}],\"scattergl\":[{\"type\":\"scattergl\",\"marker\":{\"colorbar\":{\"outlinewidth\":0,\"ticks\":\"\"}}}],\"scatter3d\":[{\"type\":\"scatter3d\",\"line\":{\"colorbar\":{\"outlinewidth\":0,\"ticks\":\"\"}},\"marker\":{\"colorbar\":{\"outlinewidth\":0,\"ticks\":\"\"}}}],\"scattermapbox\":[{\"type\":\"scattermapbox\",\"marker\":{\"colorbar\":{\"outlinewidth\":0,\"ticks\":\"\"}}}],\"scatterternary\":[{\"type\":\"scatterternary\",\"marker\":{\"colorbar\":{\"outlinewidth\":0,\"ticks\":\"\"}}}],\"scattercarpet\":[{\"type\":\"scattercarpet\",\"marker\":{\"colorbar\":{\"outlinewidth\":0,\"ticks\":\"\"}}}],\"carpet\":[{\"aaxis\":{\"endlinecolor\":\"#2a3f5f\",\"gridcolor\":\"white\",\"linecolor\":\"white\",\"minorgridcolor\":\"white\",\"startlinecolor\":\"#2a3f5f\"},\"baxis\":{\"endlinecolor\":\"#2a3f5f\",\"gridcolor\":\"white\",\"linecolor\":\"white\",\"minorgridcolor\":\"white\",\"startlinecolor\":\"#2a3f5f\"},\"type\":\"carpet\"}],\"table\":[{\"cells\":{\"fill\":{\"color\":\"#EBF0F8\"},\"line\":{\"color\":\"white\"}},\"header\":{\"fill\":{\"color\":\"#C8D4E3\"},\"line\":{\"color\":\"white\"}},\"type\":\"table\"}],\"barpolar\":[{\"marker\":{\"line\":{\"color\":\"#E5ECF6\",\"width\":0.5},\"pattern\":{\"fillmode\":\"overlay\",\"size\":10,\"solidity\":0.2}},\"type\":\"barpolar\"}],\"pie\":[{\"automargin\":true,\"type\":\"pie\"}]},\"layout\":{\"autotypenumbers\":\"strict\",\"colorway\":[\"#636efa\",\"#EF553B\",\"#00cc96\",\"#ab63fa\",\"#FFA15A\",\"#19d3f3\",\"#FF6692\",\"#B6E880\",\"#FF97FF\",\"#FECB52\"],\"font\":{\"color\":\"#2a3f5f\"},\"hovermode\":\"closest\",\"hoverlabel\":{\"align\":\"left\"},\"paper_bgcolor\":\"white\",\"plot_bgcolor\":\"#E5ECF6\",\"polar\":{\"bgcolor\":\"#E5ECF6\",\"angularaxis\":{\"gridcolor\":\"white\",\"linecolor\":\"white\",\"ticks\":\"\"},\"radialaxis\":{\"gridcolor\":\"white\",\"linecolor\":\"white\",\"ticks\":\"\"}},\"ternary\":{\"bgcolor\":\"#E5ECF6\",\"aaxis\":{\"gridcolor\":\"white\",\"linecolor\":\"white\",\"ticks\":\"\"},\"baxis\":{\"gridcolor\":\"white\",\"linecolor\":\"white\",\"ticks\":\"\"},\"caxis\":{\"gridcolor\":\"white\",\"linecolor\":\"white\",\"ticks\":\"\"}},\"coloraxis\":{\"colorbar\":{\"outlinewidth\":0,\"ticks\":\"\"}},\"colorscale\":{\"sequential\":[[0.0,\"#0d0887\"],[0.1111111111111111,\"#46039f\"],[0.2222222222222222,\"#7201a8\"],[0.3333333333333333,\"#9c179e\"],[0.4444444444444444,\"#bd3786\"],[0.5555555555555556,\"#d8576b\"],[0.6666666666666666,\"#ed7953\"],[0.7777777777777778,\"#fb9f3a\"],[0.8888888888888888,\"#fdca26\"],[1.0,\"#f0f921\"]],\"sequentialminus\":[[0.0,\"#0d0887\"],[0.1111111111111111,\"#46039f\"],[0.2222222222222222,\"#7201a8\"],[0.3333333333333333,\"#9c179e\"],[0.4444444444444444,\"#bd3786\"],[0.5555555555555556,\"#d8576b\"],[0.6666666666666666,\"#ed7953\"],[0.7777777777777778,\"#fb9f3a\"],[0.8888888888888888,\"#fdca26\"],[1.0,\"#f0f921\"]],\"diverging\":[[0,\"#8e0152\"],[0.1,\"#c51b7d\"],[0.2,\"#de77ae\"],[0.3,\"#f1b6da\"],[0.4,\"#fde0ef\"],[0.5,\"#f7f7f7\"],[0.6,\"#e6f5d0\"],[0.7,\"#b8e186\"],[0.8,\"#7fbc41\"],[0.9,\"#4d9221\"],[1,\"#276419\"]]},\"xaxis\":{\"gridcolor\":\"white\",\"linecolor\":\"white\",\"ticks\":\"\",\"title\":{\"standoff\":15},\"zerolinecolor\":\"white\",\"automargin\":true,\"zerolinewidth\":2},\"yaxis\":{\"gridcolor\":\"white\",\"linecolor\":\"white\",\"ticks\":\"\",\"title\":{\"standoff\":15},\"zerolinecolor\":\"white\",\"automargin\":true,\"zerolinewidth\":2},\"scene\":{\"xaxis\":{\"backgroundcolor\":\"#E5ECF6\",\"gridcolor\":\"white\",\"linecolor\":\"white\",\"showbackground\":true,\"ticks\":\"\",\"zerolinecolor\":\"white\",\"gridwidth\":2},\"yaxis\":{\"backgroundcolor\":\"#E5ECF6\",\"gridcolor\":\"white\",\"linecolor\":\"white\",\"showbackground\":true,\"ticks\":\"\",\"zerolinecolor\":\"white\",\"gridwidth\":2},\"zaxis\":{\"backgroundcolor\":\"#E5ECF6\",\"gridcolor\":\"white\",\"linecolor\":\"white\",\"showbackground\":true,\"ticks\":\"\",\"zerolinecolor\":\"white\",\"gridwidth\":2}},\"shapedefaults\":{\"line\":{\"color\":\"#2a3f5f\"}},\"annotationdefaults\":{\"arrowcolor\":\"#2a3f5f\",\"arrowhead\":0,\"arrowwidth\":1},\"geo\":{\"bgcolor\":\"white\",\"landcolor\":\"#E5ECF6\",\"subunitcolor\":\"white\",\"showland\":true,\"showlakes\":true,\"lakecolor\":\"white\"},\"title\":{\"x\":0.05},\"mapbox\":{\"style\":\"light\"}}},\"xaxis\":{\"anchor\":\"y\",\"domain\":[0.0,1.0],\"title\":{\"text\":\"trial_number\"}},\"yaxis\":{\"anchor\":\"x\",\"domain\":[0.0,1.0],\"title\":{\"text\":\"loss\"}},\"legend\":{\"title\":{\"text\":\"model_choice\"},\"tracegroupgap\":0},\"margin\":{\"t\":60}},                        {\"responsive\": true}                    ).then(function(){\n",
       "                            \n",
       "var gd = document.getElementById('1f7bc523-dc52-4993-88f1-cca86852c62d');\n",
       "var x = new MutationObserver(function (mutations, observer) {{\n",
       "        var display = window.getComputedStyle(gd).display;\n",
       "        if (!display || display === 'none') {{\n",
       "            console.log([gd, 'removed!']);\n",
       "            Plotly.purge(gd);\n",
       "            observer.disconnect();\n",
       "        }}\n",
       "}});\n",
       "\n",
       "// Listen for the removal of the full notebook cells\n",
       "var notebookContainer = gd.closest('#notebook-container');\n",
       "if (notebookContainer) {{\n",
       "    x.observe(notebookContainer, {childList: true});\n",
       "}}\n",
       "\n",
       "// Listen for the clearing of the current output cell\n",
       "var outputEl = gd.closest('.output');\n",
       "if (outputEl) {{\n",
       "    x.observe(outputEl, {childList: true});\n",
       "}}\n",
       "\n",
       "                        })                };                });            </script>        </div>"
      ]
     },
     "metadata": {},
     "output_type": "display_data"
    }
   ],
   "source": [
    "import pandas as pd\n",
    "import numpy as np\n",
    "\n",
    "import plotly.express as px\n",
    "\n",
    "def unpack(x):\n",
    "    if x:\n",
    "        return x[0]\n",
    "    return np.nan\n",
    "  \n",
    "def add_hover_data(fig, df, model_choice, ignore_cols=[\"loss\", \"trial_number\", \"model_choice\"]):\n",
    "  fig.update_traces(\n",
    "      customdata = df.loc[df[\"model_choice\"] == model_choice],\n",
    "      hovertemplate = \"<br>\".join(\n",
    "          [\n",
    "              f\"{col}: %{{customdata[{i}]}}\"\n",
    "              for i, col in enumerate(df.columns) if not trials_df.loc[trials_df[\"model_choice\"] == model_choice][col].isnull().any() \n",
    "            and col not in ignore_cols\n",
    "          ]\n",
    "      ),\n",
    "      selector = {\"name\": model_choice},\n",
    "  )\n",
    "  return fig\n",
    "\n",
    "\n",
    "trials_df = pd.DataFrame([pd.Series(t[\"misc\"][\"vals\"]).apply(unpack) for t in spark_trials])\n",
    "trials_df[\"loss\"] = [t[\"result\"][\"loss\"] for t in spark_trials]\n",
    "trials_df[\"trial_number\"] = trials_df.index\n",
    "trials_df[\"model_choice\"] = trials_df[\"model_choice\"].apply(\n",
    "    lambda x: \"random_forest\" if x == 0 else \"gradient_boosting\"\n",
    ")\n",
    "fig = px.scatter(trials_df, x=\"trial_number\", y=\"loss\", color=\"model_choice\")\n",
    "fig = add_hover_data(fig, trials_df, \"random_forest\")\n",
    "fig.show()"
   ]
  },
  {
   "cell_type": "markdown",
   "id": "fefb22f5-641d-4abe-bfce-41202d0da820",
   "metadata": {},
   "source": [
    "Because we have lots of experiments in MLFlow now and they are all nested under our experiment container cmle_hyperopt_tuning, we need to first find out the experiment run ID from the parent so we can then filter based on that to find the individual trials."
   ]
  },
  {
   "cell_type": "code",
   "execution_count": 66,
   "id": "82d4ef18-5435-4775-8619-7b79996088d2",
   "metadata": {
    "tags": []
   },
   "outputs": [
    {
     "name": "stdout",
     "output_type": "stream",
     "text": [
      "run_id                                      4560ca6dfa8044fda47d2ee05377dc25\n",
      "experiment_id                                                              0\n",
      "status                                                              FINISHED\n",
      "artifact_uri               file:///mlruns/0/4560ca6dfa8044fda47d2ee05377d...\n",
      "start_time                                  2023-08-08 21:03:51.563000+00:00\n",
      "end_time                                    2023-08-08 21:06:22.666000+00:00\n",
      "tags.mlflow.user                                                        root\n",
      "tags.mlflow.runName                    cmle_propensity_model_hyperopt_tuning\n",
      "tags.mlflow.source.type                                                LOCAL\n",
      "tags.mlflow.source.name    /usr/local/lib/python3.8/site-packages/ipykern...\n",
      "Name: 0, dtype: object\n"
     ]
    }
   ],
   "source": [
    "parent_run = mlflow.search_runs(filter_string=f'tags.mlflow.runName = \"{model_name}_hyperopt_tuning\"').iloc[0]\n",
    "print(parent_run)"
   ]
  },
  {
   "cell_type": "code",
   "execution_count": 67,
   "id": "00607817-5339-423b-9fa1-38f7df270bba",
   "metadata": {
    "tags": []
   },
   "outputs": [
    {
     "name": "stdout",
     "output_type": "stream",
     "text": [
      "4560ca6dfa8044fda47d2ee05377dc25\n"
     ]
    }
   ],
   "source": [
    "parent_run_id = mlflow.search_runs(filter_string=f'tags.mlflow.runName = \"{model_name}_hyperopt_tuning\"').iloc[0].run_id\n",
    "print(parent_run_id)"
   ]
  },
  {
   "cell_type": "markdown",
   "id": "de72708e-8efc-4cd3-8baf-1504d17bc5f7",
   "metadata": {},
   "source": [
    "And finally we find and record the best overall performing model. Because this one is the best overall, we create a brand new model in the Model Hub and this is the model we'll be using going forward for scoring."
   ]
  },
  {
   "cell_type": "markdown",
   "id": "dcede3d8-09bc-43a9-ac12-a89c5699185e",
   "metadata": {},
   "source": [
    "We organize the run info associated with the above hyperparameter search and print this out"
   ]
  },
  {
   "cell_type": "code",
   "execution_count": 68,
   "id": "9dbbb8c8-bc35-4509-ab14-23d9c077061b",
   "metadata": {
    "tags": []
   },
   "outputs": [],
   "source": [
    "def print_run_info(runs):\n",
    "    for r in runs:\n",
    "        print(\"run_id: {}\".format(r.info.run_id))\n",
    "        print(\"lifecycle_stage: {}\".format(r.info.lifecycle_stage))\n",
    "        print(\"metrics: {}\".format(r.data.metrics))\n",
    "\n",
    "        # Exclude mlflow system tags\n",
    "        tags = {k: v for k, v in r.data.tags.items() if not k.startswith(\"mlflow.\")}\n",
    "        print(\"tags: {}\".format(tags))"
   ]
  },
  {
   "cell_type": "code",
   "execution_count": 69,
   "id": "6592a37b-6787-499e-9aaf-3947d322f47e",
   "metadata": {
    "tags": []
   },
   "outputs": [
    {
     "name": "stdout",
     "output_type": "stream",
     "text": [
      "run_id: 2080126a4eee4466957a35172fbe9837\n",
      "lifecycle_stage: active\n",
      "metrics: {'auc': 0.9602040816326531}\n",
      "tags: {'model_choice': 'random_forest'}\n",
      "run_id: 7fbd92ee73ee4288ab841c9ad25c1fc3\n",
      "lifecycle_stage: active\n",
      "metrics: {'auc': 0.9602040816326531}\n",
      "tags: {'model_choice': 'random_forest'}\n",
      "run_id: 099722a0daf144bfa25bf43c9d40eb24\n",
      "lifecycle_stage: active\n",
      "metrics: {'auc': 0.9602040816326531}\n",
      "tags: {'model_choice': 'random_forest'}\n",
      "run_id: f9193dc873e24b29b0afc62574781880\n",
      "lifecycle_stage: active\n",
      "metrics: {'auc': 0.9602040816326531}\n",
      "tags: {'model_choice': 'random_forest'}\n",
      "run_id: 26e110d3ffcd4a2ea1e3e28638d55f13\n",
      "lifecycle_stage: active\n",
      "metrics: {'auc': 0.9602040816326531}\n",
      "tags: {'model_choice': 'random_forest'}\n",
      "run_id: b7ecfc5a8b3c4445b09af111f0fdae52\n",
      "lifecycle_stage: active\n",
      "metrics: {'auc': 0.9602040816326531}\n",
      "tags: {'model_choice': 'random_forest'}\n",
      "run_id: c1fe770d324741abbe68bf789e4f2d8f\n",
      "lifecycle_stage: active\n",
      "metrics: {'auc': 0.9591836734693878}\n",
      "tags: {'model_choice': 'random_forest'}\n",
      "run_id: 378f6ce1214f422096f210446da4cfd2\n",
      "lifecycle_stage: active\n",
      "metrics: {'auc': 0.9591836734693878}\n",
      "tags: {'model_choice': 'random_forest'}\n",
      "run_id: 09866e49423a48bd97f7a84dbb1c0e66\n",
      "lifecycle_stage: active\n",
      "metrics: {'auc': 0.9591836734693878}\n",
      "tags: {'model_choice': 'random_forest'}\n",
      "run_id: c648f86fe6ed443290846320507ccbf5\n",
      "lifecycle_stage: active\n",
      "metrics: {'auc': 0.9591836734693878}\n",
      "tags: {'model_choice': 'random_forest'}\n",
      "run_id: 0ff855376fb7417ea0c8f8dee12b1424\n",
      "lifecycle_stage: active\n",
      "metrics: {'auc': 0.9586734693877551}\n",
      "tags: {'model_choice': 'random_forest'}\n",
      "run_id: 20df78b7402e46cebc3ba1ad23ab0096\n",
      "lifecycle_stage: active\n",
      "metrics: {'auc': 0.9576530612244898}\n",
      "tags: {'model_choice': 'random_forest'}\n",
      "run_id: df9ae6155dd64357be9e4e4a12b744dd\n",
      "lifecycle_stage: active\n",
      "metrics: {'auc': 0.9576530612244898}\n",
      "tags: {'model_choice': 'random_forest'}\n",
      "run_id: fe83ede39fb2428a94635d352c0a9e37\n",
      "lifecycle_stage: active\n",
      "metrics: {'auc': 0.9576530612244898}\n",
      "tags: {'model_choice': 'random_forest'}\n",
      "run_id: c88602334e0a43ec9a72c74e81688816\n",
      "lifecycle_stage: active\n",
      "metrics: {'auc': 0.9576530612244898}\n",
      "tags: {'model_choice': 'random_forest'}\n",
      "run_id: 3dcba30519024fc5ac5e22b04b127b3b\n",
      "lifecycle_stage: active\n",
      "metrics: {'auc': 0.9576530612244898}\n",
      "tags: {'model_choice': 'random_forest'}\n",
      "run_id: 1ff4c042608844efa4e3065fdae6636e\n",
      "lifecycle_stage: active\n",
      "metrics: {'auc': 0.9576530612244898}\n",
      "tags: {'model_choice': 'random_forest'}\n",
      "run_id: ac5ffc8584594c51a168a68fb22906a4\n",
      "lifecycle_stage: active\n",
      "metrics: {'auc': 0.9571428571428572}\n",
      "tags: {'model_choice': 'random_forest'}\n",
      "run_id: ed0bdba9a62744a9a62809031065fabc\n",
      "lifecycle_stage: active\n",
      "metrics: {'auc': 0.9571428571428572}\n",
      "tags: {'model_choice': 'random_forest'}\n",
      "run_id: a24ac17b5e70429ebef92461e714220a\n",
      "lifecycle_stage: active\n",
      "metrics: {'auc': 0.9571428571428571}\n",
      "tags: {'model_choice': 'random_forest'}\n",
      "run_id: 4cccb4dff694483d8231786526453f20\n",
      "lifecycle_stage: active\n",
      "metrics: {'auc': 0.9571428571428571}\n",
      "tags: {'model_choice': 'random_forest'}\n",
      "run_id: 3a06105de6bb4651bde58d6921b45006\n",
      "lifecycle_stage: active\n",
      "metrics: {'auc': 0.9566326530612246}\n",
      "tags: {'model_choice': 'random_forest'}\n",
      "run_id: 7f73d8640fad4e58a35c9e8aadc0d6a7\n",
      "lifecycle_stage: active\n",
      "metrics: {'auc': 0.9566326530612246}\n",
      "tags: {'model_choice': 'random_forest'}\n",
      "run_id: d509dedd6dbb422c99c677b4d5d1efc0\n",
      "lifecycle_stage: active\n",
      "metrics: {'auc': 0.9566326530612246}\n",
      "tags: {'model_choice': 'random_forest'}\n",
      "run_id: 9255dc27138f49adb9c9dfa42e579116\n",
      "lifecycle_stage: active\n",
      "metrics: {'auc': 0.9566326530612246}\n",
      "tags: {'model_choice': 'random_forest'}\n",
      "run_id: a2d544a634e2476f9a511f2013de2b8f\n",
      "lifecycle_stage: active\n",
      "metrics: {'auc': 0.9566326530612246}\n",
      "tags: {'model_choice': 'random_forest'}\n",
      "run_id: ee2f3adffd9f42c380dad98eee5b9344\n",
      "lifecycle_stage: active\n",
      "metrics: {'auc': 0.9566326530612245}\n",
      "tags: {'model_choice': 'random_forest'}\n",
      "run_id: 91b462a5f94c49699d0b58576ef1c132\n",
      "lifecycle_stage: active\n",
      "metrics: {'auc': 0.9566326530612245}\n",
      "tags: {'model_choice': 'random_forest'}\n",
      "run_id: 8d56b22bd02041dcb6387908c270f26f\n",
      "lifecycle_stage: active\n",
      "metrics: {'auc': 0.9566326530612245}\n",
      "tags: {'model_choice': 'random_forest'}\n",
      "run_id: 476fd3a5fddb4298a337be20a87d571c\n",
      "lifecycle_stage: active\n",
      "metrics: {'auc': 0.9566326530612245}\n",
      "tags: {'model_choice': 'random_forest'}\n",
      "run_id: e0a3f3981dab467bbfc42d1d95ba66e4\n",
      "lifecycle_stage: active\n",
      "metrics: {'auc': 0.9561224489795919}\n",
      "tags: {'model_choice': 'random_forest'}\n",
      "run_id: 6c07232a0832421b9ae965f97bf56988\n",
      "lifecycle_stage: active\n",
      "metrics: {'auc': 0.9561224489795919}\n",
      "tags: {'model_choice': 'random_forest'}\n",
      "run_id: 9a1049b65f0241dcbb33fe6e1af55fed\n",
      "lifecycle_stage: active\n",
      "metrics: {'auc': 0.9561224489795919}\n",
      "tags: {'model_choice': 'random_forest'}\n",
      "run_id: 96a7c9b82b0f49109a58e2974e8adc6a\n",
      "lifecycle_stage: active\n",
      "metrics: {'auc': 0.9556122448979593}\n",
      "tags: {'model_choice': 'random_forest'}\n",
      "run_id: 7ff0486855eb4f4aa71c2c6cc7944750\n",
      "lifecycle_stage: active\n",
      "metrics: {'auc': 0.9556122448979593}\n",
      "tags: {'model_choice': 'random_forest'}\n",
      "run_id: 16cf71ec699e453c992edeacd72f00be\n",
      "lifecycle_stage: active\n",
      "metrics: {'auc': 0.9556122448979593}\n",
      "tags: {'model_choice': 'random_forest'}\n",
      "run_id: 91ba9db6f29240e28a72bac64d6712c4\n",
      "lifecycle_stage: active\n",
      "metrics: {'auc': 0.9556122448979593}\n",
      "tags: {'model_choice': 'random_forest'}\n",
      "run_id: e30b76d174b542f3ac3f2ed6819ea8d1\n",
      "lifecycle_stage: active\n",
      "metrics: {'auc': 0.951530612244898}\n",
      "tags: {'model_choice': 'random_forest'}\n",
      "run_id: 8e03e13914f0406db3082b3aa6de4f0e\n",
      "lifecycle_stage: active\n",
      "metrics: {'auc': 0.951530612244898}\n",
      "tags: {'model_choice': 'random_forest'}\n",
      "run_id: a87bc097191a449496f572724c3a787c\n",
      "lifecycle_stage: active\n",
      "metrics: {'auc': 0.951530612244898}\n",
      "tags: {'model_choice': 'random_forest'}\n",
      "run_id: 83567e4649cd4e17a9d3efb14495e080\n",
      "lifecycle_stage: active\n",
      "metrics: {'auc': 0.9510204081632654}\n",
      "tags: {'model_choice': 'random_forest'}\n",
      "run_id: e96fd4689ef742d580bd46d2e85342fd\n",
      "lifecycle_stage: active\n",
      "metrics: {'auc': 0.9510204081632653}\n",
      "tags: {'model_choice': 'random_forest'}\n",
      "run_id: 05d14186be3949e191ab05eced6b9ff5\n",
      "lifecycle_stage: active\n",
      "metrics: {'auc': 0.9510204081632653}\n",
      "tags: {'model_choice': 'random_forest'}\n",
      "run_id: 75c20479a9034c36a25669a5c05f335a\n",
      "lifecycle_stage: active\n",
      "metrics: {'auc': 0.9510204081632653}\n",
      "tags: {'model_choice': 'random_forest'}\n",
      "run_id: c9b82d864a9e4459a0615bce25ba852b\n",
      "lifecycle_stage: active\n",
      "metrics: {'auc': 0.9500000000000001}\n",
      "tags: {'model_choice': 'random_forest'}\n",
      "run_id: 2fe1e8cd783147c0b96923147b533f82\n",
      "lifecycle_stage: active\n",
      "metrics: {'auc': 0.9479591836734694}\n",
      "tags: {'model_choice': 'random_forest'}\n",
      "run_id: bc7828b53eaf4b35935b2a988e320f34\n",
      "lifecycle_stage: active\n",
      "metrics: {'auc': 0.9469387755102041}\n",
      "tags: {'model_choice': 'random_forest'}\n",
      "run_id: 689f7ebfe5694280a280b21ef36f76f7\n",
      "lifecycle_stage: active\n",
      "metrics: {'auc': 0.9469387755102041}\n",
      "tags: {'model_choice': 'random_forest'}\n",
      "run_id: 87f37cb02d9245dbb15bf3ef1ae19749\n",
      "lifecycle_stage: active\n",
      "metrics: {'auc': 0.9448979591836735}\n",
      "tags: {'model_choice': 'random_forest'}\n",
      "run_id: 7ea47e4e1cfd456f927822242784e9e3\n",
      "lifecycle_stage: active\n",
      "metrics: {'auc': 0.9448979591836735}\n",
      "tags: {'model_choice': 'random_forest'}\n",
      "run_id: 38aa74bf4498492682d7d17051c9ff75\n",
      "lifecycle_stage: active\n",
      "metrics: {'auc': 0.9448979591836735}\n",
      "tags: {'model_choice': 'random_forest'}\n",
      "run_id: 78b17914cf5947999365faaad4e2b2ac\n",
      "lifecycle_stage: active\n",
      "metrics: {'auc': 0.9438775510204082}\n",
      "tags: {'model_choice': 'random_forest'}\n",
      "run_id: 062c14a87bce47a7abf6463951b81020\n",
      "lifecycle_stage: active\n",
      "metrics: {'auc': 0.9438775510204082}\n",
      "tags: {'model_choice': 'random_forest'}\n",
      "run_id: 63408d89a6f647afa40581102f2a3ce5\n",
      "lifecycle_stage: active\n",
      "metrics: {'auc': 0.9428571428571428}\n",
      "tags: {'model_choice': 'random_forest'}\n",
      "run_id: 997570378dbb45c886a9915dadccc506\n",
      "lifecycle_stage: active\n",
      "metrics: {'auc': 0.9428571428571428}\n",
      "tags: {'model_choice': 'random_forest'}\n",
      "run_id: 8480c95e282544d19ee11efa1e3620aa\n",
      "lifecycle_stage: active\n",
      "metrics: {'auc': 0.9423469387755102}\n",
      "tags: {'model_choice': 'random_forest'}\n",
      "run_id: 448c793e60eb4ef8ac8744012b952cf4\n",
      "lifecycle_stage: active\n",
      "metrics: {'auc': 0.9423469387755102}\n",
      "tags: {'model_choice': 'random_forest'}\n",
      "run_id: 2db8da54023f4eaf8233c401dde3d15a\n",
      "lifecycle_stage: active\n",
      "metrics: {'auc': 0.9418367346938776}\n",
      "tags: {'model_choice': 'random_forest'}\n",
      "run_id: 794287ee84aa4f04b7082cb2b274d949\n",
      "lifecycle_stage: active\n",
      "metrics: {'auc': 0.9418367346938776}\n",
      "tags: {'model_choice': 'random_forest'}\n",
      "run_id: c75934e1846d452b910ba3638cab445d\n",
      "lifecycle_stage: active\n",
      "metrics: {'auc': 0.9418367346938775}\n",
      "tags: {'model_choice': 'random_forest'}\n",
      "run_id: 3a0d3110ab584646a33d87f9d83ae84a\n",
      "lifecycle_stage: active\n",
      "metrics: {'auc': 0.9418367346938775}\n",
      "tags: {'model_choice': 'random_forest'}\n",
      "run_id: e63cbc5d40634f719d74ab1234f3d3df\n",
      "lifecycle_stage: active\n",
      "metrics: {'auc': 0.9418367346938775}\n",
      "tags: {'model_choice': 'random_forest'}\n",
      "run_id: b6fdc69392ea4dd2af895debe96d3955\n",
      "lifecycle_stage: active\n",
      "metrics: {'auc': 0.9418367346938775}\n",
      "tags: {'model_choice': 'random_forest'}\n",
      "run_id: 0423463e9f0646ab8a7ff5fa6afc1950\n",
      "lifecycle_stage: active\n",
      "metrics: {'auc': 0.9418367346938775}\n",
      "tags: {'model_choice': 'random_forest'}\n",
      "run_id: 1f5c35d89d054f0c900c9ecc53c513bd\n",
      "lifecycle_stage: active\n",
      "metrics: {'auc': 0.9418367346938775}\n",
      "tags: {'model_choice': 'random_forest'}\n",
      "run_id: 3a8e3628225446d1a53ee54238b5fd8f\n",
      "lifecycle_stage: active\n",
      "metrics: {'auc': 0.9408163265306122}\n",
      "tags: {'model_choice': 'random_forest'}\n",
      "run_id: 05bc5e8f700c49f2a788a2256217e454\n",
      "lifecycle_stage: active\n",
      "metrics: {'auc': 0.9408163265306122}\n",
      "tags: {'model_choice': 'random_forest'}\n",
      "run_id: 22d8b7bf9cef4ff9be02a0f8e602fab1\n",
      "lifecycle_stage: active\n",
      "metrics: {'auc': 0.9408163265306122}\n",
      "tags: {'model_choice': 'random_forest'}\n",
      "run_id: 57b83f2fb289456785abac59a089a1b1\n",
      "lifecycle_stage: active\n",
      "metrics: {'auc': 0.936734693877551}\n",
      "tags: {'model_choice': 'random_forest'}\n",
      "run_id: bb0c1ebc3ad645ad902d1af555c69992\n",
      "lifecycle_stage: active\n",
      "metrics: {'auc': 0.9285714285714286}\n",
      "tags: {'model_choice': 'random_forest'}\n",
      "run_id: 61fa6545595b48b488a0d8a6c289decb\n",
      "lifecycle_stage: active\n",
      "metrics: {'auc': 0.9285714285714285}\n",
      "tags: {'model_choice': 'random_forest'}\n",
      "run_id: 5f2be944e03a408296aecc99b4ddde7f\n",
      "lifecycle_stage: active\n",
      "metrics: {'auc': 0.9255102040816326}\n",
      "tags: {'model_choice': 'random_forest'}\n",
      "run_id: 7234408ebff94761843f8ab5627fad00\n",
      "lifecycle_stage: active\n",
      "metrics: {'auc': 0.923469387755102}\n",
      "tags: {'model_choice': 'random_forest'}\n",
      "run_id: 6bbf6a36453245c28bb63bc70da729c3\n",
      "lifecycle_stage: active\n",
      "metrics: {'auc': 0.9214285714285714}\n",
      "tags: {'model_choice': 'random_forest'}\n",
      "run_id: a016e5bdc2834880b62190ae5e4d2d6a\n",
      "lifecycle_stage: active\n",
      "metrics: {'auc': 0.9193877551020407}\n",
      "tags: {'model_choice': 'random_forest'}\n",
      "run_id: b16e84379d574f84bad9a3857732d67b\n",
      "lifecycle_stage: active\n",
      "metrics: {'auc': 0.9183673469387755}\n",
      "tags: {'model_choice': 'random_forest'}\n",
      "run_id: 98ed1d1a4bd9469e9a03239269aeae67\n",
      "lifecycle_stage: active\n",
      "metrics: {'auc': 0.9173469387755101}\n",
      "tags: {'model_choice': 'random_forest'}\n",
      "run_id: e40d7ed73280479f94187514f7469c1f\n",
      "lifecycle_stage: active\n",
      "metrics: {'auc': 0.9173469387755101}\n",
      "tags: {'model_choice': 'random_forest'}\n",
      "run_id: 0694bf741cd742199d97f0162315c39d\n",
      "lifecycle_stage: active\n",
      "metrics: {'auc': 0.9173469387755101}\n",
      "tags: {'model_choice': 'random_forest'}\n",
      "run_id: b4848ee05c694e0abcd5309c0a512208\n",
      "lifecycle_stage: active\n",
      "metrics: {'auc': 0.9153061224489796}\n",
      "tags: {'model_choice': 'random_forest'}\n",
      "run_id: d86a8a93ece446d7b57088d88fb6797c\n",
      "lifecycle_stage: active\n",
      "metrics: {'auc': 0.9153061224489796}\n",
      "tags: {'model_choice': 'random_forest'}\n",
      "run_id: 22566778b1454caa98e4bb807805e2ec\n",
      "lifecycle_stage: active\n",
      "metrics: {'auc': 0.9142857142857143}\n",
      "tags: {'model_choice': 'random_forest'}\n",
      "run_id: ad5227e98bab4203bb55a5a635efa3e2\n",
      "lifecycle_stage: active\n",
      "metrics: {'auc': 0.9142857142857143}\n",
      "tags: {'model_choice': 'random_forest'}\n",
      "run_id: 1d36aaa23e614c718216902ff49413ee\n",
      "lifecycle_stage: active\n",
      "metrics: {'auc': 0.9132653061224489}\n",
      "tags: {'model_choice': 'random_forest'}\n",
      "run_id: b548010d3cfb4c6e9e9137215de2678f\n",
      "lifecycle_stage: active\n",
      "metrics: {'auc': 0.9091836734693877}\n",
      "tags: {'model_choice': 'random_forest'}\n",
      "run_id: 312fb9e5a1264c29bbeff5cbe0f9bbc0\n",
      "lifecycle_stage: active\n",
      "metrics: {'auc': 0.9071428571428571}\n",
      "tags: {'model_choice': 'random_forest'}\n",
      "run_id: 3cb03d7688cb43a594d900229683fd3d\n",
      "lifecycle_stage: active\n",
      "metrics: {'auc': 0.9071428571428571}\n",
      "tags: {'model_choice': 'random_forest'}\n",
      "run_id: 8d1d5df842574450b506be24ba0ad916\n",
      "lifecycle_stage: active\n",
      "metrics: {'auc': 0.9061224489795918}\n",
      "tags: {'model_choice': 'random_forest'}\n",
      "run_id: 801fd1f3f8154be0adf96eb5b196d5d9\n",
      "lifecycle_stage: active\n",
      "metrics: {'auc': 0.9061224489795918}\n",
      "tags: {'model_choice': 'random_forest'}\n",
      "run_id: 5f8c6962f5114bb6bb5f9ccd6501ea0b\n",
      "lifecycle_stage: active\n",
      "metrics: {'auc': 0.9051020408163265}\n",
      "tags: {'model_choice': 'random_forest'}\n",
      "run_id: 32b4288a4c934d599899a1f0cf22b0ca\n",
      "lifecycle_stage: active\n",
      "metrics: {'auc': 0.9040816326530612}\n",
      "tags: {'model_choice': 'random_forest'}\n",
      "run_id: bd996de3d09a4d158e2e23365bf21b91\n",
      "lifecycle_stage: active\n",
      "metrics: {'accuracy': 0.9047619047619048, 'auc': 0.878061224489796}\n",
      "tags: {}\n",
      "run_id: 2fb21d52375c49a6a9081f827838e129\n",
      "lifecycle_stage: active\n",
      "metrics: {'auc': 0.8695887445887445}\n",
      "tags: {'model_choice': 'random_forest'}\n",
      "run_id: 3c77e263131b4ea3923c307a0c0dc14f\n",
      "lifecycle_stage: active\n",
      "metrics: {'auc': 0.8695887445887445}\n",
      "tags: {'model_choice': 'random_forest'}\n",
      "run_id: 9dbdc8ecbf3e417b9fe32491ffaa5064\n",
      "lifecycle_stage: active\n",
      "metrics: {'auc': 0.8695887445887445}\n",
      "tags: {'model_choice': 'random_forest'}\n",
      "run_id: e4aa2870bc1b42f59f81fc40c66178f8\n",
      "lifecycle_stage: active\n",
      "metrics: {'auc': 0.8695887445887445}\n",
      "tags: {'model_choice': 'random_forest'}\n",
      "run_id: b103e3c7bf564c309db44ffc9f4b3870\n",
      "lifecycle_stage: active\n",
      "metrics: {'auc': 0.8695887445887445}\n",
      "tags: {'model_choice': 'random_forest'}\n",
      "run_id: f8193fe881ba4d99bfa4fb969c87a513\n",
      "lifecycle_stage: active\n",
      "metrics: {'auc': 0.8695887445887445}\n",
      "tags: {'model_choice': 'random_forest'}\n",
      "run_id: 11c096fc5ed24e2fa643f7d9b7225844\n",
      "lifecycle_stage: active\n",
      "metrics: {'auc': 0.8668831168831168}\n",
      "tags: {'model_choice': 'random_forest'}\n",
      "run_id: 7388d16a2c3949bea682e377422656a7\n",
      "lifecycle_stage: active\n",
      "metrics: {'auc': 0.8668831168831168}\n",
      "tags: {'model_choice': 'random_forest'}\n",
      "run_id: e3d88f6325f049cea8375be757d414ca\n",
      "lifecycle_stage: active\n",
      "metrics: {'auc': 0.8641774891774892}\n",
      "tags: {'model_choice': 'random_forest'}\n",
      "run_id: b9b70a2ca1d14d40b530a516aef9375f\n",
      "lifecycle_stage: active\n",
      "metrics: {'auc': 0.8636363636363636}\n",
      "tags: {'model_choice': 'random_forest'}\n",
      "run_id: e8861eb24b7a479db7e6fd5d82939a4b\n",
      "lifecycle_stage: active\n",
      "metrics: {'auc': 0.8636363636363636}\n",
      "tags: {'model_choice': 'random_forest'}\n",
      "run_id: 1434b1bdbc9547c9a47a88f62af2ee93\n",
      "lifecycle_stage: active\n",
      "metrics: {'auc': 0.8625541125541125}\n",
      "tags: {'model_choice': 'random_forest'}\n",
      "run_id: 528d36cc697940d19cb545f04b331cef\n",
      "lifecycle_stage: active\n",
      "metrics: {'auc': 0.862012987012987}\n",
      "tags: {'model_choice': 'random_forest'}\n",
      "run_id: c7d6cda5710948e1bf5ab1384b58d0b6\n",
      "lifecycle_stage: active\n",
      "metrics: {'auc': 0.8614718614718615}\n",
      "tags: {'model_choice': 'random_forest'}\n",
      "run_id: c6cea02cc3ac49f2bac039729e2d74bf\n",
      "lifecycle_stage: active\n",
      "metrics: {'auc': 0.8614718614718615}\n",
      "tags: {'model_choice': 'random_forest'}\n",
      "run_id: 831ef179857d473e8dbf507521d6832f\n",
      "lifecycle_stage: active\n",
      "metrics: {'auc': 0.8614718614718614}\n",
      "tags: {'model_choice': 'random_forest'}\n",
      "run_id: 3475be2f47cd4180aacfd8837d2cf863\n",
      "lifecycle_stage: active\n",
      "metrics: {'auc': 0.8614718614718614}\n",
      "tags: {'model_choice': 'random_forest'}\n",
      "run_id: 99315daec18b456ea1506b46e58ecdf1\n",
      "lifecycle_stage: active\n",
      "metrics: {'auc': 0.8614718614718614}\n",
      "tags: {'model_choice': 'random_forest'}\n",
      "run_id: f3898a3e829946edaa50322a624ffd39\n",
      "lifecycle_stage: active\n",
      "metrics: {'auc': 0.8614718614718614}\n",
      "tags: {'model_choice': 'random_forest'}\n",
      "run_id: 77688c81d8ad41b98923e58ede206df7\n",
      "lifecycle_stage: active\n",
      "metrics: {'auc': 0.8614718614718614}\n",
      "tags: {'model_choice': 'random_forest'}\n",
      "run_id: 2591e8e6fad54a2699738ff3408078d1\n",
      "lifecycle_stage: active\n",
      "metrics: {'auc': 0.860930735930736}\n",
      "tags: {'model_choice': 'random_forest'}\n",
      "run_id: 1ca47ca5a691445e9d467e724c822de5\n",
      "lifecycle_stage: active\n",
      "metrics: {'auc': 0.860930735930736}\n",
      "tags: {'model_choice': 'random_forest'}\n",
      "run_id: 5de3bbbe179b4b09b946e0f44cb3cafb\n",
      "lifecycle_stage: active\n",
      "metrics: {'auc': 0.860930735930736}\n",
      "tags: {'model_choice': 'random_forest'}\n",
      "run_id: 9660017b251c47a18d52930acc518e00\n",
      "lifecycle_stage: active\n",
      "metrics: {'auc': 0.860930735930736}\n",
      "tags: {'model_choice': 'random_forest'}\n",
      "run_id: 57a922d38dec4bf9b2429536d4e094d1\n",
      "lifecycle_stage: active\n",
      "metrics: {'auc': 0.8598484848484849}\n",
      "tags: {'model_choice': 'random_forest'}\n",
      "run_id: dca0e06f686f4a7fb20af92f02a67449\n",
      "lifecycle_stage: active\n",
      "metrics: {'auc': 0.8598484848484849}\n",
      "tags: {'model_choice': 'random_forest'}\n",
      "run_id: a0d6a8f66e0d49759f9cd7174859fc8a\n",
      "lifecycle_stage: active\n",
      "metrics: {'auc': 0.8598484848484849}\n",
      "tags: {'model_choice': 'random_forest'}\n",
      "run_id: d5242630b14b42f2a9a02c16de4ab613\n",
      "lifecycle_stage: active\n",
      "metrics: {'auc': 0.8598484848484849}\n",
      "tags: {'model_choice': 'random_forest'}\n",
      "run_id: 3cc592a845fc421da59e94d8bff68bcc\n",
      "lifecycle_stage: active\n",
      "metrics: {'auc': 0.8598484848484849}\n",
      "tags: {'model_choice': 'random_forest'}\n",
      "run_id: 8513307a7597475e8c406d5dd51df26e\n",
      "lifecycle_stage: active\n",
      "metrics: {'auc': 0.8587662337662338}\n",
      "tags: {'model_choice': 'random_forest'}\n",
      "run_id: b660bdfa9f5a4b88a83fd3c8dd539afa\n",
      "lifecycle_stage: active\n",
      "metrics: {'auc': 0.8576839826839827}\n",
      "tags: {'model_choice': 'random_forest'}\n",
      "run_id: fc491f3020144da1b48f8e3f2cbd0d9a\n",
      "lifecycle_stage: active\n",
      "metrics: {'auc': 0.8576839826839827}\n",
      "tags: {'model_choice': 'random_forest'}\n",
      "run_id: b4bef70c469d4dd6a1f389d2b45b5ea8\n",
      "lifecycle_stage: active\n",
      "metrics: {'auc': 0.8571428571428571}\n",
      "tags: {'model_choice': 'random_forest'}\n",
      "run_id: 720589df502f4ad7a9ea7a984e7b295a\n",
      "lifecycle_stage: active\n",
      "metrics: {'auc': 0.8571428571428571}\n",
      "tags: {'model_choice': 'random_forest'}\n",
      "run_id: 7338e306ec484d2a9d3ee5f735c5616c\n",
      "lifecycle_stage: active\n",
      "metrics: {'auc': 0.8571428571428571}\n",
      "tags: {'model_choice': 'random_forest'}\n",
      "run_id: 34120786a2d0413ba98f24b6073d6948\n",
      "lifecycle_stage: active\n",
      "metrics: {'auc': 0.8571428571428571}\n",
      "tags: {'model_choice': 'random_forest'}\n",
      "run_id: b3613e1808ef4e38abcf690229ab0f7b\n",
      "lifecycle_stage: active\n",
      "metrics: {'auc': 0.8555194805194803}\n",
      "tags: {'model_choice': 'random_forest'}\n",
      "run_id: 5671d634c55d42d6859308e46ae5716f\n",
      "lifecycle_stage: active\n",
      "metrics: {'auc': 0.8555194805194803}\n",
      "tags: {'model_choice': 'random_forest'}\n",
      "run_id: 27bffe2c690d46e882fe23e05df9e286\n",
      "lifecycle_stage: active\n",
      "metrics: {'auc': 0.8555194805194803}\n",
      "tags: {'model_choice': 'random_forest'}\n",
      "run_id: 472e347fd308424082e66b4a1f29faa3\n",
      "lifecycle_stage: active\n",
      "metrics: {'auc': 0.8555194805194803}\n",
      "tags: {'model_choice': 'random_forest'}\n",
      "run_id: d2ec6650f4804ed9be830226628518a2\n",
      "lifecycle_stage: active\n",
      "metrics: {'auc': 0.8555194805194803}\n",
      "tags: {'model_choice': 'random_forest'}\n",
      "run_id: 716585de48174aedb196cc1a27e033a3\n",
      "lifecycle_stage: active\n",
      "metrics: {'auc': 0.8555194805194803}\n",
      "tags: {'model_choice': 'random_forest'}\n",
      "run_id: 325929a1c05540b398b40bf725f4f822\n",
      "lifecycle_stage: active\n",
      "metrics: {'auc': 0.8555194805194803}\n",
      "tags: {'model_choice': 'random_forest'}\n",
      "run_id: 7f8ae0e1dd584a83b78237d3186a21f9\n",
      "lifecycle_stage: active\n",
      "metrics: {'auc': 0.8538961038961039}\n",
      "tags: {'model_choice': 'random_forest'}\n",
      "run_id: 65066bffde864a0791abec858786f1d8\n",
      "lifecycle_stage: active\n",
      "metrics: {'auc': 0.8538961038961039}\n",
      "tags: {'model_choice': 'random_forest'}\n",
      "run_id: d32b20dd9d164b3d8e80ad5cb98fd907\n",
      "lifecycle_stage: active\n",
      "metrics: {'auc': 0.847943722943723}\n",
      "tags: {'model_choice': 'random_forest'}\n",
      "run_id: 7e38b188bfa249c99d13793cf07aa4e4\n",
      "lifecycle_stage: active\n",
      "metrics: {'auc': 0.847943722943723}\n",
      "tags: {'model_choice': 'random_forest'}\n",
      "run_id: 6f24d9b83e684976b6acbed885921b77\n",
      "lifecycle_stage: active\n",
      "metrics: {'auc': 0.847943722943723}\n",
      "tags: {'model_choice': 'random_forest'}\n",
      "run_id: 0d617163c8a74209a6953d05641cec26\n",
      "lifecycle_stage: active\n",
      "metrics: {'auc': 0.8463203463203464}\n",
      "tags: {'model_choice': 'random_forest'}\n",
      "run_id: e12bbf5117ce4477828f84d2b276a7b1\n",
      "lifecycle_stage: active\n",
      "metrics: {'auc': 0.8377551020408163}\n",
      "tags: {'model_choice': 'random_forest'}\n",
      "run_id: d5b1deea29564af2b1682b3d8d1d2061\n",
      "lifecycle_stage: active\n",
      "metrics: {'auc': 0.8357142857142857}\n",
      "tags: {'model_choice': 'random_forest'}\n",
      "run_id: 91c9132249d14f2eadbf26b1d4a8a792\n",
      "lifecycle_stage: active\n",
      "metrics: {'auc': 0.8357142857142857}\n",
      "tags: {'model_choice': 'random_forest'}\n",
      "run_id: f00e4ab5434146e6a1a3ab21c0526846\n",
      "lifecycle_stage: active\n",
      "metrics: {'auc': 0.8357142857142857}\n",
      "tags: {'model_choice': 'random_forest'}\n",
      "run_id: 7a4f106ed77444f58d69705d167410ff\n",
      "lifecycle_stage: active\n",
      "metrics: {'auc': 0.8357142857142857}\n",
      "tags: {'model_choice': 'random_forest'}\n",
      "run_id: 4f86935d58bb43b5930ffebfeb75d7e1\n",
      "lifecycle_stage: active\n",
      "metrics: {'auc': 0.8316326530612246}\n",
      "tags: {'model_choice': 'random_forest'}\n",
      "run_id: aef0ca8aa46a4eceaf3c9db7adac8477\n",
      "lifecycle_stage: active\n",
      "metrics: {'auc': 0.8306122448979593}\n",
      "tags: {'model_choice': 'random_forest'}\n",
      "run_id: 86b537da39f046bd872d2892f70a1a5f\n",
      "lifecycle_stage: active\n",
      "metrics: {'auc': 0.83008658008658}\n",
      "tags: {'model_choice': 'random_forest'}\n",
      "run_id: f96fceac9d464fd88b307f5f04835e51\n",
      "lifecycle_stage: active\n",
      "metrics: {'auc': 0.8102040816326531}\n",
      "tags: {'model_choice': 'random_forest'}\n",
      "run_id: e1593482e19d4860be661bab3b696b23\n",
      "lifecycle_stage: active\n",
      "metrics: {'auc': 0.8073593073593075}\n",
      "tags: {'model_choice': 'random_forest'}\n",
      "run_id: f6686cb01bda4dc4a0c563ac046b231f\n",
      "lifecycle_stage: active\n",
      "metrics: {'auc': 0.8068181818181818}\n",
      "tags: {'model_choice': 'random_forest'}\n",
      "run_id: 8f2ac0e1d1944cba820544fc2df3a926\n",
      "lifecycle_stage: active\n",
      "metrics: {'auc': 0.797077922077922}\n",
      "tags: {'model_choice': 'random_forest'}\n",
      "run_id: bdce885cfc0a4cd5a0be5f00b8eab0e4\n",
      "lifecycle_stage: active\n",
      "metrics: {'auc': 0.797077922077922}\n",
      "tags: {'model_choice': 'random_forest'}\n",
      "run_id: 12c423f1a0914d8c866bc3b69980f8be\n",
      "lifecycle_stage: active\n",
      "metrics: {'auc': 0.797077922077922}\n",
      "tags: {'model_choice': 'random_forest'}\n",
      "run_id: 4d4322e8628042d8889118b4c13613bd\n",
      "lifecycle_stage: active\n",
      "metrics: {'auc': 0.7938311688311688}\n",
      "tags: {'model_choice': 'random_forest'}\n",
      "run_id: 25cfa42678d043ac8c3276f610ea5585\n",
      "lifecycle_stage: active\n",
      "metrics: {'auc': 0.7905844155844156}\n",
      "tags: {'model_choice': 'random_forest'}\n",
      "run_id: d3a9a00c73274996a891aaf9441240a0\n",
      "lifecycle_stage: active\n",
      "metrics: {'auc': 0.7905844155844156}\n",
      "tags: {'model_choice': 'random_forest'}\n",
      "run_id: faf127364c254e20b737cb6c07c94f50\n",
      "lifecycle_stage: active\n",
      "metrics: {'auc': 0.7905844155844156}\n",
      "tags: {'model_choice': 'random_forest'}\n",
      "run_id: d00077e8653940efaae52ae225373ed9\n",
      "lifecycle_stage: active\n",
      "metrics: {'auc': 0.79004329004329}\n",
      "tags: {'model_choice': 'random_forest'}\n",
      "run_id: 3632f58366b44d4fa18eed97e418110f\n",
      "lifecycle_stage: active\n",
      "metrics: {'auc': 0.7867965367965368}\n",
      "tags: {'model_choice': 'random_forest'}\n",
      "run_id: 17a72e2e742e42c5b190bbd5e8100af7\n",
      "lifecycle_stage: active\n",
      "metrics: {'auc': 0.7862554112554113}\n",
      "tags: {'model_choice': 'random_forest'}\n",
      "run_id: dd639b046e904728983b5d65a78dbe1d\n",
      "lifecycle_stage: active\n",
      "metrics: {'auc': 0.7813852813852813}\n",
      "tags: {'model_choice': 'random_forest'}\n",
      "run_id: f7ce8d3ff4454ca8a7f6ef8043b13eeb\n",
      "lifecycle_stage: active\n",
      "metrics: {'auc': 0.7813852813852813}\n",
      "tags: {'model_choice': 'random_forest'}\n",
      "run_id: 67bfb4dbfe4348adb49fd6d423b8cb26\n",
      "lifecycle_stage: active\n",
      "metrics: {'auc': 0.7732683982683983}\n",
      "tags: {'model_choice': 'random_forest'}\n",
      "run_id: 4ed5d02499dd49059279c0ca74f02f26\n",
      "lifecycle_stage: active\n",
      "metrics: {'auc': 0.7732683982683983}\n",
      "tags: {'model_choice': 'random_forest'}\n",
      "run_id: 0cea79f068844da5b6e4b15e760fd04a\n",
      "lifecycle_stage: active\n",
      "metrics: {'auc': 0.7678571428571428}\n",
      "tags: {'model_choice': 'random_forest'}\n",
      "run_id: af2e563d283a490e9195e6c4fb280f6a\n",
      "lifecycle_stage: active\n",
      "metrics: {'auc': 0.7667748917748918}\n",
      "tags: {'model_choice': 'random_forest'}\n",
      "run_id: 291e871fd492423bb33e42491ff4baf7\n",
      "lifecycle_stage: active\n",
      "metrics: {'auc': 0.7635281385281385}\n",
      "tags: {'model_choice': 'random_forest'}\n",
      "run_id: 882e8dad10294c11949bd9f58f60c205\n",
      "lifecycle_stage: active\n",
      "metrics: {'auc': 0.7613636363636364}\n",
      "tags: {'model_choice': 'random_forest'}\n",
      "run_id: b1d82765df0e4d6cb9350bdd8b85d696\n",
      "lifecycle_stage: active\n",
      "metrics: {'auc': 0.7613636363636364}\n",
      "tags: {'model_choice': 'random_forest'}\n",
      "run_id: 480cb7450f7843d1b03a9eae34fdd9d8\n",
      "lifecycle_stage: active\n",
      "metrics: {'auc': 0.7613636363636364}\n",
      "tags: {'model_choice': 'random_forest'}\n",
      "run_id: 4e24f6e89a4f43069b70358e013e69f4\n",
      "lifecycle_stage: active\n",
      "metrics: {'auc': 0.7581168831168832}\n",
      "tags: {'model_choice': 'random_forest'}\n",
      "run_id: 25289637010347218591b7384c5726e2\n",
      "lifecycle_stage: active\n",
      "metrics: {'auc': 0.757034632034632}\n",
      "tags: {'model_choice': 'random_forest'}\n",
      "run_id: 2bd51fb5d69a4c0b9e8381bd136eaae5\n",
      "lifecycle_stage: active\n",
      "metrics: {'auc': 0.7566326530612245}\n",
      "tags: {'model_choice': 'random_forest'}\n",
      "run_id: 29e34b2004e34aa193e7081e56311f8a\n",
      "lifecycle_stage: active\n",
      "metrics: {'auc': 0.7337662337662337}\n",
      "tags: {'model_choice': 'random_forest'}\n",
      "run_id: 9bd28e23adde4ceab01c7142924cf194\n",
      "lifecycle_stage: active\n",
      "metrics: {'auc': 0.7337662337662337}\n",
      "tags: {'model_choice': 'random_forest'}\n",
      "run_id: 340997b4e0c34d7cad7be425f4d6c233\n",
      "lifecycle_stage: active\n",
      "metrics: {'auc': 0.7316017316017316}\n",
      "tags: {'model_choice': 'random_forest'}\n",
      "run_id: 7b653ee0b4f748eab754e637bbb35155\n",
      "lifecycle_stage: active\n",
      "metrics: {'auc': 0.7316017316017316}\n",
      "tags: {'model_choice': 'random_forest'}\n",
      "run_id: cfa6ac614e2b4b05be19e077c1e9175a\n",
      "lifecycle_stage: active\n",
      "metrics: {'auc': 0.7283549783549783}\n",
      "tags: {'model_choice': 'random_forest'}\n",
      "run_id: 0d59df31dc1049fa9184bfdbcd403360\n",
      "lifecycle_stage: active\n",
      "metrics: {'auc': 0.7261904761904762}\n",
      "tags: {'model_choice': 'random_forest'}\n",
      "run_id: 68a198dda7be46c09ad1b4c9aec8c4cb\n",
      "lifecycle_stage: active\n",
      "metrics: {'auc': 0.7261904761904762}\n",
      "tags: {'model_choice': 'random_forest'}\n",
      "run_id: cb9f2b9955ab46a0a2e1e66f202fb001\n",
      "lifecycle_stage: active\n",
      "metrics: {'auc': 0.722943722943723}\n",
      "tags: {'model_choice': 'random_forest'}\n",
      "run_id: 335d0c06e35e41cd98790abd985c4ff1\n",
      "lifecycle_stage: active\n",
      "metrics: {'auc': 0.722943722943723}\n",
      "tags: {'model_choice': 'random_forest'}\n",
      "run_id: 0afe908ed8da4d3d8c22bde713d21900\n",
      "lifecycle_stage: active\n",
      "metrics: {'auc': 0.7224025974025974}\n",
      "tags: {'model_choice': 'random_forest'}\n",
      "run_id: 3081aa1dd3ea4db6b40b482470535ffc\n",
      "lifecycle_stage: active\n",
      "metrics: {'auc': 0.7218614718614718}\n",
      "tags: {'model_choice': 'random_forest'}\n",
      "run_id: b16c15c8201c43eda7cc40944bfa596a\n",
      "lifecycle_stage: active\n",
      "metrics: {'auc': 0.7218614718614718}\n",
      "tags: {'model_choice': 'random_forest'}\n",
      "run_id: 814663ea0caa44fbb3a8ca8533bb0cd2\n",
      "lifecycle_stage: active\n",
      "metrics: {'auc': 0.7207792207792207}\n",
      "tags: {'model_choice': 'random_forest'}\n",
      "run_id: 579beb300eae4240822de4c8dc70185f\n",
      "lifecycle_stage: active\n",
      "metrics: {'auc': 0.7186147186147187}\n",
      "tags: {'model_choice': 'random_forest'}\n",
      "run_id: e7375109356b4c59866b9f20e70616f7\n",
      "lifecycle_stage: active\n",
      "metrics: {'auc': 0.7186147186147187}\n",
      "tags: {'model_choice': 'random_forest'}\n",
      "run_id: f38903c1061b4dfab1c59ec307c51b8c\n",
      "lifecycle_stage: active\n",
      "metrics: {'auc': 0.7148268398268399}\n",
      "tags: {'model_choice': 'random_forest'}\n",
      "run_id: 4358ba0920894dcdbf57d5e6d7486332\n",
      "lifecycle_stage: active\n",
      "metrics: {'auc': 0.7148268398268399}\n",
      "tags: {'model_choice': 'random_forest'}\n",
      "run_id: ebfb0cc662584680a67bb9c47fa7f4f5\n",
      "lifecycle_stage: active\n",
      "metrics: {'auc': 0.7121212121212122}\n",
      "tags: {'model_choice': 'random_forest'}\n",
      "run_id: 7f73d14dfd0e4335859780df66976e56\n",
      "lifecycle_stage: active\n",
      "metrics: {'auc': 0.7121212121212122}\n",
      "tags: {'model_choice': 'random_forest'}\n",
      "run_id: 0fa5aa70d14d4782a6ea4525137c8ba9\n",
      "lifecycle_stage: active\n",
      "metrics: {'auc': 0.7115800865800866}\n",
      "tags: {'model_choice': 'random_forest'}\n",
      "run_id: 0a8ce09955ec4f61afc04b37ed2e86e3\n",
      "lifecycle_stage: active\n",
      "metrics: {'auc': 0.7115800865800866}\n",
      "tags: {'model_choice': 'random_forest'}\n",
      "run_id: df74689a8c05401b9842b3c60272f6a4\n",
      "lifecycle_stage: active\n",
      "metrics: {'auc': 0.7115800865800866}\n",
      "tags: {'model_choice': 'random_forest'}\n",
      "run_id: b5ac2283480c48ffbcdad7ba394dbe9c\n",
      "lifecycle_stage: active\n",
      "metrics: {'auc': 0.7018398268398268}\n",
      "tags: {'model_choice': 'random_forest'}\n",
      "run_id: fc7fbf9bc72e49e3a1486c57c1c85dd2\n",
      "lifecycle_stage: active\n",
      "metrics: {'auc': 0.7018398268398268}\n",
      "tags: {'model_choice': 'random_forest'}\n",
      "run_id: 0b33b62434af4df8a2cc50506bc12744\n",
      "lifecycle_stage: active\n",
      "metrics: {'auc': 0.7018398268398268}\n",
      "tags: {'model_choice': 'random_forest'}\n",
      "run_id: 69f23e0d287b4928bd4df8f1da258e4a\n",
      "lifecycle_stage: active\n",
      "metrics: {'auc': 0.6985930735930737}\n",
      "tags: {'model_choice': 'random_forest'}\n",
      "run_id: dd416e1c44c549599d6ceba2b7ec2d6e\n",
      "lifecycle_stage: active\n",
      "metrics: {'accuracy': 0.825, 'auc': 0.6877705627705627}\n",
      "tags: {}\n",
      "run_id: 749821b124824cf0b846f831fd59b852\n",
      "lifecycle_stage: active\n",
      "metrics: {'accuracy': 0.868421052631579, 'auc': 0.6363636363636365}\n",
      "tags: {}\n",
      "run_id: 4560ca6dfa8044fda47d2ee05377dc25\n",
      "lifecycle_stage: active\n",
      "metrics: {}\n",
      "tags: {}\n",
      "run_id: 3337915fb08348e4a00e570670c4b6e4\n",
      "lifecycle_stage: active\n",
      "metrics: {}\n",
      "tags: {}\n"
     ]
    }
   ],
   "source": [
    "from mlflow import MlflowClient\n",
    "client = MlflowClient()\n",
    "experiment_id=0\n",
    "#runs = client.search_runs(parent_run_id, order_by=[\"metrics.m DESC\"])\n",
    "runs = client.search_runs(str(experiment_id), order_by=[\"metrics.auc DESC\"])\n",
    "print_run_info(runs)"
   ]
  },
  {
   "cell_type": "markdown",
   "id": "af8cb801-66f7-488b-9f21-542a6116f026",
   "metadata": {},
   "source": [
    "We identify the best model and print out its quality oriented characteristics"
   ]
  },
  {
   "cell_type": "code",
   "execution_count": 70,
   "id": "97f76c43-6bb6-4f09-b583-9ffc9d4659e7",
   "metadata": {
    "tags": []
   },
   "outputs": [
    {
     "name": "stderr",
     "output_type": "stream",
     "text": [
      "Registered model 'cmle_propensity_model' already exists. Creating a new version of this model...\n",
      "2023/08/08 21:08:25 INFO mlflow.tracking._model_registry.client: Waiting up to 300 seconds for model version to finish creation. Model name: cmle_propensity_model, version 5\n"
     ]
    },
    {
     "name": "stdout",
     "output_type": "stream",
     "text": [
      "Best global run ID: 2080126a4eee4466957a35172fbe9837\n",
      "Best global AUC: 0.9602040816326531\n"
     ]
    },
    {
     "name": "stderr",
     "output_type": "stream",
     "text": [
      "Created version '5' of model 'cmle_propensity_model'.\n"
     ]
    }
   ],
   "source": [
    "import json\n",
    "best_run_global_auc = runs[0].data.metrics[\"auc\"]\n",
    "best_run_id_global = json.loads(runs[0].data.tags['mlflow.log-model.history'])[0][\"run_id\"]\n",
    "print(f\"Best global run ID: {best_run_id_global}\")\n",
    "print(f\"Best global AUC: {best_run_global_auc}\")\n",
    "\n",
    "top_model_name = model_name\n",
    "top_model_version = mlflow.register_model(f\"runs:/{best_run_id_global}/hyperopt_model\", top_model_name)\n",
    "time.sleep(15)"
   ]
  },
  {
   "cell_type": "code",
   "execution_count": 71,
   "id": "588d50d4-286e-4bf4-b7a9-b6fffe7be516",
   "metadata": {
    "tags": []
   },
   "outputs": [
    {
     "data": {
      "text/plain": [
       "<ModelVersion: aliases=[], creation_timestamp=1691528905092, current_stage='Production', description=None, last_updated_timestamp=1691528920114, name='cmle_propensity_model', run_id='2080126a4eee4466957a35172fbe9837', run_link=None, source='file:///mlruns/0/2080126a4eee4466957a35172fbe9837/artifacts/hyperopt_model', status='READY', status_message=None, tags={}, user_id=None, version=5>"
      ]
     },
     "execution_count": 71,
     "metadata": {},
     "output_type": "execute_result"
    }
   ],
   "source": [
    "from mlflow.tracking import MlflowClient\n",
    " \n",
    "client = MlflowClient()\n",
    "client.transition_model_version_stage(\n",
    "  name=top_model_name,\n",
    "  version=top_model_version.version,\n",
    "  stage=\"Production\",\n",
    ")"
   ]
  },
  {
   "cell_type": "code",
   "execution_count": 72,
   "id": "be5aed80-58e8-4ab8-b6bc-18b666315fbb",
   "metadata": {
    "tags": []
   },
   "outputs": [
    {
     "name": "stdout",
     "output_type": "stream",
     "text": [
      "AUC: 0.9602040816326531\n"
     ]
    }
   ],
   "source": [
    "prod_model = mlflow.pyfunc.load_model(f\"models:/{top_model_name}/production\")\n",
    " \n",
    "# Sanity-check: This should match the AUC logged by MLflow\n",
    "print(f'AUC: {roc_auc_score(y_test, prod_model.predict(X_test))}')"
   ]
  },
  {
   "cell_type": "code",
   "execution_count": 73,
   "id": "6583e4ba-2946-405a-a38b-55477c4c2ec7",
   "metadata": {
    "tags": []
   },
   "outputs": [
    {
     "name": "stdout",
     "output_type": "stream",
     "text": [
      "Requirement already satisfied: matplotlib in /usr/local/lib/python3.8/site-packages (3.7.2)\n",
      "Requirement already satisfied: contourpy>=1.0.1 in /usr/local/lib/python3.8/site-packages (from matplotlib) (1.1.0)\n",
      "Requirement already satisfied: cycler>=0.10 in /usr/local/lib/python3.8/site-packages (from matplotlib) (0.11.0)\n",
      "Requirement already satisfied: fonttools>=4.22.0 in /usr/local/lib/python3.8/site-packages (from matplotlib) (4.42.0)\n",
      "Requirement already satisfied: kiwisolver>=1.0.1 in /usr/local/lib/python3.8/site-packages (from matplotlib) (1.4.4)\n",
      "Requirement already satisfied: numpy>=1.20 in /usr/local/lib/python3.8/site-packages (from matplotlib) (1.24.4)\n",
      "Requirement already satisfied: packaging>=20.0 in /usr/local/lib/python3.8/site-packages (from matplotlib) (21.3)\n",
      "Requirement already satisfied: pillow>=6.2.0 in /usr/local/lib/python3.8/site-packages (from matplotlib) (10.0.0)\n",
      "Requirement already satisfied: pyparsing<3.1,>=2.3.1 in /usr/local/lib/python3.8/site-packages (from matplotlib) (3.0.9)\n",
      "Requirement already satisfied: python-dateutil>=2.7 in /usr/local/lib/python3.8/site-packages (from matplotlib) (2.8.2)\n",
      "Requirement already satisfied: importlib-resources>=3.2.0 in /usr/local/lib/python3.8/site-packages (from matplotlib) (6.0.1)\n",
      "Requirement already satisfied: zipp>=3.1.0 in /usr/local/lib/python3.8/site-packages (from importlib-resources>=3.2.0->matplotlib) (3.16.2)\n",
      "Requirement already satisfied: six>=1.5 in /usr/local/lib/python3.8/site-packages (from python-dateutil>=2.7->matplotlib) (1.16.0)\n",
      "\u001b[33mWARNING: Running pip as the 'root' user can result in broken permissions and conflicting behaviour with the system package manager. It is recommended to use a virtual environment instead: https://pip.pypa.io/warnings/venv\u001b[0m\u001b[33m\n",
      "\u001b[0m"
     ]
    }
   ],
   "source": [
    "!pip install matplotlib"
   ]
  },
  {
   "cell_type": "code",
   "execution_count": 74,
   "id": "335debd9-359c-4d91-b21b-4594049bd9ba",
   "metadata": {
    "tags": []
   },
   "outputs": [
    {
     "data": {
      "text/plain": [
       "<sklearn.metrics._plot.confusion_matrix.ConfusionMatrixDisplay at 0x7f9657eb4a30>"
      ]
     },
     "execution_count": 74,
     "metadata": {},
     "output_type": "execute_result"
    },
    {
     "data": {
      "image/png": "[encoded data removed]",
      "text/plain": [
       "<Figure size 640x480 with 2 Axes>"
      ]
     },
     "metadata": {},
     "output_type": "display_data"
    }
   ],
   "source": [
    "from sklearn.metrics import ConfusionMatrixDisplay, confusion_matrix\n",
    "\n",
    "predicted_probas = prod_model.predict(X)\n",
    "predicted_probas[predicted_probas > 0.5] = 1\n",
    "predicted_probas[predicted_probas <= 0.5] = 0\n",
    "matrix = confusion_matrix(predicted_probas, y)\n",
    "fig = ConfusionMatrixDisplay(matrix, display_labels=[\"notSubscribed\", \"subscribed\"])\n",
    "fig.plot()"
   ]
  }
 ],
 "metadata": {
  "availableInstances": [
   {
    "_defaultOrder": 0,
    "_isFastLaunch": true,
    "category": "General purpose",
    "gpuNum": 0,
    "hideHardwareSpecs": false,
    "memoryGiB": 4,
    "name": "ml.t3.medium",
    "vcpuNum": 2
   },
   {
    "_defaultOrder": 1,
    "_isFastLaunch": false,
    "category": "General purpose",
    "gpuNum": 0,
    "hideHardwareSpecs": false,
    "memoryGiB": 8,
    "name": "ml.t3.large",
    "vcpuNum": 2
   },
   {
    "_defaultOrder": 2,
    "_isFastLaunch": false,
    "category": "General purpose",
    "gpuNum": 0,
    "hideHardwareSpecs": false,
    "memoryGiB": 16,
    "name": "ml.t3.xlarge",
    "vcpuNum": 4
   },
   {
    "_defaultOrder": 3,
    "_isFastLaunch": false,
    "category": "General purpose",
    "gpuNum": 0,
    "hideHardwareSpecs": false,
    "memoryGiB": 32,
    "name": "ml.t3.2xlarge",
    "vcpuNum": 8
   },
   {
    "_defaultOrder": 4,
    "_isFastLaunch": true,
    "category": "General purpose",
    "gpuNum": 0,
    "hideHardwareSpecs": false,
    "memoryGiB": 8,
    "name": "ml.m5.large",
    "vcpuNum": 2
   },
   {
    "_defaultOrder": 5,
    "_isFastLaunch": false,
    "category": "General purpose",
    "gpuNum": 0,
    "hideHardwareSpecs": false,
    "memoryGiB": 16,
    "name": "ml.m5.xlarge",
    "vcpuNum": 4
   },
   {
    "_defaultOrder": 6,
    "_isFastLaunch": false,
    "category": "General purpose",
    "gpuNum": 0,
    "hideHardwareSpecs": false,
    "memoryGiB": 32,
    "name": "ml.m5.2xlarge",
    "vcpuNum": 8
   },
   {
    "_defaultOrder": 7,
    "_isFastLaunch": false,
    "category": "General purpose",
    "gpuNum": 0,
    "hideHardwareSpecs": false,
    "memoryGiB": 64,
    "name": "ml.m5.4xlarge",
    "vcpuNum": 16
   },
   {
    "_defaultOrder": 8,
    "_isFastLaunch": false,
    "category": "General purpose",
    "gpuNum": 0,
    "hideHardwareSpecs": false,
    "memoryGiB": 128,
    "name": "ml.m5.8xlarge",
    "vcpuNum": 32
   },
   {
    "_defaultOrder": 9,
    "_isFastLaunch": false,
    "category": "General purpose",
    "gpuNum": 0,
    "hideHardwareSpecs": false,
    "memoryGiB": 192,
    "name": "ml.m5.12xlarge",
    "vcpuNum": 48
   },
   {
    "_defaultOrder": 10,
    "_isFastLaunch": false,
    "category": "General purpose",
    "gpuNum": 0,
    "hideHardwareSpecs": false,
    "memoryGiB": 256,
    "name": "ml.m5.16xlarge",
    "vcpuNum": 64
   },
   {
    "_defaultOrder": 11,
    "_isFastLaunch": false,
    "category": "General purpose",
    "gpuNum": 0,
    "hideHardwareSpecs": false,
    "memoryGiB": 384,
    "name": "ml.m5.24xlarge",
    "vcpuNum": 96
   },
   {
    "_defaultOrder": 12,
    "_isFastLaunch": false,
    "category": "General purpose",
    "gpuNum": 0,
    "hideHardwareSpecs": false,
    "memoryGiB": 8,
    "name": "ml.m5d.large",
    "vcpuNum": 2
   },
   {
    "_defaultOrder": 13,
    "_isFastLaunch": false,
    "category": "General purpose",
    "gpuNum": 0,
    "hideHardwareSpecs": false,
    "memoryGiB": 16,
    "name": "ml.m5d.xlarge",
    "vcpuNum": 4
   },
   {
    "_defaultOrder": 14,
    "_isFastLaunch": false,
    "category": "General purpose",
    "gpuNum": 0,
    "hideHardwareSpecs": false,
    "memoryGiB": 32,
    "name": "ml.m5d.2xlarge",
    "vcpuNum": 8
   },
   {
    "_defaultOrder": 15,
    "_isFastLaunch": false,
    "category": "General purpose",
    "gpuNum": 0,
    "hideHardwareSpecs": false,
    "memoryGiB": 64,
    "name": "ml.m5d.4xlarge",
    "vcpuNum": 16
   },
   {
    "_defaultOrder": 16,
    "_isFastLaunch": false,
    "category": "General purpose",
    "gpuNum": 0,
    "hideHardwareSpecs": false,
    "memoryGiB": 128,
    "name": "ml.m5d.8xlarge",
    "vcpuNum": 32
   },
   {
    "_defaultOrder": 17,
    "_isFastLaunch": false,
    "category": "General purpose",
    "gpuNum": 0,
    "hideHardwareSpecs": false,
    "memoryGiB": 192,
    "name": "ml.m5d.12xlarge",
    "vcpuNum": 48
   },
   {
    "_defaultOrder": 18,
    "_isFastLaunch": false,
    "category": "General purpose",
    "gpuNum": 0,
    "hideHardwareSpecs": false,
    "memoryGiB": 256,
    "name": "ml.m5d.16xlarge",
    "vcpuNum": 64
   },
   {
    "_defaultOrder": 19,
    "_isFastLaunch": false,
    "category": "General purpose",
    "gpuNum": 0,
    "hideHardwareSpecs": false,
    "memoryGiB": 384,
    "name": "ml.m5d.24xlarge",
    "vcpuNum": 96
   },
   {
    "_defaultOrder": 20,
    "_isFastLaunch": false,
    "category": "General purpose",
    "gpuNum": 0,
    "hideHardwareSpecs": true,
    "memoryGiB": 0,
    "name": "ml.geospatial.interactive",
    "supportedImageNames": [
     "sagemaker-geospatial-v1-0"
    ],
    "vcpuNum": 0
   },
   {
    "_defaultOrder": 21,
    "_isFastLaunch": true,
    "category": "Compute optimized",
    "gpuNum": 0,
    "hideHardwareSpecs": false,
    "memoryGiB": 4,
    "name": "ml.c5.large",
    "vcpuNum": 2
   },
   {
    "_defaultOrder": 22,
    "_isFastLaunch": false,
    "category": "Compute optimized",
    "gpuNum": 0,
    "hideHardwareSpecs": false,
    "memoryGiB": 8,
    "name": "ml.c5.xlarge",
    "vcpuNum": 4
   },
   {
    "_defaultOrder": 23,
    "_isFastLaunch": false,
    "category": "Compute optimized",
    "gpuNum": 0,
    "hideHardwareSpecs": false,
    "memoryGiB": 16,
    "name": "ml.c5.2xlarge",
    "vcpuNum": 8
   },
   {
    "_defaultOrder": 24,
    "_isFastLaunch": false,
    "category": "Compute optimized",
    "gpuNum": 0,
    "hideHardwareSpecs": false,
    "memoryGiB": 32,
    "name": "ml.c5.4xlarge",
    "vcpuNum": 16
   },
   {
    "_defaultOrder": 25,
    "_isFastLaunch": false,
    "category": "Compute optimized",
    "gpuNum": 0,
    "hideHardwareSpecs": false,
    "memoryGiB": 72,
    "name": "ml.c5.9xlarge",
    "vcpuNum": 36
   },
   {
    "_defaultOrder": 26,
    "_isFastLaunch": false,
    "category": "Compute optimized",
    "gpuNum": 0,
    "hideHardwareSpecs": false,
    "memoryGiB": 96,
    "name": "ml.c5.12xlarge",
    "vcpuNum": 48
   },
   {
    "_defaultOrder": 27,
    "_isFastLaunch": false,
    "category": "Compute optimized",
    "gpuNum": 0,
    "hideHardwareSpecs": false,
    "memoryGiB": 144,
    "name": "ml.c5.18xlarge",
    "vcpuNum": 72
   },
   {
    "_defaultOrder": 28,
    "_isFastLaunch": false,
    "category": "Compute optimized",
    "gpuNum": 0,
    "hideHardwareSpecs": false,
    "memoryGiB": 192,
    "name": "ml.c5.24xlarge",
    "vcpuNum": 96
   },
   {
    "_defaultOrder": 29,
    "_isFastLaunch": true,
    "category": "Accelerated computing",
    "gpuNum": 1,
    "hideHardwareSpecs": false,
    "memoryGiB": 16,
    "name": "ml.g4dn.xlarge",
    "vcpuNum": 4
   },
   {
    "_defaultOrder": 30,
    "_isFastLaunch": false,
    "category": "Accelerated computing",
    "gpuNum": 1,
    "hideHardwareSpecs": false,
    "memoryGiB": 32,
    "name": "ml.g4dn.2xlarge",
    "vcpuNum": 8
   },
   {
    "_defaultOrder": 31,
    "_isFastLaunch": false,
    "category": "Accelerated computing",
    "gpuNum": 1,
    "hideHardwareSpecs": false,
    "memoryGiB": 64,
    "name": "ml.g4dn.4xlarge",
    "vcpuNum": 16
   },
   {
    "_defaultOrder": 32,
    "_isFastLaunch": false,
    "category": "Accelerated computing",
    "gpuNum": 1,
    "hideHardwareSpecs": false,
    "memoryGiB": 128,
    "name": "ml.g4dn.8xlarge",
    "vcpuNum": 32
   },
   {
    "_defaultOrder": 33,
    "_isFastLaunch": false,
    "category": "Accelerated computing",
    "gpuNum": 4,
    "hideHardwareSpecs": false,
    "memoryGiB": 192,
    "name": "ml.g4dn.12xlarge",
    "vcpuNum": 48
   },
   {
    "_defaultOrder": 34,
    "_isFastLaunch": false,
    "category": "Accelerated computing",
    "gpuNum": 1,
    "hideHardwareSpecs": false,
    "memoryGiB": 256,
    "name": "ml.g4dn.16xlarge",
    "vcpuNum": 64
   },
   {
    "_defaultOrder": 35,
    "_isFastLaunch": false,
    "category": "Accelerated computing",
    "gpuNum": 1,
    "hideHardwareSpecs": false,
    "memoryGiB": 61,
    "name": "ml.p3.2xlarge",
    "vcpuNum": 8
   },
   {
    "_defaultOrder": 36,
    "_isFastLaunch": false,
    "category": "Accelerated computing",
    "gpuNum": 4,
    "hideHardwareSpecs": false,
    "memoryGiB": 244,
    "name": "ml.p3.8xlarge",
    "vcpuNum": 32
   },
   {
    "_defaultOrder": 37,
    "_isFastLaunch": false,
    "category": "Accelerated computing",
    "gpuNum": 8,
    "hideHardwareSpecs": false,
    "memoryGiB": 488,
    "name": "ml.p3.16xlarge",
    "vcpuNum": 64
   },
   {
    "_defaultOrder": 38,
    "_isFastLaunch": false,
    "category": "Accelerated computing",
    "gpuNum": 8,
    "hideHardwareSpecs": false,
    "memoryGiB": 768,
    "name": "ml.p3dn.24xlarge",
    "vcpuNum": 96
   },
   {
    "_defaultOrder": 39,
    "_isFastLaunch": false,
    "category": "Memory Optimized",
    "gpuNum": 0,
    "hideHardwareSpecs": false,
    "memoryGiB": 16,
    "name": "ml.r5.large",
    "vcpuNum": 2
   },
   {
    "_defaultOrder": 40,
    "_isFastLaunch": false,
    "category": "Memory Optimized",
    "gpuNum": 0,
    "hideHardwareSpecs": false,
    "memoryGiB": 32,
    "name": "ml.r5.xlarge",
    "vcpuNum": 4
   },
   {
    "_defaultOrder": 41,
    "_isFastLaunch": false,
    "category": "Memory Optimized",
    "gpuNum": 0,
    "hideHardwareSpecs": false,
    "memoryGiB": 64,
    "name": "ml.r5.2xlarge",
    "vcpuNum": 8
   },
   {
    "_defaultOrder": 42,
    "_isFastLaunch": false,
    "category": "Memory Optimized",
    "gpuNum": 0,
    "hideHardwareSpecs": false,
    "memoryGiB": 128,
    "name": "ml.r5.4xlarge",
    "vcpuNum": 16
   },
   {
    "_defaultOrder": 43,
    "_isFastLaunch": false,
    "category": "Memory Optimized",
    "gpuNum": 0,
    "hideHardwareSpecs": false,
    "memoryGiB": 256,
    "name": "ml.r5.8xlarge",
    "vcpuNum": 32
   },
   {
    "_defaultOrder": 44,
    "_isFastLaunch": false,
    "category": "Memory Optimized",
    "gpuNum": 0,
    "hideHardwareSpecs": false,
    "memoryGiB": 384,
    "name": "ml.r5.12xlarge",
    "vcpuNum": 48
   },
   {
    "_defaultOrder": 45,
    "_isFastLaunch": false,
    "category": "Memory Optimized",
    "gpuNum": 0,
    "hideHardwareSpecs": false,
    "memoryGiB": 512,
    "name": "ml.r5.16xlarge",
    "vcpuNum": 64
   },
   {
    "_defaultOrder": 46,
    "_isFastLaunch": false,
    "category": "Memory Optimized",
    "gpuNum": 0,
    "hideHardwareSpecs": false,
    "memoryGiB": 768,
    "name": "ml.r5.24xlarge",
    "vcpuNum": 96
   },
   {
    "_defaultOrder": 47,
    "_isFastLaunch": false,
    "category": "Accelerated computing",
    "gpuNum": 1,
    "hideHardwareSpecs": false,
    "memoryGiB": 16,
    "name": "ml.g5.xlarge",
    "vcpuNum": 4
   },
   {
    "_defaultOrder": 48,
    "_isFastLaunch": false,
    "category": "Accelerated computing",
    "gpuNum": 1,
    "hideHardwareSpecs": false,
    "memoryGiB": 32,
    "name": "ml.g5.2xlarge",
    "vcpuNum": 8
   },
   {
    "_defaultOrder": 49,
    "_isFastLaunch": false,
    "category": "Accelerated computing",
    "gpuNum": 1,
    "hideHardwareSpecs": false,
    "memoryGiB": 64,
    "name": "ml.g5.4xlarge",
    "vcpuNum": 16
   },
   {
    "_defaultOrder": 50,
    "_isFastLaunch": false,
    "category": "Accelerated computing",
    "gpuNum": 1,
    "hideHardwareSpecs": false,
    "memoryGiB": 128,
    "name": "ml.g5.8xlarge",
    "vcpuNum": 32
   },
   {
    "_defaultOrder": 51,
    "_isFastLaunch": false,
    "category": "Accelerated computing",
    "gpuNum": 1,
    "hideHardwareSpecs": false,
    "memoryGiB": 256,
    "name": "ml.g5.16xlarge",
    "vcpuNum": 64
   },
   {
    "_defaultOrder": 52,
    "_isFastLaunch": false,
    "category": "Accelerated computing",
    "gpuNum": 4,
    "hideHardwareSpecs": false,
    "memoryGiB": 192,
    "name": "ml.g5.12xlarge",
    "vcpuNum": 48
   },
   {
    "_defaultOrder": 53,
    "_isFastLaunch": false,
    "category": "Accelerated computing",
    "gpuNum": 4,
    "hideHardwareSpecs": false,
    "memoryGiB": 384,
    "name": "ml.g5.24xlarge",
    "vcpuNum": 96
   },
   {
    "_defaultOrder": 54,
    "_isFastLaunch": false,
    "category": "Accelerated computing",
    "gpuNum": 8,
    "hideHardwareSpecs": false,
    "memoryGiB": 768,
    "name": "ml.g5.48xlarge",
    "vcpuNum": 192
   },
   {
    "_defaultOrder": 55,
    "_isFastLaunch": false,
    "category": "Accelerated computing",
    "gpuNum": 8,
    "hideHardwareSpecs": false,
    "memoryGiB": 1152,
    "name": "ml.p4d.24xlarge",
    "vcpuNum": 96
   },
   {
    "_defaultOrder": 56,
    "_isFastLaunch": false,
    "category": "Accelerated computing",
    "gpuNum": 8,
    "hideHardwareSpecs": false,
    "memoryGiB": 1152,
    "name": "ml.p4de.24xlarge",
    "vcpuNum": 96
   }
  ],
  "instance_type": "ml.c5.large",
  "kernelspec": {
   "display_name": "Python 3 (ipykernel)",
   "language": "python",
   "name": "python3"
  },
  "language_info": {
   "codemirror_mode": {
    "name": "ipython",
    "version": 3
   },
   "file_extension": ".py",
   "mimetype": "text/x-python",
   "name": "python",
   "nbconvert_exporter": "python",
   "pygments_lexer": "ipython3",
   "version": "3.11.4"
  }
 },
 "nbformat": 4,
 "nbformat_minor": 5
}
