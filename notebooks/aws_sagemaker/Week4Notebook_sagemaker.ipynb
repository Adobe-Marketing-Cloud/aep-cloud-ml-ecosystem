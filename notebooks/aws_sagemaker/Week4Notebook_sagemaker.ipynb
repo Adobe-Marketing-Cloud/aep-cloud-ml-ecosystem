{
 "cells": [
  {
   "cell_type": "markdown",
   "metadata": {
    "application/vnd.databricks.v1+cell": {
     "cellMetadata": {},
     "inputWidgets": {},
     "nuid": "d54e336e-4354-4b7c-8d05-0492855b81ba",
     "showTitle": false,
     "title": ""
    }
   },
   "source": [
    "# Scope of Notebook"
   ]
  },
  {
   "cell_type": "markdown",
   "metadata": {
    "application/vnd.databricks.v1+cell": {
     "cellMetadata": {},
     "inputWidgets": {},
     "nuid": "ccc2775f-ba77-49e0-9ced-ff4bcbf3efdf",
     "showTitle": false,
     "title": ""
    }
   },
   "source": [
    "The goal of this notebook is to showcase how you can use, in your own environment, a pre-trained model along with some profile data extracted from the Adobe Experience Platform to generate propensity scores and ingest those back to enrich the Unified Profile.\n",
    "\n",
    "![Workflow](../media/CMLE-SageMaker-Notebooks-Week4-Workflow.png)\n",
    "\n",
    "We'll go through several steps:\n",
    "- **Reading the featurized data** from the Amazon S3 bucket\n",
    "- Generating the **scores**\n",
    "- Creating a **target dataset**\n",
    "- Creating a **dataflow** to deliver data in the right format to that dataset."
   ]
  },
  {
   "cell_type": "markdown",
   "metadata": {
    "application/vnd.databricks.v1+cell": {
     "cellMetadata": {},
     "inputWidgets": {},
     "nuid": "83c69965-e562-493c-b90c-df08b1ad0008",
     "showTitle": false,
     "title": ""
    }
   },
   "source": [
    "# Setup"
   ]
  },
  {
   "cell_type": "markdown",
   "metadata": {
    "application/vnd.databricks.v1+cell": {
     "cellMetadata": {},
     "inputWidgets": {},
     "nuid": "ac6b4958-397f-4aad-9d81-afb1d45ea0b2",
     "showTitle": false,
     "title": ""
    }
   },
   "source": [
    "This notebook requires some configuration data to properly authenticate to your Adobe Experience Platform instance. You should be able to find all the values required above by following the Setup section of the **README**.\n",
    "\n",
    "The next cell will be looking for your configuration file under your **ADOBE_HOME** path to fetch the values used throughout this notebook. See more details in the Setup section of the **README** to understand how to create your configuration file."
   ]
  },
  {
   "cell_type": "code",
   "execution_count": 2,
   "metadata": {
    "tags": []
   },
   "outputs": [
    {
     "name": "stdout",
     "output_type": "stream",
     "text": [
      "Hit:1 http://deb.debian.org/debian bullseye InRelease\n",
      "Get:2 http://deb.debian.org/debian bullseye-updates InRelease [44.1 kB]\n",
      "Get:3 http://security.debian.org/debian-security bullseye-security InRelease [48.4 kB]\n",
      "Fetched 92.4 kB in 0s (369 kB/s)3m\u001b[33m\n",
      "Reading package lists... Done\n",
      "Building dependency tree... Done\n",
      "Reading state information... Done\n",
      "34 packages can be upgraded. Run 'apt list --upgradable' to see them.\n",
      "Reading package lists... Done\n",
      "Building dependency tree... Done\n",
      "Reading state information... Done\n",
      "software-properties-common is already the newest version (0.96.20.2-2.1).\n",
      "0 upgraded, 0 newly installed, 0 to remove and 34 not upgraded.\n",
      "Reading package lists... Done\n",
      "Building dependency tree... Done\n",
      "Reading state information... Done\n",
      "default-jdk is already the newest version (2:1.11-72).\n",
      "0 upgraded, 0 newly installed, 0 to remove and 34 not upgraded.\n"
     ]
    }
   ],
   "source": [
    "!apt update -y\n",
    "!apt install software-properties-common -y\n",
    "!apt install default-jdk -y"
   ]
  },
  {
   "cell_type": "code",
   "execution_count": 2,
   "metadata": {
    "tags": []
   },
   "outputs": [
    {
     "name": "stdout",
     "output_type": "stream",
     "text": [
      "openjdk version \"11.0.20\" 2023-07-18\n",
      "OpenJDK Runtime Environment (build 11.0.20+8-post-Debian-1deb11u1)\n",
      "OpenJDK 64-Bit Server VM (build 11.0.20+8-post-Debian-1deb11u1, mixed mode, sharing)\n"
     ]
    }
   ],
   "source": [
    "!java -version"
   ]
  },
  {
   "cell_type": "code",
   "execution_count": 3,
   "metadata": {
    "scrolled": true,
    "tags": []
   },
   "outputs": [
    {
     "name": "stdout",
     "output_type": "stream",
     "text": [
      "['/opt/conda/lib/python3.10/site-packages/sagemaker_pyspark/jars/aws-java-sdk-bundle-1.11.901.jar', '/opt/conda/lib/python3.10/site-packages/sagemaker_pyspark/jars/aws-java-sdk-core-1.12.262.jar', '/opt/conda/lib/python3.10/site-packages/sagemaker_pyspark/jars/aws-java-sdk-kms-1.12.262.jar', '/opt/conda/lib/python3.10/site-packages/sagemaker_pyspark/jars/aws-java-sdk-s3-1.12.262.jar', '/opt/conda/lib/python3.10/site-packages/sagemaker_pyspark/jars/aws-java-sdk-sagemaker-1.12.262.jar', '/opt/conda/lib/python3.10/site-packages/sagemaker_pyspark/jars/aws-java-sdk-sagemakerruntime-1.12.262.jar', '/opt/conda/lib/python3.10/site-packages/sagemaker_pyspark/jars/aws-java-sdk-sts-1.12.262.jar', '/opt/conda/lib/python3.10/site-packages/sagemaker_pyspark/jars/hadoop-aws-3.3.1.jar', '/opt/conda/lib/python3.10/site-packages/sagemaker_pyspark/jars/sagemaker-spark_2.12-spark_3.3.0-1.4.5.jar']\n",
      "23/09/28 05:53:22 WARN NativeCodeLoader: Unable to load native-hadoop library for your platform... using builtin-java classes where applicable\n"
     ]
    },
    {
     "name": "stderr",
     "output_type": "stream",
     "text": [
      "Setting default log level to \"WARN\".\n",
      "To adjust logging level use sc.setLogLevel(newLevel). For SparkR, use setLogLevel(newLevel).\n"
     ]
    },
    {
     "name": "stdout",
     "output_type": "stream",
     "text": [
      "23/09/28 05:53:23 WARN Utils: Service 'SparkUI' could not bind on port 4040. Attempting port 4041.\n",
      "3.3.0\n"
     ]
    }
   ],
   "source": [
    "from pyspark import SparkConf\n",
    "from pyspark.sql import SparkSession\n",
    "import sagemaker_pyspark\n",
    "\n",
    "conf = (SparkConf()\n",
    "        .set(\"spark.driver.extraClassPath\", \":\".join(sagemaker_pyspark.classpath_jars())))\n",
    "\n",
    "print(str(sagemaker_pyspark.classpath_jars()))\n",
    "\n",
    "spark = (\n",
    "    SparkSession\n",
    "    .builder\n",
    "    .config(conf=conf) \\\n",
    "    .config(\"spark.jars\", \"../../jars/hadoop-aws-3.3.6.jar,../../jars/hadoop-common-3.3.6.jar\")\n",
    "    .appName(\"schema_test\")\n",
    "    .getOrCreate()\n",
    ")\n",
    "print(spark.version)"
   ]
  },
  {
   "cell_type": "raw",
   "metadata": {},
   "source": [
    "Please make sure the below fields in config.ini have been set up properly as below for executing Week4 Notebook"
   ]
  },
  {
   "cell_type": "markdown",
   "metadata": {},
   "source": [
    "![config_file_week4](images/config_file_week4.png)"
   ]
  },
  {
   "cell_type": "code",
   "execution_count": 4,
   "metadata": {
    "application/vnd.databricks.v1+cell": {
     "cellMetadata": {
      "byteLimit": 2048000,
      "rowLimit": 10000
     },
     "inputWidgets": {},
     "nuid": "978eccff-5e2b-4dd3-9bc7-844e055d80b3",
     "showTitle": false,
     "title": ""
    }
   },
   "outputs": [],
   "source": [
    "import os\n",
    "from configparser import ConfigParser\n",
    "\n",
    "os.environ['ADOBE_HOME'] = \"../../\"\n",
    "if \"ADOBE_HOME\" not in os.environ:\n",
    "    raise Exception(\"ADOBE_HOME environment variable needs to be set.\")\n",
    "\n",
    "config = ConfigParser()\n",
    "config_path = os.path.join(os.environ[\"ADOBE_HOME\"], \"conf\", \"config.ini\")\n",
    "\n",
    "if not os.path.exists(config_path):\n",
    "    raise Exception(f\"Looking for configuration under {config_path} but config not found, please verify path\")\n",
    "\n",
    "config.read(config_path)\n",
    "\n",
    "ims_org_id = config.get(\"Platform\", \"ims_org_id\")\n",
    "sandbox_name = config.get(\"Platform\", \"sandbox_name\")\n",
    "environment = config.get(\"Platform\", \"environment\")\n",
    "client_id = config.get(\"Authentication\", \"client_id\")\n",
    "client_secret = config.get(\"Authentication\", \"client_secret\")\n",
    "scopes = config.get(\"Authentication\", \"scopes\")\n",
    "tech_account_id = config.get(\"Authentication\", \"tech_acct_id\")\n",
    "dataset_id = config.get(\"Platform\", \"dataset_id\")\n",
    "featurized_dataset_id = config.get(\"Platform\", \"featurized_dataset_id\")\n",
    "export_path = config.get(\"Cloud\", \"export_path\")\n",
    "import_path = config.get(\"Cloud\", \"import_path\")\n",
    "data_format = config.get(\"Cloud\", \"data_format\")\n",
    "compression_type = config.get(\"Cloud\", \"compression_type\")\n",
    "model_name = config.get(\"Cloud\", \"model_name\")\n",
    "s3_bucket_name = config.get(\"AWS\",\"s3_bucket_name\")\n",
    "s3_prefix = config.get(\"AWS\",\"s3_prefix\")\n",
    "cfn_stack_id = config.get(\"AWS\", \"cfn_stack_id\")\n",
    "\n",
    "if not s3_bucket_name or not s3_prefix or not cfn_stack_id:\n",
    "    raise Exception(\"Please make sure the above fields s3_bucket_name, s3_prefix, cfn_stack_id are all populated with valid values in config.ini under the AWS section\")\n"
   ]
  },
  {
   "cell_type": "markdown",
   "metadata": {
    "application/vnd.databricks.v1+cell": {
     "cellMetadata": {},
     "inputWidgets": {},
     "nuid": "180a214a-3a8a-4e87-94e6-c459112c88ef",
     "showTitle": false,
     "title": ""
    }
   },
   "source": [
    "Some utility functions that will be used throughout this notebook:"
   ]
  },
  {
   "cell_type": "code",
   "execution_count": 5,
   "metadata": {
    "application/vnd.databricks.v1+cell": {
     "cellMetadata": {
      "byteLimit": 2048000,
      "rowLimit": 10000
     },
     "inputWidgets": {},
     "nuid": "54c6b121-d3aa-461e-9445-72b7e07efb0c",
     "showTitle": false,
     "title": ""
    }
   },
   "outputs": [],
   "source": [
    "def get_ui_link(tenant_id, resource_type, resource_id):\n",
    "    if environment == \"prod\":\n",
    "        prefix = f\"https://experience.adobe.com\"\n",
    "    else:\n",
    "        prefix = f\"https://experience-{environment}.adobe.com\"\n",
    "    return f\"{prefix}/#/@{tenant_id}/sname:{sandbox_name}/platform/{resource_type}/{resource_id}\""
   ]
  },
  {
   "cell_type": "code",
   "execution_count": 6,
   "metadata": {
    "application/vnd.databricks.v1+cell": {
     "cellMetadata": {
      "byteLimit": 2048000,
      "rowLimit": 10000
     },
     "inputWidgets": {},
     "nuid": "df081db7-0179-422b-8cdf-41278a8ba8bb",
     "showTitle": false,
     "title": ""
    }
   },
   "outputs": [
    {
     "name": "stdout",
     "output_type": "stream",
     "text": [
      "Username: amuiaws\n",
      "Unique ID: amuiaws\n"
     ]
    }
   ],
   "source": [
    "import json\n",
    "import re\n",
    "NOTEBOOK_METADATA_FILE=\"/opt/ml/metadata/resource-metadata.json\"\n",
    "if os.path.exists(NOTEBOOK_METADATA_FILE):\n",
    "    with open(NOTEBOOK_METADATA_FILE,\"rb\") as f:\n",
    "        username = json.loads(f.read())['UserProfileName']\n",
    "username = re.sub(\"[^0-9a-zA-Z]+\", \"_\", username)\n",
    "print(f\"Username: {username}\")"
   ]
  },
  {
   "cell_type": "markdown",
   "metadata": {
    "application/vnd.databricks.v1+cell": {
     "cellMetadata": {},
     "inputWidgets": {},
     "nuid": "8cf3303b-e086-4638-9aa2-7d62bdca24bd",
     "showTitle": false,
     "title": ""
    }
   },
   "source": [
    "Before we run anything, make sure to install the following required libraries for this notebook. They are all publicly available libraries and the latest version should work fine."
   ]
  },
  {
   "cell_type": "code",
   "execution_count": 7,
   "metadata": {
    "application/vnd.databricks.v1+cell": {
     "cellMetadata": {
      "byteLimit": 2048000,
      "rowLimit": 10000
     },
     "inputWidgets": {},
     "nuid": "44dd3429-850b-4679-82e3-dfea9688993b",
     "showTitle": false,
     "title": ""
    }
   },
   "outputs": [
    {
     "name": "stdout",
     "output_type": "stream",
     "text": [
      "Requirement already satisfied: mlflow in /opt/conda/lib/python3.10/site-packages (2.7.1)\n",
      "Requirement already satisfied: click<9,>=7.0 in /opt/conda/lib/python3.10/site-packages (from mlflow) (8.1.7)\n",
      "Requirement already satisfied: cloudpickle<3 in /opt/conda/lib/python3.10/site-packages (from mlflow) (2.2.1)\n",
      "Requirement already satisfied: databricks-cli<1,>=0.8.7 in /opt/conda/lib/python3.10/site-packages (from mlflow) (0.17.8)\n",
      "Requirement already satisfied: entrypoints<1 in /opt/conda/lib/python3.10/site-packages (from mlflow) (0.4)\n",
      "Requirement already satisfied: gitpython<4,>=2.1.0 in /opt/conda/lib/python3.10/site-packages (from mlflow) (3.1.37)\n",
      "Requirement already satisfied: pyyaml<7,>=5.1 in /opt/conda/lib/python3.10/site-packages/PyYAML-6.0-py3.10-linux-x86_64.egg (from mlflow) (6.0)\n",
      "Requirement already satisfied: protobuf<5,>=3.12.0 in /opt/conda/lib/python3.10/site-packages (from mlflow) (4.24.2)\n",
      "Requirement already satisfied: pytz<2024 in /opt/conda/lib/python3.10/site-packages (from mlflow) (2022.1)\n",
      "Requirement already satisfied: requests<3,>=2.17.3 in /opt/conda/lib/python3.10/site-packages (from mlflow) (2.31.0)\n",
      "Requirement already satisfied: packaging<24 in /opt/conda/lib/python3.10/site-packages (from mlflow) (21.3)\n",
      "Requirement already satisfied: importlib-metadata!=4.7.0,<7,>=3.7.0 in /opt/conda/lib/python3.10/site-packages (from mlflow) (4.11.3)\n",
      "Requirement already satisfied: sqlparse<1,>=0.4.0 in /opt/conda/lib/python3.10/site-packages (from mlflow) (0.4.4)\n",
      "Requirement already satisfied: alembic!=1.10.0,<2 in /opt/conda/lib/python3.10/site-packages (from mlflow) (1.12.0)\n",
      "Requirement already satisfied: docker<7,>=4.0.0 in /opt/conda/lib/python3.10/site-packages (from mlflow) (6.1.3)\n",
      "Requirement already satisfied: Flask<3 in /opt/conda/lib/python3.10/site-packages (from mlflow) (2.3.3)\n",
      "Requirement already satisfied: numpy<2 in /opt/conda/lib/python3.10/site-packages (from mlflow) (1.25.2)\n",
      "Requirement already satisfied: scipy<2 in /opt/conda/lib/python3.10/site-packages (from mlflow) (1.11.2)\n",
      "Requirement already satisfied: pandas<3 in /opt/conda/lib/python3.10/site-packages (from mlflow) (1.4.4)\n",
      "Requirement already satisfied: querystring-parser<2 in /opt/conda/lib/python3.10/site-packages (from mlflow) (1.2.4)\n",
      "Requirement already satisfied: sqlalchemy<3,>=1.4.0 in /opt/conda/lib/python3.10/site-packages (from mlflow) (1.4.39)\n",
      "Requirement already satisfied: scikit-learn<2 in /opt/conda/lib/python3.10/site-packages (from mlflow) (1.0.1)\n",
      "Requirement already satisfied: pyarrow<14,>=4.0.0 in /opt/conda/lib/python3.10/site-packages (from mlflow) (13.0.0)\n",
      "Requirement already satisfied: markdown<4,>=3.3 in /opt/conda/lib/python3.10/site-packages (from mlflow) (3.3.4)\n",
      "Requirement already satisfied: matplotlib<4 in /opt/conda/lib/python3.10/site-packages (from mlflow) (3.5.2)\n",
      "Requirement already satisfied: gunicorn<22 in /opt/conda/lib/python3.10/site-packages (from mlflow) (21.2.0)\n",
      "Requirement already satisfied: Jinja2<4,>=2.11 in /opt/conda/lib/python3.10/site-packages (from mlflow) (3.1.2)\n",
      "Requirement already satisfied: Mako in /opt/conda/lib/python3.10/site-packages (from alembic!=1.10.0,<2->mlflow) (1.2.4)\n",
      "Requirement already satisfied: typing-extensions>=4 in /opt/conda/lib/python3.10/site-packages (from alembic!=1.10.0,<2->mlflow) (4.8.0)\n",
      "Requirement already satisfied: pyjwt>=1.7.0 in /opt/conda/lib/python3.10/site-packages (from databricks-cli<1,>=0.8.7->mlflow) (2.8.0)\n",
      "Requirement already satisfied: oauthlib>=3.1.0 in /opt/conda/lib/python3.10/site-packages (from databricks-cli<1,>=0.8.7->mlflow) (3.2.2)\n",
      "Requirement already satisfied: tabulate>=0.7.7 in /opt/conda/lib/python3.10/site-packages (from databricks-cli<1,>=0.8.7->mlflow) (0.8.10)\n",
      "Requirement already satisfied: six>=1.10.0 in /opt/conda/lib/python3.10/site-packages (from databricks-cli<1,>=0.8.7->mlflow) (1.16.0)\n",
      "Requirement already satisfied: urllib3<2.0.0,>=1.26.7 in /opt/conda/lib/python3.10/site-packages (from databricks-cli<1,>=0.8.7->mlflow) (1.26.16)\n",
      "Requirement already satisfied: websocket-client>=0.32.0 in /opt/conda/lib/python3.10/site-packages (from docker<7,>=4.0.0->mlflow) (0.58.0)\n",
      "Requirement already satisfied: Werkzeug>=2.3.7 in /opt/conda/lib/python3.10/site-packages (from Flask<3->mlflow) (2.3.7)\n",
      "Requirement already satisfied: itsdangerous>=2.1.2 in /opt/conda/lib/python3.10/site-packages (from Flask<3->mlflow) (2.1.2)\n",
      "Requirement already satisfied: blinker>=1.6.2 in /opt/conda/lib/python3.10/site-packages (from Flask<3->mlflow) (1.6.2)\n",
      "Requirement already satisfied: gitdb<5,>=4.0.1 in /opt/conda/lib/python3.10/site-packages (from gitpython<4,>=2.1.0->mlflow) (4.0.10)\n",
      "Requirement already satisfied: zipp>=0.5 in /opt/conda/lib/python3.10/site-packages (from importlib-metadata!=4.7.0,<7,>=3.7.0->mlflow) (3.8.0)\n",
      "Requirement already satisfied: MarkupSafe>=2.0 in /opt/conda/lib/python3.10/site-packages (from Jinja2<4,>=2.11->mlflow) (2.1.3)\n",
      "Requirement already satisfied: cycler>=0.10 in /opt/conda/lib/python3.10/site-packages (from matplotlib<4->mlflow) (0.11.0)\n",
      "Requirement already satisfied: fonttools>=4.22.0 in /opt/conda/lib/python3.10/site-packages (from matplotlib<4->mlflow) (4.25.0)\n",
      "Requirement already satisfied: kiwisolver>=1.0.1 in /opt/conda/lib/python3.10/site-packages (from matplotlib<4->mlflow) (1.4.2)\n",
      "Requirement already satisfied: pillow>=6.2.0 in /opt/conda/lib/python3.10/site-packages (from matplotlib<4->mlflow) (10.0.0)\n",
      "Requirement already satisfied: pyparsing>=2.2.1 in /opt/conda/lib/python3.10/site-packages (from matplotlib<4->mlflow) (3.0.9)\n",
      "Requirement already satisfied: python-dateutil>=2.7 in /opt/conda/lib/python3.10/site-packages (from matplotlib<4->mlflow) (2.8.2)\n",
      "Requirement already satisfied: charset-normalizer<4,>=2 in /opt/conda/lib/python3.10/site-packages (from requests<3,>=2.17.3->mlflow) (2.0.4)\n",
      "Requirement already satisfied: idna<4,>=2.5 in /opt/conda/lib/python3.10/site-packages (from requests<3,>=2.17.3->mlflow) (3.3)\n",
      "Requirement already satisfied: certifi>=2017.4.17 in /opt/conda/lib/python3.10/site-packages (from requests<3,>=2.17.3->mlflow) (2023.7.22)\n",
      "Requirement already satisfied: joblib>=0.11 in /opt/conda/lib/python3.10/site-packages (from scikit-learn<2->mlflow) (1.3.2)\n",
      "Requirement already satisfied: threadpoolctl>=2.0.0 in /opt/conda/lib/python3.10/site-packages (from scikit-learn<2->mlflow) (2.2.0)\n",
      "Requirement already satisfied: greenlet!=0.4.17 in /opt/conda/lib/python3.10/site-packages (from sqlalchemy<3,>=1.4.0->mlflow) (1.1.1)\n",
      "Requirement already satisfied: smmap<6,>=3.0.1 in /opt/conda/lib/python3.10/site-packages (from gitdb<5,>=4.0.1->gitpython<4,>=2.1.0->mlflow) (5.0.1)\n",
      "\u001b[33mWARNING: Running pip as the 'root' user can result in broken permissions and conflicting behaviour with the system package manager. It is recommended to use a virtual environment instead: https://pip.pypa.io/warnings/venv\u001b[0m\u001b[33m\n",
      "\u001b[0mRequirement already satisfied: aepp in /opt/conda/lib/python3.10/site-packages (0.3.1.post5)\n",
      "Requirement already satisfied: pandas in /opt/conda/lib/python3.10/site-packages (from aepp) (1.4.4)\n",
      "Requirement already satisfied: requests in /opt/conda/lib/python3.10/site-packages (from aepp) (2.31.0)\n",
      "Requirement already satisfied: PyJWT in /opt/conda/lib/python3.10/site-packages (from aepp) (2.8.0)\n",
      "Requirement already satisfied: pathlib2 in /opt/conda/lib/python3.10/site-packages (from aepp) (2.3.7.post1)\n",
      "Requirement already satisfied: pathlib in /opt/conda/lib/python3.10/site-packages (from aepp) (1.0.1)\n",
      "Requirement already satisfied: tenacity in /opt/conda/lib/python3.10/site-packages (from aepp) (8.0.1)\n",
      "Requirement already satisfied: python-dateutil>=2.8.1 in /opt/conda/lib/python3.10/site-packages (from pandas->aepp) (2.8.2)\n",
      "Requirement already satisfied: pytz>=2020.1 in /opt/conda/lib/python3.10/site-packages (from pandas->aepp) (2022.1)\n",
      "Requirement already satisfied: numpy>=1.21.0 in /opt/conda/lib/python3.10/site-packages (from pandas->aepp) (1.25.2)\n",
      "Requirement already satisfied: six in /opt/conda/lib/python3.10/site-packages (from pathlib2->aepp) (1.16.0)\n",
      "Requirement already satisfied: cryptography>=3.4.0 in /opt/conda/lib/python3.10/site-packages (from PyJWT->aepp) (41.0.3)\n",
      "Requirement already satisfied: charset-normalizer<4,>=2 in /opt/conda/lib/python3.10/site-packages (from requests->aepp) (2.0.4)\n",
      "Requirement already satisfied: idna<4,>=2.5 in /opt/conda/lib/python3.10/site-packages (from requests->aepp) (3.3)\n",
      "Requirement already satisfied: urllib3<3,>=1.21.1 in /opt/conda/lib/python3.10/site-packages (from requests->aepp) (1.26.16)\n",
      "Requirement already satisfied: certifi>=2017.4.17 in /opt/conda/lib/python3.10/site-packages (from requests->aepp) (2023.7.22)\n",
      "Requirement already satisfied: cffi>=1.12 in /opt/conda/lib/python3.10/site-packages (from cryptography>=3.4.0->PyJWT->aepp) (1.15.1)\n",
      "Requirement already satisfied: pycparser in /opt/conda/lib/python3.10/site-packages (from cffi>=1.12->cryptography>=3.4.0->PyJWT->aepp) (2.21)\n",
      "\u001b[33mWARNING: Running pip as the 'root' user can result in broken permissions and conflicting behaviour with the system package manager. It is recommended to use a virtual environment instead: https://pip.pypa.io/warnings/venv\u001b[0m\u001b[33m\n",
      "\u001b[0m"
     ]
    }
   ],
   "source": [
    "!pip install mlflow==2.7.1\n",
    "!pip install aepp==0.3.1-7"
   ]
  },
  {
   "cell_type": "markdown",
   "metadata": {
    "application/vnd.databricks.v1+cell": {
     "cellMetadata": {},
     "inputWidgets": {},
     "nuid": "18d805c9-3923-46b1-bd0e-e1979a4496e2",
     "showTitle": false,
     "title": ""
    }
   },
   "source": [
    "We'll be using the [aepp Python library](https://github.com/pitchmuc/aepp) here to interact with AEP APIs and create a schema and dataset suitable for adding our synthetic data further down the line. This library simply provides a programmatic interface around the REST APIs, but all these steps could be completed similarly using the raw APIs directly or even in the UI. For more information on the underlying APIs please see [the API reference guide](https://developer.adobe.com/experience-platform-apis/)."
   ]
  },
  {
   "cell_type": "markdown",
   "metadata": {
    "application/vnd.databricks.v1+cell": {
     "cellMetadata": {},
     "inputWidgets": {},
     "nuid": "3ce72370-0266-460b-b00c-9a2d98d626f9",
     "showTitle": false,
     "title": ""
    }
   },
   "source": [
    "Before any calls can take place, we need to configure the library and setup authentication credentials. For this you'll need the following piece of information. For information about how you can get these, please refer to the `Setup` section of the **Readme**:\n",
    "- Client ID\n",
    "- Client secret\n",
    "- Technical account ID"
   ]
  },
  {
   "cell_type": "code",
   "execution_count": 8,
   "metadata": {
    "application/vnd.databricks.v1+cell": {
     "cellMetadata": {
      "byteLimit": 2048000,
      "rowLimit": 10000
     },
     "inputWidgets": {},
     "nuid": "5fd8f161-e8bd-4ecf-b00c-2b6ed8c10e2f",
     "showTitle": false,
     "title": ""
    }
   },
   "outputs": [],
   "source": [
    "import aepp\n",
    "\n",
    "aepp.configure(\n",
    "  org_id=ims_org_id,\n",
    "  tech_id=tech_account_id, \n",
    "  secret=client_secret,\n",
    "  scopes=scopes,\n",
    "  client_id=client_id,\n",
    "  environment=environment,\n",
    "  sandbox=sandbox_name\n",
    ")"
   ]
  },
  {
   "cell_type": "markdown",
   "metadata": {
    "application/vnd.databricks.v1+cell": {
     "cellMetadata": {},
     "inputWidgets": {},
     "nuid": "c09c6abb-b5fd-4fed-99cb-49e101f72827",
     "showTitle": false,
     "title": ""
    }
   },
   "source": [
    "# 1. Generating Propensity Scores Using the Trained Model"
   ]
  },
  {
   "cell_type": "markdown",
   "metadata": {
    "application/vnd.databricks.v1+cell": {
     "cellMetadata": {},
     "inputWidgets": {},
     "nuid": "a6b6b184-f1e8-4174-b3ef-4eba7a520840",
     "showTitle": false,
     "title": ""
    }
   },
   "source": [
    "## 1.1 Reading the Featurized Data from S3"
   ]
  },
  {
   "cell_type": "markdown",
   "metadata": {
    "application/vnd.databricks.v1+cell": {
     "cellMetadata": {},
     "inputWidgets": {},
     "nuid": "663c6af0-a7f2-482b-ab3f-679d04f9cce9",
     "showTitle": false,
     "title": ""
    }
   },
   "source": [
    "In the Week2Notebook, the featurized dataset was written to Amazon S3. Then, Week3Notebook reads a sampled portion of the dataset to train our model. At that point, we want to score all of the profiles, so we need to read everything."
   ]
  },
  {
   "cell_type": "markdown",
   "metadata": {
    "application/vnd.databricks.v1+cell": {
     "cellMetadata": {},
     "inputWidgets": {},
     "nuid": "d5877a0e-10f6-432f-aa5a-506e69a20390",
     "showTitle": false,
     "title": ""
    }
   },
   "source": [
    "The featurized data exported into the Amazon S3 is under the format **\\$S3PREFIX**/**$DATASETID**/**exportTime=\\$EXPORTTIME**. We know the dataset ID which is in your config under `featurized_dataset_id` so we're just missing the export time so we know what to read. To get that we can simply list files in the S3 and find what the value is. "
   ]
  },
  {
   "cell_type": "markdown",
   "metadata": {
    "application/vnd.databricks.v1+cell": {
     "cellMetadata": {},
     "inputWidgets": {},
     "nuid": "7b3d28c1-feb9-4bc7-9f7a-75ac705538f7",
     "showTitle": false,
     "title": ""
    }
   },
   "source": [
    "Now we use some Python libraries to authenticate and issue listing commands so we can get the paths and extract the time from it."
   ]
  },
  {
   "cell_type": "code",
   "execution_count": 9,
   "metadata": {
    "application/vnd.databricks.v1+cell": {
     "cellMetadata": {
      "byteLimit": 2048000,
      "rowLimit": 10000
     },
     "inputWidgets": {},
     "nuid": "c0dd0f48-0d70-48d1-a298-030110c9a730",
     "showTitle": false,
     "title": ""
    }
   },
   "outputs": [
    {
     "name": "stdout",
     "output_type": "stream",
     "text": [
      "take2/6504a2f1abf9b128d3f90e5d/exportTime=20230919232925/part-00000-tid-1963095377847182754-6035fc41-0864-422f-9085-22345d077206-3292655-1-c000.gz.parquet\n",
      "Using featurized data export time of 20230919232925\n"
     ]
    }
   ],
   "source": [
    "import boto3\n",
    "\n",
    "s3 = boto3.resource('s3')\n",
    "bucket = s3.Bucket(s3_bucket_name)\n",
    "objects = bucket.objects.filter(\n",
    "    Prefix=f'{s3_prefix}/{featurized_dataset_id}',\n",
    "    MaxKeys=1\n",
    ")\n",
    "\n",
    "for obj in objects:\n",
    "    obj = obj\n",
    "\n",
    "print(obj.key)\n",
    "\n",
    "parts = obj.key.split('/')\n",
    "for part in parts:\n",
    "    if part.startswith('exportTime'):\n",
    "        export_time = part.split('=')[1]\n",
    "\n",
    "print(f'Using featurized data export time of {export_time}')"
   ]
  },
  {
   "cell_type": "code",
   "execution_count": 10,
   "metadata": {
    "application/vnd.databricks.v1+cell": {
     "cellMetadata": {
      "byteLimit": 2048000,
      "rowLimit": 10000
     },
     "inputWidgets": {},
     "nuid": "a027af84-b920-4f32-a8da-438cb46fc1ba",
     "showTitle": false,
     "title": ""
    }
   },
   "outputs": [
    {
     "name": "stdout",
     "output_type": "stream",
     "text": [
      "s3a://mui-aep-testing/take2/6504a2f1abf9b128d3f90e5d/exportTime=20230919232925/part-00000-tid-1963095377847182754-6035fc41-0864-422f-9085-22345d077206-3292655-1-c000.gz.parquet\n",
      "23/09/28 05:55:23 WARN MetricsConfig: Cannot locate configuration: tried hadoop-metrics2-s3a-file-system.properties,hadoop-metrics2.properties\n"
     ]
    },
    {
     "name": "stderr",
     "output_type": "stream",
     "text": [
      "                                                                                \r"
     ]
    },
    {
     "name": "stdout",
     "output_type": "stream",
     "text": [
      "root\n",
      " |-- userId: string (nullable = true)\n",
      " |-- eventType: string (nullable = true)\n",
      " |-- timestamp: timestamp (nullable = true)\n",
      " |-- subscriptionOccurred: long (nullable = true)\n",
      " |-- emailsReceived: long (nullable = true)\n",
      " |-- emailsOpened: long (nullable = true)\n",
      " |-- emailsClicked: long (nullable = true)\n",
      " |-- productsViewed: long (nullable = true)\n",
      " |-- propositionInteracts: long (nullable = true)\n",
      " |-- propositionDismissed: long (nullable = true)\n",
      " |-- webLinkClicks: long (nullable = true)\n",
      " |-- minutes_since_emailSent: integer (nullable = true)\n",
      " |-- minutes_since_emailOpened: integer (nullable = true)\n",
      " |-- minutes_since_emailClick: integer (nullable = true)\n",
      " |-- minutes_since_productView: integer (nullable = true)\n",
      " |-- minutes_since_propositionInteract: integer (nullable = true)\n",
      " |-- minutes_since_propositionDismiss: integer (nullable = true)\n",
      " |-- minutes_since_linkClick: integer (nullable = true)\n",
      " |-- random_row_number_for_user: integer (nullable = true)\n",
      "\n"
     ]
    }
   ],
   "source": [
    "parquet_s3a_path = f's3a://{s3_bucket_name}/{obj.key}'\n",
    "print(parquet_s3a_path)\n",
    "df = spark.read.parquet(parquet_s3a_path)\n",
    "df.printSchema()"
   ]
  },
  {
   "cell_type": "markdown",
   "metadata": {
    "application/vnd.databricks.v1+cell": {
     "cellMetadata": {},
     "inputWidgets": {},
     "nuid": "3a8f66b0-eb3e-44f0-b1e7-62084d98408a",
     "showTitle": false,
     "title": ""
    }
   },
   "source": [
    "We can verify it matches what we had written out in the second weekly assignment:"
   ]
  },
  {
   "cell_type": "code",
   "execution_count": 11,
   "metadata": {
    "application/vnd.databricks.v1+cell": {
     "cellMetadata": {
      "byteLimit": 2048000,
      "rowLimit": 10000
     },
     "inputWidgets": {},
     "nuid": "bbe92849-00f0-43c4-a8a5-5a365961365e",
     "showTitle": false,
     "title": ""
    }
   },
   "outputs": [
    {
     "data": {
      "text/plain": [
       "97418"
      ]
     },
     "execution_count": 11,
     "metadata": {},
     "output_type": "execute_result"
    }
   ],
   "source": [
    "df.count()"
   ]
  },
  {
   "cell_type": "markdown",
   "metadata": {
    "application/vnd.databricks.v1+cell": {
     "cellMetadata": {},
     "inputWidgets": {},
     "nuid": "d66b787c-5184-422d-9aab-1d3fddc54cbb",
     "showTitle": false,
     "title": ""
    }
   },
   "source": [
    "And also do a sanity check on the data to make sure it looks good:"
   ]
  },
  {
   "cell_type": "code",
   "execution_count": 18,
   "metadata": {
    "application/vnd.databricks.v1+cell": {
     "cellMetadata": {
      "byteLimit": 2048000,
      "rowLimit": 10000
     },
     "inputWidgets": {},
     "nuid": "18799e70-9596-47ad-9399-aff7d36edd02",
     "showTitle": false,
     "title": ""
    }
   },
   "outputs": [
    {
     "name": "stdout",
     "output_type": "stream",
     "text": [
      "+--------------------+--------------------+--------------------+--------------------+--------------+------------+-------------+--------------+--------------------+--------------------+-------------+-----------------------+-------------------------+------------------------+-------------------------+---------------------------------+--------------------------------+-----------------------+--------------------------+\n",
      "|              userId|           eventType|           timestamp|subscriptionOccurred|emailsReceived|emailsOpened|emailsClicked|productsViewed|propositionInteracts|propositionDismissed|webLinkClicks|minutes_since_emailSent|minutes_since_emailOpened|minutes_since_emailClick|minutes_since_productView|minutes_since_propositionInteract|minutes_since_propositionDismiss|minutes_since_linkClick|random_row_number_for_user|\n",
      "+--------------------+--------------------+--------------------+--------------------+--------------+------------+-------------+--------------+--------------------+--------------------+-------------+-----------------------+-------------------------+------------------------+-------------------------+---------------------------------+--------------------------------+-----------------------+--------------------------+\n",
      "|39532772609378079...|   web.formFilledOut|2023-07-29 11:23:...|                   1|            12|           4|            3|             1|                   0|                   0|            0|                    313|                       12|                       5|                     3230|                             null|                            null|                   null|                         4|\n",
      "|61601964786234821...|directMarketing.e...|2023-07-29 11:24:...|                   0|             6|           2|            0|             0|                   0|                   0|            0|                   3808|                        0|                    null|                     null|                             null|                            null|                   null|                         1|\n",
      "|88220432841898108...|directMarketing.e...|2023-07-29 11:28:...|                   0|             5|           0|            0|             2|                   0|                   0|            1|                      0|                     null|                    null|                    44138|                             null|                            null|                  44146|                         1|\n",
      "|68649542653677654...|directMarketing.e...|2023-07-29 11:28:...|                   0|             5|           3|            1|             0|                   0|                   0|            0|                      0|                    41481|                   45908|                     null|                             null|                            null|                   null|                         1|\n",
      "|66226762425417586...|   web.formFilledOut|2023-07-29 11:28:...|                   1|             6|           4|            1|             0|                   0|                   0|            0|                   2778|                       68|                      11|                     null|                             null|                            null|                   null|                         9|\n",
      "|31630450781799875...|   web.formFilledOut|2023-07-29 11:29:...|                   1|             5|           1|            1|             0|                   0|                   0|            0|                    162|                       35|                       9|                     null|                             null|                            null|                   null|                         5|\n",
      "|45127514250829205...|directMarketing.e...|2023-07-29 11:30:...|                   0|             4|           3|            0|             0|                   0|                   0|            0|                    558|                        0|                    null|                     null|                             null|                            null|                   null|                         1|\n",
      "|37753065076778385...|directMarketing.e...|2023-07-29 11:31:...|                   0|             4|           0|            0|             0|                   0|                   0|            0|                      0|                     null|                    null|                     null|                             null|                            null|                   null|                         1|\n",
      "|70183182020082786...|advertising.impre...|2023-07-29 11:31:...|                   0|             2|           1|            0|             0|                   0|                   0|            1|                  11257|                    27564|                    null|                     null|                             null|                            null|                  30284|                         1|\n",
      "|86727598932352157...|directMarketing.e...|2023-07-29 11:31:...|                   0|             7|           0|            0|             0|                   0|                   0|            0|                      0|                     null|                    null|                     null|                             null|                            null|                   null|                         1|\n",
      "|46721051801070672...|directMarketing.e...|2023-07-29 11:31:...|                   0|             8|           0|            0|             0|                   0|                   0|            0|                      0|                     null|                    null|                     null|                             null|                            null|                   null|                         1|\n",
      "|48091565267902934...|directMarketing.e...|2023-07-29 11:33:...|                   0|             6|           5|            1|             0|                   1|                   0|            0|                      0|                     6289|                    7657|                     null|                             7644|                            null|                   null|                         1|\n",
      "|74877651972137620...|directMarketing.e...|2023-07-29 11:35:...|                   0|             6|           1|            1|             0|                   0|                   0|            0|                    102|                       97|                       0|                     null|                             null|                            null|                   null|                         1|\n",
      "|71768820913809895...|   web.formFilledOut|2023-07-29 11:37:...|                   1|             7|           3|            0|             0|                   0|                   0|            0|                   6051|                    31256|                    null|                     null|                             null|                            null|                   null|                         6|\n",
      "|81842598888358053...|directMarketing.e...|2023-07-29 11:37:...|                   0|             8|           5|            1|             0|                   0|                   0|            1|                    439|                        0|                   37564|                     null|                             null|                            null|                  37554|                         1|\n",
      "|85356416789643443...|directMarketing.e...|2023-07-29 11:39:...|                   0|             7|           1|            0|             0|                   0|                   0|            0|                      0|                    31579|                    null|                     null|                             null|                            null|                   null|                         1|\n",
      "|48740060473731326...|directMarketing.e...|2023-07-29 11:39:...|                   0|             4|           6|            2|             0|                   1|                   0|            0|                      0|                    15011|                   14973|                     null|                            22077|                            null|                   null|                         1|\n",
      "|52268593109347095...|   web.formFilledOut|2023-07-29 11:40:...|                   1|             6|           0|            0|             1|                   0|                   0|            1|                   6784|                     null|                    null|                        1|                             null|                            null|                  21045|                         6|\n",
      "|03170541752185975...|directMarketing.e...|2023-07-29 11:40:...|                   0|             6|           0|            0|             0|                   0|                   0|            0|                      0|                     null|                    null|                     null|                             null|                            null|                   null|                         1|\n",
      "|17034210353855217...|   web.formFilledOut|2023-07-29 11:41:...|                   1|             5|           7|            2|             2|                   0|                   0|            0|                    912|                        1|                       3|                        7|                             null|                            null|                   null|                         1|\n",
      "+--------------------+--------------------+--------------------+--------------------+--------------+------------+-------------+--------------+--------------------+--------------------+-------------+-----------------------+-------------------------+------------------------+-------------------------+---------------------------------+--------------------------------+-----------------------+--------------------------+\n",
      "only showing top 20 rows\n",
      "\n"
     ]
    },
    {
     "name": "stderr",
     "output_type": "stream",
     "text": [
      "                                                                                \r"
     ]
    }
   ],
   "source": [
    "df.show()"
   ]
  },
  {
   "cell_type": "code",
   "execution_count": 19,
   "metadata": {
    "application/vnd.databricks.v1+cell": {
     "cellMetadata": {
      "byteLimit": 2048000,
      "rowLimit": 10000
     },
     "inputWidgets": {},
     "nuid": "6f7e844c-d044-4b51-a3db-7c65065288ee",
     "showTitle": false,
     "title": ""
    }
   },
   "outputs": [
    {
     "name": "stdout",
     "output_type": "stream",
     "text": [
      "+--------------------+--------------------+--------------------+--------------------+--------------+------------+-------------+--------------+--------------------+--------------------+-------------+-----------------------+-------------------------+------------------------+-------------------------+---------------------------------+--------------------------------+-----------------------+--------------------------+\n",
      "|              userId|           eventType|           timestamp|subscriptionOccurred|emailsReceived|emailsOpened|emailsClicked|productsViewed|propositionInteracts|propositionDismissed|webLinkClicks|minutes_since_emailSent|minutes_since_emailOpened|minutes_since_emailClick|minutes_since_productView|minutes_since_propositionInteract|minutes_since_propositionDismiss|minutes_since_linkClick|random_row_number_for_user|\n",
      "+--------------------+--------------------+--------------------+--------------------+--------------+------------+-------------+--------------+--------------------+--------------------+-------------+-----------------------+-------------------------+------------------------+-------------------------+---------------------------------+--------------------------------+-----------------------+--------------------------+\n",
      "|39532772609378079...|   web.formFilledOut|2023-07-29 11:23:...|                   1|            12|           4|            3|             1|                   0|                   0|            0|                    313|                       12|                       5|                     3230|                                0|                               0|                      0|                         4|\n",
      "|61601964786234821...|directMarketing.e...|2023-07-29 11:24:...|                   0|             6|           2|            0|             0|                   0|                   0|            0|                   3808|                        0|                       0|                        0|                                0|                               0|                      0|                         1|\n",
      "|88220432841898108...|directMarketing.e...|2023-07-29 11:28:...|                   0|             5|           0|            0|             2|                   0|                   0|            1|                      0|                        0|                       0|                    44138|                                0|                               0|                  44146|                         1|\n",
      "|68649542653677654...|directMarketing.e...|2023-07-29 11:28:...|                   0|             5|           3|            1|             0|                   0|                   0|            0|                      0|                    41481|                   45908|                        0|                                0|                               0|                      0|                         1|\n",
      "|66226762425417586...|   web.formFilledOut|2023-07-29 11:28:...|                   1|             6|           4|            1|             0|                   0|                   0|            0|                   2778|                       68|                      11|                        0|                                0|                               0|                      0|                         9|\n",
      "|31630450781799875...|   web.formFilledOut|2023-07-29 11:29:...|                   1|             5|           1|            1|             0|                   0|                   0|            0|                    162|                       35|                       9|                        0|                                0|                               0|                      0|                         5|\n",
      "|45127514250829205...|directMarketing.e...|2023-07-29 11:30:...|                   0|             4|           3|            0|             0|                   0|                   0|            0|                    558|                        0|                       0|                        0|                                0|                               0|                      0|                         1|\n",
      "|37753065076778385...|directMarketing.e...|2023-07-29 11:31:...|                   0|             4|           0|            0|             0|                   0|                   0|            0|                      0|                        0|                       0|                        0|                                0|                               0|                      0|                         1|\n",
      "|70183182020082786...|advertising.impre...|2023-07-29 11:31:...|                   0|             2|           1|            0|             0|                   0|                   0|            1|                  11257|                    27564|                       0|                        0|                                0|                               0|                  30284|                         1|\n",
      "|86727598932352157...|directMarketing.e...|2023-07-29 11:31:...|                   0|             7|           0|            0|             0|                   0|                   0|            0|                      0|                        0|                       0|                        0|                                0|                               0|                      0|                         1|\n",
      "|46721051801070672...|directMarketing.e...|2023-07-29 11:31:...|                   0|             8|           0|            0|             0|                   0|                   0|            0|                      0|                        0|                       0|                        0|                                0|                               0|                      0|                         1|\n",
      "|48091565267902934...|directMarketing.e...|2023-07-29 11:33:...|                   0|             6|           5|            1|             0|                   1|                   0|            0|                      0|                     6289|                    7657|                        0|                             7644|                               0|                      0|                         1|\n",
      "|74877651972137620...|directMarketing.e...|2023-07-29 11:35:...|                   0|             6|           1|            1|             0|                   0|                   0|            0|                    102|                       97|                       0|                        0|                                0|                               0|                      0|                         1|\n",
      "|71768820913809895...|   web.formFilledOut|2023-07-29 11:37:...|                   1|             7|           3|            0|             0|                   0|                   0|            0|                   6051|                    31256|                       0|                        0|                                0|                               0|                      0|                         6|\n",
      "|81842598888358053...|directMarketing.e...|2023-07-29 11:37:...|                   0|             8|           5|            1|             0|                   0|                   0|            1|                    439|                        0|                   37564|                        0|                                0|                               0|                  37554|                         1|\n",
      "|85356416789643443...|directMarketing.e...|2023-07-29 11:39:...|                   0|             7|           1|            0|             0|                   0|                   0|            0|                      0|                    31579|                       0|                        0|                                0|                               0|                      0|                         1|\n",
      "|48740060473731326...|directMarketing.e...|2023-07-29 11:39:...|                   0|             4|           6|            2|             0|                   1|                   0|            0|                      0|                    15011|                   14973|                        0|                            22077|                               0|                      0|                         1|\n",
      "|52268593109347095...|   web.formFilledOut|2023-07-29 11:40:...|                   1|             6|           0|            0|             1|                   0|                   0|            1|                   6784|                        0|                       0|                        1|                                0|                               0|                  21045|                         6|\n",
      "|03170541752185975...|directMarketing.e...|2023-07-29 11:40:...|                   0|             6|           0|            0|             0|                   0|                   0|            0|                      0|                        0|                       0|                        0|                                0|                               0|                      0|                         1|\n",
      "|17034210353855217...|   web.formFilledOut|2023-07-29 11:41:...|                   1|             5|           7|            2|             2|                   0|                   0|            0|                    912|                        1|                       3|                        7|                                0|                               0|                      0|                         1|\n",
      "+--------------------+--------------------+--------------------+--------------------+--------------+------------+-------------+--------------+--------------------+--------------------+-------------+-----------------------+-------------------------+------------------------+-------------------------+---------------------------------+--------------------------------+-----------------------+--------------------------+\n",
      "only showing top 20 rows\n",
      "\n"
     ]
    }
   ],
   "source": [
    "df = df.fillna(0)\n",
    "df.show()"
   ]
  },
  {
   "cell_type": "markdown",
   "metadata": {
    "application/vnd.databricks.v1+cell": {
     "cellMetadata": {},
     "inputWidgets": {},
     "nuid": "6a5c9a39-606a-4e56-b1be-f5c535d4bbfb",
     "showTitle": false,
     "title": ""
    }
   },
   "source": [
    "## 1.2 Scoring the Profiles"
   ]
  },
  {
   "cell_type": "markdown",
   "metadata": {
    "application/vnd.databricks.v1+cell": {
     "cellMetadata": {},
     "inputWidgets": {},
     "nuid": "6f70c947-de11-4b2b-863e-996f976af79c",
     "showTitle": false,
     "title": ""
    }
   },
   "source": [
    "For scoring we need 2 things:\n",
    "1. The **data** to score.\n",
    "2. The **trained model** that will be used to do the scoring.\n",
    "\n",
    "We just created a dataframe containing the first one, and in the previous weekly assignment we created a production model that can operate on this data, so let's fetch this model from our model hub and turn it into a Spark UDF so it can interact with our data easily:"
   ]
  },
  {
   "cell_type": "code",
   "execution_count": 20,
   "metadata": {
    "tags": []
   },
   "outputs": [
    {
     "name": "stdout",
     "output_type": "stream",
     "text": [
      "cmle_propensity_model\n"
     ]
    }
   ],
   "source": [
    "print(model_name)\n",
    "import mlflow \n",
    "mlflow.set_tracking_uri(\"file:///root/mlruns\")\n"
   ]
  },
  {
   "cell_type": "code",
   "execution_count": 21,
   "metadata": {
    "application/vnd.databricks.v1+cell": {
     "cellMetadata": {
      "byteLimit": 2048000,
      "rowLimit": 10000
     },
     "inputWidgets": {},
     "nuid": "7c0c8834-8095-4e72-90bb-deee87b45830",
     "showTitle": false,
     "title": ""
    }
   },
   "outputs": [
    {
     "data": {
      "application/vnd.jupyter.widget-view+json": {
       "model_id": "0031606490b64d0f9ec3a6c617b117be",
       "version_major": 2,
       "version_minor": 0
      },
      "text/plain": [
       "Downloading artifacts:   0%|          | 0/5 [00:00<?, ?it/s]"
      ]
     },
     "metadata": {},
     "output_type": "display_data"
    },
    {
     "name": "stderr",
     "output_type": "stream",
     "text": [
      "2023/09/28 05:58:00 WARNING mlflow.pyfunc: Calling `spark_udf()` with `env_manager=\"local\"` does not recreate the same environment that was used during training, which may lead to errors or inaccurate predictions. We recommend specifying `env_manager=\"conda\"`, which automatically recreates the environment that was used to train the model and performs inference in the recreated environment.\n"
     ]
    },
    {
     "data": {
      "application/vnd.jupyter.widget-view+json": {
       "model_id": "098e006d2675454094190c274fac6192",
       "version_major": 2,
       "version_minor": 0
      },
      "text/plain": [
       "Downloading artifacts:   0%|          | 0/1 [00:00<?, ?it/s]"
      ]
     },
     "metadata": {},
     "output_type": "display_data"
    },
    {
     "name": "stderr",
     "output_type": "stream",
     "text": [
      "2023/09/28 05:58:00 INFO mlflow.models.flavor_backend_registry: Selected backend for flavor 'python_function'\n"
     ]
    }
   ],
   "source": [
    "import mlflow.pyfunc\n",
    "\n",
    "model_udf = mlflow.pyfunc.spark_udf(spark, f\"models:/{model_name}/production\")"
   ]
  },
  {
   "cell_type": "markdown",
   "metadata": {
    "application/vnd.databricks.v1+cell": {
     "cellMetadata": {},
     "inputWidgets": {},
     "nuid": "44e48326-4d4f-43dc-8ab5-d77a5bbaff36",
     "showTitle": false,
     "title": ""
    }
   },
   "source": [
    "Now we're ready to apply our trained model on top of the entire dataset. For that, we need to give this UDF its inputs - which in our case are all the columns that the model needs to operate on. We can get that easily as the Spark dataframe contains metadata about its columns:"
   ]
  },
  {
   "cell_type": "code",
   "execution_count": 22,
   "metadata": {
    "application/vnd.databricks.v1+cell": {
     "cellMetadata": {
      "byteLimit": 2048000,
      "rowLimit": 10000
     },
     "inputWidgets": {},
     "nuid": "727f3932-65ea-4a49-9d97-48183d4a0f14",
     "showTitle": false,
     "title": ""
    }
   },
   "outputs": [
    {
     "name": "stdout",
     "output_type": "stream",
     "text": [
      "root\n",
      " |-- userId: string (nullable = true)\n",
      " |-- eventType: string (nullable = true)\n",
      " |-- timestamp: timestamp (nullable = true)\n",
      " |-- subscriptionOccurred: long (nullable = true)\n",
      " |-- emailsReceived: long (nullable = true)\n",
      " |-- emailsOpened: long (nullable = true)\n",
      " |-- emailsClicked: long (nullable = true)\n",
      " |-- productsViewed: long (nullable = true)\n",
      " |-- propositionInteracts: long (nullable = true)\n",
      " |-- propositionDismissed: long (nullable = true)\n",
      " |-- webLinkClicks: long (nullable = true)\n",
      " |-- minutes_since_emailSent: integer (nullable = true)\n",
      " |-- minutes_since_emailOpened: integer (nullable = true)\n",
      " |-- minutes_since_emailClick: integer (nullable = true)\n",
      " |-- minutes_since_productView: integer (nullable = true)\n",
      " |-- minutes_since_propositionInteract: integer (nullable = true)\n",
      " |-- minutes_since_propositionDismiss: integer (nullable = true)\n",
      " |-- minutes_since_linkClick: integer (nullable = true)\n",
      " |-- random_row_number_for_user: integer (nullable = true)\n",
      " |-- prediction: array (nullable = true)\n",
      " |    |-- element: double (containsNull = true)\n",
      "\n"
     ]
    }
   ],
   "source": [
    "from pyspark.sql.functions import struct\n",
    " \n",
    "# Apply the model to the new data\n",
    "udf_inputs = struct(*(df.columns))\n",
    " \n",
    "df_scored = df.withColumn(\n",
    "  \"prediction\",\n",
    "  model_udf(udf_inputs)\n",
    ")\n",
    "df_scored.printSchema()"
   ]
  },
  {
   "cell_type": "markdown",
   "metadata": {
    "application/vnd.databricks.v1+cell": {
     "cellMetadata": {},
     "inputWidgets": {},
     "nuid": "73a1897c-37db-4090-ab4a-373d0a54c671",
     "showTitle": false,
     "title": ""
    }
   },
   "source": [
    "If we look at the data we should see a new column called `prediction` which corresponds to the score generated by the model for this particular profile based on all the features computed earlier."
   ]
  },
  {
   "cell_type": "code",
   "execution_count": 23,
   "metadata": {
    "application/vnd.databricks.v1+cell": {
     "cellMetadata": {
      "byteLimit": 2048000,
      "rowLimit": 10000
     },
     "inputWidgets": {},
     "nuid": "3687ef6e-45db-4dcc-b6c4-4e58573e097a",
     "showTitle": false,
     "title": ""
    }
   },
   "outputs": [
    {
     "name": "stderr",
     "output_type": "stream",
     "text": [
      "[Stage 8:>                                                          (0 + 1) / 1]\r"
     ]
    },
    {
     "name": "stdout",
     "output_type": "stream",
     "text": [
      "+--------------------+--------------------+--------------------+--------------------+--------------+------------+-------------+--------------+--------------------+--------------------+-------------+-----------------------+-------------------------+------------------------+-------------------------+---------------------------------+--------------------------------+-----------------------+--------------------------+--------------------+\n",
      "|              userId|           eventType|           timestamp|subscriptionOccurred|emailsReceived|emailsOpened|emailsClicked|productsViewed|propositionInteracts|propositionDismissed|webLinkClicks|minutes_since_emailSent|minutes_since_emailOpened|minutes_since_emailClick|minutes_since_productView|minutes_since_propositionInteract|minutes_since_propositionDismiss|minutes_since_linkClick|random_row_number_for_user|          prediction|\n",
      "+--------------------+--------------------+--------------------+--------------------+--------------+------------+-------------+--------------+--------------------+--------------------+-------------+-----------------------+-------------------------+------------------------+-------------------------+---------------------------------+--------------------------------+-----------------------+--------------------------+--------------------+\n",
      "|39532772609378079...|   web.formFilledOut|2023-07-29 11:23:...|                   1|            12|           4|            3|             1|                   0|                   0|            0|                    313|                       12|                       5|                     3230|                                0|                               0|                      0|                         4|[0.8389126519099904]|\n",
      "|61601964786234821...|directMarketing.e...|2023-07-29 11:24:...|                   0|             6|           2|            0|             0|                   0|                   0|            0|                   3808|                        0|                       0|                        0|                                0|                               0|                      0|                         1|[0.03970397082988...|\n",
      "|88220432841898108...|directMarketing.e...|2023-07-29 11:28:...|                   0|             5|           0|            0|             2|                   0|                   0|            1|                      0|                        0|                       0|                    44138|                                0|                               0|                  44146|                         1|[0.03763855055100...|\n",
      "|68649542653677654...|directMarketing.e...|2023-07-29 11:28:...|                   0|             5|           3|            1|             0|                   0|                   0|            0|                      0|                    41481|                   45908|                        0|                                0|                               0|                      0|                         1|[0.00719929588625...|\n",
      "|66226762425417586...|   web.formFilledOut|2023-07-29 11:28:...|                   1|             6|           4|            1|             0|                   0|                   0|            0|                   2778|                       68|                      11|                        0|                                0|                               0|                      0|                         9|[0.8516564014277057]|\n",
      "|31630450781799875...|   web.formFilledOut|2023-07-29 11:29:...|                   1|             5|           1|            1|             0|                   0|                   0|            0|                    162|                       35|                       9|                        0|                                0|                               0|                      0|                         5|[0.8280758828013567]|\n",
      "|45127514250829205...|directMarketing.e...|2023-07-29 11:30:...|                   0|             4|           3|            0|             0|                   0|                   0|            0|                    558|                        0|                       0|                        0|                                0|                               0|                      0|                         1|[0.00433036866033...|\n",
      "|37753065076778385...|directMarketing.e...|2023-07-29 11:31:...|                   0|             4|           0|            0|             0|                   0|                   0|            0|                      0|                        0|                       0|                        0|                                0|                               0|                      0|                         1|[0.00294472852455...|\n",
      "|70183182020082786...|advertising.impre...|2023-07-29 11:31:...|                   0|             2|           1|            0|             0|                   0|                   0|            1|                  11257|                    27564|                       0|                        0|                                0|                               0|                  30284|                         1|[0.3205237097396433]|\n",
      "|86727598932352157...|directMarketing.e...|2023-07-29 11:31:...|                   0|             7|           0|            0|             0|                   0|                   0|            0|                      0|                        0|                       0|                        0|                                0|                               0|                      0|                         1|[0.00420483596433...|\n",
      "|46721051801070672...|directMarketing.e...|2023-07-29 11:31:...|                   0|             8|           0|            0|             0|                   0|                   0|            0|                      0|                        0|                       0|                        0|                                0|                               0|                      0|                         1|[0.00591178580714...|\n",
      "|48091565267902934...|directMarketing.e...|2023-07-29 11:33:...|                   0|             6|           5|            1|             0|                   1|                   0|            0|                      0|                     6289|                    7657|                        0|                             7644|                               0|                      0|                         1|[0.07270872958279...|\n",
      "|74877651972137620...|directMarketing.e...|2023-07-29 11:35:...|                   0|             6|           1|            1|             0|                   0|                   0|            0|                    102|                       97|                       0|                        0|                                0|                               0|                      0|                         1|[0.08988605383861...|\n",
      "|71768820913809895...|   web.formFilledOut|2023-07-29 11:37:...|                   1|             7|           3|            0|             0|                   0|                   0|            0|                   6051|                    31256|                       0|                        0|                                0|                               0|                      0|                         6|[0.3767206724141176]|\n",
      "|81842598888358053...|directMarketing.e...|2023-07-29 11:37:...|                   0|             8|           5|            1|             0|                   0|                   0|            1|                    439|                        0|                   37564|                        0|                                0|                               0|                  37554|                         1|[0.07497042665872...|\n",
      "|85356416789643443...|directMarketing.e...|2023-07-29 11:39:...|                   0|             7|           1|            0|             0|                   0|                   0|            0|                      0|                    31579|                       0|                        0|                                0|                               0|                      0|                         1|[0.00582912375956...|\n",
      "|48740060473731326...|directMarketing.e...|2023-07-29 11:39:...|                   0|             4|           6|            2|             0|                   1|                   0|            0|                      0|                    15011|                   14973|                        0|                            22077|                               0|                      0|                         1|[0.06772841662926...|\n",
      "|52268593109347095...|   web.formFilledOut|2023-07-29 11:40:...|                   1|             6|           0|            0|             1|                   0|                   0|            1|                   6784|                        0|                       0|                        1|                                0|                               0|                  21045|                         6|[0.4175620051662752]|\n",
      "|03170541752185975...|directMarketing.e...|2023-07-29 11:40:...|                   0|             6|           0|            0|             0|                   0|                   0|            0|                      0|                        0|                       0|                        0|                                0|                               0|                      0|                         1|[0.00348903382015...|\n",
      "|17034210353855217...|   web.formFilledOut|2023-07-29 11:41:...|                   1|             5|           7|            2|             2|                   0|                   0|            0|                    912|                        1|                       3|                        7|                                0|                               0|                      0|                         1|  [0.55972331395525]|\n",
      "+--------------------+--------------------+--------------------+--------------------+--------------+------------+-------------+--------------+--------------------+--------------------+-------------+-----------------------+-------------------------+------------------------+-------------------------+---------------------------------+--------------------------------+-----------------------+--------------------------+--------------------+\n",
      "only showing top 20 rows\n",
      "\n"
     ]
    },
    {
     "name": "stderr",
     "output_type": "stream",
     "text": [
      "                                                                                \r"
     ]
    }
   ],
   "source": [
    "df_scored.show()"
   ]
  },
  {
   "cell_type": "markdown",
   "metadata": {
    "application/vnd.databricks.v1+cell": {
     "cellMetadata": {},
     "inputWidgets": {},
     "nuid": "2f29f1f7-e74f-4d53-9d0f-3a40d94610f7",
     "showTitle": false,
     "title": ""
    }
   },
   "source": [
    "When you think about bringing the scored profiles back into the Adobe Experience Platform, we don't need to bring back all the features. In fact, we only really need 2 columns:\n",
    "- The user ID, so we know in the Unified Profile to which profile this row corresponds.\n",
    "- The score for this user ID."
   ]
  },
  {
   "cell_type": "code",
   "execution_count": 24,
   "metadata": {
    "application/vnd.databricks.v1+cell": {
     "cellMetadata": {
      "byteLimit": 2048000,
      "rowLimit": 10000
     },
     "inputWidgets": {},
     "nuid": "0c52fd86-9e48-4a4d-b9db-33fb75ccc213",
     "showTitle": false,
     "title": ""
    }
   },
   "outputs": [
    {
     "name": "stdout",
     "output_type": "stream",
     "text": [
      "root\n",
      " |-- userId: string (nullable = true)\n",
      " |-- prediction: array (nullable = true)\n",
      " |    |-- element: double (containsNull = true)\n",
      "\n"
     ]
    }
   ],
   "source": [
    "from pyspark.sql.functions import udf, col, lit, create_map, array, struct, current_timestamp\n",
    "\n",
    "from itertools import chain\n",
    "\n",
    "df_to_ingest = df_scored.select(\n",
    "  \"userId\",\n",
    "  \"prediction\"\n",
    ").cache()\n",
    "df_to_ingest.printSchema()"
   ]
  },
  {
   "cell_type": "code",
   "execution_count": 25,
   "metadata": {
    "application/vnd.databricks.v1+cell": {
     "cellMetadata": {
      "byteLimit": 2048000,
      "rowLimit": 10000
     },
     "inputWidgets": {},
     "nuid": "c0fb950e-1960-4e60-9d60-ade5681050a9",
     "showTitle": false,
     "title": ""
    }
   },
   "outputs": [
    {
     "name": "stderr",
     "output_type": "stream",
     "text": [
      "                                                                                \r"
     ]
    },
    {
     "data": {
      "text/plain": [
       "97418"
      ]
     },
     "execution_count": 25,
     "metadata": {},
     "output_type": "execute_result"
    }
   ],
   "source": [
    "df_to_ingest.count()"
   ]
  },
  {
   "cell_type": "code",
   "execution_count": 26,
   "metadata": {
    "application/vnd.databricks.v1+cell": {
     "cellMetadata": {
      "byteLimit": 2048000,
      "rowLimit": 10000
     },
     "inputWidgets": {},
     "nuid": "f84f9bfb-c9f4-45b7-a186-d9b2ad71fadb",
     "showTitle": false,
     "title": ""
    }
   },
   "outputs": [
    {
     "name": "stdout",
     "output_type": "stream",
     "text": [
      "+--------------------+--------------------+\n",
      "|              userId|          prediction|\n",
      "+--------------------+--------------------+\n",
      "|39532772609378079...|[0.8389126519099904]|\n",
      "|61601964786234821...|[0.03970397082988...|\n",
      "|88220432841898108...|[0.03763855055100...|\n",
      "|68649542653677654...|[0.00719929588625...|\n",
      "|66226762425417586...|[0.8516564014277057]|\n",
      "|31630450781799875...|[0.8280758828013567]|\n",
      "|45127514250829205...|[0.00433036866033...|\n",
      "|37753065076778385...|[0.00294472852455...|\n",
      "|70183182020082786...|[0.3205237097396433]|\n",
      "|86727598932352157...|[0.00420483596433...|\n",
      "|46721051801070672...|[0.00591178580714...|\n",
      "|48091565267902934...|[0.07270872958279...|\n",
      "|74877651972137620...|[0.08988605383861...|\n",
      "|71768820913809895...|[0.3767206724141176]|\n",
      "|81842598888358053...|[0.07497042665872...|\n",
      "|85356416789643443...|[0.00582912375956...|\n",
      "|48740060473731326...|[0.06772841662926...|\n",
      "|52268593109347095...|[0.4175620051662752]|\n",
      "|03170541752185975...|[0.00348903382015...|\n",
      "|17034210353855217...|  [0.55972331395525]|\n",
      "+--------------------+--------------------+\n",
      "only showing top 20 rows\n",
      "\n"
     ]
    }
   ],
   "source": [
    "df_to_ingest.show()"
   ]
  },
  {
   "cell_type": "markdown",
   "metadata": {
    "application/vnd.databricks.v1+cell": {
     "cellMetadata": {},
     "inputWidgets": {},
     "nuid": "c3a3a7f9-35fa-4135-8dcb-7c7c36b9ea4c",
     "showTitle": false,
     "title": ""
    }
   },
   "source": [
    "At that point we have the scored profiles and exactly what we need to bring back into Adobe Experience Platform. But we're not quite ready to write the results yet, there's a bit of setup that needs to happen first:\n",
    "- We need to create and configure a destination **dataset** in Adobe Experience Platform where our data will end up.\n",
    "- We need to setup a **data flow** that will be able to take this data, convert it into an XDM format, and deliver it to this dataset."
   ]
  },
  {
   "cell_type": "markdown",
   "metadata": {
    "application/vnd.databricks.v1+cell": {
     "cellMetadata": {},
     "inputWidgets": {},
     "nuid": "e9ab9303-0fa3-412f-9d21-480e73e1d6b8",
     "showTitle": false,
     "title": ""
    }
   },
   "source": [
    "# 2. Bringing the Scores back into Unified Profile"
   ]
  },
  {
   "cell_type": "markdown",
   "metadata": {
    "application/vnd.databricks.v1+cell": {
     "cellMetadata": {},
     "inputWidgets": {},
     "nuid": "ea5c13b9-f14b-488b-bd4f-d8b2450ff81c",
     "showTitle": false,
     "title": ""
    }
   },
   "source": [
    "## 2.1 Create ingestion schema and dataset"
   ]
  },
  {
   "cell_type": "markdown",
   "metadata": {
    "application/vnd.databricks.v1+cell": {
     "cellMetadata": {},
     "inputWidgets": {},
     "nuid": "621b31e9-44a3-4586-b3c7-68b0d28fd38d",
     "showTitle": false,
     "title": ""
    }
   },
   "source": [
    "The first step is to define where this propensity data we are creating as the output of our model should end up in the Unified Profile. We need to create a few entities for that:\n",
    "- A **fieldgroup** that will define the XDM for where propensity scores should be stored.\n",
    "- A **schema** based on that field group that will tie it back to the concept of profile.\n",
    "- A **dataset** based on that schema that will hold the data.\n",
    "\n",
    "As for the structure itself it's pretty simple, we just need 2 fields:\n",
    "- The **propensity** itself as a decimal number.\n",
    "- The **user ID** to which this propensity score relates.\n",
    "\n",
    "Let's put that in practice and create the field group. Note that because we are creating custom fields here, they need to be nested under the tenant ID corresponding to your organization."
   ]
  },
  {
   "cell_type": "code",
   "execution_count": 27,
   "metadata": {
    "application/vnd.databricks.v1+cell": {
     "cellMetadata": {
      "byteLimit": 2048000,
      "rowLimit": 10000
     },
     "inputWidgets": {},
     "nuid": "4965fb32-b9c1-492f-a31d-d45aedbf89d4",
     "showTitle": false,
     "title": ""
    }
   },
   "outputs": [
    {
     "data": {
      "text/plain": [
       "'exchangesandboxbravo'"
      ]
     },
     "execution_count": 27,
     "metadata": {},
     "output_type": "execute_result"
    }
   ],
   "source": [
    "from aepp import schema\n",
    "\n",
    "schema_conn = schema.Schema()\n",
    "\n",
    "tenant_id = schema_conn.getTenantId()\n",
    "tenant_id"
   ]
  },
  {
   "cell_type": "code",
   "execution_count": 24,
   "metadata": {
    "application/vnd.databricks.v1+cell": {
     "cellMetadata": {
      "byteLimit": 2048000,
      "rowLimit": 10000
     },
     "inputWidgets": {},
     "nuid": "97f582f8-4d6b-41e8-b0e2-4cd22f28a121",
     "showTitle": false,
     "title": ""
    }
   },
   "outputs": [
    {
     "data": {
      "text/plain": [
       "'https://ns.adobe.com/exchangesandboxbravo/mixins/c4fd541a164db4552ea79a4befcd9223fd05029664a5ec29'"
      ]
     },
     "execution_count": 24,
     "metadata": {},
     "output_type": "execute_result"
    }
   ],
   "source": [
    "fieldgroup_res = schema_conn.createFieldGroup({\n",
    "  \t\"type\": \"object\",\n",
    "\t\"title\": f\"[CMLE][Week4] Fieldgroup for user propensity (created by {username})\",\n",
    "\t\"description\": \"This mixin is used to define a propensity score that can be assigned to a given profile.\",\n",
    "\t\"allOf\": [{\n",
    "\t\t\"$ref\": \"#/definitions/customFields\"\n",
    "\t}],\n",
    "\t\"meta:containerId\": \"tenant\",\n",
    "\t\"meta:resourceType\": \"mixins\",\n",
    "\t\"meta:xdmType\": \"object\",\n",
    "\t\"definitions\": {\n",
    "      \"customFields\": {\n",
    "        \"type\": \"object\",\n",
    "        \"properties\": {\n",
    "          f\"_{tenant_id}\": {\n",
    "            \"type\": \"object\",\n",
    "            \"properties\": {\n",
    "              \"propensity\": {\n",
    "                \"title\": \"Propensity\",\n",
    "                \"description\": \"This refers to the propensity of a user towards an outcome.\",\n",
    "                \"type\": \"number\"\n",
    "              },\n",
    "              \"cmle_id\": {\n",
    "                \"title\": \"CMLE User ID\",\n",
    "                \"description\": \"This refers to the user having a propensity towards an outcome.\",\n",
    "                \"type\": \"string\"\n",
    "              }\n",
    "            }\n",
    "          }\n",
    "        }\n",
    "      }\n",
    "\t},\n",
    "\t\"meta:intendedToExtend\": [\"https://ns.adobe.com/xdm/context/profile\"]\n",
    "})\n",
    "\n",
    "fieldgroup_id = fieldgroup_res[\"$id\"]\n",
    "fieldgroup_id"
   ]
  },
  {
   "cell_type": "code",
   "execution_count": 30,
   "metadata": {
    "tags": []
   },
   "outputs": [
    {
     "name": "stdout",
     "output_type": "stream",
     "text": [
      "{'$id': 'https://ns.adobe.com/exchangesandboxbravo/mixins/c4fd541a164db4552ea79a4befcd9223fd05029664a5ec29', 'meta:altId': '_exchangesandboxbravo.mixins.c4fd541a164db4552ea79a4befcd9223fd05029664a5ec29', 'meta:resourceType': 'mixins', 'version': '1.0', 'title': '[CMLE][Week4] Fieldgroup for user propensity (created by amuiaws)', 'type': 'object', 'description': 'This mixin is used to define a propensity score that can be assigned to a given profile.', 'definitions': {'customFields': {'type': 'object', 'properties': {'_exchangesandboxbravo': {'type': 'object', 'properties': {'propensity': {'title': 'Propensity', 'description': 'This refers to the propensity of a user towards an outcome.', 'type': 'number', 'meta:xdmType': 'number'}, 'cmle_id': {'title': 'CMLE User ID', 'description': 'This refers to the user having a propensity towards an outcome.', 'type': 'string', 'meta:xdmType': 'string'}}, 'meta:xdmType': 'object'}}, 'meta:xdmType': 'object'}}, 'allOf': [{'$ref': '#/definitions/customFields', 'type': 'object', 'meta:xdmType': 'object'}], 'refs': [], 'imsOrg': 'EFE243245DB9D3DD0A495E80@AdobeOrg', 'meta:extensible': True, 'meta:abstract': True, 'meta:intendedToExtend': ['https://ns.adobe.com/xdm/context/profile'], 'meta:xdmType': 'object', 'meta:registryMetadata': {'repo:createdDate': 1695835719395, 'repo:lastModifiedDate': 1695835719395, 'xdm:createdClientId': '209cce3e4d974b889a253f1ea33b5760', 'xdm:lastModifiedClientId': '209cce3e4d974b889a253f1ea33b5760', 'xdm:createdUserId': '3AC51DB264EF56BD0A495E95@techacct.adobe.com', 'xdm:lastModifiedUserId': '3AC51DB264EF56BD0A495E95@techacct.adobe.com', 'eTag': '00b03d884567abb423c2c82e6bc5df27a9f38fba8bdc8d396d3bd51f9d79a6bd', 'meta:globalLibVersion': '1.43.4'}, 'meta:containerId': 'e0b17021-6875-424f-b170-216875124f2d', 'meta:sandboxId': 'e0b17021-6875-424f-b170-216875124f2d', 'meta:sandboxType': 'development', 'meta:tenantNamespace': '_exchangesandboxbravo'}\n"
     ]
    }
   ],
   "source": [
    "print(fieldgroup_res)"
   ]
  },
  {
   "cell_type": "markdown",
   "metadata": {
    "application/vnd.databricks.v1+cell": {
     "cellMetadata": {},
     "inputWidgets": {},
     "nuid": "900d6fb7-12c4-4405-832c-3c1009161bc9",
     "showTitle": false,
     "title": ""
    }
   },
   "source": [
    "From this field group ID we can add it to a brand new schema that will be marked for profiles."
   ]
  },
  {
   "cell_type": "code",
   "execution_count": 26,
   "metadata": {
    "application/vnd.databricks.v1+cell": {
     "cellMetadata": {
      "byteLimit": 2048000,
      "rowLimit": 10000
     },
     "inputWidgets": {},
     "nuid": "abcc2406-0b94-4f99-8fae-ca84ec136dc1",
     "showTitle": false,
     "title": ""
    }
   },
   "outputs": [
    {
     "name": "stdout",
     "output_type": "stream",
     "text": [
      "Schema ID: https://ns.adobe.com/exchangesandboxbravo/schemas/b301e4b7423ff9bbfbf6a54dc3a4150b0411bb59932dfdf1\n",
      "Schema Alt ID: _exchangesandboxbravo.schemas.b301e4b7423ff9bbfbf6a54dc3a4150b0411bb59932dfdf1\n"
     ]
    }
   ],
   "source": [
    "schema_res = schema_conn.createProfileSchema(\n",
    "  name=f\"[CMLE][Week4] Schema for user propensity ingestion (created by {username})\",\n",
    "  mixinIds=[\n",
    "    fieldgroup_id\n",
    "  ],\n",
    "  description=\"Schema generated by CMLE for user propensity score ingestion\",\n",
    ")\n",
    "\n",
    "schema_id = schema_res[\"$id\"]\n",
    "schema_alt_id = schema_res[\"meta:altId\"]\n",
    "\n",
    "print(f\"Schema ID: {schema_id}\")\n",
    "print(f\"Schema Alt ID: {schema_alt_id}\")"
   ]
  },
  {
   "cell_type": "markdown",
   "metadata": {
    "application/vnd.databricks.v1+cell": {
     "cellMetadata": {},
     "inputWidgets": {},
     "nuid": "f5a0c413-14c2-474f-a194-eee7221a51a8",
     "showTitle": false,
     "title": ""
    }
   },
   "source": [
    "Because we eventually intend for these scores to end up in the Unified Profile, we need to specify which field of the schema corresponds to an identity so it can resolve the corresponding profile. In our case, the `userid` field is an ECID and we mark it as such."
   ]
  },
  {
   "cell_type": "code",
   "execution_count": 27,
   "metadata": {
    "application/vnd.databricks.v1+cell": {
     "cellMetadata": {
      "byteLimit": 2048000,
      "rowLimit": 10000
     },
     "inputWidgets": {},
     "nuid": "4e90e5ba-b5c0-41ac-af73-bbc9feea3794",
     "showTitle": false,
     "title": ""
    }
   },
   "outputs": [
    {
     "data": {
      "text/plain": [
       "{'@id': '40cf57d831d77e9015656aa0c470822b03c5b3ffb5fc89aa',\n",
       " '@type': 'xdm:descriptorIdentity',\n",
       " 'xdm:sourceSchema': 'https://ns.adobe.com/exchangesandboxbravo/schemas/b301e4b7423ff9bbfbf6a54dc3a4150b0411bb59932dfdf1',\n",
       " 'xdm:sourceVersion': 1,\n",
       " 'xdm:sourceProperty': '/_exchangesandboxbravo/cmle_id',\n",
       " 'imsOrg': 'EFE243245DB9D3DD0A495E80@AdobeOrg',\n",
       " 'version': '1',\n",
       " 'xdm:namespace': 'ECID',\n",
       " 'xdm:property': 'xdm:id',\n",
       " 'xdm:isPrimary': True,\n",
       " 'meta:containerId': 'e0b17021-6875-424f-b170-216875124f2d',\n",
       " 'meta:sandboxId': 'e0b17021-6875-424f-b170-216875124f2d',\n",
       " 'meta:sandboxType': 'development'}"
      ]
     },
     "execution_count": 27,
     "metadata": {},
     "output_type": "execute_result"
    }
   ],
   "source": [
    "identity_type = \"ECID\"\n",
    "descriptor_res = schema_conn.createDescriptor(\n",
    "  descriptorObj = {\n",
    "    \"@type\": \"xdm:descriptorIdentity\",\n",
    "    \"xdm:sourceSchema\": schema_id,\n",
    "    \"xdm:sourceVersion\": 1,\n",
    "    \"xdm:sourceProperty\": f\"/_{tenant_id}/cmle_id\",\n",
    "    \"xdm:namespace\": identity_type,\n",
    "    \"xdm:property\": \"xdm:id\",\n",
    "    \"xdm:isPrimary\": True\n",
    "  }\n",
    ")\n",
    "descriptor_res"
   ]
  },
  {
   "cell_type": "markdown",
   "metadata": {
    "application/vnd.databricks.v1+cell": {
     "cellMetadata": {},
     "inputWidgets": {},
     "nuid": "d860b8cb-9f8b-429f-b673-582bb8d03a73",
     "showTitle": false,
     "title": ""
    }
   },
   "source": [
    "And of course that schema needs to be enabled for Unified Profile consumption, so it can be added to the profile union schema."
   ]
  },
  {
   "cell_type": "code",
   "execution_count": 28,
   "metadata": {
    "application/vnd.databricks.v1+cell": {
     "cellMetadata": {
      "byteLimit": 2048000,
      "rowLimit": 10000
     },
     "inputWidgets": {},
     "nuid": "15a029df-bba6-4c8a-b721-9ba50b115cd0",
     "showTitle": false,
     "title": ""
    }
   },
   "outputs": [
    {
     "data": {
      "text/plain": [
       "{'$id': 'https://ns.adobe.com/exchangesandboxbravo/schemas/b301e4b7423ff9bbfbf6a54dc3a4150b0411bb59932dfdf1',\n",
       " 'meta:altId': '_exchangesandboxbravo.schemas.b301e4b7423ff9bbfbf6a54dc3a4150b0411bb59932dfdf1',\n",
       " 'meta:resourceType': 'schemas',\n",
       " 'version': '1.1',\n",
       " 'title': '[CMLE][Week4] Schema for user propensity ingestion (created by amuiaws)',\n",
       " 'type': 'object',\n",
       " 'description': 'Schema generated by CMLE for user propensity score ingestion',\n",
       " 'allOf': [{'$ref': 'https://ns.adobe.com/xdm/context/profile',\n",
       "   'type': 'object',\n",
       "   'meta:xdmType': 'object'},\n",
       "  {'$ref': 'https://ns.adobe.com/exchangesandboxbravo/mixins/c4fd541a164db4552ea79a4befcd9223fd05029664a5ec29',\n",
       "   'type': 'object',\n",
       "   'meta:xdmType': 'object'}],\n",
       " 'refs': ['https://ns.adobe.com/exchangesandboxbravo/mixins/c4fd541a164db4552ea79a4befcd9223fd05029664a5ec29',\n",
       "  'https://ns.adobe.com/xdm/context/profile'],\n",
       " 'imsOrg': 'EFE243245DB9D3DD0A495E80@AdobeOrg',\n",
       " 'additionalInfo': {'numberOfIdentities': 1,\n",
       "  'numberOfRelationShips': 0,\n",
       "  'classTitle': 'XDM Individual Profile',\n",
       "  'behavior': 'Record',\n",
       "  'hasPrimaryIdentity': 'true',\n",
       "  'primaryIdentityNamespace': 'ECID',\n",
       "  'hasRelationShip': False,\n",
       "  'profileEnabled': True},\n",
       " 'meta:extensible': False,\n",
       " 'meta:abstract': False,\n",
       " 'meta:extends': ['https://ns.adobe.com/exchangesandboxbravo/mixins/c4fd541a164db4552ea79a4befcd9223fd05029664a5ec29',\n",
       "  'https://ns.adobe.com/xdm/common/auditable',\n",
       "  'https://ns.adobe.com/xdm/data/record',\n",
       "  'https://ns.adobe.com/xdm/context/profile'],\n",
       " 'meta:xdmType': 'object',\n",
       " 'meta:registryMetadata': {'repo:createdDate': 1695835833492,\n",
       "  'repo:lastModifiedDate': 1695837853674,\n",
       "  'xdm:createdClientId': '209cce3e4d974b889a253f1ea33b5760',\n",
       "  'xdm:lastModifiedClientId': '209cce3e4d974b889a253f1ea33b5760',\n",
       "  'xdm:createdUserId': '3AC51DB264EF56BD0A495E95@techacct.adobe.com',\n",
       "  'xdm:lastModifiedUserId': '3AC51DB264EF56BD0A495E95@techacct.adobe.com',\n",
       "  'eTag': 'af4b9404a4a77f2ffb17783a68406df39d0c00f5730da5f358d8642d40561673',\n",
       "  'meta:globalLibVersion': '1.43.4'},\n",
       " 'meta:class': 'https://ns.adobe.com/xdm/context/profile',\n",
       " 'meta:containerId': 'e0b17021-6875-424f-b170-216875124f2d',\n",
       " 'meta:sandboxId': 'e0b17021-6875-424f-b170-216875124f2d',\n",
       " 'meta:sandboxType': 'development',\n",
       " 'meta:tenantNamespace': '_exchangesandboxbravo',\n",
       " 'meta:immutableTags': ['union'],\n",
       " 'meta:descriptorStatus': {'result': []}}"
      ]
     },
     "execution_count": 28,
     "metadata": {},
     "output_type": "execute_result"
    }
   ],
   "source": [
    "enable_res = schema_conn.enableSchemaForRealTime(schema_alt_id)\n",
    "enable_res"
   ]
  },
  {
   "cell_type": "markdown",
   "metadata": {
    "application/vnd.databricks.v1+cell": {
     "cellMetadata": {},
     "inputWidgets": {},
     "nuid": "6374ad2a-7df6-4d11-be98-87ee8747a033",
     "showTitle": false,
     "title": ""
    }
   },
   "source": [
    "At that point we're ready to create the dataset that will hold our propensity scores. This dataset is based on our schema we just created and nothing more."
   ]
  },
  {
   "cell_type": "code",
   "execution_count": 29,
   "metadata": {
    "application/vnd.databricks.v1+cell": {
     "cellMetadata": {
      "byteLimit": 2048000,
      "rowLimit": 10000
     },
     "inputWidgets": {},
     "nuid": "782f1db5-964c-4359-8308-4241c0199d54",
     "showTitle": false,
     "title": ""
    }
   },
   "outputs": [
    {
     "data": {
      "text/plain": [
       "'65146eaa232a2f28d2561e69'"
      ]
     },
     "execution_count": 29,
     "metadata": {},
     "output_type": "execute_result"
    }
   ],
   "source": [
    "from aepp import catalog\n",
    "\n",
    "cat_conn = catalog.Catalog()\n",
    "\n",
    "ingestion_dataset_res = cat_conn.createDataSets(\n",
    "  name=f\"[CMLE][Week4] Dataset for user propensity ingestion (created by {username})\",\n",
    "  schemaId=schema_id\n",
    ")\n",
    "\n",
    "ingestion_dataset_id = ingestion_dataset_res[0].split(\"/\")[-1]\n",
    "ingestion_dataset_id"
   ]
  },
  {
   "cell_type": "markdown",
   "metadata": {
    "application/vnd.databricks.v1+cell": {
     "cellMetadata": {},
     "inputWidgets": {},
     "nuid": "6c7157e8-794c-486a-9b24-ff75e167c643",
     "showTitle": false,
     "title": ""
    }
   },
   "source": [
    "And similarly that dataset needs to be enabled for Unified Profile consumption, so that any batch of data written to this dataset is automatically picked up and processed to insert into the individual profiles and create new fragments."
   ]
  },
  {
   "cell_type": "code",
   "execution_count": 30,
   "metadata": {
    "application/vnd.databricks.v1+cell": {
     "cellMetadata": {
      "byteLimit": 2048000,
      "rowLimit": 10000
     },
     "inputWidgets": {},
     "nuid": "ed5d7223-fbe7-43af-9983-8caaed7c6fe6",
     "showTitle": false,
     "title": ""
    }
   },
   "outputs": [
    {
     "data": {
      "text/plain": [
       "['@/dataSets/65146eaa232a2f28d2561e69']"
      ]
     },
     "execution_count": 30,
     "metadata": {},
     "output_type": "execute_result"
    }
   ],
   "source": [
    "# TODO: this is currently failing due to invalid content type, need to fix in aepp, see https://github.com/pitchmuc/aepp/issues/15\n",
    "# for now just enable in the UI...\n",
    "cat_conn.enableDatasetProfile(ingestion_dataset_id)"
   ]
  },
  {
   "cell_type": "markdown",
   "metadata": {
    "application/vnd.databricks.v1+cell": {
     "cellMetadata": {},
     "inputWidgets": {},
     "nuid": "109165ae-6d68-454c-938e-0acfbb697f36",
     "showTitle": false,
     "title": ""
    }
   },
   "source": [
    "You should be able to see your dataset in the UI at the link below, and it should match the new schema created as shown in the following screenshot."
   ]
  },
  {
   "cell_type": "code",
   "execution_count": 31,
   "metadata": {
    "application/vnd.databricks.v1+cell": {
     "cellMetadata": {
      "byteLimit": 2048000,
      "rowLimit": 10000
     },
     "inputWidgets": {},
     "nuid": "2ad9529e-cb3d-4782-8e1b-b996d7baf1a2",
     "showTitle": false,
     "title": ""
    }
   },
   "outputs": [
    {
     "name": "stdout",
     "output_type": "stream",
     "text": [
      "Dataset ID 65146eaa232a2f28d2561e69 available under https://experience.adobe.com/#/@exchangesandboxbravo/sname:amanzonpaymentssandboxae/platform/dataset/browse/65146eaa232a2f28d2561e69\n"
     ]
    }
   ],
   "source": [
    "ingestion_dataset_link = get_ui_link(tenant_id, \"dataset/browse\", ingestion_dataset_id)\n",
    "print(f\"Dataset ID {ingestion_dataset_id} available under {ingestion_dataset_link}\")"
   ]
  },
  {
   "cell_type": "markdown",
   "metadata": {
    "application/vnd.databricks.v1+cell": {
     "cellMetadata": {},
     "inputWidgets": {},
     "nuid": "506adcc5-4f11-4a22-b574-1f2781140b86",
     "showTitle": false,
     "title": ""
    }
   },
   "source": [
    "![Dataset](../media/CMLE-Notebooks-Week4-ScoringDataset.png)"
   ]
  },
  {
   "cell_type": "markdown",
   "metadata": {},
   "source": [
    "With the ingestion dataset defined, let's stage the scored data in S3 to be copied back to Adobe Experience Platform using an ingestion Data Flow  which you'll create in Section 2.2. First, define the write path in S3."
   ]
  },
  {
   "cell_type": "code",
   "execution_count": null,
   "metadata": {},
   "outputs": [],
   "source": [
    "# INTERNAL NOTE - the following cell was brought up from Section 2.3\n",
    "\n",
    "from datetime import datetime\n",
    "\n",
    "scoring_export_time = datetime.utcnow().strftime('%Y%m%d%H%M%S')\n",
    "protocol = \"s3a\"\n",
    "output_path = f\"{protocol}://{s3_bucket_name}/{s3_prefix}/{import_path}/{ingestion_dataset_id}/exportTime={scoring_export_time}/\"\n",
    "output_path"
   ]
  },
  {
   "cell_type": "markdown",
   "metadata": {
    "application/vnd.databricks.v1+cell": {
     "cellMetadata": {},
     "inputWidgets": {},
     "nuid": "00eeec8d-739e-4342-94ff-1ab6ae7926b8",
     "showTitle": false,
     "title": ""
    }
   },
   "source": [
    "Now write the dataframe to the defined output path. The resulting file is written as CSV format and includes the header so column fields can be used for a mapping configuration when creating the ingestion Data Flow."
   ]
  },
  {
   "cell_type": "code",
   "execution_count": null,
   "metadata": {},
   "outputs": [],
   "source": [
    "# INTERNAL NOTE - the following cell was brought up from Section 2.3\n",
    "\n",
    "df_to_ingest \\\n",
    "  .withColumn(\"prediction\", col(\"prediction\").getItem(0)) \\\n",
    "  .write \\\n",
    "  .option(\"header\", True) \\\n",
    "  .format(\"csv\") \\\n",
    "  .save(output_path)"
   ]
  },
  {
   "cell_type": "markdown",
   "metadata": {},
   "source": [
    "Confirm the write to S3 was successful, and store the object filename to be used when creating the ingestion Data Flow."
   ]
  },
  {
   "cell_type": "code",
   "execution_count": null,
   "metadata": {},
   "outputs": [],
   "source": [
    "bucket = s3.Bucket(s3_bucket_name)\n",
    "objects = bucket.objects.filter(\n",
    "    Prefix=f'{s3_prefix}/{import_path}/{ingestion_dataset_id}/exportTime={scoring_export_time}/part',\n",
    "    MaxKeys=1\n",
    ")\n",
    "\n",
    "for obj in objects:\n",
    "    obj = obj\n",
    "\n",
    "print(obj.key)\n",
    "\n",
    "parts = obj.key.split('/')\n",
    "file = parts[-1]  # capture file name\n",
    "\n",
    "print(f'Found written CSV file in S3: {file}')"
   ]
  },
  {
   "cell_type": "markdown",
   "metadata": {
    "application/vnd.databricks.v1+cell": {
     "cellMetadata": {},
     "inputWidgets": {},
     "nuid": "2d2df930-a20a-4d28-93b5-cec402b560d3",
     "showTitle": false,
     "title": ""
    }
   },
   "source": [
    "## 2.2 Setup ingestion data flow"
   ]
  },
  {
   "cell_type": "markdown",
   "metadata": {
    "application/vnd.databricks.v1+cell": {
     "cellMetadata": {},
     "inputWidgets": {},
     "nuid": "43094e80-b29d-4e0c-b79e-3dd8abd729a4",
     "showTitle": false,
     "title": ""
    }
   },
   "source": [
    "Now that all the dataset and schema setup is completed, we're ready to define our Data Flow. The Data Flow defines the contract between the source and destination dataset.\n",
    "\n",
    "For the purposes of this notebook we will be using the [Amazon S3](https://experienceleague.adobe.com/docs/experience-platform/sources/connectors/cloud-storage/s3.html?lang=en) as the source filesystem under which the scoring results will be written. We'll be using that as a delivery mechanism for the featurized data, but this step can be customized to delivery this data to any cloud storage filesystem.\n",
    "\n",
    "To setup the delivery pipeline, we'll be using the [Flow Service for Source](https://experienceleague.adobe.com/docs/experience-platform/sources/api-tutorials/create/cloud-storage/s3.html?lang=en) which will be responsible for picking up the scored data and dump it from the \n",
    "S3. There's a few steps involved:\n",
    "- Creating a **source connection**.\n",
    "- Creating a **target connection**.\n",
    "- Creating a **transformation**.\n",
    "- Creating a **data flow**.\n",
    "\n",
    "For that, again we use `aepp` to abstract all the APIs:"
   ]
  },
  {
   "cell_type": "code",
   "execution_count": null,
   "metadata": {
    "application/vnd.databricks.v1+cell": {
     "cellMetadata": {
      "byteLimit": 2048000,
      "rowLimit": 10000
     },
     "inputWidgets": {},
     "nuid": "d0ca9582-141f-4a60-8c4f-db85777c3252",
     "showTitle": false,
     "title": ""
    }
   },
   "outputs": [],
   "source": [
    "from aepp import flowservice\n",
    "\n",
    "flow_conn = flowservice.FlowService()"
   ]
  },
  {
   "cell_type": "markdown",
   "metadata": {
    "application/vnd.databricks.v1+cell": {
     "cellMetadata": {},
     "inputWidgets": {},
     "nuid": "339f1b21-6518-428c-a8a4-d38768b4d348",
     "showTitle": false,
     "title": ""
    }
   },
   "source": [
    "The **source connection** is responsible for connecting to your cloud storage account (in our case here, the Amazon S3) so that the resulting Data Flow will know from where data needs to be picked up.\n",
    "\n",
    "For reference, here is a list of all the connection specs available for the most popular cloud storage accounts (these IDs are global across every single customer account and sandbox):\n",
    "\n",
    "| Cloud Storage Type    | Connection Spec ID                   | Connection Spec Name\n",
    "|-----------------------|--------------------------------------|----------------------\n",
    "| Amazon S3             | ecadc60c-7455-4d87-84dc-2a0e293d997b | amazon-s3\n",
    "| Azure Blob Storage    | d771e9c1-4f26-40dc-8617-ce58c4b53702 | google-adwords\n",
    "| Azure Data Lake       | b3ba5556-48be-44b7-8b85-ff2b69b46dc4 | adls-gen2\n",
    "| Data Landing Zone     | 26f526f2-58f4-4712-961d-e41bf1ccc0e8 | landing-zone\n",
    "| Google Cloud Storage  | 32e8f412-cdf7-464c-9885-78184cb113fd | google-cloud\n",
    "| SFTP                  | b7bf2577-4520-42c9-bae9-cad01560f7bc | sftp"
   ]
  },
  {
   "cell_type": "code",
   "execution_count": null,
   "metadata": {},
   "outputs": [],
   "source": [
    "import boto3\n",
    "from botocore.exceptions import ValidationError, ClientError\n",
    "cfn = boto3.client('cloudformation')\n",
    "secrets_manager = boto3.client('secretsmanager')\n",
    "try:\n",
    "    # validate cloudformation ID and get outputs\n",
    "    print('Validating CloudFormation ID')\n",
    "    response = cfn.describe_stacks(StackName=cfn_stack_id)\n",
    "    print('Stack found')\n",
    "    outputs = response['Stacks'][0]['Outputs']\n",
    "    for output in outputs:\n",
    "        if output['OutputKey'] == 'DataFlowUserAccessKey':\n",
    "            access_key = output['OutputValue']\n",
    "            print(f'Found access key: {access_key}')\n",
    "        if output['OutputKey'] == 'DataFlowUserSecretKey':\n",
    "            secret_name = output['OutputValue']\n",
    "            print(f'Found secret stored in Secrets Manager: {secret_name}')\n",
    "except ValidationError as e:\n",
    "    print(f'Could not find stack from provided stack ID: {cfn_stack_id}')\n",
    "except ClientError as e:\n",
    "    raise(e)\n",
    "    \n",
    "try:\n",
    "    response = secrets_manager.get_secret_value(SecretId=secret_name)\n",
    "    secret_key = response['SecretString']\n",
    "except ClientError as e:\n",
    "    raise(e)\n",
    "    \n",
    "print(f\"ACCESS: {access_key}\")\n",
    "print(f\"SECRET: {secret_key}\")"
   ]
  },
  {
   "cell_type": "code",
   "execution_count": 189,
   "metadata": {
    "tags": []
   },
   "outputs": [],
   "source": [
    "connection_spec_id = \"ecadc60c-7455-4d87-84dc-2a0e293d997b\"\n",
    "base_res = flow_conn.createConnection(data={\n",
    "        \"name\": f\"[CMLE] [Week4] Base Connection to S3 created by {username}\",\n",
    "        \"auth\": {\n",
    "            \"specName\": \"Access Key\",\n",
    "            \"params\": {\n",
    "                \"s3AccessKey\": access_key,\n",
    "                \"s3SecretKey\": secret_key,\n",
    "                \"bucketName\": s3_bucket_name,\n",
    "                \"folderPath\": s3_prefix\n",
    "            }\n",
    "        },\n",
    "        \"connectionSpec\": {\n",
    "            \"id\": connection_spec_id,\n",
    "            \"version\": \"1.0\"\n",
    "        }\n",
    "    }\n",
    ")"
   ]
  },
  {
   "cell_type": "code",
   "execution_count": 190,
   "metadata": {
    "tags": []
   },
   "outputs": [
    {
     "name": "stdout",
     "output_type": "stream",
     "text": [
      "18f28422-7e8b-410a-8513-bbda3e8fb8a5\n",
      "65146eaa232a2f28d2561e69\n"
     ]
    }
   ],
   "source": [
    "base_connection_id = base_res[\"id\"]\n",
    "print(base_connection_id)\n",
    "print(ingestion_dataset_id)"
   ]
  },
  {
   "cell_type": "code",
   "execution_count": 181,
   "metadata": {
    "tags": []
   },
   "outputs": [
    {
     "name": "stdout",
     "output_type": "stream",
     "text": [
      "https://ns.adobe.com/exchangesandboxbravo/schemas/b301e4b7423ff9bbfbf6a54dc3a4150b0411bb59932dfdf1\n"
     ]
    }
   ],
   "source": [
    "print(schema_id)"
   ]
  },
  {
   "cell_type": "code",
   "execution_count": 192,
   "metadata": {
    "application/vnd.databricks.v1+cell": {
     "cellMetadata": {
      "byteLimit": 2048000,
      "rowLimit": 10000
     },
     "inputWidgets": {},
     "nuid": "a3b934a9-6ea4-4512-acd2-1ef11f7019b0",
     "showTitle": false,
     "title": ""
    }
   },
   "outputs": [
    {
     "data": {
      "text/plain": [
       "'240f9615-8614-4578-af2f-68cc872bf9fd'"
      ]
     },
     "execution_count": 192,
     "metadata": {},
     "output_type": "execute_result"
    }
   ],
   "source": [
    "source_res = flow_conn.createSourceConnection({\n",
    "  \"name\": \"[CMLE][Week4] S3 source connection for propensity scores\",\n",
    "  \"baseConnectionId\": base_connection_id,\n",
    "  \"data\": {\n",
    "      \"format\": \"delimited\"\n",
    "  },\n",
    "  \"params\": {\n",
    "    \"path\": f\"/{s3_bucket_name}/{s3_prefix}/{import_path}/{ingestion_dataset_id}/exportTime={scoring_export_time}/{file}\",\n",
    "    \"type\": \"file\"\n",
    "  },\n",
    "  \"connectionSpec\": {\n",
    "      \"id\": connection_spec_id,\n",
    "      \"version\": \"1.0\"\n",
    "  }\n",
    "})\n",
    "\n",
    "source_connection_id = source_res[\"id\"]\n",
    "source_connection_id"
   ]
  },
  {
   "cell_type": "markdown",
   "metadata": {
    "application/vnd.databricks.v1+cell": {
     "cellMetadata": {},
     "inputWidgets": {},
     "nuid": "92b70e88-71b9-42da-8299-aae8837be628",
     "showTitle": false,
     "title": ""
    }
   },
   "source": [
    "The **target connection** is responsible for connecting to your Adobe Experience Platform dataset so that the resulting Data Flow will know where the data needs to be written. Because we already created our ingestion dataset in the previous section, we can simply tie it to that dataset ID and the corresponding schema."
   ]
  },
  {
   "cell_type": "code",
   "execution_count": 172,
   "metadata": {
    "tags": []
   },
   "outputs": [
    {
     "name": "stdout",
     "output_type": "stream",
     "text": [
      "65146eaa232a2f28d2561e69\n"
     ]
    }
   ],
   "source": [
    "print(ingestion_dataset_id)"
   ]
  },
  {
   "cell_type": "code",
   "execution_count": 193,
   "metadata": {
    "application/vnd.databricks.v1+cell": {
     "cellMetadata": {
      "byteLimit": 2048000,
      "rowLimit": 10000
     },
     "inputWidgets": {},
     "nuid": "0f0f0532-beb9-46aa-9908-7fff63d88bfa",
     "showTitle": false,
     "title": ""
    }
   },
   "outputs": [
    {
     "data": {
      "text/plain": [
       "'1c578ed8-3285-49d8-8ae1-17808df5a72b'"
      ]
     },
     "execution_count": 193,
     "metadata": {},
     "output_type": "execute_result"
    }
   ],
   "source": [
    "target_res = flow_conn.createTargetConnectionDataLake(\n",
    "  name=\"[CMLE][Week4] User Propensity Target Connection\",\n",
    "  datasetId=ingestion_dataset_id,\n",
    "  schemaId=schema_id\n",
    ")\n",
    "\n",
    "target_connection_id = target_res[\"id\"]\n",
    "target_connection_id"
   ]
  },
  {
   "cell_type": "markdown",
   "metadata": {
    "application/vnd.databricks.v1+cell": {
     "cellMetadata": {},
     "inputWidgets": {},
     "nuid": "6c7270e8-1ea9-4a07-bab4-91ff6c1b6212",
     "showTitle": false,
     "title": ""
    }
   },
   "source": [
    "We're still missing one step. If you look back to the previous cells, this is what we have as the schema of our scored dataframe:\n",
    "- `userId`\n",
    "- `prediction`\n",
    "\n",
    "And this is what we have as the schema of our ingestion dataset:\n",
    "- `_$TENANTID.userid`\n",
    "- `_$TENANTID.propensity`\n",
    "\n",
    "Although it may look obvious to us, we still need to let the platform know which fields maps to what. This can be achieved using the [Data Prep service](https://experienceleague.adobe.com/docs/experience-platform/data-prep/home.html) which allows you to specify a set of **transformations** to map one field to another. In our case the transformation is pretty simple, we just need to match the schemas without making any changes, but you can do a lot more extensive transformations using this service if needed."
   ]
  },
  {
   "cell_type": "code",
   "execution_count": 194,
   "metadata": {
    "application/vnd.databricks.v1+cell": {
     "cellMetadata": {
      "byteLimit": 2048000,
      "rowLimit": 10000
     },
     "inputWidgets": {},
     "nuid": "c03d77f0-078f-4f34-9dd7-b99a5f301601",
     "showTitle": false,
     "title": ""
    }
   },
   "outputs": [],
   "source": [
    "from aepp import dataprep\n",
    "\n",
    "dataprep_conn = dataprep.DataPrep()"
   ]
  },
  {
   "cell_type": "code",
   "execution_count": 195,
   "metadata": {
    "application/vnd.databricks.v1+cell": {
     "cellMetadata": {
      "byteLimit": 2048000,
      "rowLimit": 10000
     },
     "inputWidgets": {},
     "nuid": "0859f72c-dcc5-4933-92aa-a3ac21b5677b",
     "showTitle": false,
     "title": ""
    }
   },
   "outputs": [
    {
     "data": {
      "text/plain": [
       "'4217643de91547f79eb584df60f03223'"
      ]
     },
     "execution_count": 195,
     "metadata": {},
     "output_type": "execute_result"
    }
   ],
   "source": [
    "mapping_res = dataprep_conn.createMappingSet(\n",
    "  schemaId=schema_id,\n",
    "  validate=True,\n",
    "  mappingList=[\n",
    "    {\n",
    "      \"sourceType\": \"ATTRIBUTE\",\n",
    "      \"source\": \"prediction\",\n",
    "      \"destination\": f\"_{tenant_id}.propensity\"\n",
    "    },\n",
    "    {\n",
    "      \"sourceType\": \"ATTRIBUTE\",\n",
    "      \"source\": \"userId\",\n",
    "      \"destination\": f\"_{tenant_id}.cmle_id\"\n",
    "    }\n",
    "  ]\n",
    ")\n",
    "\n",
    "mapping_id = mapping_res[\"id\"]\n",
    "mapping_id"
   ]
  },
  {
   "cell_type": "markdown",
   "metadata": {
    "application/vnd.databricks.v1+cell": {
     "cellMetadata": {},
     "inputWidgets": {},
     "nuid": "ea168844-d4f3-46e3-befd-781f65c4b574",
     "showTitle": false,
     "title": ""
    }
   },
   "source": [
    "At that point we have everything we need to create a **Data Flow**. A data flow is the \"recipe\" that describes where the data comes from and where it should end up. We can also specify how often checks happen to find new data, but it cannot be lower than 15 minutes currently for platform stability reasons. A data flow is tied to a flow spec ID which contains the instructions for transfering data in an optimized way between a source and destination.\n",
    "\n",
    "For reference, here is a list of all the flow specs available for the most popular cloud storage accounts (these IDs are global across every single customer account and sandbox):\n",
    "\n",
    "| Cloud Storage Type    | Flow Spec ID                         | Flow Spec Name\n",
    "|-----------------------|--------------------------------------|------------------\n",
    "| Amazon S3             | 9753525b-82c7-4dce-8a9b-5ccfce2b9876 | CloudStorageToAEP\n",
    "| Azure Blob Storage    | 14518937-270c-4525-bdec-c2ba7cce3860 | CRMToAEP\n",
    "| Azure Data Lake       | 9753525b-82c7-4dce-8a9b-5ccfce2b9876 | CloudStorageToAEP\n",
    "| Data Landing Zone     | 9753525b-82c7-4dce-8a9b-5ccfce2b9876 | CloudStorageToAEP\n",
    "| Google Cloud Storage  | 9753525b-82c7-4dce-8a9b-5ccfce2b9876 | CloudStorageToAEP\n",
    "| SFTP                  | 9753525b-82c7-4dce-8a9b-5ccfce2b9876 | CloudStorageToAEP"
   ]
  },
  {
   "cell_type": "code",
   "execution_count": 196,
   "metadata": {
    "application/vnd.databricks.v1+cell": {
     "cellMetadata": {
      "byteLimit": 2048000,
      "rowLimit": 10000
     },
     "inputWidgets": {},
     "nuid": "0ce4d087-2095-4044-aa7d-2f6c5c1b51fb",
     "showTitle": false,
     "title": ""
    }
   },
   "outputs": [
    {
     "data": {
      "text/plain": [
       "'9753525b-82c7-4dce-8a9b-5ccfce2b9876'"
      ]
     },
     "execution_count": 196,
     "metadata": {},
     "output_type": "execute_result"
    }
   ],
   "source": [
    "flow_spec = flow_conn.getFlowSpecs(\"name==CloudStorageToAEP\")\n",
    "flow_spec_id = flow_spec[0][\"id\"]\n",
    "flow_spec_id"
   ]
  },
  {
   "cell_type": "code",
   "execution_count": 197,
   "metadata": {
    "application/vnd.databricks.v1+cell": {
     "cellMetadata": {
      "byteLimit": 2048000,
      "rowLimit": 10000
     },
     "inputWidgets": {},
     "nuid": "efd9dac5-314f-46f4-aee2-54a19db895ca",
     "showTitle": false,
     "title": ""
    }
   },
   "outputs": [
    {
     "data": {
      "text/plain": [
       "'02b51a26-68ae-4ed2-9f6a-f6da70625c49'"
      ]
     },
     "execution_count": 197,
     "metadata": {},
     "output_type": "execute_result"
    }
   ],
   "source": [
    "import time\n",
    "\n",
    "# TODO: cleanup in aepp, first param should not be required\n",
    "flow_res = flow_conn.createFlow(flow_spec_id, obj={\n",
    "  \"name\": f\"[CMLE][Week4] S3 to AEP for user propensity (created by {username})\",\n",
    "  \"flowSpec\": {\n",
    "      \"id\": flow_spec_id,\n",
    "      \"version\": \"1.0\"\n",
    "  },\n",
    "  \"sourceConnectionIds\": [\n",
    "      source_connection_id\n",
    "  ],\n",
    "  \"targetConnectionIds\": [\n",
    "      target_connection_id\n",
    "  ],\n",
    "  \"transformations\": [\n",
    "      {\n",
    "          \"name\": \"Mapping\",\n",
    "          \"params\": {\n",
    "              \"mappingId\": mapping_id,\n",
    "              \"mappingVersion\": 0\n",
    "          }\n",
    "      }\n",
    "  ],\n",
    "  \"scheduleParams\": {\n",
    "      \"startTime\": str(int(time.time())),\n",
    "      \"frequency\": \"minute\",\n",
    "      \"interval\": \"15\"\n",
    "  }\n",
    "})\n",
    "dataflow_id = flow_res[\"id\"]\n",
    "dataflow_id"
   ]
  },
  {
   "cell_type": "markdown",
   "metadata": {},
   "source": [
    "Note that the name of the transformation has to be set to `Mapping` or the job will fail."
   ]
  },
  {
   "cell_type": "markdown",
   "metadata": {
    "application/vnd.databricks.v1+cell": {
     "cellMetadata": {},
     "inputWidgets": {},
     "nuid": "8fc21e3c-3c60-4692-8de3-40c33d1020ca",
     "showTitle": false,
     "title": ""
    }
   },
   "source": [
    "You should be able to see your Data Flow in the UI at the link below, and you may see some executions depending on when you check since it runs on a schedule and will still show the run even if there was no data to process, as shown in the screenshot below."
   ]
  },
  {
   "cell_type": "code",
   "execution_count": 143,
   "metadata": {
    "application/vnd.databricks.v1+cell": {
     "cellMetadata": {
      "byteLimit": 2048000,
      "rowLimit": 10000
     },
     "inputWidgets": {},
     "nuid": "44e869f1-01d7-4d25-b421-25c0e1a1380c",
     "showTitle": false,
     "title": ""
    }
   },
   "outputs": [
    {
     "name": "stdout",
     "output_type": "stream",
     "text": [
      "Data Flow created as ID d6e52117-5d73-470d-9d18-d35d28964f4d available under https://experience.adobe.com/#/@exchangesandboxbravo/sname:amanzonpaymentssandboxae/platform/source/dataflows/d6e52117-5d73-470d-9d18-d35d28964f4d\n"
     ]
    }
   ],
   "source": [
    "dataflow_link = get_ui_link(tenant_id, \"source/dataflows\", dataflow_id)\n",
    "print(f\"Data Flow created as ID {dataflow_id} available under {dataflow_link}\")"
   ]
  },
  {
   "cell_type": "markdown",
   "metadata": {
    "application/vnd.databricks.v1+cell": {
     "cellMetadata": {},
     "inputWidgets": {},
     "nuid": "a355015f-6cf4-4bbe-a638-6dc1fd4a148d",
     "showTitle": false,
     "title": ""
    }
   },
   "source": [
    "![Source Dataflow](../media/CMLE-Notebooks-Week4-Dataflow.png)"
   ]
  },
  {
   "cell_type": "markdown",
   "metadata": {
    "application/vnd.databricks.v1+cell": {
     "cellMetadata": {},
     "inputWidgets": {},
     "nuid": "497720c7-5521-48e7-84c5-7b21b2aa8ad8",
     "showTitle": false,
     "title": ""
    }
   },
   "source": [
    "Note: If you would like to switch to a different cloud storage, you need to update the `flow_spec_id` variable above to the matching value in the table mentioned earlier in this section. You can refer to the name from the table above to find out the ID."
   ]
  },
  {
   "cell_type": "markdown",
   "metadata": {
    "application/vnd.databricks.v1+cell": {
     "cellMetadata": {},
     "inputWidgets": {},
     "nuid": "773f6f7f-5c5d-4e9c-bab3-28e0e40ada5b",
     "showTitle": false,
     "title": ""
    }
   },
   "source": [
    "## 2.3 Ingest the scored users into the Unified Profile"
   ]
  },
  {
   "cell_type": "markdown",
   "metadata": {
    "application/vnd.databricks.v1+cell": {
     "cellMetadata": {},
     "inputWidgets": {},
     "nuid": "639a2e67-d3c0-4d0e-a3c2-6a28f3a61f02",
     "showTitle": false,
     "title": ""
    }
   },
   "source": [
    "Because the Data Flow is executed asynchronously every 15 minutes, it may take a few minutes before the data is ingested in the dataset. We can check the status of the runs below until we can see the run has successfully completed to check some summary statistics."
   ]
  },
  {
   "cell_type": "code",
   "execution_count": null,
   "metadata": {
    "application/vnd.databricks.v1+cell": {
     "cellMetadata": {
      "byteLimit": 2048000,
      "rowLimit": 10000
     },
     "inputWidgets": {},
     "nuid": "67e7facf-d0a9-4329-86ed-2a16af1f729b",
     "showTitle": false,
     "title": ""
    }
   },
   "outputs": [],
   "source": [
    "import time\n",
    "\n",
    "# TODO: handle that more gracefully in aepp\n",
    "finished = False\n",
    "while not finished:\n",
    "  try:\n",
    "      runs = flow_conn.getRuns(prop=f\"flowId=={dataflow_id}\")\n",
    "      for run in runs:\n",
    "          run_id = run[\"id\"]\n",
    "          run_started_at = run[\"metrics\"][\"durationSummary\"][\"startedAtUTC\"]\n",
    "          run_ended_at = run[\"metrics\"][\"durationSummary\"][\"completedAtUTC\"]\n",
    "          run_duration_secs = (run_ended_at - run_started_at) / 1000\n",
    "          run_size_mb = run[\"metrics\"][\"sizeSummary\"][\"outputBytes\"] / 1024. / 1024.\n",
    "          run_num_rows = run[\"metrics\"][\"recordSummary\"][\"outputRecordCount\"]\n",
    "          run_num_files = run[\"metrics\"][\"fileSummary\"][\"outputFileCount\"]\n",
    "          print(f\"Run ID {run_id} completed with: duration={run_duration_secs} secs; size={run_size_mb} MB; num_rows={run_num_rows}; num_files={run_num_files}\")\n",
    "      finished = True\n",
    "  except Exception as e:\n",
    "      print(f\"No runs completed yet for flow {dataflow_id}\")\n",
    "      time.sleep(60)"
   ]
  },
  {
   "cell_type": "markdown",
   "metadata": {
    "application/vnd.databricks.v1+cell": {
     "cellMetadata": {},
     "inputWidgets": {},
     "nuid": "64e45b1d-40dc-484f-9c0a-b81106e07e28",
     "showTitle": false,
     "title": ""
    }
   },
   "source": [
    "Once this is done, you should be able to go back in your dataset at the same link as before and see a batch created successfully in it. You should also notice for that batch that the records ingested will also show up under **Existing Profile Fragments** which means they have been ingested in the Unified Profile successfully."
   ]
  },
  {
   "cell_type": "markdown",
   "metadata": {
    "application/vnd.databricks.v1+cell": {
     "cellMetadata": {},
     "inputWidgets": {},
     "nuid": "d38c2b98-47d1-4211-8cee-6009cbcda197",
     "showTitle": false,
     "title": ""
    }
   },
   "source": [
    "![Ingestion](../media/CMLE-Notebooks-Week4-Ingestion.png)"
   ]
  },
  {
   "cell_type": "markdown",
   "metadata": {
    "application/vnd.databricks.v1+cell": {
     "cellMetadata": {},
     "inputWidgets": {},
     "nuid": "8f64d990-e799-47f2-ad80-8120b727ca77",
     "showTitle": false,
     "title": ""
    }
   },
   "source": [
    "## 2.4 Storing the scoring dataset ID in the configuration"
   ]
  },
  {
   "cell_type": "markdown",
   "metadata": {
    "application/vnd.databricks.v1+cell": {
     "cellMetadata": {},
     "inputWidgets": {},
     "nuid": "048215d6-22b9-4260-9e1a-eea7d3968f74",
     "showTitle": false,
     "title": ""
    }
   },
   "source": [
    "Now that we got everything working, we just need to save the `ingestion_dataset_id` variable in the original configuration file, so we can refer to it in the following weekly assignment. To do that, execute the code below:"
   ]
  },
  {
   "cell_type": "code",
   "execution_count": 73,
   "metadata": {
    "tags": []
   },
   "outputs": [
    {
     "name": "stdout",
     "output_type": "stream",
     "text": [
      "../../conf/config.ini\n",
      "<configparser.ConfigParser object at 0x7fbe965027a0>\n"
     ]
    }
   ],
   "source": [
    "print(config_path)\n",
    "print(config)"
   ]
  },
  {
   "cell_type": "code",
   "execution_count": 71,
   "metadata": {
    "application/vnd.databricks.v1+cell": {
     "cellMetadata": {
      "byteLimit": 2048000,
      "rowLimit": 10000
     },
     "inputWidgets": {},
     "nuid": "af89ab3a-a166-4753-b6ab-121c27e7ba85",
     "showTitle": false,
     "title": ""
    }
   },
   "outputs": [],
   "source": [
    "config.set(\"Platform\", \"scoring_dataset_id\", ingestion_dataset_id)\n",
    "\n",
    "with open(config_path, \"w\") as configfile:\n",
    "    config.write(configfile)"
   ]
  }
 ],
 "metadata": {
  "application/vnd.databricks.v1+notebook": {
   "dashboards": [],
   "language": "python",
   "notebookMetadata": {
    "pythonIndentUnit": 2,
    "widgetLayout": [
     {
      "breakBefore": false,
      "name": "pqsHost",
      "width": 204
     },
     {
      "breakBefore": false,
      "name": "imsOrgId",
      "width": 204
     },
     {
      "breakBefore": false,
      "name": "sandboxName",
      "width": 204
     },
     {
      "breakBefore": false,
      "name": "sandboxId",
      "width": 204
     },
     {
      "breakBefore": false,
      "name": "clientId",
      "width": 204
     },
     {
      "breakBefore": false,
      "name": "clientSecret",
      "width": 204
     },
     {
      "breakBefore": false,
      "name": "privateKeyPath",
      "width": 204
     },
     {
      "breakBefore": false,
      "name": "techAccountId",
      "width": 204
     },
     {
      "breakBefore": false,
      "name": "pqsPort",
      "width": 204
     },
     {
      "breakBefore": false,
      "name": "pqsDB",
      "width": 204
     },
     {
      "breakBefore": false,
      "name": "pqsUser",
      "width": 204
     },
     {
      "breakBefore": false,
      "name": "pqsPass",
      "width": 204
     },
     {
      "breakBefore": false,
      "name": "datasetId",
      "width": 204
     }
    ]
   },
   "notebookName": "Week4Notebook",
   "notebookOrigID": 3680348664249761,
   "widgets": {}
  },
  "availableInstances": [
   {
    "_defaultOrder": 0,
    "_isFastLaunch": true,
    "category": "General purpose",
    "gpuNum": 0,
    "hideHardwareSpecs": false,
    "memoryGiB": 4,
    "name": "ml.t3.medium",
    "vcpuNum": 2
   },
   {
    "_defaultOrder": 1,
    "_isFastLaunch": false,
    "category": "General purpose",
    "gpuNum": 0,
    "hideHardwareSpecs": false,
    "memoryGiB": 8,
    "name": "ml.t3.large",
    "vcpuNum": 2
   },
   {
    "_defaultOrder": 2,
    "_isFastLaunch": false,
    "category": "General purpose",
    "gpuNum": 0,
    "hideHardwareSpecs": false,
    "memoryGiB": 16,
    "name": "ml.t3.xlarge",
    "vcpuNum": 4
   },
   {
    "_defaultOrder": 3,
    "_isFastLaunch": false,
    "category": "General purpose",
    "gpuNum": 0,
    "hideHardwareSpecs": false,
    "memoryGiB": 32,
    "name": "ml.t3.2xlarge",
    "vcpuNum": 8
   },
   {
    "_defaultOrder": 4,
    "_isFastLaunch": true,
    "category": "General purpose",
    "gpuNum": 0,
    "hideHardwareSpecs": false,
    "memoryGiB": 8,
    "name": "ml.m5.large",
    "vcpuNum": 2
   },
   {
    "_defaultOrder": 5,
    "_isFastLaunch": false,
    "category": "General purpose",
    "gpuNum": 0,
    "hideHardwareSpecs": false,
    "memoryGiB": 16,
    "name": "ml.m5.xlarge",
    "vcpuNum": 4
   },
   {
    "_defaultOrder": 6,
    "_isFastLaunch": false,
    "category": "General purpose",
    "gpuNum": 0,
    "hideHardwareSpecs": false,
    "memoryGiB": 32,
    "name": "ml.m5.2xlarge",
    "vcpuNum": 8
   },
   {
    "_defaultOrder": 7,
    "_isFastLaunch": false,
    "category": "General purpose",
    "gpuNum": 0,
    "hideHardwareSpecs": false,
    "memoryGiB": 64,
    "name": "ml.m5.4xlarge",
    "vcpuNum": 16
   },
   {
    "_defaultOrder": 8,
    "_isFastLaunch": false,
    "category": "General purpose",
    "gpuNum": 0,
    "hideHardwareSpecs": false,
    "memoryGiB": 128,
    "name": "ml.m5.8xlarge",
    "vcpuNum": 32
   },
   {
    "_defaultOrder": 9,
    "_isFastLaunch": false,
    "category": "General purpose",
    "gpuNum": 0,
    "hideHardwareSpecs": false,
    "memoryGiB": 192,
    "name": "ml.m5.12xlarge",
    "vcpuNum": 48
   },
   {
    "_defaultOrder": 10,
    "_isFastLaunch": false,
    "category": "General purpose",
    "gpuNum": 0,
    "hideHardwareSpecs": false,
    "memoryGiB": 256,
    "name": "ml.m5.16xlarge",
    "vcpuNum": 64
   },
   {
    "_defaultOrder": 11,
    "_isFastLaunch": false,
    "category": "General purpose",
    "gpuNum": 0,
    "hideHardwareSpecs": false,
    "memoryGiB": 384,
    "name": "ml.m5.24xlarge",
    "vcpuNum": 96
   },
   {
    "_defaultOrder": 12,
    "_isFastLaunch": false,
    "category": "General purpose",
    "gpuNum": 0,
    "hideHardwareSpecs": false,
    "memoryGiB": 8,
    "name": "ml.m5d.large",
    "vcpuNum": 2
   },
   {
    "_defaultOrder": 13,
    "_isFastLaunch": false,
    "category": "General purpose",
    "gpuNum": 0,
    "hideHardwareSpecs": false,
    "memoryGiB": 16,
    "name": "ml.m5d.xlarge",
    "vcpuNum": 4
   },
   {
    "_defaultOrder": 14,
    "_isFastLaunch": false,
    "category": "General purpose",
    "gpuNum": 0,
    "hideHardwareSpecs": false,
    "memoryGiB": 32,
    "name": "ml.m5d.2xlarge",
    "vcpuNum": 8
   },
   {
    "_defaultOrder": 15,
    "_isFastLaunch": false,
    "category": "General purpose",
    "gpuNum": 0,
    "hideHardwareSpecs": false,
    "memoryGiB": 64,
    "name": "ml.m5d.4xlarge",
    "vcpuNum": 16
   },
   {
    "_defaultOrder": 16,
    "_isFastLaunch": false,
    "category": "General purpose",
    "gpuNum": 0,
    "hideHardwareSpecs": false,
    "memoryGiB": 128,
    "name": "ml.m5d.8xlarge",
    "vcpuNum": 32
   },
   {
    "_defaultOrder": 17,
    "_isFastLaunch": false,
    "category": "General purpose",
    "gpuNum": 0,
    "hideHardwareSpecs": false,
    "memoryGiB": 192,
    "name": "ml.m5d.12xlarge",
    "vcpuNum": 48
   },
   {
    "_defaultOrder": 18,
    "_isFastLaunch": false,
    "category": "General purpose",
    "gpuNum": 0,
    "hideHardwareSpecs": false,
    "memoryGiB": 256,
    "name": "ml.m5d.16xlarge",
    "vcpuNum": 64
   },
   {
    "_defaultOrder": 19,
    "_isFastLaunch": false,
    "category": "General purpose",
    "gpuNum": 0,
    "hideHardwareSpecs": false,
    "memoryGiB": 384,
    "name": "ml.m5d.24xlarge",
    "vcpuNum": 96
   },
   {
    "_defaultOrder": 20,
    "_isFastLaunch": false,
    "category": "General purpose",
    "gpuNum": 0,
    "hideHardwareSpecs": true,
    "memoryGiB": 0,
    "name": "ml.geospatial.interactive",
    "supportedImageNames": [
     "sagemaker-geospatial-v1-0"
    ],
    "vcpuNum": 0
   },
   {
    "_defaultOrder": 21,
    "_isFastLaunch": true,
    "category": "Compute optimized",
    "gpuNum": 0,
    "hideHardwareSpecs": false,
    "memoryGiB": 4,
    "name": "ml.c5.large",
    "vcpuNum": 2
   },
   {
    "_defaultOrder": 22,
    "_isFastLaunch": false,
    "category": "Compute optimized",
    "gpuNum": 0,
    "hideHardwareSpecs": false,
    "memoryGiB": 8,
    "name": "ml.c5.xlarge",
    "vcpuNum": 4
   },
   {
    "_defaultOrder": 23,
    "_isFastLaunch": false,
    "category": "Compute optimized",
    "gpuNum": 0,
    "hideHardwareSpecs": false,
    "memoryGiB": 16,
    "name": "ml.c5.2xlarge",
    "vcpuNum": 8
   },
   {
    "_defaultOrder": 24,
    "_isFastLaunch": false,
    "category": "Compute optimized",
    "gpuNum": 0,
    "hideHardwareSpecs": false,
    "memoryGiB": 32,
    "name": "ml.c5.4xlarge",
    "vcpuNum": 16
   },
   {
    "_defaultOrder": 25,
    "_isFastLaunch": false,
    "category": "Compute optimized",
    "gpuNum": 0,
    "hideHardwareSpecs": false,
    "memoryGiB": 72,
    "name": "ml.c5.9xlarge",
    "vcpuNum": 36
   },
   {
    "_defaultOrder": 26,
    "_isFastLaunch": false,
    "category": "Compute optimized",
    "gpuNum": 0,
    "hideHardwareSpecs": false,
    "memoryGiB": 96,
    "name": "ml.c5.12xlarge",
    "vcpuNum": 48
   },
   {
    "_defaultOrder": 27,
    "_isFastLaunch": false,
    "category": "Compute optimized",
    "gpuNum": 0,
    "hideHardwareSpecs": false,
    "memoryGiB": 144,
    "name": "ml.c5.18xlarge",
    "vcpuNum": 72
   },
   {
    "_defaultOrder": 28,
    "_isFastLaunch": false,
    "category": "Compute optimized",
    "gpuNum": 0,
    "hideHardwareSpecs": false,
    "memoryGiB": 192,
    "name": "ml.c5.24xlarge",
    "vcpuNum": 96
   },
   {
    "_defaultOrder": 29,
    "_isFastLaunch": true,
    "category": "Accelerated computing",
    "gpuNum": 1,
    "hideHardwareSpecs": false,
    "memoryGiB": 16,
    "name": "ml.g4dn.xlarge",
    "vcpuNum": 4
   },
   {
    "_defaultOrder": 30,
    "_isFastLaunch": false,
    "category": "Accelerated computing",
    "gpuNum": 1,
    "hideHardwareSpecs": false,
    "memoryGiB": 32,
    "name": "ml.g4dn.2xlarge",
    "vcpuNum": 8
   },
   {
    "_defaultOrder": 31,
    "_isFastLaunch": false,
    "category": "Accelerated computing",
    "gpuNum": 1,
    "hideHardwareSpecs": false,
    "memoryGiB": 64,
    "name": "ml.g4dn.4xlarge",
    "vcpuNum": 16
   },
   {
    "_defaultOrder": 32,
    "_isFastLaunch": false,
    "category": "Accelerated computing",
    "gpuNum": 1,
    "hideHardwareSpecs": false,
    "memoryGiB": 128,
    "name": "ml.g4dn.8xlarge",
    "vcpuNum": 32
   },
   {
    "_defaultOrder": 33,
    "_isFastLaunch": false,
    "category": "Accelerated computing",
    "gpuNum": 4,
    "hideHardwareSpecs": false,
    "memoryGiB": 192,
    "name": "ml.g4dn.12xlarge",
    "vcpuNum": 48
   },
   {
    "_defaultOrder": 34,
    "_isFastLaunch": false,
    "category": "Accelerated computing",
    "gpuNum": 1,
    "hideHardwareSpecs": false,
    "memoryGiB": 256,
    "name": "ml.g4dn.16xlarge",
    "vcpuNum": 64
   },
   {
    "_defaultOrder": 35,
    "_isFastLaunch": false,
    "category": "Accelerated computing",
    "gpuNum": 1,
    "hideHardwareSpecs": false,
    "memoryGiB": 61,
    "name": "ml.p3.2xlarge",
    "vcpuNum": 8
   },
   {
    "_defaultOrder": 36,
    "_isFastLaunch": false,
    "category": "Accelerated computing",
    "gpuNum": 4,
    "hideHardwareSpecs": false,
    "memoryGiB": 244,
    "name": "ml.p3.8xlarge",
    "vcpuNum": 32
   },
   {
    "_defaultOrder": 37,
    "_isFastLaunch": false,
    "category": "Accelerated computing",
    "gpuNum": 8,
    "hideHardwareSpecs": false,
    "memoryGiB": 488,
    "name": "ml.p3.16xlarge",
    "vcpuNum": 64
   },
   {
    "_defaultOrder": 38,
    "_isFastLaunch": false,
    "category": "Accelerated computing",
    "gpuNum": 8,
    "hideHardwareSpecs": false,
    "memoryGiB": 768,
    "name": "ml.p3dn.24xlarge",
    "vcpuNum": 96
   },
   {
    "_defaultOrder": 39,
    "_isFastLaunch": false,
    "category": "Memory Optimized",
    "gpuNum": 0,
    "hideHardwareSpecs": false,
    "memoryGiB": 16,
    "name": "ml.r5.large",
    "vcpuNum": 2
   },
   {
    "_defaultOrder": 40,
    "_isFastLaunch": false,
    "category": "Memory Optimized",
    "gpuNum": 0,
    "hideHardwareSpecs": false,
    "memoryGiB": 32,
    "name": "ml.r5.xlarge",
    "vcpuNum": 4
   },
   {
    "_defaultOrder": 41,
    "_isFastLaunch": false,
    "category": "Memory Optimized",
    "gpuNum": 0,
    "hideHardwareSpecs": false,
    "memoryGiB": 64,
    "name": "ml.r5.2xlarge",
    "vcpuNum": 8
   },
   {
    "_defaultOrder": 42,
    "_isFastLaunch": false,
    "category": "Memory Optimized",
    "gpuNum": 0,
    "hideHardwareSpecs": false,
    "memoryGiB": 128,
    "name": "ml.r5.4xlarge",
    "vcpuNum": 16
   },
   {
    "_defaultOrder": 43,
    "_isFastLaunch": false,
    "category": "Memory Optimized",
    "gpuNum": 0,
    "hideHardwareSpecs": false,
    "memoryGiB": 256,
    "name": "ml.r5.8xlarge",
    "vcpuNum": 32
   },
   {
    "_defaultOrder": 44,
    "_isFastLaunch": false,
    "category": "Memory Optimized",
    "gpuNum": 0,
    "hideHardwareSpecs": false,
    "memoryGiB": 384,
    "name": "ml.r5.12xlarge",
    "vcpuNum": 48
   },
   {
    "_defaultOrder": 45,
    "_isFastLaunch": false,
    "category": "Memory Optimized",
    "gpuNum": 0,
    "hideHardwareSpecs": false,
    "memoryGiB": 512,
    "name": "ml.r5.16xlarge",
    "vcpuNum": 64
   },
   {
    "_defaultOrder": 46,
    "_isFastLaunch": false,
    "category": "Memory Optimized",
    "gpuNum": 0,
    "hideHardwareSpecs": false,
    "memoryGiB": 768,
    "name": "ml.r5.24xlarge",
    "vcpuNum": 96
   },
   {
    "_defaultOrder": 47,
    "_isFastLaunch": false,
    "category": "Accelerated computing",
    "gpuNum": 1,
    "hideHardwareSpecs": false,
    "memoryGiB": 16,
    "name": "ml.g5.xlarge",
    "vcpuNum": 4
   },
   {
    "_defaultOrder": 48,
    "_isFastLaunch": false,
    "category": "Accelerated computing",
    "gpuNum": 1,
    "hideHardwareSpecs": false,
    "memoryGiB": 32,
    "name": "ml.g5.2xlarge",
    "vcpuNum": 8
   },
   {
    "_defaultOrder": 49,
    "_isFastLaunch": false,
    "category": "Accelerated computing",
    "gpuNum": 1,
    "hideHardwareSpecs": false,
    "memoryGiB": 64,
    "name": "ml.g5.4xlarge",
    "vcpuNum": 16
   },
   {
    "_defaultOrder": 50,
    "_isFastLaunch": false,
    "category": "Accelerated computing",
    "gpuNum": 1,
    "hideHardwareSpecs": false,
    "memoryGiB": 128,
    "name": "ml.g5.8xlarge",
    "vcpuNum": 32
   },
   {
    "_defaultOrder": 51,
    "_isFastLaunch": false,
    "category": "Accelerated computing",
    "gpuNum": 1,
    "hideHardwareSpecs": false,
    "memoryGiB": 256,
    "name": "ml.g5.16xlarge",
    "vcpuNum": 64
   },
   {
    "_defaultOrder": 52,
    "_isFastLaunch": false,
    "category": "Accelerated computing",
    "gpuNum": 4,
    "hideHardwareSpecs": false,
    "memoryGiB": 192,
    "name": "ml.g5.12xlarge",
    "vcpuNum": 48
   },
   {
    "_defaultOrder": 53,
    "_isFastLaunch": false,
    "category": "Accelerated computing",
    "gpuNum": 4,
    "hideHardwareSpecs": false,
    "memoryGiB": 384,
    "name": "ml.g5.24xlarge",
    "vcpuNum": 96
   },
   {
    "_defaultOrder": 54,
    "_isFastLaunch": false,
    "category": "Accelerated computing",
    "gpuNum": 8,
    "hideHardwareSpecs": false,
    "memoryGiB": 768,
    "name": "ml.g5.48xlarge",
    "vcpuNum": 192
   },
   {
    "_defaultOrder": 55,
    "_isFastLaunch": false,
    "category": "Accelerated computing",
    "gpuNum": 8,
    "hideHardwareSpecs": false,
    "memoryGiB": 1152,
    "name": "ml.p4d.24xlarge",
    "vcpuNum": 96
   },
   {
    "_defaultOrder": 56,
    "_isFastLaunch": false,
    "category": "Accelerated computing",
    "gpuNum": 8,
    "hideHardwareSpecs": false,
    "memoryGiB": 1152,
    "name": "ml.p4de.24xlarge",
    "vcpuNum": 96
   }
  ],
  "instance_type": "ml.m5.xlarge",
  "kernelspec": {
   "display_name": "Python 3 (ipykernel)",
   "language": "python",
   "name": "python3"
  },
  "language_info": {
   "codemirror_mode": {
    "name": "ipython",
    "version": 3
   },
   "file_extension": ".py",
   "mimetype": "text/x-python",
   "name": "python",
   "nbconvert_exporter": "python",
   "pygments_lexer": "ipython3",
   "version": "3.11.6"
  }
 },
 "nbformat": 4,
 "nbformat_minor": 4
}
