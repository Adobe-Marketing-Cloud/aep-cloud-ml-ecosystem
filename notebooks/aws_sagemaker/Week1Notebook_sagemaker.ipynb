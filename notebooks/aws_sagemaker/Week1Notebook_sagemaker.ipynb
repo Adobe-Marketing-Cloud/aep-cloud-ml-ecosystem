{
 "cells": [
  {
   "cell_type": "markdown",
   "metadata": {},
   "source": [
    "This notebook generates sample data that can be used to illustrate the Cloud ML Ecosystem workflow for using AEP Data for machine learning use cases with external ML tools and platforms. We will generate sample data and perform Data Exploration with the following steps:\n",
    "\n",
    "- Setup\n",
    "- Create Experience Event Schema and Dataset\n",
    "- Create Profile Schema and Dataset\n",
    "- Statistical simulation of Profiles and Experience Events\n",
    "- Ingest Synthetic data into AEP dataset\n",
    "- Data Exploration for Propensity Models\n",
    "- Analyzing the data\n",
    "\n"
   ]
  },
  {
   "cell_type": "markdown",
   "metadata": {},
   "source": [
    "Setup\n",
    "\n",
    "Before we run anything, make sure to install the following required libraries for this notebook. They are all publicly available libraries and the latest version should work fine."
   ]
  },
  {
   "cell_type": "code",
   "execution_count": 54,
   "metadata": {
    "tags": []
   },
   "outputs": [
    {
     "name": "stdout",
     "output_type": "stream",
     "text": [
      "Requirement already satisfied: mmh3 in /opt/conda/lib/python3.10/site-packages (4.0.1)\n",
      "\u001b[33mWARNING: Running pip as the 'root' user can result in broken permissions and conflicting behaviour with the system package manager. It is recommended to use a virtual environment instead: https://pip.pypa.io/warnings/venv\u001b[0m\u001b[33m\n",
      "\u001b[0mNote: you may need to restart the kernel to use updated packages.\n",
      "Requirement already satisfied: rstr in /opt/conda/lib/python3.10/site-packages (3.2.1)\n",
      "\u001b[33mWARNING: Running pip as the 'root' user can result in broken permissions and conflicting behaviour with the system package manager. It is recommended to use a virtual environment instead: https://pip.pypa.io/warnings/venv\u001b[0m\u001b[33m\n",
      "\u001b[0mNote: you may need to restart the kernel to use updated packages.\n",
      "Requirement already satisfied: aepp in /opt/conda/lib/python3.10/site-packages (0.3.1.post4)\n",
      "Requirement already satisfied: pandas in /opt/conda/lib/python3.10/site-packages (from aepp) (1.4.4)\n",
      "Requirement already satisfied: requests in /opt/conda/lib/python3.10/site-packages (from aepp) (2.31.0)\n",
      "Requirement already satisfied: PyJWT in /opt/conda/lib/python3.10/site-packages (from aepp) (2.8.0)\n",
      "Requirement already satisfied: pathlib2 in /opt/conda/lib/python3.10/site-packages (from aepp) (2.3.7.post1)\n",
      "Requirement already satisfied: pathlib in /opt/conda/lib/python3.10/site-packages (from aepp) (1.0.1)\n",
      "Requirement already satisfied: tenacity in /opt/conda/lib/python3.10/site-packages (from aepp) (8.0.1)\n",
      "Requirement already satisfied: python-dateutil>=2.8.1 in /opt/conda/lib/python3.10/site-packages (from pandas->aepp) (2.8.2)\n",
      "Requirement already satisfied: pytz>=2020.1 in /opt/conda/lib/python3.10/site-packages (from pandas->aepp) (2022.1)\n",
      "Requirement already satisfied: numpy>=1.21.0 in /opt/conda/lib/python3.10/site-packages (from pandas->aepp) (1.25.1)\n",
      "Requirement already satisfied: six in /opt/conda/lib/python3.10/site-packages (from pathlib2->aepp) (1.16.0)\n",
      "Requirement already satisfied: cryptography>=3.4.0 in /opt/conda/lib/python3.10/site-packages (from PyJWT->aepp) (41.0.2)\n",
      "Requirement already satisfied: charset-normalizer<4,>=2 in /opt/conda/lib/python3.10/site-packages (from requests->aepp) (2.0.4)\n",
      "Requirement already satisfied: idna<4,>=2.5 in /opt/conda/lib/python3.10/site-packages (from requests->aepp) (3.3)\n",
      "Requirement already satisfied: urllib3<3,>=1.21.1 in /opt/conda/lib/python3.10/site-packages (from requests->aepp) (2.0.4)\n",
      "Requirement already satisfied: certifi>=2017.4.17 in /opt/conda/lib/python3.10/site-packages (from requests->aepp) (2023.7.22)\n",
      "Requirement already satisfied: cffi>=1.12 in /opt/conda/lib/python3.10/site-packages (from cryptography>=3.4.0->PyJWT->aepp) (1.15.1)\n",
      "Requirement already satisfied: pycparser in /opt/conda/lib/python3.10/site-packages (from cffi>=1.12->cryptography>=3.4.0->PyJWT->aepp) (2.21)\n",
      "\u001b[33mWARNING: Running pip as the 'root' user can result in broken permissions and conflicting behaviour with the system package manager. It is recommended to use a virtual environment instead: https://pip.pypa.io/warnings/venv\u001b[0m\u001b[33m\n",
      "\u001b[0mNote: you may need to restart the kernel to use updated packages.\n",
      "Requirement already satisfied: pygresql in /opt/conda/lib/python3.10/site-packages (5.2.5)\n",
      "\u001b[33mWARNING: Running pip as the 'root' user can result in broken permissions and conflicting behaviour with the system package manager. It is recommended to use a virtual environment instead: https://pip.pypa.io/warnings/venv\u001b[0m\u001b[33m\n",
      "\u001b[0mNote: you may need to restart the kernel to use updated packages.\n",
      "Requirement already satisfied: mimesis in /opt/conda/lib/python3.10/site-packages (11.1.0)\n",
      "\u001b[33mWARNING: Running pip as the 'root' user can result in broken permissions and conflicting behaviour with the system package manager. It is recommended to use a virtual environment instead: https://pip.pypa.io/warnings/venv\u001b[0m\u001b[33m\n",
      "\u001b[0mNote: you may need to restart the kernel to use updated packages.\n"
     ]
    }
   ],
   "source": [
    "%pip install mmh3\n",
    "%pip install rstr\n",
    "%pip install aepp\n",
    "%pip install pygresql==5.2.5\n",
    "%pip install mimesis"
   ]
  },
  {
   "cell_type": "markdown",
   "metadata": {},
   "source": [
    "This notebook requires some configuration data to properly authenticate to your Adobe Experience Platform instance. You should be able to find all the values required above by following the Setup section of the **README**.\n",
    "\n",
    "The next cell will be looking for your configuration file under your **ADOBE_HOME** path to fetch the values used throughout this notebook. See more details in the Setup section of the **README** to understand how to create your configuration file."
   ]
  },
  {
   "cell_type": "code",
   "execution_count": 55,
   "metadata": {
    "tags": []
   },
   "outputs": [],
   "source": [
    "import os\n",
    "from configparser import ConfigParser\n",
    "import aepp\n",
    "\n",
    "os.environ[\"ADOBE_HOME\"] = \"../../\"\n",
    "\n",
    "if \"ADOBE_HOME\" not in os.environ:\n",
    "    raise Exception(\"ADOBE_HOME environment variable needs to be set.\")\n",
    "\n",
    "config = ConfigParser()\n",
    "config_file = \"config.ini\"\n",
    "config_path = os.path.join(os.environ[\"ADOBE_HOME\"], \"conf\", config_file)\n",
    "\n",
    "if not os.path.exists(config_path):\n",
    "    raise Exception(f\"Looking for configuration under {config_path} but config not found, please verify path\")\n",
    "\n",
    "config.read(config_path)\n",
    "\n",
    "aepp.configure(\n",
    "  org_id=config.get(\"Platform\", \"ims_org_id\"),\n",
    "  tech_id=config.get(\"Authentication\", \"tech_acct_id\"), \n",
    "  secret=config.get(\"Authentication\", \"client_secret\"),\n",
    "  scopes=config.get(\"Authentication\", \"scopes\"),\n",
    "  client_id=config.get(\"Authentication\", \"client_id\"),\n",
    "  environment=config.get(\"Platform\", \"environment\"),\n",
    "  sandbox=config.get(\"Platform\", \"sandbox_name\")\n",
    ")"
   ]
  },
  {
   "cell_type": "markdown",
   "metadata": {},
   "source": [
    "To ensure uniqueness of resources created as part of this notebook, we are using your local username to include in each of the resource titles to avoid conflicts."
   ]
  },
  {
   "cell_type": "code",
   "execution_count": 56,
   "metadata": {
    "tags": []
   },
   "outputs": [],
   "source": [
    "import re\n",
    "username = 'amuiaws'\n",
    "unique_id = s = re.sub(\"[^0-9a-zA-Z]+\", \"_\", username)"
   ]
  },
  {
   "cell_type": "markdown",
   "metadata": {},
   "source": [
    "Function to generate link to resource in the UI:"
   ]
  },
  {
   "cell_type": "code",
   "execution_count": 57,
   "metadata": {
    "tags": []
   },
   "outputs": [],
   "source": [
    "def get_ui_link(tenant_id, resource_type, resource_id):\n",
    "    environment = config.get(\"Platform\", \"environment\")\n",
    "    sandbox_name = config.get(\"Platform\", \"sandbox_name\")\n",
    "    if environment == \"prod\":\n",
    "        prefix = f\"https://experience.adobe.com\"\n",
    "    else:\n",
    "        prefix = f\"https://experience-{environment}.adobe.com\"\n",
    "    return f\"{prefix}/#/@{tenant_id}/sname:{sandbox_name}/platform/{resource_type}/{resource_id}\""
   ]
  },
  {
   "cell_type": "markdown",
   "metadata": {},
   "source": [
    "# 1. Create Experience Event schema and dataset\n",
    "\n",
    "We will now create the schema to support our synthetic data. We need a few fields which will be included in the synthetic event data:\n",
    "- Direct Marketing information\n",
    "- Web details"
   ]
  },
  {
   "cell_type": "markdown",
   "metadata": {},
   "source": [
    "## 1.1 Create connection to XDM Schema Registry"
   ]
  },
  {
   "cell_type": "code",
   "execution_count": 58,
   "metadata": {
    "tags": []
   },
   "outputs": [
    {
     "data": {
      "text/plain": [
       "'exchangesandboxbravo'"
      ]
     },
     "execution_count": 58,
     "metadata": {},
     "output_type": "execute_result"
    }
   ],
   "source": [
    "from aepp import schema\n",
    "schema_conn = schema.Schema()\n",
    "schema_conn.sandbox\n",
    "tenant_id = schema_conn.getTenantId()\n",
    "tenant_id"
   ]
  },
  {
   "cell_type": "markdown",
   "metadata": {},
   "source": [
    "## Create User ID field group for Experience Event Schema\n",
    "\n",
    "We need to create a custom field group with a `cmle_id` field to go in the experience event schema. Other schema fields will come from standard field field groups we will include when creating the schema.\n",
    "\n",
    "First we'll define some utility functions to gracefully handle cases where the CMLE User ID field group has already been created:"
   ]
  },
  {
   "cell_type": "code",
   "execution_count": 59,
   "metadata": {
    "tags": []
   },
   "outputs": [],
   "source": [
    "def getFieldGroupbyTitle(schema_conn: schema.Schema, title: str):\n",
    "    fieldgroups = schema_conn.getFieldGroups()\n",
    "    match = list(filter(lambda d: d['title'] == title, fieldgroups))\n",
    "    if len(match) == 1:\n",
    "        return match[0]\n",
    "    else:\n",
    "        return None"
   ]
  },
  {
   "cell_type": "code",
   "execution_count": 60,
   "metadata": {
    "tags": []
   },
   "outputs": [],
   "source": [
    "def createFieldGroupifnotExists(schema_conn: schema.Schema, title: str, data: dict):\n",
    "    existing = getFieldGroupbyTitle(schema_conn, title)\n",
    "    if existing:\n",
    "        print(f\"'{title}' already exists, retrieving existing field group\")\n",
    "        return existing\n",
    "    else:\n",
    "        return schema_conn.createFieldGroup(data)"
   ]
  },
  {
   "cell_type": "markdown",
   "metadata": {},
   "source": [
    "Create the User ID field group (or retrieve the field group ID if it already exists):"
   ]
  },
  {
   "cell_type": "code",
   "execution_count": 61,
   "metadata": {
    "tags": []
   },
   "outputs": [],
   "source": [
    "fieldgroup_title = f\"[CMLE Synthetic Data] Exp Event User ID (created by {username})\"\n",
    "fieldgroup_data = {\n",
    "  \"type\": \"object\",\n",
    "\t\"title\": fieldgroup_title,\n",
    "\t\"description\": \"This field group is used to identify the user to whom an experience event belongs.\",\n",
    "\t\"allOf\": [{\n",
    "\t\t\"$ref\": \"#/definitions/customFields\"\n",
    "\t}],\n",
    "\t\"meta:containerId\": \"tenant\",\n",
    "\t\"meta:resourceType\": \"mixins\",\n",
    "\t\"meta:xdmType\": \"object\",\n",
    "\t\"definitions\": {\n",
    "      \"customFields\": {\n",
    "        \"type\": \"object\",\n",
    "        \"properties\": {\n",
    "          f\"_{tenant_id}\": {\n",
    "            \"type\": \"object\",\n",
    "            \"properties\": {\n",
    "              \"cmle_id\": {\n",
    "                \"title\": \"CMLE User ID\",\n",
    "                \"description\": \"Person identifier for CMLE synthetic event data\",\n",
    "                \"type\": \"string\"\n",
    "              }\n",
    "            }\n",
    "          }\n",
    "        }\n",
    "      }\n",
    "\t},\n",
    "\t\"meta:intendedToExtend\": [\"https://ns.adobe.com/xdm/context/experienceevent\"]\n",
    "}"
   ]
  },
  {
   "cell_type": "code",
   "execution_count": 62,
   "metadata": {
    "tags": []
   },
   "outputs": [
    {
     "name": "stdout",
     "output_type": "stream",
     "text": [
      "User ID field group ID: https://ns.adobe.com/exchangesandboxbravo/mixins/65fb685dbdbf67597dd4deb8b748e5a6264477a2d30cb7f\n",
      "View field group in UI: https://experience.adobe.com/#/@exchangesandboxbravo/sname:amanzonpaymentssandboxae/platform/schema/mixin/browse/https%3A%2F%2Fns.adobe.com%2Fexchangesandboxbravo%2Fmixins%2F65fb685dbdbf67597dd4deb8b748e5a6264477a2d30cb7f\n"
     ]
    }
   ],
   "source": [
    "fieldgroup_res = createFieldGroupifnotExists(schema_conn, fieldgroup_title, fieldgroup_data)\n",
    "fieldgroup_id = fieldgroup_res['$id']\n",
    "print(f\"User ID field group ID: {fieldgroup_id}\")\n",
    "\n",
    "# Get link to field group in AEP UI\n",
    "import urllib.parse\n",
    "fieldgroup_link = get_ui_link(tenant_id, \"schema/mixin/browse\", urllib.parse.quote(fieldgroup_id, safe=\"a\"))\n",
    "print(f\"View field group in UI: {fieldgroup_link}\")"
   ]
  },
  {
   "cell_type": "markdown",
   "metadata": {},
   "source": [
    "## 1.2 Compose Experience Event schema\n",
    "\n",
    "Now we'll create the experience event schema from our custom field group and the following standard field groups:\n",
    "- Direct Marketing Details\n",
    "- Web Details\n",
    "\n",
    "First we'll define some utility functions to gracefully handle cases where the Experience Event schema has already been created:"
   ]
  },
  {
   "cell_type": "code",
   "execution_count": 63,
   "metadata": {
    "tags": []
   },
   "outputs": [],
   "source": [
    "def getSchemabyTitle(schema_conn: schema.Schema, title: str):\n",
    "    schemas = schema_conn.getSchemas()\n",
    "    # Handle case where no schemas have been created\n",
    "    if 'results' in schemas: \n",
    "        return None\n",
    "    # Filter schemas list for matching title\n",
    "    match = list(filter(lambda d: d['title'] == title, schemas))\n",
    "    # XDM schema titles must be unique, so 'match' will have exactly 1 element if a schema\n",
    "    # with the same title already exists\n",
    "    if len(match) == 1:\n",
    "        return match[0]\n",
    "    else:\n",
    "        return None"
   ]
  },
  {
   "cell_type": "code",
   "execution_count": 64,
   "metadata": {
    "tags": []
   },
   "outputs": [],
   "source": [
    "def createSchemaifnotExists(schema_conn: schema.Schema, title: str, fieldGroups: list[str], description: str = \"\", type: str = \"event\"):\n",
    "    existing = getSchemabyTitle(schema_conn, title)\n",
    "    if existing:\n",
    "        print(f\"'{title}' already exists, retrieving existing schema\")\n",
    "        return existing\n",
    "    else:\n",
    "        if type == \"event\":\n",
    "            return schema_conn.createExperienceEventSchema(\n",
    "                name=title,\n",
    "                fieldGroupIds=fieldGroups,\n",
    "                description=description\n",
    "            )\n",
    "        elif type ==\"profile\":\n",
    "            return schema_conn.createProfileSchema(\n",
    "                name=title,\n",
    "                fieldGroupIds=fieldGroups,\n",
    "                description=description\n",
    "            )\n",
    "        else:\n",
    "            raise AttributeError('\"type\" must be \"event\" (default) or \"profile\"')\n"
   ]
  },
  {
   "cell_type": "markdown",
   "metadata": {},
   "source": [
    "Create the Experience Event schema (or retrieve the ID and Alt ID if the schema already exists):"
   ]
  },
  {
   "cell_type": "code",
   "execution_count": 65,
   "metadata": {
    "tags": []
   },
   "outputs": [],
   "source": [
    "schema_ee_title = f\"[CMLE Synthetic Data] Experience Event schema (created by {username})\"\n",
    "schema_ee_fgs = [\n",
    "    fieldgroup_id,\n",
    "    \"https://ns.adobe.com/xdm/context/experienceevent-directmarketing\",\n",
    "    \"https://ns.adobe.com/xdm/context/experienceevent-web\"\n",
    "]\n",
    "schema_ee_desc = \"Profile Schema generated by CMLE for synthetic events\""
   ]
  },
  {
   "cell_type": "code",
   "execution_count": 66,
   "metadata": {
    "tags": []
   },
   "outputs": [
    {
     "name": "stdout",
     "output_type": "stream",
     "text": [
      "EE Schema ID: https://ns.adobe.com/exchangesandboxbravo/schemas/1bd309c04dc83e2fa319da48ed4c3e7a19884ab092bee5d4\n",
      "EE Schema Alt ID: _exchangesandboxbravo.schemas.1bd309c04dc83e2fa319da48ed4c3e7a19884ab092bee5d4\n",
      "View EE schema in UI: https://experience.adobe.com/#/@exchangesandboxbravo/sname:amanzonpaymentssandboxae/platform/schema/mixin/browse/https%3A%2F%2Fns.adobe.com%2Fexchangesandboxbravo%2Fschemas%2F1bd309c04dc83e2fa319da48ed4c3e7a19884ab092bee5d4\n"
     ]
    }
   ],
   "source": [
    "schema_ee_res = createSchemaifnotExists(\n",
    "    schema_conn=schema_conn,\n",
    "    title=schema_ee_title,\n",
    "    fieldGroups=schema_ee_fgs,\n",
    "    description=schema_ee_desc\n",
    ")\n",
    "schema_ee_id = schema_ee_res['$id']\n",
    "schema_ee_altId = schema_ee_res[\"meta:altId\"]\n",
    "print(f\"EE Schema ID: {schema_ee_id}\")\n",
    "print(f\"EE Schema Alt ID: {schema_ee_altId}\")\n",
    "\n",
    "schema_ee_link = get_ui_link(tenant_id, \"schema/mixin/browse\", urllib.parse.quote(schema_ee_id, safe=\"a\"))\n",
    "print(f\"View EE schema in UI: {schema_ee_link}\")"
   ]
  },
  {
   "cell_type": "markdown",
   "metadata": {},
   "source": [
    "Set \"cmle_id\" as the primary ID for the schema with ECID as the namespace"
   ]
  },
  {
   "cell_type": "code",
   "execution_count": 67,
   "metadata": {
    "tags": []
   },
   "outputs": [
    {
     "data": {
      "text/plain": [
       "{'@id': '906eeff904a6de01c3d6035921fb9788f32dec1ab3a250b9',\n",
       " '@type': 'xdm:descriptorIdentity',\n",
       " 'xdm:sourceSchema': 'https://ns.adobe.com/exchangesandboxbravo/schemas/1bd309c04dc83e2fa319da48ed4c3e7a19884ab092bee5d4',\n",
       " 'xdm:sourceVersion': 1,\n",
       " 'xdm:sourceProperty': '/_exchangesandboxbravo/cmle_id',\n",
       " 'imsOrg': 'EFE243245DB9D3DD0A495E80@AdobeOrg',\n",
       " 'version': '1',\n",
       " 'xdm:namespace': 'ECID',\n",
       " 'xdm:property': 'xdm:id',\n",
       " 'xdm:isPrimary': True,\n",
       " 'meta:containerId': 'e0b17021-6875-424f-b170-216875124f2d',\n",
       " 'meta:sandboxId': 'e0b17021-6875-424f-b170-216875124f2d',\n",
       " 'meta:sandboxType': 'development'}"
      ]
     },
     "execution_count": 67,
     "metadata": {},
     "output_type": "execute_result"
    }
   ],
   "source": [
    "identity_type = \"ECID\"\n",
    "identity_desc_data = {\n",
    "    \"@type\": \"xdm:descriptorIdentity\",\n",
    "    \"xdm:sourceSchema\": schema_ee_id,\n",
    "    \"xdm:sourceVersion\": 1,\n",
    "    \"xdm:sourceProperty\": f\"/_{tenant_id}/cmle_id\",\n",
    "    \"xdm:namespace\": identity_type,\n",
    "    \"xdm:property\": \"xdm:id\",\n",
    "    \"xdm:isPrimary\": True\n",
    "  }\n",
    "identity_dsc_ee_res = schema_conn.createDescriptor(\n",
    "    descriptorObj = identity_desc_data\n",
    ")\n",
    "identity_dsc_ee_res"
   ]
  },
  {
   "cell_type": "markdown",
   "metadata": {},
   "source": [
    "Enable EE schema for Profile"
   ]
  },
  {
   "cell_type": "code",
   "execution_count": 68,
   "metadata": {
    "tags": []
   },
   "outputs": [
    {
     "data": {
      "text/plain": [
       "{'$id': 'https://ns.adobe.com/exchangesandboxbravo/schemas/1bd309c04dc83e2fa319da48ed4c3e7a19884ab092bee5d4',\n",
       " 'meta:altId': '_exchangesandboxbravo.schemas.1bd309c04dc83e2fa319da48ed4c3e7a19884ab092bee5d4',\n",
       " 'meta:resourceType': 'schemas',\n",
       " 'version': '1.1',\n",
       " 'title': '[CMLE Synthetic Data] Experience Event schema (created by amuiaws)',\n",
       " 'type': 'object',\n",
       " 'description': 'Profile Schema generated by CMLE for synthetic events',\n",
       " 'allOf': [{'$ref': 'https://ns.adobe.com/xdm/context/experienceevent',\n",
       "   'type': 'object',\n",
       "   'meta:xdmType': 'object'},\n",
       "  {'$ref': 'https://ns.adobe.com/exchangesandboxbravo/mixins/65fb685dbdbf67597dd4deb8b748e5a6264477a2d30cb7f',\n",
       "   'type': 'object',\n",
       "   'meta:xdmType': 'object'},\n",
       "  {'$ref': 'https://ns.adobe.com/xdm/context/experienceevent-directmarketing',\n",
       "   'type': 'object',\n",
       "   'meta:xdmType': 'object'},\n",
       "  {'$ref': 'https://ns.adobe.com/xdm/context/experienceevent-web',\n",
       "   'type': 'object',\n",
       "   'meta:xdmType': 'object'}],\n",
       " 'refs': ['https://ns.adobe.com/xdm/context/experienceevent-directmarketing',\n",
       "  'https://ns.adobe.com/exchangesandboxbravo/mixins/65fb685dbdbf67597dd4deb8b748e5a6264477a2d30cb7f',\n",
       "  'https://ns.adobe.com/xdm/context/experienceevent-web',\n",
       "  'https://ns.adobe.com/xdm/context/experienceevent'],\n",
       " 'required': ['@id', 'xdm:timestamp'],\n",
       " 'imsOrg': 'EFE243245DB9D3DD0A495E80@AdobeOrg',\n",
       " 'additionalInfo': {'numberOfIdentities': 1,\n",
       "  'numberOfRelationShips': 0,\n",
       "  'classTitle': 'XDM ExperienceEvent',\n",
       "  'hasPrimaryIdentity': 'true',\n",
       "  'primaryIdentityNamespace': 'ECID',\n",
       "  'hasRelationShip': False,\n",
       "  'profileEnabled': True},\n",
       " 'meta:extensible': False,\n",
       " 'meta:abstract': False,\n",
       " 'meta:extends': ['https://ns.adobe.com/xdm/data/time-series',\n",
       "  'https://ns.adobe.com/xdm/context/experienceevent-directmarketing',\n",
       "  'https://ns.adobe.com/exchangesandboxbravo/mixins/65fb685dbdbf67597dd4deb8b748e5a6264477a2d30cb7f',\n",
       "  'https://ns.adobe.com/xdm/context/identitymap',\n",
       "  'https://ns.adobe.com/xdm/context/experienceevent-web',\n",
       "  'https://ns.adobe.com/xdm/context/experienceevent'],\n",
       " 'meta:xdmType': 'object',\n",
       " 'meta:registryMetadata': {'repo:createdDate': 1694768787457,\n",
       "  'repo:lastModifiedDate': 1694768788235,\n",
       "  'xdm:createdClientId': '209cce3e4d974b889a253f1ea33b5760',\n",
       "  'xdm:lastModifiedClientId': '209cce3e4d974b889a253f1ea33b5760',\n",
       "  'xdm:createdUserId': '3AC51DB264EF56BD0A495E95@techacct.adobe.com',\n",
       "  'xdm:lastModifiedUserId': '3AC51DB264EF56BD0A495E95@techacct.adobe.com',\n",
       "  'eTag': '619c2dc86a06425ded854e97d7b0f96246ff5ab0e98f4e58bddb00f048d6105d',\n",
       "  'meta:globalLibVersion': '1.43.3'},\n",
       " 'meta:class': 'https://ns.adobe.com/xdm/context/experienceevent',\n",
       " 'meta:containerId': 'e0b17021-6875-424f-b170-216875124f2d',\n",
       " 'meta:sandboxId': 'e0b17021-6875-424f-b170-216875124f2d',\n",
       " 'meta:sandboxType': 'development',\n",
       " 'meta:tenantNamespace': '_exchangesandboxbravo',\n",
       " 'meta:immutableTags': ['union'],\n",
       " 'meta:descriptorStatus': {'result': []}}"
      ]
     },
     "execution_count": 68,
     "metadata": {},
     "output_type": "execute_result"
    }
   ],
   "source": [
    "enable_ee_res = schema_conn.enableSchemaForRealTime(schema_ee_altId)\n",
    "enable_ee_res"
   ]
  },
  {
   "cell_type": "markdown",
   "metadata": {},
   "source": [
    "## 1.3 Create Experience Event dataset\n",
    "\n",
    "First, create a connection to the Catalog API"
   ]
  },
  {
   "cell_type": "code",
   "execution_count": 69,
   "metadata": {
    "tags": []
   },
   "outputs": [],
   "source": [
    "from aepp import catalog\n",
    "cat_conn = catalog.Catalog()"
   ]
  },
  {
   "cell_type": "markdown",
   "metadata": {},
   "source": [
    "Define some utility functions to gracefully handle cases where the Experience Event dataset has alrerady been created:"
   ]
  },
  {
   "cell_type": "code",
   "execution_count": 70,
   "metadata": {
    "tags": []
   },
   "outputs": [],
   "source": [
    "def getDatasetbyName(cat_conn: catalog.Catalog, name: str):\n",
    "    datasets = cat_conn.getDataSets()\n",
    "    match = {k:v for k, v in datasets.items() if v['name'] == name}\n",
    "    if match:\n",
    "        return list(match.keys())[0]\n",
    "    else:\n",
    "        return None"
   ]
  },
  {
   "cell_type": "code",
   "execution_count": 71,
   "metadata": {
    "tags": []
   },
   "outputs": [],
   "source": [
    "def createDatasetifNotExists(cat_conn: catalog.Catalog, name: str, schemaId: str):\n",
    "    existing = getDatasetbyName(cat_conn=cat_conn, name=name)\n",
    "    if existing:\n",
    "        return existing\n",
    "    else:\n",
    "        dataset = cat_conn.createDataSets(name=name, schemaId=schemaId)\n",
    "        return dataset[0].split(\"/\")[-1]"
   ]
  },
  {
   "cell_type": "markdown",
   "metadata": {},
   "source": [
    "Create the Experience Event dataset"
   ]
  },
  {
   "cell_type": "code",
   "execution_count": 72,
   "metadata": {
    "tags": []
   },
   "outputs": [
    {
     "name": "stdout",
     "output_type": "stream",
     "text": [
      "EE Dataset ID: 65041e9543f31128d339937c\n",
      "View EE Dataset in UI: https://experience.adobe.com/#/@exchangesandboxbravo/sname:amanzonpaymentssandboxae/platform/dataset/browse/65041e9543f31128d339937c\n"
     ]
    }
   ],
   "source": [
    "dataset_ee_name = f\"[CMLE Synthetic Data] Experience Event dataset (created by {username})\"\n",
    "dataset_ee_id = createDatasetifNotExists(cat_conn=cat_conn, name=dataset_ee_name, schemaId=schema_ee_id)\n",
    "print(f\"EE Dataset ID: {dataset_ee_id}\")\n",
    "\n",
    "dataset_ee_link = get_ui_link(tenant_id, \"dataset/browse\", dataset_ee_id)\n",
    "print(f\"View EE Dataset in UI: {dataset_ee_link}\")\n"
   ]
  },
  {
   "cell_type": "markdown",
   "metadata": {},
   "source": [
    "Enable dataset for Profile\n",
    "<div class=\"alert alert-block alert-warning\">\n",
    "<b>Note:</b> After you do this step please go in the UI and click on the link above, if the profile toggle is not enabled please manually toggle the profile on\n",
    "</div>"
   ]
  },
  {
   "cell_type": "code",
   "execution_count": 73,
   "metadata": {
    "tags": []
   },
   "outputs": [
    {
     "data": {
      "text/plain": [
       "['@/dataSets/65041e9543f31128d339937c']"
      ]
     },
     "execution_count": 73,
     "metadata": {},
     "output_type": "execute_result"
    }
   ],
   "source": [
    "cat_conn.enableDatasetProfile(dataset_ee_id)"
   ]
  },
  {
   "cell_type": "markdown",
   "metadata": {},
   "source": [
    "# 2. Create Profile schema and dataset\n",
    "\n",
    "The Profile schema will include the following field groups:\n",
    "- Loyalty Details\n",
    "- Personal Contact Details\n",
    "- Demographic Details\n",
    "- User Account Details"
   ]
  },
  {
   "cell_type": "markdown",
   "metadata": {},
   "source": [
    "## 2.1 Create Profile schema"
   ]
  },
  {
   "cell_type": "code",
   "execution_count": 74,
   "metadata": {
    "tags": []
   },
   "outputs": [],
   "source": [
    "# Set schema parameters\n",
    "schema_profile_title = f\"[CMLE Synthetic Data] Profile Schema (created by {username})\"\n",
    "schema_profile_fgs = [\n",
    "    'https://ns.adobe.com/xdm/mixins/profile/profile-loyalty-details',\n",
    "    'https://ns.adobe.com/xdm/context/profile-personal-details',\n",
    "    'https://ns.adobe.com/xdm/context/profile-person-details',\n",
    "    'https://ns.adobe.com/xdm/mixins/profile/profile-user-account-details'\n",
    "]\n",
    "schema_profile_desc = \"Profile Schema generated by CMLE\""
   ]
  },
  {
   "cell_type": "code",
   "execution_count": 75,
   "metadata": {
    "tags": []
   },
   "outputs": [
    {
     "name": "stdout",
     "output_type": "stream",
     "text": [
      "Profile Schema ID: https://ns.adobe.com/exchangesandboxbravo/schemas/e1e376dc3ce15900eaf35180c74c9b05f8c0f6ff280a2dd0\n",
      "Profile Schema Alt ID: _exchangesandboxbravo.schemas.e1e376dc3ce15900eaf35180c74c9b05f8c0f6ff280a2dd0\n",
      "View Profile schema in UI: https://experience.adobe.com/#/@exchangesandboxbravo/sname:amanzonpaymentssandboxae/platform/schema/mixin/browse/https%3A%2F%2Fns.adobe.com%2Fexchangesandboxbravo%2Fschemas%2Fe1e376dc3ce15900eaf35180c74c9b05f8c0f6ff280a2dd0\n"
     ]
    }
   ],
   "source": [
    "schema_profile_res = createSchemaifnotExists(\n",
    "    schema_conn=schema_conn,\n",
    "    title=schema_profile_title,\n",
    "    fieldGroups=schema_profile_fgs,\n",
    "    description=schema_profile_desc,\n",
    "    type=\"profile\"\n",
    ")\n",
    "schema_profile_id = schema_profile_res['$id']\n",
    "schema_profile_altId = schema_profile_res[\"meta:altId\"]\n",
    "print(f\"Profile Schema ID: {schema_profile_id}\")\n",
    "print(f\"Profile Schema Alt ID: {schema_profile_altId}\")\n",
    "\n",
    "schema_profile_link = get_ui_link(tenant_id, \"schema/mixin/browse\", urllib.parse.quote(schema_profile_id, safe=\"a\"))\n",
    "print(f\"View Profile schema in UI: {schema_profile_link}\")"
   ]
  },
  {
   "cell_type": "markdown",
   "metadata": {},
   "source": [
    "Set `personID` as the primary ID for the schema with ECID as the namespace"
   ]
  },
  {
   "cell_type": "code",
   "execution_count": 76,
   "metadata": {
    "tags": []
   },
   "outputs": [
    {
     "data": {
      "text/plain": [
       "{'@id': 'ac1a9170ee800b89aa1193e1d37c7398295a2b2837d331dd',\n",
       " '@type': 'xdm:descriptorIdentity',\n",
       " 'xdm:sourceSchema': 'https://ns.adobe.com/exchangesandboxbravo/schemas/e1e376dc3ce15900eaf35180c74c9b05f8c0f6ff280a2dd0',\n",
       " 'xdm:sourceVersion': 1,\n",
       " 'xdm:sourceProperty': '/personID',\n",
       " 'imsOrg': 'EFE243245DB9D3DD0A495E80@AdobeOrg',\n",
       " 'version': '1',\n",
       " 'xdm:namespace': 'ECID',\n",
       " 'xdm:property': 'xdm:id',\n",
       " 'xdm:isPrimary': True,\n",
       " 'meta:containerId': 'e0b17021-6875-424f-b170-216875124f2d',\n",
       " 'meta:sandboxId': 'e0b17021-6875-424f-b170-216875124f2d',\n",
       " 'meta:sandboxType': 'development'}"
      ]
     },
     "execution_count": 76,
     "metadata": {},
     "output_type": "execute_result"
    }
   ],
   "source": [
    "identity_type = \"ECID\"\n",
    "identity_desc_data = {\n",
    "    \"@type\": \"xdm:descriptorIdentity\",\n",
    "    \"xdm:sourceSchema\": schema_profile_id,\n",
    "    \"xdm:sourceVersion\": 1,\n",
    "    \"xdm:sourceProperty\": f\"/personID\",\n",
    "    \"xdm:namespace\": identity_type,\n",
    "    \"xdm:property\": \"xdm:id\",\n",
    "    \"xdm:isPrimary\": True\n",
    "  }\n",
    "identity_dsc_profile_res = schema_conn.createDescriptor(\n",
    "    descriptorObj = identity_desc_data\n",
    ")\n",
    "identity_dsc_profile_res"
   ]
  },
  {
   "cell_type": "markdown",
   "metadata": {},
   "source": [
    "Enable EE schema for Profile"
   ]
  },
  {
   "cell_type": "code",
   "execution_count": 77,
   "metadata": {
    "tags": []
   },
   "outputs": [
    {
     "data": {
      "text/plain": [
       "{'$id': 'https://ns.adobe.com/exchangesandboxbravo/schemas/e1e376dc3ce15900eaf35180c74c9b05f8c0f6ff280a2dd0',\n",
       " 'meta:altId': '_exchangesandboxbravo.schemas.e1e376dc3ce15900eaf35180c74c9b05f8c0f6ff280a2dd0',\n",
       " 'meta:resourceType': 'schemas',\n",
       " 'version': '1.1',\n",
       " 'title': '[CMLE Synthetic Data] Profile Schema (created by amuiaws)',\n",
       " 'type': 'object',\n",
       " 'description': 'Profile Schema generated by CMLE',\n",
       " 'allOf': [{'$ref': 'https://ns.adobe.com/xdm/context/profile',\n",
       "   'type': 'object',\n",
       "   'meta:xdmType': 'object'},\n",
       "  {'$ref': 'https://ns.adobe.com/xdm/mixins/profile/profile-loyalty-details',\n",
       "   'type': 'object',\n",
       "   'meta:xdmType': 'object'},\n",
       "  {'$ref': 'https://ns.adobe.com/xdm/context/profile-personal-details',\n",
       "   'type': 'object',\n",
       "   'meta:xdmType': 'object'},\n",
       "  {'$ref': 'https://ns.adobe.com/xdm/context/profile-person-details',\n",
       "   'type': 'object',\n",
       "   'meta:xdmType': 'object'},\n",
       "  {'$ref': 'https://ns.adobe.com/xdm/mixins/profile/profile-user-account-details',\n",
       "   'type': 'object',\n",
       "   'meta:xdmType': 'object'}],\n",
       " 'refs': ['https://ns.adobe.com/xdm/mixins/profile/profile-loyalty-details',\n",
       "  'https://ns.adobe.com/xdm/context/profile-person-details',\n",
       "  'https://ns.adobe.com/xdm/context/profile-personal-details',\n",
       "  'https://ns.adobe.com/xdm/context/profile',\n",
       "  'https://ns.adobe.com/xdm/mixins/profile/profile-user-account-details'],\n",
       " 'imsOrg': 'EFE243245DB9D3DD0A495E80@AdobeOrg',\n",
       " 'additionalInfo': {'numberOfIdentities': 1,\n",
       "  'numberOfRelationShips': 0,\n",
       "  'classTitle': 'XDM Individual Profile',\n",
       "  'behavior': 'Record',\n",
       "  'hasPrimaryIdentity': 'true',\n",
       "  'primaryIdentityNamespace': 'ECID',\n",
       "  'hasRelationShip': False,\n",
       "  'profileEnabled': True},\n",
       " 'meta:extensible': False,\n",
       " 'meta:abstract': False,\n",
       " 'meta:extends': ['https://ns.adobe.com/xdm/mixins/profile/profile-loyalty-details',\n",
       "  'https://ns.adobe.com/xdm/context/profile-person-details',\n",
       "  'https://ns.adobe.com/xdm/context/profile-personal-details',\n",
       "  'https://ns.adobe.com/xdm/common/auditable',\n",
       "  'https://ns.adobe.com/xdm/data/record',\n",
       "  'https://ns.adobe.com/xdm/context/profile',\n",
       "  'https://ns.adobe.com/xdm/mixins/profile/profile-user-account-details'],\n",
       " 'meta:xdmType': 'object',\n",
       " 'meta:registryMetadata': {'repo:createdDate': 1694768790329,\n",
       "  'repo:lastModifiedDate': 1694768790989,\n",
       "  'xdm:createdClientId': '209cce3e4d974b889a253f1ea33b5760',\n",
       "  'xdm:lastModifiedClientId': '209cce3e4d974b889a253f1ea33b5760',\n",
       "  'xdm:createdUserId': '3AC51DB264EF56BD0A495E95@techacct.adobe.com',\n",
       "  'xdm:lastModifiedUserId': '3AC51DB264EF56BD0A495E95@techacct.adobe.com',\n",
       "  'eTag': 'eb8513c6939a4e2cda399638767d09f44ed10a8d68450bc6bc281aff83970269',\n",
       "  'meta:globalLibVersion': '1.43.3'},\n",
       " 'meta:class': 'https://ns.adobe.com/xdm/context/profile',\n",
       " 'meta:containerId': 'e0b17021-6875-424f-b170-216875124f2d',\n",
       " 'meta:sandboxId': 'e0b17021-6875-424f-b170-216875124f2d',\n",
       " 'meta:sandboxType': 'development',\n",
       " 'meta:tenantNamespace': '_exchangesandboxbravo',\n",
       " 'meta:immutableTags': ['union'],\n",
       " 'meta:descriptorStatus': {'result': []}}"
      ]
     },
     "execution_count": 77,
     "metadata": {},
     "output_type": "execute_result"
    }
   ],
   "source": [
    "enable_profile_res = schema_conn.enableSchemaForRealTime(schema_profile_altId)\n",
    "enable_profile_res"
   ]
  },
  {
   "cell_type": "markdown",
   "metadata": {},
   "source": [
    "## 2.2 Create Profile dataset"
   ]
  },
  {
   "cell_type": "markdown",
   "metadata": {},
   "source": [
    "Create the Profile dataset"
   ]
  },
  {
   "cell_type": "code",
   "execution_count": 78,
   "metadata": {
    "tags": []
   },
   "outputs": [
    {
     "name": "stdout",
     "output_type": "stream",
     "text": [
      "Profile Dataset ID: 65041e97c8230928d32cabd9\n",
      "View Profile Dataset in UI: https://experience.adobe.com/#/@exchangesandboxbravo/sname:amanzonpaymentssandboxae/platform/dataset/browse/65041e97c8230928d32cabd9\n"
     ]
    }
   ],
   "source": [
    "dataset_profile_name = f\"[CMLE Synthetic Data] Profile dataset (created by {username})\"\n",
    "dataset_profile_id = createDatasetifNotExists(cat_conn=cat_conn, name=dataset_profile_name, schemaId=schema_profile_id)\n",
    "print(f\"Profile Dataset ID: {dataset_profile_id}\")\n",
    "\n",
    "dataset_profile_link = get_ui_link(tenant_id, \"dataset/browse\", dataset_profile_id)\n",
    "print(f\"View Profile Dataset in UI: {dataset_profile_link}\")\n"
   ]
  },
  {
   "cell_type": "markdown",
   "metadata": {},
   "source": [
    "Enable dataset for Profile\n",
    "<div class=\"alert alert-block alert-warning\">\n",
    "<b>Note:</b> After you do this step please go in the UI and click on the link above, if the profile toggle is not enabled please manually toggle the profile on\n",
    "</div>"
   ]
  },
  {
   "cell_type": "code",
   "execution_count": 79,
   "metadata": {
    "tags": []
   },
   "outputs": [
    {
     "data": {
      "text/plain": [
       "['@/dataSets/65041e97c8230928d32cabd9']"
      ]
     },
     "execution_count": 79,
     "metadata": {},
     "output_type": "execute_result"
    }
   ],
   "source": [
    "cat_conn.enableDatasetProfile(dataset_profile_id)"
   ]
  },
  {
   "cell_type": "markdown",
   "metadata": {},
   "source": [
    "# 3. Statistical simulation of Profiles and Experience Events\n",
    "\n",
    "We will set up a statistical simulation to generate Experience event data that can be used illustrate the end-to-end flow of creating a propensity model to predict subscriptions to a brand's paid service.\n",
    "\n",
    "We will use the standard `web.formFilledOut` event type to represent the subscription conversions that the brand wants to predict, and generate similulated sequences of various types of experience events along with the target subscription conversions that will be used to train a propensity model."
   ]
  },
  {
   "cell_type": "markdown",
   "metadata": {},
   "source": [
    "## 3.1 Event types and their contribution to propensity\n"
   ]
  },
  {
   "cell_type": "code",
   "execution_count": 80,
   "metadata": {
    "tags": []
   },
   "outputs": [],
   "source": [
    "import random, string\n",
    "import uuid\n",
    "from datetime import timedelta\n",
    "import mmh3\n",
    "from random import randrange"
   ]
  },
  {
   "cell_type": "markdown",
   "metadata": {},
   "source": [
    "Define some events and dependencies between the events"
   ]
  },
  {
   "cell_type": "code",
   "execution_count": 81,
   "metadata": {
    "tags": []
   },
   "outputs": [],
   "source": [
    "advertising_events = {\n",
    " \n",
    "    #eventType          : (weeklyAverageOccurrence, propensityDelta, [(field_to_replace, value)], timeInHoursFromDependent)\n",
    "    \"advertising.clicks\": (0.01,                    0.002,            [(\"advertising/clicks/value\", 1.0)], 0.5) , \n",
    "    \"advertising.impressions\": (0.1, 0.001, [(\"advertising/impressions/value\", 1.0)], 0),\n",
    "\n",
    "    \"web.webpagedetails.pageViews\": (0.1, 0.005, [(\"web/webPageDetails/pageViews/value\", 1.0)], 0.1),\n",
    "    \"web.webinteraction.linkClicks\": (0.05, 0.005, [(\"web/webInteraction/linkClicks/value\", 1.0)], 0.1),\n",
    "   \n",
    "    \n",
    "    \"commerce.productViews\": (0.05, 0.005, [(\"commerce/productViews/value\", 1.0)], 0.2),\n",
    "    \"commerce.purchases\": (0.01, 0.1, [(\"commerce/purchases/value\", 1.0)], 1),\n",
    "    \n",
    "    \n",
    "    \"decisioning.propositionDisplay\": (0.05, 0.005, [(\"_experience/decisioning/propositionEventType/display\", 1)], 0.1),\n",
    "    \"decisioning.propositionInteract\": (0.01, 0.1, [(\"_experience/decisioning/propositionEventType/interact\", 1)], 0.05),\n",
    "    \"decisioning.propositionDismiss\": (0.01, -0.2, [(\"_experience/decisioning/propositionEventType/dismiss\", 1)], 0.05),\n",
    "\n",
    "    \n",
    "    \"directMarketing.emailOpened\": (0.2, 0.02, [(\"directMarketing/opens/value\", 1.0)], 24),\n",
    "    \"directMarketing.emailClicked\": (0.05, 0.1, [(\"directMarketing/clicks/value\", 1.0)], 0.5),\n",
    "    \"directMarketing.emailSent\": (0.5, 0.005, [(\"directMarketing/sends/value\", 1.0)], 0),\n",
    "    \n",
    "    \"web.formFilledOut\": (0.0, 0.0, [(\"web/webPageDetails/name\", \"subscriptionForm\")], 0),\n",
    "\n",
    "}\n",
    "\n",
    "event_dependencies = {\n",
    "    \"advertising.impressions\": [\"advertising.clicks\"],\n",
    "    \"directMarketing.emailSent\": [\"directMarketing.emailOpened\"],\n",
    "    \"directMarketing.emailOpened\": [\"directMarketing.emailClicked\"],\n",
    "    \"directMarketing.emailClicked\": [\"web.webpagedetails.pageViews\"],\n",
    "    \"web.webpagedetails.pageViews\": [\"web.webinteraction.linkClicks\", \"commerce.productViews\", \"decisioning.propositionDisplay\"],\n",
    "    \"commerce.productViews\": [\"commerce.purchases\"],\n",
    "    \"decisioning.propositionDisplay\": [\"decisioning.propositionInteract\", \"decisioning.propositionDismiss\"]\n",
    "    \n",
    "}"
   ]
  },
  {
   "cell_type": "markdown",
   "metadata": {},
   "source": [
    "Define utility functions that will be used to implement the event simulation"
   ]
  },
  {
   "cell_type": "code",
   "execution_count": 82,
   "metadata": {
    "tags": []
   },
   "outputs": [],
   "source": [
    "import numpy as np\n",
    "from datetime import datetime\n",
    "\n",
    "def random_date(start, end):\n",
    "    \"\"\"\n",
    "    This function will return a random datetime between two datetime \n",
    "    objects.\n",
    "    \"\"\"\n",
    "    delta = end - start\n",
    "    int_delta = (delta.days * 24 * 60 * 60) + delta.seconds\n",
    "    random_second = randrange(int_delta)\n",
    "    return start + timedelta(seconds=random_second)"
   ]
  },
  {
   "cell_type": "markdown",
   "metadata": {},
   "source": [
    "## 3.2 Event generation process"
   ]
  },
  {
   "cell_type": "code",
   "execution_count": 83,
   "metadata": {
    "tags": []
   },
   "outputs": [],
   "source": [
    "\n",
    "def create_data_for_n_users(n_users, first_user):\n",
    "  \n",
    "  N_USERS = n_users\n",
    "  FIRST_USER = first_user\n",
    "  \n",
    "  N_WEEKS = 10\n",
    "  GLOBAL_START_DATE = datetime.now() - timedelta(weeks=12)\n",
    "  GLOBAL_END_DATE = GLOBAL_START_DATE + timedelta(weeks=N_WEEKS)\n",
    "\n",
    "  events = []\n",
    "\n",
    "  for user in range(N_USERS):\n",
    "        user_id = FIRST_USER + user\n",
    "        user_events = []\n",
    "        base_events = {}\n",
    "        for event_type in [\"advertising.impressions\", \"web.webpagedetails.pageViews\", \"directMarketing.emailSent\"]:\n",
    "            n_events = np.random.poisson(advertising_events[event_type][0] * N_WEEKS)\n",
    "            times = []\n",
    "            for _ in range(n_events):\n",
    "                #times.append(random_date(GLOBAL_START_DATE, GLOBAL_END_DATE)\n",
    "                times.append(random_date(GLOBAL_START_DATE, GLOBAL_END_DATE).isoformat())\n",
    "\n",
    "            base_events[event_type] = times\n",
    "\n",
    "        for event_type, dependent_event_types in event_dependencies.items():\n",
    "\n",
    "            if event_type in base_events:\n",
    "                #for each originating event\n",
    "                for event_time in base_events[event_type]:\n",
    "                    #Look for possible later on events\n",
    "                    for dependent_event in dependent_event_types:\n",
    "                                n_events = np.random.poisson(advertising_events[dependent_event][0] * N_WEEKS)\n",
    "                                times = []\n",
    "                                for _ in range(n_events):\n",
    "                                    #times.append(event_time + timedelta(hours = np.random.exponential(advertising_events[dependent_event][3])))\n",
    "                                    new_time = datetime.fromisoformat(event_time) + timedelta(hours = np.random.exponential(advertising_events[dependent_event][3]))\n",
    "                                    times.append(new_time.isoformat())\n",
    "                                base_events[dependent_event] = times\n",
    "\n",
    "\n",
    "        for event_type, times in base_events.items():\n",
    "            for time in times:\n",
    "                user_events.append({\"cmle_id\": user_id, \"eventType\": event_type, \"timestamp\": time})\n",
    "\n",
    "        user_events = sorted(user_events, key = lambda x: (x[\"cmle_id\"], x[\"timestamp\"]))\n",
    "\n",
    "\n",
    "        cumulative_probability = 0.001\n",
    "        subscribed = False\n",
    "        for event in user_events:\n",
    "            cumulative_probability = min(1.0, max(cumulative_probability + advertising_events[event[\"eventType\"]][1], 0))\n",
    "            event[\"subscriptionPropensity\"] = cumulative_probability\n",
    "            if subscribed == False and \"directMarketing\" not in event[\"eventType\"] and \"advertising\" not in event[\"eventType\"]:\n",
    "                subscribed = np.random.binomial(1, cumulative_probability) > 0\n",
    "                if subscribed:\n",
    "                    subscriptiontime = (datetime.fromisoformat(event[\"timestamp\"]) + timedelta(seconds = 60)).isoformat()\n",
    "                    #subscriptiontime = event[\"timestamp\"] + timedelta(seconds = 60)\n",
    "                    user_events.append({\"cmle_id\": user_id, \"eventType\": \"web.formFilledOut\",  \"timestamp\": subscriptiontime})\n",
    "            event[\"subscribed\"] = subscribed\n",
    "        user_events = sorted(user_events, key = lambda x: (x[\"cmle_id\"], x[\"timestamp\"]))\n",
    "\n",
    "        events = events + user_events\n",
    "  return events"
   ]
  },
  {
   "cell_type": "code",
   "execution_count": 84,
   "metadata": {
    "tags": []
   },
   "outputs": [],
   "source": [
    "def normalize_ecid(ecid_part):\n",
    "    ecid_part_str = str(abs(ecid_part))\n",
    "    if len(ecid_part_str) != 19:\n",
    "        ecid_part_str = \"\".join([str(x) for x in range(\n",
    "            0, 19 - len(ecid_part_str))]) + ecid_part_str\n",
    "    return ecid_part_str"
   ]
  },
  {
   "cell_type": "code",
   "execution_count": 85,
   "metadata": {
    "tags": []
   },
   "outputs": [],
   "source": [
    "\n",
    "def get_ecid(user_id):\n",
    "    \"\"\"\n",
    "    The ECID must be two valid 19 digit longs concatenated together\n",
    "    \"\"\"\n",
    "    email = f\"synthetic-user-{user_id}@adobe.com\"\n",
    "    ecidpart1, ecidpart2 = mmh3.hash64(email)\n",
    "    ecid1, ecid2 = (normalize_ecid(ecidpart1), normalize_ecid(ecidpart2))\n",
    "    return ecid1 + ecid2"
   ]
  },
  {
   "cell_type": "code",
   "execution_count": 86,
   "metadata": {
    "tags": []
   },
   "outputs": [],
   "source": [
    "# Define the data that goes into an email event payload\n",
    "def create_email_event(user_id, event_type, timestamp):\n",
    "  \"\"\"\n",
    "  Combines previous methods to create various type of email events\n",
    "  \"\"\"\n",
    "  \n",
    "  if event_type == \"directMarketing.emailSent\":\n",
    "    directMarketing = {\"emailDelivered\": {\"value\": 1.0}, \n",
    "                       \"sends\": {\"value\": 1.0}, \n",
    "                       \"emailVisitorID\": user_id,\n",
    "                       \"hashedEmail\": ''.join(random.choices(string.ascii_letters + string.digits, k=10)),\n",
    "                       \"messageID\": str(uuid.uuid4()),\n",
    "                      }\n",
    "  elif event_type == \"directMarketing.emailOpened\":\n",
    "    directMarketing = {\"offerOpens\": {\"value\": 1.0}, \n",
    "                     \"opens\": {\"value\": 1.0}, \n",
    "                     \"emailVisitorID\": user_id,\n",
    "                     \"messageID\": str(uuid.uuid4()),\n",
    "                    }\n",
    "  elif event_type == \"directMarketing.emailClicked\":\n",
    "    directMarketing = {\"clicks\": {\"value\": 1.0}, \n",
    "                     \"offerOpens\": {\"value\": 1.0}, \n",
    "                     \"emailVisitorID\": user_id,\n",
    "                     \"messageID\": str(uuid.uuid4()),\n",
    "                    }\n",
    "  return {\n",
    "    \"directMarketing\": directMarketing,\n",
    "    \"web\": None,\n",
    "    \"_id\": str(uuid.uuid4()),\n",
    "    \"eventMergeId\": None,\n",
    "    \"eventType\": event_type,\n",
    "    f\"_{tenant_id}\": {\"cmle_id\":get_ecid(user_id)},\n",
    "    \"producedBy\": \"databricks-synthetic\",\n",
    "    \"timestamp\": timestamp\n",
    "  }"
   ]
  },
  {
   "cell_type": "code",
   "execution_count": 87,
   "metadata": {
    "tags": []
   },
   "outputs": [],
   "source": [
    "# Define the data that goes into a web event payload \n",
    "def create_web_event(user_id, event_type, timestamp):\n",
    "  \"\"\"\n",
    "  Combines previous methods to creat various type of web events\n",
    "  \"\"\"\n",
    "  url = f\"http://www.{''.join(random.choices(string.ascii_letters + string.digits, k=5))}.com\"\n",
    "  ref_url = f\"http://www.{''.join(random.choices(string.ascii_letters + string.digits, k=5))}.com\"\n",
    "  name = ''.join(random.choices(string.ascii_letters + string.digits, k=5))\n",
    "  isHomePage = random.choice([True, False])\n",
    "  server = ''.join(random.choices(string.ascii_letters + string.digits, k=10))\n",
    "  site_section = ''.join(random.choices(string.ascii_letters, k=2))\n",
    "  view_name = ''.join(random.choices(string.ascii_letters, k=3))\n",
    "  region = ''.join(random.choices(string.ascii_letters + string.digits, k=5))\n",
    "  interaction_type = random.choice([\"download\", \"exit\", \"other\"])\n",
    "  web_referrer = random.choice([\"internal\", \"external\", \"search_engine\", \"email\", \"social\", \"unknown\", \"usenet\", \"typed_bookmarked\"])\n",
    "  base_web = {\"webInteraction\": {\"linkClicks\": {\"value\": 0.0}, \n",
    "                                 \"URL\": url, \n",
    "                                 \"name\": name,\n",
    "                                \"region\": region,\n",
    "                                \"type\": interaction_type},\n",
    "              \"webPageDetails\": {\"pageViews\": {\"value\": 1.0},\n",
    "                                 \"URL\": url,\n",
    "                                 \"isErrorPage\": False,\n",
    "                                 #\"isHomepage\": isHomePage,\n",
    "                                 \"name\": name,\n",
    "                                 \"server\": server,\n",
    "                                 \"siteSection\": site_section,\n",
    "                                 \"viewName\": view_name\n",
    "                                },\n",
    "              \"webReferrer\": {\n",
    "                \"URL\": ref_url,\n",
    "                \"type\": web_referrer\n",
    "              }\n",
    "             }\n",
    "  if event_type in [\"advertising.clicks\", \"commerce.purchases\", \"web.webinteraction.linkClicks\", \"web.formFilledOut\", \n",
    "                   \"decisioning.propositionInteract\", \"decisioning.propositionDismiss\"]:\n",
    "    base_web[\"webInteraction\"][\"linkClicks\"][\"value\"] = 1.0\n",
    "\n",
    "  return {\n",
    "    \"directMarketing\": None,\n",
    "    \"web\": base_web,\n",
    "    \"_id\": str(uuid.uuid4()),\n",
    "    \"eventMergeId\": None,\n",
    "    \"eventType\": event_type,\n",
    "    f\"_{tenant_id}\": {\"cmle_id\":get_ecid(user_id)},\n",
    "    \"producedBy\": \"databricks-synthetic\",\n",
    "    \"timestamp\": timestamp\n",
    "  }"
   ]
  },
  {
   "cell_type": "code",
   "execution_count": 88,
   "metadata": {
    "tags": []
   },
   "outputs": [],
   "source": [
    "    \n",
    "def create_xdm_event(user_id, event_type, timestamp):\n",
    "  \"\"\"\n",
    "  The final 'event factory' method that converts an event into an XDM event\n",
    "  \"\"\"\n",
    "  if \"directMarketing\" in event_type:\n",
    "    return create_email_event(user_id, event_type, timestamp)\n",
    "  else: \n",
    "    return create_web_event(user_id, event_type, timestamp)"
   ]
  },
  {
   "cell_type": "code",
   "execution_count": 89,
   "metadata": {
    "tags": []
   },
   "outputs": [],
   "source": [
    "def createEventsBatch(n_users, first_user):\n",
    "    batch_events = create_data_for_n_users(n_users, first_user)\n",
    "    batch_data = [create_xdm_event(x[\"cmle_id\"], x[\"eventType\"], x[\"timestamp\"]) for x in batch_events]\n",
    "    return batch_data"
   ]
  },
  {
   "cell_type": "markdown",
   "metadata": {},
   "source": [
    "## 3.3 Profile generation\n",
    "\n",
    "The following function generates a set of profiles for populating the Profile dataset"
   ]
  },
  {
   "cell_type": "code",
   "execution_count": 90,
   "metadata": {
    "tags": []
   },
   "outputs": [],
   "source": [
    "from mimesis import Schema, Field, Locale\n",
    "import time\n",
    "def createProfilesBatch(n_users, first_user):\n",
    "\n",
    "    N_USERS = n_users\n",
    "    FIRST_USER = first_user\n",
    "    u = 'u' + str(int(time.time()))\n",
    "\n",
    "    #field = mimesis.Field(Locale.EN)\n",
    "    field = Field(Locale.EN)\n",
    "    #profile_schema = mimesis.Schema(\n",
    "    profile_schema = Schema(\n",
    "        schema=lambda: {\n",
    "            \"personID\": get_ecid(FIRST_USER + field(\"increment\", accumulator=u) - 1),\n",
    "            \"person\": {\n",
    "                \"name\": {\n",
    "                    \"firstName\": field(\"first_name\"),\n",
    "                    \"lastName\": field(\"last_name\")\n",
    "                },\n",
    "                \"gender\": field(\"choice\", items=['male', 'female', 'not_specified'])\n",
    "            },\n",
    "            \"personalEmail\": {\n",
    "                \"address\": field(\"email\", domains=[\"emailsim.io\"]),\n",
    "            },\n",
    "            \"mobilePhone\": {\n",
    "                \"number\": field(\"telephone\", mask=\"###-###-####\")\n",
    "            },\n",
    "            \"homeAddress\": {\n",
    "                \"street1\": field(\"address\"),\n",
    "                \"city\": field(\"city\"),\n",
    "                \"state\": field(\"state\", abbr=True),\n",
    "                \"postalCode\": field(\"postal_code\")\n",
    "            },\n",
    "            \"loyalty\": {\n",
    "                \"loyaltyID\": [field(\"integer_number\", start=5000000, end=6000000)],\n",
    "                \"tier\": field(\"choice\", items=[\"diamond\", \"platinum\", \"gold\", \"silver\", \"member\"]),\n",
    "                \"points\": field(\"integer_number\", start=0, end=1000000), \n",
    "                \"joinDate\": field(\"datetime\", start=2000, end=2023).strftime(\"%Y-%m-%dT%H:%M:%SZ\")\n",
    "            }\n",
    "        },\n",
    "        iterations=N_USERS\n",
    "    )\n",
    "    return profile_schema.create()"
   ]
  },
  {
   "cell_type": "markdown",
   "metadata": {},
   "source": [
    "# 4. Ingest sythetic data into AEP dataset\n",
    "\n",
    "We'll now use the functions defined above to simulate sequences of Experience Events for a number of users, then ingest the simulated event data into the Experience Event dataset we create above.\n",
    "\n",
    "For each batch, we will:\n",
    "1. Initialize a batch to ingest to our Experience Event dataset\n",
    "2. Generate a sequence of simulate events using the `create_data_for_n_users` function\n",
    "3. Format the events into XDM Experience Event payloads using the `create_xdm_event` function\n",
    "4. Add the synthetic data to the batch\n",
    "5. Close the batch\n",
    "\n",
    "First create a connection to the AEP batch ingestion API:"
   ]
  },
  {
   "cell_type": "code",
   "execution_count": 91,
   "metadata": {
    "tags": []
   },
   "outputs": [],
   "source": [
    "from aepp import ingestion\n",
    "ingest_conn = ingestion.DataIngestion()"
   ]
  },
  {
   "cell_type": "code",
   "execution_count": 92,
   "metadata": {
    "tags": []
   },
   "outputs": [],
   "source": [
    "def ingestBatch(\n",
    "        ingest_conn: ingestion.DataIngestion,\n",
    "        dataset_id: str,\n",
    "        data: list[dict]):\n",
    "    # Initialize batch creation\n",
    "    batch_res = ingest_conn.createBatch(\n",
    "        datasetId = dataset_ee_id\n",
    "    )\n",
    "    batch_id = batch_res[\"id\"]\n",
    "    # Upload data\n",
    "    file_path = f\"batch-synthetic-{batch_id}\"\n",
    "    ingest_conn.uploadSmallFile(\n",
    "        batchId = batch_id,\n",
    "        datasetId = dataset_id,\n",
    "        filePath = file_path,\n",
    "        data = data\n",
    "    )\n",
    "    # Complete the batch\n",
    "    ingest_conn.uploadSmallFileFinish(\n",
    "        batchId = batch_id\n",
    "    )\n",
    "    return batch_id"
   ]
  },
  {
   "cell_type": "code",
   "execution_count": 93,
   "metadata": {
    "tags": []
   },
   "outputs": [],
   "source": [
    "def ingestSyntheticBatches(\n",
    "        ingest_conn: ingestion.DataIngestion,\n",
    "        n_users: int = 10000,\n",
    "        n_batches: int = 10,\n",
    "        event_dataset_id: str = None,\n",
    "        profile_dataset_id: str = None\n",
    "):\n",
    "    if event_dataset_id is None and profile_dataset_id is None:\n",
    "        raise AttributeError('At least one of \"event_dataset_id\" or \"profile_dataset_id\" must be provided')\n",
    "    event_batch_ids = []\n",
    "    profile_batch_ids = []\n",
    "    for b in range(n_batches):\n",
    "        first_user = b * n_users\n",
    "        if event_dataset_id is not None:\n",
    "            event_batch = createEventsBatch(n_users, first_user)\n",
    "            event_batch_id = ingestBatch(ingest_conn, event_dataset_id, event_batch)\n",
    "            print(f\"Processing events batch {b + 1}/{n_batches} with ID {event_batch_id}\")\n",
    "            event_batch_ids.append(event_batch_id)\n",
    "        if profile_dataset_id is not None:\n",
    "            profile_batch = createProfilesBatch(n_users, first_user)\n",
    "            profile_batch_id = ingestBatch(ingest_conn, profile_dataset_id, profile_batch)\n",
    "            print(f\"Processing profiles batch {b + 1}/{n_batches} with ID {profile_batch_id}\")\n",
    "            profile_batch_ids.append(profile_batch_id)\n",
    "    return (event_batch_ids, profile_batch_ids)\n"
   ]
  },
  {
   "cell_type": "markdown",
   "metadata": {},
   "source": [
    "Then repeat the sequences of actions described above to generate and ingest simulated events for the desired number of batches."
   ]
  },
  {
   "cell_type": "code",
   "execution_count": 98,
   "metadata": {
    "tags": []
   },
   "outputs": [
    {
     "name": "stdout",
     "output_type": "stream",
     "text": [
      "Processing events batch 1/10 with ID 01HAC1Q5ATGPET5KEZ7Y16D5ZC\n",
      "Processing profiles batch 1/10 with ID 01HAC1QAVDPXYGDB2KDEB7RJ8A\n",
      "Processing events batch 2/10 with ID 01HAC1QKG4XVQDD6FCKKNXH7GE\n",
      "Processing profiles batch 2/10 with ID 01HAC1QRW0X6R6E72QG72KHEVN\n",
      "Processing events batch 3/10 with ID 01HAC1R1846HBMPH3S2RETZM5V\n",
      "Processing profiles batch 3/10 with ID 01HAC1R6KTYKY6A8GR94NP1V97\n",
      "Processing events batch 4/10 with ID 01HAC1RFFXBMGWJWEXXF1DDQZ5\n",
      "Processing profiles batch 4/10 with ID 01HAC1RSHMA28VBM77FTCV42D1\n",
      "Processing events batch 5/10 with ID 01HAC1S25K8VC5Q4SA6XHZJH31\n",
      "Processing profiles batch 5/10 with ID 01HAC1SBMTA3FK8V58PJJ9ZA0N\n",
      "Processing events batch 6/10 with ID 01HAC1SMESCZF9QSNN3C63HYZ6\n",
      "Processing profiles batch 6/10 with ID 01HAC1ST0AFS0CS5Z17ZJKH8FE\n",
      "Processing events batch 7/10 with ID 01HAC1T2Z97Q26Z688YJYH2950\n",
      "Processing profiles batch 7/10 with ID 01HAC1T8Y9G197KFVT9J3X4YM8\n",
      "Processing events batch 8/10 with ID 01HAC1THQKWTMYG17ZYE731PH1\n",
      "Processing profiles batch 8/10 with ID 01HAC1TQQDX6E39HNR2PM9KPER\n",
      "Processing events batch 9/10 with ID 01HAC1V0MTBSHZHEG9EVZBFTNQ\n",
      "Processing profiles batch 9/10 with ID 01HAC1V658932Q80RYJGAYRB0Q\n",
      "Processing events batch 10/10 with ID 01HAC1VF2JZKBC0VA771ZRV1TQ\n",
      "Processing profiles batch 10/10 with ID 01HAC1VMTVNPJTEQ9W3YT41282\n",
      "['01HAC1Q5ATGPET5KEZ7Y16D5ZC', '01HAC1QKG4XVQDD6FCKKNXH7GE', '01HAC1R1846HBMPH3S2RETZM5V', '01HAC1RFFXBMGWJWEXXF1DDQZ5', '01HAC1S25K8VC5Q4SA6XHZJH31', '01HAC1SMESCZF9QSNN3C63HYZ6', '01HAC1T2Z97Q26Z688YJYH2950', '01HAC1THQKWTMYG17ZYE731PH1', '01HAC1V0MTBSHZHEG9EVZBFTNQ', '01HAC1VF2JZKBC0VA771ZRV1TQ']\n",
      "['01HAC1QAVDPXYGDB2KDEB7RJ8A', '01HAC1QRW0X6R6E72QG72KHEVN', '01HAC1R6KTYKY6A8GR94NP1V97', '01HAC1RSHMA28VBM77FTCV42D1', '01HAC1SBMTA3FK8V58PJJ9ZA0N', '01HAC1ST0AFS0CS5Z17ZJKH8FE', '01HAC1T8Y9G197KFVT9J3X4YM8', '01HAC1TQQDX6E39HNR2PM9KPER', '01HAC1V658932Q80RYJGAYRB0Q', '01HAC1VMTVNPJTEQ9W3YT41282']\n"
     ]
    }
   ],
   "source": [
    "num_batches = 10\n",
    "batch_size = 10000\n",
    "\n",
    "event_batches, profile_batches = ingestSyntheticBatches(\n",
    "    ingest_conn=ingest_conn,\n",
    "    n_users=batch_size,\n",
    "    n_batches=num_batches,\n",
    "    event_dataset_id=dataset_ee_id,\n",
    "    profile_dataset_id=dataset_profile_id\n",
    ")\n",
    "print(event_batches)\n",
    "print(profile_batches)"
   ]
  },
  {
   "cell_type": "markdown",
   "metadata": {},
   "source": [
    "**Note**: Batches are ingested asynchronously in AEP. It may take some time for all the data generated here to be available in your dataset depending on how your AEP organization has been provisioned. You can check ingestion status for all your batches in [the dataset page of your AEP UI](https://experience.adobe.com/#/@TENANT/sname:SANDBOX/platform/dataset/browse/DATASETID)\n",
    "\n",
    "You can also check the ingestion status from the notebook by running the following cell:"
   ]
  },
  {
   "cell_type": "code",
   "execution_count": null,
   "metadata": {
    "tags": []
   },
   "outputs": [],
   "source": [
    "from aepp import catalog\n",
    "import time\n",
    "cat_conn = catalog.Catalog()\n",
    "\n",
    "all_ingested = False\n",
    "while not all_ingested:\n",
    "  incomplete_batches = cat_conn.getBatches(\n",
    "    limit=min(100, num_batches),\n",
    "    n_results=num_batches,\n",
    "    output=\"dataframe\",\n",
    "    dataSet=dataset_profile_id,\n",
    "    status=\"staging\"\n",
    "  )\n",
    "  \n",
    "  num_incomplete_batches = len(incomplete_batches)\n",
    "  if num_incomplete_batches == 0:\n",
    "    print(\"All batches have been ingested\")\n",
    "    all_ingested = True\n",
    "  else:\n",
    "    print(f\"Remaining batches being ingested: {num_incomplete_batches}\")\n",
    "    time.sleep(30)"
   ]
  },
  {
   "cell_type": "markdown",
   "metadata": {
    "application/vnd.databricks.v1+cell": {
     "cellMetadata": {},
     "inputWidgets": {},
     "nuid": "33ed6b1f-e0fa-4453-86ed-e06d39e63afc",
     "showTitle": false,
     "title": ""
    }
   },
   "source": [
    "# 5. Data Exploration for Propensity Models\n",
    "\n",
    "In this notebook, we connect to the query service using the aepp library, and examine the data that we have uploaded. \n",
    "\n",
    "We do the following steps:\n",
    "\n",
    "- Connect to query service using the aepp configuration parameters\n",
    "- Discover the schema of data, and explore a few rows\n",
    "- Compute basic statistics\n",
    "- Examine correlations among features, to inform feature creation"
   ]
  },
  {
   "cell_type": "markdown",
   "metadata": {
    "application/vnd.databricks.v1+cell": {
     "cellMetadata": {},
     "inputWidgets": {},
     "nuid": "069804cb-e9dc-4201-a266-7676c4c63627",
     "showTitle": false,
     "title": ""
    }
   },
   "source": [
    "## 5.1 Interactive Session with Data Distiller"
   ]
  },
  {
   "cell_type": "markdown",
   "metadata": {},
   "source": [
    "Every dataset ID in the Adobe Experience Platform is tied to a table name in Query Service world. We can easily get the table name by doing a lookup on the dataset ID and extracting the table name from the tags:\n",
    "We will be using the dataset created in 1.2.1, please make sure dataset_id is set with the correct value"
   ]
  },
  {
   "cell_type": "code",
   "execution_count": 6,
   "metadata": {},
   "outputs": [
    {
     "data": {
      "text/plain": [
       "'cmle_week1_new_notebook_with_ecid_used_dataset_created_by_saikat'"
      ]
     },
     "execution_count": 6,
     "metadata": {},
     "output_type": "execute_result"
    }
   ],
   "source": [
    "from aepp import catalog\n",
    "\n",
    "cat_conn = catalog.Catalog()\n",
    "dataset_id = dataset_ee_id\n",
    "dataset_info = cat_conn.getDataSet(dataset_id)\n",
    "table_name = dataset_info[dataset_id][\"tags\"][\"adobe/pqs/table\"][0]\n",
    "table_name"
   ]
  },
  {
   "cell_type": "markdown",
   "metadata": {},
   "source": [
    "When you set the connection to the query service object you'll setup a connection to the actual table you need to connect to, this will be faster and use up less resources from the query service API"
   ]
  },
  {
   "cell_type": "code",
   "execution_count": 7,
   "metadata": {
    "application/vnd.databricks.v1+cell": {
     "cellMetadata": {},
     "inputWidgets": {},
     "nuid": "c0b34fab-a2b1-4b2c-8ce0-623e0bda8084",
     "showTitle": false,
     "title": ""
    }
   },
   "outputs": [],
   "source": [
    "from aepp import queryservice\n",
    "sandbox_name = config.get(\"Platform\", \"sandbox_name\")\n",
    "qs_conn = queryservice.QueryService().connection()\n",
    "qs_conn[\"dbname\"] = f\"{sandbox_name}:{table_name}\"\n",
    "qs_cursor = queryservice.InteractiveQuery(qs_conn)"
   ]
  },
  {
   "cell_type": "markdown",
   "metadata": {
    "application/vnd.databricks.v1+cell": {
     "cellMetadata": {},
     "inputWidgets": {},
     "nuid": "70c34366-7c3f-42f2-9adf-993d3bcecff7",
     "showTitle": false,
     "title": ""
    }
   },
   "source": [
    "## 5.2 Querying the dataset"
   ]
  },
  {
   "cell_type": "markdown",
   "metadata": {},
   "source": [
    "We can use the interactive session created just before to issue any kinds of queries to Query Service. As an example here we simply select all the fields in our synthetic data table."
   ]
  },
  {
   "cell_type": "code",
   "execution_count": 8,
   "metadata": {
    "application/vnd.databricks.v1+cell": {
     "cellMetadata": {},
     "inputWidgets": {},
     "nuid": "eee551bc-bcf7-40af-abc3-0c6a152d072a",
     "showTitle": false,
     "title": ""
    }
   },
   "outputs": [
    {
     "data": {
      "text/html": [
       "<div>\n",
       "<style scoped>\n",
       "    .dataframe tbody tr th:only-of-type {\n",
       "        vertical-align: middle;\n",
       "    }\n",
       "\n",
       "    .dataframe tbody tr th {\n",
       "        vertical-align: top;\n",
       "    }\n",
       "\n",
       "    .dataframe thead th {\n",
       "        text-align: right;\n",
       "    }\n",
       "</style>\n",
       "<table border=\"1\" class=\"dataframe\">\n",
       "  <thead>\n",
       "    <tr style=\"text-align: right;\">\n",
       "      <th></th>\n",
       "      <th>_aamds</th>\n",
       "      <th>_id</th>\n",
       "      <th>directMarketing</th>\n",
       "      <th>eventMergeId</th>\n",
       "      <th>eventType</th>\n",
       "      <th>producedBy</th>\n",
       "      <th>timestamp</th>\n",
       "      <th>web</th>\n",
       "    </tr>\n",
       "  </thead>\n",
       "  <tbody>\n",
       "    <tr>\n",
       "      <th>0</th>\n",
       "      <td>(65243412659796291646255339364107433273)</td>\n",
       "      <td>e5134037-8569-4aad-bbef-279bb831808f</td>\n",
       "      <td>(NULL,\"(1.0)\",synthetic-user-5429@adobe.com,MD...</td>\n",
       "      <td>None</td>\n",
       "      <td>directMarketing.emailSent</td>\n",
       "      <td>databricks-synthetic</td>\n",
       "      <td>2023-01-21 00:01:41.534</td>\n",
       "      <td>None</td>\n",
       "    </tr>\n",
       "    <tr>\n",
       "      <th>1</th>\n",
       "      <td>(49844234781406159997650770259889908940)</td>\n",
       "      <td>e1793fdc-4ac7-49c6-9aa3-e0867aa0ec55</td>\n",
       "      <td>None</td>\n",
       "      <td>None</td>\n",
       "      <td>commerce.productViews</td>\n",
       "      <td>databricks-synthetic</td>\n",
       "      <td>2023-01-21 00:02:15.916</td>\n",
       "      <td>(\"(http://www.SxTqn.com,\"(0.0)\",t91jg,n7Gcl,ex...</td>\n",
       "    </tr>\n",
       "    <tr>\n",
       "      <th>2</th>\n",
       "      <td>(12020984676794453631540776783207087622)</td>\n",
       "      <td>78ee3b46-c3fd-4058-8041-f7fe15180268</td>\n",
       "      <td>(NULL,\"(1.0)\",synthetic-user-7954@adobe.com,re...</td>\n",
       "      <td>None</td>\n",
       "      <td>directMarketing.emailSent</td>\n",
       "      <td>databricks-synthetic</td>\n",
       "      <td>2023-01-21 00:02:34.534</td>\n",
       "      <td>None</td>\n",
       "    </tr>\n",
       "    <tr>\n",
       "      <th>3</th>\n",
       "      <td>(21690903347635878125817940858837590243)</td>\n",
       "      <td>d46358de-d9bf-4bc7-861a-cc3275203fde</td>\n",
       "      <td>(NULL,\"(1.0)\",synthetic-user-3552@adobe.com,5N...</td>\n",
       "      <td>None</td>\n",
       "      <td>directMarketing.emailSent</td>\n",
       "      <td>databricks-synthetic</td>\n",
       "      <td>2023-01-21 00:02:36.534</td>\n",
       "      <td>None</td>\n",
       "    </tr>\n",
       "    <tr>\n",
       "      <th>4</th>\n",
       "      <td>(53459861322107555163196673979056455929)</td>\n",
       "      <td>5af2c15c-ec23-4a41-ac3d-1dab9fe9a057</td>\n",
       "      <td>(NULL,\"(1.0)\",synthetic-user-5914@adobe.com,YB...</td>\n",
       "      <td>None</td>\n",
       "      <td>directMarketing.emailSent</td>\n",
       "      <td>databricks-synthetic</td>\n",
       "      <td>2023-01-21 00:05:18.534</td>\n",
       "      <td>None</td>\n",
       "    </tr>\n",
       "  </tbody>\n",
       "</table>\n",
       "</div>"
      ],
      "text/plain": [
       "                                     _aamds  \\\n",
       "0  (65243412659796291646255339364107433273)   \n",
       "1  (49844234781406159997650770259889908940)   \n",
       "2  (12020984676794453631540776783207087622)   \n",
       "3  (21690903347635878125817940858837590243)   \n",
       "4  (53459861322107555163196673979056455929)   \n",
       "\n",
       "                                    _id  \\\n",
       "0  e5134037-8569-4aad-bbef-279bb831808f   \n",
       "1  e1793fdc-4ac7-49c6-9aa3-e0867aa0ec55   \n",
       "2  78ee3b46-c3fd-4058-8041-f7fe15180268   \n",
       "3  d46358de-d9bf-4bc7-861a-cc3275203fde   \n",
       "4  5af2c15c-ec23-4a41-ac3d-1dab9fe9a057   \n",
       "\n",
       "                                     directMarketing eventMergeId  \\\n",
       "0  (NULL,\"(1.0)\",synthetic-user-5429@adobe.com,MD...         None   \n",
       "1                                               None         None   \n",
       "2  (NULL,\"(1.0)\",synthetic-user-7954@adobe.com,re...         None   \n",
       "3  (NULL,\"(1.0)\",synthetic-user-3552@adobe.com,5N...         None   \n",
       "4  (NULL,\"(1.0)\",synthetic-user-5914@adobe.com,YB...         None   \n",
       "\n",
       "                   eventType            producedBy                timestamp  \\\n",
       "0  directMarketing.emailSent  databricks-synthetic  2023-01-21 00:01:41.534   \n",
       "1      commerce.productViews  databricks-synthetic  2023-01-21 00:02:15.916   \n",
       "2  directMarketing.emailSent  databricks-synthetic  2023-01-21 00:02:34.534   \n",
       "3  directMarketing.emailSent  databricks-synthetic  2023-01-21 00:02:36.534   \n",
       "4  directMarketing.emailSent  databricks-synthetic  2023-01-21 00:05:18.534   \n",
       "\n",
       "                                                 web  \n",
       "0                                               None  \n",
       "1  (\"(http://www.SxTqn.com,\"(0.0)\",t91jg,n7Gcl,ex...  \n",
       "2                                               None  \n",
       "3                                               None  \n",
       "4                                               None  "
      ]
     },
     "execution_count": 8,
     "metadata": {},
     "output_type": "execute_result"
    }
   ],
   "source": [
    "sample_experience_event_query = f'''SELECT * FROM {table_name} LIMIT 5'''\n",
    "qs_cursor.query(sample_experience_event_query)"
   ]
  },
  {
   "cell_type": "markdown",
   "metadata": {
    "application/vnd.databricks.v1+cell": {
     "cellMetadata": {},
     "inputWidgets": {},
     "nuid": "a356d2d3-6931-4f7e-8286-ce74cf870f4f",
     "showTitle": false,
     "title": ""
    },
    "nteract": {
     "transient": {
      "deleting": false
     }
    }
   },
   "source": [
    "## 5.3 Querying Complex Fields\n",
    "\n",
    "Let's sample some of the fields in our dataset - we have different types, some are timestamps, some are just primitives like strings, and then some are complex nested XDM structures. Let's see what we get when we query it as-is: "
   ]
  },
  {
   "cell_type": "code",
   "execution_count": 9,
   "metadata": {
    "application/vnd.databricks.v1+cell": {
     "cellMetadata": {},
     "inputWidgets": {},
     "nuid": "62c856f3-b608-42e5-96b5-a1d10dfddd3c",
     "showTitle": false,
     "title": ""
    }
   },
   "outputs": [
    {
     "data": {
      "text/html": [
       "<div>\n",
       "<style scoped>\n",
       "    .dataframe tbody tr th:only-of-type {\n",
       "        vertical-align: middle;\n",
       "    }\n",
       "\n",
       "    .dataframe tbody tr th {\n",
       "        vertical-align: top;\n",
       "    }\n",
       "\n",
       "    .dataframe thead th {\n",
       "        text-align: right;\n",
       "    }\n",
       "</style>\n",
       "<table border=\"1\" class=\"dataframe\">\n",
       "  <thead>\n",
       "    <tr style=\"text-align: right;\">\n",
       "      <th></th>\n",
       "      <th>directMarketing</th>\n",
       "      <th>_id</th>\n",
       "      <th>eventType</th>\n",
       "      <th>timestamp</th>\n",
       "    </tr>\n",
       "  </thead>\n",
       "  <tbody>\n",
       "    <tr>\n",
       "      <th>0</th>\n",
       "      <td>(NULL,\"(1.0)\",synthetic-user-72328@adobe.com,h...</td>\n",
       "      <td>fbf988a7-deb1-4dfa-b6a6-0f22a1e479e8</td>\n",
       "      <td>directMarketing.emailSent</td>\n",
       "      <td>2023-01-21 00:01:18.909</td>\n",
       "    </tr>\n",
       "    <tr>\n",
       "      <th>1</th>\n",
       "      <td>(NULL,NULL,synthetic-user-74797@adobe.com,NULL...</td>\n",
       "      <td>04bf1142-325b-4faf-b028-dcecb0b38f1b</td>\n",
       "      <td>directMarketing.emailOpened</td>\n",
       "      <td>2023-01-21 00:01:30.281</td>\n",
       "    </tr>\n",
       "    <tr>\n",
       "      <th>2</th>\n",
       "      <td>(NULL,\"(1.0)\",synthetic-user-78676@adobe.com,z...</td>\n",
       "      <td>5127f038-ad0b-40b6-9689-d5e17c5b6589</td>\n",
       "      <td>directMarketing.emailSent</td>\n",
       "      <td>2023-01-21 00:01:34.909</td>\n",
       "    </tr>\n",
       "    <tr>\n",
       "      <th>3</th>\n",
       "      <td>None</td>\n",
       "      <td>2dd27960-2ee6-4926-a1ff-940a19be7b42</td>\n",
       "      <td>advertising.impressions</td>\n",
       "      <td>2023-01-21 00:02:35.909</td>\n",
       "    </tr>\n",
       "    <tr>\n",
       "      <th>4</th>\n",
       "      <td>(NULL,NULL,synthetic-user-72648@adobe.com,NULL...</td>\n",
       "      <td>c4439186-05dd-4b21-9867-424af166c1e6</td>\n",
       "      <td>directMarketing.emailOpened</td>\n",
       "      <td>2023-01-21 00:03:13.375</td>\n",
       "    </tr>\n",
       "  </tbody>\n",
       "</table>\n",
       "</div>"
      ],
      "text/plain": [
       "                                     directMarketing  \\\n",
       "0  (NULL,\"(1.0)\",synthetic-user-72328@adobe.com,h...   \n",
       "1  (NULL,NULL,synthetic-user-74797@adobe.com,NULL...   \n",
       "2  (NULL,\"(1.0)\",synthetic-user-78676@adobe.com,z...   \n",
       "3                                               None   \n",
       "4  (NULL,NULL,synthetic-user-72648@adobe.com,NULL...   \n",
       "\n",
       "                                    _id                    eventType  \\\n",
       "0  fbf988a7-deb1-4dfa-b6a6-0f22a1e479e8    directMarketing.emailSent   \n",
       "1  04bf1142-325b-4faf-b028-dcecb0b38f1b  directMarketing.emailOpened   \n",
       "2  5127f038-ad0b-40b6-9689-d5e17c5b6589    directMarketing.emailSent   \n",
       "3  2dd27960-2ee6-4926-a1ff-940a19be7b42      advertising.impressions   \n",
       "4  c4439186-05dd-4b21-9867-424af166c1e6  directMarketing.emailOpened   \n",
       "\n",
       "                 timestamp  \n",
       "0  2023-01-21 00:01:18.909  \n",
       "1  2023-01-21 00:01:30.281  \n",
       "2  2023-01-21 00:01:34.909  \n",
       "3  2023-01-21 00:02:35.909  \n",
       "4  2023-01-21 00:03:13.375  "
      ]
     },
     "execution_count": 9,
     "metadata": {},
     "output_type": "execute_result"
    }
   ],
   "source": [
    "schema_query= f'''SELECT directMarketing, _id, eventType, timestamp FROM {table_name} LIMIT 5'''\n",
    "df = qs_cursor.query(schema_query, output=\"dataframe\")\n",
    "df.head()"
   ]
  },
  {
   "cell_type": "markdown",
   "metadata": {},
   "source": [
    "As we can see when looking at the complex nested field, it's pretty hard to make sense of what this data is and the underlying structure:"
   ]
  },
  {
   "cell_type": "code",
   "execution_count": null,
   "metadata": {},
   "outputs": [],
   "source": [
    "df[\"directMarketing\"]"
   ]
  },
  {
   "cell_type": "code",
   "execution_count": 11,
   "metadata": {},
   "outputs": [
    {
     "data": {
      "text/plain": [
       "'(NULL,\"(1.0)\",synthetic-user-72328@adobe.com,h0etCqXVFg,db076fce-9c9a-4bab-ae63-25eb91e12de1,NULL,NULL,\"(1.0)\")'"
      ]
     },
     "execution_count": 11,
     "metadata": {},
     "output_type": "execute_result"
    }
   ],
   "source": [
    "df[\"directMarketing\"].iloc[0]"
   ]
  },
  {
   "cell_type": "markdown",
   "metadata": {},
   "source": [
    "Now let's run the same query again but with a twist: we can set the `auto_to_json` flag to be true - this configuration ensures that complex structures are automatically converted into a json form so that the field names can be queried."
   ]
  },
  {
   "cell_type": "code",
   "execution_count": 12,
   "metadata": {},
   "outputs": [
    {
     "data": {
      "text/html": [
       "<div>\n",
       "<style scoped>\n",
       "    .dataframe tbody tr th:only-of-type {\n",
       "        vertical-align: middle;\n",
       "    }\n",
       "\n",
       "    .dataframe tbody tr th {\n",
       "        vertical-align: top;\n",
       "    }\n",
       "\n",
       "    .dataframe thead th {\n",
       "        text-align: right;\n",
       "    }\n",
       "</style>\n",
       "<table border=\"1\" class=\"dataframe\">\n",
       "  <thead>\n",
       "    <tr style=\"text-align: right;\">\n",
       "      <th></th>\n",
       "      <th>_id</th>\n",
       "      <th>eventType</th>\n",
       "      <th>timestamp</th>\n",
       "      <th>directMarketing</th>\n",
       "    </tr>\n",
       "  </thead>\n",
       "  <tbody>\n",
       "    <tr>\n",
       "      <th>0</th>\n",
       "      <td>fbf988a7-deb1-4dfa-b6a6-0f22a1e479e8</td>\n",
       "      <td>directMarketing.emailSent</td>\n",
       "      <td>2023-01-21 00:01:18.909</td>\n",
       "      <td>{\"emailDelivered\":{\"value\":1.0},\"emailVisitorI...</td>\n",
       "    </tr>\n",
       "    <tr>\n",
       "      <th>1</th>\n",
       "      <td>04bf1142-325b-4faf-b028-dcecb0b38f1b</td>\n",
       "      <td>directMarketing.emailOpened</td>\n",
       "      <td>2023-01-21 00:01:30.281</td>\n",
       "      <td>{\"emailVisitorID\":\"synthetic-user-74797@adobe....</td>\n",
       "    </tr>\n",
       "    <tr>\n",
       "      <th>2</th>\n",
       "      <td>5127f038-ad0b-40b6-9689-d5e17c5b6589</td>\n",
       "      <td>directMarketing.emailSent</td>\n",
       "      <td>2023-01-21 00:01:34.909</td>\n",
       "      <td>{\"emailDelivered\":{\"value\":1.0},\"emailVisitorI...</td>\n",
       "    </tr>\n",
       "    <tr>\n",
       "      <th>3</th>\n",
       "      <td>2dd27960-2ee6-4926-a1ff-940a19be7b42</td>\n",
       "      <td>advertising.impressions</td>\n",
       "      <td>2023-01-21 00:02:35.909</td>\n",
       "      <td>None</td>\n",
       "    </tr>\n",
       "    <tr>\n",
       "      <th>4</th>\n",
       "      <td>c4439186-05dd-4b21-9867-424af166c1e6</td>\n",
       "      <td>directMarketing.emailOpened</td>\n",
       "      <td>2023-01-21 00:03:13.375</td>\n",
       "      <td>{\"emailVisitorID\":\"synthetic-user-72648@adobe....</td>\n",
       "    </tr>\n",
       "  </tbody>\n",
       "</table>\n",
       "</div>"
      ],
      "text/plain": [
       "                                    _id                    eventType  \\\n",
       "0  fbf988a7-deb1-4dfa-b6a6-0f22a1e479e8    directMarketing.emailSent   \n",
       "1  04bf1142-325b-4faf-b028-dcecb0b38f1b  directMarketing.emailOpened   \n",
       "2  5127f038-ad0b-40b6-9689-d5e17c5b6589    directMarketing.emailSent   \n",
       "3  2dd27960-2ee6-4926-a1ff-940a19be7b42      advertising.impressions   \n",
       "4  c4439186-05dd-4b21-9867-424af166c1e6  directMarketing.emailOpened   \n",
       "\n",
       "                 timestamp                                    directMarketing  \n",
       "0  2023-01-21 00:01:18.909  {\"emailDelivered\":{\"value\":1.0},\"emailVisitorI...  \n",
       "1  2023-01-21 00:01:30.281  {\"emailVisitorID\":\"synthetic-user-74797@adobe....  \n",
       "2  2023-01-21 00:01:34.909  {\"emailDelivered\":{\"value\":1.0},\"emailVisitorI...  \n",
       "3  2023-01-21 00:02:35.909                                               None  \n",
       "4  2023-01-21 00:03:13.375  {\"emailVisitorID\":\"synthetic-user-72648@adobe....  "
      ]
     },
     "execution_count": 12,
     "metadata": {},
     "output_type": "execute_result"
    }
   ],
   "source": [
    "schema_query= f\"\"\"\n",
    "SET auto_to_json=true; \n",
    "\n",
    "SELECT directMarketing, _id, eventType, timestamp \n",
    "FROM {table_name} \n",
    "LIMIT 5\"\"\"\n",
    "df = qs_cursor.query(schema_query, output=\"dataframe\")\n",
    "df"
   ]
  },
  {
   "cell_type": "markdown",
   "metadata": {},
   "source": [
    "As we can see, the data is now much easier to digest, and we can see clearly the underlying structure along with the different field names."
   ]
  },
  {
   "cell_type": "code",
   "execution_count": 13,
   "metadata": {},
   "outputs": [
    {
     "data": {
      "text/plain": [
       "'{\"emailDelivered\":{\"value\":1.0},\"emailVisitorID\":\"synthetic-user-72328@adobe.com\",\"hashedEmail\":\"h0etCqXVFg\",\"messageID\":\"db076fce-9c9a-4bab-ae63-25eb91e12de1\",\"sends\":{\"value\":1.0}}'"
      ]
     },
     "execution_count": 13,
     "metadata": {},
     "output_type": "execute_result"
    }
   ],
   "source": [
    "df[\"directMarketing\"].iloc[0]"
   ]
  },
  {
   "cell_type": "code",
   "execution_count": 14,
   "metadata": {},
   "outputs": [
    {
     "data": {
      "text/plain": [
       "{'emailDelivered': {'value': 1.0},\n",
       " 'emailVisitorID': 'synthetic-user-72328@adobe.com',\n",
       " 'hashedEmail': 'h0etCqXVFg',\n",
       " 'messageID': 'db076fce-9c9a-4bab-ae63-25eb91e12de1',\n",
       " 'sends': {'value': 1.0}}"
      ]
     },
     "execution_count": 14,
     "metadata": {},
     "output_type": "execute_result"
    }
   ],
   "source": [
    "import json\n",
    "\n",
    "json.loads(df[\"directMarketing\"].iloc[0])"
   ]
  },
  {
   "cell_type": "markdown",
   "metadata": {
    "application/vnd.databricks.v1+cell": {
     "cellMetadata": {},
     "inputWidgets": {},
     "nuid": "9ef944d7-9ac6-4946-ad9c-37f8d930b9bf",
     "showTitle": false,
     "title": ""
    },
    "nteract": {
     "transient": {
      "deleting": false
     }
    }
   },
   "source": [
    "## 5.4 Manually get some basic statistics\n",
    "\n",
    "Let's look at the number of rows, number of profiles in our synthetic dataset as an example of basic computations that can be done with Query Service:"
   ]
  },
  {
   "cell_type": "code",
   "execution_count": 53,
   "metadata": {
    "application/vnd.databricks.v1+cell": {
     "cellMetadata": {},
     "inputWidgets": {},
     "nuid": "6a9a9bc1-808f-4c8c-a446-545de9f46bc3",
     "showTitle": false,
     "title": ""
    },
    "collapsed": false,
    "gather": {
     "logged": 1667866562768
    },
    "jupyter": {
     "outputs_hidden": false,
     "source_hidden": false
    },
    "nteract": {
     "transient": {
      "deleting": false
     }
    }
   },
   "outputs": [
    {
     "data": {
      "text/html": [
       "<div>\n",
       "<style scoped>\n",
       "    .dataframe tbody tr th:only-of-type {\n",
       "        vertical-align: middle;\n",
       "    }\n",
       "\n",
       "    .dataframe tbody tr th {\n",
       "        vertical-align: top;\n",
       "    }\n",
       "\n",
       "    .dataframe thead th {\n",
       "        text-align: right;\n",
       "    }\n",
       "</style>\n",
       "<table border=\"1\" class=\"dataframe\">\n",
       "  <thead>\n",
       "    <tr style=\"text-align: right;\">\n",
       "      <th></th>\n",
       "      <th>totalRows</th>\n",
       "      <th>distinctUsers</th>\n",
       "    </tr>\n",
       "  </thead>\n",
       "  <tbody>\n",
       "    <tr>\n",
       "      <th>0</th>\n",
       "      <td>1064337</td>\n",
       "      <td>1064337</td>\n",
       "    </tr>\n",
       "  </tbody>\n",
       "</table>\n",
       "</div>"
      ],
      "text/plain": [
       "   totalRows  distinctUsers\n",
       "0    1064337        1064337"
      ]
     },
     "execution_count": 53,
     "metadata": {},
     "output_type": "execute_result"
    }
   ],
   "source": [
    "basic_statistics_query = f\"\"\"\n",
    "SELECT\n",
    "    COUNT(_id) as \"totalRows\",  \n",
    "    COUNT(DISTINCT _id) as \"distinctUsers\" \n",
    "FROM {table_name}\"\"\"\n",
    "df = qs_cursor.query(basic_statistics_query, output=\"dataframe\")\n",
    "df"
   ]
  },
  {
   "cell_type": "markdown",
   "metadata": {
    "application/vnd.databricks.v1+cell": {
     "cellMetadata": {},
     "inputWidgets": {},
     "nuid": "c8254ae0-3017-4390-b79a-4d68b9e62c0f",
     "showTitle": false,
     "title": ""
    }
   },
   "source": [
    "## 5.5 Create a sampled version of the table\n",
    "\n",
    "If our dataset is too big, or we simply don't need to get exact numbers for our queries, we can use the [sampling functionality](https://experienceleague.adobe.com/docs/experience-platform/query/sql/dataset-samples.html?lang=en) available in Query Service. This happens in multiple steps:\n",
    "- First we have to **analyze** the table to create an actual sample with a specific sampling ratio.\n",
    "- Then we can query the actual sample created which will automatically extrapolate the numbers to the full dataset.\n",
    "\n",
    "As an example below, this is how we start by analyzing the table and creating a 5% sample:"
   ]
  },
  {
   "cell_type": "code",
   "execution_count": 23,
   "metadata": {},
   "outputs": [],
   "source": [
    "# A sampling rate of 10 is 100% in Query Service, so for 5% we have to use 0.5\n",
    "sampling_rate = 0.5"
   ]
  },
  {
   "cell_type": "code",
   "execution_count": 9,
   "metadata": {},
   "outputs": [],
   "source": [
    "analyze_table_query=f\"\"\"\n",
    "SET aqp=true;\n",
    "\n",
    "ANALYZE TABLE {table_name} TABLESAMPLE SAMPLERATE {sampling_rate}\"\"\"\n",
    "qs_cursor.query(analyze_table_query, output=\"raw\")"
   ]
  },
  {
   "cell_type": "markdown",
   "metadata": {},
   "source": [
    "If we want to see all the different samples available for our table, we can use the `sample_meta` function which will have an entry for each sample pointing to that sample's dataset ID and table name as well as the recorded sampling ratio."
   ]
  },
  {
   "cell_type": "code",
   "execution_count": 12,
   "metadata": {
    "application/vnd.databricks.v1+cell": {
     "cellMetadata": {},
     "inputWidgets": {},
     "nuid": "f744d60d-303c-461a-bbca-fc6abc6619c0",
     "showTitle": false,
     "title": ""
    }
   },
   "outputs": [
    {
     "data": {
      "text/html": [
       "<div>\n",
       "<style scoped>\n",
       "    .dataframe tbody tr th:only-of-type {\n",
       "        vertical-align: middle;\n",
       "    }\n",
       "\n",
       "    .dataframe tbody tr th {\n",
       "        vertical-align: top;\n",
       "    }\n",
       "\n",
       "    .dataframe thead th {\n",
       "        text-align: right;\n",
       "    }\n",
       "</style>\n",
       "<table border=\"1\" class=\"dataframe\">\n",
       "  <thead>\n",
       "    <tr style=\"text-align: right;\">\n",
       "      <th></th>\n",
       "      <th>sample_table_name</th>\n",
       "      <th>sample_dataset_id</th>\n",
       "      <th>parent_dataset_id</th>\n",
       "      <th>sample_type</th>\n",
       "      <th>sampling_rate</th>\n",
       "      <th>filter_condition_on_source_dataset</th>\n",
       "      <th>sample_num_rows</th>\n",
       "      <th>created</th>\n",
       "    </tr>\n",
       "  </thead>\n",
       "  <tbody>\n",
       "    <tr>\n",
       "      <th>0</th>\n",
       "      <td>cmle_week1_new_notebook_with_ecid_used_dataset...</td>\n",
       "      <td>643426f164d2b81c05d79e6d</td>\n",
       "      <td>642c452bb871e21c0669cba8</td>\n",
       "      <td>uniform</td>\n",
       "      <td>0.5</td>\n",
       "      <td></td>\n",
       "      <td>5412</td>\n",
       "      <td>10/04/2023 03:10:41</td>\n",
       "    </tr>\n",
       "  </tbody>\n",
       "</table>\n",
       "</div>"
      ],
      "text/plain": [
       "                                   sample_table_name  \\\n",
       "0  cmle_week1_new_notebook_with_ecid_used_dataset...   \n",
       "\n",
       "          sample_dataset_id         parent_dataset_id sample_type  \\\n",
       "0  643426f164d2b81c05d79e6d  642c452bb871e21c0669cba8     uniform   \n",
       "\n",
       "   sampling_rate filter_condition_on_source_dataset  sample_num_rows  \\\n",
       "0            0.5                                                5412   \n",
       "\n",
       "               created  \n",
       "0  10/04/2023 03:10:41  "
      ]
     },
     "execution_count": 12,
     "metadata": {},
     "output_type": "execute_result"
    }
   ],
   "source": [
    "sampled_version_of_table_query = f'''SELECT sample_meta('{table_name}')'''\n",
    "\n",
    "df_samples = qs_cursor.query(sampled_version_of_table_query, output=\"dataframe\")\n",
    "df_samples"
   ]
  },
  {
   "cell_type": "markdown",
   "metadata": {},
   "source": [
    "So now let's compare what happens when we run the same query on both the original table, and our 5% sample. We're using a very simple query to just do a `COUNT` to compare both the accuracy of the result, and also how much faster it is."
   ]
  },
  {
   "cell_type": "code",
   "execution_count": 11,
   "metadata": {},
   "outputs": [
    {
     "name": "stdout",
     "output_type": "stream",
     "text": [
      "CPU times: user 1.29 ms, sys: 1.12 ms, total: 2.41 ms\n",
      "Wall time: 4.48 s\n"
     ]
    },
    {
     "data": {
      "text/html": [
       "<div>\n",
       "<style scoped>\n",
       "    .dataframe tbody tr th:only-of-type {\n",
       "        vertical-align: middle;\n",
       "    }\n",
       "\n",
       "    .dataframe tbody tr th {\n",
       "        vertical-align: top;\n",
       "    }\n",
       "\n",
       "    .dataframe thead th {\n",
       "        text-align: right;\n",
       "    }\n",
       "</style>\n",
       "<table border=\"1\" class=\"dataframe\">\n",
       "  <thead>\n",
       "    <tr style=\"text-align: right;\">\n",
       "      <th></th>\n",
       "      <th>count(1)</th>\n",
       "    </tr>\n",
       "  </thead>\n",
       "  <tbody>\n",
       "    <tr>\n",
       "      <th>0</th>\n",
       "      <td>1066272</td>\n",
       "    </tr>\n",
       "  </tbody>\n",
       "</table>\n",
       "</div>"
      ],
      "text/plain": [
       "   count(1)\n",
       "0   1066272"
      ]
     },
     "execution_count": 11,
     "metadata": {},
     "output_type": "execute_result"
    }
   ],
   "source": [
    "%%time\n",
    "count_query=f'''SELECT count(*) from {table_name}'''\n",
    "df = qs_cursor.query(count_query, output=\"dataframe\")\n",
    "df"
   ]
  },
  {
   "cell_type": "markdown",
   "metadata": {},
   "source": [
    "To query the sample we get the sampling table name from the metadata above, and then query it directly and multiply the results by the sampling ratio to get an estimate."
   ]
  },
  {
   "cell_type": "code",
   "execution_count": 20,
   "metadata": {},
   "outputs": [
    {
     "data": {
      "text/plain": [
       "'cmle_week1_new_notebook_with_ecid_used_dataset_cre_sample_0_5'"
      ]
     },
     "execution_count": 20,
     "metadata": {},
     "output_type": "execute_result"
    }
   ],
   "source": [
    "sample_table_name = df_samples[df_samples[\"sampling_rate\"] == sampling_rate][\"sample_table_name\"].iloc[0]\n",
    "sample_table_name"
   ]
  },
  {
   "cell_type": "code",
   "execution_count": 28,
   "metadata": {},
   "outputs": [
    {
     "name": "stdout",
     "output_type": "stream",
     "text": [
      "Approximate count: 1079600.0 using 5.0% sample\n",
      "CPU times: user 1.65 ms, sys: 1.23 ms, total: 2.87 ms\n",
      "Wall time: 3.08 s\n"
     ]
    }
   ],
   "source": [
    "%%time\n",
    "count_query=f'''SELECT count(*) as cnt from {sample_table_name}'''\n",
    "df = qs_cursor.query(count_query, output=\"dataframe\")\n",
    "approx_count = df[\"cnt\"].iloc[0] / (sampling_rate / 100)\n",
    "print(f\"Approximate count: {approx_count} using {sampling_rate *10}% sample\")"
   ]
  },
  {
   "cell_type": "markdown",
   "metadata": {},
   "source": [
    "<div class=\"alert alert-block alert-warning\">\n",
    "<b>Note:</b>\n",
    "    \n",
    "You can also query the latest sample from that dataset by using `SELECT * from {table_name} WITHAPPROXIMATE` however it is not advised to do aggregation queries or joins with that since this is only a uniform random sample.\n",
    "</div>"
   ]
  },
  {
   "cell_type": "markdown",
   "metadata": {},
   "source": [
    "We can see that the results are pretty accurate <1% error, and also the runtime is reduced by at least 20%, so using samples are a good choice for featurization data if we have a ML model that is not necessarily data-hungry."
   ]
  },
  {
   "cell_type": "markdown",
   "metadata": {
    "application/vnd.databricks.v1+cell": {
     "cellMetadata": {},
     "inputWidgets": {},
     "nuid": "272c9e84-9321-469e-9c9d-032fe45f4357",
     "showTitle": false,
     "title": ""
    }
   },
   "source": [
    "# 6. Analyzing the data\n",
    "\n",
    "Let's now analyze the data by creating a few visualizations using some commonly requested questions. \n",
    "\n",
    "## 6.1 Email Funnel Analysis\n",
    "\n",
    "Let's look at the funnel of how many users actually fill out the webForm. A funnel analysis is a method of understanding the steps required to reach an outcome on a website and how many users get through each of those steps."
   ]
  },
  {
   "cell_type": "code",
   "execution_count": 45,
   "metadata": {
    "application/vnd.databricks.v1+cell": {
     "cellMetadata": {},
     "inputWidgets": {},
     "nuid": "6627674c-a074-49f0-80cd-327e58be1f30",
     "showTitle": false,
     "title": ""
    },
    "scrolled": true
   },
   "outputs": [
    {
     "data": {
      "text/html": [
       "<div>\n",
       "<style scoped>\n",
       "    .dataframe tbody tr th:only-of-type {\n",
       "        vertical-align: middle;\n",
       "    }\n",
       "\n",
       "    .dataframe tbody tr th {\n",
       "        vertical-align: top;\n",
       "    }\n",
       "\n",
       "    .dataframe thead th {\n",
       "        text-align: right;\n",
       "    }\n",
       "</style>\n",
       "<table border=\"1\" class=\"dataframe\">\n",
       "  <thead>\n",
       "    <tr style=\"text-align: right;\">\n",
       "      <th></th>\n",
       "      <th>eventType</th>\n",
       "      <th>distinctUsers</th>\n",
       "      <th>distinctEvents</th>\n",
       "    </tr>\n",
       "  </thead>\n",
       "  <tbody>\n",
       "    <tr>\n",
       "      <th>0</th>\n",
       "      <td>directMarketing.emailSent</td>\n",
       "      <td>500970</td>\n",
       "      <td>500970</td>\n",
       "    </tr>\n",
       "    <tr>\n",
       "      <th>1</th>\n",
       "      <td>directMarketing.emailOpened</td>\n",
       "      <td>198474</td>\n",
       "      <td>198474</td>\n",
       "    </tr>\n",
       "    <tr>\n",
       "      <th>2</th>\n",
       "      <td>advertising.impressions</td>\n",
       "      <td>100246</td>\n",
       "      <td>100246</td>\n",
       "    </tr>\n",
       "    <tr>\n",
       "      <th>3</th>\n",
       "      <td>web.webpagedetails.pageViews</td>\n",
       "      <td>99389</td>\n",
       "      <td>99389</td>\n",
       "    </tr>\n",
       "    <tr>\n",
       "      <th>4</th>\n",
       "      <td>directMarketing.emailClicked</td>\n",
       "      <td>42431</td>\n",
       "      <td>42431</td>\n",
       "    </tr>\n",
       "    <tr>\n",
       "      <th>5</th>\n",
       "      <td>decisioning.propositionDisplay</td>\n",
       "      <td>31639</td>\n",
       "      <td>31639</td>\n",
       "    </tr>\n",
       "    <tr>\n",
       "      <th>6</th>\n",
       "      <td>commerce.productViews</td>\n",
       "      <td>31545</td>\n",
       "      <td>31545</td>\n",
       "    </tr>\n",
       "    <tr>\n",
       "      <th>7</th>\n",
       "      <td>web.webinteraction.linkClicks</td>\n",
       "      <td>31501</td>\n",
       "      <td>31501</td>\n",
       "    </tr>\n",
       "    <tr>\n",
       "      <th>8</th>\n",
       "      <td>web.formFilledOut</td>\n",
       "      <td>14841</td>\n",
       "      <td>14841</td>\n",
       "    </tr>\n",
       "    <tr>\n",
       "      <th>9</th>\n",
       "      <td>advertising.clicks</td>\n",
       "      <td>6376</td>\n",
       "      <td>6376</td>\n",
       "    </tr>\n",
       "    <tr>\n",
       "      <th>10</th>\n",
       "      <td>decisioning.propositionDismiss</td>\n",
       "      <td>2554</td>\n",
       "      <td>2554</td>\n",
       "    </tr>\n",
       "    <tr>\n",
       "      <th>11</th>\n",
       "      <td>decisioning.propositionInteract</td>\n",
       "      <td>2540</td>\n",
       "      <td>2540</td>\n",
       "    </tr>\n",
       "    <tr>\n",
       "      <th>12</th>\n",
       "      <td>commerce.purchases</td>\n",
       "      <td>2538</td>\n",
       "      <td>2538</td>\n",
       "    </tr>\n",
       "  </tbody>\n",
       "</table>\n",
       "</div>"
      ],
      "text/plain": [
       "                          eventType  distinctUsers  distinctEvents\n",
       "0         directMarketing.emailSent         500970          500970\n",
       "1       directMarketing.emailOpened         198474          198474\n",
       "2           advertising.impressions         100246          100246\n",
       "3      web.webpagedetails.pageViews          99389           99389\n",
       "4      directMarketing.emailClicked          42431           42431\n",
       "5    decisioning.propositionDisplay          31639           31639\n",
       "6             commerce.productViews          31545           31545\n",
       "7     web.webinteraction.linkClicks          31501           31501\n",
       "8                 web.formFilledOut          14841           14841\n",
       "9                advertising.clicks           6376            6376\n",
       "10   decisioning.propositionDismiss           2554            2554\n",
       "11  decisioning.propositionInteract           2540            2540\n",
       "12               commerce.purchases           2538            2538"
      ]
     },
     "execution_count": 45,
     "metadata": {},
     "output_type": "execute_result"
    }
   ],
   "source": [
    "simple_funnel_analysis_query = f'''SELECT eventType, COUNT(DISTINCT _id) as \"distinctUsers\",COUNT(_id) as \"distinctEvents\" FROM {table_name} GROUP BY eventType ORDER BY distinctUsers DESC'''\n",
    "funnel_df = qs_cursor.query(simple_funnel_analysis_query, output=\"dataframe\")\n",
    "funnel_df"
   ]
  },
  {
   "cell_type": "markdown",
   "metadata": {
    "application/vnd.databricks.v1+cell": {
     "cellMetadata": {},
     "inputWidgets": {},
     "nuid": "747b6df6-a2a1-48e0-9027-0284bbe839e0",
     "showTitle": false,
     "title": ""
    },
    "nteract": {
     "transient": {
      "deleting": false
     }
    }
   },
   "source": [
    "Here, we launch a query to get number of users in each phase"
   ]
  },
  {
   "cell_type": "code",
   "execution_count": 48,
   "metadata": {
    "application/vnd.databricks.v1+cell": {
     "cellMetadata": {},
     "inputWidgets": {},
     "nuid": "20853d7e-9b9f-4472-b96b-cbc74d22a7ce",
     "showTitle": false,
     "title": ""
    },
    "gather": {
     "logged": 1667870707273
    },
    "scrolled": true
   },
   "outputs": [
    {
     "data": {
      "application/vnd.plotly.v1+json": {
       "config": {
        "plotlyServerURL": "https://plot.ly"
       },
       "data": [
        {
         "hovertemplate": "distinctUsers=%{x}<br>eventType=%{y}<extra></extra>",
         "legendgroup": "",
         "marker": {
          "color": "#636efa"
         },
         "name": "",
         "orientation": "h",
         "showlegend": false,
         "type": "funnel",
         "x": [
          500970,
          198474,
          42431,
          14841
         ],
         "xaxis": "x",
         "y": [
          "directMarketing.emailSent",
          "directMarketing.emailOpened",
          "directMarketing.emailClicked",
          "web.formFilledOut"
         ],
         "yaxis": "y"
        }
       ],
       "layout": {
        "legend": {
         "tracegroupgap": 0
        },
        "margin": {
         "t": 60
        },
        "template": {
         "data": {
          "bar": [
           {
            "error_x": {
             "color": "#2a3f5f"
            },
            "error_y": {
             "color": "#2a3f5f"
            },
            "marker": {
             "line": {
              "color": "#E5ECF6",
              "width": 0.5
             },
             "pattern": {
              "fillmode": "overlay",
              "size": 10,
              "solidity": 0.2
             }
            },
            "type": "bar"
           }
          ],
          "barpolar": [
           {
            "marker": {
             "line": {
              "color": "#E5ECF6",
              "width": 0.5
             },
             "pattern": {
              "fillmode": "overlay",
              "size": 10,
              "solidity": 0.2
             }
            },
            "type": "barpolar"
           }
          ],
          "carpet": [
           {
            "aaxis": {
             "endlinecolor": "#2a3f5f",
             "gridcolor": "white",
             "linecolor": "white",
             "minorgridcolor": "white",
             "startlinecolor": "#2a3f5f"
            },
            "baxis": {
             "endlinecolor": "#2a3f5f",
             "gridcolor": "white",
             "linecolor": "white",
             "minorgridcolor": "white",
             "startlinecolor": "#2a3f5f"
            },
            "type": "carpet"
           }
          ],
          "choropleth": [
           {
            "colorbar": {
             "outlinewidth": 0,
             "ticks": ""
            },
            "type": "choropleth"
           }
          ],
          "contour": [
           {
            "colorbar": {
             "outlinewidth": 0,
             "ticks": ""
            },
            "colorscale": [
             [
              0,
              "#0d0887"
             ],
             [
              0.1111111111111111,
              "#46039f"
             ],
             [
              0.2222222222222222,
              "#7201a8"
             ],
             [
              0.3333333333333333,
              "#9c179e"
             ],
             [
              0.4444444444444444,
              "#bd3786"
             ],
             [
              0.5555555555555556,
              "#d8576b"
             ],
             [
              0.6666666666666666,
              "#ed7953"
             ],
             [
              0.7777777777777778,
              "#fb9f3a"
             ],
             [
              0.8888888888888888,
              "#fdca26"
             ],
             [
              1,
              "#f0f921"
             ]
            ],
            "type": "contour"
           }
          ],
          "contourcarpet": [
           {
            "colorbar": {
             "outlinewidth": 0,
             "ticks": ""
            },
            "type": "contourcarpet"
           }
          ],
          "heatmap": [
           {
            "colorbar": {
             "outlinewidth": 0,
             "ticks": ""
            },
            "colorscale": [
             [
              0,
              "#0d0887"
             ],
             [
              0.1111111111111111,
              "#46039f"
             ],
             [
              0.2222222222222222,
              "#7201a8"
             ],
             [
              0.3333333333333333,
              "#9c179e"
             ],
             [
              0.4444444444444444,
              "#bd3786"
             ],
             [
              0.5555555555555556,
              "#d8576b"
             ],
             [
              0.6666666666666666,
              "#ed7953"
             ],
             [
              0.7777777777777778,
              "#fb9f3a"
             ],
             [
              0.8888888888888888,
              "#fdca26"
             ],
             [
              1,
              "#f0f921"
             ]
            ],
            "type": "heatmap"
           }
          ],
          "heatmapgl": [
           {
            "colorbar": {
             "outlinewidth": 0,
             "ticks": ""
            },
            "colorscale": [
             [
              0,
              "#0d0887"
             ],
             [
              0.1111111111111111,
              "#46039f"
             ],
             [
              0.2222222222222222,
              "#7201a8"
             ],
             [
              0.3333333333333333,
              "#9c179e"
             ],
             [
              0.4444444444444444,
              "#bd3786"
             ],
             [
              0.5555555555555556,
              "#d8576b"
             ],
             [
              0.6666666666666666,
              "#ed7953"
             ],
             [
              0.7777777777777778,
              "#fb9f3a"
             ],
             [
              0.8888888888888888,
              "#fdca26"
             ],
             [
              1,
              "#f0f921"
             ]
            ],
            "type": "heatmapgl"
           }
          ],
          "histogram": [
           {
            "marker": {
             "pattern": {
              "fillmode": "overlay",
              "size": 10,
              "solidity": 0.2
             }
            },
            "type": "histogram"
           }
          ],
          "histogram2d": [
           {
            "colorbar": {
             "outlinewidth": 0,
             "ticks": ""
            },
            "colorscale": [
             [
              0,
              "#0d0887"
             ],
             [
              0.1111111111111111,
              "#46039f"
             ],
             [
              0.2222222222222222,
              "#7201a8"
             ],
             [
              0.3333333333333333,
              "#9c179e"
             ],
             [
              0.4444444444444444,
              "#bd3786"
             ],
             [
              0.5555555555555556,
              "#d8576b"
             ],
             [
              0.6666666666666666,
              "#ed7953"
             ],
             [
              0.7777777777777778,
              "#fb9f3a"
             ],
             [
              0.8888888888888888,
              "#fdca26"
             ],
             [
              1,
              "#f0f921"
             ]
            ],
            "type": "histogram2d"
           }
          ],
          "histogram2dcontour": [
           {
            "colorbar": {
             "outlinewidth": 0,
             "ticks": ""
            },
            "colorscale": [
             [
              0,
              "#0d0887"
             ],
             [
              0.1111111111111111,
              "#46039f"
             ],
             [
              0.2222222222222222,
              "#7201a8"
             ],
             [
              0.3333333333333333,
              "#9c179e"
             ],
             [
              0.4444444444444444,
              "#bd3786"
             ],
             [
              0.5555555555555556,
              "#d8576b"
             ],
             [
              0.6666666666666666,
              "#ed7953"
             ],
             [
              0.7777777777777778,
              "#fb9f3a"
             ],
             [
              0.8888888888888888,
              "#fdca26"
             ],
             [
              1,
              "#f0f921"
             ]
            ],
            "type": "histogram2dcontour"
           }
          ],
          "mesh3d": [
           {
            "colorbar": {
             "outlinewidth": 0,
             "ticks": ""
            },
            "type": "mesh3d"
           }
          ],
          "parcoords": [
           {
            "line": {
             "colorbar": {
              "outlinewidth": 0,
              "ticks": ""
             }
            },
            "type": "parcoords"
           }
          ],
          "pie": [
           {
            "automargin": true,
            "type": "pie"
           }
          ],
          "scatter": [
           {
            "fillpattern": {
             "fillmode": "overlay",
             "size": 10,
             "solidity": 0.2
            },
            "type": "scatter"
           }
          ],
          "scatter3d": [
           {
            "line": {
             "colorbar": {
              "outlinewidth": 0,
              "ticks": ""
             }
            },
            "marker": {
             "colorbar": {
              "outlinewidth": 0,
              "ticks": ""
             }
            },
            "type": "scatter3d"
           }
          ],
          "scattercarpet": [
           {
            "marker": {
             "colorbar": {
              "outlinewidth": 0,
              "ticks": ""
             }
            },
            "type": "scattercarpet"
           }
          ],
          "scattergeo": [
           {
            "marker": {
             "colorbar": {
              "outlinewidth": 0,
              "ticks": ""
             }
            },
            "type": "scattergeo"
           }
          ],
          "scattergl": [
           {
            "marker": {
             "colorbar": {
              "outlinewidth": 0,
              "ticks": ""
             }
            },
            "type": "scattergl"
           }
          ],
          "scattermapbox": [
           {
            "marker": {
             "colorbar": {
              "outlinewidth": 0,
              "ticks": ""
             }
            },
            "type": "scattermapbox"
           }
          ],
          "scatterpolar": [
           {
            "marker": {
             "colorbar": {
              "outlinewidth": 0,
              "ticks": ""
             }
            },
            "type": "scatterpolar"
           }
          ],
          "scatterpolargl": [
           {
            "marker": {
             "colorbar": {
              "outlinewidth": 0,
              "ticks": ""
             }
            },
            "type": "scatterpolargl"
           }
          ],
          "scatterternary": [
           {
            "marker": {
             "colorbar": {
              "outlinewidth": 0,
              "ticks": ""
             }
            },
            "type": "scatterternary"
           }
          ],
          "surface": [
           {
            "colorbar": {
             "outlinewidth": 0,
             "ticks": ""
            },
            "colorscale": [
             [
              0,
              "#0d0887"
             ],
             [
              0.1111111111111111,
              "#46039f"
             ],
             [
              0.2222222222222222,
              "#7201a8"
             ],
             [
              0.3333333333333333,
              "#9c179e"
             ],
             [
              0.4444444444444444,
              "#bd3786"
             ],
             [
              0.5555555555555556,
              "#d8576b"
             ],
             [
              0.6666666666666666,
              "#ed7953"
             ],
             [
              0.7777777777777778,
              "#fb9f3a"
             ],
             [
              0.8888888888888888,
              "#fdca26"
             ],
             [
              1,
              "#f0f921"
             ]
            ],
            "type": "surface"
           }
          ],
          "table": [
           {
            "cells": {
             "fill": {
              "color": "#EBF0F8"
             },
             "line": {
              "color": "white"
             }
            },
            "header": {
             "fill": {
              "color": "#C8D4E3"
             },
             "line": {
              "color": "white"
             }
            },
            "type": "table"
           }
          ]
         },
         "layout": {
          "annotationdefaults": {
           "arrowcolor": "#2a3f5f",
           "arrowhead": 0,
           "arrowwidth": 1
          },
          "autotypenumbers": "strict",
          "coloraxis": {
           "colorbar": {
            "outlinewidth": 0,
            "ticks": ""
           }
          },
          "colorscale": {
           "diverging": [
            [
             0,
             "#8e0152"
            ],
            [
             0.1,
             "#c51b7d"
            ],
            [
             0.2,
             "#de77ae"
            ],
            [
             0.3,
             "#f1b6da"
            ],
            [
             0.4,
             "#fde0ef"
            ],
            [
             0.5,
             "#f7f7f7"
            ],
            [
             0.6,
             "#e6f5d0"
            ],
            [
             0.7,
             "#b8e186"
            ],
            [
             0.8,
             "#7fbc41"
            ],
            [
             0.9,
             "#4d9221"
            ],
            [
             1,
             "#276419"
            ]
           ],
           "sequential": [
            [
             0,
             "#0d0887"
            ],
            [
             0.1111111111111111,
             "#46039f"
            ],
            [
             0.2222222222222222,
             "#7201a8"
            ],
            [
             0.3333333333333333,
             "#9c179e"
            ],
            [
             0.4444444444444444,
             "#bd3786"
            ],
            [
             0.5555555555555556,
             "#d8576b"
            ],
            [
             0.6666666666666666,
             "#ed7953"
            ],
            [
             0.7777777777777778,
             "#fb9f3a"
            ],
            [
             0.8888888888888888,
             "#fdca26"
            ],
            [
             1,
             "#f0f921"
            ]
           ],
           "sequentialminus": [
            [
             0,
             "#0d0887"
            ],
            [
             0.1111111111111111,
             "#46039f"
            ],
            [
             0.2222222222222222,
             "#7201a8"
            ],
            [
             0.3333333333333333,
             "#9c179e"
            ],
            [
             0.4444444444444444,
             "#bd3786"
            ],
            [
             0.5555555555555556,
             "#d8576b"
            ],
            [
             0.6666666666666666,
             "#ed7953"
            ],
            [
             0.7777777777777778,
             "#fb9f3a"
            ],
            [
             0.8888888888888888,
             "#fdca26"
            ],
            [
             1,
             "#f0f921"
            ]
           ]
          },
          "colorway": [
           "#636efa",
           "#EF553B",
           "#00cc96",
           "#ab63fa",
           "#FFA15A",
           "#19d3f3",
           "#FF6692",
           "#B6E880",
           "#FF97FF",
           "#FECB52"
          ],
          "font": {
           "color": "#2a3f5f"
          },
          "geo": {
           "bgcolor": "white",
           "lakecolor": "white",
           "landcolor": "#E5ECF6",
           "showlakes": true,
           "showland": true,
           "subunitcolor": "white"
          },
          "hoverlabel": {
           "align": "left"
          },
          "hovermode": "closest",
          "mapbox": {
           "style": "light"
          },
          "paper_bgcolor": "white",
          "plot_bgcolor": "#E5ECF6",
          "polar": {
           "angularaxis": {
            "gridcolor": "white",
            "linecolor": "white",
            "ticks": ""
           },
           "bgcolor": "#E5ECF6",
           "radialaxis": {
            "gridcolor": "white",
            "linecolor": "white",
            "ticks": ""
           }
          },
          "scene": {
           "xaxis": {
            "backgroundcolor": "#E5ECF6",
            "gridcolor": "white",
            "gridwidth": 2,
            "linecolor": "white",
            "showbackground": true,
            "ticks": "",
            "zerolinecolor": "white"
           },
           "yaxis": {
            "backgroundcolor": "#E5ECF6",
            "gridcolor": "white",
            "gridwidth": 2,
            "linecolor": "white",
            "showbackground": true,
            "ticks": "",
            "zerolinecolor": "white"
           },
           "zaxis": {
            "backgroundcolor": "#E5ECF6",
            "gridcolor": "white",
            "gridwidth": 2,
            "linecolor": "white",
            "showbackground": true,
            "ticks": "",
            "zerolinecolor": "white"
           }
          },
          "shapedefaults": {
           "line": {
            "color": "#2a3f5f"
           }
          },
          "ternary": {
           "aaxis": {
            "gridcolor": "white",
            "linecolor": "white",
            "ticks": ""
           },
           "baxis": {
            "gridcolor": "white",
            "linecolor": "white",
            "ticks": ""
           },
           "bgcolor": "#E5ECF6",
           "caxis": {
            "gridcolor": "white",
            "linecolor": "white",
            "ticks": ""
           }
          },
          "title": {
           "x": 0.05
          },
          "xaxis": {
           "automargin": true,
           "gridcolor": "white",
           "linecolor": "white",
           "ticks": "",
           "title": {
            "standoff": 15
           },
           "zerolinecolor": "white",
           "zerolinewidth": 2
          },
          "yaxis": {
           "automargin": true,
           "gridcolor": "white",
           "linecolor": "white",
           "ticks": "",
           "title": {
            "standoff": 15
           },
           "zerolinecolor": "white",
           "zerolinewidth": 2
          }
         }
        },
        "xaxis": {
         "anchor": "y",
         "domain": [
          0,
          1
         ],
         "title": {
          "text": "distinctUsers"
         }
        },
        "yaxis": {
         "anchor": "x",
         "domain": [
          0,
          1
         ],
         "title": {
          "text": "eventType"
         }
        }
       }
      },
      "text/html": [
       "<div>                            <div id=\"4ee44c6a-71c6-45bb-9cd7-851832611dd1\" class=\"plotly-graph-div\" style=\"height:525px; width:100%;\"></div>            <script type=\"text/javascript\">                require([\"plotly\"], function(Plotly) {                    window.PLOTLYENV=window.PLOTLYENV || {};                                    if (document.getElementById(\"4ee44c6a-71c6-45bb-9cd7-851832611dd1\")) {                    Plotly.newPlot(                        \"4ee44c6a-71c6-45bb-9cd7-851832611dd1\",                        [{\"hovertemplate\":\"distinctUsers=%{x}<br>eventType=%{y}<extra></extra>\",\"legendgroup\":\"\",\"marker\":{\"color\":\"#636efa\"},\"name\":\"\",\"orientation\":\"h\",\"showlegend\":false,\"x\":[500970,198474,42431,14841],\"xaxis\":\"x\",\"y\":[\"directMarketing.emailSent\",\"directMarketing.emailOpened\",\"directMarketing.emailClicked\",\"web.formFilledOut\"],\"yaxis\":\"y\",\"type\":\"funnel\"}],                        {\"template\":{\"data\":{\"histogram2dcontour\":[{\"type\":\"histogram2dcontour\",\"colorbar\":{\"outlinewidth\":0,\"ticks\":\"\"},\"colorscale\":[[0.0,\"#0d0887\"],[0.1111111111111111,\"#46039f\"],[0.2222222222222222,\"#7201a8\"],[0.3333333333333333,\"#9c179e\"],[0.4444444444444444,\"#bd3786\"],[0.5555555555555556,\"#d8576b\"],[0.6666666666666666,\"#ed7953\"],[0.7777777777777778,\"#fb9f3a\"],[0.8888888888888888,\"#fdca26\"],[1.0,\"#f0f921\"]]}],\"choropleth\":[{\"type\":\"choropleth\",\"colorbar\":{\"outlinewidth\":0,\"ticks\":\"\"}}],\"histogram2d\":[{\"type\":\"histogram2d\",\"colorbar\":{\"outlinewidth\":0,\"ticks\":\"\"},\"colorscale\":[[0.0,\"#0d0887\"],[0.1111111111111111,\"#46039f\"],[0.2222222222222222,\"#7201a8\"],[0.3333333333333333,\"#9c179e\"],[0.4444444444444444,\"#bd3786\"],[0.5555555555555556,\"#d8576b\"],[0.6666666666666666,\"#ed7953\"],[0.7777777777777778,\"#fb9f3a\"],[0.8888888888888888,\"#fdca26\"],[1.0,\"#f0f921\"]]}],\"heatmap\":[{\"type\":\"heatmap\",\"colorbar\":{\"outlinewidth\":0,\"ticks\":\"\"},\"colorscale\":[[0.0,\"#0d0887\"],[0.1111111111111111,\"#46039f\"],[0.2222222222222222,\"#7201a8\"],[0.3333333333333333,\"#9c179e\"],[0.4444444444444444,\"#bd3786\"],[0.5555555555555556,\"#d8576b\"],[0.6666666666666666,\"#ed7953\"],[0.7777777777777778,\"#fb9f3a\"],[0.8888888888888888,\"#fdca26\"],[1.0,\"#f0f921\"]]}],\"heatmapgl\":[{\"type\":\"heatmapgl\",\"colorbar\":{\"outlinewidth\":0,\"ticks\":\"\"},\"colorscale\":[[0.0,\"#0d0887\"],[0.1111111111111111,\"#46039f\"],[0.2222222222222222,\"#7201a8\"],[0.3333333333333333,\"#9c179e\"],[0.4444444444444444,\"#bd3786\"],[0.5555555555555556,\"#d8576b\"],[0.6666666666666666,\"#ed7953\"],[0.7777777777777778,\"#fb9f3a\"],[0.8888888888888888,\"#fdca26\"],[1.0,\"#f0f921\"]]}],\"contourcarpet\":[{\"type\":\"contourcarpet\",\"colorbar\":{\"outlinewidth\":0,\"ticks\":\"\"}}],\"contour\":[{\"type\":\"contour\",\"colorbar\":{\"outlinewidth\":0,\"ticks\":\"\"},\"colorscale\":[[0.0,\"#0d0887\"],[0.1111111111111111,\"#46039f\"],[0.2222222222222222,\"#7201a8\"],[0.3333333333333333,\"#9c179e\"],[0.4444444444444444,\"#bd3786\"],[0.5555555555555556,\"#d8576b\"],[0.6666666666666666,\"#ed7953\"],[0.7777777777777778,\"#fb9f3a\"],[0.8888888888888888,\"#fdca26\"],[1.0,\"#f0f921\"]]}],\"surface\":[{\"type\":\"surface\",\"colorbar\":{\"outlinewidth\":0,\"ticks\":\"\"},\"colorscale\":[[0.0,\"#0d0887\"],[0.1111111111111111,\"#46039f\"],[0.2222222222222222,\"#7201a8\"],[0.3333333333333333,\"#9c179e\"],[0.4444444444444444,\"#bd3786\"],[0.5555555555555556,\"#d8576b\"],[0.6666666666666666,\"#ed7953\"],[0.7777777777777778,\"#fb9f3a\"],[0.8888888888888888,\"#fdca26\"],[1.0,\"#f0f921\"]]}],\"mesh3d\":[{\"type\":\"mesh3d\",\"colorbar\":{\"outlinewidth\":0,\"ticks\":\"\"}}],\"scatter\":[{\"fillpattern\":{\"fillmode\":\"overlay\",\"size\":10,\"solidity\":0.2},\"type\":\"scatter\"}],\"parcoords\":[{\"type\":\"parcoords\",\"line\":{\"colorbar\":{\"outlinewidth\":0,\"ticks\":\"\"}}}],\"scatterpolargl\":[{\"type\":\"scatterpolargl\",\"marker\":{\"colorbar\":{\"outlinewidth\":0,\"ticks\":\"\"}}}],\"bar\":[{\"error_x\":{\"color\":\"#2a3f5f\"},\"error_y\":{\"color\":\"#2a3f5f\"},\"marker\":{\"line\":{\"color\":\"#E5ECF6\",\"width\":0.5},\"pattern\":{\"fillmode\":\"overlay\",\"size\":10,\"solidity\":0.2}},\"type\":\"bar\"}],\"scattergeo\":[{\"type\":\"scattergeo\",\"marker\":{\"colorbar\":{\"outlinewidth\":0,\"ticks\":\"\"}}}],\"scatterpolar\":[{\"type\":\"scatterpolar\",\"marker\":{\"colorbar\":{\"outlinewidth\":0,\"ticks\":\"\"}}}],\"histogram\":[{\"marker\":{\"pattern\":{\"fillmode\":\"overlay\",\"size\":10,\"solidity\":0.2}},\"type\":\"histogram\"}],\"scattergl\":[{\"type\":\"scattergl\",\"marker\":{\"colorbar\":{\"outlinewidth\":0,\"ticks\":\"\"}}}],\"scatter3d\":[{\"type\":\"scatter3d\",\"line\":{\"colorbar\":{\"outlinewidth\":0,\"ticks\":\"\"}},\"marker\":{\"colorbar\":{\"outlinewidth\":0,\"ticks\":\"\"}}}],\"scattermapbox\":[{\"type\":\"scattermapbox\",\"marker\":{\"colorbar\":{\"outlinewidth\":0,\"ticks\":\"\"}}}],\"scatterternary\":[{\"type\":\"scatterternary\",\"marker\":{\"colorbar\":{\"outlinewidth\":0,\"ticks\":\"\"}}}],\"scattercarpet\":[{\"type\":\"scattercarpet\",\"marker\":{\"colorbar\":{\"outlinewidth\":0,\"ticks\":\"\"}}}],\"carpet\":[{\"aaxis\":{\"endlinecolor\":\"#2a3f5f\",\"gridcolor\":\"white\",\"linecolor\":\"white\",\"minorgridcolor\":\"white\",\"startlinecolor\":\"#2a3f5f\"},\"baxis\":{\"endlinecolor\":\"#2a3f5f\",\"gridcolor\":\"white\",\"linecolor\":\"white\",\"minorgridcolor\":\"white\",\"startlinecolor\":\"#2a3f5f\"},\"type\":\"carpet\"}],\"table\":[{\"cells\":{\"fill\":{\"color\":\"#EBF0F8\"},\"line\":{\"color\":\"white\"}},\"header\":{\"fill\":{\"color\":\"#C8D4E3\"},\"line\":{\"color\":\"white\"}},\"type\":\"table\"}],\"barpolar\":[{\"marker\":{\"line\":{\"color\":\"#E5ECF6\",\"width\":0.5},\"pattern\":{\"fillmode\":\"overlay\",\"size\":10,\"solidity\":0.2}},\"type\":\"barpolar\"}],\"pie\":[{\"automargin\":true,\"type\":\"pie\"}]},\"layout\":{\"autotypenumbers\":\"strict\",\"colorway\":[\"#636efa\",\"#EF553B\",\"#00cc96\",\"#ab63fa\",\"#FFA15A\",\"#19d3f3\",\"#FF6692\",\"#B6E880\",\"#FF97FF\",\"#FECB52\"],\"font\":{\"color\":\"#2a3f5f\"},\"hovermode\":\"closest\",\"hoverlabel\":{\"align\":\"left\"},\"paper_bgcolor\":\"white\",\"plot_bgcolor\":\"#E5ECF6\",\"polar\":{\"bgcolor\":\"#E5ECF6\",\"angularaxis\":{\"gridcolor\":\"white\",\"linecolor\":\"white\",\"ticks\":\"\"},\"radialaxis\":{\"gridcolor\":\"white\",\"linecolor\":\"white\",\"ticks\":\"\"}},\"ternary\":{\"bgcolor\":\"#E5ECF6\",\"aaxis\":{\"gridcolor\":\"white\",\"linecolor\":\"white\",\"ticks\":\"\"},\"baxis\":{\"gridcolor\":\"white\",\"linecolor\":\"white\",\"ticks\":\"\"},\"caxis\":{\"gridcolor\":\"white\",\"linecolor\":\"white\",\"ticks\":\"\"}},\"coloraxis\":{\"colorbar\":{\"outlinewidth\":0,\"ticks\":\"\"}},\"colorscale\":{\"sequential\":[[0.0,\"#0d0887\"],[0.1111111111111111,\"#46039f\"],[0.2222222222222222,\"#7201a8\"],[0.3333333333333333,\"#9c179e\"],[0.4444444444444444,\"#bd3786\"],[0.5555555555555556,\"#d8576b\"],[0.6666666666666666,\"#ed7953\"],[0.7777777777777778,\"#fb9f3a\"],[0.8888888888888888,\"#fdca26\"],[1.0,\"#f0f921\"]],\"sequentialminus\":[[0.0,\"#0d0887\"],[0.1111111111111111,\"#46039f\"],[0.2222222222222222,\"#7201a8\"],[0.3333333333333333,\"#9c179e\"],[0.4444444444444444,\"#bd3786\"],[0.5555555555555556,\"#d8576b\"],[0.6666666666666666,\"#ed7953\"],[0.7777777777777778,\"#fb9f3a\"],[0.8888888888888888,\"#fdca26\"],[1.0,\"#f0f921\"]],\"diverging\":[[0,\"#8e0152\"],[0.1,\"#c51b7d\"],[0.2,\"#de77ae\"],[0.3,\"#f1b6da\"],[0.4,\"#fde0ef\"],[0.5,\"#f7f7f7\"],[0.6,\"#e6f5d0\"],[0.7,\"#b8e186\"],[0.8,\"#7fbc41\"],[0.9,\"#4d9221\"],[1,\"#276419\"]]},\"xaxis\":{\"gridcolor\":\"white\",\"linecolor\":\"white\",\"ticks\":\"\",\"title\":{\"standoff\":15},\"zerolinecolor\":\"white\",\"automargin\":true,\"zerolinewidth\":2},\"yaxis\":{\"gridcolor\":\"white\",\"linecolor\":\"white\",\"ticks\":\"\",\"title\":{\"standoff\":15},\"zerolinecolor\":\"white\",\"automargin\":true,\"zerolinewidth\":2},\"scene\":{\"xaxis\":{\"backgroundcolor\":\"#E5ECF6\",\"gridcolor\":\"white\",\"linecolor\":\"white\",\"showbackground\":true,\"ticks\":\"\",\"zerolinecolor\":\"white\",\"gridwidth\":2},\"yaxis\":{\"backgroundcolor\":\"#E5ECF6\",\"gridcolor\":\"white\",\"linecolor\":\"white\",\"showbackground\":true,\"ticks\":\"\",\"zerolinecolor\":\"white\",\"gridwidth\":2},\"zaxis\":{\"backgroundcolor\":\"#E5ECF6\",\"gridcolor\":\"white\",\"linecolor\":\"white\",\"showbackground\":true,\"ticks\":\"\",\"zerolinecolor\":\"white\",\"gridwidth\":2}},\"shapedefaults\":{\"line\":{\"color\":\"#2a3f5f\"}},\"annotationdefaults\":{\"arrowcolor\":\"#2a3f5f\",\"arrowhead\":0,\"arrowwidth\":1},\"geo\":{\"bgcolor\":\"white\",\"landcolor\":\"#E5ECF6\",\"subunitcolor\":\"white\",\"showland\":true,\"showlakes\":true,\"lakecolor\":\"white\"},\"title\":{\"x\":0.05},\"mapbox\":{\"style\":\"light\"}}},\"xaxis\":{\"anchor\":\"y\",\"domain\":[0.0,1.0],\"title\":{\"text\":\"distinctUsers\"}},\"yaxis\":{\"anchor\":\"x\",\"domain\":[0.0,1.0],\"title\":{\"text\":\"eventType\"}},\"legend\":{\"tracegroupgap\":0},\"margin\":{\"t\":60}},                        {\"responsive\": true}                    ).then(function(){\n",
       "                            \n",
       "var gd = document.getElementById('4ee44c6a-71c6-45bb-9cd7-851832611dd1');\n",
       "var x = new MutationObserver(function (mutations, observer) {{\n",
       "        var display = window.getComputedStyle(gd).display;\n",
       "        if (!display || display === 'none') {{\n",
       "            console.log([gd, 'removed!']);\n",
       "            Plotly.purge(gd);\n",
       "            observer.disconnect();\n",
       "        }}\n",
       "}});\n",
       "\n",
       "// Listen for the removal of the full notebook cells\n",
       "var notebookContainer = gd.closest('#notebook-container');\n",
       "if (notebookContainer) {{\n",
       "    x.observe(notebookContainer, {childList: true});\n",
       "}}\n",
       "\n",
       "// Listen for the clearing of the current output cell\n",
       "var outputEl = gd.closest('.output');\n",
       "if (outputEl) {{\n",
       "    x.observe(outputEl, {childList: true});\n",
       "}}\n",
       "\n",
       "                        })                };                });            </script>        </div>"
      ]
     },
     "metadata": {},
     "output_type": "display_data"
    }
   ],
   "source": [
    "import plotly.express as px\n",
    "\n",
    "email_funnel_events = [\"directMarketing.emailSent\", \"directMarketing.emailOpened\", \"directMarketing.emailClicked\", \"web.formFilledOut\"]\n",
    "email_funnel_df = funnel_df[funnel_df[\"eventType\"].isin(email_funnel_events)]\n",
    "\n",
    "fig = px.funnel(email_funnel_df, y='eventType', x='distinctUsers')\n",
    "fig.show()"
   ]
  },
  {
   "cell_type": "markdown",
   "metadata": {
    "application/vnd.databricks.v1+cell": {
     "cellMetadata": {},
     "inputWidgets": {},
     "nuid": "ef5f0c97-62c6-4489-ba62-0e031e574f37",
     "showTitle": false,
     "title": ""
    }
   },
   "source": [
    "## Event correlation\n",
    "Now, we analyze the correlation between various types of events. \n",
    "\n",
    "We'll look for which events predict the `web.formFilledOut` outcome. \n",
    "\n",
    "To do this, we must execute a more complex join query."
   ]
  },
  {
   "cell_type": "code",
   "execution_count": 49,
   "metadata": {
    "application/vnd.databricks.v1+cell": {
     "cellMetadata": {},
     "inputWidgets": {},
     "nuid": "09da403f-4aac-4723-9611-b0ba64a83f62",
     "showTitle": false,
     "title": ""
    },
    "scrolled": true
   },
   "outputs": [
    {
     "data": {
      "text/html": [
       "<div>\n",
       "<style scoped>\n",
       "    .dataframe tbody tr th:only-of-type {\n",
       "        vertical-align: middle;\n",
       "    }\n",
       "\n",
       "    .dataframe tbody tr th {\n",
       "        vertical-align: top;\n",
       "    }\n",
       "\n",
       "    .dataframe thead th {\n",
       "        text-align: right;\n",
       "    }\n",
       "</style>\n",
       "<table border=\"1\" class=\"dataframe\">\n",
       "  <thead>\n",
       "    <tr style=\"text-align: right;\">\n",
       "      <th></th>\n",
       "      <th>eventType_First</th>\n",
       "      <th>eventType_Later</th>\n",
       "      <th>distinctUsers</th>\n",
       "    </tr>\n",
       "  </thead>\n",
       "  <tbody>\n",
       "    <tr>\n",
       "      <th>0</th>\n",
       "      <td>directMarketing.emailSent</td>\n",
       "      <td>directMarketing.emailSent</td>\n",
       "      <td>99319</td>\n",
       "    </tr>\n",
       "    <tr>\n",
       "      <th>1</th>\n",
       "      <td>directMarketing.emailOpened</td>\n",
       "      <td>directMarketing.emailOpened</td>\n",
       "      <td>85822</td>\n",
       "    </tr>\n",
       "    <tr>\n",
       "      <th>2</th>\n",
       "      <td>directMarketing.emailSent</td>\n",
       "      <td>directMarketing.emailOpened</td>\n",
       "      <td>85822</td>\n",
       "    </tr>\n",
       "    <tr>\n",
       "      <th>3</th>\n",
       "      <td>advertising.impressions</td>\n",
       "      <td>advertising.impressions</td>\n",
       "      <td>63322</td>\n",
       "    </tr>\n",
       "    <tr>\n",
       "      <th>4</th>\n",
       "      <td>directMarketing.emailOpened</td>\n",
       "      <td>directMarketing.emailSent</td>\n",
       "      <td>63169</td>\n",
       "    </tr>\n",
       "    <tr>\n",
       "      <th>...</th>\n",
       "      <td>...</td>\n",
       "      <td>...</td>\n",
       "      <td>...</td>\n",
       "    </tr>\n",
       "    <tr>\n",
       "      <th>164</th>\n",
       "      <td>commerce.purchases</td>\n",
       "      <td>web.webinteraction.linkClicks</td>\n",
       "      <td>46</td>\n",
       "    </tr>\n",
       "    <tr>\n",
       "      <th>165</th>\n",
       "      <td>commerce.purchases</td>\n",
       "      <td>decisioning.propositionDisplay</td>\n",
       "      <td>32</td>\n",
       "    </tr>\n",
       "    <tr>\n",
       "      <th>166</th>\n",
       "      <td>commerce.purchases</td>\n",
       "      <td>directMarketing.emailClicked</td>\n",
       "      <td>25</td>\n",
       "    </tr>\n",
       "    <tr>\n",
       "      <th>167</th>\n",
       "      <td>commerce.purchases</td>\n",
       "      <td>decisioning.propositionDismiss</td>\n",
       "      <td>10</td>\n",
       "    </tr>\n",
       "    <tr>\n",
       "      <th>168</th>\n",
       "      <td>commerce.purchases</td>\n",
       "      <td>decisioning.propositionInteract</td>\n",
       "      <td>9</td>\n",
       "    </tr>\n",
       "  </tbody>\n",
       "</table>\n",
       "<p>169 rows × 3 columns</p>\n",
       "</div>"
      ],
      "text/plain": [
       "                 eventType_First                  eventType_Later  \\\n",
       "0      directMarketing.emailSent        directMarketing.emailSent   \n",
       "1    directMarketing.emailOpened      directMarketing.emailOpened   \n",
       "2      directMarketing.emailSent      directMarketing.emailOpened   \n",
       "3        advertising.impressions          advertising.impressions   \n",
       "4    directMarketing.emailOpened        directMarketing.emailSent   \n",
       "..                           ...                              ...   \n",
       "164           commerce.purchases    web.webinteraction.linkClicks   \n",
       "165           commerce.purchases   decisioning.propositionDisplay   \n",
       "166           commerce.purchases     directMarketing.emailClicked   \n",
       "167           commerce.purchases   decisioning.propositionDismiss   \n",
       "168           commerce.purchases  decisioning.propositionInteract   \n",
       "\n",
       "     distinctUsers  \n",
       "0            99319  \n",
       "1            85822  \n",
       "2            85822  \n",
       "3            63322  \n",
       "4            63169  \n",
       "..             ...  \n",
       "164             46  \n",
       "165             32  \n",
       "166             25  \n",
       "167             10  \n",
       "168              9  \n",
       "\n",
       "[169 rows x 3 columns]"
      ]
     },
     "execution_count": 49,
     "metadata": {},
     "output_type": "execute_result"
    }
   ],
   "source": [
    "event_correlation_query=f'''SELECT  eventType_First, eventType_Later, COUNT(DISTINCT userId) as \"distinctUsers\"\n",
    "FROM \n",
    "    (\n",
    "        SELECT a.eventType as eventType_First, \n",
    "                b.eventType as eventType_Later, \n",
    "                a._{tenant_id}.cmle_id as userID \n",
    "        FROM {table_name} a\n",
    "        JOIN {table_name} b\n",
    "        ON a._{tenant_id}.cmle_id = b._{tenant_id}.cmle_id\n",
    "        WHERE a.timestamp <= b.timestamp\n",
    "    )\n",
    "GROUP BY eventType_First, eventType_Later\n",
    "ORDER BY distinctUsers DESC'''\n",
    "event_correlation_df = qs_cursor.query(event_correlation_query, output=\"dataframe\")\n",
    "event_correlation_df"
   ]
  },
  {
   "cell_type": "markdown",
   "metadata": {},
   "source": [
    "Now we join the results of this correlation to obtain a coocurrence matrix which we can then display to get a visual feel of which events are likely to be occurring together."
   ]
  },
  {
   "cell_type": "code",
   "execution_count": 50,
   "metadata": {
    "application/vnd.databricks.v1+cell": {
     "cellMetadata": {},
     "inputWidgets": {},
     "nuid": "3dc30699-dc62-4657-a86b-6cd9be4ac16e",
     "showTitle": false,
     "title": ""
    },
    "gather": {
     "logged": 1667866377834
    }
   },
   "outputs": [],
   "source": [
    "coocc_matrix = event_correlation_df\n",
    "individual_counts = funnel_df\n",
    "cocc_with_individual = coocc_matrix.merge(individual_counts, left_on=\"eventType_First\", right_on=\"eventType\")\n",
    "cocc_with_individual[\"probability\"] = cocc_with_individual[\"distinctUsers_x\"]/ cocc_with_individual[\"distinctUsers_y\"]"
   ]
  },
  {
   "cell_type": "code",
   "execution_count": 51,
   "metadata": {
    "application/vnd.databricks.v1+cell": {
     "cellMetadata": {},
     "inputWidgets": {},
     "nuid": "7206de06-a841-4774-b889-35a410a3b702",
     "showTitle": false,
     "title": ""
    },
    "gather": {
     "logged": 1667866380317
    }
   },
   "outputs": [
    {
     "name": "stderr",
     "output_type": "stream",
     "text": [
      "/var/folders/4_/y52rp_4d21sdgtx662w561dm0000gq/T/ipykernel_15483/402706120.py:3: FutureWarning:\n",
      "\n",
      "In a future version of pandas all arguments of DataFrame.pivot will be keyword-only.\n",
      "\n"
     ]
    },
    {
     "data": {
      "text/plain": [
       "<Axes: xlabel='eventType_Later', ylabel='eventType_First'>"
      ]
     },
     "execution_count": 51,
     "metadata": {},
     "output_type": "execute_result"
    },
    {
     "data": {
      "image/png": "[encoded data removed]",
      "text/plain": [
       "<Figure size 640x480 with 2 Axes>"
      ]
     },
     "metadata": {},
     "output_type": "display_data"
    }
   ],
   "source": [
    "import seaborn as sns\n",
    "\n",
    "pivoted = cocc_with_individual.pivot(\"eventType_First\", \"eventType_Later\", \"probability\")\n",
    "sns.heatmap(pivoted)\n"
   ]
  },
  {
   "cell_type": "markdown",
   "metadata": {
    "application/vnd.databricks.v1+cell": {
     "cellMetadata": {},
     "inputWidgets": {},
     "nuid": "f05daa1f-a4f0-477a-bd38-01879c308a2c",
     "showTitle": false,
     "title": ""
    }
   },
   "source": [
    "## 6.3 A more robust correlation calculation\n",
    "\n",
    "Let's use an in-built feature of the query service (the Spark functions) to get a better handle of correlations between various eventTypes. We'll usee the `corr` function - which computes pearson correlation coefficients between a given eventType, and the target eventType"
   ]
  },
  {
   "cell_type": "markdown",
   "metadata": {
    "application/vnd.databricks.v1+cell": {
     "cellMetadata": {},
     "inputWidgets": {},
     "nuid": "a471826d-84dc-4261-b6eb-7f45a77649cd",
     "showTitle": false,
     "title": ""
    }
   },
   "source": [
    "#### Run on the full dataset"
   ]
  },
  {
   "cell_type": "code",
   "execution_count": 52,
   "metadata": {
    "application/vnd.databricks.v1+cell": {
     "cellMetadata": {},
     "inputWidgets": {},
     "nuid": "822365c5-3140-4ad4-bc67-4ac8f51cf775",
     "showTitle": false,
     "title": ""
    }
   },
   "outputs": [
    {
     "data": {
      "text/html": [
       "<div>\n",
       "<style scoped>\n",
       "    .dataframe tbody tr th:only-of-type {\n",
       "        vertical-align: middle;\n",
       "    }\n",
       "\n",
       "    .dataframe tbody tr th {\n",
       "        vertical-align: top;\n",
       "    }\n",
       "\n",
       "    .dataframe thead th {\n",
       "        text-align: right;\n",
       "    }\n",
       "</style>\n",
       "<table border=\"1\" class=\"dataframe\">\n",
       "  <thead>\n",
       "    <tr style=\"text-align: right;\">\n",
       "      <th></th>\n",
       "      <th>webFormsFilled_totalUsers</th>\n",
       "      <th>advertisingClicks_totalUsers</th>\n",
       "      <th>productViews_totalUsers</th>\n",
       "      <th>productPurchases_totalUsers</th>\n",
       "      <th>propositionDismisses_totaUsers</th>\n",
       "      <th>propositionDisplays_totaUsers</th>\n",
       "      <th>propositionInteracts_totalUsers</th>\n",
       "      <th>emailClicks_totalUsers</th>\n",
       "      <th>emailOpens_totalUsers</th>\n",
       "      <th>webLinksClicks_totalUsers</th>\n",
       "      <th>...</th>\n",
       "      <th>webForms_advertisingClicks</th>\n",
       "      <th>webForms_productViews</th>\n",
       "      <th>webForms_productPurchases</th>\n",
       "      <th>webForms_propositionDismisses</th>\n",
       "      <th>webForms_propositionInteracts</th>\n",
       "      <th>webForms_emailClicks</th>\n",
       "      <th>webForms_emailOpens</th>\n",
       "      <th>webForms_emailSends</th>\n",
       "      <th>webForms_webLinkClicks</th>\n",
       "      <th>webForms_webPageViews</th>\n",
       "    </tr>\n",
       "  </thead>\n",
       "  <tbody>\n",
       "    <tr>\n",
       "      <th>0</th>\n",
       "      <td>14841</td>\n",
       "      <td>6376</td>\n",
       "      <td>31545</td>\n",
       "      <td>0</td>\n",
       "      <td>2554</td>\n",
       "      <td>31639</td>\n",
       "      <td>2540</td>\n",
       "      <td>42431</td>\n",
       "      <td>198474</td>\n",
       "      <td>31501</td>\n",
       "      <td>...</td>\n",
       "      <td>-0.006571</td>\n",
       "      <td>0.228957</td>\n",
       "      <td>None</td>\n",
       "      <td>0.049756</td>\n",
       "      <td>0.132518</td>\n",
       "      <td>0.246498</td>\n",
       "      <td>0.094207</td>\n",
       "      <td>0.027688</td>\n",
       "      <td>0.21801</td>\n",
       "      <td>None</td>\n",
       "    </tr>\n",
       "  </tbody>\n",
       "</table>\n",
       "<p>1 rows × 22 columns</p>\n",
       "</div>"
      ],
      "text/plain": [
       "   webFormsFilled_totalUsers  advertisingClicks_totalUsers  \\\n",
       "0                      14841                          6376   \n",
       "\n",
       "   productViews_totalUsers  productPurchases_totalUsers  \\\n",
       "0                    31545                            0   \n",
       "\n",
       "   propositionDismisses_totaUsers  propositionDisplays_totaUsers  \\\n",
       "0                            2554                          31639   \n",
       "\n",
       "   propositionInteracts_totalUsers  emailClicks_totalUsers  \\\n",
       "0                             2540                   42431   \n",
       "\n",
       "   emailOpens_totalUsers  webLinksClicks_totalUsers  ...  \\\n",
       "0                 198474                      31501  ...   \n",
       "\n",
       "   webForms_advertisingClicks  webForms_productViews  \\\n",
       "0                   -0.006571               0.228957   \n",
       "\n",
       "   webForms_productPurchases  webForms_propositionDismisses  \\\n",
       "0                       None                       0.049756   \n",
       "\n",
       "  webForms_propositionInteracts  webForms_emailClicks  webForms_emailOpens  \\\n",
       "0                      0.132518              0.246498             0.094207   \n",
       "\n",
       "   webForms_emailSends  webForms_webLinkClicks  webForms_webPageViews  \n",
       "0             0.027688                 0.21801                   None  \n",
       "\n",
       "[1 rows x 22 columns]"
      ]
     },
     "execution_count": 52,
     "metadata": {},
     "output_type": "execute_result"
    }
   ],
   "source": [
    "large_correlation_query=f'''\n",
    "SELECT SUM(webFormsFilled) as webFormsFilled_totalUsers,\n",
    "       SUM(advertisingClicks) as advertisingClicks_totalUsers,\n",
    "       SUM(productViews) as productViews_totalUsers,\n",
    "       SUM(productPurchases) as productPurchases_totalUsers,\n",
    "       SUM(propositionDismisses) as propositionDismisses_totaUsers,\n",
    "       SUM(propositionDisplays) as propositionDisplays_totaUsers,\n",
    "       SUM(propositionInteracts) as propositionInteracts_totalUsers,\n",
    "       SUM(emailClicks) as emailClicks_totalUsers,\n",
    "       SUM(emailOpens) as emailOpens_totalUsers,\n",
    "       SUM(webLinkClicks) as webLinksClicks_totalUsers,\n",
    "       SUM(webPageViews) as webPageViews_totalusers,\n",
    "       corr(webFormsFilled, emailOpens) as webForms_EmalOpens,\n",
    "       corr(webFormsFilled, advertisingClicks) as webForms_advertisingClicks,\n",
    "       corr(webFormsFilled, productViews) as webForms_productViews,\n",
    "       corr(webFormsFilled, productPurchases) as webForms_productPurchases,\n",
    "       corr(webFormsFilled, propositionDismisses) as webForms_propositionDismisses,\n",
    "       corr(webFormsFilled, propositionInteracts) as webForms_propositionInteracts,\n",
    "       corr(webFormsFilled, emailClicks) as webForms_emailClicks,\n",
    "       corr(webFormsFilled, emailOpens) as webForms_emailOpens,\n",
    "       corr(webFormsFilled, emailSends) as webForms_emailSends,\n",
    "       corr(webFormsFilled, webLinkClicks) as webForms_webLinkClicks,\n",
    "       corr(webFormsFilled, webPageViews) as webForms_webPageViews\n",
    "FROM(\n",
    "    SELECT _{tenant_id}.cmle_id as userID,\n",
    "            SUM(CASE WHEN eventType='web.formFilledOut' THEN 1 ELSE 0 END) as webFormsFilled,\n",
    "            SUM(CASE WHEN eventType='advertising.clicks' THEN 1 ELSE 0 END) as advertisingClicks,\n",
    "            SUM(CASE WHEN eventType='commerce.productViews' THEN 1 ELSE 0 END) as productViews,\n",
    "            SUM(CASE WHEN eventType='commerce.productPurchases' THEN 1 ELSE 0 END) as productPurchases,\n",
    "            SUM(CASE WHEN eventType='decisioning.propositionDismiss' THEN 1 ELSE 0 END) as propositionDismisses,\n",
    "            SUM(CASE WHEN eventType='decisioning.propositionDisplay' THEN 1 ELSE 0 END) as propositionDisplays,\n",
    "            SUM(CASE WHEN eventType='decisioning.propositionInteract' THEN 1 ELSE 0 END) as propositionInteracts,\n",
    "            SUM(CASE WHEN eventType='directMarketing.emailClicked' THEN 1 ELSE 0 END) as emailClicks,\n",
    "            SUM(CASE WHEN eventType='directMarketing.emailOpened' THEN 1 ELSE 0 END) as emailOpens,\n",
    "            SUM(CASE WHEN eventType='directMarketing.emailSent' THEN 1 ELSE 0 END) as emailSends,\n",
    "            SUM(CASE WHEN eventType='web.webinteraction.linkClicks' THEN 1 ELSE 0 END) as webLinkClicks,\n",
    "            SUM(CASE WHEN eventType='web.webinteraction.pageViews' THEN 1 ELSE 0 END) as webPageViews\n",
    "    FROM {table_name}\n",
    "    GROUP BY userId\n",
    ")\n",
    "'''\n",
    "large_correlation_df = qs_cursor.query(large_correlation_query, output=\"dataframe\")\n",
    "large_correlation_df"
   ]
  },
  {
   "cell_type": "code",
   "execution_count": 53,
   "metadata": {
    "application/vnd.databricks.v1+cell": {
     "cellMetadata": {},
     "inputWidgets": {},
     "nuid": "90daab0e-20f3-4557-a344-a604c79ba745",
     "showTitle": false,
     "title": ""
    },
    "gather": {
     "logged": 1667866445864
    }
   },
   "outputs": [
    {
     "data": {
      "text/html": [
       "<div>\n",
       "<style scoped>\n",
       "    .dataframe tbody tr th:only-of-type {\n",
       "        vertical-align: middle;\n",
       "    }\n",
       "\n",
       "    .dataframe tbody tr th {\n",
       "        vertical-align: top;\n",
       "    }\n",
       "\n",
       "    .dataframe thead th {\n",
       "        text-align: right;\n",
       "    }\n",
       "</style>\n",
       "<table border=\"1\" class=\"dataframe\">\n",
       "  <thead>\n",
       "    <tr style=\"text-align: right;\">\n",
       "      <th></th>\n",
       "      <th>variable</th>\n",
       "      <th>value</th>\n",
       "      <th>feature</th>\n",
       "      <th>pearsonCorrelation</th>\n",
       "    </tr>\n",
       "  </thead>\n",
       "  <tbody>\n",
       "    <tr>\n",
       "      <th>0</th>\n",
       "      <td>webForms_EmalOpens</td>\n",
       "      <td>0.094207</td>\n",
       "      <td>EmalOpens</td>\n",
       "      <td>0.094207</td>\n",
       "    </tr>\n",
       "    <tr>\n",
       "      <th>1</th>\n",
       "      <td>webForms_advertisingClicks</td>\n",
       "      <td>-0.006571</td>\n",
       "      <td>advertisingClicks</td>\n",
       "      <td>-0.006571</td>\n",
       "    </tr>\n",
       "    <tr>\n",
       "      <th>2</th>\n",
       "      <td>webForms_productViews</td>\n",
       "      <td>0.228957</td>\n",
       "      <td>productViews</td>\n",
       "      <td>0.228957</td>\n",
       "    </tr>\n",
       "    <tr>\n",
       "      <th>3</th>\n",
       "      <td>webForms_productPurchases</td>\n",
       "      <td>0.000000</td>\n",
       "      <td>productPurchases</td>\n",
       "      <td>0.000000</td>\n",
       "    </tr>\n",
       "    <tr>\n",
       "      <th>4</th>\n",
       "      <td>webForms_propositionDismisses</td>\n",
       "      <td>0.049756</td>\n",
       "      <td>propositionDismisses</td>\n",
       "      <td>0.049756</td>\n",
       "    </tr>\n",
       "    <tr>\n",
       "      <th>5</th>\n",
       "      <td>webForms_propositionInteracts</td>\n",
       "      <td>0.132518</td>\n",
       "      <td>propositionInteracts</td>\n",
       "      <td>0.132518</td>\n",
       "    </tr>\n",
       "    <tr>\n",
       "      <th>6</th>\n",
       "      <td>webForms_emailClicks</td>\n",
       "      <td>0.246498</td>\n",
       "      <td>emailClicks</td>\n",
       "      <td>0.246498</td>\n",
       "    </tr>\n",
       "    <tr>\n",
       "      <th>7</th>\n",
       "      <td>webForms_emailOpens</td>\n",
       "      <td>0.094207</td>\n",
       "      <td>emailOpens</td>\n",
       "      <td>0.094207</td>\n",
       "    </tr>\n",
       "    <tr>\n",
       "      <th>8</th>\n",
       "      <td>webForms_emailSends</td>\n",
       "      <td>0.027688</td>\n",
       "      <td>emailSends</td>\n",
       "      <td>0.027688</td>\n",
       "    </tr>\n",
       "    <tr>\n",
       "      <th>9</th>\n",
       "      <td>webForms_webLinkClicks</td>\n",
       "      <td>0.218010</td>\n",
       "      <td>webLinkClicks</td>\n",
       "      <td>0.218010</td>\n",
       "    </tr>\n",
       "    <tr>\n",
       "      <th>10</th>\n",
       "      <td>webForms_webPageViews</td>\n",
       "      <td>0.000000</td>\n",
       "      <td>webPageViews</td>\n",
       "      <td>0.000000</td>\n",
       "    </tr>\n",
       "  </tbody>\n",
       "</table>\n",
       "</div>"
      ],
      "text/plain": [
       "                         variable     value               feature  \\\n",
       "0              webForms_EmalOpens  0.094207             EmalOpens   \n",
       "1      webForms_advertisingClicks -0.006571     advertisingClicks   \n",
       "2           webForms_productViews  0.228957          productViews   \n",
       "3       webForms_productPurchases  0.000000      productPurchases   \n",
       "4   webForms_propositionDismisses  0.049756  propositionDismisses   \n",
       "5   webForms_propositionInteracts  0.132518  propositionInteracts   \n",
       "6            webForms_emailClicks  0.246498           emailClicks   \n",
       "7             webForms_emailOpens  0.094207            emailOpens   \n",
       "8             webForms_emailSends  0.027688            emailSends   \n",
       "9          webForms_webLinkClicks  0.218010         webLinkClicks   \n",
       "10          webForms_webPageViews  0.000000          webPageViews   \n",
       "\n",
       "    pearsonCorrelation  \n",
       "0             0.094207  \n",
       "1            -0.006571  \n",
       "2             0.228957  \n",
       "3             0.000000  \n",
       "4             0.049756  \n",
       "5             0.132518  \n",
       "6             0.246498  \n",
       "7             0.094207  \n",
       "8             0.027688  \n",
       "9             0.218010  \n",
       "10            0.000000  "
      ]
     },
     "execution_count": 53,
     "metadata": {},
     "output_type": "execute_result"
    }
   ],
   "source": [
    "cols = large_correlation_df.columns\n",
    "corrdf = large_correlation_df[[col for col in cols if (\"webForms_\"  in col)]].melt()\n",
    "corrdf[\"feature\"] = corrdf[\"variable\"].apply(lambda x: x.replace(\"webForms_\", \"\"))\n",
    "corrdf[\"pearsonCorrelation\"] = corrdf[\"value\"]\n",
    "\n",
    "corrdf.fillna(0)"
   ]
  },
  {
   "cell_type": "markdown",
   "metadata": {
    "application/vnd.databricks.v1+cell": {
     "cellMetadata": {},
     "inputWidgets": {},
     "nuid": "040f70cd-2df9-4b05-bd4f-64bafeb5b541",
     "showTitle": false,
     "title": ""
    }
   },
   "source": [
    "Let's visualize the results:"
   ]
  },
  {
   "cell_type": "code",
   "execution_count": 54,
   "metadata": {
    "application/vnd.databricks.v1+cell": {
     "cellMetadata": {},
     "inputWidgets": {},
     "nuid": "4cef1e7c-df03-4060-b4e4-2673194810ae",
     "showTitle": false,
     "title": ""
    },
    "gather": {
     "logged": 1667866449127
    }
   },
   "outputs": [
    {
     "data": {
      "text/plain": [
       "Text(0.5, 1.0, 'Pearson Correlation of Events with the outcome event')"
      ]
     },
     "execution_count": 54,
     "metadata": {},
     "output_type": "execute_result"
    },
    {
     "data": {
      "image/png": "[encoded data removed]",
      "text/plain": [
       "<Figure size 500x1000 with 1 Axes>"
      ]
     },
     "metadata": {},
     "output_type": "display_data"
    }
   ],
   "source": [
    "import matplotlib.pyplot as plt\n",
    "fig, ax = plt.subplots(figsize=(5,10))\n",
    "sns.barplot(data=corrdf.fillna(0), y=\"feature\", x=\"pearsonCorrelation\")\n",
    "ax.set_title(\"Pearson Correlation of Events with the outcome event\")"
   ]
  },
  {
   "cell_type": "markdown",
   "metadata": {
    "application/vnd.databricks.v1+cell": {
     "cellMetadata": {},
     "inputWidgets": {},
     "nuid": "277dceed-66c7-4b34-9f57-90334de32a00",
     "showTitle": false,
     "title": ""
    }
   },
   "source": [
    "<div class=\"alert alert-block alert-success\">\n",
    "    <b>Conclusion</b>\n",
    "With this information, we now have a hypothesis on necessary features to use in our model.\n",
    "We will use the number of these various event types, as well as the recency of each event type as features \n",
    "for the model. The next step is to create these \"featurized\" datasets\n",
    "</div>"
   ]
  },
  {
   "cell_type": "code",
   "execution_count": 4,
   "metadata": {},
   "outputs": [],
   "source": [
    "## 4.4 Saving the synthetic dataset to the configuration"
   ]
  },
  {
   "cell_type": "markdown",
   "metadata": {},
   "source": [
    "Now that we got everything working, we just need to save the `dataset_id` variable in the original configuration file, so we can refer to it in the following weekly assignments. To do that, execute the code below:"
   ]
  },
  {
   "cell_type": "code",
   "execution_count": null,
   "metadata": {},
   "outputs": [],
   "source": [
    "config.set(\"Platform\", \"dataset_id\", dataset_id)\n",
    "\n",
    "with open(config_path, \"w\") as configfile:\n",
    "    config.write(configfile)"
   ]
  },
  {
   "cell_type": "code",
   "execution_count": null,
   "metadata": {},
   "outputs": [],
   "source": []
  }
 ],
 "metadata": {
  "availableInstances": [
   {
    "_defaultOrder": 0,
    "_isFastLaunch": true,
    "category": "General purpose",
    "gpuNum": 0,
    "hideHardwareSpecs": false,
    "memoryGiB": 4,
    "name": "ml.t3.medium",
    "vcpuNum": 2
   },
   {
    "_defaultOrder": 1,
    "_isFastLaunch": false,
    "category": "General purpose",
    "gpuNum": 0,
    "hideHardwareSpecs": false,
    "memoryGiB": 8,
    "name": "ml.t3.large",
    "vcpuNum": 2
   },
   {
    "_defaultOrder": 2,
    "_isFastLaunch": false,
    "category": "General purpose",
    "gpuNum": 0,
    "hideHardwareSpecs": false,
    "memoryGiB": 16,
    "name": "ml.t3.xlarge",
    "vcpuNum": 4
   },
   {
    "_defaultOrder": 3,
    "_isFastLaunch": false,
    "category": "General purpose",
    "gpuNum": 0,
    "hideHardwareSpecs": false,
    "memoryGiB": 32,
    "name": "ml.t3.2xlarge",
    "vcpuNum": 8
   },
   {
    "_defaultOrder": 4,
    "_isFastLaunch": true,
    "category": "General purpose",
    "gpuNum": 0,
    "hideHardwareSpecs": false,
    "memoryGiB": 8,
    "name": "ml.m5.large",
    "vcpuNum": 2
   },
   {
    "_defaultOrder": 5,
    "_isFastLaunch": false,
    "category": "General purpose",
    "gpuNum": 0,
    "hideHardwareSpecs": false,
    "memoryGiB": 16,
    "name": "ml.m5.xlarge",
    "vcpuNum": 4
   },
   {
    "_defaultOrder": 6,
    "_isFastLaunch": false,
    "category": "General purpose",
    "gpuNum": 0,
    "hideHardwareSpecs": false,
    "memoryGiB": 32,
    "name": "ml.m5.2xlarge",
    "vcpuNum": 8
   },
   {
    "_defaultOrder": 7,
    "_isFastLaunch": false,
    "category": "General purpose",
    "gpuNum": 0,
    "hideHardwareSpecs": false,
    "memoryGiB": 64,
    "name": "ml.m5.4xlarge",
    "vcpuNum": 16
   },
   {
    "_defaultOrder": 8,
    "_isFastLaunch": false,
    "category": "General purpose",
    "gpuNum": 0,
    "hideHardwareSpecs": false,
    "memoryGiB": 128,
    "name": "ml.m5.8xlarge",
    "vcpuNum": 32
   },
   {
    "_defaultOrder": 9,
    "_isFastLaunch": false,
    "category": "General purpose",
    "gpuNum": 0,
    "hideHardwareSpecs": false,
    "memoryGiB": 192,
    "name": "ml.m5.12xlarge",
    "vcpuNum": 48
   },
   {
    "_defaultOrder": 10,
    "_isFastLaunch": false,
    "category": "General purpose",
    "gpuNum": 0,
    "hideHardwareSpecs": false,
    "memoryGiB": 256,
    "name": "ml.m5.16xlarge",
    "vcpuNum": 64
   },
   {
    "_defaultOrder": 11,
    "_isFastLaunch": false,
    "category": "General purpose",
    "gpuNum": 0,
    "hideHardwareSpecs": false,
    "memoryGiB": 384,
    "name": "ml.m5.24xlarge",
    "vcpuNum": 96
   },
   {
    "_defaultOrder": 12,
    "_isFastLaunch": false,
    "category": "General purpose",
    "gpuNum": 0,
    "hideHardwareSpecs": false,
    "memoryGiB": 8,
    "name": "ml.m5d.large",
    "vcpuNum": 2
   },
   {
    "_defaultOrder": 13,
    "_isFastLaunch": false,
    "category": "General purpose",
    "gpuNum": 0,
    "hideHardwareSpecs": false,
    "memoryGiB": 16,
    "name": "ml.m5d.xlarge",
    "vcpuNum": 4
   },
   {
    "_defaultOrder": 14,
    "_isFastLaunch": false,
    "category": "General purpose",
    "gpuNum": 0,
    "hideHardwareSpecs": false,
    "memoryGiB": 32,
    "name": "ml.m5d.2xlarge",
    "vcpuNum": 8
   },
   {
    "_defaultOrder": 15,
    "_isFastLaunch": false,
    "category": "General purpose",
    "gpuNum": 0,
    "hideHardwareSpecs": false,
    "memoryGiB": 64,
    "name": "ml.m5d.4xlarge",
    "vcpuNum": 16
   },
   {
    "_defaultOrder": 16,
    "_isFastLaunch": false,
    "category": "General purpose",
    "gpuNum": 0,
    "hideHardwareSpecs": false,
    "memoryGiB": 128,
    "name": "ml.m5d.8xlarge",
    "vcpuNum": 32
   },
   {
    "_defaultOrder": 17,
    "_isFastLaunch": false,
    "category": "General purpose",
    "gpuNum": 0,
    "hideHardwareSpecs": false,
    "memoryGiB": 192,
    "name": "ml.m5d.12xlarge",
    "vcpuNum": 48
   },
   {
    "_defaultOrder": 18,
    "_isFastLaunch": false,
    "category": "General purpose",
    "gpuNum": 0,
    "hideHardwareSpecs": false,
    "memoryGiB": 256,
    "name": "ml.m5d.16xlarge",
    "vcpuNum": 64
   },
   {
    "_defaultOrder": 19,
    "_isFastLaunch": false,
    "category": "General purpose",
    "gpuNum": 0,
    "hideHardwareSpecs": false,
    "memoryGiB": 384,
    "name": "ml.m5d.24xlarge",
    "vcpuNum": 96
   },
   {
    "_defaultOrder": 20,
    "_isFastLaunch": false,
    "category": "General purpose",
    "gpuNum": 0,
    "hideHardwareSpecs": true,
    "memoryGiB": 0,
    "name": "ml.geospatial.interactive",
    "supportedImageNames": [
     "sagemaker-geospatial-v1-0"
    ],
    "vcpuNum": 0
   },
   {
    "_defaultOrder": 21,
    "_isFastLaunch": true,
    "category": "Compute optimized",
    "gpuNum": 0,
    "hideHardwareSpecs": false,
    "memoryGiB": 4,
    "name": "ml.c5.large",
    "vcpuNum": 2
   },
   {
    "_defaultOrder": 22,
    "_isFastLaunch": false,
    "category": "Compute optimized",
    "gpuNum": 0,
    "hideHardwareSpecs": false,
    "memoryGiB": 8,
    "name": "ml.c5.xlarge",
    "vcpuNum": 4
   },
   {
    "_defaultOrder": 23,
    "_isFastLaunch": false,
    "category": "Compute optimized",
    "gpuNum": 0,
    "hideHardwareSpecs": false,
    "memoryGiB": 16,
    "name": "ml.c5.2xlarge",
    "vcpuNum": 8
   },
   {
    "_defaultOrder": 24,
    "_isFastLaunch": false,
    "category": "Compute optimized",
    "gpuNum": 0,
    "hideHardwareSpecs": false,
    "memoryGiB": 32,
    "name": "ml.c5.4xlarge",
    "vcpuNum": 16
   },
   {
    "_defaultOrder": 25,
    "_isFastLaunch": false,
    "category": "Compute optimized",
    "gpuNum": 0,
    "hideHardwareSpecs": false,
    "memoryGiB": 72,
    "name": "ml.c5.9xlarge",
    "vcpuNum": 36
   },
   {
    "_defaultOrder": 26,
    "_isFastLaunch": false,
    "category": "Compute optimized",
    "gpuNum": 0,
    "hideHardwareSpecs": false,
    "memoryGiB": 96,
    "name": "ml.c5.12xlarge",
    "vcpuNum": 48
   },
   {
    "_defaultOrder": 27,
    "_isFastLaunch": false,
    "category": "Compute optimized",
    "gpuNum": 0,
    "hideHardwareSpecs": false,
    "memoryGiB": 144,
    "name": "ml.c5.18xlarge",
    "vcpuNum": 72
   },
   {
    "_defaultOrder": 28,
    "_isFastLaunch": false,
    "category": "Compute optimized",
    "gpuNum": 0,
    "hideHardwareSpecs": false,
    "memoryGiB": 192,
    "name": "ml.c5.24xlarge",
    "vcpuNum": 96
   },
   {
    "_defaultOrder": 29,
    "_isFastLaunch": true,
    "category": "Accelerated computing",
    "gpuNum": 1,
    "hideHardwareSpecs": false,
    "memoryGiB": 16,
    "name": "ml.g4dn.xlarge",
    "vcpuNum": 4
   },
   {
    "_defaultOrder": 30,
    "_isFastLaunch": false,
    "category": "Accelerated computing",
    "gpuNum": 1,
    "hideHardwareSpecs": false,
    "memoryGiB": 32,
    "name": "ml.g4dn.2xlarge",
    "vcpuNum": 8
   },
   {
    "_defaultOrder": 31,
    "_isFastLaunch": false,
    "category": "Accelerated computing",
    "gpuNum": 1,
    "hideHardwareSpecs": false,
    "memoryGiB": 64,
    "name": "ml.g4dn.4xlarge",
    "vcpuNum": 16
   },
   {
    "_defaultOrder": 32,
    "_isFastLaunch": false,
    "category": "Accelerated computing",
    "gpuNum": 1,
    "hideHardwareSpecs": false,
    "memoryGiB": 128,
    "name": "ml.g4dn.8xlarge",
    "vcpuNum": 32
   },
   {
    "_defaultOrder": 33,
    "_isFastLaunch": false,
    "category": "Accelerated computing",
    "gpuNum": 4,
    "hideHardwareSpecs": false,
    "memoryGiB": 192,
    "name": "ml.g4dn.12xlarge",
    "vcpuNum": 48
   },
   {
    "_defaultOrder": 34,
    "_isFastLaunch": false,
    "category": "Accelerated computing",
    "gpuNum": 1,
    "hideHardwareSpecs": false,
    "memoryGiB": 256,
    "name": "ml.g4dn.16xlarge",
    "vcpuNum": 64
   },
   {
    "_defaultOrder": 35,
    "_isFastLaunch": false,
    "category": "Accelerated computing",
    "gpuNum": 1,
    "hideHardwareSpecs": false,
    "memoryGiB": 61,
    "name": "ml.p3.2xlarge",
    "vcpuNum": 8
   },
   {
    "_defaultOrder": 36,
    "_isFastLaunch": false,
    "category": "Accelerated computing",
    "gpuNum": 4,
    "hideHardwareSpecs": false,
    "memoryGiB": 244,
    "name": "ml.p3.8xlarge",
    "vcpuNum": 32
   },
   {
    "_defaultOrder": 37,
    "_isFastLaunch": false,
    "category": "Accelerated computing",
    "gpuNum": 8,
    "hideHardwareSpecs": false,
    "memoryGiB": 488,
    "name": "ml.p3.16xlarge",
    "vcpuNum": 64
   },
   {
    "_defaultOrder": 38,
    "_isFastLaunch": false,
    "category": "Accelerated computing",
    "gpuNum": 8,
    "hideHardwareSpecs": false,
    "memoryGiB": 768,
    "name": "ml.p3dn.24xlarge",
    "vcpuNum": 96
   },
   {
    "_defaultOrder": 39,
    "_isFastLaunch": false,
    "category": "Memory Optimized",
    "gpuNum": 0,
    "hideHardwareSpecs": false,
    "memoryGiB": 16,
    "name": "ml.r5.large",
    "vcpuNum": 2
   },
   {
    "_defaultOrder": 40,
    "_isFastLaunch": false,
    "category": "Memory Optimized",
    "gpuNum": 0,
    "hideHardwareSpecs": false,
    "memoryGiB": 32,
    "name": "ml.r5.xlarge",
    "vcpuNum": 4
   },
   {
    "_defaultOrder": 41,
    "_isFastLaunch": false,
    "category": "Memory Optimized",
    "gpuNum": 0,
    "hideHardwareSpecs": false,
    "memoryGiB": 64,
    "name": "ml.r5.2xlarge",
    "vcpuNum": 8
   },
   {
    "_defaultOrder": 42,
    "_isFastLaunch": false,
    "category": "Memory Optimized",
    "gpuNum": 0,
    "hideHardwareSpecs": false,
    "memoryGiB": 128,
    "name": "ml.r5.4xlarge",
    "vcpuNum": 16
   },
   {
    "_defaultOrder": 43,
    "_isFastLaunch": false,
    "category": "Memory Optimized",
    "gpuNum": 0,
    "hideHardwareSpecs": false,
    "memoryGiB": 256,
    "name": "ml.r5.8xlarge",
    "vcpuNum": 32
   },
   {
    "_defaultOrder": 44,
    "_isFastLaunch": false,
    "category": "Memory Optimized",
    "gpuNum": 0,
    "hideHardwareSpecs": false,
    "memoryGiB": 384,
    "name": "ml.r5.12xlarge",
    "vcpuNum": 48
   },
   {
    "_defaultOrder": 45,
    "_isFastLaunch": false,
    "category": "Memory Optimized",
    "gpuNum": 0,
    "hideHardwareSpecs": false,
    "memoryGiB": 512,
    "name": "ml.r5.16xlarge",
    "vcpuNum": 64
   },
   {
    "_defaultOrder": 46,
    "_isFastLaunch": false,
    "category": "Memory Optimized",
    "gpuNum": 0,
    "hideHardwareSpecs": false,
    "memoryGiB": 768,
    "name": "ml.r5.24xlarge",
    "vcpuNum": 96
   },
   {
    "_defaultOrder": 47,
    "_isFastLaunch": false,
    "category": "Accelerated computing",
    "gpuNum": 1,
    "hideHardwareSpecs": false,
    "memoryGiB": 16,
    "name": "ml.g5.xlarge",
    "vcpuNum": 4
   },
   {
    "_defaultOrder": 48,
    "_isFastLaunch": false,
    "category": "Accelerated computing",
    "gpuNum": 1,
    "hideHardwareSpecs": false,
    "memoryGiB": 32,
    "name": "ml.g5.2xlarge",
    "vcpuNum": 8
   },
   {
    "_defaultOrder": 49,
    "_isFastLaunch": false,
    "category": "Accelerated computing",
    "gpuNum": 1,
    "hideHardwareSpecs": false,
    "memoryGiB": 64,
    "name": "ml.g5.4xlarge",
    "vcpuNum": 16
   },
   {
    "_defaultOrder": 50,
    "_isFastLaunch": false,
    "category": "Accelerated computing",
    "gpuNum": 1,
    "hideHardwareSpecs": false,
    "memoryGiB": 128,
    "name": "ml.g5.8xlarge",
    "vcpuNum": 32
   },
   {
    "_defaultOrder": 51,
    "_isFastLaunch": false,
    "category": "Accelerated computing",
    "gpuNum": 1,
    "hideHardwareSpecs": false,
    "memoryGiB": 256,
    "name": "ml.g5.16xlarge",
    "vcpuNum": 64
   },
   {
    "_defaultOrder": 52,
    "_isFastLaunch": false,
    "category": "Accelerated computing",
    "gpuNum": 4,
    "hideHardwareSpecs": false,
    "memoryGiB": 192,
    "name": "ml.g5.12xlarge",
    "vcpuNum": 48
   },
   {
    "_defaultOrder": 53,
    "_isFastLaunch": false,
    "category": "Accelerated computing",
    "gpuNum": 4,
    "hideHardwareSpecs": false,
    "memoryGiB": 384,
    "name": "ml.g5.24xlarge",
    "vcpuNum": 96
   },
   {
    "_defaultOrder": 54,
    "_isFastLaunch": false,
    "category": "Accelerated computing",
    "gpuNum": 8,
    "hideHardwareSpecs": false,
    "memoryGiB": 768,
    "name": "ml.g5.48xlarge",
    "vcpuNum": 192
   },
   {
    "_defaultOrder": 55,
    "_isFastLaunch": false,
    "category": "Accelerated computing",
    "gpuNum": 8,
    "hideHardwareSpecs": false,
    "memoryGiB": 1152,
    "name": "ml.p4d.24xlarge",
    "vcpuNum": 96
   },
   {
    "_defaultOrder": 56,
    "_isFastLaunch": false,
    "category": "Accelerated computing",
    "gpuNum": 8,
    "hideHardwareSpecs": false,
    "memoryGiB": 1152,
    "name": "ml.p4de.24xlarge",
    "vcpuNum": 96
   }
  ],
  "instance_type": "ml.m5.large",
  "kernelspec": {
   "display_name": "Python 3 (ipykernel)",
   "language": "python",
   "name": "python3"
  },
  "language_info": {
   "codemirror_mode": {
    "name": "ipython",
    "version": 3
   },
   "file_extension": ".py",
   "mimetype": "text/x-python",
   "name": "python",
   "nbconvert_exporter": "python",
   "pygments_lexer": "ipython3",
   "version": "3.11.4"
  }
 },
 "nbformat": 4,
 "nbformat_minor": 4
}
