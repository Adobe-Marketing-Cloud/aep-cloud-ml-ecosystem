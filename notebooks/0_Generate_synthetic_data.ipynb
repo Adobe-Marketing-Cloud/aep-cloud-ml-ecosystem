{
 "cells": [
  {
   "cell_type": "markdown",
   "metadata": {},
   "source": [
    "# Generate synthetic data for AI/ML Feature Pipelines tutorial\n",
    "\n",
    "This notebook generates sample data that can be used to illustrate the workflow implementing feature pipelines for AI/ML with Data Distiller. These pipelines transform data from Experience Platform datasets into a feature dataset that can be used to train and score a propensity model in an external ML environment. We will generate sample data with the following steps:\n",
    "\n",
    "- [Setup](#setup)\n",
    "- [1. Create Experience Event schema and dataset](#1-create-experience-event-schema-and-dataset)\n",
    "- [2. Create Profile schema and dataset](#2-create-profile-schema-and-dataset)\n",
    "- [3. Statistical simulation of Experience Events](#3-statistical-simulation-of-profiles-and-experience-events)\n",
    "- [4. Ingest synthetic data into AEP dataset](#4-ingest-synthetic-data-into-aep-dataset)\n"
   ]
  },
  {
   "cell_type": "markdown",
   "metadata": {},
   "source": [
    "## Setup\n",
    "\n",
    "Before we run anything, make sure to install the following required libraries for this notebook. They are all publicly available libraries and the latest version should work fine."
   ]
  },
  {
   "cell_type": "code",
   "execution_count": null,
   "metadata": {},
   "outputs": [],
   "source": [
    "%pip install mmh3\n",
    "%pip install rstr\n",
    "%pip install aepp\n",
    "%pip install pygresql"
   ]
  },
  {
   "cell_type": "markdown",
   "metadata": {},
   "source": [
    "This notebook requires some configuration parameters to properly authenticate to your Adobe Experience Platform instance. Please follow the instructions in the [**README**](../README.md) to gather the necessary configuration parameters and prepare the [config.ini](../conf/config.ini) file with the specific values for your environment.\n",
    "\n",
    "The next cell will be looking for your configuration file under your **ADOBE_HOME** path to fetch the configuration values that will be used for this notebook. If necessary, modify the `config_path` and/or the `config_file` name to reflect the location of your config file. "
   ]
  },
  {
   "cell_type": "code",
   "execution_count": 12,
   "metadata": {},
   "outputs": [],
   "source": [
    "import os\n",
    "from configparser import ConfigParser\n",
    "import aepp\n",
    "\n",
    "os.environ[\"ADOBE_HOME\"] = os.path.dirname(os.getcwd())\n",
    "\n",
    "if \"ADOBE_HOME\" not in os.environ:\n",
    "    raise Exception(\"ADOBE_HOME environment variable needs to be set.\")\n",
    "\n",
    "config = ConfigParser()\n",
    "config_file = \"config.ini\"\n",
    "#config_path = os.path.join(os.environ[\"ADOBE_HOME\"], \"conf\", config_file)\n",
    "config_path = \"/Users/jeremypage/Library/CloudStorage/OneDrive-Adobe/Projects/Cloud ML/environments/aemassets_config.ini\"\n",
    "\n",
    "if not os.path.exists(config_path):\n",
    "    raise Exception(f\"Looking for configuration under {config_path} but config not found, please verify path\")\n",
    "\n",
    "config.read(config_path)\n",
    "\n",
    "aepp.configure(\n",
    "  org_id=config.get(\"Platform\", \"ims_org_id\"),\n",
    "  tech_id=config.get(\"Platform\", \"tech_acct_id\"), \n",
    "  secret=config.get(\"Platform\", \"client_secret\"),\n",
    "  scopes=config.get(\"Platform\", \"scopes\"),\n",
    "  client_id=config.get(\"Platform\", \"client_id\"),\n",
    "  environment=config.get(\"Platform\", \"environment\"),\n",
    "  sandbox=config.get(\"Platform\", \"sandbox_name\")\n",
    ")"
   ]
  },
  {
   "cell_type": "markdown",
   "metadata": {},
   "source": [
    "To ensure uniqueness of resources created as part of this notebook, we are using your local username to include in each of the resource titles to avoid conflicts."
   ]
  },
  {
   "cell_type": "code",
   "execution_count": 13,
   "metadata": {},
   "outputs": [],
   "source": [
    "import re\n",
    "username = os.getlogin()\n",
    "unique_id = s = re.sub(\"[^0-9a-zA-Z]+\", \"_\", username)"
   ]
  },
  {
   "cell_type": "markdown",
   "metadata": {},
   "source": [
    "Helper function to generate link to resource in the UI:"
   ]
  },
  {
   "cell_type": "code",
   "execution_count": 14,
   "metadata": {},
   "outputs": [],
   "source": [
    "def get_ui_link(tenant_id, resource_type, resource_id):\n",
    "    environment = config.get(\"Platform\", \"environment\")\n",
    "    sandbox_name = config.get(\"Platform\", \"sandbox_name\")\n",
    "    if environment == \"prod\":\n",
    "        prefix = f\"https://experience.adobe.com\"\n",
    "    else:\n",
    "        prefix = f\"https://experience-{environment}.adobe.com\"\n",
    "    return f\"{prefix}/#/@{tenant_id}/sname:{sandbox_name}/platform/{resource_type}/{resource_id}\""
   ]
  },
  {
   "cell_type": "markdown",
   "metadata": {},
   "source": [
    "# 1. Create Experience Event schema and dataset\n",
    "\n",
    "We will now create the schema to support our synthetic event data. We need a few field groups which will be included in the synthetic event schema:\n",
    "- A custom field group with an identity field which we'll call `synth_id`\n",
    "- Direct Marketing information\n",
    "- Web details"
   ]
  },
  {
   "cell_type": "markdown",
   "metadata": {},
   "source": [
    "## 1.1 Create connection to XDM Schema Registry\n",
    "\n",
    "We first instantiate a connection to the Schema Registry API, then retrieve the name of the sandbox we're working in and the tenant ID which we'll reference below"
   ]
  },
  {
   "cell_type": "code",
   "execution_count": 15,
   "metadata": {},
   "outputs": [
    {
     "name": "stdout",
     "output_type": "stream",
     "text": [
      "Sandbox: laa-e2e\n",
      "Tenant ID: aemonacpprodcampaign\n"
     ]
    }
   ],
   "source": [
    "from aepp import schema\n",
    "schema_conn = schema.Schema()\n",
    "print(f\"Sandbox: {schema_conn.sandbox}\")\n",
    "tenant_id = schema_conn.getTenantId()\n",
    "print(f\"Tenant ID: {tenant_id}\")"
   ]
  },
  {
   "cell_type": "markdown",
   "metadata": {},
   "source": [
    "## Create User ID field group for Experience Event Schema\n",
    "\n",
    "We need to create a custom field group with a `synth_id` field to go in the experience event schema. Other schema fields will come from standard field field groups we will include when creating the schema.\n",
    "\n",
    "First we'll define a helper function to gracefully handle cases where the CMLE User ID field group has already been created:"
   ]
  },
  {
   "cell_type": "code",
   "execution_count": 16,
   "metadata": {},
   "outputs": [],
   "source": [
    "from aepp import utils\n",
    "\n",
    "def createFieldGroupifnotExists(\n",
    "        title: str, \n",
    "        data: dict, \n",
    "        config_path: str,\n",
    "        utils_conn: utils.Utils = utils.Utils(),\n",
    "        schema_conn: schema.Schema = schema.Schema()\n",
    "):\n",
    "    existing = utils_conn.check_if_exists('Data', 'fieldgroup_id', config_path)\n",
    "    if existing:\n",
    "        print(f\"'{title}' already exists, retrieving existing field group\")\n",
    "        return schema_conn.getFieldGroup(existing)\n",
    "    else:\n",
    "        return schema_conn.createFieldGroup(data)"
   ]
  },
  {
   "cell_type": "markdown",
   "metadata": {},
   "source": [
    "Create (or get) the `CMLE User ID` field group, and update the config file with the field group ID"
   ]
  },
  {
   "cell_type": "code",
   "execution_count": 20,
   "metadata": {},
   "outputs": [
    {
     "name": "stdout",
     "output_type": "stream",
     "text": [
      "User ID field group ID: https://ns.adobe.com/aemonacpprodcampaign/mixins/ef239be06873c2a8d280c597128dc2094d85e941fef63100\n",
      "View field group in UI: https://experience.adobe.com/#/@aemonacpprodcampaign/sname:laa-e2e/platform/schema/mixin/browse/https%3A%2F%2Fns.adobe.com%2Faemonacpprodcampaign%2Fmixins%2Fef239be06873c2a8d280c597128dc2094d85e941fef63100\n"
     ]
    }
   ],
   "source": [
    "fieldgroup_title = f\"[Synthetic Data] Exp Event User ID (created by {username})\"\n",
    "fieldgroup_data = {\n",
    "  \"type\": \"object\",\n",
    "\t\"title\": fieldgroup_title,\n",
    "\t\"description\": \"This field group is used to identify the user to whom an experience event belongs.\",\n",
    "\t\"allOf\": [{\n",
    "\t\t\"$ref\": \"#/definitions/customFields\"\n",
    "\t}],\n",
    "\t\"meta:containerId\": \"tenant\",\n",
    "\t\"meta:resourceType\": \"mixins\",\n",
    "\t\"meta:xdmType\": \"object\",\n",
    "\t\"definitions\": {\n",
    "      \"customFields\": {\n",
    "        \"type\": \"object\",\n",
    "        \"properties\": {\n",
    "          f\"_{tenant_id}\": {\n",
    "            \"type\": \"object\",\n",
    "            \"properties\": {\n",
    "              \"synth_id\": {\n",
    "                \"title\": \"Synthetic User ID\",\n",
    "                \"description\": \"Person identifier for synthetic event data for AI/ML feature pipelines tutorial\",\n",
    "                \"type\": \"string\"\n",
    "              }\n",
    "            }\n",
    "          }\n",
    "        }\n",
    "      }\n",
    "\t},\n",
    "\t\"meta:intendedToExtend\": [\"https://ns.adobe.com/xdm/context/experienceevent\"]\n",
    "}\n",
    "\n",
    "fieldgroup_res = createFieldGroupifnotExists(fieldgroup_title, fieldgroup_data, config_path)\n",
    "fieldgroup_id = fieldgroup_res['$id']\n",
    "print(f\"User ID field group ID: {fieldgroup_id}\")\n",
    "\n",
    "# update config file and object\n",
    "utils_conn = utils.Utils()\n",
    "utils_conn.save_field_in_config('Data', 'fieldgroup_id', fieldgroup_id, config_path)\n",
    "config.read(config_path)\n",
    "\n",
    "# Get link to field group in AEP UI\n",
    "import urllib.parse\n",
    "fieldgroup_link = get_ui_link(tenant_id, \"schema/mixin/browse\", urllib.parse.quote(fieldgroup_id, safe=\"a\"))\n",
    "print(f\"View field group in UI: {fieldgroup_link}\")"
   ]
  },
  {
   "cell_type": "markdown",
   "metadata": {},
   "source": [
    "## 1.2 Compose Experience Event schema\n",
    "\n",
    "Now we'll create the experience event schema from our custom field group and the following standard field groups:\n",
    "- Direct Marketing Details\n",
    "- Web Details\n",
    "\n",
    "As with the field group, we'll first define a helper function to gracefully handle cases where the Experience Event schema has already been created:"
   ]
  },
  {
   "cell_type": "code",
   "execution_count": 17,
   "metadata": {},
   "outputs": [],
   "source": [
    "def createSchemaifnotExists(\n",
    "        title: str, \n",
    "        fieldGroups: list[str], \n",
    "        config_field: str,\n",
    "        config_path: str,\n",
    "        description: str = \"\",\n",
    "        utils_conn: utils.Utils = utils.Utils(), \n",
    "        schema_conn: schema.Schema = schema.Schema()\n",
    "):\n",
    "    existing = utils_conn.check_if_exists('Data', config_field, config_path)\n",
    "    if existing:\n",
    "        print(f\"'{title}' already exists, retrieving existing schema\")\n",
    "        return schema_conn.getSchema(existing)\n",
    "    else:\n",
    "        if config_field == \"events_schema\":\n",
    "            return schema_conn.createExperienceEventSchema(\n",
    "                name=title,\n",
    "                fieldGroupIds=fieldGroups,\n",
    "                description=description\n",
    "            )\n",
    "        elif config_field ==\"profile_schema\":\n",
    "            return schema_conn.createProfileSchema(\n",
    "                name=title,\n",
    "                fieldGroupIds=fieldGroups,\n",
    "                description=description\n",
    "            )"
   ]
  },
  {
   "cell_type": "markdown",
   "metadata": {},
   "source": [
    "Create (or get) the Experience Event schema and update the config file with its ID. We'll capture the ID and AltID in variables that we can reference further down, and generate a link to the schema in the AEP UI that you can use to verify that the schema was created."
   ]
  },
  {
   "cell_type": "code",
   "execution_count": 21,
   "metadata": {},
   "outputs": [
    {
     "name": "stdout",
     "output_type": "stream",
     "text": [
      "EE Schema ID: https://ns.adobe.com/aemonacpprodcampaign/schemas/1b485af0567eb1110b09ee9b2d43d21601b24694e4f8d303\n",
      "EE Schema Alt ID: _aemonacpprodcampaign.schemas.1b485af0567eb1110b09ee9b2d43d21601b24694e4f8d303\n",
      "View EE schema in UI: https://experience.adobe.com/#/@aemonacpprodcampaign/sname:laa-e2e/platform/schema/mixin/browse/https%3A%2F%2Fns.adobe.com%2Faemonacpprodcampaign%2Fschemas%2F1b485af0567eb1110b09ee9b2d43d21601b24694e4f8d303\n"
     ]
    }
   ],
   "source": [
    "schema_ee_title = f\"[Synthetic Data] Experience Event schema (created by {username})\"\n",
    "schema_ee_fgs = [\n",
    "    fieldgroup_id,\n",
    "    \"https://ns.adobe.com/xdm/context/experienceevent-directmarketing\",\n",
    "    \"https://ns.adobe.com/xdm/context/experienceevent-web\"\n",
    "]\n",
    "schema_ee_desc = \"Profile Schema generated by CMLE for synthetic events\"\n",
    "\n",
    "schema_ee_res = createSchemaifnotExists(\n",
    "    title=schema_ee_title,\n",
    "    fieldGroups=schema_ee_fgs,\n",
    "    config_field='events_schema',\n",
    "    config_path=config_path,\n",
    "    description=schema_ee_desc\n",
    ")\n",
    "schema_ee_id = schema_ee_res['$id']\n",
    "schema_ee_altId = schema_ee_res[\"meta:altId\"]\n",
    "print(f\"EE Schema ID: {schema_ee_id}\")\n",
    "print(f\"EE Schema Alt ID: {schema_ee_altId}\")\n",
    "\n",
    "# update config object\n",
    "utils_conn.save_field_in_config('Data', 'events_schema', schema_ee_id, config_path)\n",
    "config.read(config_path)\n",
    "\n",
    "schema_ee_link = get_ui_link(tenant_id, \"schema/mixin/browse\", urllib.parse.quote(schema_ee_id, safe=\"a\"))\n",
    "print(f\"View EE schema in UI: {schema_ee_link}\")"
   ]
  },
  {
   "cell_type": "markdown",
   "metadata": {},
   "source": [
    "We need to set `synth_id` as the primary ID for the events schema with ECID as the namespace. We do this by creating an identity descriptor in the schema registry:"
   ]
  },
  {
   "cell_type": "code",
   "execution_count": 22,
   "metadata": {},
   "outputs": [
    {
     "data": {
      "text/plain": [
       "{'@id': '53b467f407ea07162ee337024cc413cd9603f0927d580359',\n",
       " '@type': 'xdm:descriptorIdentity',\n",
       " 'xdm:sourceSchema': 'https://ns.adobe.com/aemonacpprodcampaign/schemas/1b485af0567eb1110b09ee9b2d43d21601b24694e4f8d303',\n",
       " 'xdm:sourceVersion': 1,\n",
       " 'xdm:sourceProperty': '/_aemonacpprodcampaign/synth_id',\n",
       " 'imsOrg': '906E3A095DC834230A495FD6@AdobeOrg',\n",
       " 'version': '1',\n",
       " 'xdm:namespace': 'ECID',\n",
       " 'xdm:property': 'xdm:id',\n",
       " 'xdm:isPrimary': True,\n",
       " 'meta:containerId': '5523fc81-ee25-4546-a3fc-81ee25554627',\n",
       " 'meta:sandboxId': '5523fc81-ee25-4546-a3fc-81ee25554627',\n",
       " 'meta:sandboxType': 'production'}"
      ]
     },
     "execution_count": 22,
     "metadata": {},
     "output_type": "execute_result"
    }
   ],
   "source": [
    "identity_type = \"ECID\"\n",
    "identity_data_events = {\n",
    "            \"@type\": \"xdm:descriptorIdentity\",\n",
    "            \"xdm:sourceSchema\": schema_ee_id,\n",
    "            \"xdm:sourceVersion\": 1,\n",
    "            \"xdm:sourceProperty\": f\"/_{tenant_id}/synth_id\",\n",
    "            \"xdm:namespace\": identity_type,\n",
    "            \"xdm:property\": \"xdm:id\",\n",
    "            \"xdm:isPrimary\": True\n",
    "        }\n",
    "identity_dsc_ee_res = schema_conn.createDescriptor(descriptorObj=identity_data_events)\n",
    "identity_dsc_ee_res"
   ]
  },
  {
   "cell_type": "markdown",
   "metadata": {},
   "source": [
    "With a primary identity set, we can now enable the events schema for the Profile service."
   ]
  },
  {
   "cell_type": "code",
   "execution_count": 23,
   "metadata": {},
   "outputs": [
    {
     "data": {
      "text/plain": [
       "{'$id': 'https://ns.adobe.com/aemonacpprodcampaign/schemas/1b485af0567eb1110b09ee9b2d43d21601b24694e4f8d303',\n",
       " 'meta:altId': '_aemonacpprodcampaign.schemas.1b485af0567eb1110b09ee9b2d43d21601b24694e4f8d303',\n",
       " 'meta:resourceType': 'schemas',\n",
       " 'version': '1.1',\n",
       " 'title': '[Synthetic Data] Experience Event schema (created by jeremypage)',\n",
       " 'type': 'object',\n",
       " 'description': 'Profile Schema generated by CMLE for synthetic events',\n",
       " 'allOf': [{'$ref': 'https://ns.adobe.com/xdm/context/experienceevent',\n",
       "   'type': 'object',\n",
       "   'meta:xdmType': 'object'},\n",
       "  {'$ref': 'https://ns.adobe.com/aemonacpprodcampaign/mixins/ef239be06873c2a8d280c597128dc2094d85e941fef63100',\n",
       "   'type': 'object',\n",
       "   'meta:xdmType': 'object'},\n",
       "  {'$ref': 'https://ns.adobe.com/xdm/context/experienceevent-directmarketing',\n",
       "   'type': 'object',\n",
       "   'meta:xdmType': 'object'},\n",
       "  {'$ref': 'https://ns.adobe.com/xdm/context/experienceevent-web',\n",
       "   'type': 'object',\n",
       "   'meta:xdmType': 'object'}],\n",
       " 'refs': ['https://ns.adobe.com/xdm/context/experienceevent-directmarketing',\n",
       "  'https://ns.adobe.com/aemonacpprodcampaign/mixins/ef239be06873c2a8d280c597128dc2094d85e941fef63100',\n",
       "  'https://ns.adobe.com/xdm/context/experienceevent-web',\n",
       "  'https://ns.adobe.com/xdm/context/experienceevent'],\n",
       " 'required': ['@id', 'xdm:timestamp'],\n",
       " 'imsOrg': '906E3A095DC834230A495FD6@AdobeOrg',\n",
       " 'additionalInfo': {'numberOfIdentities': 1,\n",
       "  'numberOfRelationShips': 0,\n",
       "  'classTitle': 'XDM ExperienceEvent',\n",
       "  'hasPrimaryIdentity': 'true',\n",
       "  'primaryIdentityNamespace': 'ECID',\n",
       "  'hasRelationShip': False,\n",
       "  'profileEnabled': True},\n",
       " 'meta:extensible': False,\n",
       " 'meta:abstract': False,\n",
       " 'meta:extends': ['https://ns.adobe.com/xdm/data/time-series',\n",
       "  'https://ns.adobe.com/xdm/context/experienceevent-directmarketing',\n",
       "  'https://ns.adobe.com/aemonacpprodcampaign/mixins/ef239be06873c2a8d280c597128dc2094d85e941fef63100',\n",
       "  'https://ns.adobe.com/xdm/context/identitymap',\n",
       "  'https://ns.adobe.com/xdm/context/experienceevent-web',\n",
       "  'https://ns.adobe.com/xdm/context/experienceevent'],\n",
       " 'meta:xdmType': 'object',\n",
       " 'meta:registryMetadata': {'repo:createdDate': 1699422434005,\n",
       "  'repo:lastModifiedDate': 1699422449790,\n",
       "  'xdm:createdClientId': '8ac1867999e34cfbaf35c0fd9de5ccd5',\n",
       "  'xdm:lastModifiedClientId': '8ac1867999e34cfbaf35c0fd9de5ccd5',\n",
       "  'xdm:createdUserId': '0BE41E51654B1A560A495FEA@techacct.adobe.com',\n",
       "  'xdm:lastModifiedUserId': '0BE41E51654B1A560A495FEA@techacct.adobe.com',\n",
       "  'eTag': '841d341e06a303db400c588e2b70360816966fa77f6cf10e49f923a680dab334',\n",
       "  'meta:globalLibVersion': '1.44.2'},\n",
       " 'meta:class': 'https://ns.adobe.com/xdm/context/experienceevent',\n",
       " 'meta:containerId': '5523fc81-ee25-4546-a3fc-81ee25554627',\n",
       " 'meta:sandboxId': '5523fc81-ee25-4546-a3fc-81ee25554627',\n",
       " 'meta:sandboxType': 'production',\n",
       " 'meta:tenantNamespace': '_aemonacpprodcampaign',\n",
       " 'meta:immutableTags': ['union'],\n",
       " 'meta:descriptorStatus': {'result': []}}"
      ]
     },
     "execution_count": 23,
     "metadata": {},
     "output_type": "execute_result"
    }
   ],
   "source": [
    "enable_ee_res = schema_conn.enableSchemaForRealTime(schema_ee_altId)\n",
    "enable_ee_res"
   ]
  },
  {
   "cell_type": "markdown",
   "metadata": {},
   "source": [
    "## 1.3 Create Experience Event dataset\n",
    "\n",
    "With a schema defined for our events data, we'll now create a dataset to hold the data. As before, we will first define a helper function that checks whether the Experience Events dataset has already been created (specifically whether the events_dataset field is populated in the config) before attempting to create the new dataset. The function will return the ID of the events dataset if it already exists, otherwise it creates the new dataset and returns its ID."
   ]
  },
  {
   "cell_type": "code",
   "execution_count": 24,
   "metadata": {},
   "outputs": [],
   "source": [
    "from aepp import catalog\n",
    "\n",
    "def createDatasetifNotExists(\n",
    "        name: str, \n",
    "        schemaId: str,\n",
    "        config_field: str,\n",
    "        config_path: str,\n",
    "        profile: bool = False,\n",
    "        utils_conn: utils.Utils = utils.Utils(),\n",
    "        cat_conn: catalog.Catalog = catalog.Catalog()\n",
    "):\n",
    "    \n",
    "    existing = utils_conn.check_if_exists('Data', config_field, config_path)\n",
    "    if existing:\n",
    "        print(f\"'{name}' already exists, retrieving existing dataset\")\n",
    "        return existing\n",
    "    else:\n",
    "        new_dataset = cat_conn.createDataSets(\n",
    "            name=name,\n",
    "            schemaId=schemaId,\n",
    "            profileEnabled=profile,\n",
    "            identityEnabled=profile\n",
    "        )\n",
    "        return new_dataset[0].split(\"/\")[-1]"
   ]
  },
  {
   "cell_type": "markdown",
   "metadata": {},
   "source": [
    "Create the Experience Event dataset and update the config file with the dataset ID"
   ]
  },
  {
   "cell_type": "code",
   "execution_count": 25,
   "metadata": {},
   "outputs": [
    {
     "name": "stdout",
     "output_type": "stream",
     "text": [
      "EE Dataset ID: 654b20fe82b01e28d381630a\n",
      "View EE Dataset in UI: https://experience.adobe.com/#/@aemonacpprodcampaign/sname:laa-e2e/platform/dataset/browse/654b20fe82b01e28d381630a\n"
     ]
    }
   ],
   "source": [
    "dataset_ee_name = f\"[Synthetic Data] Experience Event dataset (created by {username})\"\n",
    "dataset_ee_id = createDatasetifNotExists(\n",
    "    name=dataset_ee_name,\n",
    "    schemaId=schema_ee_id,\n",
    "    config_field=\"events_dataset\",\n",
    "    config_path=config_path,\n",
    "    profile=True)\n",
    "print(f\"EE Dataset ID: {dataset_ee_id}\")\n",
    "\n",
    "# update config object\n",
    "utils_conn.save_field_in_config('Data', 'events_dataset', dataset_ee_id, config_path)\n",
    "config.read(config_path)\n",
    "\n",
    "dataset_ee_link = get_ui_link(tenant_id, \"dataset/browse\", dataset_ee_id)\n",
    "print(f\"View EE Dataset in UI: {dataset_ee_link}\")"
   ]
  },
  {
   "cell_type": "markdown",
   "metadata": {},
   "source": [
    "Enable the events dataset for Profile\n",
    "<div class=\"alert alert-block alert-warning\">\n",
    "<b>Note:</b> After you do this step please go in the UI and click on the link above, if the profile toggle is not enabled please manually toggle the profile on\n",
    "</div>"
   ]
  },
  {
   "cell_type": "code",
   "execution_count": 26,
   "metadata": {},
   "outputs": [
    {
     "data": {
      "text/plain": [
       "['@/dataSets/654b20fe82b01e28d381630a']"
      ]
     },
     "execution_count": 26,
     "metadata": {},
     "output_type": "execute_result"
    }
   ],
   "source": [
    "cat_conn = catalog.Catalog()\n",
    "cat_conn.enableDatasetProfile(dataset_ee_id)"
   ]
  },
  {
   "cell_type": "markdown",
   "metadata": {},
   "source": [
    "# 2. Create Profile schema and dataset\n",
    "\n",
    "The Profile schema will include the following field groups:\n",
    "- Loyalty Details\n",
    "- Personal Contact Details\n",
    "- Demographic Details\n",
    "- User Account Details"
   ]
  },
  {
   "cell_type": "markdown",
   "metadata": {},
   "source": [
    "## 2.1 Create Profile schema"
   ]
  },
  {
   "cell_type": "code",
   "execution_count": 27,
   "metadata": {},
   "outputs": [
    {
     "name": "stdout",
     "output_type": "stream",
     "text": [
      "Profile Schema ID: https://ns.adobe.com/aemonacpprodcampaign/schemas/1f444d0fa751cdd0e377d6ea48c7ff67cc821545ee75e89a\n",
      "Profile Schema Alt ID: _aemonacpprodcampaign.schemas.1f444d0fa751cdd0e377d6ea48c7ff67cc821545ee75e89a\n",
      "View Profile schema in UI: https://experience.adobe.com/#/@aemonacpprodcampaign/sname:laa-e2e/platform/schema/mixin/browse/https%3A%2F%2Fns.adobe.com%2Faemonacpprodcampaign%2Fschemas%2F1f444d0fa751cdd0e377d6ea48c7ff67cc821545ee75e89a\n"
     ]
    }
   ],
   "source": [
    "# Set schema parameters\n",
    "schema_profile_title = f\"[Synthetic Data] Profile Schema (created by {username})\"\n",
    "schema_profile_fgs = [\n",
    "    'https://ns.adobe.com/xdm/mixins/profile/profile-loyalty-details',\n",
    "    'https://ns.adobe.com/xdm/context/profile-personal-details',\n",
    "    'https://ns.adobe.com/xdm/context/profile-person-details',\n",
    "    'https://ns.adobe.com/xdm/mixins/profile/profile-user-account-details'\n",
    "]\n",
    "schema_profile_desc = \"Profile Schema generated by CMLE\"\n",
    "\n",
    "schema_profile_res = createSchemaifnotExists(\n",
    "    title=schema_profile_title,\n",
    "    fieldGroups=schema_profile_fgs,\n",
    "    config_field=\"profile_schema\",\n",
    "    config_path=config_path,\n",
    "    description=schema_profile_desc\n",
    ")\n",
    "schema_profile_id = schema_profile_res['$id']\n",
    "schema_profile_altId = schema_profile_res[\"meta:altId\"]\n",
    "print(f\"Profile Schema ID: {schema_profile_id}\")\n",
    "print(f\"Profile Schema Alt ID: {schema_profile_altId}\")\n",
    "\n",
    "# update config object\n",
    "utils_conn.save_field_in_config('Data', 'profile_schema', schema_profile_id, config_path)\n",
    "config.read(config_path)\n",
    "\n",
    "schema_profile_link = get_ui_link(tenant_id, \"schema/mixin/browse\", urllib.parse.quote(schema_profile_id, safe=\"a\"))\n",
    "print(f\"View Profile schema in UI: {schema_profile_link}\")"
   ]
  },
  {
   "cell_type": "markdown",
   "metadata": {},
   "source": [
    "Set `personID` as the primary ID for the schema with ECID as the namespace"
   ]
  },
  {
   "cell_type": "code",
   "execution_count": 28,
   "metadata": {},
   "outputs": [
    {
     "data": {
      "text/plain": [
       "{'@id': '3afba8ada66bdcd1dc4cb925cfdc6ef59cb0e8747374a3cf',\n",
       " '@type': 'xdm:descriptorIdentity',\n",
       " 'xdm:sourceSchema': 'https://ns.adobe.com/aemonacpprodcampaign/schemas/1f444d0fa751cdd0e377d6ea48c7ff67cc821545ee75e89a',\n",
       " 'xdm:sourceVersion': 1,\n",
       " 'xdm:sourceProperty': '/personID',\n",
       " 'imsOrg': '906E3A095DC834230A495FD6@AdobeOrg',\n",
       " 'version': '1',\n",
       " 'xdm:namespace': 'ECID',\n",
       " 'xdm:property': 'xdm:id',\n",
       " 'xdm:isPrimary': True,\n",
       " 'meta:containerId': '5523fc81-ee25-4546-a3fc-81ee25554627',\n",
       " 'meta:sandboxId': '5523fc81-ee25-4546-a3fc-81ee25554627',\n",
       " 'meta:sandboxType': 'production'}"
      ]
     },
     "execution_count": 28,
     "metadata": {},
     "output_type": "execute_result"
    }
   ],
   "source": [
    "identity_type = \"ECID\"\n",
    "identity_data_profiles = {\n",
    "            \"@type\": \"xdm:descriptorIdentity\",\n",
    "            \"xdm:sourceSchema\": schema_profile_id,\n",
    "            \"xdm:sourceVersion\": 1,\n",
    "            \"xdm:sourceProperty\": f\"/personID\",\n",
    "            \"xdm:namespace\": identity_type,\n",
    "            \"xdm:property\": \"xdm:id\",\n",
    "            \"xdm:isPrimary\": True\n",
    "        }\n",
    "identity_dsc_profile_res = schema_conn.createDescriptor(descriptorObj=identity_data_profiles)\n",
    "identity_dsc_profile_res"
   ]
  },
  {
   "cell_type": "markdown",
   "metadata": {},
   "source": [
    "Enable the profile schema for Profile"
   ]
  },
  {
   "cell_type": "code",
   "execution_count": 29,
   "metadata": {},
   "outputs": [
    {
     "data": {
      "text/plain": [
       "{'$id': 'https://ns.adobe.com/aemonacpprodcampaign/schemas/1f444d0fa751cdd0e377d6ea48c7ff67cc821545ee75e89a',\n",
       " 'meta:altId': '_aemonacpprodcampaign.schemas.1f444d0fa751cdd0e377d6ea48c7ff67cc821545ee75e89a',\n",
       " 'meta:resourceType': 'schemas',\n",
       " 'version': '1.1',\n",
       " 'title': '[Synthetic Data] Profile Schema (created by jeremypage)',\n",
       " 'type': 'object',\n",
       " 'description': 'Profile Schema generated by CMLE',\n",
       " 'allOf': [{'$ref': 'https://ns.adobe.com/xdm/context/profile',\n",
       "   'type': 'object',\n",
       "   'meta:xdmType': 'object'},\n",
       "  {'$ref': 'https://ns.adobe.com/xdm/mixins/profile/profile-loyalty-details',\n",
       "   'type': 'object',\n",
       "   'meta:xdmType': 'object'},\n",
       "  {'$ref': 'https://ns.adobe.com/xdm/context/profile-personal-details',\n",
       "   'type': 'object',\n",
       "   'meta:xdmType': 'object'},\n",
       "  {'$ref': 'https://ns.adobe.com/xdm/context/profile-person-details',\n",
       "   'type': 'object',\n",
       "   'meta:xdmType': 'object'},\n",
       "  {'$ref': 'https://ns.adobe.com/xdm/mixins/profile/profile-user-account-details',\n",
       "   'type': 'object',\n",
       "   'meta:xdmType': 'object'}],\n",
       " 'refs': ['https://ns.adobe.com/xdm/mixins/profile/profile-loyalty-details',\n",
       "  'https://ns.adobe.com/xdm/context/profile-person-details',\n",
       "  'https://ns.adobe.com/xdm/context/profile-personal-details',\n",
       "  'https://ns.adobe.com/xdm/context/profile',\n",
       "  'https://ns.adobe.com/xdm/mixins/profile/profile-user-account-details'],\n",
       " 'imsOrg': '906E3A095DC834230A495FD6@AdobeOrg',\n",
       " 'additionalInfo': {'numberOfIdentities': 1,\n",
       "  'numberOfRelationShips': 0,\n",
       "  'classTitle': 'XDM Individual Profile',\n",
       "  'behavior': 'Record',\n",
       "  'hasPrimaryIdentity': 'true',\n",
       "  'primaryIdentityNamespace': 'ECID',\n",
       "  'hasRelationShip': False,\n",
       "  'profileEnabled': True},\n",
       " 'meta:extensible': False,\n",
       " 'meta:abstract': False,\n",
       " 'meta:extends': ['https://ns.adobe.com/xdm/mixins/profile/profile-loyalty-details',\n",
       "  'https://ns.adobe.com/xdm/context/profile-person-details',\n",
       "  'https://ns.adobe.com/xdm/context/profile-personal-details',\n",
       "  'https://ns.adobe.com/xdm/common/auditable',\n",
       "  'https://ns.adobe.com/xdm/data/record',\n",
       "  'https://ns.adobe.com/xdm/context/profile',\n",
       "  'https://ns.adobe.com/xdm/mixins/profile/profile-user-account-details'],\n",
       " 'meta:xdmType': 'object',\n",
       " 'meta:registryMetadata': {'repo:createdDate': 1699422569877,\n",
       "  'repo:lastModifiedDate': 1699422575910,\n",
       "  'xdm:createdClientId': '8ac1867999e34cfbaf35c0fd9de5ccd5',\n",
       "  'xdm:lastModifiedClientId': '8ac1867999e34cfbaf35c0fd9de5ccd5',\n",
       "  'xdm:createdUserId': '0BE41E51654B1A560A495FEA@techacct.adobe.com',\n",
       "  'xdm:lastModifiedUserId': '0BE41E51654B1A560A495FEA@techacct.adobe.com',\n",
       "  'eTag': '2db72fa19afe45b052f3b9d362d8183c03ec89a6cfa72434a0293abafe6ad4a0',\n",
       "  'meta:globalLibVersion': '1.44.2'},\n",
       " 'meta:class': 'https://ns.adobe.com/xdm/context/profile',\n",
       " 'meta:containerId': '5523fc81-ee25-4546-a3fc-81ee25554627',\n",
       " 'meta:sandboxId': '5523fc81-ee25-4546-a3fc-81ee25554627',\n",
       " 'meta:sandboxType': 'production',\n",
       " 'meta:tenantNamespace': '_aemonacpprodcampaign',\n",
       " 'meta:immutableTags': ['union'],\n",
       " 'meta:descriptorStatus': {'result': []}}"
      ]
     },
     "execution_count": 29,
     "metadata": {},
     "output_type": "execute_result"
    }
   ],
   "source": [
    "enable_profile_res = schema_conn.enableSchemaForRealTime(schema_profile_altId)\n",
    "enable_profile_res"
   ]
  },
  {
   "cell_type": "markdown",
   "metadata": {},
   "source": [
    "## 2.2 Create Profile dataset\n",
    "\n",
    "Create the Profile dataset and update the config file with the dataset ID"
   ]
  },
  {
   "cell_type": "code",
   "execution_count": 30,
   "metadata": {},
   "outputs": [
    {
     "name": "stdout",
     "output_type": "stream",
     "text": [
      "Profile dataset ID: 654b217132adab28d2b5e5ef\n",
      "View Profile Dataset in UI: https://experience.adobe.com/#/@aemonacpprodcampaign/sname:laa-e2e/platform/dataset/browse/654b217132adab28d2b5e5ef\n"
     ]
    }
   ],
   "source": [
    "dataset_profile_name = f\"[Synthetic Data] Profile dataset (created by {username})\"\n",
    "dataset_profile_id = createDatasetifNotExists(\n",
    "    name=dataset_profile_name,\n",
    "    schemaId=schema_profile_id,\n",
    "    config_field=\"profile_dataset\",\n",
    "    config_path=config_path,\n",
    "    profile=True)\n",
    "print(f\"Profile dataset ID: {dataset_profile_id}\")\n",
    "\n",
    "# update config object\n",
    "utils_conn.save_field_in_config('Data', 'profile_dataset', dataset_profile_id, config_path)\n",
    "config.read(config_path)\n",
    "\n",
    "dataset_profile_link = get_ui_link(tenant_id, \"dataset/browse\", dataset_profile_id)\n",
    "print(f\"View Profile Dataset in UI: {dataset_profile_link}\")"
   ]
  },
  {
   "cell_type": "markdown",
   "metadata": {},
   "source": [
    "Enable dataset for Profile\n",
    "<div class=\"alert alert-block alert-warning\">\n",
    "<b>Note:</b> After you do this step please go in the UI and click on the link above, if the profile toggle is not enabled please manually toggle the profile on\n",
    "</div>"
   ]
  },
  {
   "cell_type": "code",
   "execution_count": 31,
   "metadata": {},
   "outputs": [
    {
     "data": {
      "text/plain": [
       "['@/dataSets/654b217132adab28d2b5e5ef']"
      ]
     },
     "execution_count": 31,
     "metadata": {},
     "output_type": "execute_result"
    }
   ],
   "source": [
    "cat_conn.enableDatasetProfile(dataset_profile_id)"
   ]
  },
  {
   "cell_type": "markdown",
   "metadata": {},
   "source": [
    "# 3. Statistical simulation of Profiles and Experience Events\n",
    "\n",
    "We will set up a statistical simulation to generate Experience event data that can be used illustrate the end-to-end flow of creating a propensity model to predict subscriptions to a brand's paid service.\n",
    "\n",
    "We will use the standard `web.formFilledOut` event type to represent the subscription conversions that the brand wants to predict, and generate similulated sequences of various types of experience events along with the target subscription conversions that will be used to train a propensity model."
   ]
  },
  {
   "cell_type": "markdown",
   "metadata": {},
   "source": [
    "## 3.1 Event types and their contribution to propensity\n"
   ]
  },
  {
   "cell_type": "code",
   "execution_count": 32,
   "metadata": {},
   "outputs": [],
   "source": [
    "import random, string\n",
    "import uuid\n",
    "from datetime import timedelta\n",
    "import mmh3\n",
    "from random import randrange"
   ]
  },
  {
   "cell_type": "markdown",
   "metadata": {},
   "source": [
    "First, we'll define some events, their frequencies, and dependencies between the events"
   ]
  },
  {
   "cell_type": "code",
   "execution_count": 33,
   "metadata": {},
   "outputs": [],
   "source": [
    "advertising_events = {\n",
    " \n",
    "    #eventType          : (weeklyAverageOccurrence, propensityDelta, [(field_to_replace, value)], timeInHoursFromDependent)\n",
    "    \"advertising.clicks\": (0.01,                    0.002,            [(\"advertising/clicks/value\", 1.0)], 0.5) , \n",
    "    \"advertising.impressions\": (0.1, 0.001, [(\"advertising/impressions/value\", 1.0)], 0),\n",
    "\n",
    "    \"web.webpagedetails.pageViews\": (0.1, 0.005, [(\"web/webPageDetails/pageViews/value\", 1.0)], 0.1),\n",
    "    \"web.webinteraction.linkClicks\": (0.05, 0.005, [(\"web/webInteraction/linkClicks/value\", 1.0)], 0.1),\n",
    "   \n",
    "    \n",
    "    \"commerce.productViews\": (0.05, 0.005, [(\"commerce/productViews/value\", 1.0)], 0.2),\n",
    "    \"commerce.purchases\": (0.01, 0.1, [(\"commerce/purchases/value\", 1.0)], 1),\n",
    "    \n",
    "    \n",
    "    \"decisioning.propositionDisplay\": (0.05, 0.005, [(\"_experience/decisioning/propositionEventType/display\", 1)], 0.1),\n",
    "    \"decisioning.propositionInteract\": (0.01, 0.1, [(\"_experience/decisioning/propositionEventType/interact\", 1)], 0.05),\n",
    "    \"decisioning.propositionDismiss\": (0.01, -0.2, [(\"_experience/decisioning/propositionEventType/dismiss\", 1)], 0.05),\n",
    "\n",
    "    \n",
    "    \"directMarketing.emailOpened\": (0.2, 0.02, [(\"directMarketing/opens/value\", 1.0)], 24),\n",
    "    \"directMarketing.emailClicked\": (0.05, 0.1, [(\"directMarketing/clicks/value\", 1.0)], 0.5),\n",
    "    \"directMarketing.emailSent\": (0.5, 0.005, [(\"directMarketing/sends/value\", 1.0)], 0),\n",
    "    \n",
    "    \"web.formFilledOut\": (0.0, 0.0, [(\"web/webPageDetails/name\", \"subscriptionForm\")], 0),\n",
    "\n",
    "}\n",
    "\n",
    "event_dependencies = {\n",
    "    \"advertising.impressions\": [\"advertising.clicks\"],\n",
    "    \"directMarketing.emailSent\": [\"directMarketing.emailOpened\"],\n",
    "    \"directMarketing.emailOpened\": [\"directMarketing.emailClicked\"],\n",
    "    \"directMarketing.emailClicked\": [\"web.webpagedetails.pageViews\"],\n",
    "    \"web.webpagedetails.pageViews\": [\"web.webinteraction.linkClicks\", \"commerce.productViews\", \"decisioning.propositionDisplay\"],\n",
    "    \"commerce.productViews\": [\"commerce.purchases\"],\n",
    "    \"decisioning.propositionDisplay\": [\"decisioning.propositionInteract\", \"decisioning.propositionDismiss\"]\n",
    "    \n",
    "}"
   ]
  },
  {
   "cell_type": "markdown",
   "metadata": {},
   "source": [
    "Next, define a helper function for assigning random dates to the event slater in the simulation."
   ]
  },
  {
   "cell_type": "code",
   "execution_count": 34,
   "metadata": {},
   "outputs": [],
   "source": [
    "import numpy as np\n",
    "from datetime import datetime\n",
    "\n",
    "def random_date(start, end):\n",
    "    \"\"\"\n",
    "    This function will return a random datetime between two datetime \n",
    "    objects.\n",
    "    \"\"\"\n",
    "    delta = end - start\n",
    "    int_delta = (delta.days * 24 * 60 * 60) + delta.seconds\n",
    "    random_second = randrange(int_delta)\n",
    "    return start + timedelta(seconds=random_second)"
   ]
  },
  {
   "cell_type": "markdown",
   "metadata": {},
   "source": [
    "## 3.2 Event generation process"
   ]
  },
  {
   "cell_type": "markdown",
   "metadata": {},
   "source": [
    "### 3.2.1 Define the logic for generating raw event data"
   ]
  },
  {
   "cell_type": "code",
   "execution_count": 35,
   "metadata": {},
   "outputs": [],
   "source": [
    "\n",
    "def create_data_for_n_users(n_users, first_user):\n",
    "  \n",
    "  N_USERS = n_users\n",
    "  FIRST_USER = first_user\n",
    "  \n",
    "  N_WEEKS = 10\n",
    "  GLOBAL_START_DATE = datetime.now() - timedelta(weeks=12)\n",
    "  GLOBAL_END_DATE = GLOBAL_START_DATE + timedelta(weeks=N_WEEKS)\n",
    "\n",
    "  events = []\n",
    "\n",
    "  for user in range(N_USERS):\n",
    "        user_id = FIRST_USER + user\n",
    "        user_events = []\n",
    "        base_events = {}\n",
    "        for event_type in [\"advertising.impressions\", \"web.webpagedetails.pageViews\", \"directMarketing.emailSent\"]:\n",
    "            n_events = np.random.poisson(advertising_events[event_type][0] * N_WEEKS)\n",
    "            times = []\n",
    "            for _ in range(n_events):\n",
    "                #times.append(random_date(GLOBAL_START_DATE, GLOBAL_END_DATE)\n",
    "                times.append(random_date(GLOBAL_START_DATE, GLOBAL_END_DATE).isoformat())\n",
    "\n",
    "            base_events[event_type] = times\n",
    "\n",
    "        for event_type, dependent_event_types in event_dependencies.items():\n",
    "\n",
    "            if event_type in base_events:\n",
    "                #for each originating event\n",
    "                for event_time in base_events[event_type]:\n",
    "                    #Look for possible later on events\n",
    "                    for dependent_event in dependent_event_types:\n",
    "                                n_events = np.random.poisson(advertising_events[dependent_event][0] * N_WEEKS)\n",
    "                                times = []\n",
    "                                for _ in range(n_events):\n",
    "                                    #times.append(event_time + timedelta(hours = np.random.exponential(advertising_events[dependent_event][3])))\n",
    "                                    new_time = datetime.fromisoformat(event_time) + timedelta(hours = np.random.exponential(advertising_events[dependent_event][3]))\n",
    "                                    times.append(new_time.isoformat())\n",
    "                                base_events[dependent_event] = times\n",
    "\n",
    "\n",
    "        for event_type, times in base_events.items():\n",
    "            for time in times:\n",
    "                user_events.append({\"synth_id\": user_id, \"eventType\": event_type, \"timestamp\": time})\n",
    "\n",
    "        user_events = sorted(user_events, key = lambda x: (x[\"synth_id\"], x[\"timestamp\"]))\n",
    "\n",
    "\n",
    "        cumulative_probability = 0.001\n",
    "        subscribed = False\n",
    "        for event in user_events:\n",
    "            cumulative_probability = min(1.0, max(cumulative_probability + advertising_events[event[\"eventType\"]][1], 0))\n",
    "            event[\"subscriptionPropensity\"] = cumulative_probability\n",
    "            if subscribed == False and \"directMarketing\" not in event[\"eventType\"] and \"advertising\" not in event[\"eventType\"]:\n",
    "                subscribed = np.random.binomial(1, cumulative_probability) > 0\n",
    "                if subscribed:\n",
    "                    subscriptiontime = (datetime.fromisoformat(event[\"timestamp\"]) + timedelta(seconds = 60)).isoformat()\n",
    "                    #subscriptiontime = event[\"timestamp\"] + timedelta(seconds = 60)\n",
    "                    user_events.append({\"synth_id\": user_id, \"eventType\": \"web.formFilledOut\",  \"timestamp\": subscriptiontime})\n",
    "            event[\"subscribed\"] = subscribed\n",
    "        user_events = sorted(user_events, key = lambda x: (x[\"synth_id\"], x[\"timestamp\"]))\n",
    "\n",
    "        events = events + user_events\n",
    "  return events"
   ]
  },
  {
   "cell_type": "markdown",
   "metadata": {},
   "source": [
    "### 3.2.1 Define functions to translate raw event data into XDM format that can be ingested into our events dataset\n",
    "\n",
    "First some helper functions to generate ECID values:"
   ]
  },
  {
   "cell_type": "code",
   "execution_count": 36,
   "metadata": {},
   "outputs": [],
   "source": [
    "def normalize_ecid(ecid_part):\n",
    "    ecid_part_str = str(abs(ecid_part))\n",
    "    if len(ecid_part_str) != 19:\n",
    "        ecid_part_str = \"\".join([str(x) for x in range(\n",
    "            0, 19 - len(ecid_part_str))]) + ecid_part_str\n",
    "    return ecid_part_str\n",
    "\n",
    "def get_ecid(user_id):\n",
    "    \"\"\"\n",
    "    The ECID must be two valid 19 digit longs concatenated together\n",
    "    \"\"\"\n",
    "    email = f\"synthetic-user-{user_id}@adobe.com\"\n",
    "    ecidpart1, ecidpart2 = mmh3.hash64(email)\n",
    "    ecid1, ecid2 = (normalize_ecid(ecidpart1), normalize_ecid(ecidpart2))\n",
    "    return ecid1 + ecid2"
   ]
  },
  {
   "cell_type": "markdown",
   "metadata": {},
   "source": [
    "Next, define functions that generate an XDM json-formatted event payload for each raw event. We'll define two functions, one for transforming email-related events and another for transforming web-related events. Then a final function `create_xdm_event` which combines the two with logic to apply the appropriate function."
   ]
  },
  {
   "cell_type": "code",
   "execution_count": 37,
   "metadata": {},
   "outputs": [],
   "source": [
    "# Define the data that goes into an email event payload\n",
    "def create_email_event(user_id, event_type, timestamp):\n",
    "  \"\"\"\n",
    "  Combines previous methods to create various type of email events\n",
    "  \"\"\"\n",
    "  \n",
    "  if event_type == \"directMarketing.emailSent\":\n",
    "    directMarketing = {\"emailDelivered\": {\"value\": 1.0}, \n",
    "                       \"sends\": {\"value\": 1.0}, \n",
    "                       \"emailVisitorID\": user_id,\n",
    "                       \"hashedEmail\": ''.join(random.choices(string.ascii_letters + string.digits, k=10)),\n",
    "                       \"messageID\": str(uuid.uuid4()),\n",
    "                      }\n",
    "  elif event_type == \"directMarketing.emailOpened\":\n",
    "    directMarketing = {\"offerOpens\": {\"value\": 1.0}, \n",
    "                     \"opens\": {\"value\": 1.0}, \n",
    "                     \"emailVisitorID\": user_id,\n",
    "                     \"messageID\": str(uuid.uuid4()),\n",
    "                    }\n",
    "  elif event_type == \"directMarketing.emailClicked\":\n",
    "    directMarketing = {\"clicks\": {\"value\": 1.0}, \n",
    "                     \"offerOpens\": {\"value\": 1.0}, \n",
    "                     \"emailVisitorID\": user_id,\n",
    "                     \"messageID\": str(uuid.uuid4()),\n",
    "                    }\n",
    "  return {\n",
    "    \"directMarketing\": directMarketing,\n",
    "    \"web\": None,\n",
    "    \"_id\": str(uuid.uuid4()),\n",
    "    \"eventMergeId\": None,\n",
    "    \"eventType\": event_type,\n",
    "    f\"_{tenant_id}\": {\"synth_id\":get_ecid(user_id)},\n",
    "    \"producedBy\": \"databricks-synthetic\",\n",
    "    \"timestamp\": timestamp\n",
    "  }"
   ]
  },
  {
   "cell_type": "code",
   "execution_count": 45,
   "metadata": {},
   "outputs": [],
   "source": [
    "# Define the data that goes into a web event payload \n",
    "def create_web_event(user_id, event_type, timestamp):\n",
    "  \"\"\"\n",
    "  Combines previous methods to creat various type of web events\n",
    "  \"\"\"\n",
    "  url = f\"http://www.{''.join(random.choices(string.ascii_letters + string.digits, k=5))}.com\"\n",
    "  ref_url = f\"http://www.{''.join(random.choices(string.ascii_letters + string.digits, k=5))}.com\"\n",
    "  name = ''.join(random.choices(string.ascii_letters + string.digits, k=5))\n",
    "  isHomePage = random.choice([True, False])\n",
    "  server = ''.join(random.choices(string.ascii_letters + string.digits, k=10))\n",
    "  site_section = ''.join(random.choices(string.ascii_letters, k=2))\n",
    "  view_name = ''.join(random.choices(string.ascii_letters, k=3))\n",
    "  region = ''.join(random.choices(string.ascii_letters + string.digits, k=5))\n",
    "  interaction_type = random.choice([\"download\", \"exit\", \"other\"])\n",
    "  web_referrer = random.choice([\"internal\", \"external\", \"search_engine\", \"email\", \"social\", \"unknown\", \"usenet\", \"typed_bookmarked\"])\n",
    "  base_web = {\"webInteraction\": {\"linkClicks\": {\"value\": 0.0}, \n",
    "                                 \"URL\": url, \n",
    "                                 \"name\": name,\n",
    "                                \"region\": region,\n",
    "                                \"type\": interaction_type},\n",
    "              \"webPageDetails\": {\"pageViews\": {\"value\": 1.0},\n",
    "                                 \"URL\": url,\n",
    "                                 \"isErrorPage\": False,\n",
    "                                 #\"isHomepage\": isHomePage,\n",
    "                                 \"name\": name,\n",
    "                                 \"server\": server,\n",
    "                                 \"siteSection\": site_section,\n",
    "                                 \"viewName\": view_name\n",
    "                                },\n",
    "              \"webReferrer\": {\n",
    "                \"URL\": ref_url,\n",
    "                \"type\": web_referrer\n",
    "              }\n",
    "             }\n",
    "  if event_type in [\"advertising.clicks\", \"commerce.purchases\", \"web.webinteraction.linkClicks\", \"web.formFilledOut\", \n",
    "                   \"decisioning.propositionInteract\", \"decisioning.propositionDismiss\"]:\n",
    "    base_web[\"webInteraction\"][\"linkClicks\"][\"value\"] = 1.0\n",
    "\n",
    "  return {\n",
    "    \"directMarketing\": None,\n",
    "    \"web\": base_web,\n",
    "    \"_id\": str(uuid.uuid4()),\n",
    "    \"eventMergeId\": None,\n",
    "    \"eventType\": event_type,\n",
    "    f\"_{tenant_id}\": {\"synth_id\":get_ecid(user_id)},\n",
    "    \"producedBy\": \"databricks-synthetic\",\n",
    "    \"timestamp\": timestamp\n",
    "  }"
   ]
  },
  {
   "cell_type": "code",
   "execution_count": 38,
   "metadata": {},
   "outputs": [],
   "source": [
    "    \n",
    "def create_xdm_event(user_id, event_type, timestamp):\n",
    "  \"\"\"\n",
    "  The final 'event factory' method that converts an event into an XDM event\n",
    "  \"\"\"\n",
    "  if \"directMarketing\" in event_type:\n",
    "    return create_email_event(user_id, event_type, timestamp)\n",
    "  else: \n",
    "    return create_web_event(user_id, event_type, timestamp)"
   ]
  },
  {
   "cell_type": "markdown",
   "metadata": {},
   "source": [
    "And finally, we define a function that combines the above functions to generate a batch of events corresponding to *n* users:"
   ]
  },
  {
   "cell_type": "code",
   "execution_count": 39,
   "metadata": {},
   "outputs": [],
   "source": [
    "def createEventsBatch(n_users, first_user):\n",
    "    batch_events = create_data_for_n_users(n_users, first_user)\n",
    "    batch_data = [create_xdm_event(x[\"synth_id\"], x[\"eventType\"], x[\"timestamp\"]) for x in batch_events]\n",
    "    return batch_data"
   ]
  },
  {
   "cell_type": "markdown",
   "metadata": {},
   "source": [
    "## 3.3 Profile generation\n",
    "\n",
    "We'll define a similar (but much simpler!) function that generates a batch of profiles in XDM json format that we can use to populate the Profile dataset"
   ]
  },
  {
   "cell_type": "code",
   "execution_count": 40,
   "metadata": {},
   "outputs": [],
   "source": [
    "import mimesis\n",
    "import time\n",
    "def createProfilesBatch(n_users, first_user):\n",
    "\n",
    "    N_USERS = n_users\n",
    "    FIRST_USER = first_user\n",
    "    u = 'u' + str(int(time.time()))\n",
    "\n",
    "    field = mimesis.Field(mimesis.Locale.EN)\n",
    "    profile_schema = mimesis.Schema(\n",
    "        schema=lambda: {\n",
    "            \"personID\": get_ecid(FIRST_USER + field(\"increment\", accumulator=u) - 1),\n",
    "            \"person\": {\n",
    "                \"name\": {\n",
    "                    \"firstName\": field(\"first_name\"),\n",
    "                    \"lastName\": field(\"last_name\")\n",
    "                },\n",
    "                \"gender\": field(\"choice\", items=['male', 'female', 'not_specified'])\n",
    "            },\n",
    "            \"personalEmail\": {\n",
    "                \"address\": field(\"email\", domains=[\"emailsim.io\"]),\n",
    "            },\n",
    "            \"mobilePhone\": {\n",
    "                \"number\": field(\"telephone\", mask=\"###-###-####\")\n",
    "            },\n",
    "            \"homeAddress\": {\n",
    "                \"street1\": field(\"address\"),\n",
    "                \"city\": field(\"city\"),\n",
    "                \"state\": field(\"state\", abbr=True),\n",
    "                \"postalCode\": field(\"postal_code\")\n",
    "            },\n",
    "            \"loyalty\": {\n",
    "                \"loyaltyID\": [field(\"integer_number\", start=5000000, end=6000000)],\n",
    "                \"tier\": field(\"choice\", items=[\"diamond\", \"platinum\", \"gold\", \"silver\", \"member\"]),\n",
    "                \"points\": field(\"integer_number\", start=0, end=1000000), \n",
    "                \"joinDate\": field(\"datetime\", start=2000, end=2023).strftime(\"%Y-%m-%dT%H:%M:%SZ\")\n",
    "            }\n",
    "        },\n",
    "        iterations=N_USERS\n",
    "    )\n",
    "    return profile_schema.create()"
   ]
  },
  {
   "cell_type": "markdown",
   "metadata": {},
   "source": [
    "# 4. Ingest synthetic data into AEP dataset\n",
    "\n",
    "We'll now use the functions defined above to simulate sequences of Experience Events and Profile records for a number of users, then ingest the simulated data into the corresponding datasets we create above.\n",
    "\n",
    "For each batch, we will:\n",
    "1. Generate a batch of events using the `createEventsBatch` function, and ingest the batch into the events dataset (using the `ingestBatch` helper function defined below)\n",
    "2. Generate a batch of profiles using the `createProfilesBatch` function, and ingest the batch into the profile dataset\n",
    "\n",
    "First we'll create a connection to the AEP batch ingestion API:"
   ]
  },
  {
   "cell_type": "code",
   "execution_count": 41,
   "metadata": {},
   "outputs": [],
   "source": [
    "from aepp import ingestion\n",
    "ingest_conn = ingestion.DataIngestion()"
   ]
  },
  {
   "cell_type": "markdown",
   "metadata": {},
   "source": [
    "Define a helper function to combine the steps involved in ingesting a batch of data into a dataset:"
   ]
  },
  {
   "cell_type": "code",
   "execution_count": 42,
   "metadata": {},
   "outputs": [],
   "source": [
    "def ingestBatch(\n",
    "        ingest_conn: ingestion.DataIngestion,\n",
    "        dataset_id: str,\n",
    "        data: list[dict]):\n",
    "    # Initialize batch creation\n",
    "    batch_res = ingest_conn.createBatch(\n",
    "        datasetId = dataset_id\n",
    "    )\n",
    "    batch_id = batch_res[\"id\"]\n",
    "    # Upload data\n",
    "    file_path = f\"batch-synthetic-{batch_id}\"\n",
    "    ingest_conn.uploadSmallFile(\n",
    "        batchId = batch_id,\n",
    "        datasetId = dataset_id,\n",
    "        filePath = file_path,\n",
    "        data = data\n",
    "    )\n",
    "    # Complete the batch\n",
    "    ingest_conn.uploadSmallFileFinish(\n",
    "        batchId = batch_id\n",
    "    )\n",
    "    return batch_id"
   ]
  },
  {
   "cell_type": "markdown",
   "metadata": {},
   "source": [
    "Define another function that encapsulates the process we defined above for each batch. If you want to populate data for only the events dataset or only the profile dataset, you can leave the id for the other dataset blank."
   ]
  },
  {
   "cell_type": "code",
   "execution_count": 43,
   "metadata": {},
   "outputs": [],
   "source": [
    "\n",
    "def ingestSyntheticBatches(\n",
    "        ingest_conn: ingestion.DataIngestion,\n",
    "        n_users: int = 10000,\n",
    "        n_batches: int = 10,\n",
    "        event_dataset_id: str = None,\n",
    "        profile_dataset_id: str = None\n",
    "):\n",
    "    if event_dataset_id is None and profile_dataset_id is None:\n",
    "        raise AttributeError('At least one of \"event_dataset_id\" or \"profile_dataset_id\" must be provided')\n",
    "    event_batch_ids = []\n",
    "    profile_batch_ids = []\n",
    "    for b in range(n_batches):\n",
    "        first_user = b * n_users\n",
    "        if event_dataset_id is not None:\n",
    "            event_batch = createEventsBatch(n_users, first_user)\n",
    "            event_batch_id = ingestBatch(ingest_conn, event_dataset_id, event_batch)\n",
    "            print(f\"Processing events batch {b + 1}/{n_batches} with ID {event_batch_id}\")\n",
    "            event_batch_ids.append(event_batch_id)\n",
    "        if profile_dataset_id is not None:\n",
    "            profile_batch = createProfilesBatch(n_users, first_user)\n",
    "            profile_batch_id = ingestBatch(ingest_conn, profile_dataset_id, profile_batch)\n",
    "            print(f\"Processing profiles batch {b + 1}/{n_batches} with ID {profile_batch_id}\")\n",
    "            profile_batch_ids.append(profile_batch_id)\n",
    "    return (event_batch_ids, profile_batch_ids)\n"
   ]
  },
  {
   "cell_type": "markdown",
   "metadata": {},
   "source": [
    "Finally, we'll use the `ingestSyntheticBatches` function to generate and ingest data for the desired number of batches and batch size:"
   ]
  },
  {
   "cell_type": "code",
   "execution_count": 46,
   "metadata": {},
   "outputs": [
    {
     "name": "stdout",
     "output_type": "stream",
     "text": [
      "Processing events batch 1/10 with ID 01HEPQS4TRKVBM5FT0YYA00RCQ\n",
      "Processing profiles batch 1/10 with ID 01HEPQSG321B7XP8C56CN2VRVF\n",
      "Processing events batch 2/10 with ID 01HEPQSXQ0YCRD3TFWVMRDG84S\n",
      "Processing profiles batch 2/10 with ID 01HEPQT7ZX89FY0JFE39PHQT05\n",
      "Processing events batch 3/10 with ID 01HEPQTMDD73W6D689TP9W77MV\n",
      "Processing profiles batch 3/10 with ID 01HEPQTZS26DW5CX2RXWQS6Y0D\n",
      "Processing events batch 4/10 with ID 01HEPQVCFRXW0Y3N6AW68EX690\n",
      "Processing profiles batch 4/10 with ID 01HEPQW06ACF4DN91872V1C3G3\n",
      "Processing events batch 5/10 with ID 01HEPQWDF6737GKGVX9Z5R641E\n",
      "Processing profiles batch 5/10 with ID 01HEPQWWSKD79KVV4XM8Q8012W\n",
      "Processing events batch 6/10 with ID 01HEPQXBQX6J71WDCEC8RK2ZCM\n",
      "Processing profiles batch 6/10 with ID 01HEPQXNDW1EKDXYG2QBYSB7PV\n",
      "Processing events batch 7/10 with ID 01HEPQY261RAYH587VQ3QSDFZP\n",
      "Processing profiles batch 7/10 with ID 01HEPQYCEPVGNR9DQET26RK67J\n",
      "Processing events batch 8/10 with ID 01HEPQYSAKGNN3NWTXBP5NP06F\n",
      "Processing profiles batch 8/10 with ID 01HEPQZ2NGSF310PNDB6KD5D6K\n",
      "Processing events batch 9/10 with ID 01HEPQZG077HT9DDPF57W20HQH\n",
      "Processing profiles batch 9/10 with ID 01HEPQZSMC3EQ5489BMHYQMYD0\n",
      "Processing events batch 10/10 with ID 01HEPR06FWTRTHVWHWSXVDMEDW\n",
      "Processing profiles batch 10/10 with ID 01HEPR0KT6CQRRR2FN3J7A3HK7\n",
      "['01HEPQS4TRKVBM5FT0YYA00RCQ', '01HEPQSXQ0YCRD3TFWVMRDG84S', '01HEPQTMDD73W6D689TP9W77MV', '01HEPQVCFRXW0Y3N6AW68EX690', '01HEPQWDF6737GKGVX9Z5R641E', '01HEPQXBQX6J71WDCEC8RK2ZCM', '01HEPQY261RAYH587VQ3QSDFZP', '01HEPQYSAKGNN3NWTXBP5NP06F', '01HEPQZG077HT9DDPF57W20HQH', '01HEPR06FWTRTHVWHWSXVDMEDW']\n",
      "['01HEPQSG321B7XP8C56CN2VRVF', '01HEPQT7ZX89FY0JFE39PHQT05', '01HEPQTZS26DW5CX2RXWQS6Y0D', '01HEPQW06ACF4DN91872V1C3G3', '01HEPQWWSKD79KVV4XM8Q8012W', '01HEPQXNDW1EKDXYG2QBYSB7PV', '01HEPQYCEPVGNR9DQET26RK67J', '01HEPQZ2NGSF310PNDB6KD5D6K', '01HEPQZSMC3EQ5489BMHYQMYD0', '01HEPR0KT6CQRRR2FN3J7A3HK7']\n"
     ]
    }
   ],
   "source": [
    "num_batches = 10\n",
    "batch_size = 10000\n",
    "\n",
    "dataset_ee_id = config.get('Data', 'events_dataset')\n",
    "dataset_profile_id = config.get('Data', 'profile_dataset')\n",
    "\n",
    "event_batches, profile_batches = ingestSyntheticBatches(\n",
    "    ingest_conn=ingest_conn,\n",
    "    n_users=batch_size,\n",
    "    n_batches=num_batches,\n",
    "    event_dataset_id=dataset_ee_id,\n",
    "    profile_dataset_id=dataset_profile_id\n",
    ")\n",
    "print(event_batches)\n",
    "print(profile_batches)"
   ]
  },
  {
   "cell_type": "markdown",
   "metadata": {},
   "source": [
    "**Note**: Batches are ingested asynchronously in AEP. It may take some time for all the data generated here to be available in your dataset depending on how your AEP organization has been provisioned. You can check ingestion status for all your batches in [the dataset page of your AEP UI](https://experience.adobe.com/#/@TENANT/sname:SANDBOX/platform/dataset/browse/DATASETID)\n",
    "\n",
    "You can also check the ingestion status from the notebook by running the following cell:"
   ]
  },
  {
   "cell_type": "code",
   "execution_count": 48,
   "metadata": {},
   "outputs": [
    {
     "name": "stdout",
     "output_type": "stream",
     "text": [
      "All batches have been ingested\n"
     ]
    }
   ],
   "source": [
    "from aepp import catalog\n",
    "import time\n",
    "cat_conn = catalog.Catalog()\n",
    "\n",
    "all_ingested = False\n",
    "while not all_ingested:\n",
    "  incomplete_batches = cat_conn.getBatches(\n",
    "    limit=min(100, num_batches),\n",
    "    n_results=num_batches,\n",
    "    output=\"dataframe\",\n",
    "    dataSet=dataset_profile_id,\n",
    "    status=\"staging\"\n",
    "  )\n",
    "  \n",
    "  num_incomplete_batches = len(incomplete_batches)\n",
    "  if num_incomplete_batches == 0:\n",
    "    print(\"All batches have been ingested\")\n",
    "    all_ingested = True\n",
    "  else:\n",
    "    print(f\"Remaining batches being ingested: {num_incomplete_batches}\")\n",
    "    time.sleep(30)"
   ]
  }
 ],
 "metadata": {
  "application/vnd.databricks.v1+notebook": {
   "dashboards": [],
   "language": "python",
   "notebookMetadata": {
    "pythonIndentUnit": 2
   },
   "notebookName": "Week1Notebook",
   "notebookOrigID": 1016049760723614,
   "widgets": {
    "clientId": {
     "currentValue": "35e6e4d205274c4ca1418805ac41153b",
     "nuid": "1b95325b-a396-44b8-ba37-bfa820446cc3",
     "widgetInfo": {
      "defaultValue": "",
      "label": "Client ID",
      "name": "clientId",
      "options": {
       "validationRegex": null,
       "widgetType": "text"
      },
      "widgetType": "text"
     }
    },
    "clientSecret": {
     "currentValue": "s8e-usTcdYC9Ye6CTzZ-aT_5XAdp04SYv-S-",
     "nuid": "13cdebc3-d33a-419f-8b28-c1baa8c164cd",
     "widgetInfo": {
      "defaultValue": "",
      "label": "Client Secret",
      "name": "clientSecret",
      "options": {
       "validationRegex": null,
       "widgetType": "text"
      },
      "widgetType": "text"
     }
    },
    "datasetId": {
     "currentValue": "63f95a0ada33491bd0915afd",
     "nuid": "2a8d69b2-31d2-49c4-8dac-b58959f9eb7f",
     "widgetInfo": {
      "defaultValue": "",
      "label": "Dataset ID",
      "name": "datasetId",
      "options": {
       "validationRegex": null,
       "widgetType": "text"
      },
      "widgetType": "text"
     }
    },
    "imsOrgId": {
     "currentValue": "3ADF23C463D98F640A494032@AdobeOrg",
     "nuid": "9f1dfee3-a180-4d1a-9867-58884d1e9755",
     "widgetInfo": {
      "defaultValue": "",
      "label": "IMS Org ID",
      "name": "imsOrgId",
      "options": {
       "validationRegex": null,
       "widgetType": "text"
      },
      "widgetType": "text"
     }
    },
    "privateKeyPath": {
     "currentValue": "/dbfs/FileStore/shared_uploads/cmenguy@adobe.com/keypairs/cloud-ml-ecosyste_stage/private.key",
     "nuid": "6f7ae692-2556-4ab3-adf2-0d05cd238a72",
     "widgetInfo": {
      "defaultValue": "",
      "label": "Private Key Path",
      "name": "privateKeyPath",
      "options": {
       "validationRegex": null,
       "widgetType": "text"
      },
      "widgetType": "text"
     }
    },
    "sandboxName": {
     "currentValue": "prod",
     "nuid": "f34f687d-3b15-4fef-83af-e098ee403e0a",
     "widgetInfo": {
      "defaultValue": "",
      "label": "Sandbox name",
      "name": "sandboxName",
      "options": {
       "validationRegex": null,
       "widgetType": "text"
      },
      "widgetType": "text"
     }
    },
    "techAccountId": {
     "currentValue": "D94C245363DBF9770A494005@techacct.adobe.com",
     "nuid": "035ea90b-3fa3-4b3b-ad80-6b90ec67de79",
     "widgetInfo": {
      "defaultValue": "",
      "label": "Technical Account ID",
      "name": "techAccountId",
      "options": {
       "validationRegex": null,
       "widgetType": "text"
      },
      "widgetType": "text"
     }
    }
   }
  },
  "kernel_info": {
   "name": "python3"
  },
  "kernelspec": {
   "display_name": "Python 3 (ipykernel)",
   "language": "python",
   "name": "python3"
  },
  "language_info": {
   "codemirror_mode": {
    "name": "ipython",
    "version": 3
   },
   "file_extension": ".py",
   "mimetype": "text/x-python",
   "name": "python",
   "nbconvert_exporter": "python",
   "pygments_lexer": "ipython3",
   "version": "3.11.5"
  },
  "nteract": {
   "version": "nteract-front-end@1.0.0"
  }
 },
 "nbformat": 4,
 "nbformat_minor": 1
}
