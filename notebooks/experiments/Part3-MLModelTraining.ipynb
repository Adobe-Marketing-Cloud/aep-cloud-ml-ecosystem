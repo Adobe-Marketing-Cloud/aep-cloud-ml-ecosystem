{
 "cells": [
  {
   "cell_type": "markdown",
   "metadata": {
    "nteract": {
     "transient": {
      "deleting": false
     }
    }
   },
   "source": [
    "# ML Model training\n",
    "\n",
    "This is the fourth notebook in a series on creating propensity models with datasets from AEP.\n",
    "In this notebook, we train an ML model to predict propensity of subscription, using previously featurized data that has been \"exported\" from AEP. \n",
    "\n",
    "This notebook is step 4 in the diagram below.\n",
    "\n",
    "![exploration](../media/CME-PoC-MLTraining.png)\n",
    "\n",
    "<div class=\"alert alert-warning\">\n",
    "    <em> This section contains issues that crop up</em>\n",
    "    <ul>\n",
    "        <li> Item 1.</li>\n",
    "    </ul>\n",
    "    \n",
    "</div>\n",
    "\n",
    "\n",
    "## Ingesting Training Data\n",
    "In this section, we will load our training data, and create train test splits. Note that because the initial exploration dataset is small, we can either query and load the entire dataset into memory, or we can load it directly from the exported AEP dataset. \n",
    "\n",
    "We will keep our implementation modular, so that either \"direct query service call\", or \"load from blob storage\" is an option. \n",
    "\n",
    "### Training Data from Query Service"
   ]
  },
  {
   "cell_type": "code",
   "execution_count": 1,
   "metadata": {
    "gather": {
     "logged": 1667867166923
    },
    "jupyter": {
     "outputs_hidden": false,
     "source_hidden": false
    },
    "nteract": {
     "transient": {
      "deleting": false
     }
    }
   },
   "outputs": [],
   "source": [
    "import psycopg2\n",
    "import pandas as pd\n",
    "import numpy as np\n",
    "import matplotlib.pyplot as plt\n",
    "%matplotlib inline\n",
    "\n",
    "def get_result_as_df(cur):\n",
    "    data = [r for r in cur]\n",
    "    colnames = [desc[0] for desc in cur.description]\n",
    "    return pd.DataFrame(data, columns=colnames)\n",
    "\n"
   ]
  },
  {
   "cell_type": "code",
   "execution_count": 7,
   "metadata": {
    "gather": {
     "logged": 1666898813795
    },
    "jupyter": {
     "outputs_hidden": false,
     "source_hidden": false
    },
    "nteract": {
     "transient": {
      "deleting": false
     }
    }
   },
   "outputs": [],
   "source": [
    "# IGNORE CODE BELOW - you can use it if you'd like, but instead we'll read from Blob storage\n",
    "\n",
    "# conn = psycopg2.connect(\"sslmode=require host=targetpremiumqa2.platform-query-stage.adobe.io port=80 dbname=prod:all user=039E5CD253BE29E30A4C86E6@AdobeOrg password=eNqrVkrMSVeyUgoKNjI1U9JRqjAtBfIyc4vj8xINdYtL0g11s1MrdRNLdA31klOLgCqyM1NwqQDKZpaUAGUTS5RqAcSwGzc=.eNqNU11vmzAU_S88AzEfsSHSpLGm0VKFdE0_UlAkZGxDnQSMsNMkrfrfZyftNrUv84vNuedcX99zebU4tUaWByGMYogQisGwKMsKBcBHTkARcsIoRE4JQemgkvrIQ1UUerTY7X3LttSxY1qPCWFSFkpsWKtRsuWsVcUpNTuQAnedRneS9WcsQAjCwJ-EQzQBURTGsQ8mSTL5nlBRsulYk6XCymR-XVlSp-aiXVmjlfWkVCdHgwFvpNNiz5Gq9lxsVFtR89YlojGxwbtm8OwNsvXD5nqceundVGXL9JBeAJA3qT-72z7lBmuuNvlywjN_us-XWTi7BS_zF-LP1-lxsb7x5iDbX49rcH23OaaX-Y-b-zy5WS6es-bhapGsrDddLZa61H9rMhj-78cS1VkjYFtVrfnL8D7NHqeXjwv4mMDxLLjI08SfJj-zb6dlmvPXtGA4RCBEYTEEcQiHXuwEPgROCGLolFUVOYgFCJc6Gmhnz6Y1gms5QYhV1As00JVYAymjt4zMxeWDPRN7fdQRduh4z2TBW02IYAjMMhUQcTa-dBvc4prZmFKudMvxVpMr8fnbXYuyqHYtMdiXYNeLNSOK0V-9oDuiLkSr2EF94fViy6T93jj75DsXrh6vntVcqv7o9gzTj4CeO27jHdXDSNi5zP6EEc1S_JkVZCt21G46aevntJzaRl6IvsYtf8HmZnmGOvKxu5h0f860wYXCvcKt_T5xxk2TndECq89_lvX2G4C2Gq4=.eNoBAAH__l-z335lSznVOdKxa16E5V1P-NP0xvbzttbB8rmRrAHlKQOpXyr9jaHirWWONkWiAutGtrQIp3hsBfMmBhvCjDAButRM6SrIAmlK9F9kdGeLtsRRoOQfEN1Cn9dx-ee76Dp8bo_MSs_gM8T3kDwFeNckSZ7O3OrsZCTyURBxIPKzAoPJTErdeEKZCiZ1P7qF9xzF6rR1nU34nhv7amzo_NImXqp8eER6KNaAK3uV5aeSs3hDirh413jmlSjK839_JbsFGsWZPaW7S_o__CCCOSjqhxoQQxBt1oS72enAfPnLRKrqGJ1As59cMSRBQ0FpyH7VTMUetMOU43gpJoJ0VMHPjYae\")\n",
    "\n",
    "# cur = conn.cursor()\n",
    "# cur.execute('''\n",
    "#     SELECT * FROM featurized_subscription_propensity_dataset LIMIT 10\n",
    "# ''')\n",
    "# df = get_result_as_df(cur)"
   ]
  },
  {
   "cell_type": "markdown",
   "metadata": {
    "nteract": {
     "transient": {
      "deleting": false
     }
    }
   },
   "source": [
    "## Read featurized data from blob storage \n",
    "\n",
    "We have been able to successfully configure exports to the \"data landing zone\" - A customer specific azure blob storage account. \n",
    "Connection to this can be done via a Secure Access Signature (SAS) token, that is available via API from Experience Platform."
   ]
  },
  {
   "cell_type": "code",
   "execution_count": 5,
   "metadata": {
    "gather": {
     "logged": 1667867735792
    },
    "jupyter": {
     "outputs_hidden": false,
     "source_hidden": false
    },
    "nteract": {
     "transient": {
      "deleting": false
     }
    }
   },
   "outputs": [],
   "source": [
    "# TODO: Code to retrieve the SAS token from AEP\n",
    "from azure.storage.blob import ContainerClient\n",
    "import pandas as pd\n",
    "\n",
    "\n",
    "#NOTE - data in the data landing zone is deleted after 7 days. \n",
    "# - therefore for repeatability, the following code points to our own azure blob. \n",
    "\n",
    "LOCALFILENAME = \"data/featurized_data_new.parquet\"\n",
    "\n",
    "BLOB_DOWNLOAD_SAS_URL = \"SECRETS\"\n",
    "BLOBNAME = \"featurized-10k-users/10kusers_featurized.parquet\"\n",
    "\n",
    "container_client = ContainerClient.from_container_url(BLOB_DOWNLOAD_SAS_URL)\n",
    "with open(LOCALFILENAME, \"wb\") as download_file:\n",
    "    download_file.write(container_client.download_blob(BLOBNAME).readall())\n",
    " \n",
    "#Read the data back into pandas\n",
    "df = pd.read_parquet(LOCALFILENAME)"
   ]
  },
  {
   "cell_type": "markdown",
   "metadata": {
    "nteract": {
     "transient": {
      "deleting": false
     }
    }
   },
   "source": [
    "### Describe the data"
   ]
  },
  {
   "cell_type": "code",
   "execution_count": 6,
   "metadata": {
    "gather": {
     "logged": 1667867737897
    },
    "jupyter": {
     "outputs_hidden": false,
     "source_hidden": false
    },
    "nteract": {
     "transient": {
      "deleting": false
     }
    }
   },
   "outputs": [
    {
     "name": "stdout",
     "output_type": "stream",
     "text": [
      "['userId', 'eventType', 'timestamp', 'subscriptionOccurred', 'emailsReceived', 'emailsOpened', 'emailsClicked', 'productsViewed', 'propositionInteracts', 'propositionDismissed', 'webLinkClicks', 'minutes_since_emailSent', 'minutes_since_emailOpened', 'minutes_since_emailClick', 'minutes_since_productView', 'minutes_since_propositionInteract', 'minutes_since_propositionDismiss', 'minutes_since_linkClick', 'random_row_number_for_user']\n"
     ]
    },
    {
     "data": {
      "text/html": [
       "<div>\n",
       "<style scoped>\n",
       "    .dataframe tbody tr th:only-of-type {\n",
       "        vertical-align: middle;\n",
       "    }\n",
       "\n",
       "    .dataframe tbody tr th {\n",
       "        vertical-align: top;\n",
       "    }\n",
       "\n",
       "    .dataframe thead th {\n",
       "        text-align: right;\n",
       "    }\n",
       "</style>\n",
       "<table border=\"1\" class=\"dataframe\">\n",
       "  <thead>\n",
       "    <tr style=\"text-align: right;\">\n",
       "      <th></th>\n",
       "      <th>subscriptionOccurred</th>\n",
       "      <th>emailsReceived</th>\n",
       "      <th>emailsOpened</th>\n",
       "      <th>emailsClicked</th>\n",
       "      <th>productsViewed</th>\n",
       "      <th>propositionInteracts</th>\n",
       "      <th>propositionDismissed</th>\n",
       "      <th>webLinkClicks</th>\n",
       "      <th>minutes_since_emailSent</th>\n",
       "      <th>minutes_since_emailOpened</th>\n",
       "      <th>minutes_since_emailClick</th>\n",
       "      <th>minutes_since_productView</th>\n",
       "      <th>minutes_since_propositionInteract</th>\n",
       "      <th>minutes_since_linkClick</th>\n",
       "      <th>random_row_number_for_user</th>\n",
       "    </tr>\n",
       "  </thead>\n",
       "  <tbody>\n",
       "    <tr>\n",
       "      <th>count</th>\n",
       "      <td>9991.000000</td>\n",
       "      <td>9991.000000</td>\n",
       "      <td>9991.000000</td>\n",
       "      <td>9991.000000</td>\n",
       "      <td>9991.000000</td>\n",
       "      <td>9991.000000</td>\n",
       "      <td>9991.000000</td>\n",
       "      <td>9991.000000</td>\n",
       "      <td>9470.000000</td>\n",
       "      <td>5520.000000</td>\n",
       "      <td>2172.000000</td>\n",
       "      <td>1223.000000</td>\n",
       "      <td>114.000000</td>\n",
       "      <td>1327.000000</td>\n",
       "      <td>9991.000000</td>\n",
       "    </tr>\n",
       "    <tr>\n",
       "      <th>mean</th>\n",
       "      <td>0.151036</td>\n",
       "      <td>2.963167</td>\n",
       "      <td>1.087779</td>\n",
       "      <td>0.262336</td>\n",
       "      <td>0.149434</td>\n",
       "      <td>0.012011</td>\n",
       "      <td>0.009609</td>\n",
       "      <td>0.162046</td>\n",
       "      <td>3817.878881</td>\n",
       "      <td>13527.705254</td>\n",
       "      <td>8227.166667</td>\n",
       "      <td>17385.743254</td>\n",
       "      <td>12169.359649</td>\n",
       "      <td>16471.543331</td>\n",
       "      <td>2.015214</td>\n",
       "    </tr>\n",
       "    <tr>\n",
       "      <th>std</th>\n",
       "      <td>0.358102</td>\n",
       "      <td>2.018841</td>\n",
       "      <td>1.289521</td>\n",
       "      <td>0.546297</td>\n",
       "      <td>0.433102</td>\n",
       "      <td>0.114319</td>\n",
       "      <td>0.102559</td>\n",
       "      <td>0.450186</td>\n",
       "      <td>9265.638447</td>\n",
       "      <td>21783.384867</td>\n",
       "      <td>18522.576785</td>\n",
       "      <td>24031.018401</td>\n",
       "      <td>22744.109005</td>\n",
       "      <td>24353.042024</td>\n",
       "      <td>2.964179</td>\n",
       "    </tr>\n",
       "    <tr>\n",
       "      <th>min</th>\n",
       "      <td>0.000000</td>\n",
       "      <td>0.000000</td>\n",
       "      <td>0.000000</td>\n",
       "      <td>0.000000</td>\n",
       "      <td>0.000000</td>\n",
       "      <td>0.000000</td>\n",
       "      <td>0.000000</td>\n",
       "      <td>0.000000</td>\n",
       "      <td>0.000000</td>\n",
       "      <td>0.000000</td>\n",
       "      <td>0.000000</td>\n",
       "      <td>0.000000</td>\n",
       "      <td>0.000000</td>\n",
       "      <td>0.000000</td>\n",
       "      <td>1.000000</td>\n",
       "    </tr>\n",
       "    <tr>\n",
       "      <th>25%</th>\n",
       "      <td>0.000000</td>\n",
       "      <td>1.000000</td>\n",
       "      <td>0.000000</td>\n",
       "      <td>0.000000</td>\n",
       "      <td>0.000000</td>\n",
       "      <td>0.000000</td>\n",
       "      <td>0.000000</td>\n",
       "      <td>0.000000</td>\n",
       "      <td>0.000000</td>\n",
       "      <td>0.000000</td>\n",
       "      <td>2.000000</td>\n",
       "      <td>1.000000</td>\n",
       "      <td>1.000000</td>\n",
       "      <td>1.000000</td>\n",
       "      <td>1.000000</td>\n",
       "    </tr>\n",
       "    <tr>\n",
       "      <th>50%</th>\n",
       "      <td>0.000000</td>\n",
       "      <td>3.000000</td>\n",
       "      <td>1.000000</td>\n",
       "      <td>0.000000</td>\n",
       "      <td>0.000000</td>\n",
       "      <td>0.000000</td>\n",
       "      <td>0.000000</td>\n",
       "      <td>0.000000</td>\n",
       "      <td>224.500000</td>\n",
       "      <td>50.000000</td>\n",
       "      <td>10.000000</td>\n",
       "      <td>1468.000000</td>\n",
       "      <td>1.000000</td>\n",
       "      <td>55.000000</td>\n",
       "      <td>1.000000</td>\n",
       "    </tr>\n",
       "    <tr>\n",
       "      <th>75%</th>\n",
       "      <td>0.000000</td>\n",
       "      <td>4.000000</td>\n",
       "      <td>2.000000</td>\n",
       "      <td>0.000000</td>\n",
       "      <td>0.000000</td>\n",
       "      <td>0.000000</td>\n",
       "      <td>0.000000</td>\n",
       "      <td>0.000000</td>\n",
       "      <td>2266.750000</td>\n",
       "      <td>22304.250000</td>\n",
       "      <td>1605.500000</td>\n",
       "      <td>30710.000000</td>\n",
       "      <td>11554.250000</td>\n",
       "      <td>28604.500000</td>\n",
       "      <td>1.000000</td>\n",
       "    </tr>\n",
       "    <tr>\n",
       "      <th>max</th>\n",
       "      <td>1.000000</td>\n",
       "      <td>12.000000</td>\n",
       "      <td>9.000000</td>\n",
       "      <td>5.000000</td>\n",
       "      <td>4.000000</td>\n",
       "      <td>2.000000</td>\n",
       "      <td>2.000000</td>\n",
       "      <td>4.000000</td>\n",
       "      <td>87148.000000</td>\n",
       "      <td>96578.000000</td>\n",
       "      <td>95901.000000</td>\n",
       "      <td>97309.000000</td>\n",
       "      <td>92184.000000</td>\n",
       "      <td>100060.000000</td>\n",
       "      <td>25.000000</td>\n",
       "    </tr>\n",
       "  </tbody>\n",
       "</table>\n",
       "</div>"
      ],
      "text/plain": [
       "       subscriptionOccurred  emailsReceived  emailsOpened  emailsClicked  \\\n",
       "count           9991.000000     9991.000000   9991.000000    9991.000000   \n",
       "mean               0.151036        2.963167      1.087779       0.262336   \n",
       "std                0.358102        2.018841      1.289521       0.546297   \n",
       "min                0.000000        0.000000      0.000000       0.000000   \n",
       "25%                0.000000        1.000000      0.000000       0.000000   \n",
       "50%                0.000000        3.000000      1.000000       0.000000   \n",
       "75%                0.000000        4.000000      2.000000       0.000000   \n",
       "max                1.000000       12.000000      9.000000       5.000000   \n",
       "\n",
       "       productsViewed  propositionInteracts  propositionDismissed  \\\n",
       "count     9991.000000           9991.000000           9991.000000   \n",
       "mean         0.149434              0.012011              0.009609   \n",
       "std          0.433102              0.114319              0.102559   \n",
       "min          0.000000              0.000000              0.000000   \n",
       "25%          0.000000              0.000000              0.000000   \n",
       "50%          0.000000              0.000000              0.000000   \n",
       "75%          0.000000              0.000000              0.000000   \n",
       "max          4.000000              2.000000              2.000000   \n",
       "\n",
       "       webLinkClicks  minutes_since_emailSent  minutes_since_emailOpened  \\\n",
       "count    9991.000000              9470.000000                5520.000000   \n",
       "mean        0.162046              3817.878881               13527.705254   \n",
       "std         0.450186              9265.638447               21783.384867   \n",
       "min         0.000000                 0.000000                   0.000000   \n",
       "25%         0.000000                 0.000000                   0.000000   \n",
       "50%         0.000000               224.500000                  50.000000   \n",
       "75%         0.000000              2266.750000               22304.250000   \n",
       "max         4.000000             87148.000000               96578.000000   \n",
       "\n",
       "       minutes_since_emailClick  minutes_since_productView  \\\n",
       "count               2172.000000                1223.000000   \n",
       "mean                8227.166667               17385.743254   \n",
       "std                18522.576785               24031.018401   \n",
       "min                    0.000000                   0.000000   \n",
       "25%                    2.000000                   1.000000   \n",
       "50%                   10.000000                1468.000000   \n",
       "75%                 1605.500000               30710.000000   \n",
       "max                95901.000000               97309.000000   \n",
       "\n",
       "       minutes_since_propositionInteract  minutes_since_linkClick  \\\n",
       "count                         114.000000              1327.000000   \n",
       "mean                        12169.359649             16471.543331   \n",
       "std                         22744.109005             24353.042024   \n",
       "min                             0.000000                 0.000000   \n",
       "25%                             1.000000                 1.000000   \n",
       "50%                             1.000000                55.000000   \n",
       "75%                         11554.250000             28604.500000   \n",
       "max                         92184.000000            100060.000000   \n",
       "\n",
       "       random_row_number_for_user  \n",
       "count                 9991.000000  \n",
       "mean                     2.015214  \n",
       "std                      2.964179  \n",
       "min                      1.000000  \n",
       "25%                      1.000000  \n",
       "50%                      1.000000  \n",
       "75%                      1.000000  \n",
       "max                     25.000000  "
      ]
     },
     "execution_count": 6,
     "metadata": {},
     "output_type": "execute_result"
    }
   ],
   "source": [
    "print(list(df.columns))\n",
    "df.describe()"
   ]
  },
  {
   "cell_type": "markdown",
   "metadata": {
    "nteract": {
     "transient": {
      "deleting": false
     }
    }
   },
   "source": [
    "### ML Model training\n",
    "\n",
    "In this section, we will do the actual ML model training.\n",
    "\n",
    "We do the following steps:\n",
    "\n",
    "1. Create a train-test split\n",
    "2. Instantiate a Gradient Boosted Tree classifier and a RandomForestClassifier\n",
    "3. Train the models and evaluate on a test set. \n",
    "\n",
    "### ML Model training"
   ]
  },
  {
   "cell_type": "code",
   "execution_count": 7,
   "metadata": {
    "gather": {
     "logged": 1667867742064
    },
    "jupyter": {
     "outputs_hidden": false,
     "source_hidden": false
    },
    "nteract": {
     "transient": {
      "deleting": false
     }
    }
   },
   "outputs": [
    {
     "name": "stdout",
     "output_type": "stream",
     "text": [
      "---Accuracies---\n",
      "Gradient Boosted Tree (GBT): 0.9281871637682972\n",
      "Random Forest (RF): 0.9189290629300638\n",
      "\n",
      "---AUC Scores---\n",
      "GBT:  0.9527478150894984\n",
      "RF:  0.9419291422528123\n"
     ]
    }
   ],
   "source": [
    "from sklearn.ensemble import GradientBoostingClassifier, RandomForestClassifier\n",
    "from sklearn.model_selection import train_test_split\n",
    "from sklearn.metrics import roc_auc_score\n",
    "    \n",
    "# Feature Selection\n",
    "features = ['emailsReceived', 'emailsOpened', 'emailsClicked', \n",
    "            'productsViewed', \n",
    "            'propositionInteracts', 'propositionDismissed', 'webLinkClicks', \n",
    "            'minutes_since_emailSent', 'minutes_since_emailOpened', 'minutes_since_emailClick', \n",
    "            'minutes_since_productView', 'minutes_since_propositionInteract', \n",
    "            'minutes_since_propositionDismiss', 'minutes_since_linkClick']\n",
    "X, y = df[features].fillna(0), df[\"subscriptionOccurred\"]\n",
    "\n",
    "# Train test split\n",
    "X_train, X_test, y_train, y_test = train_test_split(X, y, test_size=0.8, random_state=42)\n",
    "\n",
    "\n",
    "# Model training\n",
    "gb_clf = GradientBoostingClassifier(n_estimators=10, learning_rate=1.0, \n",
    "                                    max_depth=2, random_state=0).fit(X_train, y_train)\n",
    "rf_clf = RandomForestClassifier(n_estimators=10).fit(X_train, y_train)\n",
    "\n",
    "\n",
    "# Model evaluation\n",
    "print(\"---Accuracies---\")\n",
    "print(\"Gradient Boosted Tree (GBT):\", gb_clf.score(X_test, y_test))\n",
    "print(\"Random Forest (RF):\", rf_clf.score(X_test, y_test))\n",
    "\n",
    "print(\"\")\n",
    "\n",
    "print(\"---AUC Scores---\")\n",
    "print(\"GBT: \", roc_auc_score(y_test, gb_clf.predict_proba(X_test)[:, 1]))\n",
    "print(\"RF: \", roc_auc_score(y_test, rf_clf.predict_proba(X_test)[:, 1]))"
   ]
  },
  {
   "cell_type": "markdown",
   "metadata": {
    "nteract": {
     "transient": {
      "deleting": false
     }
    }
   },
   "source": [
    "# Hyperparmeter tuning\n",
    "Let's tune the number of estimators used in the random forest"
   ]
  },
  {
   "cell_type": "code",
   "execution_count": 8,
   "metadata": {
    "gather": {
     "logged": 1667867746803
    },
    "jupyter": {
     "outputs_hidden": false,
     "source_hidden": false
    },
    "nteract": {
     "transient": {
      "deleting": false
     }
    }
   },
   "outputs": [
    {
     "data": {
      "text/plain": [
       "GridSearchCV(cv=5, error_score=nan,\n",
       "             estimator=RandomForestClassifier(bootstrap=True, ccp_alpha=0.0,\n",
       "                                              class_weight=None,\n",
       "                                              criterion='gini', max_depth=None,\n",
       "                                              max_features='auto',\n",
       "                                              max_leaf_nodes=None,\n",
       "                                              max_samples=None,\n",
       "                                              min_impurity_decrease=0.0,\n",
       "                                              min_impurity_split=None,\n",
       "                                              min_samples_leaf=1,\n",
       "                                              min_samples_split=2,\n",
       "                                              min_weight_fraction_leaf=0.0,\n",
       "                                              n_estimators=100, n_jobs=None,\n",
       "                                              oob_score=False,\n",
       "                                              random_state=None, verbose=0,\n",
       "                                              warm_start=False),\n",
       "             iid='deprecated', n_jobs=None,\n",
       "             param_grid={'n_estimators': [2, 3, 4, 5, 10, 15, 20, 30, 40, 50]},\n",
       "             pre_dispatch='2*n_jobs', refit=False, return_train_score=False,\n",
       "             scoring=['accuracy', 'precision', 'recall', 'f1', 'roc_auc'],\n",
       "             verbose=0)"
      ]
     },
     "execution_count": 8,
     "metadata": {},
     "output_type": "execute_result"
    }
   ],
   "source": [
    "from sklearn.model_selection import GridSearchCV\n",
    "\n",
    "#The base estimator\n",
    "gb_clf = RandomForestClassifier()\n",
    "\n",
    "n_estimators = [2,3,4,5,10,15,20,30,40,50]\n",
    "parameters = {'n_estimators': n_estimators}\n",
    "clf = GridSearchCV(gb_clf, parameters, cv=5, scoring = [\"accuracy\", \"precision\", \"recall\", \"f1\", \"roc_auc\"], refit=False)\n",
    "clf.fit(X_train, y_train)"
   ]
  },
  {
   "cell_type": "markdown",
   "metadata": {
    "nteract": {
     "transient": {
      "deleting": false
     }
    }
   },
   "source": [
    "**Visualize the results**"
   ]
  },
  {
   "cell_type": "code",
   "execution_count": 9,
   "metadata": {
    "gather": {
     "logged": 1667867751201
    },
    "jupyter": {
     "outputs_hidden": false,
     "source_hidden": false
    },
    "nteract": {
     "transient": {
      "deleting": false
     }
    }
   },
   "outputs": [
    {
     "data": {
      "text/plain": [
       "<matplotlib.legend.Legend at 0x7fcdc050ab20>"
      ]
     },
     "execution_count": 9,
     "metadata": {},
     "output_type": "execute_result"
    },
    {
     "data": {
      "image/png": "[encoded data removed]",
      "text/plain": [
       "<Figure size 432x288 with 1 Axes>"
      ]
     },
     "metadata": {},
     "output_type": "display_data"
    }
   ],
   "source": [
    "import seaborn as sns\n",
    "\n",
    "results = clf.cv_results_\n",
    "params = clf\n",
    "\n",
    "sns.set()\n",
    "fig, ax = plt.subplots()\n",
    "ax.plot(n_estimators, results['mean_test_roc_auc'], \"o-\", label=\"AUC\")\n",
    "ax.plot(n_estimators, results['mean_test_precision'], \"o-\", label=\"Precision\")\n",
    "ax.plot(n_estimators, results['mean_test_recall'], \"o-\", label=\"Recall\")\n",
    "ax.plot(n_estimators, results['mean_test_f1'], \"o-\", label=\"F1\")\n",
    "ax.set_xlabel(\"n_estimators\")\n",
    "ax.set_ylabel(\"Metric\")\n",
    "plt.legend(bbox_to_anchor=(1,1))"
   ]
  },
  {
   "cell_type": "markdown",
   "metadata": {
    "nteract": {
     "transient": {
      "deleting": false
     }
    }
   },
   "source": [
    "## Make predictions for everyone in the training set\n",
    "\n",
    "This data setup is a bit unconventonal - we have done model tuning on an appropriate train/test split but now we must make predictions for everyone in the population. In a more regular setup, we would probably have training and testing data as a small fraction of the total amount of data"
   ]
  },
  {
   "cell_type": "code",
   "execution_count": 10,
   "metadata": {
    "gather": {
     "logged": 1667867753934
    },
    "jupyter": {
     "outputs_hidden": false,
     "source_hidden": false
    },
    "nteract": {
     "transient": {
      "deleting": false
     }
    }
   },
   "outputs": [],
   "source": [
    "final_classifier = RandomForestClassifier(n_estimators = 20).fit(X, y)\n",
    "final_predictions = final_classifier.predict_proba(X)"
   ]
  },
  {
   "cell_type": "code",
   "execution_count": 11,
   "metadata": {
    "gather": {
     "logged": 1667867756868
    },
    "jupyter": {
     "outputs_hidden": false,
     "source_hidden": false
    },
    "nteract": {
     "transient": {
      "deleting": false
     }
    }
   },
   "outputs": [
    {
     "data": {
      "text/plain": [
       "<sklearn.metrics._plot.confusion_matrix.ConfusionMatrixDisplay at 0x7fce069ff520>"
      ]
     },
     "execution_count": 11,
     "metadata": {},
     "output_type": "execute_result"
    },
    {
     "data": {
      "image/png": "[encoded data removed]",
      "text/plain": [
       "<Figure size 432x288 with 2 Axes>"
      ]
     },
     "metadata": {},
     "output_type": "display_data"
    }
   ],
   "source": [
    "from sklearn.metrics import ConfusionMatrixDisplay, confusion_matrix\n",
    "\n",
    "\n",
    "sns.set_style(\"white\")\n",
    "ConfusionMatrixDisplay(confusion_matrix(final_classifier.predict(X), y), display_labels=[\"notSubscribed\", \"subscribed\"]).plot()"
   ]
  },
  {
   "cell_type": "markdown",
   "metadata": {
    "nteract": {
     "transient": {
      "deleting": false
     }
    }
   },
   "source": [
    "## Compute a reach graph"
   ]
  },
  {
   "cell_type": "code",
   "execution_count": 12,
   "metadata": {
    "gather": {
     "logged": 1667867760926
    },
    "jupyter": {
     "outputs_hidden": false,
     "source_hidden": false
    },
    "nteract": {
     "transient": {
      "deleting": false
     }
    }
   },
   "outputs": [
    {
     "data": {
      "text/plain": [
       "Text(0, 0.5, 'Fraction of Population in Segment')"
      ]
     },
     "execution_count": 12,
     "metadata": {},
     "output_type": "execute_result"
    },
    {
     "data": {
      "image/png": "[encoded data removed]",
      "text/plain": [
       "<Figure size 432x288 with 1 Axes>"
      ]
     },
     "metadata": {},
     "output_type": "display_data"
    }
   ],
   "source": [
    "def reach(threshold, predictions):\n",
    "    return sum(predictions[:,1] > threshold)/len(predictions)\n",
    "\n",
    "thresholds = [x/100 for x in range(-1, 100)]\n",
    "reaches = [reach(threshold, final_predictions) for threshold in thresholds]\n",
    "sns.set()\n",
    "\n",
    "\n",
    "fig, ax = plt.subplots()\n",
    "ax.plot(thresholds, reaches, \".-\")\n",
    "ax.set_xlabel(\"Threshold\")\n",
    "ax.set_ylabel(\"Fraction of Population in Segment\")"
   ]
  },
  {
   "cell_type": "markdown",
   "metadata": {
    "nteract": {
     "transient": {
      "deleting": false
     }
    }
   },
   "source": [
    "# Create the dataset for export"
   ]
  },
  {
   "cell_type": "code",
   "execution_count": 13,
   "metadata": {
    "gather": {
     "logged": 1667867762877
    },
    "jupyter": {
     "outputs_hidden": false,
     "source_hidden": false
    },
    "nteract": {
     "transient": {
      "deleting": false
     }
    }
   },
   "outputs": [
    {
     "data": {
      "text/html": [
       "<div>\n",
       "<style scoped>\n",
       "    .dataframe tbody tr th:only-of-type {\n",
       "        vertical-align: middle;\n",
       "    }\n",
       "\n",
       "    .dataframe tbody tr th {\n",
       "        vertical-align: top;\n",
       "    }\n",
       "\n",
       "    .dataframe thead th {\n",
       "        text-align: right;\n",
       "    }\n",
       "</style>\n",
       "<table border=\"1\" class=\"dataframe\">\n",
       "  <thead>\n",
       "    <tr style=\"text-align: right;\">\n",
       "      <th></th>\n",
       "      <th>userId</th>\n",
       "      <th>subscriptionOccurred</th>\n",
       "      <th>propensityForSubscription</th>\n",
       "    </tr>\n",
       "  </thead>\n",
       "  <tbody>\n",
       "    <tr>\n",
       "      <th>0</th>\n",
       "      <td>39145476318678571307594208058693720076</td>\n",
       "      <td>0</td>\n",
       "      <td>0.000000</td>\n",
       "    </tr>\n",
       "    <tr>\n",
       "      <th>1</th>\n",
       "      <td>84486904098823785418719322404578241180</td>\n",
       "      <td>0</td>\n",
       "      <td>0.000000</td>\n",
       "    </tr>\n",
       "    <tr>\n",
       "      <th>2</th>\n",
       "      <td>36132345067467872908222618458457485058</td>\n",
       "      <td>0</td>\n",
       "      <td>0.036371</td>\n",
       "    </tr>\n",
       "    <tr>\n",
       "      <th>3</th>\n",
       "      <td>34533795589432174096553638143627506038</td>\n",
       "      <td>0</td>\n",
       "      <td>0.000000</td>\n",
       "    </tr>\n",
       "    <tr>\n",
       "      <th>4</th>\n",
       "      <td>10263326322014847784303593261657963576</td>\n",
       "      <td>0</td>\n",
       "      <td>0.036371</td>\n",
       "    </tr>\n",
       "    <tr>\n",
       "      <th>...</th>\n",
       "      <td>...</td>\n",
       "      <td>...</td>\n",
       "      <td>...</td>\n",
       "    </tr>\n",
       "    <tr>\n",
       "      <th>9986</th>\n",
       "      <td>09357483895364560233762927357279822076</td>\n",
       "      <td>0</td>\n",
       "      <td>0.050000</td>\n",
       "    </tr>\n",
       "    <tr>\n",
       "      <th>9987</th>\n",
       "      <td>35271372595072375170234978238335187588</td>\n",
       "      <td>0</td>\n",
       "      <td>0.050000</td>\n",
       "    </tr>\n",
       "    <tr>\n",
       "      <th>9988</th>\n",
       "      <td>68219486189160749412155414367324739091</td>\n",
       "      <td>1</td>\n",
       "      <td>0.800000</td>\n",
       "    </tr>\n",
       "    <tr>\n",
       "      <th>9989</th>\n",
       "      <td>44461508129005693500345915359390710528</td>\n",
       "      <td>0</td>\n",
       "      <td>0.000000</td>\n",
       "    </tr>\n",
       "    <tr>\n",
       "      <th>9990</th>\n",
       "      <td>88153937252366132330553855156403723682</td>\n",
       "      <td>0</td>\n",
       "      <td>0.000000</td>\n",
       "    </tr>\n",
       "  </tbody>\n",
       "</table>\n",
       "<p>9991 rows × 3 columns</p>\n",
       "</div>"
      ],
      "text/plain": [
       "                                      userId  subscriptionOccurred  \\\n",
       "0     39145476318678571307594208058693720076                     0   \n",
       "1     84486904098823785418719322404578241180                     0   \n",
       "2     36132345067467872908222618458457485058                     0   \n",
       "3     34533795589432174096553638143627506038                     0   \n",
       "4     10263326322014847784303593261657963576                     0   \n",
       "...                                      ...                   ...   \n",
       "9986  09357483895364560233762927357279822076                     0   \n",
       "9987  35271372595072375170234978238335187588                     0   \n",
       "9988  68219486189160749412155414367324739091                     1   \n",
       "9989  44461508129005693500345915359390710528                     0   \n",
       "9990  88153937252366132330553855156403723682                     0   \n",
       "\n",
       "      propensityForSubscription  \n",
       "0                      0.000000  \n",
       "1                      0.000000  \n",
       "2                      0.036371  \n",
       "3                      0.000000  \n",
       "4                      0.036371  \n",
       "...                         ...  \n",
       "9986                   0.050000  \n",
       "9987                   0.050000  \n",
       "9988                   0.800000  \n",
       "9989                   0.000000  \n",
       "9990                   0.000000  \n",
       "\n",
       "[9991 rows x 3 columns]"
      ]
     },
     "execution_count": 13,
     "metadata": {},
     "output_type": "execute_result"
    }
   ],
   "source": [
    "df[\"propensityForSubscription\"] = final_predictions[:,1]\n",
    "df[[\"userId\", \"subscriptionOccurred\", \"propensityForSubscription\"]]"
   ]
  },
  {
   "cell_type": "markdown",
   "metadata": {
    "nteract": {
     "transient": {
      "deleting": false
     }
    }
   },
   "source": [
    "## Write Data to a temporary \"local\" file\n",
    "This seems to be the only way I know to write data to blob storage. First write it to a local file. "
   ]
  },
  {
   "cell_type": "code",
   "execution_count": 16,
   "metadata": {
    "gather": {
     "logged": 1667867825951
    },
    "jupyter": {
     "outputs_hidden": false,
     "source_hidden": false
    },
    "nteract": {
     "transient": {
      "deleting": false
     }
    }
   },
   "outputs": [],
   "source": [
    "import json \n",
    "\n",
    "out_data = df[[\"userId\", \"propensityForSubscription\"]].to_dict(orient='records')\n",
    "\n",
    "dict_out_data = [{\"personID\": d[\"userId\"], \"_targetpremiumqa6\": {\"subscriptionPropensity\": d[\"propensityForSubscription\"]}} for d in out_data]\n",
    "\n",
    "json_data = [json.dumps(row) for row in dict_out_data]\n",
    "\n",
    "with open(\"data/output_test.json\", \"w\") as f:\n",
    "    f.write(\"\\n\".join(json_data))"
   ]
  },
  {
   "cell_type": "markdown",
   "metadata": {
    "nteract": {
     "transient": {
      "deleting": false
     }
    }
   },
   "source": [
    "#### And now write it to blob storage. \n",
    "This is the URL of the data landing zone, obtained by creating a \"Data Landing Zone\" source. "
   ]
  },
  {
   "cell_type": "code",
   "execution_count": 18,
   "metadata": {
    "gather": {
     "logged": 1667867888942
    },
    "jupyter": {
     "outputs_hidden": false,
     "source_hidden": false
    },
    "nteract": {
     "transient": {
      "deleting": false
     }
    }
   },
   "outputs": [],
   "source": [
    "from azure.storage.blob import ContainerClient\n",
    "from datetime import datetime\n",
    "\n",
    "sas_url = \"SECRETS\"\n",
    "dlz_sas_url = 'SECRETS'\n",
    "container = ContainerClient.from_container_url(dlz_sas_url)\n",
    "\n",
    "now_str = datetime.now().isoformat()\n",
    "with open(\"data/output_test.json\", \"rb\") as data:\n",
    "    container.upload_blob(name=f\"propensities/subscription-propensity-data-v1-{now_str}.json\", data=data)"
   ]
  },
  {
   "cell_type": "markdown",
   "metadata": {
    "nteract": {
     "transient": {
      "deleting": false
     }
    }
   },
   "source": [
    "### Importing the data to a dataset on AEP\n",
    "\n",
    "We now need to go the AEP UI, and configure the \"Source\" dataflow, to use this file in the data landing zone, and import data into our desired dataset. "
   ]
  },
  {
   "cell_type": "code",
   "execution_count": null,
   "metadata": {
    "jupyter": {
     "outputs_hidden": false,
     "source_hidden": false
    },
    "nteract": {
     "transient": {
      "deleting": false
     }
    }
   },
   "outputs": [],
   "source": []
  }
 ],
 "metadata": {
  "kernel_info": {
   "name": "python38-azureml"
  },
  "kernelspec": {
   "display_name": "Python 3 (ipykernel)",
   "language": "python",
   "name": "python3"
  },
  "language_info": {
   "codemirror_mode": {
    "name": "ipython",
    "version": 3
   },
   "file_extension": ".py",
   "mimetype": "text/x-python",
   "name": "python",
   "nbconvert_exporter": "python",
   "pygments_lexer": "ipython3",
   "version": "3.10.2"
  },
  "microsoft": {
   "host": {
    "AzureML": {
     "notebookHasBeenCompleted": true
    }
   }
  },
  "nteract": {
   "version": "nteract-front-end@1.0.0"
  }
 },
 "nbformat": 4,
 "nbformat_minor": 2
}
