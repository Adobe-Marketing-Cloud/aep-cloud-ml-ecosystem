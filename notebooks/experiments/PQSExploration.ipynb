{
 "cells": [
  {
   "cell_type": "markdown",
   "id": "a3a96542",
   "metadata": {},
   "source": [
    "# Data Exploration for Propensity Models\n",
    "\n",
    "In this notebook, we connect to the query service on AEP, and examine the data that we have uploaded. \n",
    "\n",
    "This notebook is step 2 in the diagram below. We do the following steps:\n",
    "\n",
    "- Connect to query service on AEP Staging (`targetpremiumqa6` tenant), using their PostgreSQL protocol\n",
    "- Discover the schema of data, and explore a few rows\n",
    "- Compute basic statistics\n",
    "- Examine correlations among features, to inform feature creation\n",
    "\n",
    "![exploration](../media/CME-PoC-Exploration.png)\n"
   ]
  },
  {
   "cell_type": "markdown",
   "id": "0349eb8a",
   "metadata": {},
   "source": [
    "## Start by running some test queries"
   ]
  },
  {
   "cell_type": "code",
   "execution_count": null,
   "id": "25303483",
   "metadata": {},
   "outputs": [],
   "source": [
    "!pip install aepp\n",
    "!pip install psycopg2"
   ]
  },
  {
   "cell_type": "code",
   "execution_count": null,
   "id": "55c02920",
   "metadata": {},
   "outputs": [],
   "source": [
    "%%time\n",
    "cur.execute('''SELECT * FROM analytics_experience_events_v2_synthetic LIMIT 5''')\n",
    "get_result_as_df(cur)"
   ]
  },
  {
   "cell_type": "markdown",
   "id": "f31d9db2",
   "metadata": {},
   "source": [
    "# Lets test some basic statistics"
   ]
  },
  {
   "cell_type": "code",
   "execution_count": null,
   "id": "70525698",
   "metadata": {},
   "outputs": [],
   "source": [
    "%%time\n",
    "cur.execute(\"\"\"\n",
    "SELECT COUNT(_id) as \"totalRows\",  \n",
    "       COUNT(DISTINCT identityMap['ECID'][0]['id']) as \"distinctUsers\" \n",
    "FROM analytics_experience_events_v2_synthetic\"\"\")"
   ]
  },
  {
   "cell_type": "markdown",
   "id": "02685068",
   "metadata": {},
   "source": [
    "# Lets create a class that abstracts away some of the common operations to be performed against the query service to featurize data"
   ]
  },
  {
   "cell_type": "code",
   "execution_count": 3,
   "id": "c63c4def",
   "metadata": {},
   "outputs": [
    {
     "ename": "ModuleNotFoundError",
     "evalue": "No module named 'psycopg2'",
     "output_type": "error",
     "traceback": [
      "\u001b[0;31m---------------------------------------------------------------------------\u001b[0m",
      "\u001b[0;31mModuleNotFoundError\u001b[0m                       Traceback (most recent call last)",
      "Cell \u001b[0;32mIn[3], line 2\u001b[0m\n\u001b[1;32m      1\u001b[0m \u001b[38;5;28;01mimport\u001b[39;00m \u001b[38;5;21;01mconfigparser\u001b[39;00m\n\u001b[0;32m----> 2\u001b[0m \u001b[38;5;28;01mimport\u001b[39;00m \u001b[38;5;21;01mpsycopg2\u001b[39;00m\n\u001b[1;32m      3\u001b[0m \u001b[38;5;28;01mimport\u001b[39;00m \u001b[38;5;21;01mpandas\u001b[39;00m \u001b[38;5;28;01mas\u001b[39;00m \u001b[38;5;21;01mpd\u001b[39;00m\n\u001b[1;32m      6\u001b[0m \u001b[38;5;28;01mclass\u001b[39;00m \u001b[38;5;21;01mCMEPQSExplorer\u001b[39;00m:\n",
      "\u001b[0;31mModuleNotFoundError\u001b[0m: No module named 'psycopg2'"
     ]
    }
   ],
   "source": [
    "import aepp\n",
    "from aepp import queryservice\n",
    "import pandas as pd\n",
    "import json\n",
    "from configparser import ConfigParser\n",
    "\n",
    "\n",
    "class CMEPQSExplorer:\n",
    "    \"\"\"A class to abstract away some of the data explorations done against the query service for the end goal of\n",
    "    feature generation\"\"\"\n",
    "\n",
    "    def __init__(self, env: str):\n",
    "        self.cme_config = ConfigParser()\n",
    "        self.cme_config.read('./cme/config/cme_config.ini')\n",
    "        self.source_table = self.cme_config.get(env,\"source_table\")\n",
    "        aepp.configure(\n",
    "            org_id=self.cme_config.get(env, 'ims_org_id'),\n",
    "            tech_id=self.cme_config.get(env, \"tech_acct_id\"),\n",
    "            secret=self.cme_config.get(env, \"client_secret\"),\n",
    "            private_key_path=\"add private key path here\",\n",
    "            client_id=self.cme_config.get(env, \"client_id\")\n",
    "        )\n",
    "        qs = queryservice.QueryService()\n",
    "        conn = qs.connection()\n",
    "        self.intQuery = queryservice.InteractiveQuery(conn)\n",
    "\n",
    "    def get_schema_hierarchy_details(self):\n",
    "        \"\"\"A function to parse the schema hierarchy information\"\"\"\n",
    "        schema_hierarchy_sql = f\"\"\"SELECT   to_json(_experience), \n",
    "                                           to_json(commerce), \n",
    "                                           to_json(application), \n",
    "                                           _id, \n",
    "                                           eventType, to_json(identityMap), timestamp \n",
    "                                  FROM {self.source_table} LIMIT 5\"\"\"\n",
    "        return self.intQuery.query(schema_hierarchy_sql, output=\"dataframe\")\n",
    "\n",
    "    def get_schema(self) -> pd.DataFrame:\n",
    "        \"\"\"Return the schema description as a dataframe.\"\"\"\n",
    "        schema_description_sql = f\"\"\" SELECT table_name, \n",
    "                                            column_name, \n",
    "                                            data_type \n",
    "                                     FROM information_schema.columns \n",
    "                                     WHERE table_name={self.source_table} \"\"\"\n",
    "        return self.intQuery.query(schema_description_sql, output=\"dataframe\")\n",
    "\n",
    "    def describe_statistics(self) -> pd.DataFrame:\n",
    "        \"\"\"Analyze schema statistics and return in a dataframe\"\"\"\n",
    "        analyze_table_sql = f\"ANALYZE TABLE {self.source_table}\"\n",
    "        return self.intQuery.query(analyze_table_sql, output=\"dataframe\")\n",
    "\n",
    "    def get_basic_statistics(self) -> pd.DataFrame:\n",
    "        \"\"\"Calculate some basic statistics and return these as part of a dataframe\"\"\"\n",
    "        basic_statistics_sql = f\"\"\"SELECT COUNT(_id) as 'totalRows', \n",
    "                                         COUNT(DISTINCT identityMap['ECID'][0]['id']) as distinctUsers \n",
    "                                  FROM {self.source_table}\"\"\"\n",
    "        return self.intQuery.query(basic_statistics_sql, output=\"dataframe\")\n",
    "\n",
    "    def get_distinct_users(self):\n",
    "        \"\"\"Retrieve the number of distinct users\"\"\"\n",
    "        distinct_users_sql = f\"\"\"SELECT COUNT(DISTINCT identityMap['ECID'][0].id) \n",
    "                                FROM {self.source_table} LIMIT 5\"\"\"\n",
    "        return self.intQuery.query(distinct_users_sql, output=\"dataframe\")\n",
    "\n",
    "    def get_sampled_metadata(self):\n",
    "        meta_sql = \"SELECT sample_meta('multichannel_experience_event_dataset_v2')\"\n",
    "        return self.intQuery.query(meta_sql, output=\"dataframe\")\n",
    "\n",
    "    def get_funnel_analysis_data(self) -> pd.DataFrame:\n",
    "        \"\"\"Return the funnel of how many users actually fill out the webForm\"\"\"\n",
    "        funnel_analysis_sql = f\"\"\"SELECT eventType, \n",
    "                                        COUNT(DISTINCT identityMap['ECID'][0]['id']) as \"distinctUsers\",\n",
    "                                        COUNT(_id) as \"distinctEvents\" \n",
    "                                 FROM {self.source_table} \n",
    "                                 GROUP BY eventType \n",
    "                                 ORDER BY distinctUsers DESC\"\"\"\n",
    "        return self.intQuery.query(funnel_analysis_sql, output=\"dataframe\")\n",
    "\n",
    "    def get_event_correlation(self, funnel_df: pd.DataFrame):\n",
    "        \"\"\"Return the correlation analysis associated with events predict the web.formFilledOut outcome.\"\"\"\n",
    "        basic_event_coorelation_sql = f\"\"\"SELECT  eventType_First, \n",
    "                                               eventType_Later,\n",
    "                                               COUNT(DISTINCT userId) as \"distinctUsers\" \n",
    "                                         FROM \n",
    "                                                    (SELECT a.eventType as eventType_First, \n",
    "                                                            b.eventType as eventType_Later, \n",
    "                                                            a.identityMap['ECID'][0]['id'] as userID \n",
    "                                                     FROM {self.source_table} a\n",
    "                                                     JOIN {self.source_table} b\n",
    "                                                     ON a.identityMap['ECID'][0]['id'] = b.identityMap['ECID'][0]['id']\n",
    "                                                     WHERE a.timestamp <= b.timestamp)\n",
    "                                         GROUP BY eventType_First, eventType_Later\n",
    "                                         ORDER BY distinctUsers DESC\"\"\"\n",
    "        coocc_matrix = self.get_result_as_df(basic_event_coorelation_sql)\n",
    "        individual_counts = funnel_df\n",
    "        cocc_with_individual = coocc_matrix.merge(individual_counts, left_on=\"eventType_First\", right_on=\"eventType\")\n",
    "        cocc_with_individual[\"probability\"] = cocc_with_individual[\"distinctUsers_x\"] / cocc_with_individual[\n",
    "            \"distinctUsers_y\"]\n",
    "        return cocc_with_individual\n",
    "\n",
    "    def get_full_correlation(self):\n",
    "        \"\"\"Return the full correlation from the webform events\"\"\"\n",
    "        full_correlation_sql = f\"\"\"SELECT SUM(webFormsFilled) as webFormsFilled_totalUsers,\n",
    "                                         SUM(advertisingClicks) as advertisingClicks_totalUsers, \n",
    "                                         SUM(productViews) as productViews_totalUsers, \n",
    "                                         SUM(productPurchases) as productPurchases_totalUsers, \n",
    "                                         SUM(propositionDismisses) as propositionDismisses_totaUsers, \n",
    "                                         SUM(propositionDisplays) as propositionDisplays_totaUsers, \n",
    "                                         SUM(propositionInteracts) as propositionInteracts_totalUsers, \n",
    "                                         SUM(emailClicks) as emailClicks_totalUsers, \n",
    "                                         SUM(emailOpens) as emailOpens_totalUsers, \n",
    "                                         SUM(webLinkClicks) as webLinksClicks_totalUsers, \n",
    "                                         SUM(webPageViews) as webPageViews_totalusers, \n",
    "                                         corr(webFormsFilled, emailOpens) as webForms_EmalOpens, \n",
    "                                         corr(webFormsFilled, advertisingClicks) as webForms_advertisingClicks, \n",
    "                                         corr(webFormsFilled, productViews) as webForms_productViews, \n",
    "                                         corr(webFormsFilled, productPurchases) as webForms_productPurchases, \n",
    "                                         corr(webFormsFilled, propositionDismisses) as webForms_propositionDismisses, \n",
    "                                         corr(webFormsFilled, propositionInteracts) as webForms_propositionInteracts, \n",
    "                                         corr(webFormsFilled, emailClicks) as webForms_emailClicks, corr(webFormsFilled, emailOpens) as webForms_emailOpens, \n",
    "                                         corr(webFormsFilled, emailSends) as webForms_emailSends, corr(webFormsFilled, webLinkClicks) as webForms_webLinkClicks, \n",
    "                                         corr(webFormsFilled, webPageViews) as webForms_webPageViews FROM( SELECT identityMap['ECID'][0]['id'] as userID, \n",
    "                                         SUM(CASE WHEN eventType='web.formFilledOut' THEN 1 ELSE 0 END) as webFormsFilled, \n",
    "                                         SUM(CASE WHEN eventType='advertising.clicks' THEN 1 ELSE 0 END) as advertisingClicks, \n",
    "                                         SUM(CASE WHEN eventType='commerce.productViews' THEN 1 ELSE 0 END) as productViews, \n",
    "                                         SUM(CASE WHEN eventType='commerce.productPurchases' THEN 1 ELSE 0 END) as productPurchases, \n",
    "                                         SUM(CASE WHEN eventType='decisioning.propositionDismiss' THEN 1 ELSE 0 END) as propositionDismisses, \n",
    "                                         SUM(CASE WHEN eventType='decisioning.propositionDisplay' THEN 1 ELSE 0 END) as propositionDisplays, \n",
    "                                         SUM(CASE WHEN eventType='decisioning.propositionInteract' THEN 1 ELSE 0 END) as propositionInteracts, \n",
    "                                         SUM(CASE WHEN eventType='directMarketing.emailClicked' THEN 1 ELSE 0 END) as emailClicks, \n",
    "                                         SUM(CASE WHEN eventType='directMarketing.emailOpened' THEN 1 ELSE 0 END) as emailOpens, \n",
    "                                         SUM(CASE WHEN eventType='directMarketing.emailSent' THEN 1 ELSE 0 END) as emailSends, \n",
    "                                         SUM(CASE WHEN eventType='web.webinteraction.linkClicks' THEN 1 ELSE 0 END) as webLinkClicks, \n",
    "                                         SUM(CASE WHEN eventType='web.webinteraction.pageViews' THEN 1 ELSE 0 END) as webPageViews \n",
    "                                  FROM {self.source_table} GROUP BY userId)\"\"\"\n",
    "        correlation_df = self.intQuery.query(full_correlation_sql, output=\"dataframe\")\n",
    "        cols = correlation_df.columns\n",
    "        corrdf = correlation_df[[col for col in cols if (\"webForms_\" in col)]].melt()\n",
    "        corrdf[\"feature\"] = corrdf[\"variable\"].apply(lambda x: x.replace(\"webForms_\", \"\"))\n",
    "        corrdf[\"pearsonCorrelation\"] = corrdf[\"value\"]\n",
    "        corrdf.fillna(0)\n",
    "        return corrdf\n"
   ]
  }
 ],
 "metadata": {
  "kernel_info": {
   "name": "python3"
  },
  "kernelspec": {
   "display_name": "Python 3 (ipykernel)",
   "language": "python",
   "name": "python3"
  },
  "language_info": {
   "codemirror_mode": {
    "name": "ipython",
    "version": 3
   },
   "file_extension": ".py",
   "mimetype": "text/x-python",
   "name": "python",
   "nbconvert_exporter": "python",
   "pygments_lexer": "ipython3",
   "version": "3.10.2"
  },
  "nteract": {
   "version": "nteract-front-end@1.0.0"
  }
 },
 "nbformat": 4,
 "nbformat_minor": 5
}
