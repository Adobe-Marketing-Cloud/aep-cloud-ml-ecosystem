{
 "cells": [
  {
   "cell_type": "markdown",
   "metadata": {},
   "source": [
    "# Train a propensity model\n",
    "\n",
    "In this notebook we demonstrate how you can use the prepared feature dataset from the previous notebook to train a machine learning model. We will use random forest to train our subscription propensity model. The trained model will be stored in mlflow, we will calculate performance characteristics around the model like AUC and accuracy.  The advanced section of this notebook outlines how to retrieve the best set of hyperparameters to certify a model for production use."
   ]
  },
  {
   "cell_type": "markdown",
   "metadata": {},
   "source": [
    "# Setup\n",
    "\n",
    "Before we run anything, make sure to install the following required libraries for this notebook. They are all publicly available libraries and the latest version should work fine."
   ]
  },
  {
   "cell_type": "code",
   "execution_count": null,
   "metadata": {},
   "outputs": [
    {
     "name": "stdout",
     "output_type": "stream",
     "text": [
      "\u001b[43mNote: you may need to restart the kernel using dbutils.library.restartPython() to use updated packages.\u001b[0m\n",
      "Collecting aepp\n",
      "  Downloading aepp-0.3.2.post1-py3-none-any.whl (157 kB)\n",
      "     ━━━━━━━━━━━━━━━━━━━━━━━━━━━━━━━━━━━━━━━ 157.4/157.4 kB 3.2 MB/s eta 0:00:00\n",
      "Collecting pathlib2\n",
      "  Downloading pathlib2-2.3.7.post1-py2.py3-none-any.whl (18 kB)\n",
      "Requirement already satisfied: PyJWT in /usr/lib/python3/dist-packages (from aepp) (2.3.0)\n",
      "Requirement already satisfied: tenacity in /databricks/python3/lib/python3.10/site-packages (from aepp) (8.1.0)\n",
      "Requirement already satisfied: requests in /databricks/python3/lib/python3.10/site-packages (from aepp) (2.28.1)\n",
      "Collecting pathlib\n",
      "  Downloading pathlib-1.0.1-py3-none-any.whl (14 kB)\n",
      "Requirement already satisfied: pandas in /databricks/python3/lib/python3.10/site-packages (from aepp) (1.5.3)\n",
      "Requirement already satisfied: numpy>=1.21.0 in /databricks/python3/lib/python3.10/site-packages (from pandas->aepp) (1.23.5)\n",
      "Requirement already satisfied: python-dateutil>=2.8.1 in /databricks/python3/lib/python3.10/site-packages (from pandas->aepp) (2.8.2)\n",
      "Requirement already satisfied: pytz>=2020.1 in /databricks/python3/lib/python3.10/site-packages (from pandas->aepp) (2022.7)\n",
      "Requirement already satisfied: six in /usr/lib/python3/dist-packages (from pathlib2->aepp) (1.16.0)\n",
      "Requirement already satisfied: cryptography>=3.3.1 in /databricks/python3/lib/python3.10/site-packages (from PyJWT->aepp) (39.0.1)\n",
      "Requirement already satisfied: urllib3<1.27,>=1.21.1 in /databricks/python3/lib/python3.10/site-packages (from requests->aepp) (1.26.14)\n",
      "Requirement already satisfied: idna<4,>=2.5 in /databricks/python3/lib/python3.10/site-packages (from requests->aepp) (3.4)\n",
      "Requirement already satisfied: charset-normalizer<3,>=2 in /databricks/python3/lib/python3.10/site-packages (from requests->aepp) (2.0.4)\n",
      "Requirement already satisfied: certifi>=2017.4.17 in /databricks/python3/lib/python3.10/site-packages (from requests->aepp) (2022.12.7)\n",
      "Requirement already satisfied: cffi>=1.12 in /databricks/python3/lib/python3.10/site-packages (from cryptography>=3.3.1->PyJWT->aepp) (1.15.1)\n",
      "Requirement already satisfied: pycparser in /databricks/python3/lib/python3.10/site-packages (from cffi>=1.12->cryptography>=3.3.1->PyJWT->aepp) (2.21)\n",
      "Installing collected packages: pathlib, pathlib2, aepp\n",
      "Successfully installed aepp-0.3.2.post1 pathlib-1.0.1 pathlib2-2.3.7.post1\n",
      "\u001b[43mNote: you may need to restart the kernel using dbutils.library.restartPython() to use updated packages.\u001b[0m\n",
      "\u001b[43mNote: you may need to restart the kernel using dbutils.library.restartPython() to use updated packages.\u001b[0m\n",
      "Collecting adlfs\n",
      "  Downloading adlfs-2023.10.0-py3-none-any.whl (25 kB)\n",
      "Requirement already satisfied: azure-storage-blob>=12.12.0 in /databricks/python3/lib/python3.10/site-packages (from adlfs) (12.18.2)\n",
      "Collecting azure-datalake-store<0.1,>=0.0.46\n",
      "  Downloading azure_datalake_store-0.0.53-py2.py3-none-any.whl (55 kB)\n",
      "     ━━━━━━━━━━━━━━━━━━━━━━━━━━━━━━━━━━━━━━━━ 55.3/55.3 kB 2.2 MB/s eta 0:00:00\n",
      "Requirement already satisfied: aiohttp>=3.7.0 in /databricks/python3/lib/python3.10/site-packages (from adlfs) (3.8.5)\n",
      "Collecting azure-identity\n",
      "  Downloading azure_identity-1.15.0-py3-none-any.whl (164 kB)\n",
      "     ━━━━━━━━━━━━━━━━━━━━━━━━━━━━━━━━━━━━━━━ 164.7/164.7 kB 6.2 MB/s eta 0:00:00\n",
      "Collecting fsspec>=2023.9.0\n",
      "  Downloading fsspec-2023.10.0-py3-none-any.whl (166 kB)\n",
      "     ━━━━━━━━━━━━━━━━━━━━━━━━━━━━━━━━━━━━━━━ 166.4/166.4 kB 7.3 MB/s eta 0:00:00\n",
      "Requirement already satisfied: azure-core<2.0.0,>=1.23.1 in /databricks/python3/lib/python3.10/site-packages (from adlfs) (1.29.1)\n",
      "Requirement already satisfied: attrs>=17.3.0 in /databricks/python3/lib/python3.10/site-packages (from aiohttp>=3.7.0->adlfs) (22.1.0)\n",
      "Requirement already satisfied: aiosignal>=1.1.2 in /databricks/python3/lib/python3.10/site-packages (from aiohttp>=3.7.0->adlfs) (1.3.1)\n",
      "Requirement already satisfied: async-timeout<5.0,>=4.0.0a3 in /databricks/python3/lib/python3.10/site-packages (from aiohttp>=3.7.0->adlfs) (4.0.3)\n",
      "Requirement already satisfied: yarl<2.0,>=1.0 in /databricks/python3/lib/python3.10/site-packages (from aiohttp>=3.7.0->adlfs) (1.9.2)\n",
      "Requirement already satisfied: charset-normalizer<4.0,>=2.0 in /databricks/python3/lib/python3.10/site-packages (from aiohttp>=3.7.0->adlfs) (2.0.4)\n",
      "Requirement already satisfied: frozenlist>=1.1.1 in /databricks/python3/lib/python3.10/site-packages (from aiohttp>=3.7.0->adlfs) (1.4.0)\n",
      "Requirement already satisfied: multidict<7.0,>=4.5 in /databricks/python3/lib/python3.10/site-packages (from aiohttp>=3.7.0->adlfs) (6.0.4)\n",
      "Requirement already satisfied: typing-extensions>=4.3.0 in /databricks/python3/lib/python3.10/site-packages (from azure-core<2.0.0,>=1.23.1->adlfs) (4.4.0)\n",
      "Requirement already satisfied: six>=1.11.0 in /usr/lib/python3/dist-packages (from azure-core<2.0.0,>=1.23.1->adlfs) (1.16.0)\n",
      "Requirement already satisfied: requests>=2.18.4 in /databricks/python3/lib/python3.10/site-packages (from azure-core<2.0.0,>=1.23.1->adlfs) (2.28.1)\n",
      "Requirement already satisfied: cffi in /databricks/python3/lib/python3.10/site-packages (from azure-datalake-store<0.1,>=0.0.46->adlfs) (1.15.1)\n",
      "Collecting msal<2,>=1.16.0\n",
      "  Downloading msal-1.25.0-py2.py3-none-any.whl (97 kB)\n",
      "     ━━━━━━━━━━━━━━━━━━━━━━━━━━━━━━━━━━━━━━━━ 97.7/97.7 kB 6.6 MB/s eta 0:00:00\n",
      "Requirement already satisfied: isodate>=0.6.1 in /databricks/python3/lib/python3.10/site-packages (from azure-storage-blob>=12.12.0->adlfs) (0.6.1)\n",
      "Requirement already satisfied: cryptography>=2.1.4 in /databricks/python3/lib/python3.10/site-packages (from azure-storage-blob>=12.12.0->adlfs) (39.0.1)\n",
      "Collecting msal-extensions<2.0.0,>=0.3.0\n",
      "  Downloading msal_extensions-1.0.0-py2.py3-none-any.whl (19 kB)\n",
      "Requirement already satisfied: pycparser in /databricks/python3/lib/python3.10/site-packages (from cffi->azure-datalake-store<0.1,>=0.0.46->adlfs) (2.21)\n",
      "Requirement already satisfied: PyJWT[crypto]<3,>=1.0.0 in /usr/lib/python3/dist-packages (from msal<2,>=1.16.0->azure-datalake-store<0.1,>=0.0.46->adlfs) (2.3.0)\n",
      "Collecting portalocker<3,>=1.0\n",
      "  Downloading portalocker-2.8.2-py3-none-any.whl (17 kB)\n",
      "Requirement already satisfied: urllib3<1.27,>=1.21.1 in /databricks/python3/lib/python3.10/site-packages (from requests>=2.18.4->azure-core<2.0.0,>=1.23.1->adlfs) (1.26.14)\n",
      "Requirement already satisfied: idna<4,>=2.5 in /databricks/python3/lib/python3.10/site-packages (from requests>=2.18.4->azure-core<2.0.0,>=1.23.1->adlfs) (3.4)\n",
      "Requirement already satisfied: certifi>=2017.4.17 in /databricks/python3/lib/python3.10/site-packages (from requests>=2.18.4->azure-core<2.0.0,>=1.23.1->adlfs) (2022.12.7)\n",
      "Installing collected packages: portalocker, fsspec, msal, msal-extensions, azure-datalake-store, azure-identity, adlfs\n",
      "  Attempting uninstall: fsspec\n",
      "    Found existing installation: fsspec 2022.11.0\n",
      "    Not uninstalling fsspec at /databricks/python3/lib/python3.10/site-packages, outside environment /local_disk0/.ephemeral_nfs/envs/pythonEnv-3dac61fc-8e93-4fad-83ec-aefc652e317f\n",
      "    Can't uninstall 'fsspec'. No files were found to uninstall.\n",
      "ERROR: pip's dependency resolver does not currently take into account all the packages that are installed. This behaviour is the source of the following dependency conflicts.\n",
      "petastorm 0.12.1 requires pyspark>=2.1.0, which is not installed.\n",
      "Successfully installed adlfs-2023.10.0 azure-datalake-store-0.0.53 azure-identity-1.15.0 fsspec-2023.10.0 msal-1.25.0 msal-extensions-1.0.0 portalocker-2.8.2\n",
      "\u001b[43mNote: you may need to restart the kernel using dbutils.library.restartPython() to use updated packages.\u001b[0m\n"
     ]
    }
   ],
   "source": [
    "!pip install aepp\n",
    "!pip install adlfs"
   ]
  },
  {
   "cell_type": "markdown",
   "metadata": {},
   "source": [
    "This notebook requires some configuration parameters to properly authenticate to your Adobe Experience Platform instance. Please follow the instructions in the [**README**](../README.md) to gather the necessary configuration parameters and prepare the [config.ini](../conf/config.ini) file with the specific values for your environment.\n",
    "\n",
    "The next cell will be looking for your configuration file under your **ADOBE_HOME** path to fetch the configuration values that will be used for this notebook. If necessary, modify the `config_path` and/or the `config_file` name to reflect the location of your config file. "
   ]
  },
  {
   "cell_type": "code",
   "execution_count": null,
   "metadata": {},
   "outputs": [],
   "source": [
    "import os\n",
    "from configparser import ConfigParser\n",
    "import aepp\n",
    "  \n",
    "config = ConfigParser()\n",
    "config_path = '/Workspace/Users/jpage@adobe.com/cmle/conf/config.ini'\n",
    "if not os.path.exists(config_path):\n",
    "  raise Exception(f\"Looking for configuration under {config_path} but config not found, please verify path\")\n",
    "config.read(config_path)\n",
    "  \n",
    "dataset_id = config.get(\"Data\", \"events_dataset\")\n",
    "featurized_dataset_id = config.get(\"Data\", \"featurized_dataset_id\")\n",
    "export_path = config.get(\"Cloud\", \"export_path\")\n",
    "import_path = config.get(\"Cloud\", \"import_path\")\n",
    "data_format = config.get(\"Cloud\", \"data_format\")\n",
    "compression_type = config.get(\"Cloud\", \"compression_type\")\n",
    "model_name = config.get(\"Cloud\", \"model_name\")\n",
    "\n",
    "aepp.configure(\n",
    "  org_id=config.get(\"Platform\", \"ims_org_id\"),\n",
    "  tech_id=config.get(\"Platform\", \"tech_acct_id\"), \n",
    "  secret=config.get(\"Platform\", \"client_secret\"),\n",
    "  scopes=config.get(\"Platform\", \"scopes\"),\n",
    "  client_id=config.get(\"Platform\", \"client_id\"),\n",
    "  environment=config.get(\"Platform\", \"environment\"),\n",
    "  sandbox=config.get(\"Platform\", \"sandbox_name\")\n",
    ")"
   ]
  },
  {
   "cell_type": "markdown",
   "metadata": {},
   "source": [
    "To ensure uniqueness of resources created as part of this notebook, we are using your local username to include in each of the resource titles to avoid conflicts."
   ]
  },
  {
   "cell_type": "code",
   "execution_count": null,
   "metadata": {},
   "outputs": [
    {
     "name": "stdout",
     "output_type": "stream",
     "text": [
      "Username: jpage@adobe.com\n",
      "Unique ID: jpage_adobe_com\n"
     ]
    }
   ],
   "source": [
    "import re\n",
    "\n",
    "username = dbutils.notebook.entry_point.getDbutils().notebook().getContext().userName().get()\n",
    "unique_id = s = re.sub(\"[^0-9a-zA-Z]+\", \"_\", username)\n",
    "\n",
    "print(f\"Username: {username}\")\n",
    "print(f\"Unique ID: {unique_id}\")"
   ]
  },
  {
   "cell_type": "markdown",
   "metadata": {},
   "source": [
    "# 1. Running a model on AEP data\n",
    "\n",
    "In the previous notebook we exported our featurized data to the Data Landing Zone under the `dlz-destination` container. We can now read it so we can use it to train our ML model. Because this data can be pretty big, we want to first read it via a Spark dataframe, so we can then use a sample of it for training.\n",
    "\n",
    "The featurized data exported into the Data Landing Zone is under the format **cmle/egress/$DATASETID/exportTime=$EXPORTTIME**. We know the dataset ID which is saved in your config.ini under `featurized_dataset_id` so we're just missing the export time so we know what to read. To get that we can simply list files in the DLZ and find what the value is. The first step is to retrieve the credentials for the DLZ related to the destination container:"
   ]
  },
  {
   "cell_type": "code",
   "execution_count": null,
   "metadata": {},
   "outputs": [],
   "source": [
    "from aepp import connector\n",
    "\n",
    "connector = connector.AdobeRequest(\n",
    "  config_object=aepp.config.config_object,\n",
    "  header=aepp.config.header,\n",
    "  loggingEnabled=False,\n",
    "  logger=None,\n",
    ")\n",
    "\n",
    "endpoint = aepp.config.endpoints[\"global\"] + \"/data/foundation/connectors/landingzone/credentials\"\n",
    "\n",
    "dlz_credentials = connector.getData(endpoint=endpoint, params={\n",
    "  \"type\": \"dlz_destination\"\n",
    "})\n",
    "dlz_container = dlz_credentials[\"containerName\"]\n",
    "dlz_sas_token = dlz_credentials[\"SASToken\"]\n",
    "dlz_storage_account = dlz_credentials[\"storageAccountName\"]\n",
    "dlz_sas_uri = dlz_credentials[\"SASUri\"]"
   ]
  },
  {
   "cell_type": "markdown",
   "metadata": {},
   "source": [
    "Now we use some Python libraries to authenticate and issue listing commands so we can get the paths and extract the time from it."
   ]
  },
  {
   "cell_type": "code",
   "execution_count": null,
   "metadata": {},
   "outputs": [
    {
     "name": "stdout",
     "output_type": "stream",
     "text": [
      "Using featurized data export time of 20231121023707\n"
     ]
    }
   ],
   "source": [
    "from adlfs import AzureBlobFileSystem\n",
    "from fsspec import AbstractFileSystem\n",
    "\n",
    "fs = AzureBlobFileSystem(\n",
    "  account_name=dlz_storage_account,\n",
    "  sas_token=dlz_sas_token\n",
    ")\n",
    "\n",
    "def get_export_time(fs: AbstractFileSystem, container_name: str, base_path: str, dataset_id: str):\n",
    "  featurized_data_base_path = f\"{container_name}/{base_path}/{dataset_id}\"\n",
    "  featurized_data_export_paths = fs.ls(featurized_data_base_path)\n",
    "  \n",
    "  if len(featurized_data_export_paths) == 0:\n",
    "    raise Exception(f\"Found no exports for featurized data from dataset ID {dataset_id} under path {featurized_data_base_path}\")\n",
    "  elif len(featurized_data_export_paths) > 1:\n",
    "    print(f\"Found {len(featurized_data_export_paths)} exports from dataset dataset ID {dataset_id} under path {featurized_data_base_path}, using most recent one\")\n",
    "  \n",
    "  featurized_data_export_path = featurized_data_export_paths[-1]\n",
    "  featurized_data_export_time = featurized_data_export_path.strip().split(\"/\")[-1].split(\"=\")[-1]\n",
    "  return featurized_data_export_time\n",
    "\n",
    "export_time = get_export_time(fs, dlz_container, export_path, featurized_dataset_id)\n",
    "print(f\"Using featurized data export time of {export_time}\")"
   ]
  },
  {
   "cell_type": "markdown",
   "metadata": {},
   "source": [
    "At that point we're ready to read this data. We're using Spark since it could be pretty large as we're not doing any sampling. Spark needs the following properties to be able to authenticate using SAS:\n",
    "- `fs.azure.account.auth.type.$ACCOUNT.dfs.core.windows.net` should be set to `SAS`.\n",
    "- `fs.azure.sas.token.provider.type.$ACCOUNT.dfs.core.windows.net` should be set to `org.apache.hadoop.fs.azurebfs.sas.FixedSASTokenProvider`.\n",
    "- `fs.azure.sas.fixed.token.$ACCOUNT.dfs.core.windows.net` should be set to the SAS token retrieved earlier.\n",
    "\n",
    "Let's put that in practice and create a Spark dataframe containing the entire featurized data:"
   ]
  },
  {
   "cell_type": "code",
   "execution_count": null,
   "metadata": {},
   "outputs": [
    {
     "name": "stdout",
     "output_type": "stream",
     "text": [
      "root\n",
      " |-- userId: string (nullable = true)\n",
      " |-- eventType: string (nullable = true)\n",
      " |-- timestamp: timestamp (nullable = true)\n",
      " |-- subscriptionOccurred: long (nullable = true)\n",
      " |-- emailsReceived: long (nullable = true)\n",
      " |-- emailsOpened: long (nullable = true)\n",
      " |-- emailsClicked: long (nullable = true)\n",
      " |-- productsViewed: long (nullable = true)\n",
      " |-- propositionInteracts: long (nullable = true)\n",
      " |-- propositionDismissed: long (nullable = true)\n",
      " |-- webLinkClicks: long (nullable = true)\n",
      " |-- minutes_since_emailSent: integer (nullable = true)\n",
      " |-- minutes_since_emailOpened: integer (nullable = true)\n",
      " |-- minutes_since_emailClick: integer (nullable = true)\n",
      " |-- minutes_since_productView: integer (nullable = true)\n",
      " |-- minutes_since_propositionInteract: integer (nullable = true)\n",
      " |-- minutes_since_propositionDismiss: integer (nullable = true)\n",
      " |-- minutes_since_linkClick: integer (nullable = true)\n",
      " |-- random_row_number_for_user: integer (nullable = true)\n",
      "\n"
     ]
    }
   ],
   "source": [
    "spark.conf.set(f\"fs.azure.account.auth.type.{dlz_storage_account}.dfs.core.windows.net\", \"SAS\")\n",
    "spark.conf.set(f\"fs.azure.sas.token.provider.type.{dlz_storage_account}.dfs.core.windows.net\", \"org.apache.hadoop.fs.azurebfs.sas.FixedSASTokenProvider\")\n",
    "spark.conf.set(f\"fs.azure.sas.fixed.token.{dlz_storage_account}.dfs.core.windows.net\", dlz_sas_token)\n",
    "\n",
    "protocol = \"abfss\"\n",
    "input_path = f\"{protocol}://{dlz_container}@{dlz_storage_account}.dfs.core.windows.net/{export_path}/{featurized_dataset_id}/exportTime={export_time}/\"\n",
    "\n",
    "df = spark.read.parquet(input_path)\n",
    "df.printSchema()"
   ]
  },
  {
   "cell_type": "markdown",
   "metadata": {},
   "source": [
    "We can then sample it to keep only a portion of the data for training before we bring the data in memory for use in the `scikit-learn` library. Here we're just going to use a sampling ratio of 50%, but you are welcome to use a bigger or smaller ratio. We use sampling **without** replacement to ensure the same profiles don't get picked up multiple times."
   ]
  },
  {
   "cell_type": "code",
   "execution_count": null,
   "metadata": {},
   "outputs": [],
   "source": [
    "sampling_ratio = 0.5\n",
    "df = df.sample(withReplacement=False, fraction=sampling_ratio)"
   ]
  },
  {
   "cell_type": "markdown",
   "metadata": {},
   "source": [
    "## 1.1 Creating baseline models as experiments in MLFlow\n",
    "\n",
    "Before doing any ML we can look at summary statistics to understand the structure of the data, and what kind of algorithm(s) might be suited to solve the problem."
   ]
  },
  {
   "cell_type": "code",
   "execution_count": null,
   "metadata": {},
   "outputs": [
    {
     "data": {
      "text/plain": [
       "DataFrame[summary: string, userId: string, eventType: string, subscriptionOccurred: string, emailsReceived: string, emailsOpened: string, emailsClicked: string, productsViewed: string, propositionInteracts: string, propositionDismissed: string, webLinkClicks: string, minutes_since_emailSent: string, minutes_since_emailOpened: string, minutes_since_emailClick: string, minutes_since_productView: string, minutes_since_propositionInteract: string, minutes_since_propositionDismiss: string, minutes_since_linkClick: string, random_row_number_for_user: string]"
      ]
     },
     "metadata": {},
     "output_type": "display_data"
    }
   ],
   "source": [
    "df.describe()"
   ]
  },
  {
   "cell_type": "markdown",
   "metadata": {},
   "source": [
    "To keep the model name unique we append the username to the model name:"
   ]
  },
  {
   "cell_type": "code",
   "execution_count": null,
   "metadata": {},
   "outputs": [],
   "source": [
    "model_name = f\"{model_name}_{unique_id}\""
   ]
  },
  {
   "cell_type": "markdown",
   "metadata": {},
   "source": [
    "In order to feed data to our model, we need to do a few preparation steps:\n",
    "- Separate the target variable (which in our case is whether a subscription occured or not) from the other variables.\n",
    "- Split the data into a training and test set so we can evaluate our model performance down the line."
   ]
  },
  {
   "cell_type": "code",
   "execution_count": null,
   "metadata": {},
   "outputs": [],
   "source": [
    "from sklearn.model_selection import train_test_split\n",
    "from sklearn.metrics import roc_auc_score\n",
    "\n",
    "df_train=df.toPandas()\n",
    "\n",
    "# Feature Selection\n",
    "features = ['emailsReceived', 'emailsOpened', 'emailsClicked', \n",
    "            'productsViewed', \n",
    "            'propositionInteracts', 'propositionDismissed', 'webLinkClicks', \n",
    "            'minutes_since_emailSent', 'minutes_since_emailOpened', 'minutes_since_emailClick', \n",
    "            'minutes_since_productView', 'minutes_since_propositionInteract', \n",
    "            'minutes_since_propositionDismiss', 'minutes_since_linkClick']\n",
    "X, y = df_train[features].fillna(0), df_train[\"subscriptionOccurred\"]\n",
    "\n",
    "# Train test split\n",
    "X_train, X_test, y_train, y_test = train_test_split(X, y, test_size=0.8, random_state=0)"
   ]
  },
  {
   "cell_type": "markdown",
   "metadata": {},
   "source": [
    "The predict method of sklearn's RandomForestClassifier returns a binary classification (0 or 1). The following code creates a wrapper function, `SklearnModelWrapper`, that uses the `predict_proba` method to return the probability that the observation belongs to each class."
   ]
  },
  {
   "cell_type": "code",
   "execution_count": null,
   "metadata": {},
   "outputs": [],
   "source": [
    "import mlflow\n",
    "import mlflow.pyfunc\n",
    "\n",
    "class SklearnModelWrapper(mlflow.pyfunc.PythonModel):\n",
    "  def __init__(self, model):\n",
    "    self.model = model\n",
    "    \n",
    "  def predict(self, context, model_input):\n",
    "    return self.model.predict_proba(model_input)[:,1]"
   ]
  },
  {
   "cell_type": "markdown",
   "metadata": {},
   "source": [
    "This task seems well suited to a random forest classifier, since the output is binary and there may be interactions between multiple variables.\n",
    "\n",
    "The following code builds a simple classifier using scikit-learn. It uses MLflow to keep track of the model accuracy, and to save the model for later use."
   ]
  },
  {
   "cell_type": "code",
   "execution_count": null,
   "metadata": {},
   "outputs": [
    {
     "name": "stdout",
     "output_type": "stream",
     "text": [
      "Random Forest (RF) Accuracy: 0.926982301769823\n",
      "Random Forest (RF) AUC score: 0.948104903138728\n"
     ]
    },
    {
     "name": "stderr",
     "output_type": "stream",
     "text": [
      "/databricks/python/lib/python3.10/site-packages/mlflow/models/signature.py:212: UserWarning: Hint: Inferred schema contains integer column(s). Integer columns in Python cannot represent missing values. If your input data contains missing values at inference time, it will be encoded as floats and will cause a schema enforcement error. The best way to avoid this problem is to infer the model schema based on a realistic data sample (training dataset) that includes missing values. Alternatively, you can declare integer columns as doubles (float64) whenever these columns may have missing values. See `Handling Integers With Missing Values <https://www.mlflow.org/docs/latest/models.html#handling-integers-with-missing-values>`_ for more details.\n",
      "  inputs = _infer_schema(model_input) if model_input is not None else None\n",
      "/databricks/python/lib/python3.10/site-packages/_distutils_hack/__init__.py:33: UserWarning: Setuptools is replacing distutils.\n",
      "  warnings.warn(\"Setuptools is replacing distutils.\")\n"
     ]
    },
    {
     "data": {
      "application/vnd.jupyter.widget-view+json": {
       "model_id": "5d14f5122a094eb585f7fcd9cdf327f0",
       "version_major": 2,
       "version_minor": 0
      },
      "text/plain": [
       "Uploading artifacts:   0%|          | 0/5 [00:00<?, ?it/s]"
      ]
     },
     "metadata": {},
     "output_type": "display_data"
    }
   ],
   "source": [
    "from sklearn.ensemble import RandomForestClassifier\n",
    "\n",
    "from mlflow.models.signature import infer_signature\n",
    "from mlflow.utils.environment import _mlflow_conda_env\n",
    "\n",
    "import cloudpickle\n",
    "import sklearn\n",
    "\n",
    "\n",
    "run_name_untuned = f\"{model_name}_untuned\"\n",
    "\n",
    "# mlflow.start_run creates a new MLflow run to track the performance of this model. \n",
    "# Within the context, you call mlflow.log_param to keep track of the parameters used, and\n",
    "# mlflow.log_metric to record metrics like accuracy.\n",
    "with mlflow.start_run(run_name=run_name_untuned):\n",
    "  n_estimators = 10\n",
    "  rf_clf = RandomForestClassifier(n_estimators=n_estimators)\n",
    "  rf_clf.fit(X_train, y_train)\n",
    "  \n",
    "  mlflow.log_param('n_estimators', n_estimators)\n",
    "  \n",
    "  accuracy = rf_clf.score(X_test, y_test)\n",
    "  # Use the accuracy as a metric in MLFlow\n",
    "  mlflow.log_metric('accuracy', accuracy)\n",
    "  print(\"Random Forest (RF) Accuracy:\", accuracy)\n",
    "  \n",
    "  # predict_proba returns [prob_negative, prob_positive], so slice the output with [:, 1]\n",
    "  predictions_test = rf_clf.predict_proba(X_test)[:,1]\n",
    "  auc_score = roc_auc_score(y_test, predictions_test)\n",
    "  # Use the area under the ROC curve as a metric in MLFlow\n",
    "  mlflow.log_metric('auc', auc_score)\n",
    "  print(\"Random Forest (RF) AUC score:\", auc_score)\n",
    "  \n",
    "  # Wrap the model so it can be registered in MLFlow\n",
    "  rf_wrapped = SklearnModelWrapper(rf_clf)\n",
    "  \n",
    "  # Log the model with a signature that defines the schema of the model's inputs and outputs. \n",
    "  # When the model is deployed, this signature will be used to validate inputs.\n",
    "  signature = infer_signature(X_train, rf_wrapped.predict(None, X_train))\n",
    "  \n",
    "  # MLflow contains utilities to create a conda environment used to serve models.\n",
    "  # The necessary dependencies are added to a conda.yaml file which is logged along with the model.\n",
    "  conda_env =  _mlflow_conda_env(\n",
    "    additional_conda_deps=None,\n",
    "    additional_pip_deps=[\"cloudpickle=={}\".format(cloudpickle.__version__), \"scikit-learn=={}\".format(sklearn.__version__)],\n",
    "    additional_conda_channels=None,\n",
    "  )\n",
    "  mlflow.pyfunc.log_model(\"random_forest_model\", python_model=rf_wrapped, conda_env=conda_env, signature=signature)"
   ]
  },
  {
   "cell_type": "markdown",
   "metadata": {},
   "source": [
    "## 1.2 Registering models in the Model Hub with MLFlow\n",
    "\n",
    "Now that we have a couple baseline models, we can already start registering them as full-fledged models in the Model Registry so we can easily fetch them again later to compare with future iterations of the models once we do more tuning. By registering this model in Model Registry, you can easily reference the model from anywhere within Databricks.\n",
    "\n",
    "Let's start with the Random Forest model. First we need to find out the run ID where the experiment using that algorithm was stored. We can use the `mlflow` library again to find out by looking up our experiment run ID created earlier:"
   ]
  },
  {
   "cell_type": "code",
   "execution_count": null,
   "metadata": {},
   "outputs": [
    {
     "data": {
      "text/plain": [
       "'7c0272a6f0d94ab1894b49b720b410f4'"
      ]
     },
     "metadata": {},
     "output_type": "display_data"
    }
   ],
   "source": [
    "rf_run_id = mlflow.search_runs(filter_string=f'tags.mlflow.runName = \"{run_name_untuned}\"').iloc[0].run_id\n",
    "rf_run_id"
   ]
  },
  {
   "cell_type": "markdown",
   "metadata": {},
   "source": [
    "Now we're ready to register it. To register we need 2 pieces of information:\n",
    "- The path under which the model artifacts were stored.\n",
    "- The name of the model we'd like to register it under."
   ]
  },
  {
   "cell_type": "code",
   "execution_count": null,
   "metadata": {},
   "outputs": [
    {
     "name": "stderr",
     "output_type": "stream",
     "text": [
      "Successfully registered model 'cmle_propensity_model_jpage_adobe_com'.\n",
      "2023/11/21 06:00:40 INFO mlflow.tracking._model_registry.client: Waiting up to 300 seconds for model version to finish creation. Model name: cmle_propensity_model_jpage_adobe_com, version 1\n",
      "Created version '1' of model 'cmle_propensity_model_jpage_adobe_com'.\n"
     ]
    }
   ],
   "source": [
    "import time\n",
    "\n",
    "rf_model_name = model_name\n",
    "rf_model_version = mlflow.register_model(f\"runs:/{rf_run_id}/random_forest_model\", rf_model_name)\n",
    " \n",
    "# Registering the model takes a few seconds, so add a small delay\n",
    "time.sleep(15)"
   ]
  },
  {
   "cell_type": "markdown",
   "metadata": {},
   "source": [
    "## 1.3 Tuning models at scale and selecting production model\n",
    "\n",
    "Now that we have our baseline models computed and saved, we need to tune them and find the best performing model out of all of them. Each of these 2 algorithms has a lot of hyper-parameters, and different combinations of those can yield vastly different models with dramatically different performance characteristics. Because it wouldn't be possible to try all these combinations manually, we are leveraging Databricks' large-scale computing capabilities to distribute the hyper-parameter tuning process.\n",
    "\n",
    "The library `hyperopt` provides a good way to create efficient and scalable hyper-parameter tuning process, and integrates with Apache Spark via the use of `SparkTrials` to distribute the workload.\n",
    "\n",
    "The first thing we need to figure out is the degree of parallelism to use. There is a trade-off here:\n",
    "- Greater parallelism will lead to speedups, but a less optimal hyper-parameter sweep.\n",
    "- Lower parallelism will be slower but will do a better job trying the various combinations of hyper-parameters.\n",
    "\n",
    "A rule of thumb is to determine the number of trials you want to run, and then set the degree of parallelism to be the square root of that."
   ]
  },
  {
   "cell_type": "code",
   "execution_count": null,
   "metadata": {},
   "outputs": [],
   "source": [
    "import math\n",
    "\n",
    "from hyperopt import SparkTrials\n",
    "\n",
    "# Feel free to change max_evals if you want fewer/more trial runs\n",
    "max_evals = 100\n",
    "parallelism = int(math.sqrt(max_evals))\n",
    "spark_trials = SparkTrials(parallelism=parallelism)"
   ]
  },
  {
   "cell_type": "markdown",
   "metadata": {},
   "source": [
    "Now we put everything together, and we'll be tracking each hyper-parameter tuning trial into a separate MLFlow experiment so we can easily refer to them later to find out the best-performing ones. Each parameter configuration will be saved in MLFlow, so we do not need to save anything manually.\n",
    "\n",
    "One thing we need to determine is the search space for the various hyper-parameters, which can greatly impact the quality of the distributed tuning. You can refer to the official API pages for [Random Forest Classifier](https://scikit-learn.org/stable/modules/generated/sklearn.ensemble.RandomForestClassifier.html) to find out the range of acceptable values. We implement distributions following these definitions to define the search space below, and create a single search space that includes the choice of algorithm so we can run trials for both Random Forest in a distributed tuning job."
   ]
  },
  {
   "cell_type": "code",
   "execution_count": null,
   "metadata": {},
   "outputs": [],
   "source": [
    "from hyperopt import fmin, tpe, hp, Trials, STATUS_OK\n",
    "from hyperopt.pyll import scope\n",
    "\n",
    "rf_space = {\n",
    "  \"model\": \"random_forest\",\n",
    "  \"kwargs\": {\n",
    "    \"n_estimators\": scope.int(hp.quniform(\"rf_n_estimators\", 10, 200, 10)),\n",
    "    \"max_depth\": scope.int(hp.quniform(\"rf_max_depth\", 2, 12, 1)),\n",
    "    \"criterion\": hp.choice(\"rf_criterion\", [\"gini\", \"entropy\"]),\n",
    "    \"min_samples_leaf\": scope.int(hp.uniform(\"rf_min_samples_leaf\", 1, 5)),\n",
    "    \"min_samples_split\": scope.float(hp.uniform(\"rf_min_samples_split\", 0.01, 0.05))\n",
    "  }\n",
    "}\n",
    "\n",
    "search_space = {\n",
    "  \"model_choice\": hp.choice(\"model_choice\", [rf_space])\n",
    "}\n",
    "\n",
    "models = {\n",
    "  \"random_forest\": RandomForestClassifier\n",
    "}"
   ]
  },
  {
   "cell_type": "markdown",
   "metadata": {},
   "source": [
    "All that's left is to define the objective function that will be distributed in the cluster. `hyperopt` will be passing a sample which contains all the hyper-parameters chosen for a given trial (including the choice of algorithm), and we translate from that sample to an initialized model. Because in the search space we used keys matching the parameters for these algorithms, we can directly unpack the dictionary to get a model initialized with the requested hyper-parameters.\n",
    "\n",
    "Depending on your `max_evals` value earlier and the size of your Databricks cluster this could take some time."
   ]
  },
  {
   "cell_type": "code",
   "execution_count": null,
   "metadata": {},
   "outputs": [
    {
     "name": "stderr",
     "output_type": "stream",
     "text": [
      "Hyperopt with SparkTrials will automatically track trials in MLflow. To view the MLflow experiment associated with the notebook, click the 'Runs' icon in the notebook context bar on the upper right. There, you can view all runs.\n",
      "To view logs from trials, please check the Spark executor logs. To view executor logs, expand 'Spark Jobs' above until you see the (i) icon next to the stage from the trial job. Click it and find the list of tasks. Click the 'stderr' link for a task to view trial logs.\n"
     ]
    },
    {
     "name": "stdout",
     "output_type": "stream",
     "text": [
      "\r  0%|          | 0/100 [00:00<?, ?trial/s, best loss=?]\r  4%|▍         | 4/100 [00:16<06:30,  4.07s/trial, best loss: -0.9626715108008848]\r  8%|▊         | 8/100 [00:17<02:48,  1.83s/trial, best loss: -0.9645523405537222]\r  9%|▉         | 9/100 [00:20<03:05,  2.04s/trial, best loss: -0.9645523405537222]\r 11%|█         | 11/100 [00:21<02:18,  1.55s/trial, best loss: -0.967396024594302]\r 13%|█▎        | 13/100 [00:23<01:59,  1.38s/trial, best loss: -0.967396024594302]\r 14%|█▍        | 14/100 [00:24<01:52,  1.31s/trial, best loss: -0.967396024594302]\r 16%|█▌        | 16/100 [00:26<01:41,  1.21s/trial, best loss: -0.967396024594302]\r 17%|█▋        | 17/100 [00:28<01:53,  1.37s/trial, best loss: -0.967396024594302]\r 18%|█▊        | 18/100 [00:29<01:45,  1.29s/trial, best loss: -0.967396024594302]\r 20%|██        | 20/100 [00:30<01:19,  1.01trial/s, best loss: -0.967396024594302]\r 21%|██        | 21/100 [00:31<01:20,  1.02s/trial, best loss: -0.968698795192962]\r 22%|██▏       | 22/100 [00:32<01:19,  1.02s/trial, best loss: -0.968698795192962]\r 23%|██▎       | 23/100 [00:33<01:18,  1.02s/trial, best loss: -0.968698795192962]\r 25%|██▌       | 25/100 [00:35<01:16,  1.02s/trial, best loss: -0.968698795192962]\r 27%|██▋       | 27/100 [00:36<01:01,  1.18trial/s, best loss: -0.9689485679380572]\r 28%|██▊       | 28/100 [00:38<01:18,  1.10s/trial, best loss: -0.9689485679380572]\r 30%|███       | 30/100 [00:39<01:01,  1.14trial/s, best loss: -0.9689485679380572]\r 31%|███       | 31/100 [00:41<01:02,  1.10trial/s, best loss: -0.9689485679380572]\r 32%|███▏      | 32/100 [00:42<01:03,  1.07trial/s, best loss: -0.9689485679380572]\r 33%|███▎      | 33/100 [00:43<01:04,  1.05trial/s, best loss: -0.9689485679380572]\r 34%|███▍      | 34/100 [00:44<01:04,  1.03trial/s, best loss: -0.9689485679380572]\r 35%|███▌      | 35/100 [00:45<01:04,  1.01trial/s, best loss: -0.9689485679380572]\r 36%|███▌      | 36/100 [00:46<01:03,  1.00trial/s, best loss: -0.9689485679380572]\r 37%|███▋      | 37/100 [00:48<01:21,  1.29s/trial, best loss: -0.9689485679380572]\r 38%|███▊      | 38/100 [00:49<01:15,  1.21s/trial, best loss: -0.9689485679380572]\r 39%|███▉      | 39/100 [00:50<01:10,  1.16s/trial, best loss: -0.9689485679380572]\r 40%|████      | 40/100 [00:51<01:06,  1.12s/trial, best loss: -0.9689485679380572]\r 41%|████      | 41/100 [00:52<01:04,  1.09s/trial, best loss: -0.9689485679380572]\r 42%|████▏     | 42/100 [00:53<01:01,  1.07s/trial, best loss: -0.9689485679380572]\r 44%|████▍     | 44/100 [00:55<00:58,  1.05s/trial, best loss: -0.9689485679380572]\r 45%|████▌     | 45/100 [00:56<00:57,  1.04s/trial, best loss: -0.9689485679380572]\r 46%|████▌     | 46/100 [00:57<00:56,  1.04s/trial, best loss: -0.9689485679380572]\r 47%|████▋     | 47/100 [00:58<00:54,  1.03s/trial, best loss: -0.9689485679380572]\r 48%|████▊     | 48/100 [00:59<00:53,  1.03s/trial, best loss: -0.9689485679380572]\r 50%|█████     | 50/100 [01:01<00:51,  1.02s/trial, best loss: -0.9689485679380572]\r 51%|█████     | 51/100 [01:02<00:50,  1.02s/trial, best loss: -0.9689485679380572]\r 53%|█████▎    | 53/100 [01:04<00:48,  1.02s/trial, best loss: -0.9689485679380572]\r 54%|█████▍    | 54/100 [01:05<00:47,  1.02s/trial, best loss: -0.9689485679380572]\r 55%|█████▌    | 55/100 [01:07<00:57,  1.27s/trial, best loss: -0.9689485679380572]\r 57%|█████▋    | 57/100 [01:08<00:41,  1.04trial/s, best loss: -0.9689485679380572]\r 59%|█████▉    | 59/100 [01:10<00:40,  1.02trial/s, best loss: -0.9689485679380572]\r 60%|██████    | 60/100 [01:11<00:39,  1.01trial/s, best loss: -0.9689485679380572]\r 61%|██████    | 61/100 [01:12<00:38,  1.00trial/s, best loss: -0.9689485679380572]\r 63%|██████▎   | 63/100 [01:13<00:29,  1.24trial/s, best loss: -0.9689485679380572]\r 65%|██████▌   | 65/100 [01:15<00:30,  1.13trial/s, best loss: -0.9689485679380572]\r 66%|██████▌   | 66/100 [01:18<00:45,  1.33s/trial, best loss: -0.9689485679380572]\r 68%|██████▊   | 68/100 [01:19<00:32,  1.03s/trial, best loss: -0.9689485679380572]\r 69%|██████▉   | 69/100 [01:20<00:32,  1.03s/trial, best loss: -0.9689485679380572]\r 71%|███████   | 71/100 [01:22<00:29,  1.03s/trial, best loss: -0.9689485679380572]\r 72%|███████▏  | 72/100 [01:23<00:28,  1.03s/trial, best loss: -0.9689485679380572]\r 73%|███████▎  | 73/100 [01:24<00:27,  1.03s/trial, best loss: -0.9689485679380572]\r 74%|███████▍  | 74/100 [01:26<00:26,  1.03s/trial, best loss: -0.9689485679380572]\r 76%|███████▌  | 76/100 [01:28<00:24,  1.02s/trial, best loss: -0.9689485679380572]\r 77%|███████▋  | 77/100 [01:29<00:23,  1.02s/trial, best loss: -0.9689485679380572]\r 79%|███████▉  | 79/100 [01:30<00:17,  1.22trial/s, best loss: -0.9689485679380572]\r 80%|████████  | 80/100 [01:32<00:21,  1.09s/trial, best loss: -0.9689485679380572]\r 81%|████████  | 81/100 [01:33<00:20,  1.08s/trial, best loss: -0.9689485679380572]\r 82%|████████▏ | 82/100 [01:34<00:19,  1.06s/trial, best loss: -0.9689485679380572]\r 84%|████████▍ | 84/100 [01:35<00:13,  1.20trial/s, best loss: -0.9689485679380572]\r 86%|████████▌ | 86/100 [01:37<00:12,  1.11trial/s, best loss: -0.9689485679380572]\r 87%|████████▋ | 87/100 [01:39<00:14,  1.14s/trial, best loss: -0.9689485679380572]\r 88%|████████▊ | 88/100 [01:40<00:13,  1.12s/trial, best loss: -0.9689485679380572]\r 89%|████████▉ | 89/100 [01:41<00:12,  1.09s/trial, best loss: -0.9689485679380572]\r 91%|█████████ | 91/100 [01:43<00:09,  1.07s/trial, best loss: -0.9689485679380572]\r 92%|█████████▏| 92/100 [01:44<00:08,  1.06s/trial, best loss: -0.9689485679380572]\r 93%|█████████▎| 93/100 [01:45<00:07,  1.05s/trial, best loss: -0.9689485679380572]\r 94%|█████████▍| 94/100 [01:46<00:06,  1.04s/trial, best loss: -0.9689485679380572]\r 95%|█████████▌| 95/100 [01:47<00:05,  1.04s/trial, best loss: -0.9689485679380572]\r 96%|█████████▌| 96/100 [01:48<00:04,  1.03s/trial, best loss: -0.9689485679380572]\r 97%|█████████▋| 97/100 [01:49<00:03,  1.02s/trial, best loss: -0.9689485679380572]\r 98%|█████████▊| 98/100 [01:51<00:02,  1.31s/trial, best loss: -0.9689485679380572]\r100%|██████████| 100/100 [01:52<00:00,  1.06trial/s, best loss: -0.9689485679380572]\r100%|██████████| 100/100 [01:52<00:00,  1.13s/trial, best loss: -0.9689485679380572]\n"
     ]
    },
    {
     "name": "stderr",
     "output_type": "stream",
     "text": [
      "Total Trials: 100: 100 succeeded, 0 failed, 0 cancelled.\n"
     ]
    },
    {
     "name": "stdout",
     "output_type": "stream",
     "text": [
      "{'model_choice': 0, 'rf_criterion': 0, 'rf_max_depth': 12.0, 'rf_min_samples_leaf': 1.0528733892511766, 'rf_min_samples_split': 0.010284864895674449, 'rf_n_estimators': 70.0}\n"
     ]
    }
   ],
   "source": [
    "def sample_to_model(sample):\n",
    "    kwargs = sample[\"model_choice\"][\"kwargs\"]\n",
    "    return models[sample[\"model_choice\"][\"model\"]](**kwargs)\n",
    "\n",
    "def objective_fn(sample):  \n",
    "  with mlflow.start_run(nested=True):\n",
    "    model_name = sample[\"model_choice\"][\"model\"]\n",
    "    mlflow.set_tag(\"model_choice\", model_name)\n",
    "    \n",
    "    model = sample_to_model(sample)\n",
    "    model.fit(X_train, y_train)\n",
    "        \n",
    "    predictions_test = model.predict_proba(X_test)[:,1]\n",
    "    auc_score = roc_auc_score(y_test, predictions_test)\n",
    "    mlflow.log_metric(\"auc\", auc_score)\n",
    "    \n",
    "    model_wrap = SklearnModelWrapper(model)\n",
    "    signature = infer_signature(X_train, model_wrap.predict(None, X_train))\n",
    "  \n",
    "    conda_env =  _mlflow_conda_env(\n",
    "      additional_conda_deps=None,\n",
    "      additional_pip_deps=[\"cloudpickle=={}\".format(cloudpickle.__version__), \"scikit-learn=={}\".format(sklearn.__version__)],\n",
    "      additional_conda_channels=None,\n",
    "    )\n",
    "    mlflow.pyfunc.log_model(\"hyperopt_model\", python_model=model_wrap, conda_env=conda_env, signature=signature)\n",
    "    \n",
    "    # Set the loss to -1*auc_score so fmin maximizes the auc_score\n",
    "    return {'status': STATUS_OK, 'loss': -1*auc_score}\n",
    "\n",
    "with mlflow.start_run(run_name=f'{model_name}_hyperopt_tuning'):\n",
    "  best_params = fmin(\n",
    "    fn=objective_fn, \n",
    "    space=search_space, \n",
    "    algo=tpe.suggest, \n",
    "    max_evals=max_evals,\n",
    "    trials=spark_trials,\n",
    "  )\n",
    "  print(best_params)"
   ]
  },
  {
   "cell_type": "markdown",
   "metadata": {},
   "source": [
    "After the computations have completed, you'll have access to a lot of information:\n",
    "- What is your best-performing model, what are its hyper-parameters, and what is its AUC.\n",
    "- How do the various hyper-parameters interact with each other.\n",
    "- Is there any of the models that performs better on aggregate.\n",
    "\n",
    "A lot of this information can be found in MLFlow by going into the Databricks **Experiments**, selecting the experiment group (typically the name of this notebook), and then expanding the experiment container that we started with `hyperopt` and selecting the individual trials here. After clicking on `Compare` you will see a few visualizations to understand the results of the tuning better.\n",
    "\n",
    "To complete our understanding of the tuning, we'll do a scatter plot to represent the AUC (or loss) for each of the trials. This can help identify whether there are some outliers, and if there is a general trend emerging that could be caught by visual inspection. We use `plotly` to draw the graph, and also add additional hover data to each scatter point representing the hyper-parameters used for that trial."
   ]
  },
  {
   "cell_type": "code",
   "execution_count": null,
   "metadata": {},
   "outputs": [
    {
     "data": {
      "text/html": [
       "<html>\n",
       "<head><meta charset=\"utf-8\" /></head>\n",
       "<body>\n",
       "    <div>            <script src=\"https://cdnjs.cloudflare.com/ajax/libs/mathjax/2.7.5/MathJax.js?config=TeX-AMS-MML_SVG\"></script><script type=\"text/javascript\">if (window.MathJax && window.MathJax.Hub && window.MathJax.Hub.Config) {window.MathJax.Hub.Config({SVG: {font: \"STIX-Web\"}});}</script>                <script type=\"text/javascript\">window.PlotlyConfig = {MathJaxConfig: 'local'};</script>\n",
       "        <script src=\"https://cdn.plot.ly/plotly-2.12.1.min.js\"></script>                <div id=\"6af3bf10-b7c0-439c-b0d7-b723599b3f37\" class=\"plotly-graph-div\" style=\"height:100%; width:100%;\"></div>            <script type=\"text/javascript\">                                    window.PLOTLYENV=window.PLOTLYENV || {};                                    if (document.getElementById(\"6af3bf10-b7c0-439c-b0d7-b723599b3f37\")) {                    Plotly.newPlot(                        \"6af3bf10-b7c0-439c-b0d7-b723599b3f37\",                        [{\"hovertemplate\":\"rf_criterion: %{customdata[1]}<br>rf_max_depth: %{customdata[2]}<br>rf_min_samples_leaf: %{customdata[3]}<br>rf_min_samples_split: %{customdata[4]}<br>rf_n_estimators: %{customdata[5]}\",\"legendgroup\":\"random_forest\",\"marker\":{\"color\":\"#636efa\",\"symbol\":\"circle\"},\"mode\":\"markers\",\"name\":\"random_forest\",\"orientation\":\"v\",\"showlegend\":true,\"x\":[0,1,2,3,4,5,6,7,8,9,10,11,12,13,14,15,16,17,18,19,20,21,22,23,24,25,26,27,28,29,30,31,32,33,34,35,36,37,38,39,40,41,42,43,44,45,46,47,48,49,50,51,52,53,54,55,56,57,58,59,60,61,62,63,64,65,66,67,68,69,70,71,72,73,74,75,76,77,78,79,80,81,82,83,84,85,86,87,88,89,90,91,92,93,94,95,96,97,98,99],\"xaxis\":\"x\",\"y\":[-0.9469390845311758,-0.9645523405537222,-0.9386144351566569,-0.9557364591641206,-0.9600456627143823,-0.9595232134633301,-0.9627188918824371,-0.9626715108008848,-0.967396024594302,-0.9590598897269189,-0.9534438795962213,-0.9596793867865233,-0.9551275139186846,-0.9585332725341684,-0.9603661908759542,-0.9628486159555342,-0.9612907319696385,-0.9665328025377418,-0.9632025175284109,-0.9648180455920835,-0.968698795192962,-0.9679508388836672,-0.9659430213587642,-0.9668018215130209,-0.9662254155925876,-0.9655690095916839,-0.9689485679380572,-0.9669725950812075,-0.9376443006648967,-0.9173329497432677,-0.9621028481891025,-0.9648931258082796,-0.9651947911703855,-0.9658896224067908,-0.9630999099744513,-0.9466801791635302,-0.9613055986242864,-0.9657624777767042,-0.9650165805401602,-0.9579927995495714,-0.963675549033449,-0.9231048568282646,-0.9552950706525376,-0.9674505937569072,-0.9334553798287597,-0.9597103326332187,-0.9594379026184373,-0.9591422177796046,-0.9593268819969757,-0.9644233534643424,-0.9474087523030991,-0.9647566419014244,-0.9657283574224429,-0.9618321535717906,-0.9606021675846396,-0.9660828117331074,-0.9675550711580684,-0.9662523926823732,-0.9557842236763906,-0.9600579598852593,-0.9625308788708102,-0.9619699321797708,-0.9656490320804432,-0.963736967662967,-0.9326090013358725,-0.9685262314514893,-0.9678710330083653,-0.9659274600471666,-0.9670961494054822,-0.9685138272187885,-0.9675096122097249,-0.9663753370032334,-0.9643642752560885,-0.9650795005250211,-0.9688982588401147,-0.9643560962307127,-0.9669314235854348,-0.9644244788583971,-0.96639229509816,-0.9667715006085992,-0.9648297551678344,-0.9551427366161416,-0.9657498121139687,-0.9679513866418356,-0.9653029534901327,-0.965146909637052,-0.962548384723905,-0.9649357438835778,-0.9651508783939621,-0.9651095948567461,-0.966066232089279,-0.9614301189947853,-0.9635254134991555,-0.962449643844651,-0.9453031997821237,-0.9624396472580811,-0.9168496079356175,-0.9667723346949008,-0.9627039953500709,-0.961227455941968],\"yaxis\":\"y\",\"type\":\"scatter\",\"customdata\":[[\"random_forest\",1.0,4.0,4.181211912670912,0.02156795679950957,190.0,-0.9469390845311758,0],[\"random_forest\",0.0,11.0,3.2554936315122167,0.021854304794462515,160.0,-0.9645523405537222,1],[\"random_forest\",1.0,3.0,3.0349901321248436,0.01116706987839104,100.0,-0.9386144351566569,2],[\"random_forest\",0.0,6.0,3.117303528755759,0.04500917200725045,30.0,-0.9557364591641206,3],[\"random_forest\",1.0,10.0,1.6237700954463823,0.0475786350506565,30.0,-0.9600456627143823,4],[\"random_forest\",0.0,11.0,2.7624993418239168,0.04703815722603385,150.0,-0.9595232134633301,5],[\"random_forest\",1.0,11.0,3.223320438420459,0.03303151092107309,90.0,-0.9627188918824371,6],[\"random_forest\",0.0,9.0,2.8937641037409283,0.026945855225250157,50.0,-0.9626715108008848,7],[\"random_forest\",1.0,10.0,1.1542575952278287,0.010601489062989154,80.0,-0.967396024594302,8],[\"random_forest\",0.0,6.0,4.693342346627832,0.025401145448989255,10.0,-0.9590598897269189,9],[\"random_forest\",0.0,5.0,3.4136607419541223,0.04398755918904535,150.0,-0.9534438795962213,10],[\"random_forest\",0.0,8.0,1.677547174756104,0.038364921528610575,120.0,-0.9596793867865233,11],[\"random_forest\",0.0,5.0,2.0600091740462187,0.024017943139336313,100.0,-0.9551275139186846,12],[\"random_forest\",0.0,7.0,1.583846720804845,0.020199529309104375,10.0,-0.9585332725341684,13],[\"random_forest\",0.0,7.0,3.347933428062163,0.029586864090032937,190.0,-0.9603661908759542,14],[\"random_forest\",1.0,9.0,2.9335945678519546,0.031227564867451464,120.0,-0.9628486159555342,15],[\"random_forest\",1.0,8.0,4.568347238052393,0.03403592835999343,120.0,-0.9612907319696385,16],[\"random_forest\",1.0,10.0,3.410606517448515,0.015580059540761334,170.0,-0.9665328025377418,17],[\"random_forest\",1.0,11.0,4.858982856829538,0.029784610561853817,200.0,-0.9632025175284109,18],[\"random_forest\",1.0,9.0,3.541222630350131,0.017571125481323516,80.0,-0.9648180455920835,19],[\"random_forest\",0.0,12.0,1.0305180346082417,0.010501691863703913,70.0,-0.968698795192962,20],[\"random_forest\",1.0,12.0,2.369505107105466,0.013286880004644291,150.0,-0.9679508388836672,21],[\"random_forest\",1.0,10.0,3.983205499390224,0.017688028694230834,60.0,-0.9659430213587642,22],[\"random_forest\",0.0,12.0,1.2020199740930941,0.013790832304992796,170.0,-0.9668018215130209,23],[\"random_forest\",1.0,10.0,3.814364116515624,0.016026455606961816,130.0,-0.9662254155925876,24],[\"random_forest\",1.0,8.0,2.366826538583964,0.010223864703548238,50.0,-0.9655690095916839,25],[\"random_forest\",0.0,12.0,1.0528733892511766,0.010284864895674449,70.0,-0.9689485679380572,26],[\"random_forest\",0.0,12.0,2.4004199674893387,0.013230301427212576,130.0,-0.9669725950812075,27],[\"random_forest\",1.0,3.0,1.993201938787176,0.020885893157038593,190.0,-0.9376443006648967,28],[\"random_forest\",0.0,2.0,1.3644914703969275,0.013491906802872228,140.0,-0.9173329497432677,29],[\"random_forest\",1.0,12.0,2.597909944839519,0.0374327516314686,30.0,-0.9621028481891025,30],[\"random_forest\",0.0,11.0,1.0946395826419921,0.018859381041910327,70.0,-0.9648931258082796,31],[\"random_forest\",0.0,12.0,1.8786498545053505,0.022745555988728273,50.0,-0.9651947911703855,32],[\"random_forest\",0.0,9.0,1.3970192967251505,0.010192365448210939,40.0,-0.9658896224067908,33],[\"random_forest\",0.0,11.0,1.0135008582690457,0.027412472166328774,90.0,-0.9630999099744513,34],[\"random_forest\",0.0,4.0,1.3808003801405513,0.04054216801094628,70.0,-0.9466801791635302,35],[\"random_forest\",0.0,6.0,1.744750419850684,0.015574666623035523,110.0,-0.9613055986242864,36],[\"random_forest\",0.0,11.0,2.145977501969909,0.01181240069681673,20.0,-0.9657624777767042,37],[\"random_forest\",0.0,11.0,1.493533358952662,0.023111777454910512,90.0,-0.9650165805401602,38],[\"random_forest\",0.0,8.0,4.278969024583751,0.048941689131928784,70.0,-0.9579927995495714,39],[\"random_forest\",0.0,10.0,1.0332609468665601,0.025615306318712294,40.0,-0.963675549033449,40],[\"random_forest\",0.0,2.0,2.6127520148301135,0.01920051973541268,60.0,-0.9231048568282646,41],[\"random_forest\",0.0,5.0,1.2232266429623233,0.021229175779839383,110.0,-0.9552950706525376,42],[\"random_forest\",0.0,12.0,1.7696456992273384,0.011854567133899083,20.0,-0.9674505937569072,43],[\"random_forest\",0.0,3.0,2.142861694056416,0.03415208555718891,80.0,-0.9334553798287597,44],[\"random_forest\",0.0,9.0,3.1285361495470125,0.04250333837216068,60.0,-0.9597103326332187,45],[\"random_forest\",0.0,7.0,1.8975614732988153,0.02828065082237498,100.0,-0.9594379026184373,46],[\"random_forest\",0.0,10.0,1.6264412979961425,0.03687005175117251,40.0,-0.9591422177796046,47],[\"random_forest\",0.0,6.0,1.2466050254428647,0.02490611611868497,90.0,-0.9593268819969757,48],[\"random_forest\",0.0,11.0,2.7318484147341975,0.016338805441742432,10.0,-0.9644233534643424,49],[\"random_forest\",0.0,4.0,4.373737229814177,0.04566800621302317,20.0,-0.9474087523030991,50],[\"random_forest\",0.0,8.0,3.6784614388539847,0.011695117524836224,100.0,-0.9647566419014244,51],[\"random_forest\",0.0,10.0,1.5236699471092905,0.014877480442563623,80.0,-0.9657283574224429,52],[\"random_forest\",0.0,9.0,2.1866262774420866,0.03132360908209777,50.0,-0.9618321535717906,53],[\"random_forest\",0.0,7.0,2.2959265233342427,0.019957938978681276,110.0,-0.9606021675846396,54],[\"random_forest\",1.0,12.0,3.048864405909768,0.017955108984606498,130.0,-0.9660828117331074,55],[\"random_forest\",0.0,12.0,4.0144076547204985,0.010003938492369035,30.0,-0.9675550711580684,56],[\"random_forest\",0.0,11.0,2.815531927583126,0.01453963090521378,160.0,-0.9662523926823732,57],[\"random_forest\",1.0,5.0,3.228288953188237,0.017032952650292994,70.0,-0.9557842236763906,58],[\"random_forest\",0.0,9.0,1.0015115336816378,0.03511694923570935,60.0,-0.9600579598852593,59],[\"random_forest\",1.0,11.0,1.913714552405433,0.03209770999639122,120.0,-0.9625308788708102,60],[\"random_forest\",0.0,8.0,4.901711053275483,0.022206340027541807,140.0,-0.9619699321797708,61],[\"random_forest\",0.0,10.0,1.3028062908107771,0.012575742110197753,30.0,-0.9656490320804432,62],[\"random_forest\",1.0,12.0,2.51512209948688,0.028970207967698725,80.0,-0.963736967662967,63],[\"random_forest\",0.0,3.0,4.68776405133887,0.041119007144850804,90.0,-0.9326090013358725,64],[\"random_forest\",1.0,12.0,1.1190864904324291,0.011044434659418342,180.0,-0.9685262314514893,65],[\"random_forest\",1.0,12.0,1.7546456766348633,0.013705398150346403,200.0,-0.9678710330083653,66],[\"random_forest\",1.0,11.0,1.4529648572425518,0.01833147620980166,150.0,-0.9659274600471666,67],[\"random_forest\",1.0,10.0,2.4625236377123527,0.012715620047891438,160.0,-0.9670961494054822,68],[\"random_forest\",1.0,11.0,3.5530646851959418,0.010139790934182796,180.0,-0.9685138272187885,69],[\"random_forest\",1.0,12.0,2.0545412725811314,0.01498570387204435,140.0,-0.9675096122097249,70],[\"random_forest\",1.0,11.0,2.867353672739191,0.01695307031355767,120.0,-0.9663753370032334,71],[\"random_forest\",1.0,12.0,1.1336425087518704,0.026515053537910713,40.0,-0.9643642752560885,72],[\"random_forest\",1.0,10.0,1.1062574840312045,0.019957009981965007,70.0,-0.9650795005250211,73],[\"random_forest\",1.0,12.0,1.5724970564230587,0.010507469803702702,180.0,-0.9688982588401147,74],[\"random_forest\",1.0,11.0,1.357191004353921,0.02381659339894379,100.0,-0.9643560962307127,75],[\"random_forest\",1.0,10.0,1.662773707533089,0.01123753431460963,60.0,-0.9669314235854348,76],[\"random_forest\",0.0,9.0,1.222541272846348,0.014539848425757762,80.0,-0.9644244788583971,77],[\"random_forest\",0.0,12.0,1.0239436243863382,0.016283202361416158,50.0,-0.96639229509816,78],[\"random_forest\",1.0,10.0,2.2653083410983634,0.012431624485812134,90.0,-0.9667715006085992,79],[\"random_forest\",0.0,12.0,1.8313705642247868,0.02142661966224075,110.0,-0.9648297551678344,80],[\"random_forest\",0.0,6.0,1.556795908156495,0.04915504333099407,200.0,-0.9551427366161416,81],[\"random_forest\",0.0,9.0,2.6752011955850605,0.010139484562735664,100.0,-0.9657498121139687,82],[\"random_forest\",1.0,11.0,1.4320583788377081,0.014015823144704669,70.0,-0.9679513866418356,83],[\"random_forest\",0.0,11.0,1.9852838532070884,0.01928727918420913,130.0,-0.9653029534901327,84],[\"random_forest\",0.0,12.0,1.2854948190678062,0.015507953178527302,20.0,-0.965146909637052,85],[\"random_forest\",1.0,8.0,1.6549035434527362,0.02390582273518859,50.0,-0.962548384723905,86],[\"random_forest\",0.0,11.0,1.5757675180894473,0.020516291201333147,80.0,-0.9649357438835778,87],[\"random_forest\",0.0,10.0,1.8185804643910655,0.017211926836976088,40.0,-0.9651508783939621,88],[\"random_forest\",1.0,12.0,3.321086945364544,0.022489459736247983,170.0,-0.9651095948567461,89],[\"random_forest\",0.0,9.0,2.0429639655311225,0.01095745725471933,60.0,-0.966066232089279,90],[\"random_forest\",0.0,7.0,2.2203943984593817,0.018326608423067076,50.0,-0.9614301189947853,91],[\"random_forest\",1.0,11.0,1.9479606013956474,0.025326508743918886,10.0,-0.9635254134991555,92],[\"random_forest\",0.0,12.0,1.4840707890448273,0.030604954971337892,90.0,-0.962449643844651,93],[\"random_forest\",0.0,4.0,2.9908233158887865,0.03890137930373948,110.0,-0.9453031997821237,94],[\"random_forest\",1.0,8.0,1.1968917145812328,0.02772160850854003,70.0,-0.9624396472580811,95],[\"random_forest\",0.0,2.0,4.98420819864689,0.011934233578332256,160.0,-0.9168496079356175,96],[\"random_forest\",0.0,10.0,1.35533636194338,0.012834542839937391,180.0,-0.9667723346949008,97],[\"random_forest\",1.0,11.0,1.0610463458309245,0.0264566676061121,30.0,-0.9627039953500709,98],[\"random_forest\",0.0,7.0,1.7370077308178142,0.015982306066858833,150.0,-0.961227455941968,99]]}],                        {\"template\":{\"data\":{\"histogram2dcontour\":[{\"type\":\"histogram2dcontour\",\"colorbar\":{\"outlinewidth\":0,\"ticks\":\"\"},\"colorscale\":[[0.0,\"#0d0887\"],[0.1111111111111111,\"#46039f\"],[0.2222222222222222,\"#7201a8\"],[0.3333333333333333,\"#9c179e\"],[0.4444444444444444,\"#bd3786\"],[0.5555555555555556,\"#d8576b\"],[0.6666666666666666,\"#ed7953\"],[0.7777777777777778,\"#fb9f3a\"],[0.8888888888888888,\"#fdca26\"],[1.0,\"#f0f921\"]]}],\"choropleth\":[{\"type\":\"choropleth\",\"colorbar\":{\"outlinewidth\":0,\"ticks\":\"\"}}],\"histogram2d\":[{\"type\":\"histogram2d\",\"colorbar\":{\"outlinewidth\":0,\"ticks\":\"\"},\"colorscale\":[[0.0,\"#0d0887\"],[0.1111111111111111,\"#46039f\"],[0.2222222222222222,\"#7201a8\"],[0.3333333333333333,\"#9c179e\"],[0.4444444444444444,\"#bd3786\"],[0.5555555555555556,\"#d8576b\"],[0.6666666666666666,\"#ed7953\"],[0.7777777777777778,\"#fb9f3a\"],[0.8888888888888888,\"#fdca26\"],[1.0,\"#f0f921\"]]}],\"heatmap\":[{\"type\":\"heatmap\",\"colorbar\":{\"outlinewidth\":0,\"ticks\":\"\"},\"colorscale\":[[0.0,\"#0d0887\"],[0.1111111111111111,\"#46039f\"],[0.2222222222222222,\"#7201a8\"],[0.3333333333333333,\"#9c179e\"],[0.4444444444444444,\"#bd3786\"],[0.5555555555555556,\"#d8576b\"],[0.6666666666666666,\"#ed7953\"],[0.7777777777777778,\"#fb9f3a\"],[0.8888888888888888,\"#fdca26\"],[1.0,\"#f0f921\"]]}],\"heatmapgl\":[{\"type\":\"heatmapgl\",\"colorbar\":{\"outlinewidth\":0,\"ticks\":\"\"},\"colorscale\":[[0.0,\"#0d0887\"],[0.1111111111111111,\"#46039f\"],[0.2222222222222222,\"#7201a8\"],[0.3333333333333333,\"#9c179e\"],[0.4444444444444444,\"#bd3786\"],[0.5555555555555556,\"#d8576b\"],[0.6666666666666666,\"#ed7953\"],[0.7777777777777778,\"#fb9f3a\"],[0.8888888888888888,\"#fdca26\"],[1.0,\"#f0f921\"]]}],\"contourcarpet\":[{\"type\":\"contourcarpet\",\"colorbar\":{\"outlinewidth\":0,\"ticks\":\"\"}}],\"contour\":[{\"type\":\"contour\",\"colorbar\":{\"outlinewidth\":0,\"ticks\":\"\"},\"colorscale\":[[0.0,\"#0d0887\"],[0.1111111111111111,\"#46039f\"],[0.2222222222222222,\"#7201a8\"],[0.3333333333333333,\"#9c179e\"],[0.4444444444444444,\"#bd3786\"],[0.5555555555555556,\"#d8576b\"],[0.6666666666666666,\"#ed7953\"],[0.7777777777777778,\"#fb9f3a\"],[0.8888888888888888,\"#fdca26\"],[1.0,\"#f0f921\"]]}],\"surface\":[{\"type\":\"surface\",\"colorbar\":{\"outlinewidth\":0,\"ticks\":\"\"},\"colorscale\":[[0.0,\"#0d0887\"],[0.1111111111111111,\"#46039f\"],[0.2222222222222222,\"#7201a8\"],[0.3333333333333333,\"#9c179e\"],[0.4444444444444444,\"#bd3786\"],[0.5555555555555556,\"#d8576b\"],[0.6666666666666666,\"#ed7953\"],[0.7777777777777778,\"#fb9f3a\"],[0.8888888888888888,\"#fdca26\"],[1.0,\"#f0f921\"]]}],\"mesh3d\":[{\"type\":\"mesh3d\",\"colorbar\":{\"outlinewidth\":0,\"ticks\":\"\"}}],\"scatter\":[{\"fillpattern\":{\"fillmode\":\"overlay\",\"size\":10,\"solidity\":0.2},\"type\":\"scatter\"}],\"parcoords\":[{\"type\":\"parcoords\",\"line\":{\"colorbar\":{\"outlinewidth\":0,\"ticks\":\"\"}}}],\"scatterpolargl\":[{\"type\":\"scatterpolargl\",\"marker\":{\"colorbar\":{\"outlinewidth\":0,\"ticks\":\"\"}}}],\"bar\":[{\"error_x\":{\"color\":\"#2a3f5f\"},\"error_y\":{\"color\":\"#2a3f5f\"},\"marker\":{\"line\":{\"color\":\"#E5ECF6\",\"width\":0.5},\"pattern\":{\"fillmode\":\"overlay\",\"size\":10,\"solidity\":0.2}},\"type\":\"bar\"}],\"scattergeo\":[{\"type\":\"scattergeo\",\"marker\":{\"colorbar\":{\"outlinewidth\":0,\"ticks\":\"\"}}}],\"scatterpolar\":[{\"type\":\"scatterpolar\",\"marker\":{\"colorbar\":{\"outlinewidth\":0,\"ticks\":\"\"}}}],\"histogram\":[{\"marker\":{\"pattern\":{\"fillmode\":\"overlay\",\"size\":10,\"solidity\":0.2}},\"type\":\"histogram\"}],\"scattergl\":[{\"type\":\"scattergl\",\"marker\":{\"colorbar\":{\"outlinewidth\":0,\"ticks\":\"\"}}}],\"scatter3d\":[{\"type\":\"scatter3d\",\"line\":{\"colorbar\":{\"outlinewidth\":0,\"ticks\":\"\"}},\"marker\":{\"colorbar\":{\"outlinewidth\":0,\"ticks\":\"\"}}}],\"scattermapbox\":[{\"type\":\"scattermapbox\",\"marker\":{\"colorbar\":{\"outlinewidth\":0,\"ticks\":\"\"}}}],\"scatterternary\":[{\"type\":\"scatterternary\",\"marker\":{\"colorbar\":{\"outlinewidth\":0,\"ticks\":\"\"}}}],\"scattercarpet\":[{\"type\":\"scattercarpet\",\"marker\":{\"colorbar\":{\"outlinewidth\":0,\"ticks\":\"\"}}}],\"carpet\":[{\"aaxis\":{\"endlinecolor\":\"#2a3f5f\",\"gridcolor\":\"white\",\"linecolor\":\"white\",\"minorgridcolor\":\"white\",\"startlinecolor\":\"#2a3f5f\"},\"baxis\":{\"endlinecolor\":\"#2a3f5f\",\"gridcolor\":\"white\",\"linecolor\":\"white\",\"minorgridcolor\":\"white\",\"startlinecolor\":\"#2a3f5f\"},\"type\":\"carpet\"}],\"table\":[{\"cells\":{\"fill\":{\"color\":\"#EBF0F8\"},\"line\":{\"color\":\"white\"}},\"header\":{\"fill\":{\"color\":\"#C8D4E3\"},\"line\":{\"color\":\"white\"}},\"type\":\"table\"}],\"barpolar\":[{\"marker\":{\"line\":{\"color\":\"#E5ECF6\",\"width\":0.5},\"pattern\":{\"fillmode\":\"overlay\",\"size\":10,\"solidity\":0.2}},\"type\":\"barpolar\"}],\"pie\":[{\"automargin\":true,\"type\":\"pie\"}]},\"layout\":{\"autotypenumbers\":\"strict\",\"colorway\":[\"#636efa\",\"#EF553B\",\"#00cc96\",\"#ab63fa\",\"#FFA15A\",\"#19d3f3\",\"#FF6692\",\"#B6E880\",\"#FF97FF\",\"#FECB52\"],\"font\":{\"color\":\"#2a3f5f\"},\"hovermode\":\"closest\",\"hoverlabel\":{\"align\":\"left\"},\"paper_bgcolor\":\"white\",\"plot_bgcolor\":\"#E5ECF6\",\"polar\":{\"bgcolor\":\"#E5ECF6\",\"angularaxis\":{\"gridcolor\":\"white\",\"linecolor\":\"white\",\"ticks\":\"\"},\"radialaxis\":{\"gridcolor\":\"white\",\"linecolor\":\"white\",\"ticks\":\"\"}},\"ternary\":{\"bgcolor\":\"#E5ECF6\",\"aaxis\":{\"gridcolor\":\"white\",\"linecolor\":\"white\",\"ticks\":\"\"},\"baxis\":{\"gridcolor\":\"white\",\"linecolor\":\"white\",\"ticks\":\"\"},\"caxis\":{\"gridcolor\":\"white\",\"linecolor\":\"white\",\"ticks\":\"\"}},\"coloraxis\":{\"colorbar\":{\"outlinewidth\":0,\"ticks\":\"\"}},\"colorscale\":{\"sequential\":[[0.0,\"#0d0887\"],[0.1111111111111111,\"#46039f\"],[0.2222222222222222,\"#7201a8\"],[0.3333333333333333,\"#9c179e\"],[0.4444444444444444,\"#bd3786\"],[0.5555555555555556,\"#d8576b\"],[0.6666666666666666,\"#ed7953\"],[0.7777777777777778,\"#fb9f3a\"],[0.8888888888888888,\"#fdca26\"],[1.0,\"#f0f921\"]],\"sequentialminus\":[[0.0,\"#0d0887\"],[0.1111111111111111,\"#46039f\"],[0.2222222222222222,\"#7201a8\"],[0.3333333333333333,\"#9c179e\"],[0.4444444444444444,\"#bd3786\"],[0.5555555555555556,\"#d8576b\"],[0.6666666666666666,\"#ed7953\"],[0.7777777777777778,\"#fb9f3a\"],[0.8888888888888888,\"#fdca26\"],[1.0,\"#f0f921\"]],\"diverging\":[[0,\"#8e0152\"],[0.1,\"#c51b7d\"],[0.2,\"#de77ae\"],[0.3,\"#f1b6da\"],[0.4,\"#fde0ef\"],[0.5,\"#f7f7f7\"],[0.6,\"#e6f5d0\"],[0.7,\"#b8e186\"],[0.8,\"#7fbc41\"],[0.9,\"#4d9221\"],[1,\"#276419\"]]},\"xaxis\":{\"gridcolor\":\"white\",\"linecolor\":\"white\",\"ticks\":\"\",\"title\":{\"standoff\":15},\"zerolinecolor\":\"white\",\"automargin\":true,\"zerolinewidth\":2},\"yaxis\":{\"gridcolor\":\"white\",\"linecolor\":\"white\",\"ticks\":\"\",\"title\":{\"standoff\":15},\"zerolinecolor\":\"white\",\"automargin\":true,\"zerolinewidth\":2},\"scene\":{\"xaxis\":{\"backgroundcolor\":\"#E5ECF6\",\"gridcolor\":\"white\",\"linecolor\":\"white\",\"showbackground\":true,\"ticks\":\"\",\"zerolinecolor\":\"white\",\"gridwidth\":2},\"yaxis\":{\"backgroundcolor\":\"#E5ECF6\",\"gridcolor\":\"white\",\"linecolor\":\"white\",\"showbackground\":true,\"ticks\":\"\",\"zerolinecolor\":\"white\",\"gridwidth\":2},\"zaxis\":{\"backgroundcolor\":\"#E5ECF6\",\"gridcolor\":\"white\",\"linecolor\":\"white\",\"showbackground\":true,\"ticks\":\"\",\"zerolinecolor\":\"white\",\"gridwidth\":2}},\"shapedefaults\":{\"line\":{\"color\":\"#2a3f5f\"}},\"annotationdefaults\":{\"arrowcolor\":\"#2a3f5f\",\"arrowhead\":0,\"arrowwidth\":1},\"geo\":{\"bgcolor\":\"white\",\"landcolor\":\"#E5ECF6\",\"subunitcolor\":\"white\",\"showland\":true,\"showlakes\":true,\"lakecolor\":\"white\"},\"title\":{\"x\":0.05},\"mapbox\":{\"style\":\"light\"}}},\"xaxis\":{\"anchor\":\"y\",\"domain\":[0.0,1.0],\"title\":{\"text\":\"trial_number\"}},\"yaxis\":{\"anchor\":\"x\",\"domain\":[0.0,1.0],\"title\":{\"text\":\"loss\"}},\"legend\":{\"title\":{\"text\":\"model_choice\"},\"tracegroupgap\":0},\"margin\":{\"t\":60}},                        {\"responsive\": true}                    )                };                            </script>        </div>\n",
       "</body>\n",
       "</html>"
      ]
     },
     "metadata": {},
     "output_type": "display_data"
    }
   ],
   "source": [
    "import pandas as pd\n",
    "import numpy as np\n",
    "\n",
    "import plotly.express as px\n",
    "\n",
    "def unpack(x):\n",
    "    if x:\n",
    "        return x[0]\n",
    "    return np.nan\n",
    "  \n",
    "def add_hover_data(fig, df, model_choice, ignore_cols=[\"loss\", \"trial_number\", \"model_choice\"]):\n",
    "  fig.update_traces(\n",
    "      customdata = df.loc[df[\"model_choice\"] == model_choice],\n",
    "      hovertemplate = \"<br>\".join(\n",
    "          [\n",
    "              f\"{col}: %{{customdata[{i}]}}\"\n",
    "              for i, col in enumerate(df.columns) if not trials_df.loc[trials_df[\"model_choice\"] == model_choice][col].isnull().any() \n",
    "            and col not in ignore_cols\n",
    "          ]\n",
    "      ),\n",
    "      selector = {\"name\": model_choice},\n",
    "  )\n",
    "  return fig\n",
    "\n",
    "\n",
    "trials_df = pd.DataFrame([pd.Series(t[\"misc\"][\"vals\"]).apply(unpack) for t in spark_trials])\n",
    "trials_df[\"loss\"] = [t[\"result\"][\"loss\"] for t in spark_trials]\n",
    "trials_df[\"trial_number\"] = trials_df.index\n",
    "trials_df[\"model_choice\"] = trials_df[\"model_choice\"].apply(\n",
    "    lambda x: \"random_forest\" if x == 0 else \"gradient_boosting\"\n",
    ")\n",
    "fig = px.scatter(trials_df, x=\"trial_number\", y=\"loss\", color=\"model_choice\")\n",
    "fig = add_hover_data(fig, trials_df, \"random_forest\")\n",
    "fig.show()"
   ]
  },
  {
   "cell_type": "markdown",
   "metadata": {},
   "source": [
    "Because we have lots of experiments in MLFlow now and they are all nested under our experiment container `cmle_hyperopt_tuning`, we need to first find out the experiment run ID from the parent so we can then filter based on that to find the individual trials."
   ]
  },
  {
   "cell_type": "code",
   "execution_count": null,
   "metadata": {},
   "outputs": [],
   "source": [
    "parent_run_id = mlflow.search_runs(filter_string=f'tags.mlflow.runName = \"{model_name}_hyperopt_tuning\"').iloc[0].run_id"
   ]
  },
  {
   "cell_type": "markdown",
   "metadata": {},
   "source": [
    "And finally we find and record the best overall performing model. Because this one is the best overall, we create a brand new model in the Model Hub and this is the model we'll be using going forward for scoring."
   ]
  },
  {
   "cell_type": "code",
   "execution_count": null,
   "metadata": {},
   "outputs": [
    {
     "name": "stdout",
     "output_type": "stream",
     "text": [
      "Best global run ID: 29934222df344be9ac791270895e8b3b\n",
      "Best global AUC: 0.9689485679380572\n"
     ]
    },
    {
     "name": "stderr",
     "output_type": "stream",
     "text": [
      "Registered model 'cmle_propensity_model_jpage_adobe_com' already exists. Creating a new version of this model...\n",
      "2023/11/21 06:04:15 INFO mlflow.tracking._model_registry.client: Waiting up to 300 seconds for model version to finish creation. Model name: cmle_propensity_model_jpage_adobe_com, version 2\n",
      "Created version '2' of model 'cmle_propensity_model_jpage_adobe_com'.\n"
     ]
    }
   ],
   "source": [
    "best_run_global = mlflow.search_runs(filter_string=f\"tags.mlflow.parentRunId = '{parent_run_id}'\", order_by=['metrics.auc DESC']).iloc[0]\n",
    "best_run_id_global = best_run_global.run_id\n",
    "best_auc_global = best_run_global[\"metrics.auc\"]\n",
    "print(f\"Best global run ID: {best_run_id_global}\")\n",
    "print(f\"Best global AUC: {best_auc_global}\")\n",
    "\n",
    "top_model_name = model_name\n",
    "top_model_version = mlflow.register_model(f\"runs:/{best_run_id_global}/hyperopt_model\", top_model_name)\n",
    "time.sleep(15)"
   ]
  },
  {
   "cell_type": "markdown",
   "metadata": {},
   "source": [
    "Because this model is our top model after tuning, we are ready to promote it to production. Promoting it will help refer to it when calling MLFlow, and also will show its status as **Production** in the Model Hub UI."
   ]
  },
  {
   "cell_type": "code",
   "execution_count": null,
   "metadata": {},
   "outputs": [
    {
     "data": {
      "text/plain": [
       "<ModelVersion: aliases=[], creation_timestamp=1700546655791, current_stage='Production', description='', last_updated_timestamp=1700546677208, name='cmle_propensity_model_jpage_adobe_com', run_id='29934222df344be9ac791270895e8b3b', run_link='', source='dbfs:/databricks/mlflow-tracking/4128710873529513/29934222df344be9ac791270895e8b3b/artifacts/hyperopt_model', status='READY', status_message='', tags={}, user_id='5604590816209219', version='2'>"
      ]
     },
     "metadata": {},
     "output_type": "display_data"
    }
   ],
   "source": [
    "from mlflow.tracking import MlflowClient\n",
    " \n",
    "client = MlflowClient()\n",
    "client.transition_model_version_stage(\n",
    "  name=top_model_name,\n",
    "  version=top_model_version.version,\n",
    "  stage=\"Production\",\n",
    ")"
   ]
  },
  {
   "cell_type": "markdown",
   "metadata": {},
   "source": [
    "The Models page now shows the model version in stage **Production**\n",
    "\n",
    "You can now refer to the model using the path **models:/$MODELNAME/production**"
   ]
  },
  {
   "cell_type": "code",
   "execution_count": null,
   "metadata": {},
   "outputs": [
    {
     "data": {
      "application/vnd.jupyter.widget-view+json": {
       "model_id": "4786718231ab48898fff1a82f88cc2fc",
       "version_major": 2,
       "version_minor": 0
      },
      "text/plain": [
       "Downloading artifacts:   0%|          | 0/5 [00:00<?, ?it/s]"
      ]
     },
     "metadata": {},
     "output_type": "display_data"
    },
    {
     "name": "stdout",
     "output_type": "stream",
     "text": [
      "AUC: 0.9689485679380572\n"
     ]
    }
   ],
   "source": [
    "prod_model = mlflow.pyfunc.load_model(f\"models:/{top_model_name}/production\")\n",
    " \n",
    "# Sanity-check: This should match the AUC logged by MLflow\n",
    "print(f'AUC: {roc_auc_score(y_test, prod_model.predict(X_test))}')"
   ]
  },
  {
   "cell_type": "markdown",
   "metadata": {},
   "source": [
    "We can do one last validation on our best model to make sure it doesn't overfit. For that we are computing the confusion matrix to see the share of predictions who are false positives or false negatives which we'd like to minimize."
   ]
  },
  {
   "cell_type": "code",
   "execution_count": null,
   "metadata": {},
   "outputs": [
    {
     "data": {
      "text/plain": [
       "<sklearn.metrics._plot.confusion_matrix.ConfusionMatrixDisplay at 0x7effecc092a0>"
      ]
     },
     "metadata": {},
     "output_type": "display_data"
    },
    {
     "data": {
      "image/png": "[encoded data removed]",
      "text/plain": [
       "<Figure size 640x480 with 2 Axes>"
      ]
     },
     "metadata": {},
     "output_type": "display_data"
    }
   ],
   "source": [
    "from sklearn.metrics import ConfusionMatrixDisplay, confusion_matrix\n",
    "\n",
    "predicted_probas = prod_model.predict(X)\n",
    "predicted_probas[predicted_probas > 0.5] = 1\n",
    "predicted_probas[predicted_probas <= 0.5] = 0\n",
    "matrix = confusion_matrix(predicted_probas, y)\n",
    "fig = ConfusionMatrixDisplay(matrix, display_labels=[\"notSubscribed\", \"subscribed\"])\n",
    "fig.plot()"
   ]
  },
  {
   "cell_type": "markdown",
   "metadata": {},
   "source": [
    "## 1.4 Saving the final model name to configuration\n",
    "\n",
    "Now that we got everything working, we just need to save the updated `model_name` variable in the original configuration file, so we can refer to it in the following weekly assignments. To do that, execute the code below:"
   ]
  },
  {
   "cell_type": "code",
   "execution_count": null,
   "metadata": {},
   "outputs": [],
   "source": [
    "config.set(\"Cloud\", \"model_name\", model_name)\n",
    "\n",
    "with open(config_path, \"w\") as configfile:\n",
    "    config.write(configfile)"
   ]
  }
 ],
 "metadata": {
  "application/vnd.databricks.v1+notebook": {
   "dashboards": [],
   "language": "python",
   "notebookMetadata": {
    "pythonIndentUnit": 2,
    "widgetLayout": []
   },
   "notebookName": "Week3Notebook",
   "notebookOrigID": 3680348664249912,
   "widgets": {}
  },
  "kernelspec": {
   "display_name": "Python 3 (ipykernel)",
   "language": "python",
   "name": "python3"
  },
  "language_info": {
   "codemirror_mode": {
    "name": "ipython",
    "version": 3
   },
   "file_extension": ".py",
   "mimetype": "text/x-python",
   "name": "python",
   "nbconvert_exporter": "python",
   "pygments_lexer": "ipython3",
   "version": "3.10.2"
  }
 },
 "nbformat": 4,
 "nbformat_minor": 0
}
