{
 "cells": [
  {
   "cell_type": "markdown",
   "id": "7413f68a",
   "metadata": {},
   "source": [
    "# EDA and Feature Engineering\n",
    "\n",
    "This notebook provides examples of using AEP Query Service for two important activities in any machine learninig project: exploratory data analysis, and building features from raw data in AEP.  We will first use Query Service interactively with our synthetic Experience Events dataset to understand the data and identify potential features we can build for the subscription propensity model we are building. Then we will progressively build a query template we can use the Query Service to transform the events data into dataset of features we will use for training our propensity model.\n",
    "\n",
    "- [Setup](#setup)\n",
    "- [1. Basic queries](#1-basic-queries)\n",
    "- [2. EDA with interactive queries](#2-exploratory-data-analysis-with-query-service)\n",
    "- [3. Featurization with Query Service](#2-featurization-with-query-service)"
   ]
  },
  {
   "cell_type": "markdown",
   "id": "92326797",
   "metadata": {},
   "source": [
    "# Setup\n",
    "\n",
    "This notebook requires some configuration parameters to properly authenticate to your Adobe Experience Platform instance. Please follow the instructions in the [**README**](../README.md) to gather the necessary configuration parameters and prepare the [config.ini](../conf/config.ini) file with the specific values for your environment.\n",
    "\n",
    "The next cell will be looking for your configuration file under your **ADOBE_HOME** path to fetch the configuration values that will be used for this notebook. If necessary, modify the `config_path` and/or the `config_file` name to reflect the location of your config file. "
   ]
  },
  {
   "cell_type": "code",
   "execution_count": null,
   "id": "9eedc8b0",
   "metadata": {},
   "outputs": [],
   "source": [
    "import os\n",
    "from configparser import ConfigParser\n",
    "import aepp\n",
    "\n",
    "os.environ[\"ADOBE_HOME\"] = os.path.dirname(os.getcwd())\n",
    "\n",
    "if \"ADOBE_HOME\" not in os.environ:\n",
    "    raise Exception(\"ADOBE_HOME environment variable needs to be set.\")\n",
    "\n",
    "config = ConfigParser()\n",
    "config_file = \"aemassets_config.ini\"\n",
    "#config_path = os.path.join(os.environ[\"ADOBE_HOME\"], \"conf\", config_file)\n",
    "config_path = f\"/Users/jeremypage/Library/CloudStorage/OneDrive-Adobe/Projects/Cloud ML/environments/{config_file}\"\n",
    "\n",
    "if not os.path.exists(config_path):\n",
    "    raise Exception(f\"Looking for configuration under {config_path} but config not found, please verify path\")\n",
    "\n",
    "config.read(config_path)\n",
    "\n",
    "aepp.configure(\n",
    "  org_id=config.get(\"Platform\", \"ims_org_id\"),\n",
    "  tech_id=config.get(\"Authentication\", \"tech_acct_id\"), \n",
    "  secret=config.get(\"Authentication\", \"client_secret\"),\n",
    "  scopes=config.get(\"Authentication\", \"scopes\"),\n",
    "  client_id=config.get(\"Authentication\", \"client_id\"),\n",
    "  environment=config.get(\"Platform\", \"environment\"),\n",
    "  sandbox=config.get(\"Platform\", \"sandbox_name\")\n",
    ")"
   ]
  },
  {
   "cell_type": "markdown",
   "id": "0bbbd084",
   "metadata": {},
   "source": [
    "To ensure uniqueness of resources created as part of this notebook, we are using your local username to include in each of the resource titles to avoid conflicts."
   ]
  },
  {
   "cell_type": "code",
   "execution_count": null,
   "id": "f976da3b",
   "metadata": {},
   "outputs": [],
   "source": [
    "import re\n",
    "username = os.getlogin()\n",
    "unique_id = s = re.sub(\"[^0-9a-zA-Z]+\", \"_\", username)"
   ]
  },
  {
   "cell_type": "markdown",
   "id": "f0cfd6cb",
   "metadata": {},
   "source": [
    "Helper function to generate link to resource in the UI:"
   ]
  },
  {
   "cell_type": "code",
   "execution_count": null,
   "id": "6343977c",
   "metadata": {},
   "outputs": [],
   "source": [
    "def get_ui_link(tenant_id, resource_type, resource_id):\n",
    "    environment = config.get(\"Platform\", \"environment\")\n",
    "    sandbox_name = config.get(\"Platform\", \"sandbox_name\")\n",
    "    if environment == \"prod\":\n",
    "        prefix = f\"https://experience.adobe.com\"\n",
    "    else:\n",
    "        prefix = f\"https://experience-{environment}.adobe.com\"\n",
    "    return f\"{prefix}/#/@{tenant_id}/sname:{sandbox_name}/platform/{resource_type}/{resource_id}\""
   ]
  },
  {
   "cell_type": "markdown",
   "id": "78b3dd5f",
   "metadata": {},
   "source": [
    "# 1. Basic queries\n",
    "\n",
    "In this section we will illustrate of the basics of using Query Service interactively: \n",
    "- Establish an interactive session with Query Service\n",
    "- Discover the schema of the data and examine a few rows\n",
    "- Options for querying nested data"
   ]
  },
  {
   "cell_type": "markdown",
   "id": "21d52847",
   "metadata": {},
   "source": [
    "## 1.1 Start an interactive session with Query Service\n",
    "\n",
    "Every dataset ID in the Adobe Experience Platform is tied to a table name in Query Service world. We can easily get the table name by doing a lookup on the dataset ID and extracting the table name from the dataset tags:"
   ]
  },
  {
   "cell_type": "code",
   "execution_count": null,
   "id": "f9d9eacd",
   "metadata": {},
   "outputs": [
    {
     "data": {
      "text/plain": [
       "'cmle_synthetic_data_experience_event_dataset_created_by_jeremypa'"
      ]
     },
     "metadata": {},
     "output_type": "display_data"
    }
   ],
   "source": [
    "from aepp import catalog\n",
    "\n",
    "cat_conn = catalog.Catalog()\n",
    "\n",
    "dataset_id = config.get('Synthetic', 'events_dataset')\n",
    "dataset_info = cat_conn.getDataSet(dataset_id)\n",
    "table_name = dataset_info[dataset_id][\"tags\"][\"adobe/pqs/table\"][0]\n",
    "table_name"
   ]
  },
  {
   "cell_type": "markdown",
   "id": "3cdc8b1f",
   "metadata": {},
   "source": [
    "When you set the connection to the query service object you'll setup a connection to the actual table you need to connect to, this will be faster and use up less resources from the query service API"
   ]
  },
  {
   "cell_type": "code",
   "execution_count": null,
   "id": "ee1c3bf7",
   "metadata": {},
   "outputs": [],
   "source": [
    "from aepp import queryservice\n",
    "\n",
    "qs_conn = queryservice.QueryService().connection()\n",
    "qs_conn[\"dbname\"] = f\"{cat_conn.sandbox}:{table_name}\"\n",
    "qs_cursor = queryservice.InteractiveQuery2(qs_conn)"
   ]
  },
  {
   "cell_type": "markdown",
   "id": "410ec820",
   "metadata": {},
   "source": [
    "## 1.2 Query the dataset\n",
    "\n",
    "We can use the interactive session we just created to issue ad hoc queries to Query Service. As an example here we simply select all the fields in our synthetic data table."
   ]
  },
  {
   "cell_type": "code",
   "execution_count": null,
   "id": "64229122",
   "metadata": {},
   "outputs": [
    {
     "data": {
      "text/html": [
       "<div>\n",
       "<style scoped>\n",
       "    .dataframe tbody tr th:only-of-type {\n",
       "        vertical-align: middle;\n",
       "    }\n",
       "\n",
       "    .dataframe tbody tr th {\n",
       "        vertical-align: top;\n",
       "    }\n",
       "\n",
       "    .dataframe thead th {\n",
       "        text-align: right;\n",
       "    }\n",
       "</style>\n",
       "<table border=\"1\" class=\"dataframe\">\n",
       "  <thead>\n",
       "    <tr style=\"text-align: right;\">\n",
       "      <th></th>\n",
       "      <th>_aemonacpprodcampaign</th>\n",
       "      <th>_id</th>\n",
       "      <th>directMarketing</th>\n",
       "      <th>eventMergeId</th>\n",
       "      <th>eventType</th>\n",
       "      <th>producedBy</th>\n",
       "      <th>timestamp</th>\n",
       "      <th>web</th>\n",
       "    </tr>\n",
       "  </thead>\n",
       "  <tbody>\n",
       "    <tr>\n",
       "      <th>0</th>\n",
       "      <td>(40081848854715666920630439778483715968)</td>\n",
       "      <td>c7459fd3-f1ca-4767-8198-8558a4c0c52b</td>\n",
       "      <td>(NULL,\"(1.0)\",8683,HML2Y0NiNi,a228132b-de0c-47...</td>\n",
       "      <td>None</td>\n",
       "      <td>directMarketing.emailSent</td>\n",
       "      <td>databricks-synthetic</td>\n",
       "      <td>2023-07-19 00:00:28.100</td>\n",
       "      <td>None</td>\n",
       "    </tr>\n",
       "    <tr>\n",
       "      <th>1</th>\n",
       "      <td>(86635112544138196512425391045157868430)</td>\n",
       "      <td>5948b1b2-cfb9-4550-a4df-e2507cb6bbd8</td>\n",
       "      <td>None</td>\n",
       "      <td>None</td>\n",
       "      <td>web.webpagedetails.pageViews</td>\n",
       "      <td>databricks-synthetic</td>\n",
       "      <td>2023-07-19 00:02:00.255</td>\n",
       "      <td>(\"(http://www.fxoGB.com,\"(0.0)\",dFV6J,fxKPp,do...</td>\n",
       "    </tr>\n",
       "    <tr>\n",
       "      <th>2</th>\n",
       "      <td>(29257331911852546734062026245059649228)</td>\n",
       "      <td>f24d017f-3133-495c-a6ed-be6212d915a2</td>\n",
       "      <td>(NULL,NULL,3287,NULL,5a06f343-2d66-4917-ba23-5...</td>\n",
       "      <td>None</td>\n",
       "      <td>directMarketing.emailOpened</td>\n",
       "      <td>databricks-synthetic</td>\n",
       "      <td>2023-07-19 00:02:33.051</td>\n",
       "      <td>None</td>\n",
       "    </tr>\n",
       "    <tr>\n",
       "      <th>3</th>\n",
       "      <td>(59103553658611495028106035464960897025)</td>\n",
       "      <td>bc1fc7a8-5fd9-4401-adc2-1c7c786df225</td>\n",
       "      <td>(NULL,\"(1.0)\",1623,lZwsjvueOm,6d2713da-717a-45...</td>\n",
       "      <td>None</td>\n",
       "      <td>directMarketing.emailSent</td>\n",
       "      <td>databricks-synthetic</td>\n",
       "      <td>2023-07-19 00:02:43.100</td>\n",
       "      <td>None</td>\n",
       "    </tr>\n",
       "    <tr>\n",
       "      <th>4</th>\n",
       "      <td>(86635112544138196512425391045157868430)</td>\n",
       "      <td>1c853376-46e9-4b5a-bee7-c533e064a478</td>\n",
       "      <td>None</td>\n",
       "      <td>None</td>\n",
       "      <td>web.webpagedetails.pageViews</td>\n",
       "      <td>databricks-synthetic</td>\n",
       "      <td>2023-07-19 00:02:56.604</td>\n",
       "      <td>(\"(http://www.nZSMC.com,\"(0.0)\",FgtaB,LtUfN,do...</td>\n",
       "    </tr>\n",
       "  </tbody>\n",
       "</table>\n",
       "</div>"
      ],
      "text/plain": [
       "                      _aemonacpprodcampaign  \\\n",
       "0  (40081848854715666920630439778483715968)   \n",
       "1  (86635112544138196512425391045157868430)   \n",
       "2  (29257331911852546734062026245059649228)   \n",
       "3  (59103553658611495028106035464960897025)   \n",
       "4  (86635112544138196512425391045157868430)   \n",
       "\n",
       "                                    _id  \\\n",
       "0  c7459fd3-f1ca-4767-8198-8558a4c0c52b   \n",
       "1  5948b1b2-cfb9-4550-a4df-e2507cb6bbd8   \n",
       "2  f24d017f-3133-495c-a6ed-be6212d915a2   \n",
       "3  bc1fc7a8-5fd9-4401-adc2-1c7c786df225   \n",
       "4  1c853376-46e9-4b5a-bee7-c533e064a478   \n",
       "\n",
       "                                     directMarketing eventMergeId  \\\n",
       "0  (NULL,\"(1.0)\",8683,HML2Y0NiNi,a228132b-de0c-47...         None   \n",
       "1                                               None         None   \n",
       "2  (NULL,NULL,3287,NULL,5a06f343-2d66-4917-ba23-5...         None   \n",
       "3  (NULL,\"(1.0)\",1623,lZwsjvueOm,6d2713da-717a-45...         None   \n",
       "4                                               None         None   \n",
       "\n",
       "                      eventType            producedBy               timestamp  \\\n",
       "0     directMarketing.emailSent  databricks-synthetic 2023-07-19 00:00:28.100   \n",
       "1  web.webpagedetails.pageViews  databricks-synthetic 2023-07-19 00:02:00.255   \n",
       "2   directMarketing.emailOpened  databricks-synthetic 2023-07-19 00:02:33.051   \n",
       "3     directMarketing.emailSent  databricks-synthetic 2023-07-19 00:02:43.100   \n",
       "4  web.webpagedetails.pageViews  databricks-synthetic 2023-07-19 00:02:56.604   \n",
       "\n",
       "                                                 web  \n",
       "0                                               None  \n",
       "1  (\"(http://www.fxoGB.com,\"(0.0)\",dFV6J,fxKPp,do...  \n",
       "2                                               None  \n",
       "3                                               None  \n",
       "4  (\"(http://www.nZSMC.com,\"(0.0)\",FgtaB,LtUfN,do...  "
      ]
     },
     "metadata": {},
     "output_type": "display_data"
    }
   ],
   "source": [
    "sample_experience_event_query = f'''SELECT * FROM {table_name} LIMIT 5'''\n",
    "qs_cursor.query(sample_experience_event_query)"
   ]
  },
  {
   "cell_type": "markdown",
   "id": "8e8d1f0d",
   "metadata": {},
   "source": [
    "## 1.3 Querying nested data\n",
    "\n",
    "Let's sample some of the fields in our dataset - we have different types, some are timestamps, some are just primitives like strings, and then some are complex nested XDM structures. Let's see what we get when we query it as-is: "
   ]
  },
  {
   "cell_type": "code",
   "execution_count": null,
   "id": "40f09d68",
   "metadata": {},
   "outputs": [
    {
     "data": {
      "text/html": [
       "<div>\n",
       "<style scoped>\n",
       "    .dataframe tbody tr th:only-of-type {\n",
       "        vertical-align: middle;\n",
       "    }\n",
       "\n",
       "    .dataframe tbody tr th {\n",
       "        vertical-align: top;\n",
       "    }\n",
       "\n",
       "    .dataframe thead th {\n",
       "        text-align: right;\n",
       "    }\n",
       "</style>\n",
       "<table border=\"1\" class=\"dataframe\">\n",
       "  <thead>\n",
       "    <tr style=\"text-align: right;\">\n",
       "      <th></th>\n",
       "      <th>directMarketing</th>\n",
       "      <th>_id</th>\n",
       "      <th>eventType</th>\n",
       "      <th>timestamp</th>\n",
       "    </tr>\n",
       "  </thead>\n",
       "  <tbody>\n",
       "    <tr>\n",
       "      <th>0</th>\n",
       "      <td>(NULL,\"(1.0)\",8683,HML2Y0NiNi,a228132b-de0c-47...</td>\n",
       "      <td>c7459fd3-f1ca-4767-8198-8558a4c0c52b</td>\n",
       "      <td>directMarketing.emailSent</td>\n",
       "      <td>2023-07-19 00:00:28.100</td>\n",
       "    </tr>\n",
       "    <tr>\n",
       "      <th>1</th>\n",
       "      <td>None</td>\n",
       "      <td>5948b1b2-cfb9-4550-a4df-e2507cb6bbd8</td>\n",
       "      <td>web.webpagedetails.pageViews</td>\n",
       "      <td>2023-07-19 00:02:00.255</td>\n",
       "    </tr>\n",
       "    <tr>\n",
       "      <th>2</th>\n",
       "      <td>(NULL,NULL,3287,NULL,5a06f343-2d66-4917-ba23-5...</td>\n",
       "      <td>f24d017f-3133-495c-a6ed-be6212d915a2</td>\n",
       "      <td>directMarketing.emailOpened</td>\n",
       "      <td>2023-07-19 00:02:33.051</td>\n",
       "    </tr>\n",
       "    <tr>\n",
       "      <th>3</th>\n",
       "      <td>(NULL,\"(1.0)\",1623,lZwsjvueOm,6d2713da-717a-45...</td>\n",
       "      <td>bc1fc7a8-5fd9-4401-adc2-1c7c786df225</td>\n",
       "      <td>directMarketing.emailSent</td>\n",
       "      <td>2023-07-19 00:02:43.100</td>\n",
       "    </tr>\n",
       "    <tr>\n",
       "      <th>4</th>\n",
       "      <td>None</td>\n",
       "      <td>1c853376-46e9-4b5a-bee7-c533e064a478</td>\n",
       "      <td>web.webpagedetails.pageViews</td>\n",
       "      <td>2023-07-19 00:02:56.604</td>\n",
       "    </tr>\n",
       "  </tbody>\n",
       "</table>\n",
       "</div>"
      ],
      "text/plain": [
       "                                     directMarketing  \\\n",
       "0  (NULL,\"(1.0)\",8683,HML2Y0NiNi,a228132b-de0c-47...   \n",
       "1                                               None   \n",
       "2  (NULL,NULL,3287,NULL,5a06f343-2d66-4917-ba23-5...   \n",
       "3  (NULL,\"(1.0)\",1623,lZwsjvueOm,6d2713da-717a-45...   \n",
       "4                                               None   \n",
       "\n",
       "                                    _id                     eventType  \\\n",
       "0  c7459fd3-f1ca-4767-8198-8558a4c0c52b     directMarketing.emailSent   \n",
       "1  5948b1b2-cfb9-4550-a4df-e2507cb6bbd8  web.webpagedetails.pageViews   \n",
       "2  f24d017f-3133-495c-a6ed-be6212d915a2   directMarketing.emailOpened   \n",
       "3  bc1fc7a8-5fd9-4401-adc2-1c7c786df225     directMarketing.emailSent   \n",
       "4  1c853376-46e9-4b5a-bee7-c533e064a478  web.webpagedetails.pageViews   \n",
       "\n",
       "                timestamp  \n",
       "0 2023-07-19 00:00:28.100  \n",
       "1 2023-07-19 00:02:00.255  \n",
       "2 2023-07-19 00:02:33.051  \n",
       "3 2023-07-19 00:02:43.100  \n",
       "4 2023-07-19 00:02:56.604  "
      ]
     },
     "metadata": {},
     "output_type": "display_data"
    }
   ],
   "source": [
    "schema_query= f'''SELECT directMarketing, _id, eventType, timestamp FROM {table_name} LIMIT 5'''\n",
    "df = qs_cursor.query(schema_query, output=\"dataframe\")\n",
    "df.head()"
   ]
  },
  {
   "cell_type": "markdown",
   "id": "044894f2",
   "metadata": {},
   "source": [
    "As we can see when looking at the complex nested field, it's pretty hard to make sense of what this data is and the underlying structure:"
   ]
  },
  {
   "cell_type": "code",
   "execution_count": null,
   "id": "1ad58fcc",
   "metadata": {},
   "outputs": [
    {
     "data": {
      "text/plain": [
       "'(NULL,\"(1.0)\",8683,HML2Y0NiNi,a228132b-de0c-47c8-8a2f-fd764404b07f,NULL,NULL,\"(1.0)\")'"
      ]
     },
     "metadata": {},
     "output_type": "display_data"
    }
   ],
   "source": [
    "df[\"directMarketing\"].iloc[0]"
   ]
  },
  {
   "cell_type": "markdown",
   "id": "0bd79655",
   "metadata": {},
   "source": [
    "Now let's run the same query again but with a twist: we can set the `auto_to_json` flag to be true - this configuration ensures that complex structures are automatically converted into a json form so that the field names can be queried."
   ]
  },
  {
   "cell_type": "code",
   "execution_count": null,
   "id": "661ed2f3",
   "metadata": {},
   "outputs": [
    {
     "data": {
      "text/html": [
       "<div>\n",
       "<style scoped>\n",
       "    .dataframe tbody tr th:only-of-type {\n",
       "        vertical-align: middle;\n",
       "    }\n",
       "\n",
       "    .dataframe tbody tr th {\n",
       "        vertical-align: top;\n",
       "    }\n",
       "\n",
       "    .dataframe thead th {\n",
       "        text-align: right;\n",
       "    }\n",
       "</style>\n",
       "<table border=\"1\" class=\"dataframe\">\n",
       "  <thead>\n",
       "    <tr style=\"text-align: right;\">\n",
       "      <th></th>\n",
       "      <th>directMarketing</th>\n",
       "      <th>_id</th>\n",
       "      <th>eventType</th>\n",
       "      <th>timestamp</th>\n",
       "    </tr>\n",
       "  </thead>\n",
       "  <tbody>\n",
       "    <tr>\n",
       "      <th>0</th>\n",
       "      <td>{\"emailDelivered\":{\"value\":1.0},\"emailVisitorI...</td>\n",
       "      <td>c7459fd3-f1ca-4767-8198-8558a4c0c52b</td>\n",
       "      <td>directMarketing.emailSent</td>\n",
       "      <td>2023-07-19 00:00:28.100</td>\n",
       "    </tr>\n",
       "    <tr>\n",
       "      <th>1</th>\n",
       "      <td>None</td>\n",
       "      <td>5948b1b2-cfb9-4550-a4df-e2507cb6bbd8</td>\n",
       "      <td>web.webpagedetails.pageViews</td>\n",
       "      <td>2023-07-19 00:02:00.255</td>\n",
       "    </tr>\n",
       "    <tr>\n",
       "      <th>2</th>\n",
       "      <td>{\"emailVisitorID\":\"3287\",\"messageID\":\"5a06f343...</td>\n",
       "      <td>f24d017f-3133-495c-a6ed-be6212d915a2</td>\n",
       "      <td>directMarketing.emailOpened</td>\n",
       "      <td>2023-07-19 00:02:33.051</td>\n",
       "    </tr>\n",
       "    <tr>\n",
       "      <th>3</th>\n",
       "      <td>{\"emailDelivered\":{\"value\":1.0},\"emailVisitorI...</td>\n",
       "      <td>bc1fc7a8-5fd9-4401-adc2-1c7c786df225</td>\n",
       "      <td>directMarketing.emailSent</td>\n",
       "      <td>2023-07-19 00:02:43.100</td>\n",
       "    </tr>\n",
       "    <tr>\n",
       "      <th>4</th>\n",
       "      <td>None</td>\n",
       "      <td>1c853376-46e9-4b5a-bee7-c533e064a478</td>\n",
       "      <td>web.webpagedetails.pageViews</td>\n",
       "      <td>2023-07-19 00:02:56.604</td>\n",
       "    </tr>\n",
       "  </tbody>\n",
       "</table>\n",
       "</div>"
      ],
      "text/plain": [
       "                                     directMarketing  \\\n",
       "0  {\"emailDelivered\":{\"value\":1.0},\"emailVisitorI...   \n",
       "1                                               None   \n",
       "2  {\"emailVisitorID\":\"3287\",\"messageID\":\"5a06f343...   \n",
       "3  {\"emailDelivered\":{\"value\":1.0},\"emailVisitorI...   \n",
       "4                                               None   \n",
       "\n",
       "                                    _id                     eventType  \\\n",
       "0  c7459fd3-f1ca-4767-8198-8558a4c0c52b     directMarketing.emailSent   \n",
       "1  5948b1b2-cfb9-4550-a4df-e2507cb6bbd8  web.webpagedetails.pageViews   \n",
       "2  f24d017f-3133-495c-a6ed-be6212d915a2   directMarketing.emailOpened   \n",
       "3  bc1fc7a8-5fd9-4401-adc2-1c7c786df225     directMarketing.emailSent   \n",
       "4  1c853376-46e9-4b5a-bee7-c533e064a478  web.webpagedetails.pageViews   \n",
       "\n",
       "                timestamp  \n",
       "0 2023-07-19 00:00:28.100  \n",
       "1 2023-07-19 00:02:00.255  \n",
       "2 2023-07-19 00:02:33.051  \n",
       "3 2023-07-19 00:02:43.100  \n",
       "4 2023-07-19 00:02:56.604  "
      ]
     },
     "metadata": {},
     "output_type": "display_data"
    }
   ],
   "source": [
    "schema_query= f\"\"\"\n",
    "SET auto_to_json=true; \n",
    "\n",
    "SELECT directMarketing, _id, eventType, timestamp \n",
    "FROM {table_name} \n",
    "LIMIT 5\"\"\"\n",
    "df = qs_cursor.query(schema_query, output=\"dataframe\")\n",
    "df"
   ]
  },
  {
   "cell_type": "markdown",
   "id": "796ad071",
   "metadata": {},
   "source": [
    "As we can see, the data is now much easier to digest, and we can see clearly the underlying structure along with the different field names."
   ]
  },
  {
   "cell_type": "code",
   "execution_count": null,
   "id": "6a67c7cc",
   "metadata": {},
   "outputs": [
    {
     "data": {
      "text/plain": [
       "'{\"emailDelivered\":{\"value\":1.0},\"emailVisitorID\":\"8683\",\"hashedEmail\":\"HML2Y0NiNi\",\"messageID\":\"a228132b-de0c-47c8-8a2f-fd764404b07f\",\"sends\":{\"value\":1.0}}'"
      ]
     },
     "metadata": {},
     "output_type": "display_data"
    }
   ],
   "source": [
    "df[\"directMarketing\"].iloc[0]"
   ]
  },
  {
   "cell_type": "code",
   "execution_count": null,
   "id": "f9f3010a",
   "metadata": {},
   "outputs": [
    {
     "data": {
      "text/plain": [
       "{'emailDelivered': {'value': 1.0},\n",
       " 'emailVisitorID': '8683',\n",
       " 'hashedEmail': 'HML2Y0NiNi',\n",
       " 'messageID': 'a228132b-de0c-47c8-8a2f-fd764404b07f',\n",
       " 'sends': {'value': 1.0}}"
      ]
     },
     "metadata": {},
     "output_type": "display_data"
    }
   ],
   "source": [
    "import json\n",
    "\n",
    "json.loads(df[\"directMarketing\"].iloc[0])"
   ]
  },
  {
   "cell_type": "markdown",
   "id": "3fb478b5",
   "metadata": {},
   "source": [
    "TODO: add code to flatten the nested schema fields into separate columns"
   ]
  },
  {
   "cell_type": "markdown",
   "id": "67d5ad13",
   "metadata": {},
   "source": [
    "# 2. Exploratory Data Analysis with Query Service\n",
    "\n",
    "In this section we will use interactive queries to analyze our synthetic Experience Events dataset in AEP: \n",
    "- Compute basic statistics from the dataset\n",
    "- Examine correlations among features to inform feature building for the propensity model"
   ]
  },
  {
   "cell_type": "markdown",
   "id": "98345d15",
   "metadata": {},
   "source": [
    "## 2.1 Manually get some basic statistics\n",
    "\n",
    "Let's look at the number of rows, number of profiles in our synthetic dataset as an example of basic computations that can be done with Query Service:"
   ]
  },
  {
   "cell_type": "code",
   "execution_count": null,
   "id": "0e913cf4",
   "metadata": {},
   "outputs": [
    {
     "data": {
      "text/html": [
       "<div>\n",
       "<style scoped>\n",
       "    .dataframe tbody tr th:only-of-type {\n",
       "        vertical-align: middle;\n",
       "    }\n",
       "\n",
       "    .dataframe tbody tr th {\n",
       "        vertical-align: top;\n",
       "    }\n",
       "\n",
       "    .dataframe thead th {\n",
       "        text-align: right;\n",
       "    }\n",
       "</style>\n",
       "<table border=\"1\" class=\"dataframe\">\n",
       "  <thead>\n",
       "    <tr style=\"text-align: right;\">\n",
       "      <th></th>\n",
       "      <th>totalRows</th>\n",
       "      <th>distinctUsers</th>\n",
       "    </tr>\n",
       "  </thead>\n",
       "  <tbody>\n",
       "    <tr>\n",
       "      <th>0</th>\n",
       "      <td>1276563</td>\n",
       "      <td>1276563</td>\n",
       "    </tr>\n",
       "  </tbody>\n",
       "</table>\n",
       "</div>"
      ],
      "text/plain": [
       "   totalRows  distinctUsers\n",
       "0    1276563        1276563"
      ]
     },
     "metadata": {},
     "output_type": "display_data"
    }
   ],
   "source": [
    "basic_statistics_query = f\"\"\"\n",
    "SELECT\n",
    "    COUNT(_id) as \"totalRows\",  \n",
    "    COUNT(DISTINCT _id) as \"distinctUsers\" \n",
    "FROM {table_name}\"\"\"\n",
    "df = qs_cursor.query(basic_statistics_query, output=\"dataframe\")\n",
    "df"
   ]
  },
  {
   "cell_type": "markdown",
   "id": "b807c225",
   "metadata": {},
   "source": [
    "## 2.2 Create a sampled version of the table\n",
    "\n",
    "If our dataset is too big, or we simply don't need to get exact numbers for our queries, we can use the [sampling functionality](https://experienceleague.adobe.com/docs/experience-platform/query/sql/dataset-samples.html?lang=en) available in Query Service. This happens in multiple steps:\n",
    "- First we have to **analyze** the table to create an actual sample with a specific sampling ratio.\n",
    "- Then we can query the actual sample created which will automatically extrapolate the numbers to the full dataset.\n",
    "\n",
    "As an example below, this is how we start by analyzing the table and creating a 5% sample:"
   ]
  },
  {
   "cell_type": "code",
   "execution_count": null,
   "id": "a0e10613",
   "metadata": {},
   "outputs": [],
   "source": [
    "# A sampling rate of 10 is 100% in Query Service, so for 5% we have to use 0.5\n",
    "sampling_rate = 0.5"
   ]
  },
  {
   "cell_type": "code",
   "execution_count": null,
   "id": "b752fa97",
   "metadata": {},
   "outputs": [
    {
     "ename": "SyntaxError",
     "evalue": "ErrorCode: 22000 A uniform random sample with the sample sampling rate already exist for this table \"cmle_synthetic_data_experience_event_dataset_created_by_jeremypa\", Please create the sample with different sampling rate.\n",
     "output_type": "error",
     "traceback": [
      "\u001b[0;31m---------------------------------------------------------------------------\u001b[0m\n",
      "\u001b[0;31mSyntaxError\u001b[0m                               Traceback (most recent call last)\n",
      "\u001b[1;32m/Users/jeremypage/Library/CloudStorage/OneDrive-Adobe/Projects/Cloud ML/aep-cloud-ml-ecosystem/notebooks/EDA_Featurization.ipynb Cell 27\u001b[0m line \u001b[0;36m5\n",
      "\u001b[1;32m      <a href='vscode-notebook-cell:/Users/jeremypage/Library/CloudStorage/OneDrive-Adobe/Projects/Cloud%20ML/aep-cloud-ml-ecosystem/notebooks/EDA_Featurization.ipynb#Y240sZmlsZQ%3D%3D?line=0'>1</a>\u001b[0m analyze_table_query\u001b[39m=\u001b[39m\u001b[39mf\u001b[39m\u001b[39m\"\"\"\u001b[39m\n",
      "\u001b[1;32m      <a href='vscode-notebook-cell:/Users/jeremypage/Library/CloudStorage/OneDrive-Adobe/Projects/Cloud%20ML/aep-cloud-ml-ecosystem/notebooks/EDA_Featurization.ipynb#Y240sZmlsZQ%3D%3D?line=1'>2</a>\u001b[0m \u001b[39mSET aqp=true; \u001b[39m\n",
      "\u001b[1;32m      <a href='vscode-notebook-cell:/Users/jeremypage/Library/CloudStorage/OneDrive-Adobe/Projects/Cloud%20ML/aep-cloud-ml-ecosystem/notebooks/EDA_Featurization.ipynb#Y240sZmlsZQ%3D%3D?line=2'>3</a>\u001b[0m \n",
      "\u001b[1;32m      <a href='vscode-notebook-cell:/Users/jeremypage/Library/CloudStorage/OneDrive-Adobe/Projects/Cloud%20ML/aep-cloud-ml-ecosystem/notebooks/EDA_Featurization.ipynb#Y240sZmlsZQ%3D%3D?line=3'>4</a>\u001b[0m \u001b[39mANALYZE TABLE \u001b[39m\u001b[39m{\u001b[39;00mtable_name\u001b[39m}\u001b[39;00m\u001b[39m TABLESAMPLE SAMPLERATE \u001b[39m\u001b[39m{\u001b[39;00msampling_rate\u001b[39m}\u001b[39;00m\u001b[39m\"\"\"\u001b[39m\n",
      "\u001b[0;32m----> <a href='vscode-notebook-cell:/Users/jeremypage/Library/CloudStorage/OneDrive-Adobe/Projects/Cloud%20ML/aep-cloud-ml-ecosystem/notebooks/EDA_Featurization.ipynb#Y240sZmlsZQ%3D%3D?line=4'>5</a>\u001b[0m qs_cursor\u001b[39m.\u001b[39;49mquery(analyze_table_query, output\u001b[39m=\u001b[39;49m\u001b[39m\"\u001b[39;49m\u001b[39mraw\u001b[39;49m\u001b[39m\"\u001b[39;49m)\n",
      "\n",
      "File \u001b[0;32m~/.pyenv/versions/3.11.5/envs/cmle/lib/python3.11/site-packages/aepp/queryservice.py:1097\u001b[0m, in \u001b[0;36mInteractiveQuery2.query\u001b[0;34m(self, sql, output)\u001b[0m\n",
      "\u001b[1;32m   1095\u001b[0m     \u001b[39mself\u001b[39m\u001b[39m.\u001b[39mlogger\u001b[39m.\u001b[39mdebug(\u001b[39mf\u001b[39m\u001b[39m\"\u001b[39m\u001b[39mStarting query:\u001b[39m\u001b[39m\\n\u001b[39;00m\u001b[39m \u001b[39m\u001b[39m{\u001b[39;00msql\u001b[39m}\u001b[39;00m\u001b[39m\"\u001b[39m)\n",
      "\u001b[1;32m   1096\u001b[0m cursor \u001b[39m=\u001b[39m \u001b[39mself\u001b[39m\u001b[39m.\u001b[39mconnect\u001b[39m.\u001b[39mcursor()\n",
      "\u001b[0;32m-> 1097\u001b[0m cursor\u001b[39m.\u001b[39;49mexecute(sql)\n",
      "\u001b[1;32m   1098\u001b[0m \u001b[39mif\u001b[39;00m output \u001b[39m==\u001b[39m \u001b[39m\"\u001b[39m\u001b[39mraw\u001b[39m\u001b[39m\"\u001b[39m:\n",
      "\u001b[1;32m   1099\u001b[0m     \u001b[39mreturn\u001b[39;00m cursor\n",
      "\n",
      "\u001b[0;31mSyntaxError\u001b[0m: ErrorCode: 22000 A uniform random sample with the sample sampling rate already exist for this table \"cmle_synthetic_data_experience_event_dataset_created_by_jeremypa\", Please create the sample with different sampling rate.\n"
     ]
    }
   ],
   "source": [
    "analyze_table_query=f\"\"\"\n",
    "SET aqp=true; \n",
    "\n",
    "ANALYZE TABLE {table_name} TABLESAMPLE SAMPLERATE {sampling_rate}\"\"\"\n",
    "qs_cursor.query(analyze_table_query, output=\"raw\")"
   ]
  },
  {
   "cell_type": "markdown",
   "id": "1504497c",
   "metadata": {},
   "source": [
    "If we want to see all the different samples available for our table, we can use the `sample_meta` function which will have an entry for each sample pointing to that sample's dataset ID and table name as well as the recorded sampling ratio."
   ]
  },
  {
   "cell_type": "code",
   "execution_count": null,
   "id": "51862983",
   "metadata": {},
   "outputs": [
    {
     "data": {
      "text/html": [
       "<div>\n",
       "<style scoped>\n",
       "    .dataframe tbody tr th:only-of-type {\n",
       "        vertical-align: middle;\n",
       "    }\n",
       "\n",
       "    .dataframe tbody tr th {\n",
       "        vertical-align: top;\n",
       "    }\n",
       "\n",
       "    .dataframe thead th {\n",
       "        text-align: right;\n",
       "    }\n",
       "</style>\n",
       "<table border=\"1\" class=\"dataframe\">\n",
       "  <thead>\n",
       "    <tr style=\"text-align: right;\">\n",
       "      <th></th>\n",
       "      <th>sample_table_name</th>\n",
       "      <th>sample_dataset_id</th>\n",
       "      <th>parent_dataset_id</th>\n",
       "      <th>sample_type</th>\n",
       "      <th>sampling_rate</th>\n",
       "      <th>filter_condition_on_source_dataset</th>\n",
       "      <th>sample_num_rows</th>\n",
       "      <th>created</th>\n",
       "    </tr>\n",
       "  </thead>\n",
       "  <tbody>\n",
       "    <tr>\n",
       "      <th>0</th>\n",
       "      <td>cmle_synthetic_data_experience_event_dataset_c...</td>\n",
       "      <td>650f7a09ed6c3e28d34d7fc2</td>\n",
       "      <td>64fb4d7a7d748828d304a2f4</td>\n",
       "      <td>uniform</td>\n",
       "      <td>0.5</td>\n",
       "      <td></td>\n",
       "      <td>6427</td>\n",
       "      <td>23/09/2023 11:51:37</td>\n",
       "    </tr>\n",
       "  </tbody>\n",
       "</table>\n",
       "</div>"
      ],
      "text/plain": [
       "                                   sample_table_name  \\\n",
       "0  cmle_synthetic_data_experience_event_dataset_c...   \n",
       "\n",
       "          sample_dataset_id         parent_dataset_id sample_type  \\\n",
       "0  650f7a09ed6c3e28d34d7fc2  64fb4d7a7d748828d304a2f4     uniform   \n",
       "\n",
       "   sampling_rate filter_condition_on_source_dataset  sample_num_rows  \\\n",
       "0            0.5                                                6427   \n",
       "\n",
       "               created  \n",
       "0  23/09/2023 11:51:37  "
      ]
     },
     "metadata": {},
     "output_type": "display_data"
    }
   ],
   "source": [
    "sampled_version_of_table_query = f'''SELECT sample_meta('{table_name}')'''\n",
    "\n",
    "df_samples = qs_cursor.query(sampled_version_of_table_query, output=\"dataframe\")\n",
    "df_samples"
   ]
  },
  {
   "cell_type": "markdown",
   "id": "90bd1d15",
   "metadata": {},
   "source": [
    "So now let's compare what happens when we run the same query on both the original table, and our 5% sample. We're using a very simple query to just do a `COUNT` to compare both the accuracy of the result, and also how much faster it is."
   ]
  },
  {
   "cell_type": "code",
   "execution_count": null,
   "id": "e916b163",
   "metadata": {},
   "outputs": [
    {
     "name": "stdout",
     "output_type": "stream",
     "text": [
      "CPU times: user 1.73 ms, sys: 2.08 ms, total: 3.81 ms\n",
      "Wall time: 2.98 s\n"
     ]
    },
    {
     "data": {
      "text/html": [
       "<div>\n",
       "<style scoped>\n",
       "    .dataframe tbody tr th:only-of-type {\n",
       "        vertical-align: middle;\n",
       "    }\n",
       "\n",
       "    .dataframe tbody tr th {\n",
       "        vertical-align: top;\n",
       "    }\n",
       "\n",
       "    .dataframe thead th {\n",
       "        text-align: right;\n",
       "    }\n",
       "</style>\n",
       "<table border=\"1\" class=\"dataframe\">\n",
       "  <thead>\n",
       "    <tr style=\"text-align: right;\">\n",
       "      <th></th>\n",
       "      <th>count(1)</th>\n",
       "    </tr>\n",
       "  </thead>\n",
       "  <tbody>\n",
       "    <tr>\n",
       "      <th>0</th>\n",
       "      <td>1276563</td>\n",
       "    </tr>\n",
       "  </tbody>\n",
       "</table>\n",
       "</div>"
      ],
      "text/plain": [
       "   count(1)\n",
       "0   1276563"
      ]
     },
     "metadata": {},
     "output_type": "display_data"
    }
   ],
   "source": [
    "%%time\n",
    "count_query=f'''SELECT count(*) from {table_name}'''\n",
    "df = qs_cursor.query(count_query, output=\"dataframe\")\n",
    "df"
   ]
  },
  {
   "cell_type": "markdown",
   "id": "9fd21393",
   "metadata": {},
   "source": [
    "To query the sample we get the sampling table name from the metadata above, and then query it directly and multiply the results by the sampling ratio to get an estimate."
   ]
  },
  {
   "cell_type": "code",
   "execution_count": null,
   "id": "a6cb3453",
   "metadata": {},
   "outputs": [
    {
     "data": {
      "text/plain": [
       "'cmle_synthetic_data_experience_event_dataset_creat_sample_0_5'"
      ]
     },
     "metadata": {},
     "output_type": "display_data"
    }
   ],
   "source": [
    "sample_table_name = df_samples[df_samples[\"sampling_rate\"] == sampling_rate][\"sample_table_name\"].iloc[0]\n",
    "sample_table_name"
   ]
  },
  {
   "cell_type": "code",
   "execution_count": null,
   "id": "c1503ec5",
   "metadata": {},
   "outputs": [
    {
     "name": "stdout",
     "output_type": "stream",
     "text": [
      "Approximate count: 1284600.0 using 5.0% sample\n",
      "CPU times: user 2.52 ms, sys: 2.85 ms, total: 5.37 ms\n",
      "Wall time: 2.96 s\n"
     ]
    }
   ],
   "source": [
    "%%time\n",
    "count_query=f'''SELECT count(*) as cnt from {sample_table_name}'''\n",
    "df = qs_cursor.query(count_query, output=\"dataframe\")\n",
    "approx_count = df[\"cnt\"].iloc[0] / (sampling_rate / 100)\n",
    "print(f\"Approximate count: {approx_count} using {sampling_rate *10}% sample\")"
   ]
  },
  {
   "cell_type": "markdown",
   "id": "1e29ac43",
   "metadata": {},
   "source": [
    "<div class=\"alert alert-block alert-warning\">\n",
    "<b>Note:</b>\n",
    "    \n",
    "You can also query the latest sample from that dataset by using `SELECT * from {table_name} WITHAPPROXIMATE` however it is not advised to do aggregation queries or joins with that since this is only a uniform random sample.\n",
    "</div>"
   ]
  },
  {
   "cell_type": "markdown",
   "id": "03bac5ff",
   "metadata": {},
   "source": [
    "We can see that the results are pretty accurate <1% error, and also the runtime is reduced by at least 20%, so using samples are a good choice for featurization data if we have a ML model that is not necessarily data-hungry."
   ]
  },
  {
   "cell_type": "markdown",
   "id": "23a3a504",
   "metadata": {},
   "source": [
    "## 2.3 Email Funnel Analysis\n",
    "\n",
    "Let's look at the funnel of how many users actually fill out the webForm. A funnel analysis is a method of understanding the steps required to reach an outcome on a website and how many users get through each of those steps."
   ]
  },
  {
   "cell_type": "code",
   "execution_count": null,
   "id": "39768f28",
   "metadata": {},
   "outputs": [
    {
     "data": {
      "text/html": [
       "<div>\n",
       "<style scoped>\n",
       "    .dataframe tbody tr th:only-of-type {\n",
       "        vertical-align: middle;\n",
       "    }\n",
       "\n",
       "    .dataframe tbody tr th {\n",
       "        vertical-align: top;\n",
       "    }\n",
       "\n",
       "    .dataframe thead th {\n",
       "        text-align: right;\n",
       "    }\n",
       "</style>\n",
       "<table border=\"1\" class=\"dataframe\">\n",
       "  <thead>\n",
       "    <tr style=\"text-align: right;\">\n",
       "      <th></th>\n",
       "      <th>eventType</th>\n",
       "      <th>distinctUsers</th>\n",
       "      <th>distinctEvents</th>\n",
       "    </tr>\n",
       "  </thead>\n",
       "  <tbody>\n",
       "    <tr>\n",
       "      <th>0</th>\n",
       "      <td>directMarketing.emailSent</td>\n",
       "      <td>598840</td>\n",
       "      <td>598840</td>\n",
       "    </tr>\n",
       "    <tr>\n",
       "      <th>1</th>\n",
       "      <td>directMarketing.emailOpened</td>\n",
       "      <td>239028</td>\n",
       "      <td>239028</td>\n",
       "    </tr>\n",
       "    <tr>\n",
       "      <th>2</th>\n",
       "      <td>web.webpagedetails.pageViews</td>\n",
       "      <td>120118</td>\n",
       "      <td>120118</td>\n",
       "    </tr>\n",
       "    <tr>\n",
       "      <th>3</th>\n",
       "      <td>advertising.impressions</td>\n",
       "      <td>119669</td>\n",
       "      <td>119669</td>\n",
       "    </tr>\n",
       "    <tr>\n",
       "      <th>4</th>\n",
       "      <td>directMarketing.emailClicked</td>\n",
       "      <td>51581</td>\n",
       "      <td>51581</td>\n",
       "    </tr>\n",
       "    <tr>\n",
       "      <th>5</th>\n",
       "      <td>commerce.productViews</td>\n",
       "      <td>37915</td>\n",
       "      <td>37915</td>\n",
       "    </tr>\n",
       "    <tr>\n",
       "      <th>6</th>\n",
       "      <td>decisioning.propositionDisplay</td>\n",
       "      <td>37650</td>\n",
       "      <td>37650</td>\n",
       "    </tr>\n",
       "    <tr>\n",
       "      <th>7</th>\n",
       "      <td>web.webinteraction.linkClicks</td>\n",
       "      <td>37581</td>\n",
       "      <td>37581</td>\n",
       "    </tr>\n",
       "    <tr>\n",
       "      <th>8</th>\n",
       "      <td>web.formFilledOut</td>\n",
       "      <td>17860</td>\n",
       "      <td>17860</td>\n",
       "    </tr>\n",
       "    <tr>\n",
       "      <th>9</th>\n",
       "      <td>advertising.clicks</td>\n",
       "      <td>7610</td>\n",
       "      <td>7610</td>\n",
       "    </tr>\n",
       "    <tr>\n",
       "      <th>10</th>\n",
       "      <td>decisioning.propositionInteract</td>\n",
       "      <td>2964</td>\n",
       "      <td>2964</td>\n",
       "    </tr>\n",
       "    <tr>\n",
       "      <th>11</th>\n",
       "      <td>decisioning.propositionDismiss</td>\n",
       "      <td>2889</td>\n",
       "      <td>2889</td>\n",
       "    </tr>\n",
       "    <tr>\n",
       "      <th>12</th>\n",
       "      <td>commerce.purchases</td>\n",
       "      <td>2858</td>\n",
       "      <td>2858</td>\n",
       "    </tr>\n",
       "  </tbody>\n",
       "</table>\n",
       "</div>"
      ],
      "text/plain": [
       "                          eventType  distinctUsers  distinctEvents\n",
       "0         directMarketing.emailSent         598840          598840\n",
       "1       directMarketing.emailOpened         239028          239028\n",
       "2      web.webpagedetails.pageViews         120118          120118\n",
       "3           advertising.impressions         119669          119669\n",
       "4      directMarketing.emailClicked          51581           51581\n",
       "5             commerce.productViews          37915           37915\n",
       "6    decisioning.propositionDisplay          37650           37650\n",
       "7     web.webinteraction.linkClicks          37581           37581\n",
       "8                 web.formFilledOut          17860           17860\n",
       "9                advertising.clicks           7610            7610\n",
       "10  decisioning.propositionInteract           2964            2964\n",
       "11   decisioning.propositionDismiss           2889            2889\n",
       "12               commerce.purchases           2858            2858"
      ]
     },
     "metadata": {},
     "output_type": "display_data"
    }
   ],
   "source": [
    "simple_funnel_analysis_query = f'''SELECT eventType, COUNT(DISTINCT _id) as \"distinctUsers\",COUNT(_id) as \"distinctEvents\" FROM {table_name} GROUP BY eventType ORDER BY distinctUsers DESC'''\n",
    "funnel_df = qs_cursor.query(simple_funnel_analysis_query, output=\"dataframe\")\n",
    "funnel_df"
   ]
  },
  {
   "cell_type": "markdown",
   "id": "b1442c2c",
   "metadata": {},
   "source": [
    "Here, we launch a query to get number of users in each phase"
   ]
  },
  {
   "cell_type": "code",
   "execution_count": null,
   "id": "d44e3438",
   "metadata": {},
   "outputs": [
    {
     "data": {
      "application/vnd.plotly.v1+json": {
       "config": {
        "plotlyServerURL": "https://plot.ly"
       },
       "data": [
        {
         "hovertemplate": "distinctUsers=%{x}<br>eventType=%{y}<extra></extra>",
         "legendgroup": "",
         "marker": {
          "color": "#636efa"
         },
         "name": "",
         "orientation": "h",
         "showlegend": false,
         "type": "funnel",
         "x": [
          598840,
          239028,
          51581,
          17860
         ],
         "xaxis": "x",
         "y": [
          "directMarketing.emailSent",
          "directMarketing.emailOpened",
          "directMarketing.emailClicked",
          "web.formFilledOut"
         ],
         "yaxis": "y"
        }
       ],
       "layout": {
        "legend": {
         "tracegroupgap": 0
        },
        "margin": {
         "t": 60
        },
        "template": {
         "data": {
          "bar": [
           {
            "error_x": {
             "color": "#2a3f5f"
            },
            "error_y": {
             "color": "#2a3f5f"
            },
            "marker": {
             "line": {
              "color": "#E5ECF6",
              "width": 0.5
             },
             "pattern": {
              "fillmode": "overlay",
              "size": 10,
              "solidity": 0.2
             }
            },
            "type": "bar"
           }
          ],
          "barpolar": [
           {
            "marker": {
             "line": {
              "color": "#E5ECF6",
              "width": 0.5
             },
             "pattern": {
              "fillmode": "overlay",
              "size": 10,
              "solidity": 0.2
             }
            },
            "type": "barpolar"
           }
          ],
          "carpet": [
           {
            "aaxis": {
             "endlinecolor": "#2a3f5f",
             "gridcolor": "white",
             "linecolor": "white",
             "minorgridcolor": "white",
             "startlinecolor": "#2a3f5f"
            },
            "baxis": {
             "endlinecolor": "#2a3f5f",
             "gridcolor": "white",
             "linecolor": "white",
             "minorgridcolor": "white",
             "startlinecolor": "#2a3f5f"
            },
            "type": "carpet"
           }
          ],
          "choropleth": [
           {
            "colorbar": {
             "outlinewidth": 0,
             "ticks": ""
            },
            "type": "choropleth"
           }
          ],
          "contour": [
           {
            "colorbar": {
             "outlinewidth": 0,
             "ticks": ""
            },
            "colorscale": [
             [
              0,
              "#0d0887"
             ],
             [
              0.1111111111111111,
              "#46039f"
             ],
             [
              0.2222222222222222,
              "#7201a8"
             ],
             [
              0.3333333333333333,
              "#9c179e"
             ],
             [
              0.4444444444444444,
              "#bd3786"
             ],
             [
              0.5555555555555556,
              "#d8576b"
             ],
             [
              0.6666666666666666,
              "#ed7953"
             ],
             [
              0.7777777777777778,
              "#fb9f3a"
             ],
             [
              0.8888888888888888,
              "#fdca26"
             ],
             [
              1,
              "#f0f921"
             ]
            ],
            "type": "contour"
           }
          ],
          "contourcarpet": [
           {
            "colorbar": {
             "outlinewidth": 0,
             "ticks": ""
            },
            "type": "contourcarpet"
           }
          ],
          "heatmap": [
           {
            "colorbar": {
             "outlinewidth": 0,
             "ticks": ""
            },
            "colorscale": [
             [
              0,
              "#0d0887"
             ],
             [
              0.1111111111111111,
              "#46039f"
             ],
             [
              0.2222222222222222,
              "#7201a8"
             ],
             [
              0.3333333333333333,
              "#9c179e"
             ],
             [
              0.4444444444444444,
              "#bd3786"
             ],
             [
              0.5555555555555556,
              "#d8576b"
             ],
             [
              0.6666666666666666,
              "#ed7953"
             ],
             [
              0.7777777777777778,
              "#fb9f3a"
             ],
             [
              0.8888888888888888,
              "#fdca26"
             ],
             [
              1,
              "#f0f921"
             ]
            ],
            "type": "heatmap"
           }
          ],
          "heatmapgl": [
           {
            "colorbar": {
             "outlinewidth": 0,
             "ticks": ""
            },
            "colorscale": [
             [
              0,
              "#0d0887"
             ],
             [
              0.1111111111111111,
              "#46039f"
             ],
             [
              0.2222222222222222,
              "#7201a8"
             ],
             [
              0.3333333333333333,
              "#9c179e"
             ],
             [
              0.4444444444444444,
              "#bd3786"
             ],
             [
              0.5555555555555556,
              "#d8576b"
             ],
             [
              0.6666666666666666,
              "#ed7953"
             ],
             [
              0.7777777777777778,
              "#fb9f3a"
             ],
             [
              0.8888888888888888,
              "#fdca26"
             ],
             [
              1,
              "#f0f921"
             ]
            ],
            "type": "heatmapgl"
           }
          ],
          "histogram": [
           {
            "marker": {
             "pattern": {
              "fillmode": "overlay",
              "size": 10,
              "solidity": 0.2
             }
            },
            "type": "histogram"
           }
          ],
          "histogram2d": [
           {
            "colorbar": {
             "outlinewidth": 0,
             "ticks": ""
            },
            "colorscale": [
             [
              0,
              "#0d0887"
             ],
             [
              0.1111111111111111,
              "#46039f"
             ],
             [
              0.2222222222222222,
              "#7201a8"
             ],
             [
              0.3333333333333333,
              "#9c179e"
             ],
             [
              0.4444444444444444,
              "#bd3786"
             ],
             [
              0.5555555555555556,
              "#d8576b"
             ],
             [
              0.6666666666666666,
              "#ed7953"
             ],
             [
              0.7777777777777778,
              "#fb9f3a"
             ],
             [
              0.8888888888888888,
              "#fdca26"
             ],
             [
              1,
              "#f0f921"
             ]
            ],
            "type": "histogram2d"
           }
          ],
          "histogram2dcontour": [
           {
            "colorbar": {
             "outlinewidth": 0,
             "ticks": ""
            },
            "colorscale": [
             [
              0,
              "#0d0887"
             ],
             [
              0.1111111111111111,
              "#46039f"
             ],
             [
              0.2222222222222222,
              "#7201a8"
             ],
             [
              0.3333333333333333,
              "#9c179e"
             ],
             [
              0.4444444444444444,
              "#bd3786"
             ],
             [
              0.5555555555555556,
              "#d8576b"
             ],
             [
              0.6666666666666666,
              "#ed7953"
             ],
             [
              0.7777777777777778,
              "#fb9f3a"
             ],
             [
              0.8888888888888888,
              "#fdca26"
             ],
             [
              1,
              "#f0f921"
             ]
            ],
            "type": "histogram2dcontour"
           }
          ],
          "mesh3d": [
           {
            "colorbar": {
             "outlinewidth": 0,
             "ticks": ""
            },
            "type": "mesh3d"
           }
          ],
          "parcoords": [
           {
            "line": {
             "colorbar": {
              "outlinewidth": 0,
              "ticks": ""
             }
            },
            "type": "parcoords"
           }
          ],
          "pie": [
           {
            "automargin": true,
            "type": "pie"
           }
          ],
          "scatter": [
           {
            "fillpattern": {
             "fillmode": "overlay",
             "size": 10,
             "solidity": 0.2
            },
            "type": "scatter"
           }
          ],
          "scatter3d": [
           {
            "line": {
             "colorbar": {
              "outlinewidth": 0,
              "ticks": ""
             }
            },
            "marker": {
             "colorbar": {
              "outlinewidth": 0,
              "ticks": ""
             }
            },
            "type": "scatter3d"
           }
          ],
          "scattercarpet": [
           {
            "marker": {
             "colorbar": {
              "outlinewidth": 0,
              "ticks": ""
             }
            },
            "type": "scattercarpet"
           }
          ],
          "scattergeo": [
           {
            "marker": {
             "colorbar": {
              "outlinewidth": 0,
              "ticks": ""
             }
            },
            "type": "scattergeo"
           }
          ],
          "scattergl": [
           {
            "marker": {
             "colorbar": {
              "outlinewidth": 0,
              "ticks": ""
             }
            },
            "type": "scattergl"
           }
          ],
          "scattermapbox": [
           {
            "marker": {
             "colorbar": {
              "outlinewidth": 0,
              "ticks": ""
             }
            },
            "type": "scattermapbox"
           }
          ],
          "scatterpolar": [
           {
            "marker": {
             "colorbar": {
              "outlinewidth": 0,
              "ticks": ""
             }
            },
            "type": "scatterpolar"
           }
          ],
          "scatterpolargl": [
           {
            "marker": {
             "colorbar": {
              "outlinewidth": 0,
              "ticks": ""
             }
            },
            "type": "scatterpolargl"
           }
          ],
          "scatterternary": [
           {
            "marker": {
             "colorbar": {
              "outlinewidth": 0,
              "ticks": ""
             }
            },
            "type": "scatterternary"
           }
          ],
          "surface": [
           {
            "colorbar": {
             "outlinewidth": 0,
             "ticks": ""
            },
            "colorscale": [
             [
              0,
              "#0d0887"
             ],
             [
              0.1111111111111111,
              "#46039f"
             ],
             [
              0.2222222222222222,
              "#7201a8"
             ],
             [
              0.3333333333333333,
              "#9c179e"
             ],
             [
              0.4444444444444444,
              "#bd3786"
             ],
             [
              0.5555555555555556,
              "#d8576b"
             ],
             [
              0.6666666666666666,
              "#ed7953"
             ],
             [
              0.7777777777777778,
              "#fb9f3a"
             ],
             [
              0.8888888888888888,
              "#fdca26"
             ],
             [
              1,
              "#f0f921"
             ]
            ],
            "type": "surface"
           }
          ],
          "table": [
           {
            "cells": {
             "fill": {
              "color": "#EBF0F8"
             },
             "line": {
              "color": "white"
             }
            },
            "header": {
             "fill": {
              "color": "#C8D4E3"
             },
             "line": {
              "color": "white"
             }
            },
            "type": "table"
           }
          ]
         },
         "layout": {
          "annotationdefaults": {
           "arrowcolor": "#2a3f5f",
           "arrowhead": 0,
           "arrowwidth": 1
          },
          "autotypenumbers": "strict",
          "coloraxis": {
           "colorbar": {
            "outlinewidth": 0,
            "ticks": ""
           }
          },
          "colorscale": {
           "diverging": [
            [
             0,
             "#8e0152"
            ],
            [
             0.1,
             "#c51b7d"
            ],
            [
             0.2,
             "#de77ae"
            ],
            [
             0.3,
             "#f1b6da"
            ],
            [
             0.4,
             "#fde0ef"
            ],
            [
             0.5,
             "#f7f7f7"
            ],
            [
             0.6,
             "#e6f5d0"
            ],
            [
             0.7,
             "#b8e186"
            ],
            [
             0.8,
             "#7fbc41"
            ],
            [
             0.9,
             "#4d9221"
            ],
            [
             1,
             "#276419"
            ]
           ],
           "sequential": [
            [
             0,
             "#0d0887"
            ],
            [
             0.1111111111111111,
             "#46039f"
            ],
            [
             0.2222222222222222,
             "#7201a8"
            ],
            [
             0.3333333333333333,
             "#9c179e"
            ],
            [
             0.4444444444444444,
             "#bd3786"
            ],
            [
             0.5555555555555556,
             "#d8576b"
            ],
            [
             0.6666666666666666,
             "#ed7953"
            ],
            [
             0.7777777777777778,
             "#fb9f3a"
            ],
            [
             0.8888888888888888,
             "#fdca26"
            ],
            [
             1,
             "#f0f921"
            ]
           ],
           "sequentialminus": [
            [
             0,
             "#0d0887"
            ],
            [
             0.1111111111111111,
             "#46039f"
            ],
            [
             0.2222222222222222,
             "#7201a8"
            ],
            [
             0.3333333333333333,
             "#9c179e"
            ],
            [
             0.4444444444444444,
             "#bd3786"
            ],
            [
             0.5555555555555556,
             "#d8576b"
            ],
            [
             0.6666666666666666,
             "#ed7953"
            ],
            [
             0.7777777777777778,
             "#fb9f3a"
            ],
            [
             0.8888888888888888,
             "#fdca26"
            ],
            [
             1,
             "#f0f921"
            ]
           ]
          },
          "colorway": [
           "#636efa",
           "#EF553B",
           "#00cc96",
           "#ab63fa",
           "#FFA15A",
           "#19d3f3",
           "#FF6692",
           "#B6E880",
           "#FF97FF",
           "#FECB52"
          ],
          "font": {
           "color": "#2a3f5f"
          },
          "geo": {
           "bgcolor": "white",
           "lakecolor": "white",
           "landcolor": "#E5ECF6",
           "showlakes": true,
           "showland": true,
           "subunitcolor": "white"
          },
          "hoverlabel": {
           "align": "left"
          },
          "hovermode": "closest",
          "mapbox": {
           "style": "light"
          },
          "paper_bgcolor": "white",
          "plot_bgcolor": "#E5ECF6",
          "polar": {
           "angularaxis": {
            "gridcolor": "white",
            "linecolor": "white",
            "ticks": ""
           },
           "bgcolor": "#E5ECF6",
           "radialaxis": {
            "gridcolor": "white",
            "linecolor": "white",
            "ticks": ""
           }
          },
          "scene": {
           "xaxis": {
            "backgroundcolor": "#E5ECF6",
            "gridcolor": "white",
            "gridwidth": 2,
            "linecolor": "white",
            "showbackground": true,
            "ticks": "",
            "zerolinecolor": "white"
           },
           "yaxis": {
            "backgroundcolor": "#E5ECF6",
            "gridcolor": "white",
            "gridwidth": 2,
            "linecolor": "white",
            "showbackground": true,
            "ticks": "",
            "zerolinecolor": "white"
           },
           "zaxis": {
            "backgroundcolor": "#E5ECF6",
            "gridcolor": "white",
            "gridwidth": 2,
            "linecolor": "white",
            "showbackground": true,
            "ticks": "",
            "zerolinecolor": "white"
           }
          },
          "shapedefaults": {
           "line": {
            "color": "#2a3f5f"
           }
          },
          "ternary": {
           "aaxis": {
            "gridcolor": "white",
            "linecolor": "white",
            "ticks": ""
           },
           "baxis": {
            "gridcolor": "white",
            "linecolor": "white",
            "ticks": ""
           },
           "bgcolor": "#E5ECF6",
           "caxis": {
            "gridcolor": "white",
            "linecolor": "white",
            "ticks": ""
           }
          },
          "title": {
           "x": 0.05
          },
          "xaxis": {
           "automargin": true,
           "gridcolor": "white",
           "linecolor": "white",
           "ticks": "",
           "title": {
            "standoff": 15
           },
           "zerolinecolor": "white",
           "zerolinewidth": 2
          },
          "yaxis": {
           "automargin": true,
           "gridcolor": "white",
           "linecolor": "white",
           "ticks": "",
           "title": {
            "standoff": 15
           },
           "zerolinecolor": "white",
           "zerolinewidth": 2
          }
         }
        },
        "xaxis": {
         "anchor": "y",
         "domain": [
          0,
          1
         ],
         "title": {
          "text": "distinctUsers"
         }
        },
        "yaxis": {
         "anchor": "x",
         "domain": [
          0,
          1
         ],
         "title": {
          "text": "eventType"
         }
        }
       }
      }
     },
     "metadata": {},
     "output_type": "display_data"
    }
   ],
   "source": [
    "import plotly.express as px\n",
    "\n",
    "email_funnel_events = [\"directMarketing.emailSent\", \"directMarketing.emailOpened\", \"directMarketing.emailClicked\", \"web.formFilledOut\"]\n",
    "email_funnel_df = funnel_df[funnel_df[\"eventType\"].isin(email_funnel_events)]\n",
    "\n",
    "fig = px.funnel(email_funnel_df, y='eventType', x='distinctUsers')\n",
    "fig.show()"
   ]
  },
  {
   "cell_type": "markdown",
   "id": "9eb60334",
   "metadata": {},
   "source": [
    "## 2.4 Event correlation\n",
    "Now, we analyze the correlation between various types of events. \n",
    "\n",
    "We'll look for which events predict the `web.formFilledOut` outcome. \n",
    "\n",
    "To do this, we must execute a more complex join query."
   ]
  },
  {
   "cell_type": "code",
   "execution_count": null,
   "id": "3f07b35a",
   "metadata": {},
   "outputs": [
    {
     "data": {
      "text/html": [
       "<div>\n",
       "<style scoped>\n",
       "    .dataframe tbody tr th:only-of-type {\n",
       "        vertical-align: middle;\n",
       "    }\n",
       "\n",
       "    .dataframe tbody tr th {\n",
       "        vertical-align: top;\n",
       "    }\n",
       "\n",
       "    .dataframe thead th {\n",
       "        text-align: right;\n",
       "    }\n",
       "</style>\n",
       "<table border=\"1\" class=\"dataframe\">\n",
       "  <thead>\n",
       "    <tr style=\"text-align: right;\">\n",
       "      <th></th>\n",
       "      <th>eventType_First</th>\n",
       "      <th>eventType_Later</th>\n",
       "      <th>distinctUsers</th>\n",
       "    </tr>\n",
       "  </thead>\n",
       "  <tbody>\n",
       "    <tr>\n",
       "      <th>0</th>\n",
       "      <td>directMarketing.emailSent</td>\n",
       "      <td>directMarketing.emailSent</td>\n",
       "      <td>99375</td>\n",
       "    </tr>\n",
       "    <tr>\n",
       "      <th>1</th>\n",
       "      <td>directMarketing.emailOpened</td>\n",
       "      <td>directMarketing.emailOpened</td>\n",
       "      <td>87171</td>\n",
       "    </tr>\n",
       "    <tr>\n",
       "      <th>2</th>\n",
       "      <td>directMarketing.emailSent</td>\n",
       "      <td>directMarketing.emailOpened</td>\n",
       "      <td>87171</td>\n",
       "    </tr>\n",
       "    <tr>\n",
       "      <th>3</th>\n",
       "      <td>directMarketing.emailOpened</td>\n",
       "      <td>directMarketing.emailSent</td>\n",
       "      <td>66394</td>\n",
       "    </tr>\n",
       "    <tr>\n",
       "      <th>4</th>\n",
       "      <td>advertising.impressions</td>\n",
       "      <td>advertising.impressions</td>\n",
       "      <td>66368</td>\n",
       "    </tr>\n",
       "    <tr>\n",
       "      <th>...</th>\n",
       "      <td>...</td>\n",
       "      <td>...</td>\n",
       "      <td>...</td>\n",
       "    </tr>\n",
       "    <tr>\n",
       "      <th>164</th>\n",
       "      <td>advertising.clicks</td>\n",
       "      <td>commerce.purchases</td>\n",
       "      <td>114</td>\n",
       "    </tr>\n",
       "    <tr>\n",
       "      <th>165</th>\n",
       "      <td>decisioning.propositionInteract</td>\n",
       "      <td>commerce.purchases</td>\n",
       "      <td>101</td>\n",
       "    </tr>\n",
       "    <tr>\n",
       "      <th>166</th>\n",
       "      <td>decisioning.propositionDismiss</td>\n",
       "      <td>commerce.purchases</td>\n",
       "      <td>89</td>\n",
       "    </tr>\n",
       "    <tr>\n",
       "      <th>167</th>\n",
       "      <td>commerce.purchases</td>\n",
       "      <td>decisioning.propositionDismiss</td>\n",
       "      <td>21</td>\n",
       "    </tr>\n",
       "    <tr>\n",
       "      <th>168</th>\n",
       "      <td>commerce.purchases</td>\n",
       "      <td>decisioning.propositionInteract</td>\n",
       "      <td>17</td>\n",
       "    </tr>\n",
       "  </tbody>\n",
       "</table>\n",
       "<p>169 rows × 3 columns</p>\n",
       "</div>"
      ],
      "text/plain": [
       "                     eventType_First                  eventType_Later  \\\n",
       "0          directMarketing.emailSent        directMarketing.emailSent   \n",
       "1        directMarketing.emailOpened      directMarketing.emailOpened   \n",
       "2          directMarketing.emailSent      directMarketing.emailOpened   \n",
       "3        directMarketing.emailOpened        directMarketing.emailSent   \n",
       "4            advertising.impressions          advertising.impressions   \n",
       "..                               ...                              ...   \n",
       "164               advertising.clicks               commerce.purchases   \n",
       "165  decisioning.propositionInteract               commerce.purchases   \n",
       "166   decisioning.propositionDismiss               commerce.purchases   \n",
       "167               commerce.purchases   decisioning.propositionDismiss   \n",
       "168               commerce.purchases  decisioning.propositionInteract   \n",
       "\n",
       "     distinctUsers  \n",
       "0            99375  \n",
       "1            87171  \n",
       "2            87171  \n",
       "3            66394  \n",
       "4            66368  \n",
       "..             ...  \n",
       "164            114  \n",
       "165            101  \n",
       "166             89  \n",
       "167             21  \n",
       "168             17  \n",
       "\n",
       "[169 rows x 3 columns]"
      ]
     },
     "metadata": {},
     "output_type": "display_data"
    }
   ],
   "source": [
    "from aepp import schema\n",
    "tenant_id = schema.Schema().getTenantId()\n",
    "\n",
    "event_correlation_query=f'''SELECT  eventType_First, eventType_Later, COUNT(DISTINCT userId) as \"distinctUsers\"\n",
    "FROM \n",
    "    (\n",
    "        SELECT a.eventType as eventType_First, \n",
    "                b.eventType as eventType_Later, \n",
    "                a._{tenant_id}.cmle_id as userID \n",
    "        FROM {table_name} a\n",
    "        JOIN {table_name} b\n",
    "        ON a._{tenant_id}.cmle_id = b._{tenant_id}.cmle_id\n",
    "        WHERE a.timestamp <= b.timestamp\n",
    "    )\n",
    "GROUP BY eventType_First, eventType_Later\n",
    "ORDER BY distinctUsers DESC'''\n",
    "event_correlation_df = qs_cursor.query(event_correlation_query, output=\"dataframe\")\n",
    "event_correlation_df"
   ]
  },
  {
   "cell_type": "markdown",
   "id": "5cd4c260",
   "metadata": {},
   "source": [
    "Now we join the results of this correlation to obtain a coocurrence matrix which we can then display to get a visual feel of which events are likely to be occurring together."
   ]
  },
  {
   "cell_type": "code",
   "execution_count": null,
   "id": "c156ba22",
   "metadata": {},
   "outputs": [],
   "source": [
    "coocc_matrix = event_correlation_df\n",
    "individual_counts = funnel_df\n",
    "cocc_with_individual = coocc_matrix.merge(individual_counts, left_on=\"eventType_First\", right_on=\"eventType\")\n",
    "cocc_with_individual[\"probability\"] = cocc_with_individual[\"distinctUsers_x\"]/ cocc_with_individual[\"distinctUsers_y\"]"
   ]
  },
  {
   "cell_type": "code",
   "execution_count": null,
   "id": "bcdf4fa6",
   "metadata": {},
   "outputs": [
    {
     "data": {
      "text/plain": [
       "<Axes: xlabel='eventType_Later', ylabel='eventType_First'>"
      ]
     },
     "metadata": {},
     "output_type": "display_data"
    },
    {
     "data": {
      "image/png": "[encoded data removed]",
      "text/plain": [
       "<Figure size 640x480 with 2 Axes>"
      ]
     },
     "metadata": {},
     "output_type": "display_data"
    }
   ],
   "source": [
    "import seaborn as sns\n",
    "\n",
    "pivoted = cocc_with_individual.pivot(index=\"eventType_First\", columns=\"eventType_Later\", values=\"probability\")\n",
    "sns.heatmap(pivoted)\n"
   ]
  },
  {
   "cell_type": "markdown",
   "id": "0d09111d",
   "metadata": {},
   "source": [
    "## 2.5 A more robust correlation calculation\n",
    "\n",
    "Let's use an in-built feature of the query service (the Spark functions) to get a better handle of correlations between various eventTypes. We'll use the `corr` function - which computes pearson correlation coefficients between a given eventType, and the target eventType"
   ]
  },
  {
   "cell_type": "markdown",
   "id": "be961ae5",
   "metadata": {},
   "source": [
    "#### Run on the full dataset"
   ]
  },
  {
   "cell_type": "code",
   "execution_count": null,
   "id": "cee012f4",
   "metadata": {},
   "outputs": [
    {
     "data": {
      "text/html": [
       "<div>\n",
       "<style scoped>\n",
       "    .dataframe tbody tr th:only-of-type {\n",
       "        vertical-align: middle;\n",
       "    }\n",
       "\n",
       "    .dataframe tbody tr th {\n",
       "        vertical-align: top;\n",
       "    }\n",
       "\n",
       "    .dataframe thead th {\n",
       "        text-align: right;\n",
       "    }\n",
       "</style>\n",
       "<table border=\"1\" class=\"dataframe\">\n",
       "  <thead>\n",
       "    <tr style=\"text-align: right;\">\n",
       "      <th></th>\n",
       "      <th>webFormsFilled_totalUsers</th>\n",
       "      <th>advertisingClicks_totalUsers</th>\n",
       "      <th>productViews_totalUsers</th>\n",
       "      <th>productPurchases_totalUsers</th>\n",
       "      <th>propositionDismisses_totaUsers</th>\n",
       "      <th>propositionDisplays_totaUsers</th>\n",
       "      <th>propositionInteracts_totalUsers</th>\n",
       "      <th>emailClicks_totalUsers</th>\n",
       "      <th>emailOpens_totalUsers</th>\n",
       "      <th>webLinksClicks_totalUsers</th>\n",
       "      <th>...</th>\n",
       "      <th>webForms_advertisingClicks</th>\n",
       "      <th>webForms_productViews</th>\n",
       "      <th>webForms_productPurchases</th>\n",
       "      <th>webForms_propositionDismisses</th>\n",
       "      <th>webForms_propositionInteracts</th>\n",
       "      <th>webForms_emailClicks</th>\n",
       "      <th>webForms_emailOpens</th>\n",
       "      <th>webForms_emailSends</th>\n",
       "      <th>webForms_webLinkClicks</th>\n",
       "      <th>webForms_webPageViews</th>\n",
       "    </tr>\n",
       "  </thead>\n",
       "  <tbody>\n",
       "    <tr>\n",
       "      <th>0</th>\n",
       "      <td>17860</td>\n",
       "      <td>7610</td>\n",
       "      <td>37915</td>\n",
       "      <td>0</td>\n",
       "      <td>2889</td>\n",
       "      <td>37650</td>\n",
       "      <td>2964</td>\n",
       "      <td>51581</td>\n",
       "      <td>239028</td>\n",
       "      <td>37581</td>\n",
       "      <td>...</td>\n",
       "      <td>0.026805</td>\n",
       "      <td>0.2779</td>\n",
       "      <td>None</td>\n",
       "      <td>0.06014</td>\n",
       "      <td>0.143656</td>\n",
       "      <td>0.305657</td>\n",
       "      <td>0.218874</td>\n",
       "      <td>0.192836</td>\n",
       "      <td>0.259353</td>\n",
       "      <td>None</td>\n",
       "    </tr>\n",
       "  </tbody>\n",
       "</table>\n",
       "<p>1 rows × 22 columns</p>\n",
       "</div>"
      ],
      "text/plain": [
       "   webFormsFilled_totalUsers  advertisingClicks_totalUsers  \\\n",
       "0                      17860                          7610   \n",
       "\n",
       "   productViews_totalUsers  productPurchases_totalUsers  \\\n",
       "0                    37915                            0   \n",
       "\n",
       "   propositionDismisses_totaUsers  propositionDisplays_totaUsers  \\\n",
       "0                            2889                          37650   \n",
       "\n",
       "   propositionInteracts_totalUsers  emailClicks_totalUsers  \\\n",
       "0                             2964                   51581   \n",
       "\n",
       "   emailOpens_totalUsers  webLinksClicks_totalUsers  ...  \\\n",
       "0                 239028                      37581  ...   \n",
       "\n",
       "   webForms_advertisingClicks  webForms_productViews  \\\n",
       "0                    0.026805                 0.2779   \n",
       "\n",
       "   webForms_productPurchases  webForms_propositionDismisses  \\\n",
       "0                       None                        0.06014   \n",
       "\n",
       "  webForms_propositionInteracts  webForms_emailClicks  webForms_emailOpens  \\\n",
       "0                      0.143656              0.305657             0.218874   \n",
       "\n",
       "   webForms_emailSends  webForms_webLinkClicks  webForms_webPageViews  \n",
       "0             0.192836                0.259353                   None  \n",
       "\n",
       "[1 rows x 22 columns]"
      ]
     },
     "metadata": {},
     "output_type": "display_data"
    }
   ],
   "source": [
    "large_correlation_query=f'''\n",
    "SELECT SUM(webFormsFilled) as webFormsFilled_totalUsers,\n",
    "       SUM(advertisingClicks) as advertisingClicks_totalUsers,\n",
    "       SUM(productViews) as productViews_totalUsers,\n",
    "       SUM(productPurchases) as productPurchases_totalUsers,\n",
    "       SUM(propositionDismisses) as propositionDismisses_totaUsers,\n",
    "       SUM(propositionDisplays) as propositionDisplays_totaUsers,\n",
    "       SUM(propositionInteracts) as propositionInteracts_totalUsers,\n",
    "       SUM(emailClicks) as emailClicks_totalUsers,\n",
    "       SUM(emailOpens) as emailOpens_totalUsers,\n",
    "       SUM(webLinkClicks) as webLinksClicks_totalUsers,\n",
    "       SUM(webPageViews) as webPageViews_totalusers,\n",
    "       corr(webFormsFilled, emailOpens) as webForms_EmailOpens,\n",
    "       corr(webFormsFilled, advertisingClicks) as webForms_advertisingClicks,\n",
    "       corr(webFormsFilled, productViews) as webForms_productViews,\n",
    "       corr(webFormsFilled, productPurchases) as webForms_productPurchases,\n",
    "       corr(webFormsFilled, propositionDismisses) as webForms_propositionDismisses,\n",
    "       corr(webFormsFilled, propositionInteracts) as webForms_propositionInteracts,\n",
    "       corr(webFormsFilled, emailClicks) as webForms_emailClicks,\n",
    "       corr(webFormsFilled, emailOpens) as webForms_emailOpens,\n",
    "       corr(webFormsFilled, emailSends) as webForms_emailSends,\n",
    "       corr(webFormsFilled, webLinkClicks) as webForms_webLinkClicks,\n",
    "       corr(webFormsFilled, webPageViews) as webForms_webPageViews\n",
    "FROM(\n",
    "    SELECT _{tenant_id}.cmle_id as userID,\n",
    "            SUM(CASE WHEN eventType='web.formFilledOut' THEN 1 ELSE 0 END) as webFormsFilled,\n",
    "            SUM(CASE WHEN eventType='advertising.clicks' THEN 1 ELSE 0 END) as advertisingClicks,\n",
    "            SUM(CASE WHEN eventType='commerce.productViews' THEN 1 ELSE 0 END) as productViews,\n",
    "            SUM(CASE WHEN eventType='commerce.productPurchases' THEN 1 ELSE 0 END) as productPurchases,\n",
    "            SUM(CASE WHEN eventType='decisioning.propositionDismiss' THEN 1 ELSE 0 END) as propositionDismisses,\n",
    "            SUM(CASE WHEN eventType='decisioning.propositionDisplay' THEN 1 ELSE 0 END) as propositionDisplays,\n",
    "            SUM(CASE WHEN eventType='decisioning.propositionInteract' THEN 1 ELSE 0 END) as propositionInteracts,\n",
    "            SUM(CASE WHEN eventType='directMarketing.emailClicked' THEN 1 ELSE 0 END) as emailClicks,\n",
    "            SUM(CASE WHEN eventType='directMarketing.emailOpened' THEN 1 ELSE 0 END) as emailOpens,\n",
    "            SUM(CASE WHEN eventType='directMarketing.emailSent' THEN 1 ELSE 0 END) as emailSends,\n",
    "            SUM(CASE WHEN eventType='web.webinteraction.linkClicks' THEN 1 ELSE 0 END) as webLinkClicks,\n",
    "            SUM(CASE WHEN eventType='web.webinteraction.pageViews' THEN 1 ELSE 0 END) as webPageViews\n",
    "    FROM {table_name}\n",
    "    GROUP BY userId\n",
    ")\n",
    "'''\n",
    "large_correlation_df = qs_cursor.query(large_correlation_query, output=\"dataframe\")\n",
    "large_correlation_df"
   ]
  },
  {
   "cell_type": "code",
   "execution_count": null,
   "id": "7e9a1c7b",
   "metadata": {},
   "outputs": [
    {
     "data": {
      "text/html": [
       "<div>\n",
       "<style scoped>\n",
       "    .dataframe tbody tr th:only-of-type {\n",
       "        vertical-align: middle;\n",
       "    }\n",
       "\n",
       "    .dataframe tbody tr th {\n",
       "        vertical-align: top;\n",
       "    }\n",
       "\n",
       "    .dataframe thead th {\n",
       "        text-align: right;\n",
       "    }\n",
       "</style>\n",
       "<table border=\"1\" class=\"dataframe\">\n",
       "  <thead>\n",
       "    <tr style=\"text-align: right;\">\n",
       "      <th></th>\n",
       "      <th>variable</th>\n",
       "      <th>value</th>\n",
       "      <th>feature</th>\n",
       "      <th>pearsonCorrelation</th>\n",
       "    </tr>\n",
       "  </thead>\n",
       "  <tbody>\n",
       "    <tr>\n",
       "      <th>0</th>\n",
       "      <td>webForms_EmalOpens</td>\n",
       "      <td>0.218874</td>\n",
       "      <td>EmalOpens</td>\n",
       "      <td>0.218874</td>\n",
       "    </tr>\n",
       "    <tr>\n",
       "      <th>1</th>\n",
       "      <td>webForms_advertisingClicks</td>\n",
       "      <td>0.026805</td>\n",
       "      <td>advertisingClicks</td>\n",
       "      <td>0.026805</td>\n",
       "    </tr>\n",
       "    <tr>\n",
       "      <th>2</th>\n",
       "      <td>webForms_productViews</td>\n",
       "      <td>0.277900</td>\n",
       "      <td>productViews</td>\n",
       "      <td>0.277900</td>\n",
       "    </tr>\n",
       "    <tr>\n",
       "      <th>3</th>\n",
       "      <td>webForms_productPurchases</td>\n",
       "      <td>0.000000</td>\n",
       "      <td>productPurchases</td>\n",
       "      <td>0.000000</td>\n",
       "    </tr>\n",
       "    <tr>\n",
       "      <th>4</th>\n",
       "      <td>webForms_propositionDismisses</td>\n",
       "      <td>0.060140</td>\n",
       "      <td>propositionDismisses</td>\n",
       "      <td>0.060140</td>\n",
       "    </tr>\n",
       "    <tr>\n",
       "      <th>5</th>\n",
       "      <td>webForms_propositionInteracts</td>\n",
       "      <td>0.143656</td>\n",
       "      <td>propositionInteracts</td>\n",
       "      <td>0.143656</td>\n",
       "    </tr>\n",
       "    <tr>\n",
       "      <th>6</th>\n",
       "      <td>webForms_emailClicks</td>\n",
       "      <td>0.305657</td>\n",
       "      <td>emailClicks</td>\n",
       "      <td>0.305657</td>\n",
       "    </tr>\n",
       "    <tr>\n",
       "      <th>7</th>\n",
       "      <td>webForms_emailOpens</td>\n",
       "      <td>0.218874</td>\n",
       "      <td>emailOpens</td>\n",
       "      <td>0.218874</td>\n",
       "    </tr>\n",
       "    <tr>\n",
       "      <th>8</th>\n",
       "      <td>webForms_emailSends</td>\n",
       "      <td>0.192836</td>\n",
       "      <td>emailSends</td>\n",
       "      <td>0.192836</td>\n",
       "    </tr>\n",
       "    <tr>\n",
       "      <th>9</th>\n",
       "      <td>webForms_webLinkClicks</td>\n",
       "      <td>0.259353</td>\n",
       "      <td>webLinkClicks</td>\n",
       "      <td>0.259353</td>\n",
       "    </tr>\n",
       "    <tr>\n",
       "      <th>10</th>\n",
       "      <td>webForms_webPageViews</td>\n",
       "      <td>0.000000</td>\n",
       "      <td>webPageViews</td>\n",
       "      <td>0.000000</td>\n",
       "    </tr>\n",
       "  </tbody>\n",
       "</table>\n",
       "</div>"
      ],
      "text/plain": [
       "                         variable     value               feature  \\\n",
       "0              webForms_EmalOpens  0.218874             EmalOpens   \n",
       "1      webForms_advertisingClicks  0.026805     advertisingClicks   \n",
       "2           webForms_productViews  0.277900          productViews   \n",
       "3       webForms_productPurchases  0.000000      productPurchases   \n",
       "4   webForms_propositionDismisses  0.060140  propositionDismisses   \n",
       "5   webForms_propositionInteracts  0.143656  propositionInteracts   \n",
       "6            webForms_emailClicks  0.305657           emailClicks   \n",
       "7             webForms_emailOpens  0.218874            emailOpens   \n",
       "8             webForms_emailSends  0.192836            emailSends   \n",
       "9          webForms_webLinkClicks  0.259353         webLinkClicks   \n",
       "10          webForms_webPageViews  0.000000          webPageViews   \n",
       "\n",
       "    pearsonCorrelation  \n",
       "0             0.218874  \n",
       "1             0.026805  \n",
       "2             0.277900  \n",
       "3             0.000000  \n",
       "4             0.060140  \n",
       "5             0.143656  \n",
       "6             0.305657  \n",
       "7             0.218874  \n",
       "8             0.192836  \n",
       "9             0.259353  \n",
       "10            0.000000  "
      ]
     },
     "metadata": {},
     "output_type": "display_data"
    }
   ],
   "source": [
    "cols = large_correlation_df.columns\n",
    "corrdf = large_correlation_df[[col for col in cols if (\"webForms_\"  in col)]].melt()\n",
    "corrdf[\"feature\"] = corrdf[\"variable\"].apply(lambda x: x.replace(\"webForms_\", \"\"))\n",
    "corrdf[\"pearsonCorrelation\"] = corrdf[\"value\"]\n",
    "\n",
    "corrdf.fillna(0)"
   ]
  },
  {
   "cell_type": "markdown",
   "id": "363120be",
   "metadata": {},
   "source": [
    "Let's visualize the results:"
   ]
  },
  {
   "cell_type": "code",
   "execution_count": null,
   "id": "acc7550b",
   "metadata": {},
   "outputs": [
    {
     "name": "stderr",
     "output_type": "stream",
     "text": [
      "/Users/jeremypage/.pyenv/versions/3.11.5/envs/cmle/lib/python3.11/site-packages/seaborn/_oldcore.py:1498: FutureWarning:\n",
      "\n",
      "is_categorical_dtype is deprecated and will be removed in a future version. Use isinstance(dtype, CategoricalDtype) instead\n",
      "\n",
      "/Users/jeremypage/.pyenv/versions/3.11.5/envs/cmle/lib/python3.11/site-packages/seaborn/_oldcore.py:1498: FutureWarning:\n",
      "\n",
      "is_categorical_dtype is deprecated and will be removed in a future version. Use isinstance(dtype, CategoricalDtype) instead\n",
      "\n",
      "/Users/jeremypage/.pyenv/versions/3.11.5/envs/cmle/lib/python3.11/site-packages/seaborn/_oldcore.py:1498: FutureWarning:\n",
      "\n",
      "is_categorical_dtype is deprecated and will be removed in a future version. Use isinstance(dtype, CategoricalDtype) instead\n",
      "\n"
     ]
    },
    {
     "data": {
      "text/plain": [
       "Text(0.5, 1.0, 'Pearson Correlation of Events with the outcome event')"
      ]
     },
     "metadata": {},
     "output_type": "display_data"
    },
    {
     "data": {
      "image/png": "[encoded data removed]",
      "text/plain": [
       "<Figure size 500x1000 with 1 Axes>"
      ]
     },
     "metadata": {},
     "output_type": "display_data"
    }
   ],
   "source": [
    "import matplotlib.pyplot as plt\n",
    "fig, ax = plt.subplots(figsize=(5,10))\n",
    "sns.barplot(data=corrdf.fillna(0), y=\"feature\", x=\"pearsonCorrelation\")\n",
    "ax.set_title(\"Pearson Correlation of Events with the outcome event\")"
   ]
  },
  {
   "cell_type": "markdown",
   "id": "8364c620",
   "metadata": {},
   "source": [
    "<div class=\"alert alert-block alert-success\">\n",
    "    <b>Conclusion</b>\n",
    "With this information, we now have a hypothesis on necessary features to use in our model.\n",
    "We will use the number of these various event types, as well as the recency of each event type as features \n",
    "for the model. The next step is to create these \"featurized\" datasets\n",
    "</div>"
   ]
  },
  {
   "cell_type": "markdown",
   "id": "825e484e",
   "metadata": {},
   "source": [
    "# 3. Build features with Query Service"
   ]
  },
  {
   "cell_type": "markdown",
   "id": "bf21789d",
   "metadata": {},
   "source": [
    "In this section we will show how you can prepare data for the future goal of consumption by an ML model, and leveraging functionality in the Adobe Experience Platform to generate features at scale and make it available in your choice of cloud storage.\n",
    "\n",
    "We'll go through several steps:\n",
    "- **Creating a query** to encapsulate what a good featurized dataset will be.\n",
    "- **Executing that query** and storing the results.\n",
    "- **Setting up a flow** to export the results into cloud storage.\n",
    "- **Executing that flow** to deliver the results."
   ]
  },
  {
   "cell_type": "markdown",
   "id": "8d036198",
   "metadata": {},
   "source": [
    "<div class=\"alert alert-block alert-warning\">\n",
    "<b>Note:</b> If at any point in this notebook the connection to Query Service is closed, you can refresh it by running the cell below.\n",
    "</div>"
   ]
  },
  {
   "cell_type": "code",
   "execution_count": null,
   "id": "2b5fe46b",
   "metadata": {},
   "outputs": [],
   "source": [
    "qs_conn = queryservice.QueryService().connection()\n",
    "qs_conn[\"dbname\"] = f\"{cat_conn.sandbox}:{table_name}\"\n",
    "qs_cursor = queryservice.InteractiveQuery2(qs_conn)"
   ]
  },
  {
   "cell_type": "markdown",
   "id": "8567631b",
   "metadata": {},
   "source": [
    "## 3.1 Define a featurization query"
   ]
  },
  {
   "cell_type": "markdown",
   "id": "60ed3ce5",
   "metadata": {},
   "source": [
    "Let's first define our ML problem scientifically:\n",
    "- **What kind of problem** are we solving? We'd like to predict whether someone is likely to subscribe or not. We treat that as a binary classification problem, you are either subscribed or you are not.\n",
    "- What is our **target variable**? Whether a subscription occurred or not for a given user.\n",
    "- What are our **positive labels**? People who have at least 1 event corresponding to a subscription (marked as `web.formFilledOut`). We will keep a single feature row from the event where they actually subscribed.\n",
    "- What are our **negative labels**? People who don't have a single event corresponding to a subscription. We will keep a random row to avoid having bias in the data.\n",
    "\n",
    "Let's put that into practice and start looking at our positive labels:"
   ]
  },
  {
   "cell_type": "code",
   "execution_count": null,
   "id": "88975ec8",
   "metadata": {},
   "outputs": [
    {
     "name": "stdout",
     "output_type": "stream",
     "text": [
      "Number of positive classes: 16651\n"
     ]
    },
    {
     "data": {
      "text/html": [
       "<div>\n",
       "<style scoped>\n",
       "    .dataframe tbody tr th:only-of-type {\n",
       "        vertical-align: middle;\n",
       "    }\n",
       "\n",
       "    .dataframe tbody tr th {\n",
       "        vertical-align: top;\n",
       "    }\n",
       "\n",
       "    .dataframe thead th {\n",
       "        text-align: right;\n",
       "    }\n",
       "</style>\n",
       "<table border=\"1\" class=\"dataframe\">\n",
       "  <thead>\n",
       "    <tr style=\"text-align: right;\">\n",
       "      <th></th>\n",
       "      <th>eventType</th>\n",
       "      <th>userId</th>\n",
       "      <th>subscriptionOccurred</th>\n",
       "    </tr>\n",
       "  </thead>\n",
       "  <tbody>\n",
       "    <tr>\n",
       "      <th>0</th>\n",
       "      <td>web.formFilledOut</td>\n",
       "      <td>01117296890525140996735553609305695042</td>\n",
       "      <td>1</td>\n",
       "    </tr>\n",
       "    <tr>\n",
       "      <th>1</th>\n",
       "      <td>web.formFilledOut</td>\n",
       "      <td>01439078920902981076277269778823688922</td>\n",
       "      <td>1</td>\n",
       "    </tr>\n",
       "    <tr>\n",
       "      <th>2</th>\n",
       "      <td>web.formFilledOut</td>\n",
       "      <td>01458646858388276174722569007707249428</td>\n",
       "      <td>1</td>\n",
       "    </tr>\n",
       "    <tr>\n",
       "      <th>3</th>\n",
       "      <td>web.formFilledOut</td>\n",
       "      <td>01581515720146177140341959776130418430</td>\n",
       "      <td>1</td>\n",
       "    </tr>\n",
       "    <tr>\n",
       "      <th>4</th>\n",
       "      <td>web.formFilledOut</td>\n",
       "      <td>01604113828842545653041469904735878096</td>\n",
       "      <td>1</td>\n",
       "    </tr>\n",
       "  </tbody>\n",
       "</table>\n",
       "</div>"
      ],
      "text/plain": [
       "           eventType                                  userId  \\\n",
       "0  web.formFilledOut  01117296890525140996735553609305695042   \n",
       "1  web.formFilledOut  01439078920902981076277269778823688922   \n",
       "2  web.formFilledOut  01458646858388276174722569007707249428   \n",
       "3  web.formFilledOut  01581515720146177140341959776130418430   \n",
       "4  web.formFilledOut  01604113828842545653041469904735878096   \n",
       "\n",
       "   subscriptionOccurred  \n",
       "0                     1  \n",
       "1                     1  \n",
       "2                     1  \n",
       "3                     1  \n",
       "4                     1  "
      ]
     },
     "metadata": {},
     "output_type": "display_data"
    }
   ],
   "source": [
    "query_positive_labels = f\"\"\"\n",
    "SELECT *\n",
    "FROM (\n",
    "    SELECT\n",
    "        eventType,\n",
    "        _{tenant_id}.cmle_id as userId,\n",
    "        SUM(CASE WHEN eventType='web.formFilledOut' THEN 1 ELSE 0 END) \n",
    "            OVER (PARTITION BY _{tenant_id}.cmle_id) \n",
    "            AS \"subscriptionOccurred\"\n",
    "    FROM {table_name}\n",
    ")\n",
    "WHERE subscriptionOccurred = 1 AND eventType = 'web.formFilledOut'\n",
    "\"\"\"\n",
    "\n",
    "df_positive_labels = qs_cursor.query(query_positive_labels, output=\"dataframe\")\n",
    "print(f\"Number of positive classes: {len(df_positive_labels)}\")\n",
    "df_positive_labels.head()"
   ]
  },
  {
   "cell_type": "markdown",
   "id": "ec9fd560",
   "metadata": {},
   "source": [
    "<div class=\"alert alert-block alert-warning\">\n",
    "<b>Note:</b> \n",
    "    \n",
    "We are using a sub-query because we want to filter on the `subscriptionOccurred` which is defined as part of the query, so it can't be used in a filter condition unless it is in a sub-query.\n",
    "</div>"
   ]
  },
  {
   "cell_type": "markdown",
   "id": "d992c46d",
   "metadata": {},
   "source": [
    "Now let's look at our negative labels. Because we just want to retain a random row to avoid bias, we need to introduce randomness into our query:"
   ]
  },
  {
   "cell_type": "code",
   "execution_count": null,
   "id": "ae1d5561",
   "metadata": {},
   "outputs": [
    {
     "name": "stdout",
     "output_type": "stream",
     "text": [
      "Number of negative classes: 50000\n"
     ]
    },
    {
     "data": {
      "text/html": [
       "<div>\n",
       "<style scoped>\n",
       "    .dataframe tbody tr th:only-of-type {\n",
       "        vertical-align: middle;\n",
       "    }\n",
       "\n",
       "    .dataframe tbody tr th {\n",
       "        vertical-align: top;\n",
       "    }\n",
       "\n",
       "    .dataframe thead th {\n",
       "        text-align: right;\n",
       "    }\n",
       "</style>\n",
       "<table border=\"1\" class=\"dataframe\">\n",
       "  <thead>\n",
       "    <tr style=\"text-align: right;\">\n",
       "      <th></th>\n",
       "      <th>userId</th>\n",
       "      <th>subscriptionOccurred</th>\n",
       "      <th>random_row_number_for_user</th>\n",
       "    </tr>\n",
       "  </thead>\n",
       "  <tbody>\n",
       "    <tr>\n",
       "      <th>0</th>\n",
       "      <td>01027994177972439148069092698714414382</td>\n",
       "      <td>0</td>\n",
       "      <td>1</td>\n",
       "    </tr>\n",
       "    <tr>\n",
       "      <th>1</th>\n",
       "      <td>01054714817856066632264746967668888198</td>\n",
       "      <td>0</td>\n",
       "      <td>1</td>\n",
       "    </tr>\n",
       "    <tr>\n",
       "      <th>2</th>\n",
       "      <td>01149554820363915324573708359099551093</td>\n",
       "      <td>0</td>\n",
       "      <td>1</td>\n",
       "    </tr>\n",
       "    <tr>\n",
       "      <th>3</th>\n",
       "      <td>01172121447143590196349410086995740317</td>\n",
       "      <td>0</td>\n",
       "      <td>1</td>\n",
       "    </tr>\n",
       "    <tr>\n",
       "      <th>4</th>\n",
       "      <td>01195767814069944741685085653849029220</td>\n",
       "      <td>0</td>\n",
       "      <td>1</td>\n",
       "    </tr>\n",
       "  </tbody>\n",
       "</table>\n",
       "</div>"
      ],
      "text/plain": [
       "                                   userId  subscriptionOccurred  \\\n",
       "0  01027994177972439148069092698714414382                     0   \n",
       "1  01054714817856066632264746967668888198                     0   \n",
       "2  01149554820363915324573708359099551093                     0   \n",
       "3  01172121447143590196349410086995740317                     0   \n",
       "4  01195767814069944741685085653849029220                     0   \n",
       "\n",
       "   random_row_number_for_user  \n",
       "0                           1  \n",
       "1                           1  \n",
       "2                           1  \n",
       "3                           1  \n",
       "4                           1  "
      ]
     },
     "metadata": {},
     "output_type": "display_data"
    }
   ],
   "source": [
    "query_negative_labels = f\"\"\"\n",
    "SELECT *\n",
    "FROM (\n",
    "    SELECT\n",
    "        _{tenant_id}.cmle_id as userId,\n",
    "        SUM(CASE WHEN eventType='web.formFilledOut' THEN 1 ELSE 0 END) \n",
    "            OVER (PARTITION BY _{tenant_id}.cmle_id) \n",
    "            AS \"subscriptionOccurred\",\n",
    "        row_number() OVER (PARTITION BY _{tenant_id}.cmle_id ORDER BY randn()) AS random_row_number_for_user\n",
    "    FROM {table_name}\n",
    ")\n",
    "WHERE subscriptionOccurred = 0 AND random_row_number_for_user = 1\n",
    "\"\"\"\n",
    "\n",
    "df_negative_labels = qs_cursor.query(query_negative_labels, output=\"dataframe\")\n",
    "print(f\"Number of negative classes: {len(df_negative_labels)}\")\n",
    "df_negative_labels.head()"
   ]
  },
  {
   "cell_type": "markdown",
   "id": "9f8f8714",
   "metadata": {},
   "source": [
    "Putting it all together, we can query both our positive and negative classes with the following query:"
   ]
  },
  {
   "cell_type": "code",
   "execution_count": null,
   "id": "1bc2bda3",
   "metadata": {},
   "outputs": [
    {
     "name": "stdout",
     "output_type": "stream",
     "text": [
      "Number of classes: 50000\n"
     ]
    },
    {
     "data": {
      "text/html": [
       "<div>\n",
       "<style scoped>\n",
       "    .dataframe tbody tr th:only-of-type {\n",
       "        vertical-align: middle;\n",
       "    }\n",
       "\n",
       "    .dataframe tbody tr th {\n",
       "        vertical-align: top;\n",
       "    }\n",
       "\n",
       "    .dataframe thead th {\n",
       "        text-align: right;\n",
       "    }\n",
       "</style>\n",
       "<table border=\"1\" class=\"dataframe\">\n",
       "  <thead>\n",
       "    <tr style=\"text-align: right;\">\n",
       "      <th></th>\n",
       "      <th>eventType</th>\n",
       "      <th>userId</th>\n",
       "      <th>subscriptionOccurred</th>\n",
       "      <th>random_row_number_for_user</th>\n",
       "    </tr>\n",
       "  </thead>\n",
       "  <tbody>\n",
       "    <tr>\n",
       "      <th>0</th>\n",
       "      <td>directMarketing.emailClicked</td>\n",
       "      <td>01027994177972439148069092698714414382</td>\n",
       "      <td>0</td>\n",
       "      <td>1</td>\n",
       "    </tr>\n",
       "    <tr>\n",
       "      <th>1</th>\n",
       "      <td>directMarketing.emailOpened</td>\n",
       "      <td>01054714817856066632264746967668888198</td>\n",
       "      <td>0</td>\n",
       "      <td>1</td>\n",
       "    </tr>\n",
       "    <tr>\n",
       "      <th>2</th>\n",
       "      <td>web.formFilledOut</td>\n",
       "      <td>01117296890525140996735553609305695042</td>\n",
       "      <td>1</td>\n",
       "      <td>15</td>\n",
       "    </tr>\n",
       "    <tr>\n",
       "      <th>3</th>\n",
       "      <td>directMarketing.emailClicked</td>\n",
       "      <td>01149554820363915324573708359099551093</td>\n",
       "      <td>0</td>\n",
       "      <td>1</td>\n",
       "    </tr>\n",
       "    <tr>\n",
       "      <th>4</th>\n",
       "      <td>directMarketing.emailClicked</td>\n",
       "      <td>01172121447143590196349410086995740317</td>\n",
       "      <td>0</td>\n",
       "      <td>1</td>\n",
       "    </tr>\n",
       "  </tbody>\n",
       "</table>\n",
       "</div>"
      ],
      "text/plain": [
       "                      eventType                                  userId  \\\n",
       "0  directMarketing.emailClicked  01027994177972439148069092698714414382   \n",
       "1   directMarketing.emailOpened  01054714817856066632264746967668888198   \n",
       "2             web.formFilledOut  01117296890525140996735553609305695042   \n",
       "3  directMarketing.emailClicked  01149554820363915324573708359099551093   \n",
       "4  directMarketing.emailClicked  01172121447143590196349410086995740317   \n",
       "\n",
       "   subscriptionOccurred  random_row_number_for_user  \n",
       "0                     0                           1  \n",
       "1                     0                           1  \n",
       "2                     1                          15  \n",
       "3                     0                           1  \n",
       "4                     0                           1  "
      ]
     },
     "metadata": {},
     "output_type": "display_data"
    }
   ],
   "source": [
    "query_labels = f\"\"\"\n",
    "SELECT *\n",
    "FROM (\n",
    "    SELECT\n",
    "        eventType,\n",
    "        _{tenant_id}.cmle_id as userId,\n",
    "        SUM(CASE WHEN eventType='web.formFilledOut' THEN 1 ELSE 0 END) \n",
    "            OVER (PARTITION BY _{tenant_id}.cmle_id) \n",
    "            AS \"subscriptionOccurred\",\n",
    "        row_number() OVER (PARTITION BY _{tenant_id}.cmle_id ORDER BY randn()) AS random_row_number_for_user\n",
    "    FROM {table_name}\n",
    ")\n",
    "WHERE (subscriptionOccurred = 1 AND eventType = 'web.formFilledOut') OR (subscriptionOccurred = 0 AND random_row_number_for_user = 1)\n",
    "\"\"\"\n",
    "\n",
    "df_labels = qs_cursor.query(query_labels, output=\"dataframe\")\n",
    "print(f\"Number of classes: {len(df_labels)}\")\n",
    "df_labels.head()"
   ]
  },
  {
   "cell_type": "markdown",
   "id": "4cbdbedc",
   "metadata": {},
   "source": [
    "Now let's think what kind of features make sense for this kind of problem that we would like to eventually feed to an ML model. There's 2 main kinds of features we're interested in:\n",
    "- **Actionable features**: different actions the user actually took in response to a marketing event.\n",
    "- **Temporal features**: distribution over time of the actions the user took. This is useful for modeling to capture behavior over time and not just statically at any particular point in time.\n",
    "\n",
    "We can think of a few simple things that can be derived from this data for the actionable features:\n",
    "- **Number of emails** that were sent for marketing purposes and received by the user.\n",
    "- Portion of these emails that were actually **opened**.\n",
    "- Portion of these emails where the user actually **clicked** on the link.\n",
    "- **Number of products** that were viewed.\n",
    "- Number of **propositions that were interacted with**.\n",
    "- Number of **propositions that were dismissed**.\n",
    "- Number of **links that were clicked on**.\n",
    "\n",
    "Regarding the temporal features, we can look at consecutive occurrences between various events. This can be accomplished using the `TIME_BETWEEN_PREVIOUS_MATCH` function. So we take the previous actionable features and look at their temporal distribution:\n",
    "- Number of minutes between 2 consecutive emails received.\n",
    "- Number of minutes between 2 consecutive emails opened.\n",
    "- Number of minutes between 2 consecutive emails where the user actually clicked on the link.\n",
    "- Number of minutes between 2 consecutive product views.\n",
    "- Number of minutes between 2 propositions that were interacted with.\n",
    "- Number of minutes between 2 propositions that were dismissed.\n",
    "- Number of minutes between 2 links that were clicked on.\n",
    "\n",
    "Let's put all that in practice and look how we can create these features inside a query:"
   ]
  },
  {
   "cell_type": "code",
   "execution_count": null,
   "id": "8a2f5b2f",
   "metadata": {},
   "outputs": [
    {
     "data": {
      "text/html": [
       "<div>\n",
       "<style scoped>\n",
       "    .dataframe tbody tr th:only-of-type {\n",
       "        vertical-align: middle;\n",
       "    }\n",
       "\n",
       "    .dataframe tbody tr th {\n",
       "        vertical-align: top;\n",
       "    }\n",
       "\n",
       "    .dataframe thead th {\n",
       "        text-align: right;\n",
       "    }\n",
       "</style>\n",
       "<table border=\"1\" class=\"dataframe\">\n",
       "  <thead>\n",
       "    <tr style=\"text-align: right;\">\n",
       "      <th></th>\n",
       "      <th>userId</th>\n",
       "      <th>emailsReceived</th>\n",
       "      <th>emailsOpened</th>\n",
       "      <th>emailsClicked</th>\n",
       "      <th>productsViewed</th>\n",
       "      <th>propositionInteracts</th>\n",
       "      <th>propositionDismissed</th>\n",
       "      <th>webLinkClicks</th>\n",
       "      <th>minutes_since_emailSent</th>\n",
       "      <th>minutes_since_emailOpened</th>\n",
       "      <th>minutes_since_emailClick</th>\n",
       "      <th>minutes_since_productView</th>\n",
       "      <th>minutes_since_propositionInteract</th>\n",
       "      <th>minutes_since_propositionDismiss</th>\n",
       "      <th>minutes_since_linkClick</th>\n",
       "    </tr>\n",
       "  </thead>\n",
       "  <tbody>\n",
       "    <tr>\n",
       "      <th>0</th>\n",
       "      <td>01102546977582484968046916668339306826</td>\n",
       "      <td>1</td>\n",
       "      <td>0</td>\n",
       "      <td>0</td>\n",
       "      <td>0</td>\n",
       "      <td>0</td>\n",
       "      <td>0</td>\n",
       "      <td>0</td>\n",
       "      <td>0.0</td>\n",
       "      <td>NaN</td>\n",
       "      <td>NaN</td>\n",
       "      <td>NaN</td>\n",
       "      <td>NaN</td>\n",
       "      <td>None</td>\n",
       "      <td>NaN</td>\n",
       "    </tr>\n",
       "    <tr>\n",
       "      <th>1</th>\n",
       "      <td>01102546977582484968046916668339306826</td>\n",
       "      <td>2</td>\n",
       "      <td>0</td>\n",
       "      <td>0</td>\n",
       "      <td>0</td>\n",
       "      <td>0</td>\n",
       "      <td>0</td>\n",
       "      <td>0</td>\n",
       "      <td>0.0</td>\n",
       "      <td>NaN</td>\n",
       "      <td>NaN</td>\n",
       "      <td>NaN</td>\n",
       "      <td>NaN</td>\n",
       "      <td>None</td>\n",
       "      <td>NaN</td>\n",
       "    </tr>\n",
       "    <tr>\n",
       "      <th>2</th>\n",
       "      <td>01102546977582484968046916668339306826</td>\n",
       "      <td>3</td>\n",
       "      <td>0</td>\n",
       "      <td>0</td>\n",
       "      <td>0</td>\n",
       "      <td>0</td>\n",
       "      <td>0</td>\n",
       "      <td>0</td>\n",
       "      <td>0.0</td>\n",
       "      <td>NaN</td>\n",
       "      <td>NaN</td>\n",
       "      <td>NaN</td>\n",
       "      <td>NaN</td>\n",
       "      <td>None</td>\n",
       "      <td>NaN</td>\n",
       "    </tr>\n",
       "    <tr>\n",
       "      <th>3</th>\n",
       "      <td>01102546977582484968046916668339306826</td>\n",
       "      <td>3</td>\n",
       "      <td>1</td>\n",
       "      <td>0</td>\n",
       "      <td>0</td>\n",
       "      <td>0</td>\n",
       "      <td>0</td>\n",
       "      <td>0</td>\n",
       "      <td>540.0</td>\n",
       "      <td>0.0</td>\n",
       "      <td>NaN</td>\n",
       "      <td>NaN</td>\n",
       "      <td>NaN</td>\n",
       "      <td>None</td>\n",
       "      <td>NaN</td>\n",
       "    </tr>\n",
       "    <tr>\n",
       "      <th>4</th>\n",
       "      <td>01102546977582484968046916668339306826</td>\n",
       "      <td>3</td>\n",
       "      <td>2</td>\n",
       "      <td>0</td>\n",
       "      <td>0</td>\n",
       "      <td>0</td>\n",
       "      <td>0</td>\n",
       "      <td>0</td>\n",
       "      <td>588.0</td>\n",
       "      <td>0.0</td>\n",
       "      <td>NaN</td>\n",
       "      <td>NaN</td>\n",
       "      <td>NaN</td>\n",
       "      <td>None</td>\n",
       "      <td>NaN</td>\n",
       "    </tr>\n",
       "  </tbody>\n",
       "</table>\n",
       "</div>"
      ],
      "text/plain": [
       "                                   userId  emailsReceived  emailsOpened  \\\n",
       "0  01102546977582484968046916668339306826               1             0   \n",
       "1  01102546977582484968046916668339306826               2             0   \n",
       "2  01102546977582484968046916668339306826               3             0   \n",
       "3  01102546977582484968046916668339306826               3             1   \n",
       "4  01102546977582484968046916668339306826               3             2   \n",
       "\n",
       "   emailsClicked  productsViewed  propositionInteracts  propositionDismissed  \\\n",
       "0              0               0                     0                     0   \n",
       "1              0               0                     0                     0   \n",
       "2              0               0                     0                     0   \n",
       "3              0               0                     0                     0   \n",
       "4              0               0                     0                     0   \n",
       "\n",
       "   webLinkClicks  minutes_since_emailSent  minutes_since_emailOpened  \\\n",
       "0              0                      0.0                        NaN   \n",
       "1              0                      0.0                        NaN   \n",
       "2              0                      0.0                        NaN   \n",
       "3              0                    540.0                        0.0   \n",
       "4              0                    588.0                        0.0   \n",
       "\n",
       "   minutes_since_emailClick  minutes_since_productView  \\\n",
       "0                       NaN                        NaN   \n",
       "1                       NaN                        NaN   \n",
       "2                       NaN                        NaN   \n",
       "3                       NaN                        NaN   \n",
       "4                       NaN                        NaN   \n",
       "\n",
       "   minutes_since_propositionInteract minutes_since_propositionDismiss  \\\n",
       "0                                NaN                             None   \n",
       "1                                NaN                             None   \n",
       "2                                NaN                             None   \n",
       "3                                NaN                             None   \n",
       "4                                NaN                             None   \n",
       "\n",
       "   minutes_since_linkClick  \n",
       "0                      NaN  \n",
       "1                      NaN  \n",
       "2                      NaN  \n",
       "3                      NaN  \n",
       "4                      NaN  "
      ]
     },
     "metadata": {},
     "output_type": "display_data"
    }
   ],
   "source": [
    "query_features = f\"\"\"\n",
    "SELECT\n",
    "    _{tenant_id}.cmle_id as userId,\n",
    "    SUM(CASE WHEN eventType='directMarketing.emailSent' THEN 1 ELSE 0 END) \n",
    "       OVER (PARTITION BY _{tenant_id}.cmle_id ORDER BY timestamp ROWS BETWEEN UNBOUNDED PRECEDING AND CURRENT ROW) \n",
    "       AS \"emailsReceived\",\n",
    "    SUM(CASE WHEN eventType='directMarketing.emailOpened' THEN 1 ELSE 0 END) \n",
    "       OVER (PARTITION BY _{tenant_id}.cmle_id ORDER BY timestamp ROWS BETWEEN UNBOUNDED PRECEDING AND CURRENT ROW) \n",
    "       AS \"emailsOpened\",       \n",
    "    SUM(CASE WHEN eventType='directMarketing.emailClicked' THEN 1 ELSE 0 END) \n",
    "       OVER (PARTITION BY _{tenant_id}.cmle_id ORDER BY timestamp ROWS BETWEEN UNBOUNDED PRECEDING AND CURRENT ROW) \n",
    "       AS \"emailsClicked\",       \n",
    "    SUM(CASE WHEN eventType='commerce.productViews' THEN 1 ELSE 0 END) \n",
    "       OVER (PARTITION BY _{tenant_id}.cmle_id ORDER BY timestamp ROWS BETWEEN UNBOUNDED PRECEDING AND CURRENT ROW) \n",
    "       AS \"productsViewed\",       \n",
    "    SUM(CASE WHEN eventType='decisioning.propositionInteract' THEN 1 ELSE 0 END) \n",
    "       OVER (PARTITION BY _{tenant_id}.cmle_id ORDER BY timestamp ROWS BETWEEN UNBOUNDED PRECEDING AND CURRENT ROW) \n",
    "       AS \"propositionInteracts\",       \n",
    "    SUM(CASE WHEN eventType='decisioning.propositionDismiss' THEN 1 ELSE 0 END) \n",
    "       OVER (PARTITION BY _{tenant_id}.cmle_id ORDER BY timestamp ROWS BETWEEN UNBOUNDED PRECEDING AND CURRENT ROW) \n",
    "       AS \"propositionDismissed\",\n",
    "    SUM(CASE WHEN eventType='web.webinteraction.linkClicks' THEN 1 ELSE 0 END) \n",
    "       OVER (PARTITION BY _{tenant_id}.cmle_id ORDER BY timestamp ROWS BETWEEN UNBOUNDED PRECEDING AND CURRENT ROW) \n",
    "       AS \"webLinkClicks\" ,\n",
    "    TIME_BETWEEN_PREVIOUS_MATCH(timestamp, eventType = 'directMarketing.emailSent', 'minutes')\n",
    "       OVER (PARTITION BY _{tenant_id}.cmle_id ORDER BY timestamp ROWS BETWEEN UNBOUNDED PRECEDING AND CURRENT ROW) \n",
    "       AS \"minutes_since_emailSent\",\n",
    "    TIME_BETWEEN_PREVIOUS_MATCH(timestamp, eventType = 'directMarketing.emailOpened', 'minutes')\n",
    "       OVER (PARTITION BY _{tenant_id}.cmle_id ORDER BY timestamp ROWS BETWEEN UNBOUNDED PRECEDING AND CURRENT ROW) \n",
    "       AS \"minutes_since_emailOpened\",\n",
    "    TIME_BETWEEN_PREVIOUS_MATCH(timestamp, eventType = 'directMarketing.emailClicked', 'minutes')\n",
    "       OVER (PARTITION BY _{tenant_id}.cmle_id ORDER BY timestamp ROWS BETWEEN UNBOUNDED PRECEDING AND CURRENT ROW) \n",
    "       AS \"minutes_since_emailClick\",\n",
    "    TIME_BETWEEN_PREVIOUS_MATCH(timestamp, eventType = 'commerce.productViews', 'minutes')\n",
    "       OVER (PARTITION BY _{tenant_id}.cmle_id ORDER BY timestamp ROWS BETWEEN UNBOUNDED PRECEDING AND CURRENT ROW) \n",
    "       AS \"minutes_since_productView\",\n",
    "    TIME_BETWEEN_PREVIOUS_MATCH(timestamp, eventType = 'decisioning.propositionInteract', 'minutes')\n",
    "       OVER (PARTITION BY _{tenant_id}.cmle_id ORDER BY timestamp ROWS BETWEEN UNBOUNDED PRECEDING AND CURRENT ROW) \n",
    "       AS \"minutes_since_propositionInteract\",\n",
    "    TIME_BETWEEN_PREVIOUS_MATCH(timestamp, eventType = 'propositionDismiss', 'minutes')\n",
    "       OVER (PARTITION BY _{tenant_id}.cmle_id ORDER BY timestamp ROWS BETWEEN UNBOUNDED PRECEDING AND CURRENT ROW) \n",
    "       AS \"minutes_since_propositionDismiss\",\n",
    "    TIME_BETWEEN_PREVIOUS_MATCH(timestamp, eventType = 'web.webinteraction.linkClicks', 'minutes')\n",
    "       OVER (PARTITION BY _{tenant_id}.cmle_id ORDER BY timestamp ROWS BETWEEN UNBOUNDED PRECEDING AND CURRENT ROW) \n",
    "       AS \"minutes_since_linkClick\"\n",
    "FROM {table_name}\n",
    "\"\"\"\n",
    "\n",
    "df_features = qs_cursor.query(query_features, output=\"dataframe\")\n",
    "df_features.head()"
   ]
  },
  {
   "cell_type": "markdown",
   "id": "87b70c74",
   "metadata": {},
   "source": [
    "At that point we have defined all our features, and we also have our classes cleanly defined, so we can tie everything together in a final query that will represent our training set to be used later on on our ML model."
   ]
  },
  {
   "cell_type": "code",
   "execution_count": null,
   "id": "f14a4800",
   "metadata": {},
   "outputs": [
    {
     "data": {
      "text/html": [
       "<div>\n",
       "<style scoped>\n",
       "    .dataframe tbody tr th:only-of-type {\n",
       "        vertical-align: middle;\n",
       "    }\n",
       "\n",
       "    .dataframe tbody tr th {\n",
       "        vertical-align: top;\n",
       "    }\n",
       "\n",
       "    .dataframe thead th {\n",
       "        text-align: right;\n",
       "    }\n",
       "</style>\n",
       "<table border=\"1\" class=\"dataframe\">\n",
       "  <thead>\n",
       "    <tr style=\"text-align: right;\">\n",
       "      <th></th>\n",
       "      <th>userId</th>\n",
       "      <th>eventType</th>\n",
       "      <th>timestamp</th>\n",
       "      <th>subscriptionOccurred</th>\n",
       "      <th>emailsReceived</th>\n",
       "      <th>emailsOpened</th>\n",
       "      <th>emailsClicked</th>\n",
       "      <th>productsViewed</th>\n",
       "      <th>propositionInteracts</th>\n",
       "      <th>propositionDismissed</th>\n",
       "      <th>webLinkClicks</th>\n",
       "      <th>minutes_since_emailSent</th>\n",
       "      <th>minutes_since_emailOpened</th>\n",
       "      <th>minutes_since_emailClick</th>\n",
       "      <th>minutes_since_productView</th>\n",
       "      <th>minutes_since_propositionInteract</th>\n",
       "      <th>minutes_since_propositionDismiss</th>\n",
       "      <th>minutes_since_linkClick</th>\n",
       "      <th>random_row_number_for_user</th>\n",
       "    </tr>\n",
       "  </thead>\n",
       "  <tbody>\n",
       "    <tr>\n",
       "      <th>0</th>\n",
       "      <td>02554909162592418347780983091131567290</td>\n",
       "      <td>directMarketing.emailSent</td>\n",
       "      <td>2023-06-17 13:44:59.086</td>\n",
       "      <td>0</td>\n",
       "      <td>2</td>\n",
       "      <td>0</td>\n",
       "      <td>0</td>\n",
       "      <td>0</td>\n",
       "      <td>0</td>\n",
       "      <td>0</td>\n",
       "      <td>0</td>\n",
       "      <td>0.0</td>\n",
       "      <td>NaN</td>\n",
       "      <td>NaN</td>\n",
       "      <td>NaN</td>\n",
       "      <td>NaN</td>\n",
       "      <td>None</td>\n",
       "      <td>NaN</td>\n",
       "      <td>1</td>\n",
       "    </tr>\n",
       "    <tr>\n",
       "      <th>1</th>\n",
       "      <td>01130334080340815140184601481559659945</td>\n",
       "      <td>directMarketing.emailOpened</td>\n",
       "      <td>2023-06-19 06:01:55.366</td>\n",
       "      <td>0</td>\n",
       "      <td>1</td>\n",
       "      <td>3</td>\n",
       "      <td>0</td>\n",
       "      <td>1</td>\n",
       "      <td>0</td>\n",
       "      <td>0</td>\n",
       "      <td>0</td>\n",
       "      <td>1921.0</td>\n",
       "      <td>0.0</td>\n",
       "      <td>NaN</td>\n",
       "      <td>1703.0</td>\n",
       "      <td>NaN</td>\n",
       "      <td>None</td>\n",
       "      <td>NaN</td>\n",
       "      <td>1</td>\n",
       "    </tr>\n",
       "    <tr>\n",
       "      <th>2</th>\n",
       "      <td>01708961660028351393477273586554010192</td>\n",
       "      <td>web.formFilledOut</td>\n",
       "      <td>2023-06-19 18:36:49.083</td>\n",
       "      <td>1</td>\n",
       "      <td>1</td>\n",
       "      <td>2</td>\n",
       "      <td>2</td>\n",
       "      <td>0</td>\n",
       "      <td>0</td>\n",
       "      <td>0</td>\n",
       "      <td>0</td>\n",
       "      <td>2365.0</td>\n",
       "      <td>26.0</td>\n",
       "      <td>1.0</td>\n",
       "      <td>NaN</td>\n",
       "      <td>NaN</td>\n",
       "      <td>None</td>\n",
       "      <td>NaN</td>\n",
       "      <td>7</td>\n",
       "    </tr>\n",
       "    <tr>\n",
       "      <th>3</th>\n",
       "      <td>01809182902320674899156240602124740853</td>\n",
       "      <td>directMarketing.emailSent</td>\n",
       "      <td>2023-06-21 19:17:12.535</td>\n",
       "      <td>0</td>\n",
       "      <td>1</td>\n",
       "      <td>0</td>\n",
       "      <td>0</td>\n",
       "      <td>0</td>\n",
       "      <td>0</td>\n",
       "      <td>0</td>\n",
       "      <td>0</td>\n",
       "      <td>0.0</td>\n",
       "      <td>NaN</td>\n",
       "      <td>NaN</td>\n",
       "      <td>NaN</td>\n",
       "      <td>NaN</td>\n",
       "      <td>None</td>\n",
       "      <td>NaN</td>\n",
       "      <td>1</td>\n",
       "    </tr>\n",
       "    <tr>\n",
       "      <th>4</th>\n",
       "      <td>03441761949943678951106193028739001197</td>\n",
       "      <td>directMarketing.emailSent</td>\n",
       "      <td>2023-06-21 21:58:29.482</td>\n",
       "      <td>0</td>\n",
       "      <td>1</td>\n",
       "      <td>0</td>\n",
       "      <td>0</td>\n",
       "      <td>0</td>\n",
       "      <td>0</td>\n",
       "      <td>0</td>\n",
       "      <td>0</td>\n",
       "      <td>0.0</td>\n",
       "      <td>NaN</td>\n",
       "      <td>NaN</td>\n",
       "      <td>NaN</td>\n",
       "      <td>NaN</td>\n",
       "      <td>None</td>\n",
       "      <td>NaN</td>\n",
       "      <td>1</td>\n",
       "    </tr>\n",
       "  </tbody>\n",
       "</table>\n",
       "</div>"
      ],
      "text/plain": [
       "                                   userId                    eventType  \\\n",
       "0  02554909162592418347780983091131567290    directMarketing.emailSent   \n",
       "1  01130334080340815140184601481559659945  directMarketing.emailOpened   \n",
       "2  01708961660028351393477273586554010192            web.formFilledOut   \n",
       "3  01809182902320674899156240602124740853    directMarketing.emailSent   \n",
       "4  03441761949943678951106193028739001197    directMarketing.emailSent   \n",
       "\n",
       "                timestamp  subscriptionOccurred  emailsReceived  emailsOpened  \\\n",
       "0 2023-06-17 13:44:59.086                     0               2             0   \n",
       "1 2023-06-19 06:01:55.366                     0               1             3   \n",
       "2 2023-06-19 18:36:49.083                     1               1             2   \n",
       "3 2023-06-21 19:17:12.535                     0               1             0   \n",
       "4 2023-06-21 21:58:29.482                     0               1             0   \n",
       "\n",
       "   emailsClicked  productsViewed  propositionInteracts  propositionDismissed  \\\n",
       "0              0               0                     0                     0   \n",
       "1              0               1                     0                     0   \n",
       "2              2               0                     0                     0   \n",
       "3              0               0                     0                     0   \n",
       "4              0               0                     0                     0   \n",
       "\n",
       "   webLinkClicks  minutes_since_emailSent  minutes_since_emailOpened  \\\n",
       "0              0                      0.0                        NaN   \n",
       "1              0                   1921.0                        0.0   \n",
       "2              0                   2365.0                       26.0   \n",
       "3              0                      0.0                        NaN   \n",
       "4              0                      0.0                        NaN   \n",
       "\n",
       "   minutes_since_emailClick  minutes_since_productView  \\\n",
       "0                       NaN                        NaN   \n",
       "1                       NaN                     1703.0   \n",
       "2                       1.0                        NaN   \n",
       "3                       NaN                        NaN   \n",
       "4                       NaN                        NaN   \n",
       "\n",
       "   minutes_since_propositionInteract minutes_since_propositionDismiss  \\\n",
       "0                                NaN                             None   \n",
       "1                                NaN                             None   \n",
       "2                                NaN                             None   \n",
       "3                                NaN                             None   \n",
       "4                                NaN                             None   \n",
       "\n",
       "   minutes_since_linkClick  random_row_number_for_user  \n",
       "0                      NaN                           1  \n",
       "1                      NaN                           1  \n",
       "2                      NaN                           7  \n",
       "3                      NaN                           1  \n",
       "4                      NaN                           1  "
      ]
     },
     "metadata": {},
     "output_type": "display_data"
    }
   ],
   "source": [
    "query_training_set = f\"\"\"\n",
    "SELECT *\n",
    "FROM (\n",
    "    SELECT _{tenant_id}.cmle_id as userId, \n",
    "       eventType,\n",
    "       timestamp,\n",
    "       SUM(CASE WHEN eventType='web.formFilledOut' THEN 1 ELSE 0 END) \n",
    "           OVER (PARTITION BY _{tenant_id}.cmle_id) \n",
    "           AS \"subscriptionOccurred\",\n",
    "       SUM(CASE WHEN eventType='directMarketing.emailSent' THEN 1 ELSE 0 END) \n",
    "           OVER (PARTITION BY _{tenant_id}.cmle_id ORDER BY timestamp ROWS BETWEEN UNBOUNDED PRECEDING AND CURRENT ROW) \n",
    "           AS \"emailsReceived\",\n",
    "       SUM(CASE WHEN eventType='directMarketing.emailOpened' THEN 1 ELSE 0 END) \n",
    "           OVER (PARTITION BY _{tenant_id}.cmle_id ORDER BY timestamp ROWS BETWEEN UNBOUNDED PRECEDING AND CURRENT ROW) \n",
    "           AS \"emailsOpened\",       \n",
    "       SUM(CASE WHEN eventType='directMarketing.emailClicked' THEN 1 ELSE 0 END) \n",
    "           OVER (PARTITION BY _{tenant_id}.cmle_id ORDER BY timestamp ROWS BETWEEN UNBOUNDED PRECEDING AND CURRENT ROW) \n",
    "           AS \"emailsClicked\",       \n",
    "       SUM(CASE WHEN eventType='commerce.productViews' THEN 1 ELSE 0 END) \n",
    "           OVER (PARTITION BY _{tenant_id}.cmle_id ORDER BY timestamp ROWS BETWEEN UNBOUNDED PRECEDING AND CURRENT ROW) \n",
    "           AS \"productsViewed\",       \n",
    "       SUM(CASE WHEN eventType='decisioning.propositionInteract' THEN 1 ELSE 0 END) \n",
    "           OVER (PARTITION BY _{tenant_id}.cmle_id ORDER BY timestamp ROWS BETWEEN UNBOUNDED PRECEDING AND CURRENT ROW) \n",
    "           AS \"propositionInteracts\",       \n",
    "       SUM(CASE WHEN eventType='decisioning.propositionDismiss' THEN 1 ELSE 0 END) \n",
    "           OVER (PARTITION BY _{tenant_id}.cmle_id ORDER BY timestamp ROWS BETWEEN UNBOUNDED PRECEDING AND CURRENT ROW) \n",
    "           AS \"propositionDismissed\",\n",
    "       SUM(CASE WHEN eventType='web.webinteraction.linkClicks' THEN 1 ELSE 0 END) \n",
    "           OVER (PARTITION BY _{tenant_id}.cmle_id ORDER BY timestamp ROWS BETWEEN UNBOUNDED PRECEDING AND CURRENT ROW) \n",
    "           AS \"webLinkClicks\" ,\n",
    "       TIME_BETWEEN_PREVIOUS_MATCH(timestamp, eventType = 'directMarketing.emailSent', 'minutes')\n",
    "           OVER (PARTITION BY _{tenant_id}.cmle_id ORDER BY timestamp ROWS BETWEEN UNBOUNDED PRECEDING AND CURRENT ROW) \n",
    "           AS \"minutes_since_emailSent\",\n",
    "       TIME_BETWEEN_PREVIOUS_MATCH(timestamp, eventType = 'directMarketing.emailOpened', 'minutes')\n",
    "           OVER (PARTITION BY _{tenant_id}.cmle_id ORDER BY timestamp ROWS BETWEEN UNBOUNDED PRECEDING AND CURRENT ROW) \n",
    "           AS \"minutes_since_emailOpened\",\n",
    "       TIME_BETWEEN_PREVIOUS_MATCH(timestamp, eventType = 'directMarketing.emailClicked', 'minutes')\n",
    "           OVER (PARTITION BY _{tenant_id}.cmle_id ORDER BY timestamp ROWS BETWEEN UNBOUNDED PRECEDING AND CURRENT ROW) \n",
    "           AS \"minutes_since_emailClick\",\n",
    "       TIME_BETWEEN_PREVIOUS_MATCH(timestamp, eventType = 'commerce.productViews', 'minutes')\n",
    "           OVER (PARTITION BY _{tenant_id}.cmle_id ORDER BY timestamp ROWS BETWEEN UNBOUNDED PRECEDING AND CURRENT ROW) \n",
    "           AS \"minutes_since_productView\",\n",
    "       TIME_BETWEEN_PREVIOUS_MATCH(timestamp, eventType = 'decisioning.propositionInteract', 'minutes')\n",
    "           OVER (PARTITION BY _{tenant_id}.cmle_id ORDER BY timestamp ROWS BETWEEN UNBOUNDED PRECEDING AND CURRENT ROW) \n",
    "           AS \"minutes_since_propositionInteract\",\n",
    "       TIME_BETWEEN_PREVIOUS_MATCH(timestamp, eventType = 'propositionDismiss', 'minutes')\n",
    "           OVER (PARTITION BY _{tenant_id}.cmle_id ORDER BY timestamp ROWS BETWEEN UNBOUNDED PRECEDING AND CURRENT ROW) \n",
    "           AS \"minutes_since_propositionDismiss\",\n",
    "       TIME_BETWEEN_PREVIOUS_MATCH(timestamp, eventType = 'web.webinteraction.linkClicks', 'minutes')\n",
    "           OVER (PARTITION BY _{tenant_id}.cmle_id ORDER BY timestamp ROWS BETWEEN UNBOUNDED PRECEDING AND CURRENT ROW) \n",
    "           AS \"minutes_since_linkClick\",\n",
    "        row_number() OVER (PARTITION BY _{tenant_id}.cmle_id ORDER BY randn()) AS random_row_number_for_user\n",
    "    FROM {table_name} LIMIT 1000\n",
    ")\n",
    "WHERE (subscriptionOccurred = 1 AND eventType = 'web.formFilledOut') OR (subscriptionOccurred = 0 AND random_row_number_for_user = 1)\n",
    "ORDER BY timestamp\n",
    "\"\"\"\n",
    "\n",
    "df_training_set = qs_cursor.query(query_training_set, output=\"dataframe\")\n",
    "df_training_set.head()"
   ]
  },
  {
   "cell_type": "markdown",
   "id": "a929bea9",
   "metadata": {},
   "source": [
    "## 3.2 Generate features incrementally"
   ]
  },
  {
   "cell_type": "markdown",
   "id": "1986ad88",
   "metadata": {},
   "source": [
    "Now in a typical ML workload you'll want to use incremental data to feed to your model, or data between some specific dates. For that purpose we can use snapshot information that is tracked inside Query Service every time a new batch of data is ingested, using the `history_meta` metadata table. For example, you can access the metadata for each batch of your dataset using the query below:"
   ]
  },
  {
   "cell_type": "code",
   "execution_count": null,
   "id": "6b8c46ea",
   "metadata": {},
   "outputs": [
    {
     "name": "stdout",
     "output_type": "stream",
     "text": [
      "Total number of snapshots/batches: 12\n"
     ]
    },
    {
     "data": {
      "text/html": [
       "<div>\n",
       "<style scoped>\n",
       "    .dataframe tbody tr th:only-of-type {\n",
       "        vertical-align: middle;\n",
       "    }\n",
       "\n",
       "    .dataframe tbody tr th {\n",
       "        vertical-align: top;\n",
       "    }\n",
       "\n",
       "    .dataframe thead th {\n",
       "        text-align: right;\n",
       "    }\n",
       "</style>\n",
       "<table border=\"1\" class=\"dataframe\">\n",
       "  <thead>\n",
       "    <tr style=\"text-align: right;\">\n",
       "      <th></th>\n",
       "      <th>snapshot_generation</th>\n",
       "      <th>made_current_at</th>\n",
       "      <th>snapshot_id</th>\n",
       "      <th>parent_id</th>\n",
       "      <th>is_current_ancestor</th>\n",
       "      <th>is_current</th>\n",
       "      <th>output_record_count</th>\n",
       "      <th>output_byte_size</th>\n",
       "    </tr>\n",
       "  </thead>\n",
       "  <tbody>\n",
       "    <tr>\n",
       "      <th>0</th>\n",
       "      <td>0</td>\n",
       "      <td>2023-09-08 16:50:00.820</td>\n",
       "      <td>3286515082529790819</td>\n",
       "      <td>NaN</td>\n",
       "      <td>True</td>\n",
       "      <td>False</td>\n",
       "      <td>106289</td>\n",
       "      <td>14604287</td>\n",
       "    </tr>\n",
       "    <tr>\n",
       "      <th>1</th>\n",
       "      <td>1</td>\n",
       "      <td>2023-09-08 16:50:07.513</td>\n",
       "      <td>4743421888489586139</td>\n",
       "      <td>3.286515e+18</td>\n",
       "      <td>True</td>\n",
       "      <td>False</td>\n",
       "      <td>106644</td>\n",
       "      <td>14694626</td>\n",
       "    </tr>\n",
       "    <tr>\n",
       "      <th>2</th>\n",
       "      <td>2</td>\n",
       "      <td>2023-09-08 16:50:19.254</td>\n",
       "      <td>544474937051470244</td>\n",
       "      <td>4.743422e+18</td>\n",
       "      <td>True</td>\n",
       "      <td>False</td>\n",
       "      <td>106268</td>\n",
       "      <td>14609701</td>\n",
       "    </tr>\n",
       "    <tr>\n",
       "      <th>3</th>\n",
       "      <td>3</td>\n",
       "      <td>2023-09-08 16:50:25.659</td>\n",
       "      <td>7794470109741950454</td>\n",
       "      <td>5.444749e+17</td>\n",
       "      <td>True</td>\n",
       "      <td>False</td>\n",
       "      <td>106699</td>\n",
       "      <td>14667225</td>\n",
       "    </tr>\n",
       "    <tr>\n",
       "      <th>4</th>\n",
       "      <td>4</td>\n",
       "      <td>2023-09-08 16:50:30.523</td>\n",
       "      <td>1551531626087368405</td>\n",
       "      <td>7.794470e+18</td>\n",
       "      <td>True</td>\n",
       "      <td>False</td>\n",
       "      <td>106331</td>\n",
       "      <td>14645045</td>\n",
       "    </tr>\n",
       "    <tr>\n",
       "      <th>5</th>\n",
       "      <td>5</td>\n",
       "      <td>2023-09-08 16:50:32.925</td>\n",
       "      <td>4817280936725158809</td>\n",
       "      <td>1.551532e+18</td>\n",
       "      <td>True</td>\n",
       "      <td>False</td>\n",
       "      <td>106477</td>\n",
       "      <td>14660987</td>\n",
       "    </tr>\n",
       "    <tr>\n",
       "      <th>6</th>\n",
       "      <td>6</td>\n",
       "      <td>2023-09-08 16:50:39.209</td>\n",
       "      <td>156320013683556661</td>\n",
       "      <td>4.817281e+18</td>\n",
       "      <td>True</td>\n",
       "      <td>False</td>\n",
       "      <td>106423</td>\n",
       "      <td>14644409</td>\n",
       "    </tr>\n",
       "    <tr>\n",
       "      <th>7</th>\n",
       "      <td>7</td>\n",
       "      <td>2023-09-08 16:50:40.889</td>\n",
       "      <td>4047588525626190320</td>\n",
       "      <td>1.563200e+17</td>\n",
       "      <td>True</td>\n",
       "      <td>False</td>\n",
       "      <td>106678</td>\n",
       "      <td>14681321</td>\n",
       "    </tr>\n",
       "    <tr>\n",
       "      <th>8</th>\n",
       "      <td>8</td>\n",
       "      <td>2023-09-08 16:50:59.603</td>\n",
       "      <td>6641168707940210622</td>\n",
       "      <td>4.047589e+18</td>\n",
       "      <td>True</td>\n",
       "      <td>False</td>\n",
       "      <td>106269</td>\n",
       "      <td>14613530</td>\n",
       "    </tr>\n",
       "    <tr>\n",
       "      <th>9</th>\n",
       "      <td>9</td>\n",
       "      <td>2023-09-08 16:51:06.253</td>\n",
       "      <td>4124935413682770401</td>\n",
       "      <td>6.641169e+18</td>\n",
       "      <td>True</td>\n",
       "      <td>False</td>\n",
       "      <td>106445</td>\n",
       "      <td>14638031</td>\n",
       "    </tr>\n",
       "  </tbody>\n",
       "</table>\n",
       "</div>"
      ],
      "text/plain": [
       "   snapshot_generation         made_current_at          snapshot_id  \\\n",
       "0                    0 2023-09-08 16:50:00.820  3286515082529790819   \n",
       "1                    1 2023-09-08 16:50:07.513  4743421888489586139   \n",
       "2                    2 2023-09-08 16:50:19.254   544474937051470244   \n",
       "3                    3 2023-09-08 16:50:25.659  7794470109741950454   \n",
       "4                    4 2023-09-08 16:50:30.523  1551531626087368405   \n",
       "5                    5 2023-09-08 16:50:32.925  4817280936725158809   \n",
       "6                    6 2023-09-08 16:50:39.209   156320013683556661   \n",
       "7                    7 2023-09-08 16:50:40.889  4047588525626190320   \n",
       "8                    8 2023-09-08 16:50:59.603  6641168707940210622   \n",
       "9                    9 2023-09-08 16:51:06.253  4124935413682770401   \n",
       "\n",
       "      parent_id  is_current_ancestor  is_current  output_record_count  \\\n",
       "0           NaN                 True       False               106289   \n",
       "1  3.286515e+18                 True       False               106644   \n",
       "2  4.743422e+18                 True       False               106268   \n",
       "3  5.444749e+17                 True       False               106699   \n",
       "4  7.794470e+18                 True       False               106331   \n",
       "5  1.551532e+18                 True       False               106477   \n",
       "6  4.817281e+18                 True       False               106423   \n",
       "7  1.563200e+17                 True       False               106678   \n",
       "8  4.047589e+18                 True       False               106269   \n",
       "9  6.641169e+18                 True       False               106445   \n",
       "\n",
       "   output_byte_size  \n",
       "0          14604287  \n",
       "1          14694626  \n",
       "2          14609701  \n",
       "3          14667225  \n",
       "4          14645045  \n",
       "5          14660987  \n",
       "6          14644409  \n",
       "7          14681321  \n",
       "8          14613530  \n",
       "9          14638031  "
      ]
     },
     "metadata": {},
     "output_type": "display_data"
    }
   ],
   "source": [
    "query_meta = f\"\"\"\n",
    "SELECT * FROM (SELECT history_meta('{table_name}'))\n",
    "\"\"\"\n",
    "\n",
    "df_meta = qs_cursor.query(query_meta, output=\"dataframe\")\n",
    "print(f\"Total number of snapshots/batches: {len(df_meta)}\")\n",
    "df_meta.head(n=10)"
   ]
  },
  {
   "cell_type": "markdown",
   "id": "f025967c",
   "metadata": {},
   "source": [
    "Now let's use that information to transform our featurization query into an incremental version of it. We can use [anonymous blocks](https://experienceleague.adobe.com/docs/experience-platform/query/sql/syntax.html?lang=en#anonymous-block) to create variables used to filter on the snapshots. Anonymous blocks are useful to embed multiple queries at once and do things like defining variables and such. We can then use Query Service's `SNAPSHOT BETWEEN x AND y` functionality to query data incrementally.\n",
    "\n",
    "In our case because this is the first time generating the features we will look at data between the most recent snapshot and its preceding one (which should correspond to the last batch of data ingested), but this can be extended to query data between any snapshots:"
   ]
  },
  {
   "cell_type": "code",
   "execution_count": null,
   "id": "856f422e",
   "metadata": {},
   "outputs": [
    {
     "data": {
      "text/plain": [
       "'\\n$$ BEGIN\\n\\nSET @from_snapshot_id = SELECT parent_id FROM (SELECT history_meta(\\'cmle_synthetic_data_experience_event_dataset_created_by_jeremypa\\')) WHERE is_current = true;\\nSET @to_snapshot_id = SELECT snapshot_id FROM (SELECT history_meta(\\'cmle_synthetic_data_experience_event_dataset_created_by_jeremypa\\')) WHERE is_current = true;\\n\\nSELECT *\\nFROM (\\n    SELECT _aemonacpprodcampaign.cmle_id as userId, \\n       eventType,\\n       timestamp,\\n       SUM(CASE WHEN eventType=\\'web.formFilledOut\\' THEN 1 ELSE 0 END) \\n           OVER (PARTITION BY _aemonacpprodcampaign.cmle_id) \\n           AS \"subscriptionOccurred\",\\n       SUM(CASE WHEN eventType=\\'directMarketing.emailSent\\' THEN 1 ELSE 0 END) \\n           OVER (PARTITION BY _aemonacpprodcampaign.cmle_id ORDER BY timestamp ROWS BETWEEN UNBOUNDED PRECEDING AND CURRENT ROW) \\n           AS \"emailsReceived\",\\n       SUM(CASE WHEN eventType=\\'directMarketing.emailOpened\\' THEN 1 ELSE 0 END) \\n           OVER (PARTITION BY _aemonacpprodcampaign.cmle_id ORDER BY timestamp ROWS BETWEEN UNBOUNDED PRECEDING AND CURRENT ROW) \\n           AS \"emailsOpened\",       \\n       SUM(CASE WHEN eventType=\\'directMarketing.emailClicked\\' THEN 1 ELSE 0 END) \\n           OVER (PARTITION BY _aemonacpprodcampaign.cmle_id ORDER BY timestamp ROWS BETWEEN UNBOUNDED PRECEDING AND CURRENT ROW) \\n           AS \"emailsClicked\",       \\n       SUM(CASE WHEN eventType=\\'commerce.productViews\\' THEN 1 ELSE 0 END) \\n           OVER (PARTITION BY _aemonacpprodcampaign.cmle_id ORDER BY timestamp ROWS BETWEEN UNBOUNDED PRECEDING AND CURRENT ROW) \\n           AS \"productsViewed\",       \\n       SUM(CASE WHEN eventType=\\'decisioning.propositionInteract\\' THEN 1 ELSE 0 END) \\n           OVER (PARTITION BY _aemonacpprodcampaign.cmle_id ORDER BY timestamp ROWS BETWEEN UNBOUNDED PRECEDING AND CURRENT ROW) \\n           AS \"propositionInteracts\",       \\n       SUM(CASE WHEN eventType=\\'decisioning.propositionDismiss\\' THEN 1 ELSE 0 END) \\n           OVER (PARTITION BY _aemonacpprodcampaign.cmle_id ORDER BY timestamp ROWS BETWEEN UNBOUNDED PRECEDING AND CURRENT ROW) \\n           AS \"propositionDismissed\",\\n       SUM(CASE WHEN eventType=\\'web.webinteraction.linkClicks\\' THEN 1 ELSE 0 END) \\n           OVER (PARTITION BY _aemonacpprodcampaign.cmle_id ORDER BY timestamp ROWS BETWEEN UNBOUNDED PRECEDING AND CURRENT ROW) \\n           AS \"webLinkClicks\" ,\\n       TIME_BETWEEN_PREVIOUS_MATCH(timestamp, eventType = \\'directMarketing.emailSent\\', \\'minutes\\')\\n           OVER (PARTITION BY _aemonacpprodcampaign.cmle_id ORDER BY timestamp ROWS BETWEEN UNBOUNDED PRECEDING AND CURRENT ROW) \\n           AS \"minutes_since_emailSent\",\\n       TIME_BETWEEN_PREVIOUS_MATCH(timestamp, eventType = \\'directMarketing.emailOpened\\', \\'minutes\\')\\n           OVER (PARTITION BY _aemonacpprodcampaign.cmle_id ORDER BY timestamp ROWS BETWEEN UNBOUNDED PRECEDING AND CURRENT ROW) \\n           AS \"minutes_since_emailOpened\",\\n       TIME_BETWEEN_PREVIOUS_MATCH(timestamp, eventType = \\'directMarketing.emailClicked\\', \\'minutes\\')\\n           OVER (PARTITION BY _aemonacpprodcampaign.cmle_id ORDER BY timestamp ROWS BETWEEN UNBOUNDED PRECEDING AND CURRENT ROW) \\n           AS \"minutes_since_emailClick\",\\n       TIME_BETWEEN_PREVIOUS_MATCH(timestamp, eventType = \\'commerce.productViews\\', \\'minutes\\')\\n           OVER (PARTITION BY _aemonacpprodcampaign.cmle_id ORDER BY timestamp ROWS BETWEEN UNBOUNDED PRECEDING AND CURRENT ROW) \\n           AS \"minutes_since_productView\",\\n       TIME_BETWEEN_PREVIOUS_MATCH(timestamp, eventType = \\'decisioning.propositionInteract\\', \\'minutes\\')\\n           OVER (PARTITION BY _aemonacpprodcampaign.cmle_id ORDER BY timestamp ROWS BETWEEN UNBOUNDED PRECEDING AND CURRENT ROW) \\n           AS \"minutes_since_propositionInteract\",\\n       TIME_BETWEEN_PREVIOUS_MATCH(timestamp, eventType = \\'propositionDismiss\\', \\'minutes\\')\\n           OVER (PARTITION BY _aemonacpprodcampaign.cmle_id ORDER BY timestamp ROWS BETWEEN UNBOUNDED PRECEDING AND CURRENT ROW) \\n           AS \"minutes_since_propositionDismiss\",\\n       TIME_BETWEEN_PREVIOUS_MATCH(timestamp, eventType = \\'web.webinteraction.linkClicks\\', \\'minutes\\')\\n           OVER (PARTITION BY _aemonacpprodcampaign.cmle_id ORDER BY timestamp ROWS BETWEEN UNBOUNDED PRECEDING AND CURRENT ROW) \\n           AS \"minutes_since_linkClick\",\\n        row_number() OVER (PARTITION BY _aemonacpprodcampaign.cmle_id ORDER BY randn()) AS random_row_number_for_user\\n    FROM cmle_synthetic_data_experience_event_dataset_created_by_jeremypa\\n    SNAPSHOT BETWEEN @from_snapshot_id AND @to_snapshot_id\\n)\\nWHERE (subscriptionOccurred = 1 AND eventType = \\'web.formFilledOut\\') OR (subscriptionOccurred = 0 AND random_row_number_for_user = 1)\\nORDER BY timestamp;\\n\\nEXCEPTION\\n  WHEN OTHER THEN\\n    SELECT \\'ERROR\\';\\n\\nEND $$;\\n'"
      ]
     },
     "metadata": {},
     "output_type": "display_data"
    }
   ],
   "source": [
    "f\"\"\"\n",
    "$$ BEGIN\n",
    "\n",
    "SET @from_snapshot_id = SELECT parent_id FROM (SELECT history_meta('{table_name}')) WHERE is_current = true;\n",
    "SET @to_snapshot_id = SELECT snapshot_id FROM (SELECT history_meta('{table_name}')) WHERE is_current = true;\n",
    "\n",
    "SELECT *\n",
    "FROM (\n",
    "    SELECT _{tenant_id}.cmle_id as userId, \n",
    "       eventType,\n",
    "       timestamp,\n",
    "       SUM(CASE WHEN eventType='web.formFilledOut' THEN 1 ELSE 0 END) \n",
    "           OVER (PARTITION BY _{tenant_id}.cmle_id) \n",
    "           AS \"subscriptionOccurred\",\n",
    "       SUM(CASE WHEN eventType='directMarketing.emailSent' THEN 1 ELSE 0 END) \n",
    "           OVER (PARTITION BY _{tenant_id}.cmle_id ORDER BY timestamp ROWS BETWEEN UNBOUNDED PRECEDING AND CURRENT ROW) \n",
    "           AS \"emailsReceived\",\n",
    "       SUM(CASE WHEN eventType='directMarketing.emailOpened' THEN 1 ELSE 0 END) \n",
    "           OVER (PARTITION BY _{tenant_id}.cmle_id ORDER BY timestamp ROWS BETWEEN UNBOUNDED PRECEDING AND CURRENT ROW) \n",
    "           AS \"emailsOpened\",       \n",
    "       SUM(CASE WHEN eventType='directMarketing.emailClicked' THEN 1 ELSE 0 END) \n",
    "           OVER (PARTITION BY _{tenant_id}.cmle_id ORDER BY timestamp ROWS BETWEEN UNBOUNDED PRECEDING AND CURRENT ROW) \n",
    "           AS \"emailsClicked\",       \n",
    "       SUM(CASE WHEN eventType='commerce.productViews' THEN 1 ELSE 0 END) \n",
    "           OVER (PARTITION BY _{tenant_id}.cmle_id ORDER BY timestamp ROWS BETWEEN UNBOUNDED PRECEDING AND CURRENT ROW) \n",
    "           AS \"productsViewed\",       \n",
    "       SUM(CASE WHEN eventType='decisioning.propositionInteract' THEN 1 ELSE 0 END) \n",
    "           OVER (PARTITION BY _{tenant_id}.cmle_id ORDER BY timestamp ROWS BETWEEN UNBOUNDED PRECEDING AND CURRENT ROW) \n",
    "           AS \"propositionInteracts\",       \n",
    "       SUM(CASE WHEN eventType='decisioning.propositionDismiss' THEN 1 ELSE 0 END) \n",
    "           OVER (PARTITION BY _{tenant_id}.cmle_id ORDER BY timestamp ROWS BETWEEN UNBOUNDED PRECEDING AND CURRENT ROW) \n",
    "           AS \"propositionDismissed\",\n",
    "       SUM(CASE WHEN eventType='web.webinteraction.linkClicks' THEN 1 ELSE 0 END) \n",
    "           OVER (PARTITION BY _{tenant_id}.cmle_id ORDER BY timestamp ROWS BETWEEN UNBOUNDED PRECEDING AND CURRENT ROW) \n",
    "           AS \"webLinkClicks\" ,\n",
    "       TIME_BETWEEN_PREVIOUS_MATCH(timestamp, eventType = 'directMarketing.emailSent', 'minutes')\n",
    "           OVER (PARTITION BY _{tenant_id}.cmle_id ORDER BY timestamp ROWS BETWEEN UNBOUNDED PRECEDING AND CURRENT ROW) \n",
    "           AS \"minutes_since_emailSent\",\n",
    "       TIME_BETWEEN_PREVIOUS_MATCH(timestamp, eventType = 'directMarketing.emailOpened', 'minutes')\n",
    "           OVER (PARTITION BY _{tenant_id}.cmle_id ORDER BY timestamp ROWS BETWEEN UNBOUNDED PRECEDING AND CURRENT ROW) \n",
    "           AS \"minutes_since_emailOpened\",\n",
    "       TIME_BETWEEN_PREVIOUS_MATCH(timestamp, eventType = 'directMarketing.emailClicked', 'minutes')\n",
    "           OVER (PARTITION BY _{tenant_id}.cmle_id ORDER BY timestamp ROWS BETWEEN UNBOUNDED PRECEDING AND CURRENT ROW) \n",
    "           AS \"minutes_since_emailClick\",\n",
    "       TIME_BETWEEN_PREVIOUS_MATCH(timestamp, eventType = 'commerce.productViews', 'minutes')\n",
    "           OVER (PARTITION BY _{tenant_id}.cmle_id ORDER BY timestamp ROWS BETWEEN UNBOUNDED PRECEDING AND CURRENT ROW) \n",
    "           AS \"minutes_since_productView\",\n",
    "       TIME_BETWEEN_PREVIOUS_MATCH(timestamp, eventType = 'decisioning.propositionInteract', 'minutes')\n",
    "           OVER (PARTITION BY _{tenant_id}.cmle_id ORDER BY timestamp ROWS BETWEEN UNBOUNDED PRECEDING AND CURRENT ROW) \n",
    "           AS \"minutes_since_propositionInteract\",\n",
    "       TIME_BETWEEN_PREVIOUS_MATCH(timestamp, eventType = 'propositionDismiss', 'minutes')\n",
    "           OVER (PARTITION BY _{tenant_id}.cmle_id ORDER BY timestamp ROWS BETWEEN UNBOUNDED PRECEDING AND CURRENT ROW) \n",
    "           AS \"minutes_since_propositionDismiss\",\n",
    "       TIME_BETWEEN_PREVIOUS_MATCH(timestamp, eventType = 'web.webinteraction.linkClicks', 'minutes')\n",
    "           OVER (PARTITION BY _{tenant_id}.cmle_id ORDER BY timestamp ROWS BETWEEN UNBOUNDED PRECEDING AND CURRENT ROW) \n",
    "           AS \"minutes_since_linkClick\",\n",
    "        row_number() OVER (PARTITION BY _{tenant_id}.cmle_id ORDER BY randn()) AS random_row_number_for_user\n",
    "    FROM {table_name}\n",
    "    SNAPSHOT BETWEEN @from_snapshot_id AND @to_snapshot_id\n",
    ")\n",
    "WHERE (subscriptionOccurred = 1 AND eventType = 'web.formFilledOut') OR (subscriptionOccurred = 0 AND random_row_number_for_user = 1)\n",
    "ORDER BY timestamp;\n",
    "\n",
    "EXCEPTION\n",
    "  WHEN OTHER THEN\n",
    "    SELECT 'ERROR';\n",
    "\n",
    "END $$;\n",
    "\"\"\""
   ]
  },
  {
   "cell_type": "markdown",
   "id": "99876d30",
   "metadata": {},
   "source": [
    "Note that we're not executing it interactively because this anonymous block is actually multiple queries chained together, and there is no simple way to return multiple result sets using PostgreSQL libraries.\n",
    "\n",
    "To solve that we can executed the query asynchronously and add a `CREATE TABLE x AS` statement at the beginning of our featurization query, to then look in that table. Note that because this is executed asynchronously, it goes into the Query Service scheduler and will take a few minutes to start executing, unlike the code we've been running until now which was synchronous and instant."
   ]
  },
  {
   "cell_type": "code",
   "execution_count": null,
   "id": "3c4bfd58",
   "metadata": {},
   "outputs": [
    {
     "name": "stdout",
     "output_type": "stream",
     "text": [
      "Query started successfully and got assigned ID 266167bf-bda5-4479-85e2-088fb1d6197a - it will take some time to execute\n"
     ]
    }
   ],
   "source": [
    "import time\n",
    "import sys\n",
    "\n",
    "ctas_table_name = f\"cmle_example_training_set_incremental_{username}\"\n",
    "\n",
    "query_training_set_incremental = f\"\"\"\n",
    "$$ BEGIN\n",
    "\n",
    "SET @from_snapshot_id = SELECT parent_id FROM (SELECT history_meta('{table_name}')) WHERE is_current = true;\n",
    "SET @to_snapshot_id = SELECT snapshot_id FROM (SELECT history_meta('{table_name}')) WHERE is_current = true;\n",
    "\n",
    "CREATE TABLE {ctas_table_name} AS\n",
    "SELECT *\n",
    "FROM (\n",
    "    SELECT _{tenant_id}.cmle_id as userId, \n",
    "       eventType,\n",
    "       timestamp,\n",
    "       SUM(CASE WHEN eventType='web.formFilledOut' THEN 1 ELSE 0 END) \n",
    "           OVER (PARTITION BY _{tenant_id}.cmle_id) \n",
    "           AS \"subscriptionOccurred\",\n",
    "       SUM(CASE WHEN eventType='directMarketing.emailSent' THEN 1 ELSE 0 END) \n",
    "           OVER (PARTITION BY _{tenant_id}.cmle_id ORDER BY timestamp ROWS BETWEEN UNBOUNDED PRECEDING AND CURRENT ROW) \n",
    "           AS \"emailsReceived\",\n",
    "       SUM(CASE WHEN eventType='directMarketing.emailOpened' THEN 1 ELSE 0 END) \n",
    "           OVER (PARTITION BY _{tenant_id}.cmle_id ORDER BY timestamp ROWS BETWEEN UNBOUNDED PRECEDING AND CURRENT ROW) \n",
    "           AS \"emailsOpened\",       \n",
    "       SUM(CASE WHEN eventType='directMarketing.emailClicked' THEN 1 ELSE 0 END) \n",
    "           OVER (PARTITION BY _{tenant_id}.cmle_id ORDER BY timestamp ROWS BETWEEN UNBOUNDED PRECEDING AND CURRENT ROW) \n",
    "           AS \"emailsClicked\",       \n",
    "       SUM(CASE WHEN eventType='commerce.productViews' THEN 1 ELSE 0 END) \n",
    "           OVER (PARTITION BY _{tenant_id}.cmle_id ORDER BY timestamp ROWS BETWEEN UNBOUNDED PRECEDING AND CURRENT ROW) \n",
    "           AS \"productsViewed\",       \n",
    "       SUM(CASE WHEN eventType='decisioning.propositionInteract' THEN 1 ELSE 0 END) \n",
    "           OVER (PARTITION BY _{tenant_id}.cmle_id ORDER BY timestamp ROWS BETWEEN UNBOUNDED PRECEDING AND CURRENT ROW) \n",
    "           AS \"propositionInteracts\",       \n",
    "       SUM(CASE WHEN eventType='decisioning.propositionDismiss' THEN 1 ELSE 0 END) \n",
    "           OVER (PARTITION BY _{tenant_id}.cmle_id ORDER BY timestamp ROWS BETWEEN UNBOUNDED PRECEDING AND CURRENT ROW) \n",
    "           AS \"propositionDismissed\",\n",
    "       SUM(CASE WHEN eventType='web.webinteraction.linkClicks' THEN 1 ELSE 0 END) \n",
    "           OVER (PARTITION BY _{tenant_id}.cmle_id ORDER BY timestamp ROWS BETWEEN UNBOUNDED PRECEDING AND CURRENT ROW) \n",
    "           AS \"webLinkClicks\" ,\n",
    "       TIME_BETWEEN_PREVIOUS_MATCH(timestamp, eventType = 'directMarketing.emailSent', 'minutes')\n",
    "           OVER (PARTITION BY _{tenant_id}.cmle_id ORDER BY timestamp ROWS BETWEEN UNBOUNDED PRECEDING AND CURRENT ROW) \n",
    "           AS \"minutes_since_emailSent\",\n",
    "       TIME_BETWEEN_PREVIOUS_MATCH(timestamp, eventType = 'directMarketing.emailOpened', 'minutes')\n",
    "           OVER (PARTITION BY _{tenant_id}.cmle_id ORDER BY timestamp ROWS BETWEEN UNBOUNDED PRECEDING AND CURRENT ROW) \n",
    "           AS \"minutes_since_emailOpened\",\n",
    "       TIME_BETWEEN_PREVIOUS_MATCH(timestamp, eventType = 'directMarketing.emailClicked', 'minutes')\n",
    "           OVER (PARTITION BY _{tenant_id}.cmle_id ORDER BY timestamp ROWS BETWEEN UNBOUNDED PRECEDING AND CURRENT ROW) \n",
    "           AS \"minutes_since_emailClick\",\n",
    "       TIME_BETWEEN_PREVIOUS_MATCH(timestamp, eventType = 'commerce.productViews', 'minutes')\n",
    "           OVER (PARTITION BY _{tenant_id}.cmle_id ORDER BY timestamp ROWS BETWEEN UNBOUNDED PRECEDING AND CURRENT ROW) \n",
    "           AS \"minutes_since_productView\",\n",
    "       TIME_BETWEEN_PREVIOUS_MATCH(timestamp, eventType = 'decisioning.propositionInteract', 'minutes')\n",
    "           OVER (PARTITION BY _{tenant_id}.cmle_id ORDER BY timestamp ROWS BETWEEN UNBOUNDED PRECEDING AND CURRENT ROW) \n",
    "           AS \"minutes_since_propositionInteract\",\n",
    "       TIME_BETWEEN_PREVIOUS_MATCH(timestamp, eventType = 'propositionDismiss', 'minutes')\n",
    "           OVER (PARTITION BY _{tenant_id}.cmle_id ORDER BY timestamp ROWS BETWEEN UNBOUNDED PRECEDING AND CURRENT ROW) \n",
    "           AS \"minutes_since_propositionDismiss\",\n",
    "       TIME_BETWEEN_PREVIOUS_MATCH(timestamp, eventType = 'web.webinteraction.linkClicks', 'minutes')\n",
    "           OVER (PARTITION BY _{tenant_id}.cmle_id ORDER BY timestamp ROWS BETWEEN UNBOUNDED PRECEDING AND CURRENT ROW) \n",
    "           AS \"minutes_since_linkClick\",\n",
    "        row_number() OVER (PARTITION BY _{tenant_id}.cmle_id ORDER BY randn()) AS random_row_number_for_user\n",
    "    FROM {table_name}\n",
    "    SNAPSHOT BETWEEN @from_snapshot_id AND @to_snapshot_id LIMIT 1000\n",
    ")\n",
    "WHERE (subscriptionOccurred = 1 AND eventType = 'web.formFilledOut') OR (subscriptionOccurred = 0 AND random_row_number_for_user = 1)\n",
    "ORDER BY timestamp;\n",
    "\n",
    "EXCEPTION\n",
    "  WHEN OTHER THEN\n",
    "    SELECT 'ERROR';\n",
    "\n",
    "END $$;\n",
    "\"\"\"\n",
    "\n",
    "query_incremental_res = qs.postQueries(\n",
    "    name=\"[CMLE][Week2] Query to generate incremental training data\",\n",
    "    sql=query_training_set_incremental,\n",
    "    dbname=f\"{cat_conn.sandbox}:{table_name}\"\n",
    ")\n",
    "query_incremental_id = query_incremental_res[\"id\"]\n",
    "print(f\"Query started successfully and got assigned ID {query_incremental_id} - it will take some time to execute\")"
   ]
  },
  {
   "cell_type": "code",
   "execution_count": null,
   "id": "b84a702a",
   "metadata": {},
   "outputs": [],
   "source": [
    "def wait_for_query_completion(query_id):\n",
    "    while True:\n",
    "        query_info = qs.getQuery(query_id)\n",
    "        query_state = query_info[\"state\"]\n",
    "        if query_state in [\"SUCCESS\", \"FAILED\"]:\n",
    "            break\n",
    "        print(\"Query is still in progress, sleeping...\")\n",
    "        time.sleep(60)\n",
    "\n",
    "    duration_secs = query_info[\"elapsedTime\"] / 1000\n",
    "    if query_state == \"SUCCESS\":\n",
    "        print(f\"Query completed successfully in {duration_secs} seconds\")\n",
    "    else:\n",
    "        print(f\"Query failed with the following errors:\", file=sys.stderr)\n",
    "        for error in query_info[\"errors\"]:\n",
    "            print(f\"Error code {error['code']}: {error['message']}\", file=sys.stderr)"
   ]
  },
  {
   "cell_type": "code",
   "execution_count": null,
   "id": "1846f018",
   "metadata": {},
   "outputs": [
    {
     "name": "stdout",
     "output_type": "stream",
     "text": [
      "Query is still in progress, sleeping...\n",
      "Query is still in progress, sleeping...\n",
      "Query is still in progress, sleeping...\n",
      "Query completed successfully in 160.494 seconds\n"
     ]
    }
   ],
   "source": [
    "wait_for_query_completion(query_incremental_id)"
   ]
  },
  {
   "cell_type": "markdown",
   "id": "f18d7405",
   "metadata": {},
   "source": [
    "<div class=\"alert alert-block alert-warning\">\n",
    "<b>Note:</b> This should run in less than 10 minutes. If for whatever reason this does not finish in that time frame, it may get stuck creating the batch if the ingestion service is busy ingesting other data in your organization. We advise waiting longer or reaching out to your Adobe contact if this does not complete.\n",
    "    \n",
    "The same comment applies to subsequent cells where we use `wait_for_query_completion`.\n",
    "</div>"
   ]
  },
  {
   "cell_type": "markdown",
   "id": "2c1cb866",
   "metadata": {},
   "source": [
    "This `CREATE TABLE x AS` statement actually does several steps:\n",
    "- It will create a brand **new dataset** in your Adobe Experience Platform organization and sandbox.\n",
    "- The **schema** for this dataset will be created ad-hoc to **match the fields** of our featurization query, so there is no need to manually create schemas and fieldgroups for this.\n",
    "\n",
    "You can verify that by going in the UI at the link below, and making sure it you see the dataset as shown in the screenshot further down. The number of records should correspond to the batch size you used in the previous week since we are querying a single snapshot/batch.\n",
    "\n",
    "<div class=\"alert alert-block alert-warning\">\n",
    "<b>Note:</b> Re-executing the same query will fail, because it will try to create a table and not insert into it. We're solving this problem in the next section.\n",
    "</div>"
   ]
  },
  {
   "cell_type": "code",
   "execution_count": null,
   "id": "a13f7039",
   "metadata": {},
   "outputs": [
    {
     "name": "stdout",
     "output_type": "stream",
     "text": [
      "Dataset available as dataset ID 6515164137e63328d2a3280a under https://experience.adobe.com/#/@aemonacpprodcampaign/sname:laa-e2e/platform/dataset/browse/6515164137e63328d2a3280a\n"
     ]
    }
   ],
   "source": [
    "datasets_res = cat_conn.getDataSets(name=ctas_table_name)\n",
    "if len(datasets_res) != 1:\n",
    "    raise Exception(f\"Expected a single dataset but got {len(datasets_res)} ones\")\n",
    "ctas_dataset_id = list(datasets_res.keys())[0]\n",
    "ctas_dataset_link = get_ui_link(tenant_id, \"dataset/browse\", ctas_dataset_id)\n",
    "print(f\"Dataset available as dataset ID {ctas_dataset_id} under {ctas_dataset_link}\")"
   ]
  },
  {
   "cell_type": "markdown",
   "id": "8e6c782a",
   "metadata": {},
   "source": [
    "![CTAS](./media/CMLE-Notebooks-Week2-CTAS.png)"
   ]
  },
  {
   "cell_type": "markdown",
   "id": "1b05759e",
   "metadata": {},
   "source": [
    "Now we can just query it to see the structure of the data and verify it matches our query:"
   ]
  },
  {
   "cell_type": "code",
   "execution_count": null,
   "id": "1cf7553b",
   "metadata": {},
   "outputs": [
    {
     "data": {
      "text/html": [
       "<div>\n",
       "<style scoped>\n",
       "    .dataframe tbody tr th:only-of-type {\n",
       "        vertical-align: middle;\n",
       "    }\n",
       "\n",
       "    .dataframe tbody tr th {\n",
       "        vertical-align: top;\n",
       "    }\n",
       "\n",
       "    .dataframe thead th {\n",
       "        text-align: right;\n",
       "    }\n",
       "</style>\n",
       "<table border=\"1\" class=\"dataframe\">\n",
       "  <thead>\n",
       "    <tr style=\"text-align: right;\">\n",
       "      <th></th>\n",
       "      <th>userId</th>\n",
       "      <th>eventType</th>\n",
       "      <th>timestamp</th>\n",
       "      <th>subscriptionOccurred</th>\n",
       "      <th>emailsReceived</th>\n",
       "      <th>emailsOpened</th>\n",
       "      <th>emailsClicked</th>\n",
       "      <th>productsViewed</th>\n",
       "      <th>propositionInteracts</th>\n",
       "      <th>propositionDismissed</th>\n",
       "      <th>webLinkClicks</th>\n",
       "      <th>minutes_since_emailSent</th>\n",
       "      <th>minutes_since_emailOpened</th>\n",
       "      <th>minutes_since_emailClick</th>\n",
       "      <th>minutes_since_productView</th>\n",
       "      <th>minutes_since_propositionInteract</th>\n",
       "      <th>minutes_since_propositionDismiss</th>\n",
       "      <th>minutes_since_linkClick</th>\n",
       "      <th>random_row_number_for_user</th>\n",
       "    </tr>\n",
       "  </thead>\n",
       "  <tbody>\n",
       "    <tr>\n",
       "      <th>0</th>\n",
       "      <td>01801407210470561015579564400461566223</td>\n",
       "      <td>directMarketing.emailOpened</td>\n",
       "      <td>2023-06-16 20:09:43.636</td>\n",
       "      <td>0</td>\n",
       "      <td>1</td>\n",
       "      <td>1</td>\n",
       "      <td>0</td>\n",
       "      <td>0</td>\n",
       "      <td>0</td>\n",
       "      <td>0</td>\n",
       "      <td>0</td>\n",
       "      <td>173.0</td>\n",
       "      <td>0.0</td>\n",
       "      <td>NaN</td>\n",
       "      <td>None</td>\n",
       "      <td>None</td>\n",
       "      <td>None</td>\n",
       "      <td>None</td>\n",
       "      <td>1</td>\n",
       "    </tr>\n",
       "    <tr>\n",
       "      <th>1</th>\n",
       "      <td>02740864785533236156860454943500584777</td>\n",
       "      <td>advertising.impressions</td>\n",
       "      <td>2023-06-16 21:04:56.535</td>\n",
       "      <td>0</td>\n",
       "      <td>0</td>\n",
       "      <td>0</td>\n",
       "      <td>0</td>\n",
       "      <td>0</td>\n",
       "      <td>0</td>\n",
       "      <td>0</td>\n",
       "      <td>0</td>\n",
       "      <td>NaN</td>\n",
       "      <td>NaN</td>\n",
       "      <td>NaN</td>\n",
       "      <td>None</td>\n",
       "      <td>None</td>\n",
       "      <td>None</td>\n",
       "      <td>None</td>\n",
       "      <td>1</td>\n",
       "    </tr>\n",
       "    <tr>\n",
       "      <th>2</th>\n",
       "      <td>01198906010679088468352423564573901414</td>\n",
       "      <td>advertising.impressions</td>\n",
       "      <td>2023-06-17 02:45:58.535</td>\n",
       "      <td>0</td>\n",
       "      <td>0</td>\n",
       "      <td>0</td>\n",
       "      <td>0</td>\n",
       "      <td>0</td>\n",
       "      <td>0</td>\n",
       "      <td>0</td>\n",
       "      <td>0</td>\n",
       "      <td>NaN</td>\n",
       "      <td>NaN</td>\n",
       "      <td>NaN</td>\n",
       "      <td>None</td>\n",
       "      <td>None</td>\n",
       "      <td>None</td>\n",
       "      <td>None</td>\n",
       "      <td>1</td>\n",
       "    </tr>\n",
       "    <tr>\n",
       "      <th>3</th>\n",
       "      <td>03287795145396298474992132960837734769</td>\n",
       "      <td>directMarketing.emailSent</td>\n",
       "      <td>2023-06-17 23:24:10.535</td>\n",
       "      <td>0</td>\n",
       "      <td>1</td>\n",
       "      <td>0</td>\n",
       "      <td>0</td>\n",
       "      <td>0</td>\n",
       "      <td>0</td>\n",
       "      <td>0</td>\n",
       "      <td>0</td>\n",
       "      <td>0.0</td>\n",
       "      <td>NaN</td>\n",
       "      <td>NaN</td>\n",
       "      <td>None</td>\n",
       "      <td>None</td>\n",
       "      <td>None</td>\n",
       "      <td>None</td>\n",
       "      <td>1</td>\n",
       "    </tr>\n",
       "    <tr>\n",
       "      <th>4</th>\n",
       "      <td>01728940698426493087164457991038719790</td>\n",
       "      <td>directMarketing.emailSent</td>\n",
       "      <td>2023-06-19 08:02:21.535</td>\n",
       "      <td>0</td>\n",
       "      <td>1</td>\n",
       "      <td>0</td>\n",
       "      <td>0</td>\n",
       "      <td>0</td>\n",
       "      <td>0</td>\n",
       "      <td>0</td>\n",
       "      <td>0</td>\n",
       "      <td>0.0</td>\n",
       "      <td>NaN</td>\n",
       "      <td>NaN</td>\n",
       "      <td>None</td>\n",
       "      <td>None</td>\n",
       "      <td>None</td>\n",
       "      <td>None</td>\n",
       "      <td>1</td>\n",
       "    </tr>\n",
       "  </tbody>\n",
       "</table>\n",
       "</div>"
      ],
      "text/plain": [
       "                                   userId                    eventType  \\\n",
       "0  01801407210470561015579564400461566223  directMarketing.emailOpened   \n",
       "1  02740864785533236156860454943500584777      advertising.impressions   \n",
       "2  01198906010679088468352423564573901414      advertising.impressions   \n",
       "3  03287795145396298474992132960837734769    directMarketing.emailSent   \n",
       "4  01728940698426493087164457991038719790    directMarketing.emailSent   \n",
       "\n",
       "                timestamp  subscriptionOccurred  emailsReceived  emailsOpened  \\\n",
       "0 2023-06-16 20:09:43.636                     0               1             1   \n",
       "1 2023-06-16 21:04:56.535                     0               0             0   \n",
       "2 2023-06-17 02:45:58.535                     0               0             0   \n",
       "3 2023-06-17 23:24:10.535                     0               1             0   \n",
       "4 2023-06-19 08:02:21.535                     0               1             0   \n",
       "\n",
       "   emailsClicked  productsViewed  propositionInteracts  propositionDismissed  \\\n",
       "0              0               0                     0                     0   \n",
       "1              0               0                     0                     0   \n",
       "2              0               0                     0                     0   \n",
       "3              0               0                     0                     0   \n",
       "4              0               0                     0                     0   \n",
       "\n",
       "   webLinkClicks  minutes_since_emailSent  minutes_since_emailOpened  \\\n",
       "0              0                    173.0                        0.0   \n",
       "1              0                      NaN                        NaN   \n",
       "2              0                      NaN                        NaN   \n",
       "3              0                      0.0                        NaN   \n",
       "4              0                      0.0                        NaN   \n",
       "\n",
       "   minutes_since_emailClick minutes_since_productView  \\\n",
       "0                       NaN                      None   \n",
       "1                       NaN                      None   \n",
       "2                       NaN                      None   \n",
       "3                       NaN                      None   \n",
       "4                       NaN                      None   \n",
       "\n",
       "  minutes_since_propositionInteract minutes_since_propositionDismiss  \\\n",
       "0                              None                             None   \n",
       "1                              None                             None   \n",
       "2                              None                             None   \n",
       "3                              None                             None   \n",
       "4                              None                             None   \n",
       "\n",
       "  minutes_since_linkClick  random_row_number_for_user  \n",
       "0                    None                           1  \n",
       "1                    None                           1  \n",
       "2                    None                           1  \n",
       "3                    None                           1  \n",
       "4                    None                           1  "
      ]
     },
     "metadata": {},
     "output_type": "display_data"
    }
   ],
   "source": [
    "query_ctas = f\"\"\"\n",
    "SELECT * FROM {ctas_table_name} LIMIT 10;\n",
    "\"\"\"\n",
    "qs = queryservice.QueryService()\n",
    "qs_conn = qs.connection()\n",
    "qs_conn['dbname']=f'{cat_conn.sandbox}:{ctas_table_name}'\n",
    "qs_cursor = queryservice.InteractiveQuery2(qs_conn)\n",
    "df_ctas = qs_cursor.query(query_ctas, output=\"dataframe\")\n",
    "df_ctas.head()"
   ]
  },
  {
   "cell_type": "markdown",
   "id": "095f2e07",
   "metadata": {},
   "source": [
    "## 3.3 Templatize the featurization query"
   ]
  },
  {
   "cell_type": "markdown",
   "id": "1009bb20",
   "metadata": {},
   "source": [
    "Now we've got a complete featurization query that can also be used to generate features incrementally, but we still want to go further:\n",
    "- The **snapshot window should be configurable** and easy to change without having to constantly create new queries.\n",
    "- The query itself should be **stored in a templatized way** so it can be referred to easily.\n",
    "- The query should be able to **create the table** automatically as well as **inserting into** a pre-existing table.\n",
    "\n",
    "Query Service has this concept of [templates](https://experienceleague.adobe.com/docs/experience-platform/query/ui/query-templates.html?lang=en) that we will be leveraging in this section to satisfy the requirements mentioned above."
   ]
  },
  {
   "cell_type": "markdown",
   "id": "5824a234",
   "metadata": {},
   "source": [
    "The first step is to make make sure we either create the table if it does not exist, otherwise insert into it. This can be done by checking if the table exists using the `table_exists` function and adding a condition in our anonymous block based on that:"
   ]
  },
  {
   "cell_type": "code",
   "execution_count": null,
   "id": "93ca2c20",
   "metadata": {},
   "outputs": [
    {
     "name": "stdout",
     "output_type": "stream",
     "text": [
      "Query started successfully and got assigned ID 9ba49e8e-d794-4fdb-bd90-af3f9e2e941c - it will take some time to execute\n",
      "Query is still in progress, sleeping...\n",
      "Query is still in progress, sleeping...\n",
      "Query is still in progress, sleeping...\n",
      "Query is still in progress, sleeping...\n",
      "Query is still in progress, sleeping...\n",
      "Query is still in progress, sleeping...\n",
      "Query is still in progress, sleeping...\n",
      "Query completed successfully in 398.972 seconds\n"
     ]
    }
   ],
   "source": [
    "query_training_set_ctas_or_insert = f\"\"\"\n",
    "$$ BEGIN\n",
    "\n",
    "SET @from_snapshot_id = SELECT parent_id FROM (SELECT history_meta('{table_name}')) WHERE is_current = true;\n",
    "SET @to_snapshot_id = SELECT snapshot_id FROM (SELECT history_meta('{table_name}')) WHERE is_current = true;\n",
    "SET @my_table_exists = SELECT table_exists('{ctas_table_name}');\n",
    "\n",
    "CREATE TABLE IF NOT EXISTS {ctas_table_name} AS\n",
    "SELECT *\n",
    "FROM (\n",
    "    SELECT _{tenant_id}.cmle_id as userId, \n",
    "       eventType,\n",
    "       timestamp,\n",
    "       SUM(CASE WHEN eventType='web.formFilledOut' THEN 1 ELSE 0 END) \n",
    "           OVER (PARTITION BY _{tenant_id}.cmle_id) \n",
    "           AS \"subscriptionOccurred\",\n",
    "       SUM(CASE WHEN eventType='directMarketing.emailSent' THEN 1 ELSE 0 END) \n",
    "           OVER (PARTITION BY _{tenant_id}.cmle_id ORDER BY timestamp ROWS BETWEEN UNBOUNDED PRECEDING AND CURRENT ROW) \n",
    "           AS \"emailsReceived\",\n",
    "       SUM(CASE WHEN eventType='directMarketing.emailOpened' THEN 1 ELSE 0 END) \n",
    "           OVER (PARTITION BY _{tenant_id}.cmle_id ORDER BY timestamp ROWS BETWEEN UNBOUNDED PRECEDING AND CURRENT ROW) \n",
    "           AS \"emailsOpened\",       \n",
    "       SUM(CASE WHEN eventType='directMarketing.emailClicked' THEN 1 ELSE 0 END) \n",
    "           OVER (PARTITION BY _{tenant_id}.cmle_id ORDER BY timestamp ROWS BETWEEN UNBOUNDED PRECEDING AND CURRENT ROW) \n",
    "           AS \"emailsClicked\",       \n",
    "       SUM(CASE WHEN eventType='commerce.productViews' THEN 1 ELSE 0 END) \n",
    "           OVER (PARTITION BY _{tenant_id}.cmle_id ORDER BY timestamp ROWS BETWEEN UNBOUNDED PRECEDING AND CURRENT ROW) \n",
    "           AS \"productsViewed\",       \n",
    "       SUM(CASE WHEN eventType='decisioning.propositionInteract' THEN 1 ELSE 0 END) \n",
    "           OVER (PARTITION BY _{tenant_id}.cmle_id ORDER BY timestamp ROWS BETWEEN UNBOUNDED PRECEDING AND CURRENT ROW) \n",
    "           AS \"propositionInteracts\",       \n",
    "       SUM(CASE WHEN eventType='decisioning.propositionDismiss' THEN 1 ELSE 0 END) \n",
    "           OVER (PARTITION BY _{tenant_id}.cmle_id ORDER BY timestamp ROWS BETWEEN UNBOUNDED PRECEDING AND CURRENT ROW) \n",
    "           AS \"propositionDismissed\",\n",
    "       SUM(CASE WHEN eventType='web.webinteraction.linkClicks' THEN 1 ELSE 0 END) \n",
    "           OVER (PARTITION BY _{tenant_id}.cmle_id ORDER BY timestamp ROWS BETWEEN UNBOUNDED PRECEDING AND CURRENT ROW) \n",
    "           AS \"webLinkClicks\" ,\n",
    "       TIME_BETWEEN_PREVIOUS_MATCH(timestamp, eventType = 'directMarketing.emailSent', 'minutes')\n",
    "           OVER (PARTITION BY _{tenant_id}.cmle_id ORDER BY timestamp ROWS BETWEEN UNBOUNDED PRECEDING AND CURRENT ROW) \n",
    "           AS \"minutes_since_emailSent\",\n",
    "       TIME_BETWEEN_PREVIOUS_MATCH(timestamp, eventType = 'directMarketing.emailOpened', 'minutes')\n",
    "           OVER (PARTITION BY _{tenant_id}.cmle_id ORDER BY timestamp ROWS BETWEEN UNBOUNDED PRECEDING AND CURRENT ROW) \n",
    "           AS \"minutes_since_emailOpened\",\n",
    "       TIME_BETWEEN_PREVIOUS_MATCH(timestamp, eventType = 'directMarketing.emailClicked', 'minutes')\n",
    "           OVER (PARTITION BY _{tenant_id}.cmle_id ORDER BY timestamp ROWS BETWEEN UNBOUNDED PRECEDING AND CURRENT ROW) \n",
    "           AS \"minutes_since_emailClick\",\n",
    "       TIME_BETWEEN_PREVIOUS_MATCH(timestamp, eventType = 'commerce.productViews', 'minutes')\n",
    "           OVER (PARTITION BY _{tenant_id}.cmle_id ORDER BY timestamp ROWS BETWEEN UNBOUNDED PRECEDING AND CURRENT ROW) \n",
    "           AS \"minutes_since_productView\",\n",
    "       TIME_BETWEEN_PREVIOUS_MATCH(timestamp, eventType = 'decisioning.propositionInteract', 'minutes')\n",
    "           OVER (PARTITION BY _{tenant_id}.cmle_id ORDER BY timestamp ROWS BETWEEN UNBOUNDED PRECEDING AND CURRENT ROW) \n",
    "           AS \"minutes_since_propositionInteract\",\n",
    "       TIME_BETWEEN_PREVIOUS_MATCH(timestamp, eventType = 'propositionDismiss', 'minutes')\n",
    "           OVER (PARTITION BY _{tenant_id}.cmle_id ORDER BY timestamp ROWS BETWEEN UNBOUNDED PRECEDING AND CURRENT ROW) \n",
    "           AS \"minutes_since_propositionDismiss\",\n",
    "       TIME_BETWEEN_PREVIOUS_MATCH(timestamp, eventType = 'web.webinteraction.linkClicks', 'minutes')\n",
    "           OVER (PARTITION BY _{tenant_id}.cmle_id ORDER BY timestamp ROWS BETWEEN UNBOUNDED PRECEDING AND CURRENT ROW) \n",
    "           AS \"minutes_since_linkClick\",\n",
    "        row_number() OVER (PARTITION BY _{tenant_id}.cmle_id ORDER BY randn()) AS random_row_number_for_user\n",
    "    FROM {table_name}\n",
    "    SNAPSHOT BETWEEN @from_snapshot_id AND @to_snapshot_id LIMIT 1000\n",
    ")\n",
    "WHERE (subscriptionOccurred = 1 AND eventType = 'web.formFilledOut') OR (subscriptionOccurred = 0 AND random_row_number_for_user = 1)\n",
    "ORDER BY timestamp;\n",
    "\n",
    "INSERT INTO {ctas_table_name}\n",
    "SELECT *\n",
    "FROM (\n",
    "    SELECT _{tenant_id}.cmle_id as userId, \n",
    "       eventType,\n",
    "       timestamp,\n",
    "       SUM(CASE WHEN eventType='web.formFilledOut' THEN 1 ELSE 0 END) \n",
    "           OVER (PARTITION BY _{tenant_id}.cmle_id) \n",
    "           AS \"subscriptionOccurred\",\n",
    "       SUM(CASE WHEN eventType='directMarketing.emailSent' THEN 1 ELSE 0 END) \n",
    "           OVER (PARTITION BY _{tenant_id}.cmle_id ORDER BY timestamp ROWS BETWEEN UNBOUNDED PRECEDING AND CURRENT ROW) \n",
    "           AS \"emailsReceived\",\n",
    "       SUM(CASE WHEN eventType='directMarketing.emailOpened' THEN 1 ELSE 0 END) \n",
    "           OVER (PARTITION BY _{tenant_id}.cmle_id ORDER BY timestamp ROWS BETWEEN UNBOUNDED PRECEDING AND CURRENT ROW) \n",
    "           AS \"emailsOpened\",       \n",
    "       SUM(CASE WHEN eventType='directMarketing.emailClicked' THEN 1 ELSE 0 END) \n",
    "           OVER (PARTITION BY _{tenant_id}.cmle_id ORDER BY timestamp ROWS BETWEEN UNBOUNDED PRECEDING AND CURRENT ROW) \n",
    "           AS \"emailsClicked\",       \n",
    "       SUM(CASE WHEN eventType='commerce.productViews' THEN 1 ELSE 0 END) \n",
    "           OVER (PARTITION BY _{tenant_id}.cmle_id ORDER BY timestamp ROWS BETWEEN UNBOUNDED PRECEDING AND CURRENT ROW) \n",
    "           AS \"productsViewed\",       \n",
    "       SUM(CASE WHEN eventType='decisioning.propositionInteract' THEN 1 ELSE 0 END) \n",
    "           OVER (PARTITION BY _{tenant_id}.userid ORDER BY timestamp ROWS BETWEEN UNBOUNDED PRECEDING AND CURRENT ROW) \n",
    "           AS \"propositionInteracts\",       \n",
    "       SUM(CASE WHEN eventType='decisioning.propositionDismiss' THEN 1 ELSE 0 END) \n",
    "           OVER (PARTITION BY _{tenant_id}.cmle_id ORDER BY timestamp ROWS BETWEEN UNBOUNDED PRECEDING AND CURRENT ROW) \n",
    "           AS \"propositionDismissed\",\n",
    "       SUM(CASE WHEN eventType='web.webinteraction.linkClicks' THEN 1 ELSE 0 END) \n",
    "           OVER (PARTITION BY _{tenant_id}.cmle_id ORDER BY timestamp ROWS BETWEEN UNBOUNDED PRECEDING AND CURRENT ROW) \n",
    "           AS \"webLinkClicks\" ,\n",
    "       TIME_BETWEEN_PREVIOUS_MATCH(timestamp, eventType = 'directMarketing.emailSent', 'minutes')\n",
    "           OVER (PARTITION BY _{tenant_id}.cmle_id ORDER BY timestamp ROWS BETWEEN UNBOUNDED PRECEDING AND CURRENT ROW) \n",
    "           AS \"minutes_since_emailSent\",\n",
    "       TIME_BETWEEN_PREVIOUS_MATCH(timestamp, eventType = 'directMarketing.emailOpened', 'minutes')\n",
    "           OVER (PARTITION BY _{tenant_id}.cmle_id ORDER BY timestamp ROWS BETWEEN UNBOUNDED PRECEDING AND CURRENT ROW) \n",
    "           AS \"minutes_since_emailOpened\",\n",
    "       TIME_BETWEEN_PREVIOUS_MATCH(timestamp, eventType = 'directMarketing.emailClicked', 'minutes')\n",
    "           OVER (PARTITION BY _{tenant_id}.cmle_id ORDER BY timestamp ROWS BETWEEN UNBOUNDED PRECEDING AND CURRENT ROW) \n",
    "           AS \"minutes_since_emailClick\",\n",
    "       TIME_BETWEEN_PREVIOUS_MATCH(timestamp, eventType = 'commerce.productViews', 'minutes')\n",
    "           OVER (PARTITION BY _{tenant_id}.cmle_id ORDER BY timestamp ROWS BETWEEN UNBOUNDED PRECEDING AND CURRENT ROW) \n",
    "           AS \"minutes_since_productView\",\n",
    "       TIME_BETWEEN_PREVIOUS_MATCH(timestamp, eventType = 'decisioning.propositionInteract', 'minutes')\n",
    "           OVER (PARTITION BY _{tenant_id}.cmle_id ORDER BY timestamp ROWS BETWEEN UNBOUNDED PRECEDING AND CURRENT ROW) \n",
    "           AS \"minutes_since_propositionInteract\",\n",
    "       TIME_BETWEEN_PREVIOUS_MATCH(timestamp, eventType = 'propositionDismiss', 'minutes')\n",
    "           OVER (PARTITION BY _{tenant_id}.cmle_id ORDER BY timestamp ROWS BETWEEN UNBOUNDED PRECEDING AND CURRENT ROW) \n",
    "           AS \"minutes_since_propositionDismiss\",\n",
    "       TIME_BETWEEN_PREVIOUS_MATCH(timestamp, eventType = 'web.webinteraction.linkClicks', 'minutes')\n",
    "           OVER (PARTITION BY _{tenant_id}.cmle_id ORDER BY timestamp ROWS BETWEEN UNBOUNDED PRECEDING AND CURRENT ROW) \n",
    "           AS \"minutes_since_linkClick\",\n",
    "        row_number() OVER (PARTITION BY _{tenant_id}.cmle_id ORDER BY randn()) AS random_row_number_for_user\n",
    "    FROM {table_name}\n",
    "    SNAPSHOT BETWEEN @from_snapshot_id AND @to_snapshot_id LIMIT 1000\n",
    ")\n",
    "WHERE \n",
    "    @my_table_exists = 't' AND\n",
    "    ((subscriptionOccurred = 1 AND eventType = 'web.formFilledOut') OR (subscriptionOccurred = 0 AND random_row_number_for_user = 1))\n",
    "ORDER BY timestamp;\n",
    "\n",
    "EXCEPTION\n",
    "  WHEN OTHER THEN\n",
    "    SELECT 'ERROR';\n",
    "\n",
    "END $$;\n",
    "\"\"\"\n",
    "\n",
    "query_ctas_or_insert_res = qs.postQueries(\n",
    "    name=\"[CMLE][Week2] Query to generate training data as CTAS or Insert\",\n",
    "    sql=query_training_set_ctas_or_insert,\n",
    "    dbname=f\"{cat_conn.sandbox}:all\"\n",
    ")\n",
    "query_ctas_or_insert_id = query_ctas_or_insert_res[\"id\"]\n",
    "print(f\"Query started successfully and got assigned ID {query_ctas_or_insert_id} - it will take some time to execute\")\n",
    "\n",
    "wait_for_query_completion(query_ctas_or_insert_id)"
   ]
  },
  {
   "cell_type": "markdown",
   "id": "a67cc9c3",
   "metadata": {},
   "source": [
    "The next step is to make the snapshot time window configurable. To do that we can replace the part containing the snapshot boundaries with variables as `$variable` so they can be passed at runtime using Query Service:"
   ]
  },
  {
   "cell_type": "code",
   "execution_count": null,
   "id": "2c5d02ff",
   "metadata": {},
   "outputs": [],
   "source": [
    "ctas_table_name = f\"cmle_training_set_{username}\"\n",
    "\n",
    "query_training_set_template = f\"\"\"\n",
    "$$ BEGIN\n",
    "\n",
    "SET @my_table_exists = SELECT table_exists('{ctas_table_name}');\n",
    "\n",
    "CREATE TABLE IF NOT EXISTS {ctas_table_name} AS\n",
    "SELECT *\n",
    "FROM (\n",
    "    SELECT _{tenant_id}.cmle_id as userId, \n",
    "       eventType,\n",
    "       timestamp,\n",
    "       SUM(CASE WHEN eventType='web.formFilledOut' THEN 1 ELSE 0 END) \n",
    "           OVER (PARTITION BY _{tenant_id}.cmle_id) \n",
    "           AS \"subscriptionOccurred\",\n",
    "       SUM(CASE WHEN eventType='directMarketing.emailSent' THEN 1 ELSE 0 END) \n",
    "           OVER (PARTITION BY _{tenant_id}.cmle_id ORDER BY timestamp ROWS BETWEEN UNBOUNDED PRECEDING AND CURRENT ROW) \n",
    "           AS \"emailsReceived\",\n",
    "       SUM(CASE WHEN eventType='directMarketing.emailOpened' THEN 1 ELSE 0 END) \n",
    "           OVER (PARTITION BY _{tenant_id}.cmle_id ORDER BY timestamp ROWS BETWEEN UNBOUNDED PRECEDING AND CURRENT ROW) \n",
    "           AS \"emailsOpened\",       \n",
    "       SUM(CASE WHEN eventType='directMarketing.emailClicked' THEN 1 ELSE 0 END) \n",
    "           OVER (PARTITION BY _{tenant_id}.cmle_id ORDER BY timestamp ROWS BETWEEN UNBOUNDED PRECEDING AND CURRENT ROW) \n",
    "           AS \"emailsClicked\",       \n",
    "       SUM(CASE WHEN eventType='commerce.productViews' THEN 1 ELSE 0 END) \n",
    "           OVER (PARTITION BY _{tenant_id}.cmle_id ORDER BY timestamp ROWS BETWEEN UNBOUNDED PRECEDING AND CURRENT ROW) \n",
    "           AS \"productsViewed\",       \n",
    "       SUM(CASE WHEN eventType='decisioning.propositionInteract' THEN 1 ELSE 0 END) \n",
    "           OVER (PARTITION BY _{tenant_id}.cmle_id ORDER BY timestamp ROWS BETWEEN UNBOUNDED PRECEDING AND CURRENT ROW) \n",
    "           AS \"propositionInteracts\",       \n",
    "       SUM(CASE WHEN eventType='decisioning.propositionDismiss' THEN 1 ELSE 0 END) \n",
    "           OVER (PARTITION BY _{tenant_id}.cmle_id ORDER BY timestamp ROWS BETWEEN UNBOUNDED PRECEDING AND CURRENT ROW) \n",
    "           AS \"propositionDismissed\",\n",
    "       SUM(CASE WHEN eventType='web.webinteraction.linkClicks' THEN 1 ELSE 0 END) \n",
    "           OVER (PARTITION BY _{tenant_id}.cmle_id ORDER BY timestamp ROWS BETWEEN UNBOUNDED PRECEDING AND CURRENT ROW) \n",
    "           AS \"webLinkClicks\" ,\n",
    "       TIME_BETWEEN_PREVIOUS_MATCH(timestamp, eventType = 'directMarketing.emailSent', 'minutes')\n",
    "           OVER (PARTITION BY _{tenant_id}.cmle_id ORDER BY timestamp ROWS BETWEEN UNBOUNDED PRECEDING AND CURRENT ROW) \n",
    "           AS \"minutes_since_emailSent\",\n",
    "       TIME_BETWEEN_PREVIOUS_MATCH(timestamp, eventType = 'directMarketing.emailOpened', 'minutes')\n",
    "           OVER (PARTITION BY _{tenant_id}.cmle_id ORDER BY timestamp ROWS BETWEEN UNBOUNDED PRECEDING AND CURRENT ROW) \n",
    "           AS \"minutes_since_emailOpened\",\n",
    "       TIME_BETWEEN_PREVIOUS_MATCH(timestamp, eventType = 'directMarketing.emailClicked', 'minutes')\n",
    "           OVER (PARTITION BY _{tenant_id}.cmle_id ORDER BY timestamp ROWS BETWEEN UNBOUNDED PRECEDING AND CURRENT ROW) \n",
    "           AS \"minutes_since_emailClick\",\n",
    "       TIME_BETWEEN_PREVIOUS_MATCH(timestamp, eventType = 'commerce.productViews', 'minutes')\n",
    "           OVER (PARTITION BY _{tenant_id}.cmle_id ORDER BY timestamp ROWS BETWEEN UNBOUNDED PRECEDING AND CURRENT ROW) \n",
    "           AS \"minutes_since_productView\",\n",
    "       TIME_BETWEEN_PREVIOUS_MATCH(timestamp, eventType = 'decisioning.propositionInteract', 'minutes')\n",
    "           OVER (PARTITION BY _{tenant_id}.cmle_id ORDER BY timestamp ROWS BETWEEN UNBOUNDED PRECEDING AND CURRENT ROW) \n",
    "           AS \"minutes_since_propositionInteract\",\n",
    "       TIME_BETWEEN_PREVIOUS_MATCH(timestamp, eventType = 'propositionDismiss', 'minutes')\n",
    "           OVER (PARTITION BY _{tenant_id}.cmle_id ORDER BY timestamp ROWS BETWEEN UNBOUNDED PRECEDING AND CURRENT ROW) \n",
    "           AS \"minutes_since_propositionDismiss\",\n",
    "       TIME_BETWEEN_PREVIOUS_MATCH(timestamp, eventType = 'web.webinteraction.linkClicks', 'minutes')\n",
    "           OVER (PARTITION BY _{tenant_id}.cmle_id ORDER BY timestamp ROWS BETWEEN UNBOUNDED PRECEDING AND CURRENT ROW) \n",
    "           AS \"minutes_since_linkClick\",\n",
    "        row_number() OVER (PARTITION BY _{tenant_id}.cmle_id ORDER BY randn()) AS random_row_number_for_user\n",
    "    FROM {table_name}\n",
    "    SNAPSHOT BETWEEN $from_snapshot_id AND $to_snapshot_id\n",
    ")\n",
    "WHERE (subscriptionOccurred = 1 AND eventType = 'web.formFilledOut') OR (subscriptionOccurred = 0 AND random_row_number_for_user = 1)\n",
    "ORDER BY timestamp;\n",
    "\n",
    "INSERT INTO {ctas_table_name}\n",
    "SELECT *\n",
    "FROM (\n",
    "    SELECT _{tenant_id}.cmle_id as userId, \n",
    "       eventType,\n",
    "       timestamp,\n",
    "       SUM(CASE WHEN eventType='web.formFilledOut' THEN 1 ELSE 0 END) \n",
    "           OVER (PARTITION BY _{tenant_id}.cmle_id) \n",
    "           AS \"subscriptionOccurred\",\n",
    "       SUM(CASE WHEN eventType='directMarketing.emailSent' THEN 1 ELSE 0 END) \n",
    "           OVER (PARTITION BY _{tenant_id}.cmle_id ORDER BY timestamp ROWS BETWEEN UNBOUNDED PRECEDING AND CURRENT ROW) \n",
    "           AS \"emailsReceived\",\n",
    "       SUM(CASE WHEN eventType='directMarketing.emailOpened' THEN 1 ELSE 0 END) \n",
    "           OVER (PARTITION BY _{tenant_id}.cmle_id ORDER BY timestamp ROWS BETWEEN UNBOUNDED PRECEDING AND CURRENT ROW) \n",
    "           AS \"emailsOpened\",       \n",
    "       SUM(CASE WHEN eventType='directMarketing.emailClicked' THEN 1 ELSE 0 END) \n",
    "           OVER (PARTITION BY _{tenant_id}.cmle_id ORDER BY timestamp ROWS BETWEEN UNBOUNDED PRECEDING AND CURRENT ROW) \n",
    "           AS \"emailsClicked\",       \n",
    "       SUM(CASE WHEN eventType='commerce.productViews' THEN 1 ELSE 0 END) \n",
    "           OVER (PARTITION BY _{tenant_id}.cmle_id ORDER BY timestamp ROWS BETWEEN UNBOUNDED PRECEDING AND CURRENT ROW) \n",
    "           AS \"productsViewed\",       \n",
    "       SUM(CASE WHEN eventType='decisioning.propositionInteract' THEN 1 ELSE 0 END) \n",
    "           OVER (PARTITION BY _{tenant_id}.cmle_id ORDER BY timestamp ROWS BETWEEN UNBOUNDED PRECEDING AND CURRENT ROW) \n",
    "           AS \"propositionInteracts\",       \n",
    "       SUM(CASE WHEN eventType='decisioning.propositionDismiss' THEN 1 ELSE 0 END) \n",
    "           OVER (PARTITION BY _{tenant_id}.cmle_id ORDER BY timestamp ROWS BETWEEN UNBOUNDED PRECEDING AND CURRENT ROW) \n",
    "           AS \"propositionDismissed\",\n",
    "       SUM(CASE WHEN eventType='web.webinteraction.linkClicks' THEN 1 ELSE 0 END) \n",
    "           OVER (PARTITION BY _{tenant_id}.cmle_id ORDER BY timestamp ROWS BETWEEN UNBOUNDED PRECEDING AND CURRENT ROW) \n",
    "           AS \"webLinkClicks\" ,\n",
    "       TIME_BETWEEN_PREVIOUS_MATCH(timestamp, eventType = 'directMarketing.emailSent', 'minutes')\n",
    "           OVER (PARTITION BY _{tenant_id}.cmle_id ORDER BY timestamp ROWS BETWEEN UNBOUNDED PRECEDING AND CURRENT ROW) \n",
    "           AS \"minutes_since_emailSent\",\n",
    "       TIME_BETWEEN_PREVIOUS_MATCH(timestamp, eventType = 'directMarketing.emailOpened', 'minutes')\n",
    "           OVER (PARTITION BY _{tenant_id}.cmle_id ORDER BY timestamp ROWS BETWEEN UNBOUNDED PRECEDING AND CURRENT ROW) \n",
    "           AS \"minutes_since_emailOpened\",\n",
    "       TIME_BETWEEN_PREVIOUS_MATCH(timestamp, eventType = 'directMarketing.emailClicked', 'minutes')\n",
    "           OVER (PARTITION BY _{tenant_id}.cmle_id ORDER BY timestamp ROWS BETWEEN UNBOUNDED PRECEDING AND CURRENT ROW) \n",
    "           AS \"minutes_since_emailClick\",\n",
    "       TIME_BETWEEN_PREVIOUS_MATCH(timestamp, eventType = 'commerce.productViews', 'minutes')\n",
    "           OVER (PARTITION BY _{tenant_id}.cmle_id ORDER BY timestamp ROWS BETWEEN UNBOUNDED PRECEDING AND CURRENT ROW) \n",
    "           AS \"minutes_since_productView\",\n",
    "       TIME_BETWEEN_PREVIOUS_MATCH(timestamp, eventType = 'decisioning.propositionInteract', 'minutes')\n",
    "           OVER (PARTITION BY _{tenant_id}.cmle_id ORDER BY timestamp ROWS BETWEEN UNBOUNDED PRECEDING AND CURRENT ROW) \n",
    "           AS \"minutes_since_propositionInteract\",\n",
    "       TIME_BETWEEN_PREVIOUS_MATCH(timestamp, eventType = 'propositionDismiss', 'minutes')\n",
    "           OVER (PARTITION BY _{tenant_id}.cmle_id ORDER BY timestamp ROWS BETWEEN UNBOUNDED PRECEDING AND CURRENT ROW) \n",
    "           AS \"minutes_since_propositionDismiss\",\n",
    "       TIME_BETWEEN_PREVIOUS_MATCH(timestamp, eventType = 'web.webinteraction.linkClicks', 'minutes')\n",
    "           OVER (PARTITION BY _{tenant_id}.cmle_id ORDER BY timestamp ROWS BETWEEN UNBOUNDED PRECEDING AND CURRENT ROW) \n",
    "           AS \"minutes_since_linkClick\",\n",
    "        row_number() OVER (PARTITION BY _{tenant_id}.cmle_id ORDER BY randn()) AS random_row_number_for_user\n",
    "    FROM {table_name}\n",
    "    SNAPSHOT BETWEEN $from_snapshot_id AND $to_snapshot_id\n",
    ")\n",
    "WHERE \n",
    "    @my_table_exists = 't' AND\n",
    "    ((subscriptionOccurred = 1 AND eventType = 'web.formFilledOut') OR (subscriptionOccurred = 0 AND random_row_number_for_user = 1))\n",
    "ORDER BY timestamp;\n",
    "\n",
    "EXCEPTION\n",
    "  WHEN OTHER THEN\n",
    "    SELECT 'ERROR';\n",
    "\n",
    "END $$;\n",
    "\"\"\""
   ]
  },
  {
   "cell_type": "markdown",
   "id": "83e554c8",
   "metadata": {},
   "source": [
    "We're not executing it because it has actual variables in it that will need to be resolved at runtime, so executing it right now would fail. We're ready to turn this into a proper template, which requires the following:\n",
    "- A **name** for your templatized query.\n",
    "- Some set of **query parameters** that you might want to already save - in our case we're not setting any so both snapshot boundaries can be set at runtie.\n",
    "- Your SQL **query**.\n",
    "\n",
    "Once you do this, the template should be available in the UI at the link below, as you can see in the screenshot."
   ]
  },
  {
   "cell_type": "code",
   "execution_count": null,
   "id": "275e6b9c",
   "metadata": {},
   "outputs": [
    {
     "name": "stdout",
     "output_type": "stream",
     "text": [
      "Query template for training data created as ID f3d1ec6b-40c2-4d13-93b6-734c1b3c7235 under https://experience.adobe.com/#/@aemonacpprodcampaign/sname:laa-e2e/platform/query/edit/f3d1ec6b-40c2-4d13-93b6-734c1b3c7235\n"
     ]
    }
   ],
   "source": [
    "template_res = qs.createQueryTemplate({\n",
    "  \"sql\": query_training_set_template,\n",
    "  \"queryParameters\": {},\n",
    "  \"name\": f\"[CMLE] Template for training data created by {username}\"\n",
    "})\n",
    "template_id = template_res[\"id\"]\n",
    "template_link = get_ui_link(tenant_id, \"query/edit\", template_id)\n",
    "\n",
    "print(f\"Query template for training data created as ID {template_id} under {template_link}\")"
   ]
  },
  {
   "cell_type": "markdown",
   "id": "dd3548a7",
   "metadata": {},
   "source": [
    "![Template](./media/CMLE-Notebooks-Week2-Template.png)"
   ]
  },
  {
   "cell_type": "markdown",
   "id": "3ac9cf84",
   "metadata": {},
   "source": [
    "Now that the template is saved, we can refer to it at any time, and passing any kind of values for the snapshots that we want. So for example if you have streaming data coming through your system, you just need to find out the beginning snapshot ID and end snapshot ID, and you can execute this featurization query that will take care of querying between these 2 snapshots.\n",
    "\n",
    "In this example, we'll just query the entire dataset, so the very first and very last snapshots:"
   ]
  },
  {
   "cell_type": "code",
   "execution_count": null,
   "id": "2c6a777f",
   "metadata": {},
   "outputs": [
    {
     "name": "stdout",
     "output_type": "stream",
     "text": [
      "Query will go from start snapshot ID 3286515082529790819 to end snapshot ID 4051493133566944937\n"
     ]
    },
    {
     "data": {
      "text/html": [
       "<div>\n",
       "<style scoped>\n",
       "    .dataframe tbody tr th:only-of-type {\n",
       "        vertical-align: middle;\n",
       "    }\n",
       "\n",
       "    .dataframe tbody tr th {\n",
       "        vertical-align: top;\n",
       "    }\n",
       "\n",
       "    .dataframe thead th {\n",
       "        text-align: right;\n",
       "    }\n",
       "</style>\n",
       "<table border=\"1\" class=\"dataframe\">\n",
       "  <thead>\n",
       "    <tr style=\"text-align: right;\">\n",
       "      <th></th>\n",
       "      <th>snapshot_id</th>\n",
       "    </tr>\n",
       "  </thead>\n",
       "  <tbody>\n",
       "    <tr>\n",
       "      <th>0</th>\n",
       "      <td>3286515082529790819</td>\n",
       "    </tr>\n",
       "    <tr>\n",
       "      <th>1</th>\n",
       "      <td>4051493133566944937</td>\n",
       "    </tr>\n",
       "  </tbody>\n",
       "</table>\n",
       "</div>"
      ],
      "text/plain": [
       "           snapshot_id\n",
       "0  3286515082529790819\n",
       "1  4051493133566944937"
      ]
     },
     "metadata": {},
     "output_type": "display_data"
    }
   ],
   "source": [
    "query_snapshots = f\"\"\"\n",
    "SELECT snapshot_id \n",
    "FROM (\n",
    "    SELECT history_meta('{table_name}')\n",
    ") \n",
    "WHERE is_current = true OR snapshot_generation = 0 \n",
    "ORDER BY snapshot_generation ASC\n",
    "\"\"\"\n",
    "\n",
    "df_snapshots = qs_cursor.query(query_snapshots, output=\"dataframe\")\n",
    "\n",
    "snapshot_start_id = str(df_snapshots[\"snapshot_id\"].iloc[0])\n",
    "snapshot_end_id = str(df_snapshots[\"snapshot_id\"].iloc[1])\n",
    "print(f\"Query will go from start snapshot ID {snapshot_start_id} to end snapshot ID {snapshot_end_id}\")\n",
    "\n",
    "df_snapshots.head()"
   ]
  },
  {
   "cell_type": "code",
   "execution_count": null,
   "id": "cdcb5e69",
   "metadata": {},
   "outputs": [
    {
     "name": "stdout",
     "output_type": "stream",
     "text": [
      "Query started successfully and got assigned ID c6ea5009-1315-4839-b072-089ae01e74fd - it will take some time to execute\n",
      "Query is still in progress, sleeping...\n",
      "Query is still in progress, sleeping...\n",
      "Query is still in progress, sleeping...\n",
      "Query is still in progress, sleeping...\n",
      "Query is still in progress, sleeping...\n",
      "Query is still in progress, sleeping...\n",
      "Query is still in progress, sleeping...\n",
      "Query is still in progress, sleeping...\n",
      "Query completed successfully in 473.8 seconds\n"
     ]
    }
   ],
   "source": [
    "query_final_res = qs.postQueries(\n",
    "    name=f\"[CMLE][Week2] Query to generate training data created by {username}\",\n",
    "    templateId=template_id,\n",
    "    queryParameters={\n",
    "        \"from_snapshot_id\": snapshot_start_id,\n",
    "        \"to_snapshot_id\": snapshot_end_id,\n",
    "    },\n",
    "    dbname=f\"{cat_conn.sandbox}:all\"\n",
    ")\n",
    "query_final_id = query_final_res[\"id\"]\n",
    "print(f\"Query started successfully and got assigned ID {query_final_id} - it will take some time to execute\")\n",
    "\n",
    "wait_for_query_completion(query_final_id)"
   ]
  },
  {
   "cell_type": "markdown",
   "id": "d47ac50c",
   "metadata": {},
   "source": [
    "At this point we have produced a full featurized dataset that is ready to plug into a ML model. However, the dataset is still in the Adobe Experience Platform dataset. To read the data from our ML environment, we need to move the dataset to a cloud storage account. We'll cover that next in the Export Training Data notebook. \n",
    "\n",
    "To wrap up our work in this notebook, we retrieve the ID of the dataset we produced from our templatized query, and write it to our `config.ini` file so that we can reference it insubsequent notebooks:"
   ]
  },
  {
   "cell_type": "code",
   "execution_count": null,
   "id": "2b4604a6",
   "metadata": {},
   "outputs": [
    {
     "name": "stdout",
     "output_type": "stream",
     "text": [
      "Featurized data available in table cmle_training_set_jeremypage under dataset ID 65151c8f2a3f3328d3a00fd9 under https://experience.adobe.com/#/@aemonacpprodcampaign/sname:laa-e2e/platform/dataset/browse/65151c8f2a3f3328d3a00fd9\n"
     ]
    },
    {
     "data": {
      "text/plain": [
       "['/Users/jeremypage/Library/CloudStorage/OneDrive-Adobe/Projects/Cloud ML/aep-cloud-ml-ecosystem/conf/aemassets_config.ini']"
      ]
     },
     "metadata": {},
     "output_type": "display_data"
    }
   ],
   "source": [
    "ctas_table_info = cat_conn.getDataSets(name=ctas_table_name)\n",
    "created_dataset_id = list(ctas_table_info.keys())[0]\n",
    "created_dataset_link = get_ui_link(tenant_id,\"dataset/browse\",created_dataset_id)\n",
    "print(f\"Featurized data available in table {ctas_table_name} under dataset ID {created_dataset_id} under {created_dataset_link}\")\n",
    "\n",
    "# update config file and object\n",
    "from aepp import utils\n",
    "utils.Utils().save_field_in_config('Synthetic', 'featurized_dataset_id', created_dataset_id, config_path)\n",
    "config.read(config_path)"
   ]
  },
  {
   "cell_type": "markdown",
   "id": "5b2d55a4",
   "metadata": {},
   "source": [
    "### Next: Export Training Data"
   ]
  }
 ],
 "metadata": {
  "kernelspec": {
   "display_name": "Python 3 (ipykernel)",
   "language": "python",
   "name": "python3"
  },
  "language_info": {
   "codemirror_mode": {
    "name": "ipython",
    "version": 3
   },
   "file_extension": ".py",
   "mimetype": "text/x-python",
   "name": "python",
   "nbconvert_exporter": "python",
   "pygments_lexer": "ipython3",
   "version": "3.11.5"
  }
 },
 "nbformat": 4,
 "nbformat_minor": 5
}
