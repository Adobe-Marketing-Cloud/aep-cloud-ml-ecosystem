{
 "cells": [
  {
   "cell_type": "markdown",
   "metadata": {
    "application/vnd.databricks.v1+cell": {
     "cellMetadata": {},
     "inputWidgets": {},
     "nuid": "d54e336e-4354-4b7c-8d05-0492855b81ba",
     "showTitle": false,
     "title": ""
    }
   },
   "source": [
    "# Scope of Notebook"
   ]
  },
  {
   "cell_type": "markdown",
   "metadata": {
    "application/vnd.databricks.v1+cell": {
     "cellMetadata": {},
     "inputWidgets": {},
     "nuid": "865e2a1c-d114-4923-ada5-afeeda972206",
     "showTitle": false,
     "title": ""
    }
   },
   "source": [
    "The goal of this notebook is to use the propensity data that is now part of our profiles to create some segments for targeting high-value users, and to activate this audience to a 3rd party ad platform.\n",
    "\n",
    "![Workflow](../media/CMLE-Notebooks-Week5-Workflow.png)\n",
    "\n",
    "We'll go through several steps:\n",
    "- Determining an appropriate **propensity interval** by analyzing the scoring output.\n",
    "- Creating a **segment** based on the propensity scores.\n",
    "- Activating that segment into a **destination**."
   ]
  },
  {
   "cell_type": "markdown",
   "metadata": {
    "application/vnd.databricks.v1+cell": {
     "cellMetadata": {},
     "inputWidgets": {},
     "nuid": "83c69965-e562-493c-b90c-df08b1ad0008",
     "showTitle": false,
     "title": ""
    }
   },
   "source": [
    "# Setup"
   ]
  },
  {
   "cell_type": "markdown",
   "metadata": {
    "application/vnd.databricks.v1+cell": {
     "cellMetadata": {},
     "inputWidgets": {},
     "nuid": "ac6b4958-397f-4aad-9d81-afb1d45ea0b2",
     "showTitle": false,
     "title": ""
    }
   },
   "source": [
    "This notebook requires some configuration data to properly authenticate to your Adobe Experience Platform instance. You should be able to find all the values required above by following the Setup section of the **README**.\n",
    "\n",
    "The next cell will be looking for your configuration file under your **ADOBE_HOME** path to fetch the values used throughout this notebook. See more details in the Setup section of the **README** to understand how to create your configuration file."
   ]
  },
  {
   "cell_type": "code",
   "execution_count": 0,
   "metadata": {
    "application/vnd.databricks.v1+cell": {
     "cellMetadata": {
      "byteLimit": 2048000,
      "rowLimit": 10000
     },
     "inputWidgets": {},
     "nuid": "978eccff-5e2b-4dd3-9bc7-844e055d80b3",
     "showTitle": false,
     "title": ""
    }
   },
   "outputs": [],
   "source": [
    "import os\n",
    "from configparser import ConfigParser\n",
    "\n",
    "if \"ADOBE_HOME\" not in os.environ:\n",
    "    raise Exception(\"ADOBE_HOME environment variable needs to be set.\")\n",
    "\n",
    "config = ConfigParser()\n",
    "config_path = os.path.join(os.environ[\"ADOBE_HOME\"], \"conf\", \"config.ini\")\n",
    "\n",
    "if not os.path.exists(config_path):\n",
    "    raise Exception(f\"Looking for configuration under {config_path} but config not found, please verify path\")\n",
    "\n",
    "config.read(config_path)\n",
    "\n",
    "ims_org_id = config.get(\"Platform\", \"ims_org_id\")\n",
    "sandbox_name = config.get(\"Platform\", \"sandbox_name\")\n",
    "environment = config.get(\"Platform\", \"environment\")\n",
    "client_id = config.get(\"Authentication\", \"client_id\")\n",
    "client_secret = config.get(\"Authentication\", \"client_secret\")\n",
    "private_key_path = config.get(\"Authentication\", \"private_key_path\")\n",
    "tech_account_id = config.get(\"Authentication\", \"tech_acct_id\")\n",
    "dataset_id = config.get(\"Platform\", \"dataset_id\")\n",
    "featurized_dataset_id = config.get(\"Platform\", \"featurized_dataset_id\")\n",
    "scoring_dataset_id = config.get(\"Platform\", \"scoring_dataset_id\")\n",
    "export_path = config.get(\"Cloud\", \"export_path\")\n",
    "import_path = config.get(\"Cloud\", \"import_path\")\n",
    "data_format = config.get(\"Cloud\", \"data_format\")\n",
    "compression_type = config.get(\"Cloud\", \"compression_type\")\n",
    "model_name = config.get(\"Cloud\", \"model_name\")\n",
    "\n",
    "if not os.path.exists(private_key_path):\n",
    "    raise Exception(f\"Looking for private key file under {private_key_path} but key not found, please verify path\")"
   ]
  },
  {
   "cell_type": "markdown",
   "metadata": {
    "application/vnd.databricks.v1+cell": {
     "cellMetadata": {},
     "inputWidgets": {},
     "nuid": "180a214a-3a8a-4e87-94e6-c459112c88ef",
     "showTitle": false,
     "title": ""
    }
   },
   "source": [
    "Some utility functions that will be used throughout this notebook:"
   ]
  },
  {
   "cell_type": "code",
   "execution_count": 0,
   "metadata": {
    "application/vnd.databricks.v1+cell": {
     "cellMetadata": {
      "byteLimit": 2048000,
      "rowLimit": 10000
     },
     "inputWidgets": {},
     "nuid": "54c6b121-d3aa-461e-9445-72b7e07efb0c",
     "showTitle": false,
     "title": ""
    }
   },
   "outputs": [],
   "source": [
    "def get_ui_link(tenant_id, resource_type, resource_id):\n",
    "    if environment == \"prod\":\n",
    "        prefix = f\"https://experience.adobe.com\"\n",
    "    else:\n",
    "        prefix = f\"https://experience-{environment}.adobe.com\"\n",
    "    return f\"{prefix}/#/@{tenant_id}/sname:{sandbox_name}/platform/{resource_type}/{resource_id}\""
   ]
  },
  {
   "cell_type": "code",
   "execution_count": 0,
   "metadata": {
    "application/vnd.databricks.v1+cell": {
     "cellMetadata": {
      "byteLimit": 2048000,
      "rowLimit": 10000
     },
     "inputWidgets": {},
     "nuid": "df081db7-0179-422b-8cdf-41278a8ba8bb",
     "showTitle": false,
     "title": ""
    }
   },
   "outputs": [
    {
     "name": "stdout",
     "output_type": "stream",
     "text": [
      "Username: cmenguy@adobe.com\n",
      "Unique ID: cmenguy_adobe_com\n"
     ]
    }
   ],
   "source": [
    "import re\n",
    "\n",
    "username = dbutils.notebook.entry_point.getDbutils().notebook().getContext().userName().get()\n",
    "unique_id = s = re.sub(\"[^0-9a-zA-Z]+\", \"_\", username)\n",
    "\n",
    "print(f\"Username: {username}\")\n",
    "print(f\"Unique ID: {unique_id}\")"
   ]
  },
  {
   "cell_type": "markdown",
   "metadata": {
    "application/vnd.databricks.v1+cell": {
     "cellMetadata": {},
     "inputWidgets": {},
     "nuid": "8cf3303b-e086-4638-9aa2-7d62bdca24bd",
     "showTitle": false,
     "title": ""
    }
   },
   "source": [
    "Before we run anything, make sure to install the following required libraries for this notebook. They are all publicly available libraries and the latest version should work fine."
   ]
  },
  {
   "cell_type": "code",
   "execution_count": 0,
   "metadata": {
    "application/vnd.databricks.v1+cell": {
     "cellMetadata": {
      "byteLimit": 2048000,
      "rowLimit": 10000
     },
     "inputWidgets": {},
     "nuid": "44dd3429-850b-4679-82e3-dfea9688993b",
     "showTitle": false,
     "title": ""
    }
   },
   "outputs": [
    {
     "name": "stdout",
     "output_type": "stream",
     "text": [
      "Collecting aepp\r\n",
      "  Downloading aepp-0.2.8-py3-none-any.whl (117 kB)\r\n",
      "\u001b[?25l\r",
      "\u001b[K     |██▉                             | 10 kB 41.0 MB/s eta 0:00:01\r",
      "\u001b[K     |█████▋                          | 20 kB 13.6 MB/s eta 0:00:01\r",
      "\u001b[K     |████████▍                       | 30 kB 19.0 MB/s eta 0:00:01\r",
      "\u001b[K     |███████████▏                    | 40 kB 11.2 MB/s eta 0:00:01\r",
      "\u001b[K     |██████████████                  | 51 kB 11.1 MB/s eta 0:00:01\r",
      "\u001b[K     |████████████████▊               | 61 kB 12.7 MB/s eta 0:00:01\r",
      "\u001b[K     |███████████████████▌            | 71 kB 11.8 MB/s eta 0:00:01\r",
      "\u001b[K     |██████████████████████▎         | 81 kB 13.3 MB/s eta 0:00:01\r",
      "\u001b[K     |█████████████████████████       | 92 kB 11.0 MB/s eta 0:00:01\r",
      "\u001b[K     |███████████████████████████▉    | 102 kB 11.8 MB/s eta 0:00:01\r",
      "\u001b[K     |██████████████████████████████▋ | 112 kB 11.8 MB/s eta 0:00:01\r",
      "\u001b[K     |████████████████████████████████| 117 kB 11.8 MB/s \r\n",
      "\u001b[?25hCollecting pathlib2\r\n",
      "  Downloading pathlib2-2.3.7.post1-py2.py3-none-any.whl (18 kB)\r\n",
      "Collecting pathlib\r\n",
      "  Downloading pathlib-1.0.1-py3-none-any.whl (14 kB)\r\n",
      "Requirement already satisfied: PyJWT in /databricks/python3/lib/python3.9/site-packages (from aepp) (2.6.0)\r\n",
      "Requirement already satisfied: pandas in /databricks/python3/lib/python3.9/site-packages (from aepp) (1.4.2)\r\n",
      "Requirement already satisfied: requests in /databricks/python3/lib/python3.9/site-packages (from aepp) (2.27.1)\r\n",
      "Requirement already satisfied: python-dateutil>=2.8.1 in /databricks/python3/lib/python3.9/site-packages (from pandas->aepp) (2.8.2)\r\n",
      "Requirement already satisfied: pytz>=2020.1 in /databricks/python3/lib/python3.9/site-packages (from pandas->aepp) (2021.3)\r\n",
      "Requirement already satisfied: numpy>=1.18.5 in /databricks/python3/lib/python3.9/site-packages (from pandas->aepp) (1.21.5)\r\n",
      "Requirement already satisfied: six>=1.5 in /databricks/python3/lib/python3.9/site-packages (from python-dateutil>=2.8.1->pandas->aepp) (1.16.0)\r\n",
      "Requirement already satisfied: cryptography>=3.4.0 in /databricks/python3/lib/python3.9/site-packages (from PyJWT->aepp) (3.4.8)\r\n",
      "Requirement already satisfied: cffi>=1.12 in /databricks/python3/lib/python3.9/site-packages (from cryptography>=3.4.0->PyJWT->aepp) (1.15.0)\r\n",
      "Requirement already satisfied: pycparser in /databricks/python3/lib/python3.9/site-packages (from cffi>=1.12->cryptography>=3.4.0->PyJWT->aepp) (2.21)\r\n",
      "Requirement already satisfied: idna<4,>=2.5 in /databricks/python3/lib/python3.9/site-packages (from requests->aepp) (3.3)\r\n",
      "Requirement already satisfied: charset-normalizer~=2.0.0 in /databricks/python3/lib/python3.9/site-packages (from requests->aepp) (2.0.4)\r\n",
      "Requirement already satisfied: urllib3<1.27,>=1.21.1 in /databricks/python3/lib/python3.9/site-packages (from requests->aepp) (1.26.9)\r\n",
      "Requirement already satisfied: certifi>=2017.4.17 in /databricks/python3/lib/python3.9/site-packages (from requests->aepp) (2021.10.8)\r\n",
      "Installing collected packages: pathlib2, pathlib, aepp\r\n",
      "Successfully installed aepp-0.2.8 pathlib-1.0.1 pathlib2-2.3.7.post1\r\n",
      "\u001b[33mWARNING: You are using pip version 21.2.4; however, version 23.0.1 is available.\r\n",
      "You should consider upgrading via the '/local_disk0/.ephemeral_nfs/envs/pythonEnv-b8745ef8-420a-4a8a-a516-82c815527ee6/bin/python -m pip install --upgrade pip' command.\u001b[0m\r\n",
      "Collecting adlfs\r\n",
      "  Downloading adlfs-2023.1.0-py3-none-any.whl (25 kB)\r\n",
      "Requirement already satisfied: fsspec>=2021.10.1 in /databricks/python3/lib/python3.9/site-packages (from adlfs) (2022.2.0)\r\n",
      "Collecting azure-datalake-store<0.1,>=0.0.46\r\n",
      "  Downloading azure_datalake_store-0.0.52-py2.py3-none-any.whl (61 kB)\r\n",
      "\u001b[?25l\r",
      "\u001b[K     |█████▎                          | 10 kB 40.4 MB/s eta 0:00:01\r",
      "\u001b[K     |██████████▋                     | 20 kB 47.5 MB/s eta 0:00:01\r",
      "\u001b[K     |████████████████                | 30 kB 58.2 MB/s eta 0:00:01\r",
      "\u001b[K     |█████████████████████▎          | 40 kB 65.6 MB/s eta 0:00:01\r",
      "\u001b[K     |██████████████████████████▌     | 51 kB 12.8 MB/s eta 0:00:01\r",
      "\u001b[K     |███████████████████████████████▉| 61 kB 14.3 MB/s eta 0:00:01\r",
      "\u001b[K     |████████████████████████████████| 61 kB 317 kB/s \r\n",
      "\u001b[?25hCollecting azure-storage-blob>=12.12.0\r\n",
      "  Downloading azure_storage_blob-12.15.0-py3-none-any.whl (387 kB)\r\n",
      "\u001b[?25l\r",
      "\u001b[K     |▉                               | 10 kB 51.7 MB/s eta 0:00:01\r",
      "\u001b[K     |█▊                              | 20 kB 63.1 MB/s eta 0:00:01\r",
      "\u001b[K     |██▌                             | 30 kB 74.5 MB/s eta 0:00:01\r",
      "\u001b[K     |███▍                            | 40 kB 81.3 MB/s eta 0:00:01\r",
      "\u001b[K     |████▎                           | 51 kB 86.9 MB/s eta 0:00:01\r",
      "\u001b[K     |█████                           | 61 kB 93.0 MB/s eta 0:00:01\r",
      "\u001b[K     |██████                          | 71 kB 96.6 MB/s eta 0:00:01\r",
      "\u001b[K     |██████▊                         | 81 kB 101.1 MB/s eta 0:00:01\r",
      "\u001b[K     |███████▋                        | 92 kB 69.1 MB/s eta 0:00:01\r",
      "\u001b[K     |████████▌                       | 102 kB 71.3 MB/s eta 0:00:01\r",
      "\u001b[K     |█████████▎                      | 112 kB 71.3 MB/s eta 0:00:01\r",
      "\u001b[K     |██████████▏                     | 122 kB 71.3 MB/s eta 0:00:01\r",
      "\u001b[K     |███████████                     | 133 kB 71.3 MB/s eta 0:00:01\r",
      "\u001b[K     |███████████▉                    | 143 kB 71.3 MB/s eta 0:00:01\r",
      "\u001b[K     |████████████▊                   | 153 kB 71.3 MB/s eta 0:00:01\r",
      "\u001b[K     |█████████████▌                  | 163 kB 71.3 MB/s eta 0:00:01\r",
      "\u001b[K     |██████████████▍                 | 174 kB 71.3 MB/s eta 0:00:01\r",
      "\u001b[K     |███████████████▏                | 184 kB 71.3 MB/s eta 0:00:01\r",
      "\u001b[K     |████████████████                | 194 kB 71.3 MB/s eta 0:00:01\r",
      "\u001b[K     |█████████████████               | 204 kB 71.3 MB/s eta 0:00:01\r",
      "\u001b[K     |█████████████████▊              | 215 kB 71.3 MB/s eta 0:00:01\r",
      "\u001b[K     |██████████████████▋             | 225 kB 71.3 MB/s eta 0:00:01\r",
      "\u001b[K     |███████████████████▍            | 235 kB 71.3 MB/s eta 0:00:01\r",
      "\u001b[K     |████████████████████▎           | 245 kB 71.3 MB/s eta 0:00:01\r",
      "\u001b[K     |█████████████████████▏          | 256 kB 71.3 MB/s eta 0:00:01\r",
      "\u001b[K     |██████████████████████          | 266 kB 71.3 MB/s eta 0:00:01\r",
      "\u001b[K     |██████████████████████▉         | 276 kB 71.3 MB/s eta 0:00:01\r",
      "\u001b[K     |███████████████████████▋        | 286 kB 71.3 MB/s eta 0:00:01\r",
      "\u001b[K     |████████████████████████▌       | 296 kB 71.3 MB/s eta 0:00:01\r",
      "\u001b[K     |█████████████████████████▍      | 307 kB 71.3 MB/s eta 0:00:01\r",
      "\u001b[K     |██████████████████████████▏     | 317 kB 71.3 MB/s eta 0:00:01\r",
      "\u001b[K     |███████████████████████████     | 327 kB 71.3 MB/s eta 0:00:01\r",
      "\u001b[K     |███████████████████████████▉    | 337 kB 71.3 MB/s eta 0:00:01\r",
      "\u001b[K     |████████████████████████████▊   | 348 kB 71.3 MB/s eta 0:00:01\r",
      "\u001b[K     |█████████████████████████████▋  | 358 kB 71.3 MB/s eta 0:00:01\r",
      "\u001b[K     |██████████████████████████████▍ | 368 kB 71.3 MB/s eta 0:00:01\r",
      "\u001b[K     |███████████████████████████████▎| 378 kB 71.3 MB/s eta 0:00:01\r",
      "\u001b[K     |████████████████████████████████| 387 kB 71.3 MB/s \r\n",
      "\u001b[?25hRequirement already satisfied: azure-core<2.0.0,>=1.23.1 in /databricks/python3/lib/python3.9/site-packages (from adlfs) (1.26.1)\r\n",
      "Collecting aiohttp>=3.7.0\r\n",
      "  Downloading aiohttp-3.8.4-cp39-cp39-manylinux_2_17_x86_64.manylinux2014_x86_64.whl (1.0 MB)\r\n",
      "\u001b[?25l\r",
      "\u001b[K     |▎                               | 10 kB 44.4 MB/s eta 0:00:01\r",
      "\u001b[K     |▋                               | 20 kB 54.4 MB/s eta 0:00:01\r",
      "\u001b[K     |█                               | 30 kB 65.8 MB/s eta 0:00:01\r",
      "\u001b[K     |█▎                              | 40 kB 73.8 MB/s eta 0:00:01\r",
      "\u001b[K     |█▋                              | 51 kB 74.2 MB/s eta 0:00:01\r",
      "\u001b[K     |██                              | 61 kB 79.8 MB/s eta 0:00:01\r",
      "\u001b[K     |██▎                             | 71 kB 80.3 MB/s eta 0:00:01\r",
      "\u001b[K     |██▋                             | 81 kB 82.2 MB/s eta 0:00:01\r",
      "\u001b[K     |██▉                             | 92 kB 85.2 MB/s eta 0:00:01\r",
      "\u001b[K     |███▏                            | 102 kB 87.7 MB/s eta 0:00:01\r",
      "\u001b[K     |███▌                            | 112 kB 87.7 MB/s eta 0:00:01\r",
      "\u001b[K     |███▉                            | 122 kB 87.7 MB/s eta 0:00:01\r",
      "\u001b[K     |████▏                           | 133 kB 87.7 MB/s eta 0:00:01\r",
      "\u001b[K     |████▌                           | 143 kB 87.7 MB/s eta 0:00:01\r",
      "\u001b[K     |████▉                           | 153 kB 87.7 MB/s eta 0:00:01\r",
      "\u001b[K     |█████▏                          | 163 kB 87.7 MB/s eta 0:00:01\r",
      "\u001b[K     |█████▌                          | 174 kB 87.7 MB/s eta 0:00:01\r",
      "\u001b[K     |█████▊                          | 184 kB 87.7 MB/s eta 0:00:01\r",
      "\u001b[K     |██████                          | 194 kB 87.7 MB/s eta 0:00:01\r",
      "\u001b[K     |██████▍                         | 204 kB 87.7 MB/s eta 0:00:01\r",
      "\u001b[K     |██████▊                         | 215 kB 87.7 MB/s eta 0:00:01\r",
      "\u001b[K     |███████                         | 225 kB 87.7 MB/s eta 0:00:01\r",
      "\u001b[K     |███████▍                        | 235 kB 87.7 MB/s eta 0:00:01\r",
      "\u001b[K     |███████▊                        | 245 kB 87.7 MB/s eta 0:00:01\r",
      "\u001b[K     |████████                        | 256 kB 87.7 MB/s eta 0:00:01\r",
      "\u001b[K     |████████▍                       | 266 kB 87.7 MB/s eta 0:00:01\r",
      "\u001b[K     |████████▋                       | 276 kB 87.7 MB/s eta 0:00:01\r",
      "\u001b[K     |█████████                       | 286 kB 87.7 MB/s eta 0:00:01\r",
      "\u001b[K     |█████████▎                      | 296 kB 87.7 MB/s eta 0:00:01\r",
      "\u001b[K     |█████████▋                      | 307 kB 87.7 MB/s eta 0:00:01\r",
      "\u001b[K     |██████████                      | 317 kB 87.7 MB/s eta 0:00:01\r",
      "\u001b[K     |██████████▎                     | 327 kB 87.7 MB/s eta 0:00:01\r",
      "\u001b[K     |██████████▋                     | 337 kB 87.7 MB/s eta 0:00:01\r",
      "\u001b[K     |███████████                     | 348 kB 87.7 MB/s eta 0:00:01\r",
      "\u001b[K     |███████████▏                    | 358 kB 87.7 MB/s eta 0:00:01\r",
      "\u001b[K     |███████████▌                    | 368 kB 87.7 MB/s eta 0:00:01\r",
      "\u001b[K     |███████████▉                    | 378 kB 87.7 MB/s eta 0:00:01\r",
      "\u001b[K     |████████████▏                   | 389 kB 87.7 MB/s eta 0:00:01\r",
      "\u001b[K     |████████████▌                   | 399 kB 87.7 MB/s eta 0:00:01\r",
      "\u001b[K     |████████████▉                   | 409 kB 87.7 MB/s eta 0:00:01\r",
      "\u001b[K     |█████████████▏                  | 419 kB 87.7 MB/s eta 0:00:01\r",
      "\u001b[K     |█████████████▌                  | 430 kB 87.7 MB/s eta 0:00:01\r",
      "\u001b[K     |█████████████▉                  | 440 kB 87.7 MB/s eta 0:00:01\r",
      "\u001b[K     |██████████████                  | 450 kB 87.7 MB/s eta 0:00:01\r",
      "\u001b[K     |██████████████▍                 | 460 kB 87.7 MB/s eta 0:00:01\r",
      "\u001b[K     |██████████████▊                 | 471 kB 87.7 MB/s eta 0:00:01\r",
      "\u001b[K     |███████████████                 | 481 kB 87.7 MB/s eta 0:00:01\r",
      "\u001b[K     |███████████████▍                | 491 kB 87.7 MB/s eta 0:00:01\r",
      "\u001b[K     |███████████████▊                | 501 kB 87.7 MB/s eta 0:00:01\r",
      "\u001b[K     |████████████████                | 512 kB 87.7 MB/s eta 0:00:01\r",
      "\u001b[K     |████████████████▍               | 522 kB 87.7 MB/s eta 0:00:01\r",
      "\u001b[K     |████████████████▊               | 532 kB 87.7 MB/s eta 0:00:01\r",
      "\u001b[K     |█████████████████               | 542 kB 87.7 MB/s eta 0:00:01\r",
      "\u001b[K     |█████████████████▎              | 552 kB 87.7 MB/s eta 0:00:01\r",
      "\u001b[K     |█████████████████▋              | 563 kB 87.7 MB/s eta 0:00:01\r",
      "\u001b[K     |██████████████████              | 573 kB 87.7 MB/s eta 0:00:01\r",
      "\u001b[K     |██████████████████▎             | 583 kB 87.7 MB/s eta 0:00:01\r",
      "\u001b[K     |██████████████████▋             | 593 kB 87.7 MB/s eta 0:00:01\r",
      "\u001b[K     |███████████████████             | 604 kB 87.7 MB/s eta 0:00:01\r",
      "\u001b[K     |███████████████████▎            | 614 kB 87.7 MB/s eta 0:00:01\r",
      "\u001b[K     |███████████████████▋            | 624 kB 87.7 MB/s eta 0:00:01\r",
      "\u001b[K     |███████████████████▉            | 634 kB 87.7 MB/s eta 0:00:01\r",
      "\u001b[K     |████████████████████▏           | 645 kB 87.7 MB/s eta 0:00:01\r",
      "\u001b[K     |████████████████████▌           | 655 kB 87.7 MB/s eta 0:00:01\r",
      "\u001b[K     |████████████████████▉           | 665 kB 87.7 MB/s eta 0:00:01\r",
      "\u001b[K     |█████████████████████▏          | 675 kB 87.7 MB/s eta 0:00:01\r",
      "\u001b[K     |█████████████████████▌          | 686 kB 87.7 MB/s eta 0:00:01\r",
      "\u001b[K     |█████████████████████▉          | 696 kB 87.7 MB/s eta 0:00:01\r",
      "\u001b[K     |██████████████████████▏         | 706 kB 87.7 MB/s eta 0:00:01\r",
      "\u001b[K     |██████████████████████▍         | 716 kB 87.7 MB/s eta 0:00:01\r",
      "\u001b[K     |██████████████████████▊         | 727 kB 87.7 MB/s eta 0:00:01\r",
      "\u001b[K     |███████████████████████         | 737 kB 87.7 MB/s eta 0:00:01\r",
      "\u001b[K     |███████████████████████▍        | 747 kB 87.7 MB/s eta 0:00:01\r",
      "\u001b[K     |███████████████████████▊        | 757 kB 87.7 MB/s eta 0:00:01\r",
      "\u001b[K     |████████████████████████        | 768 kB 87.7 MB/s eta 0:00:01\r",
      "\u001b[K     |████████████████████████▍       | 778 kB 87.7 MB/s eta 0:00:01\r",
      "\u001b[K     |████████████████████████▊       | 788 kB 87.7 MB/s eta 0:00:01\r",
      "\u001b[K     |█████████████████████████       | 798 kB 87.7 MB/s eta 0:00:01\r",
      "\u001b[K     |█████████████████████████▎      | 808 kB 87.7 MB/s eta 0:00:01\r",
      "\u001b[K     |█████████████████████████▋      | 819 kB 87.7 MB/s eta 0:00:01\r",
      "\u001b[K     |██████████████████████████      | 829 kB 87.7 MB/s eta 0:00:01\r",
      "\u001b[K     |██████████████████████████▎     | 839 kB 87.7 MB/s eta 0:00:01\r",
      "\u001b[K     |██████████████████████████▋     | 849 kB 87.7 MB/s eta 0:00:01\r",
      "\u001b[K     |███████████████████████████     | 860 kB 87.7 MB/s eta 0:00:01\r",
      "\u001b[K     |███████████████████████████▎    | 870 kB 87.7 MB/s eta 0:00:01\r",
      "\u001b[K     |███████████████████████████▋    | 880 kB 87.7 MB/s eta 0:00:01\r",
      "\u001b[K     |████████████████████████████    | 890 kB 87.7 MB/s eta 0:00:01\r",
      "\u001b[K     |████████████████████████████▏   | 901 kB 87.7 MB/s eta 0:00:01\r",
      "\u001b[K     |████████████████████████████▌   | 911 kB 87.7 MB/s eta 0:00:01\r",
      "\u001b[K     |████████████████████████████▉   | 921 kB 87.7 MB/s eta 0:00:01\r",
      "\u001b[K     |█████████████████████████████▏  | 931 kB 87.7 MB/s eta 0:00:01\r",
      "\u001b[K     |█████████████████████████████▌  | 942 kB 87.7 MB/s eta 0:00:01\r",
      "\u001b[K     |█████████████████████████████▉  | 952 kB 87.7 MB/s eta 0:00:01\r",
      "\u001b[K     |██████████████████████████████▏ | 962 kB 87.7 MB/s eta 0:00:01\r",
      "\u001b[K     |██████████████████████████████▌ | 972 kB 87.7 MB/s eta 0:00:01\r",
      "\u001b[K     |██████████████████████████████▉ | 983 kB 87.7 MB/s eta 0:00:01\r",
      "\u001b[K     |███████████████████████████████ | 993 kB 87.7 MB/s eta 0:00:01\r",
      "\u001b[K     |███████████████████████████████▍| 1.0 MB 87.7 MB/s eta 0:00:01\r",
      "\u001b[K     |███████████████████████████████▊| 1.0 MB 87.7 MB/s eta 0:00:01\r",
      "\u001b[K     |████████████████████████████████| 1.0 MB 87.7 MB/s \r\n",
      "\u001b[?25hCollecting azure-identity\r\n",
      "  Downloading azure_identity-1.12.0-py3-none-any.whl (135 kB)\r\n",
      "\u001b[?25l\r",
      "\u001b[K     |██▍                             | 10 kB 48.5 MB/s eta 0:00:01\r",
      "\u001b[K     |████▉                           | 20 kB 59.7 MB/s eta 0:00:01\r",
      "\u001b[K     |███████▎                        | 30 kB 71.7 MB/s eta 0:00:01\r",
      "\u001b[K     |█████████▊                      | 40 kB 79.1 MB/s eta 0:00:01\r",
      "\u001b[K     |████████████                    | 51 kB 83.6 MB/s eta 0:00:01\r",
      "\u001b[K     |██████████████▌                 | 61 kB 89.7 MB/s eta 0:00:01\r",
      "\u001b[K     |█████████████████               | 71 kB 93.3 MB/s eta 0:00:01\r",
      "\u001b[K     |███████████████████▍            | 81 kB 97.9 MB/s eta 0:00:01\r",
      "\u001b[K     |█████████████████████▊          | 92 kB 100.4 MB/s eta 0:00:01\r",
      "\u001b[K     |████████████████████████▏       | 102 kB 100.1 MB/s eta 0:00:01\r",
      "\u001b[K     |██████████████████████████▋     | 112 kB 100.1 MB/s eta 0:00:01\r",
      "\u001b[K     |█████████████████████████████   | 122 kB 100.1 MB/s eta 0:00:01\r",
      "\u001b[K     |███████████████████████████████▌| 133 kB 100.1 MB/s eta 0:00:01\r",
      "\u001b[K     |████████████████████████████████| 135 kB 100.1 MB/s \r\n",
      "\u001b[?25hCollecting frozenlist>=1.1.1\r\n",
      "  Downloading frozenlist-1.3.3-cp39-cp39-manylinux_2_5_x86_64.manylinux1_x86_64.manylinux_2_17_x86_64.manylinux2014_x86_64.whl (158 kB)\r\n",
      "\u001b[?25l\r",
      "\u001b[K     |██                              | 10 kB 46.5 MB/s eta 0:00:01\r",
      "\u001b[K     |████▏                           | 20 kB 57.2 MB/s eta 0:00:01\r",
      "\u001b[K     |██████▏                         | 30 kB 69.5 MB/s eta 0:00:01\r",
      "\u001b[K     |████████▎                       | 40 kB 78.0 MB/s eta 0:00:01\r",
      "\u001b[K     |██████████▎                     | 51 kB 82.3 MB/s eta 0:00:01\r",
      "\u001b[K     |████████████▍                   | 61 kB 88.6 MB/s eta 0:00:01\r",
      "\u001b[K     |██████████████▌                 | 71 kB 92.0 MB/s eta 0:00:01\r",
      "\u001b[K     |████████████████▌               | 81 kB 96.5 MB/s eta 0:00:01\r",
      "\u001b[K     |██████████████████▋             | 92 kB 98.8 MB/s eta 0:00:01\r",
      "\u001b[K     |████████████████████▋           | 102 kB 100.5 MB/s eta 0:00:01\r",
      "\u001b[K     |██████████████████████▊         | 112 kB 100.5 MB/s eta 0:00:01\r",
      "\u001b[K     |████████████████████████▊       | 122 kB 100.5 MB/s eta 0:00:01\r",
      "\u001b[K     |██████████████████████████▉     | 133 kB 100.5 MB/s eta 0:00:01\r",
      "\u001b[K     |█████████████████████████████   | 143 kB 100.5 MB/s eta 0:00:01\r",
      "\u001b[K     |███████████████████████████████ | 153 kB 100.5 MB/s eta 0:00:01\r",
      "\u001b[K     |████████████████████████████████| 158 kB 100.5 MB/s \r\n",
      "\u001b[?25hRequirement already satisfied: charset-normalizer<4.0,>=2.0 in /databricks/python3/lib/python3.9/site-packages (from aiohttp>=3.7.0->adlfs) (2.0.4)\r\n",
      "Collecting yarl<2.0,>=1.0\r\n",
      "  Downloading yarl-1.8.2-cp39-cp39-manylinux_2_17_x86_64.manylinux2014_x86_64.whl (264 kB)\r\n",
      "\u001b[?25l\r",
      "\u001b[K     |█▎                              | 10 kB 40.0 MB/s eta 0:00:01\r",
      "\u001b[K     |██▌                             | 20 kB 49.1 MB/s eta 0:00:01\r",
      "\u001b[K     |███▊                            | 30 kB 59.9 MB/s eta 0:00:01\r",
      "\u001b[K     |█████                           | 40 kB 65.3 MB/s eta 0:00:01\r",
      "\u001b[K     |██████▏                         | 51 kB 70.1 MB/s eta 0:00:01\r",
      "\u001b[K     |███████▍                        | 61 kB 76.8 MB/s eta 0:00:01\r",
      "\u001b[K     |████████▊                       | 71 kB 80.9 MB/s eta 0:00:01\r",
      "\u001b[K     |██████████                      | 81 kB 84.0 MB/s eta 0:00:01\r",
      "\u001b[K     |███████████▏                    | 92 kB 88.0 MB/s eta 0:00:01\r",
      "\u001b[K     |████████████▍                   | 102 kB 90.5 MB/s eta 0:00:01\r",
      "\u001b[K     |█████████████▋                  | 112 kB 90.5 MB/s eta 0:00:01\r",
      "\u001b[K     |██████████████▉                 | 122 kB 90.5 MB/s eta 0:00:01\r",
      "\u001b[K     |████████████████                | 133 kB 90.5 MB/s eta 0:00:01\r",
      "\u001b[K     |█████████████████▍              | 143 kB 90.5 MB/s eta 0:00:01\r",
      "\u001b[K     |██████████████████▋             | 153 kB 90.5 MB/s eta 0:00:01\r",
      "\u001b[K     |███████████████████▉            | 163 kB 90.5 MB/s eta 0:00:01\r",
      "\u001b[K     |█████████████████████           | 174 kB 90.5 MB/s eta 0:00:01\r",
      "\u001b[K     |██████████████████████▎         | 184 kB 90.5 MB/s eta 0:00:01\r",
      "\u001b[K     |███████████████████████▌        | 194 kB 90.5 MB/s eta 0:00:01\r",
      "\u001b[K     |████████████████████████▊       | 204 kB 90.5 MB/s eta 0:00:01\r",
      "\u001b[K     |██████████████████████████      | 215 kB 90.5 MB/s eta 0:00:01\r",
      "\u001b[K     |███████████████████████████▎    | 225 kB 90.5 MB/s eta 0:00:01\r",
      "\u001b[K     |████████████████████████████▌   | 235 kB 90.5 MB/s eta 0:00:01\r",
      "\u001b[K     |█████████████████████████████▊  | 245 kB 90.5 MB/s eta 0:00:01\r",
      "\u001b[K     |███████████████████████████████ | 256 kB 90.5 MB/s eta 0:00:01\r",
      "\u001b[K     |████████████████████████████████| 264 kB 90.5 MB/s \r\n",
      "\u001b[?25hCollecting async-timeout<5.0,>=4.0.0a3\r\n",
      "  Downloading async_timeout-4.0.2-py3-none-any.whl (5.8 kB)\r\n",
      "Collecting aiosignal>=1.1.2\r\n",
      "  Downloading aiosignal-1.3.1-py3-none-any.whl (7.6 kB)\r\n",
      "Collecting multidict<7.0,>=4.5\r\n",
      "  Downloading multidict-6.0.4-cp39-cp39-manylinux_2_17_x86_64.manylinux2014_x86_64.whl (114 kB)\r\n",
      "\u001b[?25l\r",
      "\u001b[K     |██▉                             | 10 kB 42.5 MB/s eta 0:00:01\r",
      "\u001b[K     |█████▊                          | 20 kB 52.4 MB/s eta 0:00:01\r",
      "\u001b[K     |████████▋                       | 30 kB 64.1 MB/s eta 0:00:01\r",
      "\u001b[K     |███████████▌                    | 40 kB 71.6 MB/s eta 0:00:01\r",
      "\u001b[K     |██████████████▍                 | 51 kB 76.8 MB/s eta 0:00:01\r",
      "\u001b[K     |█████████████████▏              | 61 kB 83.2 MB/s eta 0:00:01\r",
      "\u001b[K     |████████████████████            | 71 kB 86.9 MB/s eta 0:00:01\r",
      "\u001b[K     |███████████████████████         | 81 kB 91.4 MB/s eta 0:00:01\r",
      "\u001b[K     |█████████████████████████▉      | 92 kB 93.8 MB/s eta 0:00:01\r",
      "\u001b[K     |████████████████████████████▊   | 102 kB 95.5 MB/s eta 0:00:01\r",
      "\u001b[K     |███████████████████████████████▋| 112 kB 95.5 MB/s eta 0:00:01\r",
      "\u001b[K     |████████████████████████████████| 114 kB 95.5 MB/s \r\n",
      "\u001b[?25hRequirement already satisfied: attrs>=17.3.0 in /databricks/python3/lib/python3.9/site-packages (from aiohttp>=3.7.0->adlfs) (21.4.0)\r\n",
      "Requirement already satisfied: six>=1.11.0 in /databricks/python3/lib/python3.9/site-packages (from azure-core<2.0.0,>=1.23.1->adlfs) (1.16.0)\r\n",
      "Requirement already satisfied: requests>=2.18.4 in /databricks/python3/lib/python3.9/site-packages (from azure-core<2.0.0,>=1.23.1->adlfs) (2.27.1)\r\n",
      "Requirement already satisfied: typing-extensions>=4.0.1 in /databricks/python3/lib/python3.9/site-packages (from azure-core<2.0.0,>=1.23.1->adlfs) (4.1.1)\r\n",
      "Collecting adal>=0.4.2\r\n",
      "  Downloading adal-1.2.7-py2.py3-none-any.whl (55 kB)\r\n",
      "\u001b[?25l\r",
      "\u001b[K     |██████                          | 10 kB 54.1 MB/s eta 0:00:01\r",
      "\u001b[K     |███████████▉                    | 20 kB 63.6 MB/s eta 0:00:01\r",
      "\u001b[K     |█████████████████▊              | 30 kB 75.3 MB/s eta 0:00:01\r",
      "\u001b[K     |███████████████████████▋        | 40 kB 82.3 MB/s eta 0:00:01\r",
      "\u001b[K     |█████████████████████████████▌  | 51 kB 88.1 MB/s eta 0:00:01\r",
      "\u001b[K     |████████████████████████████████| 55 kB 4.4 MB/s \r\n",
      "\u001b[?25hRequirement already satisfied: cffi in /databricks/python3/lib/python3.9/site-packages (from azure-datalake-store<0.1,>=0.0.46->adlfs) (1.15.0)\r\n",
      "Requirement already satisfied: python-dateutil<3,>=2.1.0 in /databricks/python3/lib/python3.9/site-packages (from adal>=0.4.2->azure-datalake-store<0.1,>=0.0.46->adlfs) (2.8.2)\r\n",
      "Requirement already satisfied: cryptography>=1.1.0 in /databricks/python3/lib/python3.9/site-packages (from adal>=0.4.2->azure-datalake-store<0.1,>=0.0.46->adlfs) (3.4.8)\r\n",
      "Requirement already satisfied: PyJWT<3,>=1.0.0 in /databricks/python3/lib/python3.9/site-packages (from adal>=0.4.2->azure-datalake-store<0.1,>=0.0.46->adlfs) (2.6.0)\r\n",
      "Requirement already satisfied: isodate>=0.6.1 in /databricks/python3/lib/python3.9/site-packages (from azure-storage-blob>=12.12.0->adlfs) (0.6.1)\r\n",
      "Requirement already satisfied: pycparser in /databricks/python3/lib/python3.9/site-packages (from cffi->azure-datalake-store<0.1,>=0.0.46->adlfs) (2.21)\r\n",
      "Requirement already satisfied: idna<4,>=2.5 in /databricks/python3/lib/python3.9/site-packages (from requests>=2.18.4->azure-core<2.0.0,>=1.23.1->adlfs) (3.3)\r\n",
      "Requirement already satisfied: urllib3<1.27,>=1.21.1 in /databricks/python3/lib/python3.9/site-packages (from requests>=2.18.4->azure-core<2.0.0,>=1.23.1->adlfs) (1.26.9)\r\n",
      "Requirement already satisfied: certifi>=2017.4.17 in /databricks/python3/lib/python3.9/site-packages (from requests>=2.18.4->azure-core<2.0.0,>=1.23.1->adlfs) (2021.10.8)\r\n",
      "Collecting msal-extensions<2.0.0,>=0.3.0\r\n",
      "  Downloading msal_extensions-1.0.0-py2.py3-none-any.whl (19 kB)\r\n",
      "Collecting msal<2.0.0,>=1.12.0\r\n",
      "  Downloading msal-1.21.0-py2.py3-none-any.whl (89 kB)\r\n",
      "\u001b[?25l\r",
      "\u001b[K     |███▋                            | 10 kB 46.1 MB/s eta 0:00:01\r",
      "\u001b[K     |███████▎                        | 20 kB 55.8 MB/s eta 0:00:01\r",
      "\u001b[K     |███████████                     | 30 kB 66.9 MB/s eta 0:00:01\r",
      "\u001b[K     |██████████████▋                 | 40 kB 73.7 MB/s eta 0:00:01\r",
      "\u001b[K     |██████████████████▏             | 51 kB 78.4 MB/s eta 0:00:01\r",
      "\u001b[K     |█████████████████████▉          | 61 kB 84.5 MB/s eta 0:00:01\r",
      "\u001b[K     |█████████████████████████▌      | 71 kB 84.7 MB/s eta 0:00:01\r",
      "\u001b[K     |█████████████████████████████▏  | 81 kB 87.9 MB/s eta 0:00:01\r",
      "\u001b[K     |████████████████████████████████| 89 kB 9.9 MB/s \r\n",
      "\u001b[?25hCollecting portalocker<3,>=1.0\r\n",
      "  Downloading portalocker-2.7.0-py2.py3-none-any.whl (15 kB)\r\n",
      "Installing collected packages: portalocker, multidict, msal, frozenlist, yarl, msal-extensions, async-timeout, aiosignal, adal, azure-storage-blob, azure-identity, azure-datalake-store, aiohttp, adlfs\r\n",
      "Successfully installed adal-1.2.7 adlfs-2023.1.0 aiohttp-3.8.4 aiosignal-1.3.1 async-timeout-4.0.2 azure-datalake-store-0.0.52 azure-identity-1.12.0 azure-storage-blob-12.15.0 frozenlist-1.3.3 msal-1.21.0 msal-extensions-1.0.0 multidict-6.0.4 portalocker-2.7.0 yarl-1.8.2\r\n",
      "\u001b[33mWARNING: You are using pip version 21.2.4; however, version 23.0.1 is available.\r\n",
      "You should consider upgrading via the '/local_disk0/.ephemeral_nfs/envs/pythonEnv-b8745ef8-420a-4a8a-a516-82c815527ee6/bin/python -m pip install --upgrade pip' command.\u001b[0m\r\n"
     ]
    }
   ],
   "source": [
    "!pip install aepp\n",
    "!pip install adlfs"
   ]
  },
  {
   "cell_type": "markdown",
   "metadata": {
    "application/vnd.databricks.v1+cell": {
     "cellMetadata": {},
     "inputWidgets": {},
     "nuid": "18d805c9-3923-46b1-bd0e-e1979a4496e2",
     "showTitle": false,
     "title": ""
    }
   },
   "source": [
    "We'll be using the [aepp Python library](https://github.com/pitchmuc/aepp) here to interact with AEP APIs and create a schema and dataset suitable for adding our synthetic data further down the line. This library simply provides a programmatic interface around the REST APIs, but all these steps could be completed similarly using the raw APIs directly or even in the UI. For more information on the underlying APIs please see [the API reference guide](https://developer.adobe.com/experience-platform-apis/)."
   ]
  },
  {
   "cell_type": "markdown",
   "metadata": {
    "application/vnd.databricks.v1+cell": {
     "cellMetadata": {},
     "inputWidgets": {},
     "nuid": "3ce72370-0266-460b-b00c-9a2d98d626f9",
     "showTitle": false,
     "title": ""
    }
   },
   "source": [
    "Before any calls can take place, we need to configure the library and setup authentication credentials. For this you'll need the following piece of information. For information about how you can get these, please refer to the `Setup` section of the **Readme**:\n",
    "- Client ID\n",
    "- Client secret\n",
    "- Private key\n",
    "- Technical account ID"
   ]
  },
  {
   "cell_type": "markdown",
   "metadata": {
    "application/vnd.databricks.v1+cell": {
     "cellMetadata": {},
     "inputWidgets": {},
     "nuid": "ebba43c4-a1cc-4e49-8ba1-162a6b24ebba",
     "showTitle": false,
     "title": ""
    }
   },
   "source": [
    "The private key needs to be accessible on disk from this notebook. We recommend uploading it to DBFS and refering to it with the `/dbfs` prefix. This can be achieved by clicking in the Databricks notebook interface on `File > Upload data to DBFS` and then selecting the **private.key** file you downloaded during the setup, click `Next` and then you should have the option to copy the path. Make sure it starts with `/dbfs/FileStore` - for example if you uploaded your private key into `/FileStore/shared_upload/your_username` then the final path should be `/dbfs/FileStore/shared_uploads/your_username/private.key`. Make sure this value is properly set in the `private_key_path` variable of your configuration file."
   ]
  },
  {
   "cell_type": "code",
   "execution_count": 0,
   "metadata": {
    "application/vnd.databricks.v1+cell": {
     "cellMetadata": {
      "byteLimit": 2048000,
      "rowLimit": 10000
     },
     "inputWidgets": {},
     "nuid": "5fd8f161-e8bd-4ecf-b00c-2b6ed8c10e2f",
     "showTitle": false,
     "title": ""
    }
   },
   "outputs": [],
   "source": [
    "import aepp\n",
    "\n",
    "aepp.configure(\n",
    "  org_id=ims_org_id,\n",
    "  tech_id=tech_account_id, \n",
    "  secret=client_secret,\n",
    "  path_to_key=private_key_path,\n",
    "  client_id=client_id,\n",
    "  environment=environment,\n",
    "  sandbox=sandbox_name\n",
    ")"
   ]
  },
  {
   "cell_type": "markdown",
   "metadata": {
    "application/vnd.databricks.v1+cell": {
     "cellMetadata": {},
     "inputWidgets": {},
     "nuid": "c09c6abb-b5fd-4fed-99cb-49e101f72827",
     "showTitle": false,
     "title": ""
    }
   },
   "source": [
    "# 1. Creating a Segment to Target Users based on Propensities"
   ]
  },
  {
   "cell_type": "markdown",
   "metadata": {
    "application/vnd.databricks.v1+cell": {
     "cellMetadata": {},
     "inputWidgets": {},
     "nuid": "6dafe387-6743-4b4b-bacb-f171a8903d1c",
     "showTitle": false,
     "title": ""
    }
   },
   "source": [
    "Because the propensity data is already in the Unified Profile, we can now create a segment to target people based on propensities. But it's not immediately obvious what a good value for the upper and lower bound of our target audience should be, so we need to look at the scoring data a bit to understand it better."
   ]
  },
  {
   "cell_type": "markdown",
   "metadata": {
    "application/vnd.databricks.v1+cell": {
     "cellMetadata": {},
     "inputWidgets": {},
     "nuid": "a6b6b184-f1e8-4174-b3ef-4eba7a520840",
     "showTitle": false,
     "title": ""
    }
   },
   "source": [
    "## 1.1 Reading the scored data"
   ]
  },
  {
   "cell_type": "markdown",
   "metadata": {
    "application/vnd.databricks.v1+cell": {
     "cellMetadata": {},
     "inputWidgets": {},
     "nuid": "10401428-cf10-40af-b5dd-5abe384eeaf7",
     "showTitle": false,
     "title": ""
    }
   },
   "source": [
    "To that end we need to read the output of the scoring data that we wrote to the Data Landing Zone previously. We use the regular container `dlz-user-container` since this is where we dropped off the data previously."
   ]
  },
  {
   "cell_type": "code",
   "execution_count": 0,
   "metadata": {
    "application/vnd.databricks.v1+cell": {
     "cellMetadata": {
      "byteLimit": 2048000,
      "rowLimit": 10000
     },
     "inputWidgets": {},
     "nuid": "aa55ba74-fa2b-4639-8711-641e9920951d",
     "showTitle": false,
     "title": ""
    }
   },
   "outputs": [
    {
     "name": "stdout",
     "output_type": "stream",
     "text": [
      "dlz-user-container\n"
     ]
    }
   ],
   "source": [
    "from aepp import flowservice\n",
    "\n",
    "flow_conn = flowservice.FlowService()\n",
    "\n",
    "dlz_credentials = flow_conn.getLandingZoneCredential()\n",
    "dlz_container = dlz_credentials[\"containerName\"]\n",
    "dlz_sas_token = dlz_credentials[\"SASToken\"]\n",
    "dlz_storage_account = dlz_credentials[\"storageAccountName\"]\n",
    "dlz_sas_uri = dlz_credentials[\"SASUri\"]\n",
    "print(dlz_container)"
   ]
  },
  {
   "cell_type": "code",
   "execution_count": 0,
   "metadata": {
    "application/vnd.databricks.v1+cell": {
     "cellMetadata": {
      "byteLimit": 2048000,
      "rowLimit": 10000
     },
     "inputWidgets": {},
     "nuid": "f1998c86-1571-445c-91e4-0ebc6c0a826c",
     "showTitle": false,
     "title": ""
    }
   },
   "outputs": [
    {
     "name": "stdout",
     "output_type": "stream",
     "text": [
      "Found 2 exports from dataset dataset ID 64137c91bdb5101b98dd5510 under path dlz-user-container/cmle/ingress/64137c91bdb5101b98dd5510, using most recent one\n",
      "Using featurized data export time of 20230317020206\n"
     ]
    }
   ],
   "source": [
    "from adlfs import AzureBlobFileSystem\n",
    "from fsspec import AbstractFileSystem\n",
    "\n",
    "fs = AzureBlobFileSystem(\n",
    "  account_name=dlz_storage_account,\n",
    "  sas_token=dlz_sas_token\n",
    ")\n",
    "\n",
    "def get_export_time(fs: AbstractFileSystem, container_name: str, base_path: str, dataset_id: str):\n",
    "  featurized_data_base_path = f\"{container_name}/{base_path}/{dataset_id}\"\n",
    "  featurized_data_export_paths = fs.ls(featurized_data_base_path)\n",
    "  \n",
    "  if len(featurized_data_export_paths) == 0:\n",
    "    raise Exception(f\"Found no exports for featurized data from dataset ID {dataset_id} under path {featurized_data_base_path}\")\n",
    "  elif len(featurized_data_export_paths) > 1:\n",
    "    print(f\"Found {len(featurized_data_export_paths)} exports from dataset dataset ID {dataset_id} under path {featurized_data_base_path}, using most recent one\")\n",
    "  \n",
    "  featurized_data_export_path = featurized_data_export_paths[-1]\n",
    "  featurized_data_export_time = featurized_data_export_path.strip().split(\"/\")[-1].split(\"=\")[-1]\n",
    "  return featurized_data_export_time\n",
    "\n",
    "export_time = get_export_time(fs, dlz_container, import_path, scoring_dataset_id)\n",
    "print(f\"Using featurized data export time of {export_time}\")"
   ]
  },
  {
   "cell_type": "markdown",
   "metadata": {
    "application/vnd.databricks.v1+cell": {
     "cellMetadata": {},
     "inputWidgets": {},
     "nuid": "a8ef6afe-1d93-4a3e-947d-497ca04c6092",
     "showTitle": false,
     "title": ""
    }
   },
   "source": [
    "At that point we're ready to read this data. We're using Spark since it could be pretty large as we're not doing any sampling. Spark needs the following properties to be able to authenticate using SAS:\n",
    "- `fs.azure.account.auth.type.$ACCOUNT.dfs.core.windows.net` should be set to `SAS`.\n",
    "- `fs.azure.sas.token.provider.type.$ACCOUNT.dfs.core.windows.net` should be set to `org.apache.hadoop.fs.azurebfs.sas.FixedSASTokenProvider`.\n",
    "- `fs.azure.sas.fixed.token.$ACCOUNT.dfs.core.windows.net` should be set to the SAS token retrieved earlier.\n",
    "\n",
    "Let's put that in practice and create a Spark dataframe containing the entire featurized data:"
   ]
  },
  {
   "cell_type": "code",
   "execution_count": 0,
   "metadata": {
    "application/vnd.databricks.v1+cell": {
     "cellMetadata": {
      "byteLimit": 2048000,
      "rowLimit": 10000
     },
     "inputWidgets": {},
     "nuid": "a027af84-b920-4f32-a8da-438cb46fc1ba",
     "showTitle": false,
     "title": ""
    }
   },
   "outputs": [
    {
     "name": "stdout",
     "output_type": "stream",
     "text": [
      "root\n",
      " |-- userId: string (nullable = true)\n",
      " |-- prediction: string (nullable = true)\n",
      "\n"
     ]
    }
   ],
   "source": [
    "spark.conf.set(f\"fs.azure.account.auth.type.{dlz_storage_account}.dfs.core.windows.net\", \"SAS\")\n",
    "spark.conf.set(f\"fs.azure.sas.token.provider.type.{dlz_storage_account}.dfs.core.windows.net\", \"org.apache.hadoop.fs.azurebfs.sas.FixedSASTokenProvider\")\n",
    "spark.conf.set(f\"fs.azure.sas.fixed.token.{dlz_storage_account}.dfs.core.windows.net\", dlz_sas_token)\n",
    "\n",
    "protocol = \"abfss\"\n",
    "input_path = f\"{protocol}://{dlz_container}@{dlz_storage_account}.dfs.core.windows.net/{import_path}/{scoring_dataset_id}/exportTime={export_time}/\"\n",
    "\n",
    "df = spark.read.format(\"csv\").option(\"header\", \"true\").load(input_path)\n",
    "df.printSchema()"
   ]
  },
  {
   "cell_type": "markdown",
   "metadata": {
    "application/vnd.databricks.v1+cell": {
     "cellMetadata": {},
     "inputWidgets": {},
     "nuid": "3a8f66b0-eb3e-44f0-b1e7-62084d98408a",
     "showTitle": false,
     "title": ""
    }
   },
   "source": [
    "We can verify it matches what we had written out in the second weekly assignment:"
   ]
  },
  {
   "cell_type": "code",
   "execution_count": 0,
   "metadata": {
    "application/vnd.databricks.v1+cell": {
     "cellMetadata": {
      "byteLimit": 2048000,
      "rowLimit": 10000
     },
     "inputWidgets": {},
     "nuid": "bbe92849-00f0-43c4-a8a5-5a365961365e",
     "showTitle": false,
     "title": ""
    }
   },
   "outputs": [
    {
     "name": "stdout",
     "output_type": "stream",
     "text": [
      "Out[21]: 89925"
     ]
    }
   ],
   "source": [
    "df.count()"
   ]
  },
  {
   "cell_type": "markdown",
   "metadata": {
    "application/vnd.databricks.v1+cell": {
     "cellMetadata": {},
     "inputWidgets": {},
     "nuid": "d66b787c-5184-422d-9aab-1d3fddc54cbb",
     "showTitle": false,
     "title": ""
    }
   },
   "source": [
    "And also do a sanity check on the data to make sure it looks good:"
   ]
  },
  {
   "cell_type": "code",
   "execution_count": 0,
   "metadata": {
    "application/vnd.databricks.v1+cell": {
     "cellMetadata": {
      "byteLimit": 2048000,
      "rowLimit": 10000
     },
     "inputWidgets": {},
     "nuid": "18799e70-9596-47ad-9399-aff7d36edd02",
     "showTitle": false,
     "title": ""
    }
   },
   "outputs": [
    {
     "name": "stdout",
     "output_type": "stream",
     "text": [
      "+--------------------+--------------------+\n",
      "|              userId|          prediction|\n",
      "+--------------------+--------------------+\n",
      "|48584279792398674...|0.005618784702232566|\n",
      "|33680176840164175...| 0.01401838973277185|\n",
      "|42982247304249532...| 0.04576623544969587|\n",
      "|90399313430575879...| 0.22912981464940485|\n",
      "|15838315033349061...|0.005442897727211103|\n",
      "|73888917486043228...|7.373878481660818E-4|\n",
      "|24497414112277584...| 0.03144412063955355|\n",
      "|52519560761904798...|0.005232600667718765|\n",
      "|23332010639571684...|0.027202455468394678|\n",
      "|17931028748863339...|2.112378538234051...|\n",
      "|29302856790101205...| 0.17816678124475216|\n",
      "|73549325463145876...|  0.7738200373843919|\n",
      "|49965994450066878...| 0.36715667168560856|\n",
      "|66945018955724794...|                 0.0|\n",
      "|39543601234984562...| 0.28818372579102974|\n",
      "|35108950146498665...| 0.27703534680385955|\n",
      "|08232956640927086...|7.373878481660818E-4|\n",
      "|15443375769461960...| 0.28603483654850975|\n",
      "|59300126187765511...|0.002880046110523839|\n",
      "|83225575534240437...|                 0.0|\n",
      "+--------------------+--------------------+\n",
      "only showing top 20 rows\n",
      "\n"
     ]
    }
   ],
   "source": [
    "df.show()"
   ]
  },
  {
   "cell_type": "code",
   "execution_count": 0,
   "metadata": {
    "application/vnd.databricks.v1+cell": {
     "cellMetadata": {
      "byteLimit": 2048000,
      "rowLimit": 10000
     },
     "inputWidgets": {},
     "nuid": "6f7e844c-d044-4b51-a3db-7c65065288ee",
     "showTitle": false,
     "title": ""
    }
   },
   "outputs": [],
   "source": [
    "df = df.fillna(0)"
   ]
  },
  {
   "cell_type": "markdown",
   "metadata": {
    "application/vnd.databricks.v1+cell": {
     "cellMetadata": {},
     "inputWidgets": {},
     "nuid": "6a5c9a39-606a-4e56-b1be-f5c535d4bbfb",
     "showTitle": false,
     "title": ""
    }
   },
   "source": [
    "## 1.2 Figuring out the right threshold via a propensity-reach graph"
   ]
  },
  {
   "cell_type": "markdown",
   "metadata": {
    "application/vnd.databricks.v1+cell": {
     "cellMetadata": {},
     "inputWidgets": {},
     "nuid": "438ecbe6-0146-4a90-beaf-659417f6a893",
     "showTitle": false,
     "title": ""
    }
   },
   "source": [
    "In order to determine a suitable interval of propensities for targeting, we need to understand the distribution of the propensity scores across all our profiles.  There's a few different ways we can digest that information, but the very first step is to create a histogram with N bins. Because we may have scored a lot of profiles we do this computation via Spark's `histogram_numeric` function to make sure it is distributed."
   ]
  },
  {
   "cell_type": "code",
   "execution_count": 0,
   "metadata": {
    "application/vnd.databricks.v1+cell": {
     "cellMetadata": {
      "byteLimit": 2048000,
      "rowLimit": 10000
     },
     "inputWidgets": {},
     "nuid": "34978177-0d77-42a5-a072-dda82669589b",
     "showTitle": false,
     "title": ""
    }
   },
   "outputs": [
    {
     "name": "stdout",
     "output_type": "stream",
     "text": [
      "root\n",
      " |-- propensity_bucket: double (nullable = true)\n",
      " |-- reach: double (nullable = true)\n",
      "\n"
     ]
    },
    {
     "data": {
      "text/html": [
       "<style scoped>\n",
       "  .table-result-container {\n",
       "    max-height: 300px;\n",
       "    overflow: auto;\n",
       "  }\n",
       "  table, th, td {\n",
       "    border: 1px solid black;\n",
       "    border-collapse: collapse;\n",
       "  }\n",
       "  th, td {\n",
       "    padding: 5px;\n",
       "  }\n",
       "  th {\n",
       "    text-align: left;\n",
       "  }\n",
       "</style><div class='table-result-container'><table class='table-result'><thead style='background-color: white'><tr><th>propensity_bucket</th><th>reach</th></tr></thead><tbody><tr><td>0.0</td><td>48807.0</td></tr><tr><td>0.04</td><td>12777.0</td></tr><tr><td>0.1</td><td>4587.0</td></tr><tr><td>0.15</td><td>2086.0</td></tr><tr><td>0.2</td><td>1399.0</td></tr><tr><td>0.24</td><td>1632.0</td></tr><tr><td>0.28</td><td>2259.0</td></tr><tr><td>0.33</td><td>1408.0</td></tr><tr><td>0.37</td><td>1094.0</td></tr><tr><td>0.4</td><td>910.0</td></tr><tr><td>0.46</td><td>667.0</td></tr><tr><td>0.52</td><td>599.0</td></tr><tr><td>0.58</td><td>922.0</td></tr><tr><td>0.63</td><td>1073.0</td></tr><tr><td>0.68</td><td>983.0</td></tr><tr><td>0.73</td><td>2556.0</td></tr><tr><td>0.78</td><td>3195.0</td></tr><tr><td>0.84</td><td>830.0</td></tr><tr><td>0.89</td><td>2138.0</td></tr><tr><td>0.93</td><td>3.0</td></tr></tbody></table></div>"
      ]
     },
     "metadata": {
      "application/vnd.databricks.v1+output": {
       "addedWidgets": {},
       "aggData": [],
       "aggError": "",
       "aggOverflow": false,
       "aggSchema": [],
       "aggSeriesLimitReached": false,
       "aggType": "",
       "arguments": {},
       "columnCustomDisplayInfos": {},
       "data": [
        [
         0,
         48807
        ],
        [
         0.04,
         12777
        ],
        [
         0.1,
         4587
        ],
        [
         0.15,
         2086
        ],
        [
         0.2,
         1399
        ],
        [
         0.24,
         1632
        ],
        [
         0.28,
         2259
        ],
        [
         0.33,
         1408
        ],
        [
         0.37,
         1094
        ],
        [
         0.4,
         910
        ],
        [
         0.46,
         667
        ],
        [
         0.52,
         599
        ],
        [
         0.58,
         922
        ],
        [
         0.63,
         1073
        ],
        [
         0.68,
         983
        ],
        [
         0.73,
         2556
        ],
        [
         0.78,
         3195
        ],
        [
         0.84,
         830
        ],
        [
         0.89,
         2138
        ],
        [
         0.93,
         3
        ]
       ],
       "datasetInfos": [],
       "dbfsResultPath": null,
       "isJsonSchema": true,
       "metadata": {},
       "overflow": false,
       "plotOptions": {
        "customPlotOptions": {},
        "displayType": "table",
        "pivotAggregation": null,
        "pivotColumns": null,
        "xColumns": null,
        "yColumns": null
       },
       "removedWidgets": [],
       "schema": [
        {
         "metadata": "{}",
         "name": "propensity_bucket",
         "type": "\"double\""
        },
        {
         "metadata": "{}",
         "name": "reach",
         "type": "\"double\""
        }
       ],
       "type": "table"
      }
     },
     "output_type": "display_data"
    }
   ],
   "source": [
    "num_buckets = 20\n",
    "df_histogram = df \\\n",
    "  .selectExpr(f\"explode(histogram_numeric(prediction, {num_buckets})) as histogram\") \\\n",
    "  .selectExpr(\"round(histogram.x, 2) as propensity_bucket\", \"histogram.y as reach\")\n",
    "df_histogram.printSchema()\n",
    "display(df_histogram)"
   ]
  },
  {
   "cell_type": "markdown",
   "metadata": {
    "application/vnd.databricks.v1+cell": {
     "cellMetadata": {},
     "inputWidgets": {},
     "nuid": "ce13adbe-cd76-487b-bb88-4ae4402441b9",
     "showTitle": false,
     "title": ""
    }
   },
   "source": [
    "Now that we have a histogram it should only be a few rows of data, with each row being a bin, so we can just convert it to a `pandas` dataframe to bring it back locally."
   ]
  },
  {
   "cell_type": "code",
   "execution_count": 0,
   "metadata": {
    "application/vnd.databricks.v1+cell": {
     "cellMetadata": {
      "byteLimit": 2048000,
      "rowLimit": 10000
     },
     "inputWidgets": {},
     "nuid": "7cff2c8b-5f03-4394-ab26-a4e7cc195573",
     "showTitle": false,
     "title": ""
    }
   },
   "outputs": [
    {
     "data": {
      "text/html": [
       "<div>\n",
       "<style scoped>\n",
       "    .dataframe tbody tr th:only-of-type {\n",
       "        vertical-align: middle;\n",
       "    }\n",
       "\n",
       "    .dataframe tbody tr th {\n",
       "        vertical-align: top;\n",
       "    }\n",
       "\n",
       "    .dataframe thead th {\n",
       "        text-align: right;\n",
       "    }\n",
       "</style>\n",
       "<table border=\"1\" class=\"dataframe\">\n",
       "  <thead>\n",
       "    <tr style=\"text-align: right;\">\n",
       "      <th></th>\n",
       "      <th>propensity_bucket</th>\n",
       "      <th>reach</th>\n",
       "    </tr>\n",
       "  </thead>\n",
       "  <tbody>\n",
       "    <tr>\n",
       "      <th>0</th>\n",
       "      <td>0.00</td>\n",
       "      <td>48807.0</td>\n",
       "    </tr>\n",
       "    <tr>\n",
       "      <th>1</th>\n",
       "      <td>0.04</td>\n",
       "      <td>12777.0</td>\n",
       "    </tr>\n",
       "    <tr>\n",
       "      <th>2</th>\n",
       "      <td>0.10</td>\n",
       "      <td>4587.0</td>\n",
       "    </tr>\n",
       "    <tr>\n",
       "      <th>3</th>\n",
       "      <td>0.15</td>\n",
       "      <td>2086.0</td>\n",
       "    </tr>\n",
       "    <tr>\n",
       "      <th>4</th>\n",
       "      <td>0.20</td>\n",
       "      <td>1399.0</td>\n",
       "    </tr>\n",
       "  </tbody>\n",
       "</table>\n",
       "</div>"
      ]
     },
     "metadata": {
      "application/vnd.databricks.v1+output": {
       "addedWidgets": {},
       "arguments": {},
       "data": "<div>\n<style scoped>\n    .dataframe tbody tr th:only-of-type {\n        vertical-align: middle;\n    }\n\n    .dataframe tbody tr th {\n        vertical-align: top;\n    }\n\n    .dataframe thead th {\n        text-align: right;\n    }\n</style>\n<table border=\"1\" class=\"dataframe\">\n  <thead>\n    <tr style=\"text-align: right;\">\n      <th></th>\n      <th>propensity_bucket</th>\n      <th>reach</th>\n    </tr>\n  </thead>\n  <tbody>\n    <tr>\n      <th>0</th>\n      <td>0.00</td>\n      <td>48807.0</td>\n    </tr>\n    <tr>\n      <th>1</th>\n      <td>0.04</td>\n      <td>12777.0</td>\n    </tr>\n    <tr>\n      <th>2</th>\n      <td>0.10</td>\n      <td>4587.0</td>\n    </tr>\n    <tr>\n      <th>3</th>\n      <td>0.15</td>\n      <td>2086.0</td>\n    </tr>\n    <tr>\n      <th>4</th>\n      <td>0.20</td>\n      <td>1399.0</td>\n    </tr>\n  </tbody>\n</table>\n</div>",
       "datasetInfos": [],
       "metadata": {},
       "removedWidgets": [],
       "textData": null,
       "type": "htmlSandbox"
      }
     },
     "output_type": "display_data"
    }
   ],
   "source": [
    "df_graph = df_histogram.toPandas()\n",
    "df_graph.head()"
   ]
  },
  {
   "cell_type": "markdown",
   "metadata": {
    "application/vnd.databricks.v1+cell": {
     "cellMetadata": {},
     "inputWidgets": {},
     "nuid": "f1309429-11af-4fe7-b74c-035e16e33360",
     "showTitle": false,
     "title": ""
    }
   },
   "source": [
    "We can just plot the histogram as-is, and each point will show us how many profiles are in that particular propensity bin."
   ]
  },
  {
   "cell_type": "code",
   "execution_count": 0,
   "metadata": {
    "application/vnd.databricks.v1+cell": {
     "cellMetadata": {
      "byteLimit": 2048000,
      "rowLimit": 10000
     },
     "inputWidgets": {},
     "nuid": "57aca164-313f-4297-abe5-904cd8868d64",
     "showTitle": false,
     "title": ""
    }
   },
   "outputs": [
    {
     "name": "stdout",
     "output_type": "stream",
     "text": [
      "Out[27]: <AxesSubplot:title={'center':'Number of profiles at a propensity bucket'}, xlabel='propensity_bucket'>"
     ]
    },
    {
     "data": {
      "image/png": "[encoded data removed]"
     },
     "metadata": {
      "application/vnd.databricks.v1+output": {
       "addedWidgets": {},
       "arguments": {},
       "data": "data:image/png;base64,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\n",
       "datasetInfos": [],
       "metadata": {},
       "removedWidgets": [],
       "type": "image"
      }
     },
     "output_type": "display_data"
    }
   ],
   "source": [
    "df_graph.plot(\n",
    "  x=\"propensity_bucket\",\n",
    "  y=\"reach\",\n",
    "  title=\"Number of profiles at a propensity bucket\"\n",
    ")"
   ]
  },
  {
   "cell_type": "markdown",
   "metadata": {
    "application/vnd.databricks.v1+cell": {
     "cellMetadata": {},
     "inputWidgets": {},
     "nuid": "db18f491-cbd4-46ad-8138-cea790f6addd",
     "showTitle": false,
     "title": ""
    }
   },
   "source": [
    "This is still not quite what we want, because typically we'll want to target profiles who have a propensity either above or below a particular threshold. We can get that by computing the **cumulative sum** using two different methods:\n",
    "- If we do the cumulative sum from the **smallest bucket to the largest bucket** (\"left to right\"), then any point in the resulting graph shows us the reach if I was to target all profiles with a propensity **below** a particular threshold.\n",
    "- If we do the cumulative sum from the **largest bucket to the smallest bucket** (\"right to left\"), then any point in the resulting graph shows us the reach if I was to target all profiles with a propensity **above** a particular threshold."
   ]
  },
  {
   "cell_type": "code",
   "execution_count": 0,
   "metadata": {
    "application/vnd.databricks.v1+cell": {
     "cellMetadata": {
      "byteLimit": 2048000,
      "rowLimit": 10000
     },
     "inputWidgets": {},
     "nuid": "8b80389f-2bdb-4f99-b919-5b2feb08442e",
     "showTitle": false,
     "title": ""
    }
   },
   "outputs": [
    {
     "data": {
      "text/html": [
       "<div>\n",
       "<style scoped>\n",
       "    .dataframe tbody tr th:only-of-type {\n",
       "        vertical-align: middle;\n",
       "    }\n",
       "\n",
       "    .dataframe tbody tr th {\n",
       "        vertical-align: top;\n",
       "    }\n",
       "\n",
       "    .dataframe thead th {\n",
       "        text-align: right;\n",
       "    }\n",
       "</style>\n",
       "<table border=\"1\" class=\"dataframe\">\n",
       "  <thead>\n",
       "    <tr style=\"text-align: right;\">\n",
       "      <th></th>\n",
       "      <th>propensity_bucket</th>\n",
       "      <th>reach</th>\n",
       "      <th>reach_inferior_or_equal</th>\n",
       "      <th>reach_superior_or_equal</th>\n",
       "      <th>reach_inferior</th>\n",
       "      <th>reach_superior</th>\n",
       "    </tr>\n",
       "  </thead>\n",
       "  <tbody>\n",
       "    <tr>\n",
       "      <th>0</th>\n",
       "      <td>0.00</td>\n",
       "      <td>48807.0</td>\n",
       "      <td>48807.0</td>\n",
       "      <td>89925.0</td>\n",
       "      <td>NaN</td>\n",
       "      <td>41118.0</td>\n",
       "    </tr>\n",
       "    <tr>\n",
       "      <th>1</th>\n",
       "      <td>0.04</td>\n",
       "      <td>12777.0</td>\n",
       "      <td>61584.0</td>\n",
       "      <td>41118.0</td>\n",
       "      <td>48807.0</td>\n",
       "      <td>28341.0</td>\n",
       "    </tr>\n",
       "    <tr>\n",
       "      <th>2</th>\n",
       "      <td>0.10</td>\n",
       "      <td>4587.0</td>\n",
       "      <td>66171.0</td>\n",
       "      <td>28341.0</td>\n",
       "      <td>61584.0</td>\n",
       "      <td>23754.0</td>\n",
       "    </tr>\n",
       "    <tr>\n",
       "      <th>3</th>\n",
       "      <td>0.15</td>\n",
       "      <td>2086.0</td>\n",
       "      <td>68257.0</td>\n",
       "      <td>23754.0</td>\n",
       "      <td>66171.0</td>\n",
       "      <td>21668.0</td>\n",
       "    </tr>\n",
       "    <tr>\n",
       "      <th>4</th>\n",
       "      <td>0.20</td>\n",
       "      <td>1399.0</td>\n",
       "      <td>69656.0</td>\n",
       "      <td>21668.0</td>\n",
       "      <td>68257.0</td>\n",
       "      <td>20269.0</td>\n",
       "    </tr>\n",
       "  </tbody>\n",
       "</table>\n",
       "</div>"
      ]
     },
     "metadata": {
      "application/vnd.databricks.v1+output": {
       "addedWidgets": {},
       "arguments": {},
       "data": "<div>\n<style scoped>\n    .dataframe tbody tr th:only-of-type {\n        vertical-align: middle;\n    }\n\n    .dataframe tbody tr th {\n        vertical-align: top;\n    }\n\n    .dataframe thead th {\n        text-align: right;\n    }\n</style>\n<table border=\"1\" class=\"dataframe\">\n  <thead>\n    <tr style=\"text-align: right;\">\n      <th></th>\n      <th>propensity_bucket</th>\n      <th>reach</th>\n      <th>reach_inferior_or_equal</th>\n      <th>reach_superior_or_equal</th>\n      <th>reach_inferior</th>\n      <th>reach_superior</th>\n    </tr>\n  </thead>\n  <tbody>\n    <tr>\n      <th>0</th>\n      <td>0.00</td>\n      <td>48807.0</td>\n      <td>48807.0</td>\n      <td>89925.0</td>\n      <td>NaN</td>\n      <td>41118.0</td>\n    </tr>\n    <tr>\n      <th>1</th>\n      <td>0.04</td>\n      <td>12777.0</td>\n      <td>61584.0</td>\n      <td>41118.0</td>\n      <td>48807.0</td>\n      <td>28341.0</td>\n    </tr>\n    <tr>\n      <th>2</th>\n      <td>0.10</td>\n      <td>4587.0</td>\n      <td>66171.0</td>\n      <td>28341.0</td>\n      <td>61584.0</td>\n      <td>23754.0</td>\n    </tr>\n    <tr>\n      <th>3</th>\n      <td>0.15</td>\n      <td>2086.0</td>\n      <td>68257.0</td>\n      <td>23754.0</td>\n      <td>66171.0</td>\n      <td>21668.0</td>\n    </tr>\n    <tr>\n      <th>4</th>\n      <td>0.20</td>\n      <td>1399.0</td>\n      <td>69656.0</td>\n      <td>21668.0</td>\n      <td>68257.0</td>\n      <td>20269.0</td>\n    </tr>\n  </tbody>\n</table>\n</div>",
       "datasetInfos": [],
       "metadata": {},
       "removedWidgets": [],
       "textData": null,
       "type": "htmlSandbox"
      }
     },
     "output_type": "display_data"
    }
   ],
   "source": [
    "df_graph[\"reach_inferior_or_equal\"] = df_graph[\"reach\"].cumsum()\n",
    "df_graph[\"reach_superior_or_equal\"] = df_graph.loc[::-1, \"reach\"].cumsum()[::-1]\n",
    "df_graph[\"reach_inferior\"] = df_graph[\"reach_inferior_or_equal\"].shift(1)\n",
    "df_graph[\"reach_superior\"] = df_graph[\"reach_superior_or_equal\"].shift(-1)\n",
    "df_graph.head()"
   ]
  },
  {
   "cell_type": "code",
   "execution_count": 0,
   "metadata": {
    "application/vnd.databricks.v1+cell": {
     "cellMetadata": {
      "byteLimit": 2048000,
      "rowLimit": 10000
     },
     "inputWidgets": {},
     "nuid": "8a99c02b-7d32-4b01-82eb-827600e3ee28",
     "showTitle": false,
     "title": ""
    }
   },
   "outputs": [
    {
     "name": "stdout",
     "output_type": "stream",
     "text": [
      "Out[29]: <AxesSubplot:title={'center':'Reach below a propensity'}, xlabel='propensity_bucket'>"
     ]
    },
    {
     "data": {
      "image/png": "[encoded data removed]"
     },
     "metadata": {
      "application/vnd.databricks.v1+output": {
       "addedWidgets": {},
       "arguments": {},
       "data": "data:image/png;base64,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\n",
       "datasetInfos": [],
       "metadata": {},
       "removedWidgets": [],
       "type": "image"
      }
     },
     "output_type": "display_data"
    },
    {
     "data": {
      "image/png": "[encoded data removed]"
     },
     "metadata": {
      "application/vnd.databricks.v1+output": {
       "addedWidgets": {},
       "arguments": {},
       "data": "data:image/png;base64,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\n",
       "datasetInfos": [],
       "metadata": {},
       "removedWidgets": [],
       "type": "image"
      }
     },
     "output_type": "display_data"
    }
   ],
   "source": [
    "df_graph.plot(\n",
    "  x=\"propensity_bucket\",\n",
    "  y=\"reach_superior_or_equal\",\n",
    "  title=\"Reach above a propensity\"\n",
    ")\n",
    "df_graph.plot(\n",
    "  x=\"propensity_bucket\",\n",
    "  y=\"reach_inferior_or_equal\",\n",
    "  title=\"Reach below a propensity\"\n",
    ")"
   ]
  },
  {
   "cell_type": "markdown",
   "metadata": {
    "application/vnd.databricks.v1+cell": {
     "cellMetadata": {},
     "inputWidgets": {},
     "nuid": "a9fa6a9a-5e17-4db6-bf63-8cd46c2cb449",
     "showTitle": false,
     "title": ""
    }
   },
   "source": [
    "These graphs are useful to help us define broad propensity-based segments where we only look at profiles with a propensity above or below a threshold, but that's still not enough to help us define a complete interval for our segment.\n",
    "\n",
    "For that we would ideally like to represent this as a 3-dimensional plot where:\n",
    "- On the **X axis** we have the **lower bound** of the interval.\n",
    "- On the **Y axis** we have the **upper bound** of the interval.\n",
    "- On the **Z axis** you have the **reach** corresponding to that interval.\n",
    "\n",
    "To get there the first step is to create a function that can tell us the reach given a lower and upper bound:"
   ]
  },
  {
   "cell_type": "code",
   "execution_count": 0,
   "metadata": {
    "application/vnd.databricks.v1+cell": {
     "cellMetadata": {
      "byteLimit": 2048000,
      "rowLimit": 10000
     },
     "inputWidgets": {},
     "nuid": "62b8e910-1088-46ee-b37f-77cbdf815826",
     "showTitle": false,
     "title": ""
    }
   },
   "outputs": [
    {
     "data": {
      "text/html": [
       "<div>\n",
       "<style scoped>\n",
       "    .dataframe tbody tr th:only-of-type {\n",
       "        vertical-align: middle;\n",
       "    }\n",
       "\n",
       "    .dataframe tbody tr th {\n",
       "        vertical-align: top;\n",
       "    }\n",
       "\n",
       "    .dataframe thead th {\n",
       "        text-align: right;\n",
       "    }\n",
       "</style>\n",
       "<table border=\"1\" class=\"dataframe\">\n",
       "  <thead>\n",
       "    <tr style=\"text-align: right;\">\n",
       "      <th></th>\n",
       "      <th>reach</th>\n",
       "      <th>reach_inferior_or_equal</th>\n",
       "      <th>reach_superior_or_equal</th>\n",
       "      <th>reach_inferior</th>\n",
       "      <th>reach_superior</th>\n",
       "    </tr>\n",
       "    <tr>\n",
       "      <th>propensity_bucket</th>\n",
       "      <th></th>\n",
       "      <th></th>\n",
       "      <th></th>\n",
       "      <th></th>\n",
       "      <th></th>\n",
       "    </tr>\n",
       "  </thead>\n",
       "  <tbody>\n",
       "    <tr>\n",
       "      <th>0.00</th>\n",
       "      <td>48807.0</td>\n",
       "      <td>48807.0</td>\n",
       "      <td>89925.0</td>\n",
       "      <td>0.0</td>\n",
       "      <td>41118.0</td>\n",
       "    </tr>\n",
       "    <tr>\n",
       "      <th>0.04</th>\n",
       "      <td>12777.0</td>\n",
       "      <td>61584.0</td>\n",
       "      <td>41118.0</td>\n",
       "      <td>48807.0</td>\n",
       "      <td>28341.0</td>\n",
       "    </tr>\n",
       "    <tr>\n",
       "      <th>0.10</th>\n",
       "      <td>4587.0</td>\n",
       "      <td>66171.0</td>\n",
       "      <td>28341.0</td>\n",
       "      <td>61584.0</td>\n",
       "      <td>23754.0</td>\n",
       "    </tr>\n",
       "    <tr>\n",
       "      <th>0.15</th>\n",
       "      <td>2086.0</td>\n",
       "      <td>68257.0</td>\n",
       "      <td>23754.0</td>\n",
       "      <td>66171.0</td>\n",
       "      <td>21668.0</td>\n",
       "    </tr>\n",
       "    <tr>\n",
       "      <th>0.20</th>\n",
       "      <td>1399.0</td>\n",
       "      <td>69656.0</td>\n",
       "      <td>21668.0</td>\n",
       "      <td>68257.0</td>\n",
       "      <td>20269.0</td>\n",
       "    </tr>\n",
       "  </tbody>\n",
       "</table>\n",
       "</div>"
      ]
     },
     "metadata": {
      "application/vnd.databricks.v1+output": {
       "addedWidgets": {},
       "arguments": {},
       "data": "<div>\n<style scoped>\n    .dataframe tbody tr th:only-of-type {\n        vertical-align: middle;\n    }\n\n    .dataframe tbody tr th {\n        vertical-align: top;\n    }\n\n    .dataframe thead th {\n        text-align: right;\n    }\n</style>\n<table border=\"1\" class=\"dataframe\">\n  <thead>\n    <tr style=\"text-align: right;\">\n      <th></th>\n      <th>reach</th>\n      <th>reach_inferior_or_equal</th>\n      <th>reach_superior_or_equal</th>\n      <th>reach_inferior</th>\n      <th>reach_superior</th>\n    </tr>\n    <tr>\n      <th>propensity_bucket</th>\n      <th></th>\n      <th></th>\n      <th></th>\n      <th></th>\n      <th></th>\n    </tr>\n  </thead>\n  <tbody>\n    <tr>\n      <th>0.00</th>\n      <td>48807.0</td>\n      <td>48807.0</td>\n      <td>89925.0</td>\n      <td>0.0</td>\n      <td>41118.0</td>\n    </tr>\n    <tr>\n      <th>0.04</th>\n      <td>12777.0</td>\n      <td>61584.0</td>\n      <td>41118.0</td>\n      <td>48807.0</td>\n      <td>28341.0</td>\n    </tr>\n    <tr>\n      <th>0.10</th>\n      <td>4587.0</td>\n      <td>66171.0</td>\n      <td>28341.0</td>\n      <td>61584.0</td>\n      <td>23754.0</td>\n    </tr>\n    <tr>\n      <th>0.15</th>\n      <td>2086.0</td>\n      <td>68257.0</td>\n      <td>23754.0</td>\n      <td>66171.0</td>\n      <td>21668.0</td>\n    </tr>\n    <tr>\n      <th>0.20</th>\n      <td>1399.0</td>\n      <td>69656.0</td>\n      <td>21668.0</td>\n      <td>68257.0</td>\n      <td>20269.0</td>\n    </tr>\n  </tbody>\n</table>\n</div>",
       "datasetInfos": [],
       "metadata": {},
       "removedWidgets": [],
       "textData": null,
       "type": "htmlSandbox"
      }
     },
     "output_type": "display_data"
    }
   ],
   "source": [
    "df_indexed = df_graph.fillna(0).set_index(\"propensity_bucket\")\n",
    "df_indexed.head()"
   ]
  },
  {
   "cell_type": "code",
   "execution_count": 0,
   "metadata": {
    "application/vnd.databricks.v1+cell": {
     "cellMetadata": {
      "byteLimit": 2048000,
      "rowLimit": 10000
     },
     "inputWidgets": {},
     "nuid": "efab81e5-26a8-4a1b-8093-80181690fa09",
     "showTitle": false,
     "title": ""
    }
   },
   "outputs": [
    {
     "name": "stdout",
     "output_type": "stream",
     "text": [
      "Out[31]: 89925.0"
     ]
    }
   ],
   "source": [
    "def reach_between(df, propensity_from, propensity_to, total_pop):\n",
    "  if propensity_from > propensity_to:\n",
    "    return 0.\n",
    "  return total_pop - df.loc[propensity_from][\"reach_inferior\"] - df.loc[propensity_to][\"reach_superior\"]\n",
    "\n",
    "total_population = df_graph[\"reach\"].sum()\n",
    "total_population"
   ]
  },
  {
   "cell_type": "markdown",
   "metadata": {
    "application/vnd.databricks.v1+cell": {
     "cellMetadata": {},
     "inputWidgets": {},
     "nuid": "c8af8a02-16ac-4af3-94cb-b2ae2e0338dd",
     "showTitle": false,
     "title": ""
    }
   },
   "source": [
    "Now we can create a 2-dimensional array which will represent the reach for each of the bins of the interval. For that we simply iterate over all the bins in both dimensions, and pass it to our reach computation function."
   ]
  },
  {
   "cell_type": "code",
   "execution_count": 0,
   "metadata": {
    "application/vnd.databricks.v1+cell": {
     "cellMetadata": {
      "byteLimit": 2048000,
      "rowLimit": 10000
     },
     "inputWidgets": {},
     "nuid": "fc169ca3-af28-4560-82f4-d81dacae08e5",
     "showTitle": false,
     "title": ""
    }
   },
   "outputs": [
    {
     "name": "stdout",
     "output_type": "stream",
     "text": [
      "Out[32]: (20, 20)"
     ]
    }
   ],
   "source": [
    "import numpy as np\n",
    "\n",
    "dim = len(df_indexed)\n",
    "\n",
    "z = np.zeros((dim, dim))\n",
    "z.shape"
   ]
  },
  {
   "cell_type": "code",
   "execution_count": 0,
   "metadata": {
    "application/vnd.databricks.v1+cell": {
     "cellMetadata": {
      "byteLimit": 2048000,
      "rowLimit": 10000
     },
     "inputWidgets": {},
     "nuid": "7da8d619-0c9f-40ff-90c7-dc5bacc94982",
     "showTitle": false,
     "title": ""
    }
   },
   "outputs": [],
   "source": [
    "x = df_graph[\"propensity_bucket\"].values\n",
    "for index_from, propensity_from in enumerate(x):\n",
    "  for index_to, propensity_to in enumerate(x):\n",
    "    reach_x_y = reach_between(df_indexed, propensity_from, propensity_to, total_population)\n",
    "    z[index_from][index_to] = reach_x_y"
   ]
  },
  {
   "cell_type": "markdown",
   "metadata": {
    "application/vnd.databricks.v1+cell": {
     "cellMetadata": {},
     "inputWidgets": {},
     "nuid": "697582e4-a885-458b-bf9b-190ad645a9f5",
     "showTitle": false,
     "title": ""
    }
   },
   "source": [
    "Now we can make the 3-dimensional plot as a surface plot to visualize things easily in an interactive plot. We also want to generate the corresponding segment rule on the fly for each point, so for that we need to first get the tenant ID since the propensity XDM field was nested under the tenant ID."
   ]
  },
  {
   "cell_type": "code",
   "execution_count": 0,
   "metadata": {
    "application/vnd.databricks.v1+cell": {
     "cellMetadata": {
      "byteLimit": 2048000,
      "rowLimit": 10000
     },
     "inputWidgets": {},
     "nuid": "cc41e716-fe71-46d3-ab7a-5ad911351896",
     "showTitle": false,
     "title": ""
    }
   },
   "outputs": [
    {
     "name": "stdout",
     "output_type": "stream",
     "text": [
      "Out[34]: 'cloudmlecosystem'"
     ]
    }
   ],
   "source": [
    "from aepp import schema\n",
    "\n",
    "schema_conn = schema.Schema()\n",
    "\n",
    "tenant_id = schema_conn.getTenantId()\n",
    "tenant_id"
   ]
  },
  {
   "cell_type": "code",
   "execution_count": 0,
   "metadata": {
    "application/vnd.databricks.v1+cell": {
     "cellMetadata": {
      "byteLimit": 2048000,
      "rowLimit": 10000
     },
     "inputWidgets": {},
     "nuid": "c6b59b66-fdce-4361-90c8-6af427b925e8",
     "showTitle": false,
     "title": ""
    }
   },
   "outputs": [],
   "source": [
    "import plotly.graph_objects as go\n",
    "\n",
    "titlecolor = 'black'\n",
    "bgcolor = 'white'\n",
    "\n",
    "layout = go.Layout(\n",
    "    autosize=False, width=1500, height=800,\n",
    "    title = 'Propensity-reach Segment Topology',\n",
    "    showlegend = True,\n",
    "    scene = dict(\n",
    "        xaxis_title_text = \"Propensity To\",\n",
    "        yaxis_title_text = \"Propensity From\",\n",
    "        zaxis_title_text = \"Reach\",\n",
    "        aspectmode='manual',\n",
    "        aspectratio=go.layout.scene.Aspectratio(\n",
    "            x=1, y=1, z=1)),\n",
    "    paper_bgcolor = bgcolor,\n",
    "    plot_bgcolor = bgcolor)\n",
    "\n",
    "trace = go.Surface(\n",
    "  x=x, \n",
    "  y=x, \n",
    "  z=z, \n",
    "  hovertemplate=f\"\"\"\n",
    "  Propensity From: %{{y}}<br>\n",
    "  Propensity To: %{{x}}<br>\n",
    "  Reach: %{{z}}<br>\n",
    "  Rule: _{tenant_id}.propensity >= %{{y}} and _{tenant_id}.propensity <= %{{x}}\n",
    "  \"\"\"\n",
    ")\n",
    "\n",
    "fig = go.FigureWidget(data=[trace], layout=layout)\n",
    "\n",
    "fig.show()"
   ]
  },
  {
   "cell_type": "markdown",
   "metadata": {
    "application/vnd.databricks.v1+cell": {
     "cellMetadata": {},
     "inputWidgets": {},
     "nuid": "229e3b5c-2174-4cc7-a886-b8bc10e37dde",
     "showTitle": false,
     "title": ""
    }
   },
   "source": [
    "You can now use this plot to find an interval that looks interesting. For example we can take a point at the inflexion point so we can target profiles with a decently high propensity without necessarily catching our entire set of profiles, as can be seen below:\n",
    "\n",
    "![Surface](../media/CMLE-Notebooks-Week5-Surface.png)"
   ]
  },
  {
   "cell_type": "markdown",
   "metadata": {
    "application/vnd.databricks.v1+cell": {
     "cellMetadata": {},
     "inputWidgets": {},
     "nuid": "e9ab9303-0fa3-412f-9d21-480e73e1d6b8",
     "showTitle": false,
     "title": ""
    }
   },
   "source": [
    "# 2. Targeting via a Propensity Segment"
   ]
  },
  {
   "cell_type": "markdown",
   "metadata": {
    "application/vnd.databricks.v1+cell": {
     "cellMetadata": {},
     "inputWidgets": {},
     "nuid": "4b079824-1327-45de-aff2-77758cc624dc",
     "showTitle": false,
     "title": ""
    }
   },
   "source": [
    "Now that we know the characteristics of the audience we want to target, the next and final step is to turn this into an actual audience, make sure it is populated, and activate it."
   ]
  },
  {
   "cell_type": "markdown",
   "metadata": {
    "application/vnd.databricks.v1+cell": {
     "cellMetadata": {},
     "inputWidgets": {},
     "nuid": "ea5c13b9-f14b-488b-bd4f-d8b2450ff81c",
     "showTitle": false,
     "title": ""
    }
   },
   "source": [
    "## 2.1 Creating a Propensity Segment"
   ]
  },
  {
   "cell_type": "markdown",
   "metadata": {
    "application/vnd.databricks.v1+cell": {
     "cellMetadata": {},
     "inputWidgets": {},
     "nuid": "4c5f1d17-6c42-48a7-99cc-eea0bee667ad",
     "showTitle": false,
     "title": ""
    }
   },
   "source": [
    "We've identified the upper and lower bound of interest in the previous 3-dimensional plot, so at that point we can copy/paste the corresponding segment rule and plug it into the cell below, so we can use this as the basis for our segment:"
   ]
  },
  {
   "cell_type": "code",
   "execution_count": 0,
   "metadata": {
    "application/vnd.databricks.v1+cell": {
     "cellMetadata": {},
     "inputWidgets": {},
     "nuid": "0bfb8e3c-bebc-468c-ad90-b4b19a173362",
     "showTitle": false,
     "title": ""
    }
   },
   "outputs": [],
   "source": [
    "segment_rule = f\"_{tenant_id}.propensity >= 0.2 and _{tenant_id}.propensity <= 0.93\""
   ]
  },
  {
   "cell_type": "code",
   "execution_count": 0,
   "metadata": {
    "application/vnd.databricks.v1+cell": {
     "cellMetadata": {
      "byteLimit": 2048000,
      "rowLimit": 10000
     },
     "inputWidgets": {},
     "nuid": "4965fb32-b9c1-492f-a31d-d45aedbf89d4",
     "showTitle": false,
     "title": ""
    }
   },
   "outputs": [],
   "source": [
    "from aepp import segmentation\n",
    "\n",
    "segment_conn = segmentation.Segmentation()\n",
    "\n",
    "segment_res = segment_conn.createSegment({\n",
    "  \"name\": f\"[CMLE][Week5] People with a moderate-to-high propensity to subscribe (created by {username})\",\n",
    "  \"profileInstanceId\": \"ups\",\n",
    "  \"description\": \"People who have a moderate-to-high propensity to subscribe\",\n",
    "  \"expression\": {\n",
    "      \"type\": \"PQL\",\n",
    "      \"format\": \"pql/text\",\n",
    "      \"value\": segment_rule\n",
    "  },\n",
    "  \"schema\": {\n",
    "      \"name\": \"_xdm.context.profile\"\n",
    "  },\n",
    "  \"payloadSchema\": \"string\",\n",
    "  \"ttlInDays\": 60\n",
    "})\n",
    "\n",
    "segment_id = segment_res[\"id\"]\n",
    "segment_id"
   ]
  },
  {
   "cell_type": "markdown",
   "metadata": {
    "application/vnd.databricks.v1+cell": {
     "cellMetadata": {},
     "inputWidgets": {},
     "nuid": "975193ce-4162-4563-bf8e-0a2cd69ac9f0",
     "showTitle": false,
     "title": ""
    }
   },
   "source": [
    "At that point the segment has been created, but it does not mean it will get populated in realtime. If you've clicked in the UI on `Add all segments to schedule` it should be evaluated and populated eventually (up to 24 hours), but if you do not want to wait for that you can trigger a segmentation job on-demand just for this segment:"
   ]
  },
  {
   "cell_type": "code",
   "execution_count": 0,
   "metadata": {
    "application/vnd.databricks.v1+cell": {
     "cellMetadata": {
      "byteLimit": 2048000,
      "rowLimit": 10000
     },
     "inputWidgets": {},
     "nuid": "fa96e6fe-0976-48c7-bf7c-4a2087c4563b",
     "showTitle": false,
     "title": ""
    }
   },
   "outputs": [],
   "source": [
    "job_res = segment_conn.createJob([segment_id])\n",
    "job_id = job_res[\"id\"]\n",
    "job_id"
   ]
  },
  {
   "cell_type": "markdown",
   "metadata": {
    "application/vnd.databricks.v1+cell": {
     "cellMetadata": {},
     "inputWidgets": {},
     "nuid": "602f71d2-9746-4f3b-869e-ed58cb903bf7",
     "showTitle": false,
     "title": ""
    }
   },
   "source": [
    "This can still take a few minutes to run so we just keep checking the status and wait for the segmentation job to complete:"
   ]
  },
  {
   "cell_type": "code",
   "execution_count": 0,
   "metadata": {
    "application/vnd.databricks.v1+cell": {
     "cellMetadata": {
      "byteLimit": 2048000,
      "rowLimit": 10000
     },
     "inputWidgets": {},
     "nuid": "45fff8f5-8b74-4be2-bfd0-bc5fba42da8b",
     "showTitle": false,
     "title": ""
    }
   },
   "outputs": [],
   "source": [
    "import time\n",
    "\n",
    "finished = False\n",
    "while not finished:\n",
    "  job_info = segment_conn.getJob(job_id)\n",
    "  job_status = job_info[\"status\"]\n",
    "  if job_status in [\"SUCCEEDED\", \"FAILED\"]:\n",
    "    total_time = job_info[\"metrics\"][\"totalTime\"][\"totalTimeInMs\"] / 1000\n",
    "    qualified_profiles = job_info[\"metrics\"][\"segmentedProfileCounter\"][segment_id]\n",
    "    print(f\"Segmentation job completed in {total_time} secs with {qualified_profiles} profiles\")\n",
    "    break\n",
    "  print(f\"Job not yet finished, status is {job_status}\")\n",
    "  time.sleep(60)"
   ]
  },
  {
   "cell_type": "markdown",
   "metadata": {
    "application/vnd.databricks.v1+cell": {
     "cellMetadata": {},
     "inputWidgets": {},
     "nuid": "490cfc37-e9cc-4d03-828e-8d5421eb0908",
     "showTitle": false,
     "title": ""
    }
   },
   "source": [
    "After the segmentation job is complete for that segment, you should be able to see the population of your segment reflected accurately in the UI at the link below. In our example, based on the propensity interval we selected earlier, we can verify it matches the reach we expected from the 3-dimensional plot:"
   ]
  },
  {
   "cell_type": "code",
   "execution_count": 0,
   "metadata": {
    "application/vnd.databricks.v1+cell": {
     "cellMetadata": {},
     "inputWidgets": {},
     "nuid": "3292eee6-51da-498d-9602-d04aa230af1b",
     "showTitle": false,
     "title": ""
    }
   },
   "outputs": [],
   "source": [
    "segment_link = get_ui_link(tenant_id, \"segment/browse\", segment_id)\n",
    "print(f\"Segment ID {segment_id} available under {segment_link}\")"
   ]
  },
  {
   "cell_type": "markdown",
   "metadata": {
    "application/vnd.databricks.v1+cell": {
     "cellMetadata": {},
     "inputWidgets": {},
     "nuid": "9e93f630-587e-4c5b-9198-a707b58f95f1",
     "showTitle": false,
     "title": ""
    }
   },
   "source": [
    "![Segment](../media/CMLE-Notebooks-Week5-Segment.png)"
   ]
  },
  {
   "cell_type": "markdown",
   "metadata": {
    "application/vnd.databricks.v1+cell": {
     "cellMetadata": {},
     "inputWidgets": {},
     "nuid": "51621a02-1c78-4706-8dda-d450777429b3",
     "showTitle": false,
     "title": ""
    }
   },
   "source": [
    "## 2.2 Activating the Segment"
   ]
  },
  {
   "cell_type": "markdown",
   "metadata": {
    "application/vnd.databricks.v1+cell": {
     "cellMetadata": {},
     "inputWidgets": {},
     "nuid": "eeed64e0-9857-4f41-882c-6de7654398d4",
     "showTitle": false,
     "title": ""
    }
   },
   "source": [
    "Now we're ready to activate the segment and the profiles associated to it to a destination. For that step this is more easily done through the UI, and you can follow [this guide](https://experienceleague.adobe.com/docs/experience-platform/destinations/ui/activate/activate-batch-profile-destinations.html?lang=en) to go through the different steps needed for activation.\n",
    "\n",
    "You will need to choose a destination for it. You can use any pre-defined destination that you might already have setup, or if you need a dummy destination you can again use the Data Landing Zone to simply use it for validation purposes."
   ]
  }
 ],
 "metadata": {
  "application/vnd.databricks.v1+notebook": {
   "dashboards": [],
   "language": "python",
   "notebookMetadata": {
    "pythonIndentUnit": 2,
    "widgetLayout": [
     {
      "breakBefore": false,
      "name": "pqsHost",
      "width": 204
     },
     {
      "breakBefore": false,
      "name": "imsOrgId",
      "width": 204
     },
     {
      "breakBefore": false,
      "name": "sandboxName",
      "width": 204
     },
     {
      "breakBefore": false,
      "name": "sandboxId",
      "width": 204
     },
     {
      "breakBefore": false,
      "name": "clientId",
      "width": 204
     },
     {
      "breakBefore": false,
      "name": "clientSecret",
      "width": 204
     },
     {
      "breakBefore": false,
      "name": "privateKeyPath",
      "width": 204
     },
     {
      "breakBefore": false,
      "name": "techAccountId",
      "width": 204
     },
     {
      "breakBefore": false,
      "name": "pqsPort",
      "width": 204
     },
     {
      "breakBefore": false,
      "name": "pqsDB",
      "width": 204
     },
     {
      "breakBefore": false,
      "name": "pqsUser",
      "width": 204
     },
     {
      "breakBefore": false,
      "name": "pqsPass",
      "width": 204
     },
     {
      "breakBefore": false,
      "name": "datasetId",
      "width": 204
     }
    ]
   },
   "notebookName": "Week5Notebook",
   "notebookOrigID": 777158033538136,
   "widgets": {}
  },
  "kernelspec": {
   "display_name": "Python 3 (ipykernel)",
   "language": "python",
   "name": "python3"
  },
  "language_info": {
   "codemirror_mode": {
    "name": "ipython",
    "version": 3
   },
   "file_extension": ".py",
   "mimetype": "text/x-python",
   "name": "python",
   "nbconvert_exporter": "python",
   "pygments_lexer": "ipython3",
   "version": "3.9.6"
  }
 },
 "nbformat": 4,
 "nbformat_minor": 1
}
