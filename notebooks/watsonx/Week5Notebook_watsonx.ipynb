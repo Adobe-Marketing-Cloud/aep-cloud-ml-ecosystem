{
 "cells": [
  {
   "cell_type": "markdown",
   "metadata": {
    "collapsed": true,
    "id": "d01d67b6-3f76-479a-bffa-f36a8cdb7fdb"
   },
   "source": [
    "# Scope of Notebook"
   ]
  },
  {
   "cell_type": "markdown",
   "metadata": {
    "id": "de58882f20d147da80549945afaf88d0"
   },
   "source": [
    "The goal of this notebook is to use the propensity data that is now part of our profiles to create some segments for targeting high-value users, and to activate this audience to a 3rd party ad platform."
   ]
  },
  {
   "cell_type": "markdown",
   "metadata": {},
   "source": [
     "![EndToEndDesign](images/CMLE-Notebooks-Week5-Workflow-Watsonx.png)"
    ]
  },
  {
   "cell_type": "markdown",
   "metadata": {
    "id": "87524468941b4db08f1e9bb7bebe0fef"
   },
   "source": [
    "We'll go through several steps:\n",
    "\n",
    "    - Determining an appropriate propensity interval by analyzing the scoring output.\n",
    "    - Creating a segment based on the propensity scores.\n",
    "    - Activating that segment into a destination.\n"
   ]
  },
  {
   "cell_type": "markdown",
   "metadata": {
    "id": "b4c04ae6e88446eaba47622263ea6df5"
   },
   "source": [
    "# Setup"
   ]
  },
  {
   "cell_type": "markdown",
   "metadata": {
    "id": "adc4268c5967473f80261d318c8db750"
   },
   "source": [
    "This notebook requires some configuration data to properly authenticate to your Adobe Experience Platform instance. You should be able to find all the values required above by following the Setup section of the __README__.\n",
    "\n",
    "The next cell will be looking for your configuration file to fetch the values used throughout this notebook. See more details in the Setup section of the __README__ to understand how to create your configuration file.\n",
    "(NOTE: ensure the cluster type for this notebook is set to (Python 3.10 with Spark))"
   ]
  },
  {
   "cell_type": "code",
   "execution_count": 0,
   "metadata": {
    "id": "4c9b8856a96142eaaee47453271f9517"
   },
   "outputs": [],
   "source": [
    "from project_lib import Project\n",
    "from configparser import ConfigParser\n",
    "import io\n",
    "\n",
    "project = Project.access()\n",
    "config_file = project.get_file('config.ini')\n",
    "\n",
    "config = ConfigParser()\n",
    "config.read_string(config_file.read().decode('utf-8'))\n",
    "\n",
    "client_id = config.get(\"Authentication\", \"client_id\")\n",
    "client_secret = config.get(\"Authentication\", \"client_secret\")\n",
    "scopes = config.get(\"Authentication\", \"scopes\")\n",
    "ims_org_id = config.get(\"Platform\", \"ims_org_id\")\n",
    "sandbox_name = config.get(\"Platform\", \"sandbox_name\")\n",
    "environment = config.get(\"Platform\", \"environment\")\n",
    "dataset_id = config.get(\"Platform\", \"dataset_id\")\n",
    "featurized_dataset_id = config.get(\"Platform\", \"featurized_dataset_id\")\n",
    "scoring_dataset_id = config.get(\"Platform\", \"scoring_dataset_id\")\n",
    "\n",
    "export_path = config.get(\"Cloud\", \"export_path\")\n",
    "import_path = config.get(\"Cloud\", \"import_path\")\n",
    "data_format = config.get(\"Cloud\", \"data_format\")\n",
    "compression_type = config.get(\"Cloud\", \"compression_type\")\n",
    "model_name = config.get(\"Cloud\", \"model_name\")\n",
    "\n",
    "watson_username = config.get(\"Watsonx\", \"watson_username\")\n",
    "watson_apikey = config.get(\"Watsonx\", \"watson_apikey\")\n",
    "model_id = config.get(\"Watsonx\", \"model_id\")"
   ]
  },
  {
   "cell_type": "markdown",
   "metadata": {
    "id": "1f39cd97847d47f486863018badd9354"
   },
   "source": [
    "Some utility functions that will be used throughout this notebook:"
   ]
  },
  {
   "cell_type": "code",
   "execution_count": 0,
   "metadata": {
    "id": "6811f5931cfb40d78c4540780a7ffa72"
   },
   "outputs": [],
   "source": [
    "def get_ui_link(tenant_id, resource_type, resource_id):\n",
    "    if environment == \"prod\":\n",
    "        prefix = f\"https://experience.adobe.com\"\n",
    "    else:\n",
    "        prefix = f\"https://experience-{environment}.adobe.com\"\n",
    "    return f\"{prefix}/#/@{tenant_id}/sname:{sandbox_name}/platform/{resource_type}/{resource_id}\""
   ]
  },
  {
   "cell_type": "markdown",
   "metadata": {
    "id": "d705d253ac7c4107af9301dc6392289e"
   },
   "source": [
    "To ensure uniqueness of resources created as part of this notebook, we are using your system provisioned username to include in each of the resource titles to avoid conflicts, it is **recommended** to supply a more readable one so you could easily identify resources in AEP created by this notebook"
   ]
  },
  {
   "cell_type": "code",
   "execution_count": 0,
   "metadata": {
    "id": "bcafe1b603f44f2e97af265f4cffeefb"
   },
   "outputs": [
    {
     "name": "stdout",
     "output_type": "stream",
     "text": [
      "Username: mndymuqvx34peqwqz-ydi68gcdn1kj9ugzqs-towtum\n",
      "Unique ID: mndymuqvx34peqwqz_ydi68gcdn1kj9ugzqs_towtum\n"
     ]
    }
   ],
   "source": [
    "import re\n",
    "\n",
    "username=watson_username # supply your custom one ex: foo@bar.com\n",
    "unique_id = s = re.sub(\"[^0-9a-zA-Z]+\", \"_\", watson_username)\n",
    "\n",
    "print(f\"Username: {username}\")\n",
    "print(f\"Unique ID: {unique_id}\")"
   ]
  },
  {
   "cell_type": "markdown",
   "metadata": {
    "id": "ecbe8387fb2743a89dc1c289f4701ee4"
   },
   "source": [
    "Now lets init the APIClient in order to be able to interact with the platform."
   ]
  },
  {
   "cell_type": "code",
   "execution_count": 0,
   "metadata": {
    "id": "04cbce621cef497aa618a7da2f9811a0"
   },
   "outputs": [
    {
     "name": "stdout",
     "output_type": "stream",
     "text": [
      "Project ID: 506b7b7a-ecf6-454f-8931-6d1aab37044f\n"
     ]
    },
    {
     "data": {
      "text/plain": [
       "'SUCCESS'"
      ]
     },
     "execution_count": 0,
     "metadata": {},
     "output_type": "execute_result"
    }
   ],
   "source": [
    "from ibm_watsonx_ai import APIClient\n",
    "\n",
    "wml_credentials = {\n",
    "    \"instance_id\": \"openshift\",\n",
    "    \"version\": \"4.8\",\n",
    "    \"url\": \"https://cpd-cpd-instance.apps.p712zf6h.eastus2.aroapp.io\",\n",
    "    \"username\": watson_username,\n",
    "    \"apikey\": watson_apikey\n",
    "}\n",
    "\n",
    "project_id = project.get_metadata()['metadata']['guid']\n",
    "print(\"Project ID:\", project_id)    \n",
    "\n",
    "client = APIClient(wml_credentials)\n",
    "client.set.default_project(project_id)\n",
    "\n"
   ]
  },
  {
   "cell_type": "markdown",
   "metadata": {
    "id": "fe6dd47cd3854cbc8d08e028a0a6218e"
   },
   "source": [
    "Before we run anything, make sure to install the following required libraries for this notebook. They are all publicly available libraries and the latest version should work fine."
   ]
  },
  {
   "cell_type": "code",
   "execution_count": 0,
   "metadata": {
    "id": "35c512a9b8f546b59d1798bd216894e3"
   },
   "outputs": [
    {
     "name": "stdout",
     "output_type": "stream",
     "text": [
      "Collecting aepp\n",
      "  Downloading aepp-0.3.4.post2-py3-none-any.whl.metadata (4.3 kB)\n",
      "Requirement already satisfied: pandas in /opt/ibm/conda/miniconda3.10/lib/python3.10/site-packages (from aepp) (1.4.3)\n",
      "Requirement already satisfied: requests in /opt/ibm/conda/miniconda3.10/lib/python3.10/site-packages (from aepp) (2.31.0)\n",
      "Requirement already satisfied: PyJWT in /opt/ibm/conda/miniconda3.10/lib/python3.10/site-packages (from aepp) (2.4.0)\n",
      "Collecting pathlib2 (from aepp)\n",
      "  Downloading pathlib2-2.3.7.post1-py2.py3-none-any.whl.metadata (3.5 kB)\n",
      "Requirement already satisfied: tenacity in /opt/ibm/conda/miniconda3.10/lib/python3.10/site-packages (from aepp) (8.0.1)\n",
      "Requirement already satisfied: python-dateutil>=2.8.1 in /opt/ibm/conda/miniconda3.10/lib/python3.10/site-packages (from pandas->aepp) (2.8.2)\n",
      "Requirement already satisfied: pytz>=2020.1 in /opt/ibm/conda/miniconda3.10/lib/python3.10/site-packages (from pandas->aepp) (2022.7)\n",
      "Requirement already satisfied: numpy>=1.21.0 in /opt/ibm/conda/miniconda3.10/lib/python3.10/site-packages (from pandas->aepp) (1.23.5)\n",
      "Requirement already satisfied: six in /opt/ibm/conda/miniconda3.10/lib/python3.10/site-packages (from pathlib2->aepp) (1.16.0)\n",
      "Requirement already satisfied: cryptography>=3.3.1 in /opt/ibm/conda/miniconda3.10/lib/python3.10/site-packages (from PyJWT[crypto]->aepp) (42.0.5)\n",
      "Requirement already satisfied: charset-normalizer<4,>=2 in /opt/ibm/conda/miniconda3.10/lib/python3.10/site-packages (from requests->aepp) (2.0.4)\n",
      "Requirement already satisfied: idna<4,>=2.5 in /opt/ibm/conda/miniconda3.10/lib/python3.10/site-packages (from requests->aepp) (3.4)\n",
      "Requirement already satisfied: urllib3<3,>=1.21.1 in /opt/ibm/conda/miniconda3.10/lib/python3.10/site-packages (from requests->aepp) (1.26.18)\n",
      "Requirement already satisfied: certifi>=2017.4.17 in /opt/ibm/conda/miniconda3.10/lib/python3.10/site-packages (from requests->aepp) (2024.2.2)\n",
      "Requirement already satisfied: cffi>=1.12 in /opt/ibm/conda/miniconda3.10/lib/python3.10/site-packages (from cryptography>=3.3.1->PyJWT[crypto]->aepp) (1.15.1)\n",
      "Requirement already satisfied: pycparser in /opt/ibm/conda/miniconda3.10/lib/python3.10/site-packages (from cffi>=1.12->cryptography>=3.3.1->PyJWT[crypto]->aepp) (2.21)\n",
      "Downloading aepp-0.3.4.post2-py3-none-any.whl (169 kB)\n",
      "\u001b[2K   \u001b[90m━━━━━━━━━━━━━━━━━━━━━━━━━━━━━━━━━━━━━━━━\u001b[0m \u001b[32m169.5/169.5 kB\u001b[0m \u001b[31m1.8 MB/s\u001b[0m eta \u001b[36m0:00:00\u001b[0ma \u001b[36m0:00:01\u001b[0m\n",
      "\u001b[?25hDownloading pathlib2-2.3.7.post1-py2.py3-none-any.whl (18 kB)\n",
      "Installing collected packages: pathlib2, aepp\n",
      "Successfully installed aepp-0.3.4.post2 pathlib2-2.3.7.post1\n",
      "Collecting adlfs\n",
      "  Downloading adlfs-2024.4.1-py3-none-any.whl.metadata (7.6 kB)\n",
      "Requirement already satisfied: azure-core<2.0.0,>=1.23.1 in /opt/ibm/conda/miniconda3.10/lib/python3.10/site-packages (from adlfs) (1.26.3)\n",
      "Collecting azure-datalake-store<0.1,>=0.0.46 (from adlfs)\n",
      "  Downloading azure_datalake_store-0.0.53-py2.py3-none-any.whl.metadata (19 kB)\n",
      "Collecting azure-identity (from adlfs)\n",
      "  Downloading azure_identity-1.16.0-py3-none-any.whl.metadata (76 kB)\n",
      "\u001b[2K     \u001b[90m━━━━━━━━━━━━━━━━━━━━━━━━━━━━━━━━━━━━━━━━\u001b[0m \u001b[32m77.0/77.0 kB\u001b[0m \u001b[31m1.4 MB/s\u001b[0m eta \u001b[36m0:00:00\u001b[0ma \u001b[36m0:00:01\u001b[0m\n",
      "\u001b[?25hCollecting azure-storage-blob>=12.12.0 (from adlfs)\n",
      "  Downloading azure_storage_blob-12.20.0-py3-none-any.whl.metadata (26 kB)\n",
      "Requirement already satisfied: fsspec>=2023.12.0 in /opt/ibm/conda/miniconda3.10/lib/python3.10/site-packages (from adlfs) (2024.3.1)\n",
      "Requirement already satisfied: aiohttp>=3.7.0 in /opt/ibm/conda/miniconda3.10/lib/python3.10/site-packages (from adlfs) (3.9.3)\n",
      "Requirement already satisfied: aiosignal>=1.1.2 in /opt/ibm/conda/miniconda3.10/lib/python3.10/site-packages (from aiohttp>=3.7.0->adlfs) (1.2.0)\n",
      "Requirement already satisfied: attrs>=17.3.0 in /opt/ibm/conda/miniconda3.10/lib/python3.10/site-packages (from aiohttp>=3.7.0->adlfs) (23.1.0)\n",
      "Requirement already satisfied: frozenlist>=1.1.1 in /opt/ibm/conda/miniconda3.10/lib/python3.10/site-packages (from aiohttp>=3.7.0->adlfs) (1.3.3)\n",
      "Requirement already satisfied: multidict<7.0,>=4.5 in /opt/ibm/conda/miniconda3.10/lib/python3.10/site-packages (from aiohttp>=3.7.0->adlfs) (6.0.2)\n",
      "Requirement already satisfied: yarl<2.0,>=1.0 in /opt/ibm/conda/miniconda3.10/lib/python3.10/site-packages (from aiohttp>=3.7.0->adlfs) (1.8.1)\n",
      "Requirement already satisfied: async-timeout<5.0,>=4.0 in /opt/ibm/conda/miniconda3.10/lib/python3.10/site-packages (from aiohttp>=3.7.0->adlfs) (4.0.2)\n",
      "Requirement already satisfied: requests>=2.18.4 in /opt/ibm/conda/miniconda3.10/lib/python3.10/site-packages (from azure-core<2.0.0,>=1.23.1->adlfs) (2.31.0)\n",
      "Requirement already satisfied: six>=1.11.0 in /opt/ibm/conda/miniconda3.10/lib/python3.10/site-packages (from azure-core<2.0.0,>=1.23.1->adlfs) (1.16.0)\n",
      "Requirement already satisfied: typing-extensions>=4.0.1 in /opt/ibm/conda/miniconda3.10/lib/python3.10/site-packages (from azure-core<2.0.0,>=1.23.1->adlfs) (4.4.0)\n",
      "Requirement already satisfied: cffi in /opt/ibm/conda/miniconda3.10/lib/python3.10/site-packages (from azure-datalake-store<0.1,>=0.0.46->adlfs) (1.15.1)\n",
      "Collecting msal<2,>=1.16.0 (from azure-datalake-store<0.1,>=0.0.46->adlfs)\n",
      "  Downloading msal-1.28.0-py3-none-any.whl.metadata (11 kB)\n",
      "Collecting azure-core<2.0.0,>=1.23.1 (from adlfs)\n",
      "  Downloading azure_core-1.30.1-py3-none-any.whl.metadata (37 kB)\n",
      "Requirement already satisfied: cryptography>=2.1.4 in /opt/ibm/conda/miniconda3.10/lib/python3.10/site-packages (from azure-storage-blob>=12.12.0->adlfs) (42.0.5)\n",
      "Collecting typing-extensions>=4.0.1 (from azure-core<2.0.0,>=1.23.1->adlfs)\n",
      "  Downloading typing_extensions-4.11.0-py3-none-any.whl.metadata (3.0 kB)\n",
      "Collecting isodate>=0.6.1 (from azure-storage-blob>=12.12.0->adlfs)\n",
      "  Downloading isodate-0.6.1-py2.py3-none-any.whl.metadata (9.6 kB)\n",
      "Collecting msal-extensions>=0.3.0 (from azure-identity->adlfs)\n",
      "  Downloading msal_extensions-1.1.0-py3-none-any.whl.metadata (7.7 kB)\n",
      "Requirement already satisfied: pycparser in /opt/ibm/conda/miniconda3.10/lib/python3.10/site-packages (from cffi->azure-datalake-store<0.1,>=0.0.46->adlfs) (2.21)\n",
      "Requirement already satisfied: PyJWT<3,>=1.0.0 in /opt/ibm/conda/miniconda3.10/lib/python3.10/site-packages (from PyJWT[crypto]<3,>=1.0.0->msal<2,>=1.16.0->azure-datalake-store<0.1,>=0.0.46->adlfs) (2.4.0)\n",
      "Requirement already satisfied: packaging in /opt/ibm/conda/miniconda3.10/lib/python3.10/site-packages (from msal-extensions>=0.3.0->azure-identity->adlfs) (23.0)\n",
      "Collecting portalocker<3,>=1.0 (from msal-extensions>=0.3.0->azure-identity->adlfs)\n",
      "  Downloading portalocker-2.8.2-py3-none-any.whl.metadata (8.5 kB)\n",
      "Requirement already satisfied: charset-normalizer<4,>=2 in /opt/ibm/conda/miniconda3.10/lib/python3.10/site-packages (from requests>=2.18.4->azure-core<2.0.0,>=1.23.1->adlfs) (2.0.4)\n",
      "Requirement already satisfied: idna<4,>=2.5 in /opt/ibm/conda/miniconda3.10/lib/python3.10/site-packages (from requests>=2.18.4->azure-core<2.0.0,>=1.23.1->adlfs) (3.4)\n",
      "Requirement already satisfied: urllib3<3,>=1.21.1 in /opt/ibm/conda/miniconda3.10/lib/python3.10/site-packages (from requests>=2.18.4->azure-core<2.0.0,>=1.23.1->adlfs) (1.26.18)\n",
      "Requirement already satisfied: certifi>=2017.4.17 in /opt/ibm/conda/miniconda3.10/lib/python3.10/site-packages (from requests>=2.18.4->azure-core<2.0.0,>=1.23.1->adlfs) (2024.2.2)\n",
      "Downloading adlfs-2024.4.1-py3-none-any.whl (40 kB)\n",
      "\u001b[2K   \u001b[90m━━━━━━━━━━━━━━━━━━━━━━━━━━━━━━━━━━━━━━━━\u001b[0m \u001b[32m40.3/40.3 kB\u001b[0m \u001b[31m629.3 kB/s\u001b[0m eta \u001b[36m0:00:00\u001b[0ma \u001b[36m0:00:01\u001b[0m\n",
      "\u001b[?25hDownloading azure_datalake_store-0.0.53-py2.py3-none-any.whl (55 kB)\n",
      "\u001b[2K   \u001b[90m━━━━━━━━━━━━━━━━━━━━━━━━━━━━━━━━━━━━━━━━\u001b[0m \u001b[32m55.3/55.3 kB\u001b[0m \u001b[31m1.3 MB/s\u001b[0m eta \u001b[36m0:00:00\u001b[0meta \u001b[36m0:00:01\u001b[0m\n",
      "\u001b[?25hDownloading azure_storage_blob-12.20.0-py3-none-any.whl (392 kB)\n",
      "\u001b[2K   \u001b[90m━━━━━━━━━━━━━━━━━━━━━━━━━━━━━━━━━━━━━━━━\u001b[0m \u001b[32m392.2/392.2 kB\u001b[0m \u001b[31m6.4 MB/s\u001b[0m eta \u001b[36m0:00:00\u001b[0m:00:01\u001b[0m\n",
      "\u001b[?25hDownloading azure_core-1.30.1-py3-none-any.whl (193 kB)\n",
      "\u001b[2K   \u001b[90m━━━━━━━━━━━━━━━━━━━━━━━━━━━━━━━━━━━━━━━━\u001b[0m \u001b[32m193.4/193.4 kB\u001b[0m \u001b[31m4.1 MB/s\u001b[0m eta \u001b[36m0:00:00\u001b[0mta \u001b[36m0:00:01\u001b[0m\n",
      "\u001b[?25hDownloading azure_identity-1.16.0-py3-none-any.whl (166 kB)\n",
      "\u001b[2K   \u001b[90m━━━━━━━━━━━━━━━━━━━━━━━━━━━━━━━━━━━━━━━━\u001b[0m \u001b[32m166.1/166.1 kB\u001b[0m \u001b[31m2.6 MB/s\u001b[0m eta \u001b[36m0:00:00\u001b[0m:00:01\u001b[0m\n",
      "\u001b[?25hDownloading isodate-0.6.1-py2.py3-none-any.whl (41 kB)\n",
      "\u001b[2K   \u001b[90m━━━━━━━━━━━━━━━━━━━━━━━━━━━━━━━━━━━━━━━━\u001b[0m \u001b[32m41.7/41.7 kB\u001b[0m \u001b[31m845.7 kB/s\u001b[0m eta \u001b[36m0:00:00\u001b[0m0:01\u001b[0m\n",
      "\u001b[?25hDownloading msal-1.28.0-py3-none-any.whl (102 kB)\n",
      "\u001b[2K   \u001b[90m━━━━━━━━━━━━━━━━━━━━━━━━━━━━━━━━━━━━━━━━\u001b[0m \u001b[32m102.2/102.2 kB\u001b[0m \u001b[31m1.9 MB/s\u001b[0m eta \u001b[36m0:00:00\u001b[0mta \u001b[36m0:00:01\u001b[0m\n",
      "\u001b[?25hDownloading msal_extensions-1.1.0-py3-none-any.whl (19 kB)\n",
      "Downloading typing_extensions-4.11.0-py3-none-any.whl (34 kB)\n",
      "Downloading portalocker-2.8.2-py3-none-any.whl (17 kB)\n",
      "Installing collected packages: typing-extensions, portalocker, isodate, azure-core, azure-storage-blob, msal, msal-extensions, azure-datalake-store, azure-identity, adlfs\n",
      "  Attempting uninstall: typing-extensions\n",
      "    Found existing installation: typing_extensions 4.4.0\n",
      "    Uninstalling typing_extensions-4.4.0:\n",
      "      Successfully uninstalled typing_extensions-4.4.0\n",
      "  Attempting uninstall: azure-core\n",
      "    Found existing installation: azure-core 1.26.3\n",
      "    Uninstalling azure-core-1.26.3:\n",
      "      Successfully uninstalled azure-core-1.26.3\n",
      "Successfully installed adlfs-2024.4.1 azure-core-1.30.1 azure-datalake-store-0.0.53 azure-identity-1.16.0 azure-storage-blob-12.20.0 isodate-0.6.1 msal-1.28.0 msal-extensions-1.1.0 portalocker-2.8.2 typing-extensions-4.11.0\n",
      "Collecting s3fs\n",
      "  Downloading s3fs-2024.3.1-py3-none-any.whl.metadata (1.6 kB)\n",
      "Collecting aiobotocore<3.0.0,>=2.5.4 (from s3fs)\n",
      "  Downloading aiobotocore-2.12.3-py3-none-any.whl.metadata (21 kB)\n",
      "Requirement already satisfied: fsspec==2024.3.1 in /opt/ibm/conda/miniconda3.10/lib/python3.10/site-packages (from s3fs) (2024.3.1)\n",
      "Requirement already satisfied: aiohttp!=4.0.0a0,!=4.0.0a1 in /opt/ibm/conda/miniconda3.10/lib/python3.10/site-packages (from s3fs) (3.9.3)\n",
      "Collecting botocore<1.34.70,>=1.34.41 (from aiobotocore<3.0.0,>=2.5.4->s3fs)\n",
      "  Downloading botocore-1.34.69-py3-none-any.whl.metadata (5.7 kB)\n",
      "Requirement already satisfied: wrapt<2.0.0,>=1.10.10 in /opt/ibm/conda/miniconda3.10/lib/python3.10/site-packages (from aiobotocore<3.0.0,>=2.5.4->s3fs) (1.14.1)\n",
      "Collecting aioitertools<1.0.0,>=0.5.1 (from aiobotocore<3.0.0,>=2.5.4->s3fs)\n",
      "  Downloading aioitertools-0.11.0-py3-none-any.whl.metadata (3.3 kB)\n",
      "Requirement already satisfied: aiosignal>=1.1.2 in /opt/ibm/conda/miniconda3.10/lib/python3.10/site-packages (from aiohttp!=4.0.0a0,!=4.0.0a1->s3fs) (1.2.0)\n",
      "Requirement already satisfied: attrs>=17.3.0 in /opt/ibm/conda/miniconda3.10/lib/python3.10/site-packages (from aiohttp!=4.0.0a0,!=4.0.0a1->s3fs) (23.1.0)\n",
      "Requirement already satisfied: frozenlist>=1.1.1 in /opt/ibm/conda/miniconda3.10/lib/python3.10/site-packages (from aiohttp!=4.0.0a0,!=4.0.0a1->s3fs) (1.3.3)\n",
      "Requirement already satisfied: multidict<7.0,>=4.5 in /opt/ibm/conda/miniconda3.10/lib/python3.10/site-packages (from aiohttp!=4.0.0a0,!=4.0.0a1->s3fs) (6.0.2)\n",
      "Requirement already satisfied: yarl<2.0,>=1.0 in /opt/ibm/conda/miniconda3.10/lib/python3.10/site-packages (from aiohttp!=4.0.0a0,!=4.0.0a1->s3fs) (1.8.1)\n",
      "Requirement already satisfied: async-timeout<5.0,>=4.0 in /opt/ibm/conda/miniconda3.10/lib/python3.10/site-packages (from aiohttp!=4.0.0a0,!=4.0.0a1->s3fs) (4.0.2)\n",
      "Requirement already satisfied: jmespath<2.0.0,>=0.7.1 in /opt/ibm/conda/miniconda3.10/lib/python3.10/site-packages (from botocore<1.34.70,>=1.34.41->aiobotocore<3.0.0,>=2.5.4->s3fs) (0.10.0)\n",
      "Requirement already satisfied: python-dateutil<3.0.0,>=2.1 in /opt/ibm/conda/miniconda3.10/lib/python3.10/site-packages (from botocore<1.34.70,>=1.34.41->aiobotocore<3.0.0,>=2.5.4->s3fs) (2.8.2)\n",
      "Requirement already satisfied: urllib3!=2.2.0,<3,>=1.25.4 in /opt/ibm/conda/miniconda3.10/lib/python3.10/site-packages (from botocore<1.34.70,>=1.34.41->aiobotocore<3.0.0,>=2.5.4->s3fs) (1.26.18)\n",
      "Requirement already satisfied: idna>=2.0 in /opt/ibm/conda/miniconda3.10/lib/python3.10/site-packages (from yarl<2.0,>=1.0->aiohttp!=4.0.0a0,!=4.0.0a1->s3fs) (3.4)\n",
      "Requirement already satisfied: six>=1.5 in /opt/ibm/conda/miniconda3.10/lib/python3.10/site-packages (from python-dateutil<3.0.0,>=2.1->botocore<1.34.70,>=1.34.41->aiobotocore<3.0.0,>=2.5.4->s3fs) (1.16.0)\n",
      "Downloading s3fs-2024.3.1-py3-none-any.whl (29 kB)\n",
      "Downloading aiobotocore-2.12.3-py3-none-any.whl (76 kB)\n",
      "\u001b[2K   \u001b[90m━━━━━━━━━━━━━━━━━━━━━━━━━━━━━━━━━━━━━━━━\u001b[0m \u001b[32m76.5/76.5 kB\u001b[0m \u001b[31m1.7 MB/s\u001b[0m eta \u001b[36m0:00:00\u001b[0meta \u001b[36m0:00:01\u001b[0m\n",
      "\u001b[?25hDownloading aioitertools-0.11.0-py3-none-any.whl (23 kB)\n",
      "Downloading botocore-1.34.69-py3-none-any.whl (12.0 MB)\n",
      "\u001b[2K   \u001b[90m━━━━━━━━━━━━━━━━━━━━━━━━━━━━━━━━━━━━━━━━\u001b[0m \u001b[32m12.0/12.0 MB\u001b[0m \u001b[31m53.5 MB/s\u001b[0m eta \u001b[36m0:00:00\u001b[0m:00:01\u001b[0m00:01\u001b[0m\n",
      "\u001b[?25hInstalling collected packages: aioitertools, botocore, aiobotocore, s3fs\n",
      "  Attempting uninstall: botocore\n",
      "    Found existing installation: botocore 1.27.59\n",
      "    Uninstalling botocore-1.27.59:\n",
      "      Successfully uninstalled botocore-1.27.59\n",
      "\u001b[31mERROR: pip's dependency resolver does not currently take into account all the packages that are installed. This behaviour is the source of the following dependency conflicts.\n",
      "boto3 1.24.28 requires botocore<1.28.0,>=1.27.28, but you have botocore 1.34.69 which is incompatible.\u001b[0m\u001b[31m\n",
      "\u001b[0mSuccessfully installed aiobotocore-2.12.3 aioitertools-0.11.0 botocore-1.34.69 s3fs-2024.3.1\n",
      "Requirement already satisfied: fsspec in /opt/ibm/conda/miniconda3.10/lib/python3.10/site-packages (2024.3.1)\n"
     ]
    }
   ],
   "source": [
    "!pip install aepp\n",
    "!pip install adlfs\n",
    "!pip install s3fs\n",
    "!pip install fsspec"
   ]
  },
  {
   "cell_type": "markdown",
   "metadata": {
    "id": "e78401f3499046548e0a3a7855a70727"
   },
   "source": [
    "We'll be using the [aepp Python library](https://github.com/pitchmuc/aepp) here to interact with AEP APIs and create a schema and dataset suitable for adding our synthetic data further down the line. This library simply provides a programmatic interface around the REST APIs, but all these steps could be completed similarly using the raw APIs directly or even in the UI. For more information on the underlying APIs please see the [API reference guide](https://developer.adobe.com/experience-platform-apis/).\n",
    "\n",
    "Before any calls can take place, we need to configure the library and setup authentication credentials. For this you'll need the following piece of information. For information about how you can get these, please refer to the Setup section of the Readme:\n",
    "\n",
    "    - Client ID\n",
    "    - Client secret"
   ]
  },
  {
   "cell_type": "code",
   "execution_count": 0,
   "metadata": {
    "id": "071cf026ee4f44c88264825a68b2f0fa"
   },
   "outputs": [],
   "source": [
    "import aepp\n",
    "\n",
    "aepp.configure(\n",
    "  environment=environment,\n",
    "  sandbox=sandbox_name,\n",
    "  org_id=ims_org_id,\n",
    "  secret=client_secret,\n",
    "  scopes=scopes,\n",
    "  client_id=client_id\n",
    ")"
   ]
  },
  {
   "cell_type": "markdown",
   "metadata": {
    "id": "694ab8e2de484e19a9c6cac4c948ea86"
   },
   "source": [
    "# 1. Creating a Segment to Target Users based on Propensities"
   ]
  },
  {
   "cell_type": "markdown",
   "metadata": {
    "id": "cee7dc78ba5b4ded85f9f5efce4c21ff"
   },
   "source": [
    "Because the propensity data is already in the Unified Profile, we can now create a segment to target people based on propensities. But it's not immediately obvious what a good value for the upper and lower bound of our target audience should be, so we need to look at the scoring data a bit to understand it better."
   ]
  },
  {
   "cell_type": "markdown",
   "metadata": {
    "id": "42d2c45eb7e64532ae8b42cad637b255"
   },
   "source": [
    "## 1.1 Reading the scored data"
   ]
  },
  {
   "cell_type": "markdown",
   "metadata": {
    "id": "6d3ec3e4f3944ddd83844f892a1d710a"
   },
   "source": [
    "To that end we need to read the output of the scoring data that we wrote to the Data Landing Zone previously. We use the regular container `dlz-user-container` since this is where we dropped off the data previously."
   ]
  },
  {
   "cell_type": "code",
   "execution_count": 0,
   "metadata": {
    "id": "c105315823244db29829664c1067c450"
   },
   "outputs": [
    {
     "name": "stdout",
     "output_type": "stream",
     "text": [
      "dlz-user-container\n"
     ]
    }
   ],
   "source": [
    "import fsspec\n",
    "from aepp import flowservice\n",
    "from fsspec import AbstractFileSystem\n",
    "\n",
    "flow_conn = flowservice.FlowService()\n",
    "dlz_credentials = flow_conn.getLandingZoneCredential()\n",
    "\n",
    "def getDLZFSPath(credentials: dict):\n",
    "    if 'dlzProvider' in credentials.keys() and ['Amazon', 's3'] in credentials['dlzProvider']:\n",
    "        aws_credentials = {\n",
    "            'key' : credentials['credentials']['awsAccessKeyId'],\n",
    "            'secret' : credentials['credentials']['awsSecretAccessKey'],\n",
    "            'token' : credentials['credentials']['awsSessionToken']\n",
    "        }\n",
    "        return fsspec.filesystem('s3', **aws_credentials), credentials['dlzPath']['bucketName']\n",
    "    else:\n",
    "        abs_credentials = {\n",
    "            'account_name' : credentials['storageAccountName'],\n",
    "            'sas_token' : credentials['SASToken']\n",
    "        }\n",
    "        return fsspec.filesystem('abfss', **abs_credentials), credentials['containerName']\n",
    "\n",
    "fs, dlzfs_path = getDLZFSPath(dlz_credentials)\n",
    "print(dlzfs_path)"
   ]
  },
  {
   "cell_type": "code",
   "execution_count": 0,
   "metadata": {
    "id": "0f56cc458d0d42199cb13a0fdb94cdc4"
   },
   "outputs": [
    {
     "name": "stdout",
     "output_type": "stream",
     "text": [
      "Using featurized data export time of 20240509153003\n"
     ]
    }
   ],
   "source": [
    "def get_export_time(fs: AbstractFileSystem, container_name: str, base_path: str, dataset_id: str):\n",
    "  featurized_data_base_path = f\"{container_name}/{base_path}/{dataset_id}\"\n",
    "  featurized_data_export_paths = fs.ls(featurized_data_base_path)\n",
    "  \n",
    "  if len(featurized_data_export_paths) == 0:\n",
    "    raise Exception(f\"Found no exports for featurized data from dataset ID {dataset_id} under path {featurized_data_base_path}\")\n",
    "  elif len(featurized_data_export_paths) > 1:\n",
    "    print(f\"Found {len(featurized_data_export_paths)} exports from dataset dataset ID {dataset_id} under path {featurized_data_base_path}, using most recent one\")\n",
    "  \n",
    "  featurized_data_export_path = featurized_data_export_paths[-1]\n",
    "  featurized_data_export_time = featurized_data_export_path.strip().split(\"/\")[-1].split(\"=\")[-1]\n",
    "  return featurized_data_export_time\n",
    "\n",
    "export_time = get_export_time(fs, dlzfs_path, import_path, scoring_dataset_id)\n",
    "print(f\"Using featurized data export time of {export_time}\")\n"
   ]
  },
  {
   "cell_type": "markdown",
   "metadata": {
    "id": "5b6f6f2c64f34b8081dd2b5695d233dd"
   },
   "source": [
    "\n",
    "\n",
    "At that point we're ready to read this data. We're using Spark since it could be pretty large as we're not doing any sampling. Based on the provisioned account Landing Zone could be either configured to use **azure** or **aws**, in case of azure following properties will be used to authenticate using SAS:\n",
    "\n",
    "    - `fs.azure.account.auth.type.$ACCOUNT.dfs.core.windows.net` should be set to `SAS`.\n",
    "    - `fs.azure.sas.token.provider.type.$ACCOUNT.dfs.core.windows.net` should be set to `org.apache.hadoop.fs.azurebfs.sas.FixedSASTokenProvider`.\n",
    "    - `fs.azure.sas.fixed.token.$ACCOUNT.dfs.core.windows.net` should be set to the `SAS token` retrieved earlier.\n",
    "\n",
    "in case of aws following properties will be used to access data stored in s3:\n",
    "\n",
    "    - `fs.s3a.access.key` and `spark.hadoop.fs.s3a.access.key` should be the `s3 access key`\n",
    "    - `fs.s3a.secret.key` and spark.hadoop.fs.s3a.secret.key should be the `s3 secret`\n",
    "    - `fs.s3a.session.token` and spark.hadoop.fs.s3a.session.token should be set to `s3 session token`\n",
    "    - `fs.s3a.aws.credentials.provider` and `spark.hadoop.fs.s3a.aws.credentials.provider` should be set to `org.apache.hadoop.fs.s3a.TemporaryAWSCredentialsProvider`\n",
    "    - `fs.s3.impl` and `spark.hadoop.fs.s3.impl` should be set to `org.apache.hadoop.fs.s3a.S3AFileSystem`\n",
    "\n",
    "The above properties are calculated based on the landing zone credentials, following util method will set these up. Let's put that in practice and create a Spark dataframe containing the entire featurized data:\n"
   ]
  },
  {
   "cell_type": "code",
   "execution_count": 0,
   "metadata": {
    "id": "7cc594517cac4c36831d7fd81fc7dca9"
   },
   "outputs": [
    {
     "name": "stdout",
     "output_type": "stream",
     "text": [
      "root\n",
      " |-- userId: string (nullable = true)\n",
      " |-- max_prediction: string (nullable = true)\n",
      "\n"
     ]
    }
   ],
   "source": [
    "def configureSparkSessionAndGetPath(credentials):\n",
    "    if 'dlzProvider' in credentials.keys() and ['Amazon', 's3'] in credentials['dlzProvider']:\n",
    "        aws_key = credentials['credentials']['awsAccessKeyId']\n",
    "        aws_secret = credentials['credentials']['awsSecretAccessKey']\n",
    "        aws_token = credentials['credentials']['awsSessionToken']\n",
    "        aws_buket = credentials['dlzPath']['bucketName']\n",
    "        dlz_folder = credentials['dlzPath']['dlzFolder']\n",
    "        spark.conf.set(\"fs.s3a.access.key\", aws_key)\n",
    "        spark.conf.set(\"fs.s3a.secret.key\", aws_secret)\n",
    "        spark.conf.set(\"fs.s3a.session.token\", aws_token)\n",
    "        spark.conf.set(\"fs.s3a.aws.credentials.provider\", \"org.apache.hadoop.fs.s3a.TemporaryAWSCredentialsProvider\")\n",
    "        spark.conf.set(\"fs.s3.impl\", \"org.apache.hadoop.fs.s3a.S3AFileSystem\")\n",
    "        spark.conf.set(\"spark.hadoop.fs.s3.impl\", \"org.apache.hadoop.fs.s3a.S3AFileSystem\")\n",
    "        spark.conf.set(\"spark.hadoop.fs.s3a.aws.credentials.provider\", \"org.apache.hadoop.fs.s3a.TemporaryAWSCredentialsProvider\")\n",
    "        spark.conf.set(\"spark.hadoop.fs.s3a.access.key\", aws_key)\n",
    "        spark.conf.set(\"spark.hadoop.fs.s3a.secret.key\", aws_secret)\n",
    "        spark.conf.set(\"fs.s3a.session.token\", aws_token)\n",
    "        return f\"s3a://${aws_buket}/{dlz_folder}/\"\n",
    "    else:\n",
    "        dlz_storage_account = credentials['storageAccountName']\n",
    "        dlz_sas_token = credentials['SASToken']\n",
    "        dlz_container = credentials['containerName']\n",
    "        spark.conf.set(f\"fs.azure.account.auth.type.{dlz_storage_account}.dfs.core.windows.net\", \"SAS\")\n",
    "        spark.conf.set(f\"fs.azure.sas.token.provider.type.{dlz_storage_account}.dfs.core.windows.net\", \"org.apache.hadoop.fs.azurebfs.sas.FixedSASTokenProvider\")\n",
    "        spark.conf.set(f\"fs.azure.sas.fixed.token.{dlz_storage_account}.dfs.core.windows.net\", dlz_sas_token)\n",
    "        return f\"abfss://{dlz_container}@{dlz_storage_account}.dfs.core.windows.net/\"\n",
    "\n",
    "dlz_path = configureSparkSessionAndGetPath(dlz_credentials)\n",
    "\n",
    "input_path = f\"{dlz_path}{import_path}/{scoring_dataset_id}/exportTime={export_time}/\"\n",
    "\n",
    "df = spark.read.format(\"csv\").option(\"header\", \"true\").load(input_path)\n",
    "df.printSchema()\n",
    "\n"
   ]
  },
  {
   "cell_type": "markdown",
   "metadata": {
    "id": "c3396c3f480c48f9a861ea47b0b7e96f"
   },
   "source": [
    "We can verify it matches what we had written out in fourth weekly assignment:"
   ]
  },
  {
   "cell_type": "code",
   "execution_count": 0,
   "metadata": {
    "id": "2337afaf21474ee28ab5c620475fe455"
   },
   "outputs": [
    {
     "data": {
      "text/plain": [
       "100000"
      ]
     },
     "execution_count": 0,
     "metadata": {},
     "output_type": "execute_result"
    }
   ],
   "source": [
    "df.count()"
   ]
  },
  {
   "cell_type": "markdown",
   "metadata": {
    "id": "36da46f76b4341bfa0a0090265d0bff5"
   },
   "source": [
    "\n",
    "And also do a sanity check on the data to make sure it looks good:\n"
   ]
  },
  {
   "cell_type": "code",
   "execution_count": 0,
   "metadata": {
    "id": "cc022a49916e42ad8a1c423598cbf947"
   },
   "outputs": [
    {
     "name": "stdout",
     "output_type": "stream",
     "text": [
      "+--------------------+--------------+\n",
      "|              userId|max_prediction|\n",
      "+--------------------+--------------+\n",
      "|72725900386185191...|    0.37270755|\n",
      "|59364352923927343...|   0.026309868|\n",
      "|87592510713462632...|   0.003964806|\n",
      "|22026932806196925...|   0.008051798|\n",
      "|27040490599369997...|   0.020963443|\n",
      "|21731218032829838...|   0.012924602|\n",
      "|91178172822455341...|     0.9152621|\n",
      "|43474115065588286...|    0.32366017|\n",
      "|38040543354412011...|    0.80780375|\n",
      "|15902608369025662...|   0.026872324|\n",
      "|15392325056076882...|    0.86921185|\n",
      "|44107084534824625...|   0.035695758|\n",
      "|77448485810623538...|       0.90284|\n",
      "|47862965208734843...|     0.7465741|\n",
      "|22038353261823921...|    0.83622617|\n",
      "|73342859756063641...|  0.0056958226|\n",
      "|48248380793037744...|    0.03995956|\n",
      "|87292364327076445...|    0.54598314|\n",
      "|59469992713770019...|    0.16913667|\n",
      "|87814673266590141...|    0.01690403|\n",
      "+--------------------+--------------+\n",
      "only showing top 20 rows\n",
      "\n"
     ]
    }
   ],
   "source": [
    "df.show()"
   ]
  },
  {
   "cell_type": "code",
   "execution_count": 0,
   "metadata": {
    "id": "3d8e763983dd45dc9cfe9318f9bc48cd"
   },
   "outputs": [],
   "source": [
    "df = df.fillna(0)"
   ]
  },
  {
   "cell_type": "markdown",
   "metadata": {
    "id": "919fd7b96baf4613a9a17d05b75d6b40"
   },
   "source": [
    "## 1.2 Figuring out the right threshold via a propensity-reach graph\n",
    "\n",
    "In order to determine a suitable interval of propensities for targeting, we need to understand the distribution of the propensity scores across all our profiles. There's a few different ways we can digest that information, but the very first step is to create a histogram with N bins. Because we may have scored a lot of profiles we do this computation via Spark's histogram_numeric function to make sure it is distributed.\n"
   ]
  },
  {
   "cell_type": "code",
   "execution_count": 0,
   "metadata": {
    "id": "5746fe0cfb274818932daf62a1a5c414"
   },
   "outputs": [
    {
     "name": "stdout",
     "output_type": "stream",
     "text": [
      "root\n",
      " |-- propensity_bucket: double (nullable = true)\n",
      " |-- reach: double (nullable = true)\n",
      "\n"
     ]
    },
    {
     "data": {
      "text/plain": [
       "DataFrame[propensity_bucket: double, reach: double]"
      ]
     },
     "metadata": {},
     "output_type": "display_data"
    }
   ],
   "source": [
    "num_buckets = 20\n",
    "df_histogram = df \\\n",
    "    .selectExpr(f\"explode(histogram_numeric(max_prediction, {num_buckets})) as histogram\") \\\n",
    "    .selectExpr(\"round(histogram.x, 2) as propensity_bucket\", \"histogram.y as reach\")\n",
    "df_histogram.printSchema()\n",
    "display(df_histogram)"
   ]
  },
  {
   "cell_type": "markdown",
   "metadata": {
    "id": "3d25c94909bc4d4c885ea0ea8f84f438"
   },
   "source": [
    "Now that we have a histogram it should only be a few rows of data, with each row being a bin, so we can just convert it to a `pandas` dataframe to bring it back locally."
   ]
  },
  {
   "cell_type": "code",
   "execution_count": 0,
   "metadata": {
    "id": "70718e9bdf224d5da1c8a532bf5b76c8"
   },
   "outputs": [
    {
     "data": {
      "text/html": [
       "<div>\n",
       "<style scoped>\n",
       "    .dataframe tbody tr th:only-of-type {\n",
       "        vertical-align: middle;\n",
       "    }\n",
       "\n",
       "    .dataframe tbody tr th {\n",
       "        vertical-align: top;\n",
       "    }\n",
       "\n",
       "    .dataframe thead th {\n",
       "        text-align: right;\n",
       "    }\n",
       "</style>\n",
       "<table border=\"1\" class=\"dataframe\">\n",
       "  <thead>\n",
       "    <tr style=\"text-align: right;\">\n",
       "      <th></th>\n",
       "      <th>propensity_bucket</th>\n",
       "      <th>reach</th>\n",
       "    </tr>\n",
       "  </thead>\n",
       "  <tbody>\n",
       "    <tr>\n",
       "      <th>0</th>\n",
       "      <td>0.02</td>\n",
       "      <td>36718.0</td>\n",
       "    </tr>\n",
       "    <tr>\n",
       "      <th>1</th>\n",
       "      <td>0.06</td>\n",
       "      <td>4043.0</td>\n",
       "    </tr>\n",
       "    <tr>\n",
       "      <th>2</th>\n",
       "      <td>0.13</td>\n",
       "      <td>1589.0</td>\n",
       "    </tr>\n",
       "    <tr>\n",
       "      <th>3</th>\n",
       "      <td>0.19</td>\n",
       "      <td>1077.0</td>\n",
       "    </tr>\n",
       "    <tr>\n",
       "      <th>4</th>\n",
       "      <td>0.25</td>\n",
       "      <td>1431.0</td>\n",
       "    </tr>\n",
       "  </tbody>\n",
       "</table>\n",
       "</div>"
      ],
      "text/plain": [
       "   propensity_bucket    reach\n",
       "0               0.02  36718.0\n",
       "1               0.06   4043.0\n",
       "2               0.13   1589.0\n",
       "3               0.19   1077.0\n",
       "4               0.25   1431.0"
      ]
     },
     "execution_count": 0,
     "metadata": {},
     "output_type": "execute_result"
    }
   ],
   "source": [
    "df_graph = df_histogram.toPandas()\n",
    "df_graph.head()"
   ]
  },
  {
   "cell_type": "markdown",
   "metadata": {
    "id": "99d41cda32194fc299eb25a8eb253644"
   },
   "source": [
    "We can just plot the histogram as-is, and each point will show us how many profiles are in that particular propensity bin."
   ]
  },
  {
   "cell_type": "code",
   "execution_count": 0,
   "metadata": {
    "id": "292689947a7e444789ebbecad44f97c2"
   },
   "outputs": [
    {
     "data": {
      "text/plain": [
       "<Axes: title={'center': 'Number of profiles at a propensity bucket'}, xlabel='propensity_bucket'>"
      ]
     },
     "execution_count": 0,
     "metadata": {},
     "output_type": "execute_result"
    },
    {
     "data": {
      "image/png": "[encoded data removed]",
      "text/plain": [
       "<Figure size 640x480 with 1 Axes>"
      ]
     },
     "metadata": {},
     "output_type": "display_data"
    }
   ],
   "source": [
    "df_graph.plot(\n",
    "  x=\"propensity_bucket\",\n",
    "  y=\"reach\",\n",
    "  title=\"Number of profiles at a propensity bucket\"\n",
    ")"
   ]
  },
  {
   "cell_type": "markdown",
   "metadata": {
    "id": "cc39326eb5d14cedb270aff6c93910f3"
   },
   "source": [
    "This is still not quite what we want, because typically we'll want to target profiles who have a propensity either above or below a particular threshold. We can get that by computing the `cumulative` sum using two different methods:\n",
    "\n",
    "    If we do the cumulative sum from the `smallest bucket to the largest bucket` (\"left to right\"), then any point in the resulting graph shows us the reach if I was to target all profiles with a propensity below a particular threshold.\n",
    "    If we do the cumulative sum from the `largest bucket to the smallest bucket` (\"right to left\"), then any point in the resulting graph shows us the reach if I was to target all profiles with a propensity above a particular threshold.\n",
    "\n"
   ]
  },
  {
   "cell_type": "code",
   "execution_count": 0,
   "metadata": {
    "id": "61ea879470424184b4d8af3ef0d320eb"
   },
   "outputs": [
    {
     "data": {
      "text/html": [
       "<div>\n",
       "<style scoped>\n",
       "    .dataframe tbody tr th:only-of-type {\n",
       "        vertical-align: middle;\n",
       "    }\n",
       "\n",
       "    .dataframe tbody tr th {\n",
       "        vertical-align: top;\n",
       "    }\n",
       "\n",
       "    .dataframe thead th {\n",
       "        text-align: right;\n",
       "    }\n",
       "</style>\n",
       "<table border=\"1\" class=\"dataframe\">\n",
       "  <thead>\n",
       "    <tr style=\"text-align: right;\">\n",
       "      <th></th>\n",
       "      <th>propensity_bucket</th>\n",
       "      <th>reach</th>\n",
       "      <th>reach_inferior_or_equal</th>\n",
       "      <th>reach_superior_or_equal</th>\n",
       "      <th>reach_inferior</th>\n",
       "      <th>reach_superior</th>\n",
       "    </tr>\n",
       "  </thead>\n",
       "  <tbody>\n",
       "    <tr>\n",
       "      <th>0</th>\n",
       "      <td>0.02</td>\n",
       "      <td>36718.0</td>\n",
       "      <td>36718.0</td>\n",
       "      <td>100000.0</td>\n",
       "      <td>NaN</td>\n",
       "      <td>63282.0</td>\n",
       "    </tr>\n",
       "    <tr>\n",
       "      <th>1</th>\n",
       "      <td>0.06</td>\n",
       "      <td>4043.0</td>\n",
       "      <td>40761.0</td>\n",
       "      <td>63282.0</td>\n",
       "      <td>36718.0</td>\n",
       "      <td>59239.0</td>\n",
       "    </tr>\n",
       "    <tr>\n",
       "      <th>2</th>\n",
       "      <td>0.13</td>\n",
       "      <td>1589.0</td>\n",
       "      <td>42350.0</td>\n",
       "      <td>59239.0</td>\n",
       "      <td>40761.0</td>\n",
       "      <td>57650.0</td>\n",
       "    </tr>\n",
       "    <tr>\n",
       "      <th>3</th>\n",
       "      <td>0.19</td>\n",
       "      <td>1077.0</td>\n",
       "      <td>43427.0</td>\n",
       "      <td>57650.0</td>\n",
       "      <td>42350.0</td>\n",
       "      <td>56573.0</td>\n",
       "    </tr>\n",
       "    <tr>\n",
       "      <th>4</th>\n",
       "      <td>0.25</td>\n",
       "      <td>1431.0</td>\n",
       "      <td>44858.0</td>\n",
       "      <td>56573.0</td>\n",
       "      <td>43427.0</td>\n",
       "      <td>55142.0</td>\n",
       "    </tr>\n",
       "  </tbody>\n",
       "</table>\n",
       "</div>"
      ],
      "text/plain": [
       "   propensity_bucket    reach  reach_inferior_or_equal  \\\n",
       "0               0.02  36718.0                  36718.0   \n",
       "1               0.06   4043.0                  40761.0   \n",
       "2               0.13   1589.0                  42350.0   \n",
       "3               0.19   1077.0                  43427.0   \n",
       "4               0.25   1431.0                  44858.0   \n",
       "\n",
       "   reach_superior_or_equal  reach_inferior  reach_superior  \n",
       "0                 100000.0             NaN         63282.0  \n",
       "1                  63282.0         36718.0         59239.0  \n",
       "2                  59239.0         40761.0         57650.0  \n",
       "3                  57650.0         42350.0         56573.0  \n",
       "4                  56573.0         43427.0         55142.0  "
      ]
     },
     "execution_count": 0,
     "metadata": {},
     "output_type": "execute_result"
    }
   ],
   "source": [
    "df_graph[\"reach_inferior_or_equal\"] = df_graph[\"reach\"].cumsum()\n",
    "df_graph[\"reach_superior_or_equal\"] = df_graph.loc[::-1, \"reach\"].cumsum()[::-1]\n",
    "df_graph[\"reach_inferior\"] = df_graph[\"reach_inferior_or_equal\"].shift(1)\n",
    "df_graph[\"reach_superior\"] = df_graph[\"reach_superior_or_equal\"].shift(-1)\n",
    "df_graph.head()"
   ]
  },
  {
   "cell_type": "code",
   "execution_count": 0,
   "metadata": {
    "id": "5d086c71bb464c9b8d5ba52be7e9f22f"
   },
   "outputs": [
    {
     "data": {
      "text/plain": [
       "<Axes: title={'center': 'Reach below a propensity'}, xlabel='propensity_bucket'>"
      ]
     },
     "execution_count": 0,
     "metadata": {},
     "output_type": "execute_result"
    },
    {
     "data": {
      "image/png": "[encoded data removed]",
      "text/plain": [
       "<Figure size 640x480 with 1 Axes>"
      ]
     },
     "metadata": {},
     "output_type": "display_data"
    },
    {
     "data": {
      "image/png": "[encoded data removed]",
      "text/plain": [
       "<Figure size 640x480 with 1 Axes>"
      ]
     },
     "metadata": {},
     "output_type": "display_data"
    }
   ],
   "source": [
    "df_graph.plot(\n",
    "  x=\"propensity_bucket\",\n",
    "  y=\"reach_superior_or_equal\",\n",
    "  title=\"Reach above a propensity\"\n",
    ")\n",
    "df_graph.plot(\n",
    "  x=\"propensity_bucket\",\n",
    "  y=\"reach_inferior_or_equal\",\n",
    "  title=\"Reach below a propensity\"\n",
    ")\n"
   ]
  },
  {
   "cell_type": "markdown",
   "metadata": {
    "id": "27e5a144250c4d66bd32f006e0aad33a"
   },
   "source": [
    "\n",
    "\n",
    "These graphs are useful to help us define broad propensity-based segments where we only look at profiles with a propensity above or below a threshold, but that's still not enough to help us define a complete interval for our segment.\n",
    "\n",
    "For that we would ideally like to represent this as a 3-dimensional plot where:\n",
    "\n",
    "    - On the **X axis** we have the **lower bound** of the interval.\n",
    "    - On the **Y axis** we have the **upper bound** of the interval.\n",
    "    - On the **Z axis** you have the **reach** corresponding to that interval.\n",
    "\n",
    "To get there the first step is to create a function that can tell us the reach given a lower and upper bound:\n"
   ]
  },
  {
   "cell_type": "code",
   "execution_count": 0,
   "metadata": {
    "id": "e7d48181be5e484d81231bfd9f24169a"
   },
   "outputs": [
    {
     "data": {
      "text/html": [
       "<div>\n",
       "<style scoped>\n",
       "    .dataframe tbody tr th:only-of-type {\n",
       "        vertical-align: middle;\n",
       "    }\n",
       "\n",
       "    .dataframe tbody tr th {\n",
       "        vertical-align: top;\n",
       "    }\n",
       "\n",
       "    .dataframe thead th {\n",
       "        text-align: right;\n",
       "    }\n",
       "</style>\n",
       "<table border=\"1\" class=\"dataframe\">\n",
       "  <thead>\n",
       "    <tr style=\"text-align: right;\">\n",
       "      <th></th>\n",
       "      <th>reach</th>\n",
       "      <th>reach_inferior_or_equal</th>\n",
       "      <th>reach_superior_or_equal</th>\n",
       "      <th>reach_inferior</th>\n",
       "      <th>reach_superior</th>\n",
       "    </tr>\n",
       "    <tr>\n",
       "      <th>propensity_bucket</th>\n",
       "      <th></th>\n",
       "      <th></th>\n",
       "      <th></th>\n",
       "      <th></th>\n",
       "      <th></th>\n",
       "    </tr>\n",
       "  </thead>\n",
       "  <tbody>\n",
       "    <tr>\n",
       "      <th>0.02</th>\n",
       "      <td>36718.0</td>\n",
       "      <td>36718.0</td>\n",
       "      <td>100000.0</td>\n",
       "      <td>0.0</td>\n",
       "      <td>63282.0</td>\n",
       "    </tr>\n",
       "    <tr>\n",
       "      <th>0.06</th>\n",
       "      <td>4043.0</td>\n",
       "      <td>40761.0</td>\n",
       "      <td>63282.0</td>\n",
       "      <td>36718.0</td>\n",
       "      <td>59239.0</td>\n",
       "    </tr>\n",
       "    <tr>\n",
       "      <th>0.13</th>\n",
       "      <td>1589.0</td>\n",
       "      <td>42350.0</td>\n",
       "      <td>59239.0</td>\n",
       "      <td>40761.0</td>\n",
       "      <td>57650.0</td>\n",
       "    </tr>\n",
       "    <tr>\n",
       "      <th>0.19</th>\n",
       "      <td>1077.0</td>\n",
       "      <td>43427.0</td>\n",
       "      <td>57650.0</td>\n",
       "      <td>42350.0</td>\n",
       "      <td>56573.0</td>\n",
       "    </tr>\n",
       "    <tr>\n",
       "      <th>0.25</th>\n",
       "      <td>1431.0</td>\n",
       "      <td>44858.0</td>\n",
       "      <td>56573.0</td>\n",
       "      <td>43427.0</td>\n",
       "      <td>55142.0</td>\n",
       "    </tr>\n",
       "  </tbody>\n",
       "</table>\n",
       "</div>"
      ],
      "text/plain": [
       "                     reach  reach_inferior_or_equal  reach_superior_or_equal  \\\n",
       "propensity_bucket                                                              \n",
       "0.02               36718.0                  36718.0                 100000.0   \n",
       "0.06                4043.0                  40761.0                  63282.0   \n",
       "0.13                1589.0                  42350.0                  59239.0   \n",
       "0.19                1077.0                  43427.0                  57650.0   \n",
       "0.25                1431.0                  44858.0                  56573.0   \n",
       "\n",
       "                   reach_inferior  reach_superior  \n",
       "propensity_bucket                                  \n",
       "0.02                          0.0         63282.0  \n",
       "0.06                      36718.0         59239.0  \n",
       "0.13                      40761.0         57650.0  \n",
       "0.19                      42350.0         56573.0  \n",
       "0.25                      43427.0         55142.0  "
      ]
     },
     "execution_count": 0,
     "metadata": {},
     "output_type": "execute_result"
    }
   ],
   "source": [
    "df_indexed = df_graph.fillna(0).set_index(\"propensity_bucket\")\n",
    "df_indexed.head()"
   ]
  },
  {
   "cell_type": "code",
   "execution_count": 0,
   "metadata": {
    "id": "7f9dd7df8e0c4760b6adceaf2ddb2873"
   },
   "outputs": [
    {
     "data": {
      "text/plain": [
       "100000.0"
      ]
     },
     "execution_count": 0,
     "metadata": {},
     "output_type": "execute_result"
    }
   ],
   "source": [
    "def reach_between(df, propensity_from, propensity_to, total_pop):\n",
    "  if propensity_from > propensity_to:\n",
    "    return 0.\n",
    "  return total_pop - df.loc[propensity_from][\"reach_inferior\"] - df.loc[propensity_to][\"reach_superior\"]\n",
    "\n",
    "total_population = df_graph[\"reach\"].sum()\n",
    "total_population"
   ]
  },
  {
   "cell_type": "markdown",
   "metadata": {
    "id": "006ee90e16d349b2813dd61c35e32f3f"
   },
   "source": [
    "Now we can create a 2-dimensional array which will represent the reach for each of the bins of the interval. For that we simply iterate over all the bins in both dimensions, and pass it to our reach computation function."
   ]
  },
  {
   "cell_type": "code",
   "execution_count": 0,
   "metadata": {
    "id": "28163a03c9304ce8824f1d1f1a09cefb"
   },
   "outputs": [
    {
     "data": {
      "text/plain": [
       "(20, 20)"
      ]
     },
     "execution_count": 0,
     "metadata": {},
     "output_type": "execute_result"
    }
   ],
   "source": [
    "import numpy as np\n",
    "\n",
    "dim = len(df_indexed)\n",
    "\n",
    "z = np.zeros((dim, dim))\n",
    "z.shape"
   ]
  },
  {
   "cell_type": "code",
   "execution_count": 0,
   "metadata": {
    "id": "fd3a60fee5a143eb8dae723525e2dd32"
   },
   "outputs": [],
   "source": [
    "x = df_graph[\"propensity_bucket\"].values\n",
    "for index_from, propensity_from in enumerate(x):\n",
    "  for index_to, propensity_to in enumerate(x):\n",
    "    reach_x_y = reach_between(df_indexed, propensity_from, propensity_to, total_population)\n",
    "    z[index_from][index_to] = reach_x_y"
   ]
  },
  {
   "cell_type": "markdown",
   "metadata": {
    "id": "158c07268685443c84a1dd7bdd917215"
   },
   "source": [
    "Now we can make the 3-dimensional plot as a surface plot to visualize things easily in an interactive plot. We also want to generate the corresponding segment rule on the fly for each point, so for that we need to first get the tenant ID since the propensity XDM field was nested under the tenant ID."
   ]
  },
  {
   "cell_type": "code",
   "execution_count": 0,
   "metadata": {
    "id": "81f1a691284643d29db9020c62cdaf23"
   },
   "outputs": [
    {
     "data": {
      "text/plain": [
       "'cloudmlecosystem'"
      ]
     },
     "execution_count": 0,
     "metadata": {},
     "output_type": "execute_result"
    }
   ],
   "source": [
    "from aepp import schema\n",
    "\n",
    "schema_conn = schema.Schema()\n",
    "\n",
    "tenant_id = schema_conn.getTenantId()\n",
    "tenant_id"
   ]
  },
  {
   "cell_type": "code",
   "execution_count": null,
   "metadata": {
    "id": "701ad1e21046446287c23a669b86cdf3",
    "scrolled": false
   },
   "outputs": [],
   "source": [
    "import plotly.graph_objects as go\n",
    "\n",
    "titlecolor = 'black'\n",
    "bgcolor = 'white'\n",
    "\n",
    "layout = go.Layout(\n",
    "    autosize=False, width=1500, height=800,\n",
    "    title = 'Propensity-reach Segment Topology',\n",
    "    showlegend = True,\n",
    "    scene = dict(\n",
    "        xaxis_title_text = \"Propensity To\",\n",
    "        yaxis_title_text = \"Propensity From\",\n",
    "        zaxis_title_text = \"Reach\",\n",
    "        aspectmode='manual',\n",
    "        aspectratio=go.layout.scene.Aspectratio(\n",
    "            x=1, y=1, z=1)),\n",
    "    paper_bgcolor = bgcolor,\n",
    "    plot_bgcolor = bgcolor)\n",
    "\n",
    "trace = go.Surface(\n",
    "  x=x, \n",
    "  y=x, \n",
    "  z=z, \n",
    "  hovertemplate=f\"\"\"\n",
    "  Propensity From: %{{y}}<br>\n",
    "  Propensity To: %{{x}}<br>\n",
    "  Reach: %{{z}}<br>\n",
    "  Rule: _{tenant_id}.propensity >= %{{y}} and _{tenant_id}.propensity <= %{{x}}\n",
    "  \"\"\"\n",
    ")\n",
    "\n",
    "fig = go.Figure(data=[trace], layout=layout)\n",
    "\n",
    "fig.show()"
   ]
  },
  {
   "cell_type": "markdown",
   "metadata": {},
   "source": [
    "![sklearn_pipeline](images/3d_plot.png)"
   ]
  },
  {
   "cell_type": "markdown",
   "metadata": {
    "id": "c8f25bb2424649818a9cbd0539269838"
   },
   "source": [
    "# 2. Targeting via a Propensity Segment\n",
    "\n",
    "Now that we know the characteristics of the audience we want to target, the next and final step is to turn this into an actual audience, make sure it is populated, and activate it.\n"
   ]
  },
  {
   "cell_type": "markdown",
   "metadata": {
    "id": "8ee2d8c402b3449ab0f33231737334d5"
   },
   "source": [
    "## 2.1 Creating a Propensity Segment\n",
    "\n",
    "We've identified the upper and lower bound of interest in the previous 3-dimensional plot, so at that point we can copy/paste the corresponding segment rule and plug it into the cell below, so we can use this as the basis for our segment:"
   ]
  },
  {
   "cell_type": "code",
   "execution_count": 0,
   "metadata": {
    "id": "e050da453e4a4c3292e507f45ae45c3f"
   },
   "outputs": [],
   "source": [
    "segment_rule = f\"_{tenant_id}.propensity >= 0.19 and _{tenant_id}.propensity <= 0.92\""
   ]
  },
  {
   "cell_type": "code",
   "execution_count": 0,
   "metadata": {
    "id": "bdf11467c9284f0b95d9d3606d0f9add"
   },
   "outputs": [
    {
     "data": {
      "text/plain": [
       "'cc777687-76b2-4f82-aaad-cbff94fcc1c9'"
      ]
     },
     "execution_count": 0,
     "metadata": {},
     "output_type": "execute_result"
    }
   ],
   "source": [
    "from aepp import segmentation\n",
    "\n",
    "segment_conn = segmentation.Segmentation()\n",
    "\n",
    "segment_res = segment_conn.createSegment({\n",
    "  \"name\": f\"[CMLE][Week5] People with a moderate-to-high propensity to subscribe (created by {username})\",\n",
    "  \"profileInstanceId\": \"ups\",\n",
    "  \"description\": \"People who have a moderate-to-high propensity to subscribe\",\n",
    "  \"expression\": {\n",
    "      \"type\": \"PQL\",\n",
    "      \"format\": \"pql/text\",\n",
    "      \"value\": segment_rule\n",
    "  },\n",
    "  \"schema\": {\n",
    "      \"name\": \"_xdm.context.profile\"\n",
    "  },\n",
    "  \"payloadSchema\": \"string\",\n",
    "  \"ttlInDays\": 60\n",
    "})\n",
    "\n",
    "segment_id = segment_res[\"id\"]\n",
    "segment_id"
   ]
  },
  {
   "cell_type": "markdown",
   "metadata": {
    "id": "c1c0a9d62c13411087e47fa7031d8df5"
   },
   "source": [
    "At that point the segment has been created, but it does not mean it will get populated in realtime. If you've clicked in the UI on `Add all segments to schedule` it should be evaluated and populated eventually (up to 24 hours), but if you do not want to wait for that you can trigger a segmentation job on-demand just for this segment:"
   ]
  },
  {
   "cell_type": "code",
   "execution_count": 0,
   "metadata": {
    "id": "8eca3587fda843fa96ec41249c9aabda"
   },
   "outputs": [
    {
     "data": {
      "text/plain": [
       "'b8f11280-2f32-4cfc-adbf-c8f33585a5df'"
      ]
     },
     "execution_count": 0,
     "metadata": {},
     "output_type": "execute_result"
    }
   ],
   "source": [
    "job_res = segment_conn.createJob([segment_id])\n",
    "job_id = job_res[\"id\"]\n",
    "job_id"
   ]
  },
  {
   "cell_type": "markdown",
   "metadata": {
    "id": "6bdf1d1f0b304ca081d4e2e9379ee7cf"
   },
   "source": [
    "This can still take a few minutes to run so we just keep checking the status and wait for the segmentation job to complete:"
   ]
  },
  {
   "cell_type": "code",
   "execution_count": 0,
   "metadata": {
    "id": "7a6802c887f64a7582f858112cd6cc17"
   },
   "outputs": [
    {
     "name": "stdout",
     "output_type": "stream",
     "text": [
      "Job not yet finished, status is NEW\n",
      "Job not yet finished, status is QUEUED\n",
      "Job not yet finished, status is QUEUED\n",
      "Job not yet finished, status is QUEUED\n",
      "Job not yet finished, status is QUEUED\n",
      "Job not yet finished, status is QUEUED\n",
      "Job not yet finished, status is QUEUED\n",
      "Job not yet finished, status is QUEUED\n",
      "Job not yet finished, status is QUEUED\n",
      "Job not yet finished, status is QUEUED\n",
      "Job not yet finished, status is PROCESSING\n",
      "Job not yet finished, status is PROCESSING\n",
      "Job not yet finished, status is PROCESSING\n",
      "Job not yet finished, status is PROCESSING\n",
      "Job not yet finished, status is PROCESSING\n",
      "Job not yet finished, status is PROCESSING\n",
      "Job not yet finished, status is PROCESSING\n",
      "Job not yet finished, status is PROCESSING\n",
      "Job not yet finished, status is PROCESSING\n",
      "Job not yet finished, status is PROCESSING\n",
      "Job not yet finished, status is PROCESSING\n",
      "Job not yet finished, status is PROCESSING\n",
      "Job not yet finished, status is PROCESSING\n",
      "Segmentation job completed in 1339.801 secs with 23709 profiles\n"
     ]
    }
   ],
   "source": [
    "import time\n",
    "\n",
    "finished = False\n",
    "while not finished:\n",
    "  job_info = segment_conn.getJob(job_id)\n",
    "  job_status = job_info[\"status\"]\n",
    "  if job_status in [\"SUCCEEDED\", \"FAILED\"]:\n",
    "    total_time = job_info[\"metrics\"][\"totalTime\"][\"totalTimeInMs\"] / 1000\n",
    "    qualified_profiles = job_info[\"metrics\"][\"segmentedProfileCounter\"][segment_id]\n",
    "    print(f\"Segmentation job completed in {total_time} secs with {qualified_profiles} profiles\")\n",
    "    break\n",
    "  print(f\"Job not yet finished, status is {job_status}\")\n",
    "  time.sleep(60)\n"
   ]
  },
  {
   "cell_type": "markdown",
   "metadata": {
    "id": "d899c343555346b986a039d19699fc81"
   },
   "source": [
    "After the segmentation job is complete for that segment, you should be able to see the population of your segment reflected accurately in the UI at the link below. In our example, based on the propensity interval we selected earlier, we can verify it matches the reach we expected from the 3-dimensional plot:"
   ]
  },
  {
   "cell_type": "code",
   "execution_count": 0,
   "metadata": {
    "id": "091e3afde3c2488b82dc20bf9f3b73e4"
   },
   "outputs": [
    {
     "name": "stdout",
     "output_type": "stream",
     "text": [
      "Segment ID cc777687-76b2-4f82-aaad-cbff94fcc1c9 available under https://experience-stage.adobe.com/#/@cloudmlecosystem/sname:cmle-datarobot/platform/segment/browse/cc777687-76b2-4f82-aaad-cbff94fcc1c9\n"
     ]
    }
   ],
   "source": [
    "segment_link = get_ui_link(tenant_id, \"segment/browse\", segment_id)\n",
    "print(f\"Segment ID {segment_id} available under {segment_link}\")"
   ]
  },
  {
   "cell_type": "markdown",
   "metadata": {
    "id": "83281c7e1f6c42dd806785e8d158e612"
   },
   "source": [
    "## 2.2 Activating the Segment\n",
    "\n",
    "\n",
    "Now we're ready to activate the segment and the profiles associated to it to a destination. For that step this is more easily done through the UI, and you can follow [this guide](https://experienceleague.adobe.com/docs/experience-platform/destinations/ui/activate/activate-batch-profile-destinations.html?lang=en) to go through the different steps needed for activation.\n",
    "You will need to choose a destination for it. You can use any pre-defined destination that you might already have setup, or if you need a dummy destination you can again use the Data Landing Zone to simply use it for validation purposes."
   ]
  }
 ],
 "metadata": {
  "kernelspec": {
   "display_name": "Python 3 (ipykernel)",
   "language": "python",
   "name": "python3"
  },
  "language_info": {
   "codemirror_mode": {
    "name": "ipython",
    "version": 3
   },
   "file_extension": ".py",
   "mimetype": "text/x-python",
   "name": "python",
   "nbconvert_exporter": "python",
   "pygments_lexer": "ipython3",
   "version": "3.12.2"
  }
 },
 "nbformat": 4,
 "nbformat_minor": 1
}
